{
 "cells": [
  {
   "cell_type": "markdown",
   "id": "152d9244",
   "metadata": {
    "deletable": false,
    "editable": false
   },
   "source": [
    "# Assignment 3: project Module and Madison City Budget"
   ]
  },
  {
   "cell_type": "markdown",
   "id": "0bc4460c-fa71-4e0c-9618-2d22a7cf7298",
   "metadata": {
    "deletable": false,
    "editable": false,
    "slideshow": {
     "slide_type": ""
    },
    "tags": []
   },
   "source": [
    "## Your Information"
   ]
  },
  {
   "cell_type": "markdown",
   "id": "69d61ce4-6751-4204-a762-4743d65e7d76",
   "metadata": {
    "deletable": false,
    "editable": false,
    "slideshow": {
     "slide_type": ""
    },
    "tags": []
   },
   "source": [
    "At the start of each assignment, you will need to provide us your name and the name of the partner you worked with for this assignment (if you had one). Double click on the cell below or click once and hit enter to edit it. Replace \"First Last\" with your first name and last name. Replace \"None\" with the first and last name of your partner if you had one for this assignment."
   ]
  },
  {
   "cell_type": "markdown",
   "id": "367f56d7-b0dd-4970-bcb0-f6d79731cdc6",
   "metadata": {
    "deletable": false,
    "slideshow": {
     "slide_type": ""
    },
    "tags": []
   },
   "source": [
    "MY NAME: Hyokyung Kim\n",
    "\n",
    "PARTNER: None"
   ]
  },
  {
   "cell_type": "markdown",
   "id": "af522435-81fd-4ff0-ad1a-0f0282efacb9",
   "metadata": {
    "deletable": false,
    "editable": false,
    "slideshow": {
     "slide_type": ""
    },
    "tags": []
   },
   "source": [
    "## Imports"
   ]
  },
  {
   "cell_type": "markdown",
   "id": "c7830ef7-54b7-4aa8-9f7f-b9d286c355b6",
   "metadata": {
    "deletable": false,
    "editable": false,
    "slideshow": {
     "slide_type": ""
    },
    "tags": []
   },
   "source": [
    "Every project will begin with some import statements. It's crucial that you run the cell below, otherwise we will not be able to grade your code and provide feedback to you."
   ]
  },
  {
   "cell_type": "code",
   "execution_count": 6,
   "id": "cdb59841",
   "metadata": {
    "cell_type": "code",
    "deletable": false,
    "editable": true
   },
   "outputs": [],
   "source": [
    "# it is considered a good coding practice to place all import statements at the top of the notebook\n",
    "import os\n",
    "import student_grader\n",
    "student_grader.initialize(os.getcwd(), \"p3\")"
   ]
  },
  {
   "cell_type": "markdown",
   "id": "4b48fd01",
   "metadata": {
    "deletable": false,
    "editable": false
   },
   "source": [
    "## Lab portion"
   ]
  },
  {
   "cell_type": "markdown",
   "id": "130fe1ed",
   "metadata": {
    "deletable": false,
    "editable": false
   },
   "source": [
    "### Initialization"
   ]
  },
  {
   "cell_type": "markdown",
   "id": "1a596760-7eaf-4980-a818-55083d36e116",
   "metadata": {
    "deletable": false,
    "editable": false,
    "slideshow": {
     "slide_type": ""
    },
    "tags": []
   },
   "source": [
    "Because we have two separate `.csv` files for the lab and project portions, respectively, we need to tell our project module which file to use for this portion. You must run the code below, otherwise the project module will not be able to properly load the CSV data for this portion of the assignment.\n",
    "\n",
    "Please ignore the part about `importlib`, that's just a fix we had to make on our side to avoid a bug."
   ]
  },
  {
   "cell_type": "code",
   "execution_count": 2,
   "id": "4cab1527-3c27-488b-8213-cf062964cd0e",
   "metadata": {
    "deletable": false,
    "editable": true,
    "slideshow": {
     "slide_type": ""
    },
    "tags": []
   },
   "outputs": [],
   "source": [
    "import importlib\n",
    "import project\n",
    "importlib.reload(project)\n",
    "project.init(\"lab_budget.csv\")"
   ]
  },
  {
   "cell_type": "markdown",
   "id": "420abdce-7cb9-4004-9a7a-10a12462b556",
   "metadata": {
    "deletable": false,
    "editable": false,
    "slideshow": {
     "slide_type": ""
    },
    "tags": []
   },
   "source": [
    "### Getting familiar with the project module"
   ]
  },
  {
   "cell_type": "markdown",
   "id": "642c6c5e-bce4-4114-8942-1a3fe050cecd",
   "metadata": {
    "deletable": false,
    "editable": false,
    "jp-MarkdownHeadingCollapsed": true,
    "slideshow": {
     "slide_type": ""
    },
    "tags": []
   },
   "source": [
    "#### Module contents"
   ]
  },
  {
   "cell_type": "markdown",
   "id": "8cf9df8b-5f1f-4487-9299-11f4e3787723",
   "metadata": {
    "deletable": false,
    "editable": false,
    "slideshow": {
     "slide_type": ""
    },
    "tags": []
   },
   "source": [
    "Before we can use the functions inside this module, we need to find out what functions are inside it. To do that, run the following cell:"
   ]
  },
  {
   "cell_type": "code",
   "execution_count": 2,
   "id": "78281db0",
   "metadata": {
    "deletable": false,
    "editable": true
   },
   "outputs": [],
   "source": [
    "dir(project)"
   ]
  },
  {
   "cell_type": "markdown",
   "id": "062769f5-23c3-46e3-9778-0fe9740f284a",
   "metadata": {
    "deletable": false,
    "editable": false,
    "slideshow": {
     "slide_type": ""
    },
    "tags": []
   },
   "source": [
    "Recall that the variables listed that begin with an underscore (`_`) are private to that module. Thus, you don't need to worry about them.\n",
    "\n",
    "`csv` is a package that's built into Python. It's what our project module uses to load data from `.csv` files. Becuase our project module loads the CSV data for you, you don't need to worry about it either.\n",
    "\n",
    "The variables you do need to understand are `dump`, `get_budget`, `get_id`, and `init`. "
   ]
  },
  {
   "cell_type": "markdown",
   "id": "00f79f8e-a3a3-48d9-a2a8-9431d0528d3d",
   "metadata": {
    "deletable": false,
    "editable": false,
    "jp-MarkdownHeadingCollapsed": true,
    "slideshow": {
     "slide_type": ""
    },
    "tags": []
   },
   "source": [
    "#### `project.dump`"
   ]
  },
  {
   "cell_type": "markdown",
   "id": "02049da6-e047-4440-b9d9-9b718b4e2bfa",
   "metadata": {
    "deletable": false,
    "editable": false,
    "slideshow": {
     "slide_type": ""
    },
    "tags": []
   },
   "source": [
    "First, let's read the documentation for what this function does."
   ]
  },
  {
   "cell_type": "code",
   "execution_count": 3,
   "id": "0f8d44c2-e6e4-4f5f-9359-d9af20c1dd02",
   "metadata": {
    "deletable": false,
    "editable": true,
    "slideshow": {
     "slide_type": ""
    },
    "tags": []
   },
   "outputs": [],
   "source": [
    "help(project.dump)"
   ]
  },
  {
   "cell_type": "markdown",
   "id": "6fc6ea1c-31c0-49aa-8725-69ce8e45efbb",
   "metadata": {
    "deletable": false,
    "editable": false,
    "slideshow": {
     "slide_type": ""
    },
    "tags": []
   },
   "source": [
    "Now, let's call it and see its output."
   ]
  },
  {
   "cell_type": "code",
   "execution_count": 6,
   "id": "68dd8d0c-e0a4-43c9-812e-fd2008fe4364",
   "metadata": {
    "deletable": false,
    "editable": true,
    "slideshow": {
     "slide_type": ""
    },
    "tags": []
   },
   "outputs": [],
   "source": [
    "project.dump()"
   ]
  },
  {
   "cell_type": "markdown",
   "id": "74749655-ccc8-48a7-82ae-6f22f6ad53d8",
   "metadata": {
    "deletable": false,
    "editable": false,
    "slideshow": {
     "slide_type": ""
    },
    "tags": []
   },
   "source": [
    "From the output above, it looks like it has displayed the name of each agency in the `lab_budget.csv` file along with its ID and its budget for the years of 2022, 2023, and 2024. You can call `project.dump()` during this assignment to help you match agency names to IDs and what that agency's budget was for any given year."
   ]
  },
  {
   "cell_type": "markdown",
   "id": "3b693a9f",
   "metadata": {
    "deletable": false,
    "editable": false,
    "slideshow": {
     "slide_type": ""
    },
    "tags": []
   },
   "source": [
    "### Lab question group 1: `project.get_id` and `project.get_budget` (7 questions)"
   ]
  },
  {
   "cell_type": "markdown",
   "id": "916c1b4d",
   "metadata": {
    "deletable": false,
    "editable": false
   },
   "source": [
    "#### Lab question 1"
   ]
  },
  {
   "cell_type": "markdown",
   "id": "bd7d35d8",
   "metadata": {
    "deletable": false,
    "editable": false
   },
   "source": [
    "What is the `id` of the agency *Streets*?"
   ]
  },
  {
   "cell_type": "markdown",
   "id": "ae993d8d",
   "metadata": {
    "deletable": false,
    "editable": false
   },
   "source": [
    "Points possible: 4.0"
   ]
  },
  {
   "cell_type": "code",
   "execution_count": 7,
   "id": "17b98e6b",
   "metadata": {
    "deletable": false,
    "editable": true
   },
   "outputs": [
    {
     "data": {
      "text/plain": [
       "28"
      ]
     },
     "execution_count": 7,
     "metadata": {},
     "output_type": "execute_result"
    }
   ],
   "source": [
    "# we have done this one for you\n",
    "# DO NOT EDIT THIS CELL\n",
    "\n",
    "streets_id = project.get_id(\"Streets\")\n",
    "streets_id"
   ]
  },
  {
   "cell_type": "code",
   "execution_count": 8,
   "id": "f7e1c08f",
   "metadata": {
    "deletable": false,
    "editable": false
   },
   "outputs": [
    {
     "name": "stdout",
     "output_type": "stream",
     "text": [
      "Make sure you saved the notebook before running this cell. Running check for lab-q1...\n",
      "Great job! You passed all test cases for this question.\n"
     ]
    }
   ],
   "source": [
    "student_grader.check(\"lab-q1\")"
   ]
  },
  {
   "cell_type": "markdown",
   "id": "fe736a36",
   "metadata": {
    "deletable": false,
    "editable": false
   },
   "source": [
    "#### Lab question 2"
   ]
  },
  {
   "cell_type": "markdown",
   "id": "4c50c648",
   "metadata": {
    "deletable": false,
    "editable": false
   },
   "source": [
    "What is the `id` of the agency *Information Technology*?"
   ]
  },
  {
   "cell_type": "markdown",
   "id": "65a7c863",
   "metadata": {
    "deletable": false,
    "editable": false
   },
   "source": [
    "Points possible: 4.0"
   ]
  },
  {
   "cell_type": "code",
   "execution_count": 9,
   "id": "8562840f",
   "metadata": {
    "deletable": false,
    "editable": true
   },
   "outputs": [
    {
     "data": {
      "text/plain": [
       "7"
      ]
     },
     "execution_count": 9,
     "metadata": {},
     "output_type": "execute_result"
    }
   ],
   "source": [
    "# you will have to do this yourself; replace the ... with your code\n",
    "\n",
    "info_tech_id = project.get_id(\"Information Technology\")\n",
    "info_tech_id"
   ]
  },
  {
   "cell_type": "code",
   "execution_count": 11,
   "id": "00e76c63",
   "metadata": {
    "deletable": false,
    "editable": false
   },
   "outputs": [
    {
     "name": "stdout",
     "output_type": "stream",
     "text": [
      "Make sure you saved the notebook before running this cell. Running check for lab-q2...\n",
      "Great job! You passed all test cases for this question.\n"
     ]
    }
   ],
   "source": [
    "student_grader.check(\"lab-q2\")"
   ]
  },
  {
   "cell_type": "markdown",
   "id": "7421edbe",
   "metadata": {
    "deletable": false,
    "editable": false
   },
   "source": [
    "#### Lab question 3"
   ]
  },
  {
   "cell_type": "markdown",
   "id": "720cef55",
   "metadata": {
    "deletable": false,
    "editable": false
   },
   "source": [
    "What is the `id` of the agency *Building Inspection*?"
   ]
  },
  {
   "cell_type": "markdown",
   "id": "a29a363e",
   "metadata": {
    "deletable": false,
    "editable": false
   },
   "source": [
    "Points possible: 4.0"
   ]
  },
  {
   "cell_type": "code",
   "execution_count": 12,
   "id": "7dd6a241",
   "metadata": {
    "deletable": false,
    "editable": true
   },
   "outputs": [
    {
     "data": {
      "text/plain": [
       "14"
      ]
     },
     "execution_count": 12,
     "metadata": {},
     "output_type": "execute_result"
    }
   ],
   "source": [
    "# replace the ... with your code\n",
    "\n",
    "building_inspection_id = project.get_id(\"Building Inspection\")\n",
    "building_inspection_id"
   ]
  },
  {
   "cell_type": "code",
   "execution_count": 13,
   "id": "f52c7e24",
   "metadata": {
    "deletable": false,
    "editable": false
   },
   "outputs": [
    {
     "name": "stdout",
     "output_type": "stream",
     "text": [
      "Make sure you saved the notebook before running this cell. Running check for lab-q3...\n",
      "Great job! You passed all test cases for this question.\n"
     ]
    }
   ],
   "source": [
    "student_grader.check(\"lab-q3\")"
   ]
  },
  {
   "cell_type": "markdown",
   "id": "269fcc6e",
   "metadata": {
    "deletable": false,
    "editable": false
   },
   "source": [
    "### Task 3.1.1: Avoiding index hardcoding\n",
    "\n",
    "You should now have a good sense of how the `project.get_id` function works. You will now move on to the `project.get_budget` function. Read the documentation of this function, if you haven't already. Let us now call this function and see how it operates:\n",
    "\n",
    "**Note:** Recall that you can use `help(function_name)` to read the documentation of a function. Try reading the documentation for `get_id` function using `help(project.get_id)`. If you want, you can create a **new** Cell by clicking on the `+` button at the top of the notebook, and use that cell to read the documentation."
   ]
  },
  {
   "cell_type": "markdown",
   "id": "7b852fb0",
   "metadata": {
    "deletable": false,
    "editable": false
   },
   "source": [
    "#### Lab question 4"
   ]
  },
  {
   "cell_type": "markdown",
   "id": "e0959851",
   "metadata": {
    "deletable": false,
    "editable": false
   },
   "source": [
    "What was the budget of the agency *Mayor* in *2024* (in millions of dollars)?"
   ]
  },
  {
   "cell_type": "markdown",
   "id": "a78a187c",
   "metadata": {
    "deletable": false,
    "editable": false
   },
   "source": [
    "Points possible: 4.0"
   ]
  },
  {
   "cell_type": "code",
   "execution_count": 14,
   "id": "0101a93e",
   "metadata": {
    "deletable": false,
    "editable": true
   },
   "outputs": [
    {
     "data": {
      "text/plain": [
       "1.622566"
      ]
     },
     "execution_count": 14,
     "metadata": {},
     "output_type": "execute_result"
    }
   ],
   "source": [
    "# We have done this example for you, DO NOT EDIT this cell\n",
    "\n",
    "mayor_id = project.get_id('Mayor')\n",
    "mayor_budget_2024 = project.get_budget(mayor_id, 2024)\n",
    "mayor_budget_2024"
   ]
  },
  {
   "cell_type": "code",
   "execution_count": 15,
   "id": "6c0bcd25",
   "metadata": {
    "deletable": false,
    "editable": false
   },
   "outputs": [
    {
     "name": "stdout",
     "output_type": "stream",
     "text": [
      "Make sure you saved the notebook before running this cell. Running check for lab-q4...\n",
      "Great job! You passed all test cases for this question.\n"
     ]
    }
   ],
   "source": [
    "student_grader.check(\"lab-q4\")"
   ]
  },
  {
   "cell_type": "markdown",
   "id": "21fdda67",
   "metadata": {
    "deletable": false,
    "editable": false
   },
   "source": [
    "## NOTE: Even though you passed the above test, this is considered hardcoding!\n",
    "\n",
    "You were asked what the budget of the agency *Mayor* in *2024* was. The `id` *10* was **not** provided to you as part of the question. You have no reason to expect that the dataset might not change in the future and that the ids will not be updated. Furthermore, by **hardcoding** the `id` into your answer, you are limiting its ability to be used for other datasets, where *Mayor* might have a **different** `id`.\n",
    "\n",
    "**Warning:** Since you used some information that was **not** explicitly provided to you as part of the question, this is considered **hardcoding**, and even if you pass the public tests, the Gradescope autograder will deduct points.\n",
    "\n",
    "Let us now see the **correct** way to answer the previous question."
   ]
  },
  {
   "cell_type": "markdown",
   "id": "e2ce15ab",
   "metadata": {
    "deletable": false,
    "editable": false
   },
   "source": [
    "#### Lab question 5"
   ]
  },
  {
   "cell_type": "markdown",
   "id": "93dc383b",
   "metadata": {
    "deletable": false,
    "editable": false
   },
   "source": [
    "What was the budget of the agency *Mayor* in *2023*?"
   ]
  },
  {
   "cell_type": "markdown",
   "id": "8cc45bbc",
   "metadata": {
    "deletable": false,
    "editable": false
   },
   "source": [
    "Points possible: 4.0"
   ]
  },
  {
   "cell_type": "code",
   "execution_count": 16,
   "id": "d6b888df",
   "metadata": {
    "deletable": false,
    "editable": true
   },
   "outputs": [
    {
     "data": {
      "text/plain": [
       "1.259001"
      ]
     },
     "execution_count": 16,
     "metadata": {},
     "output_type": "execute_result"
    }
   ],
   "source": [
    "# Replace the ... with your code. Remember that you have already defined the\n",
    "# variable `mayor_id` in the question above. You should use that here.\n",
    "\n",
    "mayor_id = project.get_id('Mayor')\n",
    "mayor_budget_2023 = project.get_budget(mayor_id, 2023)\n",
    "mayor_budget_2023"
   ]
  },
  {
   "cell_type": "code",
   "execution_count": 17,
   "id": "ec414316",
   "metadata": {
    "deletable": false,
    "editable": false
   },
   "outputs": [
    {
     "name": "stdout",
     "output_type": "stream",
     "text": [
      "Make sure you saved the notebook before running this cell. Running check for lab-q5...\n",
      "Great job! You passed all test cases for this question.\n"
     ]
    }
   ],
   "source": [
    "student_grader.check(\"lab-q5\")"
   ]
  },
  {
   "cell_type": "markdown",
   "id": "f99db126",
   "metadata": {
    "deletable": false,
    "editable": false
   },
   "source": [
    "#### Lab question 6"
   ]
  },
  {
   "cell_type": "markdown",
   "id": "5691e92f",
   "metadata": {
    "deletable": false,
    "editable": false
   },
   "source": [
    "What was the budget of the agency *Information Technology* in *2023*?"
   ]
  },
  {
   "cell_type": "markdown",
   "id": "0b0be9a4",
   "metadata": {
    "deletable": false,
    "editable": false
   },
   "source": [
    "Points possible: 4.0"
   ]
  },
  {
   "cell_type": "code",
   "execution_count": 18,
   "id": "d17a915f",
   "metadata": {
    "deletable": false,
    "editable": true
   },
   "outputs": [
    {
     "data": {
      "text/plain": [
       "9.569373"
      ]
     },
     "execution_count": 18,
     "metadata": {},
     "output_type": "execute_result"
    }
   ],
   "source": [
    "# replace the ... with your code\n",
    "# Remember that you defined `info_tech_id` in lab question 2, you should use that here.\n",
    "\n",
    "info_tech_id = project.get_id(\"Information Technology\")\n",
    "info_tech_id_budget_2023 = project.get_budget(info_tech_id, 2023)\n",
    "info_tech_id_budget_2023"
   ]
  },
  {
   "cell_type": "code",
   "execution_count": 19,
   "id": "950db77f",
   "metadata": {
    "deletable": false,
    "editable": false
   },
   "outputs": [
    {
     "name": "stdout",
     "output_type": "stream",
     "text": [
      "Make sure you saved the notebook before running this cell. Running check for lab-q6...\n",
      "Great job! You passed all test cases for this question.\n"
     ]
    }
   ],
   "source": [
    "student_grader.check(\"lab-q6\")"
   ]
  },
  {
   "cell_type": "markdown",
   "id": "602223ad",
   "metadata": {
    "deletable": false,
    "editable": false
   },
   "source": [
    "#### Lab question 7"
   ]
  },
  {
   "cell_type": "markdown",
   "id": "7f0521a6",
   "metadata": {
    "deletable": false,
    "editable": false
   },
   "source": [
    "What was the budget of the agency *Streets* in *2022*?"
   ]
  },
  {
   "cell_type": "markdown",
   "id": "735cb6bd",
   "metadata": {
    "deletable": false,
    "editable": false
   },
   "source": [
    "Points possible: 4.0"
   ]
  },
  {
   "cell_type": "code",
   "execution_count": 20,
   "id": "97d754e5",
   "metadata": {
    "deletable": false,
    "editable": true
   },
   "outputs": [
    {
     "data": {
      "text/plain": [
       "26.703376"
      ]
     },
     "execution_count": 20,
     "metadata": {},
     "output_type": "execute_result"
    }
   ],
   "source": [
    "# Replace the ... with your code\n",
    "# Remember that you defined `streets_id` in lab question 1, you should use that here.\n",
    "\n",
    "streets_id = project.get_id(\"Streets\")\n",
    "streets_budget_2022 = project.get_budget(streets_id, 2022)\n",
    "streets_budget_2022"
   ]
  },
  {
   "cell_type": "code",
   "execution_count": 21,
   "id": "1411eb1b",
   "metadata": {
    "deletable": false,
    "editable": false
   },
   "outputs": [
    {
     "name": "stdout",
     "output_type": "stream",
     "text": [
      "Make sure you saved the notebook before running this cell. Running check for lab-q7...\n",
      "Great job! You passed all test cases for this question.\n"
     ]
    }
   ],
   "source": [
    "student_grader.check(\"lab-q7\")"
   ]
  },
  {
   "cell_type": "markdown",
   "id": "f5c13e08",
   "metadata": {
    "deletable": false,
    "editable": false
   },
   "source": [
    "### Lab question group 2: Calling and defining functions (13 questions)"
   ]
  },
  {
   "cell_type": "markdown",
   "id": "46d51e25",
   "metadata": {
    "deletable": false,
    "editable": false
   },
   "source": [
    "#### Lab question 8"
   ]
  },
  {
   "cell_type": "markdown",
   "id": "ffe8a05d",
   "metadata": {
    "deletable": false,
    "editable": false
   },
   "source": [
    "What is the *minimum* of the three numbers: *220*, *319*, and *320*?"
   ]
  },
  {
   "cell_type": "markdown",
   "id": "0ff4563a",
   "metadata": {
    "deletable": false,
    "editable": false
   },
   "source": [
    "Points possible: 4.0"
   ]
  },
  {
   "cell_type": "code",
   "execution_count": 22,
   "id": "7a6f776e",
   "metadata": {
    "deletable": false,
    "editable": true
   },
   "outputs": [
    {
     "data": {
      "text/plain": [
       "220"
      ]
     },
     "execution_count": 22,
     "metadata": {},
     "output_type": "execute_result"
    }
   ],
   "source": [
    "# we have done this one for you, please DO NOT edit this cell\n",
    "\n",
    "min_three_numbers = min(220, 319, 320)\n",
    "min_three_numbers"
   ]
  },
  {
   "cell_type": "code",
   "execution_count": 23,
   "id": "2199016f",
   "metadata": {
    "deletable": false,
    "editable": false
   },
   "outputs": [
    {
     "name": "stdout",
     "output_type": "stream",
     "text": [
      "Make sure you saved the notebook before running this cell. Running check for lab-q8...\n",
      "Great job! You passed all test cases for this question.\n"
     ]
    }
   ],
   "source": [
    "student_grader.check(\"lab-q8\")"
   ]
  },
  {
   "cell_type": "markdown",
   "id": "6a5e36e6",
   "metadata": {
    "deletable": false,
    "editable": false
   },
   "source": [
    "#### Lab question 9"
   ]
  },
  {
   "cell_type": "markdown",
   "id": "4071062d",
   "metadata": {
    "deletable": false,
    "editable": false
   },
   "source": [
    "What is the *minimum* of the two numbers: *220* and *200*?"
   ]
  },
  {
   "cell_type": "markdown",
   "id": "223a9497",
   "metadata": {
    "deletable": false,
    "editable": false
   },
   "source": [
    "Points possible: 4.0"
   ]
  },
  {
   "cell_type": "code",
   "execution_count": 24,
   "id": "7dda10de",
   "metadata": {
    "deletable": false,
    "editable": true
   },
   "outputs": [
    {
     "data": {
      "text/plain": [
       "200"
      ]
     },
     "execution_count": 24,
     "metadata": {},
     "output_type": "execute_result"
    }
   ],
   "source": [
    "# Replace the ... below with you code\n",
    "\n",
    "min_two_numbers = min(220, 200)\n",
    "min_two_numbers"
   ]
  },
  {
   "cell_type": "code",
   "execution_count": 25,
   "id": "7c83c1a3",
   "metadata": {
    "deletable": false,
    "editable": false
   },
   "outputs": [
    {
     "name": "stdout",
     "output_type": "stream",
     "text": [
      "Make sure you saved the notebook before running this cell. Running check for lab-q9...\n",
      "Great job! You passed all test cases for this question.\n"
     ]
    }
   ],
   "source": [
    "student_grader.check(\"lab-q9\")"
   ]
  },
  {
   "cell_type": "markdown",
   "id": "e1245164",
   "metadata": {
    "deletable": false,
    "editable": false
   },
   "source": [
    "#### Lab question 10"
   ]
  },
  {
   "cell_type": "markdown",
   "id": "3ffcc26d",
   "metadata": {
    "deletable": false,
    "editable": false
   },
   "source": [
    "What is the *maximum* of the three numbers: *200*, *300*, and *400*?\n",
    "\n",
    "**Hint:** Just like the `min` function, there is a `max` function. You can either inspect or read its documentation to figure out how to use it."
   ]
  },
  {
   "cell_type": "markdown",
   "id": "173462d5",
   "metadata": {
    "deletable": false,
    "editable": false
   },
   "source": [
    "Points possible: 4.0"
   ]
  },
  {
   "cell_type": "code",
   "execution_count": 26,
   "id": "d335ce40",
   "metadata": {
    "deletable": false,
    "editable": true
   },
   "outputs": [
    {
     "data": {
      "text/plain": [
       "400"
      ]
     },
     "execution_count": 26,
     "metadata": {},
     "output_type": "execute_result"
    }
   ],
   "source": [
    "# Replace the ... below with you code\n",
    "\n",
    "max_three_numbers = max(200, 300, 400)\n",
    "max_three_numbers"
   ]
  },
  {
   "cell_type": "code",
   "execution_count": 27,
   "id": "fd0b7ae9",
   "metadata": {
    "deletable": false,
    "editable": false
   },
   "outputs": [
    {
     "name": "stdout",
     "output_type": "stream",
     "text": [
      "Make sure you saved the notebook before running this cell. Running check for lab-q10...\n",
      "Great job! You passed all test cases for this question.\n"
     ]
    }
   ],
   "source": [
    "student_grader.check(\"lab-q10\")"
   ]
  },
  {
   "cell_type": "markdown",
   "id": "3155fdcc",
   "metadata": {
    "deletable": false,
    "editable": false
   },
   "source": [
    "#### Lab function 1: `get_avg_drop_lowest`"
   ]
  },
  {
   "cell_type": "markdown",
   "id": "f2476dea",
   "metadata": {
    "deletable": false,
    "editable": false
   },
   "source": [
    "- This function will have three parameters, `score1`, `score2`, and `score3`.\n",
    "- It should add up the 3 scores, subtract out the smallest of these scores, and then determine the average of the remaining two.\n",
    "\n",
    "For example, given the three scores `2, 4, 7`, your function should sum all the scores together `2 + 4 + 7` and then subtract `2`. Finally, it should return the average of the two remaining scores i.e it should be `(2 + 4 + 7 - 2)/2 = 5.5`.\n",
    "\n",
    "You will be provided with some code snippets to start with, but you will have to fill out the rest of the function. If you are not sure how to write this function, ask your TA/PM for help."
   ]
  },
  {
   "cell_type": "markdown",
   "id": "71f72c7f",
   "metadata": {
    "deletable": false,
    "editable": false
   },
   "source": [
    "Points possible: 6.0"
   ]
  },
  {
   "cell_type": "code",
   "execution_count": 32,
   "id": "bb337c05",
   "metadata": {
    "deletable": false,
    "editable": true
   },
   "outputs": [],
   "source": [
    "# replace the ... with your code\n",
    "\n",
    "def get_avg_drop_lowest(score1, score2, score3):\n",
    "    smallest = min(score1, score2, score3)\n",
    "    sum_of_larger_two = score1 + score2 + score3 - smallest\n",
    "    avg = sum_of_larger_two / 2\n",
    "    return avg"
   ]
  },
  {
   "cell_type": "code",
   "execution_count": 29,
   "id": "5ad4eff7",
   "metadata": {
    "deletable": false,
    "editable": false
   },
   "outputs": [
    {
     "name": "stdout",
     "output_type": "stream",
     "text": [
      "Make sure you saved the notebook before running this cell. Running check for lab-get_avg_drop_lowest...\n",
      "Great job! You passed all test cases for this question.\n"
     ]
    }
   ],
   "source": [
    "student_grader.check(\"lab-get_avg_drop_lowest\")"
   ]
  },
  {
   "cell_type": "markdown",
   "id": "d219dc2d",
   "metadata": {
    "deletable": false,
    "editable": false
   },
   "source": [
    "#### Lab question 11"
   ]
  },
  {
   "cell_type": "markdown",
   "id": "e022f712",
   "metadata": {
    "deletable": false,
    "editable": false,
    "slideshow": {
     "slide_type": ""
    },
    "tags": []
   },
   "source": [
    "What is the average of `18`, `20`, and `17` when the lowest is dropped? You must call your `get_avg_drop_lowest` function to answer this question."
   ]
  },
  {
   "cell_type": "markdown",
   "id": "da1ce1dd",
   "metadata": {
    "deletable": false,
    "editable": true,
    "slideshow": {
     "slide_type": ""
    },
    "tags": []
   },
   "source": [
    "Points possible: 4.0"
   ]
  },
  {
   "cell_type": "code",
   "execution_count": 71,
   "id": "f22a4764",
   "metadata": {
    "deletable": false,
    "editable": true,
    "slideshow": {
     "slide_type": ""
    },
    "tags": []
   },
   "outputs": [
    {
     "data": {
      "text/plain": [
       "19.0"
      ]
     },
     "execution_count": 71,
     "metadata": {},
     "output_type": "execute_result"
    }
   ],
   "source": [
    "# Replace the 0's below with the correct values\n",
    "\n",
    "avg_drop_lowest_18_20_17 = get_avg_drop_lowest(18, 20, 17)\n",
    "avg_drop_lowest_18_20_17"
   ]
  },
  {
   "cell_type": "code",
   "execution_count": 72,
   "id": "9f8aeb98",
   "metadata": {
    "deletable": false,
    "editable": false,
    "slideshow": {
     "slide_type": ""
    },
    "tags": []
   },
   "outputs": [
    {
     "name": "stdout",
     "output_type": "stream",
     "text": [
      "Make sure you saved the notebook before running this cell. Running check for lab-q11...\n",
      "Great job! You passed all test cases for this question.\n"
     ]
    }
   ],
   "source": [
    "student_grader.check(\"lab-q11\")"
   ]
  },
  {
   "cell_type": "markdown",
   "id": "7d3028b5",
   "metadata": {
    "deletable": false,
    "editable": false,
    "slideshow": {
     "slide_type": ""
    },
    "tags": []
   },
   "source": [
    "#### Lab question 12"
   ]
  },
  {
   "cell_type": "markdown",
   "id": "81edbcb1",
   "metadata": {
    "deletable": false,
    "editable": false
   },
   "source": [
    "What is the average of `40`, `45`, and `35` when the lowest is dropped? You must call your `get_avg_drop_lowest` function to answer this question."
   ]
  },
  {
   "cell_type": "markdown",
   "id": "0dcecc76",
   "metadata": {
    "deletable": false,
    "editable": false
   },
   "source": [
    "Points possible: 4.0"
   ]
  },
  {
   "cell_type": "code",
   "execution_count": 35,
   "id": "fcdc85dd",
   "metadata": {
    "deletable": false,
    "editable": true
   },
   "outputs": [
    {
     "data": {
      "text/plain": [
       "42.5"
      ]
     },
     "execution_count": 35,
     "metadata": {},
     "output_type": "execute_result"
    }
   ],
   "source": [
    "# Replace the ... below with your code\n",
    "\n",
    "avg_drop_lowest_40_45_35 = get_avg_drop_lowest(40,45,35)\n",
    "avg_drop_lowest_40_45_35"
   ]
  },
  {
   "cell_type": "code",
   "execution_count": 36,
   "id": "164d7934",
   "metadata": {
    "deletable": false,
    "editable": false
   },
   "outputs": [
    {
     "name": "stdout",
     "output_type": "stream",
     "text": [
      "Make sure you saved the notebook before running this cell. Running check for lab-q12...\n",
      "Great job! You passed all test cases for this question.\n"
     ]
    }
   ],
   "source": [
    "student_grader.check(\"lab-q12\")"
   ]
  },
  {
   "cell_type": "markdown",
   "id": "acd31619",
   "metadata": {
    "deletable": false,
    "editable": false
   },
   "source": [
    "- This function will have four parameters, `num1`, `num2`, `num3`, and `num4`.\n",
    "- It should find the maximum of the four numbers, and the minimum of the four numbers, and subtract the minimum from the maximum.\n",
    "\n",
    "For example, given the four numbers `1, 2, 3, 4`, your function should subtract the minimum `1` from the maximum `4`, and return `4 - 1 = 3`.\n",
    "\n",
    "You will be provided with some code snippets to start with, but you will have to fill out the rest of the function. If you are not sure how to write this function, ask your TA/PM for help."
   ]
  },
  {
   "cell_type": "markdown",
   "id": "8b957480",
   "metadata": {
    "deletable": false,
    "editable": false
   },
   "source": [
    "Points possible: 7.0"
   ]
  },
  {
   "cell_type": "code",
   "execution_count": 37,
   "id": "cebbfedb",
   "metadata": {
    "deletable": false,
    "editable": true
   },
   "outputs": [],
   "source": [
    "# replace each ... with your code\n",
    "\n",
    "def get_range(num1, num2, num3, num4):\n",
    "    maximum = max(num1, num2, num3, num4)\n",
    "    minimum = min(num1, num2, num3, num4)\n",
    "    range = maximum - minimum\n",
    "    return range"
   ]
  },
  {
   "cell_type": "code",
   "execution_count": 38,
   "id": "a3f64770",
   "metadata": {
    "deletable": false,
    "editable": false
   },
   "outputs": [
    {
     "name": "stdout",
     "output_type": "stream",
     "text": [
      "Make sure you saved the notebook before running this cell. Running check for lab-get_range...\n",
      "Great job! You passed all test cases for this question.\n"
     ]
    }
   ],
   "source": [
    "student_grader.check(\"lab-get_range\")"
   ]
  },
  {
   "cell_type": "markdown",
   "id": "a2750ab5",
   "metadata": {
    "deletable": false,
    "editable": false
   },
   "source": [
    "#### Lab question 13"
   ]
  },
  {
   "cell_type": "markdown",
   "id": "4c9e6f7f",
   "metadata": {
    "deletable": false,
    "editable": false
   },
   "source": [
    "What is the range of the following sequence of numbers: `10, 20, 40, 60`? You must call your `get_range` function to answer this question."
   ]
  },
  {
   "cell_type": "markdown",
   "id": "739240bc",
   "metadata": {
    "deletable": false,
    "slideshow": {
     "slide_type": ""
    },
    "tags": []
   },
   "source": [
    "Points possible: 4.0"
   ]
  },
  {
   "cell_type": "code",
   "execution_count": 69,
   "id": "aad36419",
   "metadata": {
    "deletable": false,
    "editable": true,
    "slideshow": {
     "slide_type": ""
    },
    "tags": []
   },
   "outputs": [
    {
     "data": {
      "text/plain": [
       "50"
      ]
     },
     "execution_count": 69,
     "metadata": {},
     "output_type": "execute_result"
    }
   ],
   "source": [
    "# replace the ... below with your code\n",
    "\n",
    "range_10_20_40_60 = get_range(10, 20, 40, 60)\n",
    "range_10_20_40_60"
   ]
  },
  {
   "cell_type": "code",
   "execution_count": 70,
   "id": "4e39ce1e",
   "metadata": {
    "deletable": false,
    "editable": false,
    "slideshow": {
     "slide_type": ""
    },
    "tags": []
   },
   "outputs": [
    {
     "name": "stdout",
     "output_type": "stream",
     "text": [
      "Make sure you saved the notebook before running this cell. Running check for lab-q13...\n",
      "Great job! You passed all test cases for this question.\n"
     ]
    }
   ],
   "source": [
    "student_grader.check(\"lab-q13\")"
   ]
  },
  {
   "cell_type": "markdown",
   "id": "0486cb90",
   "metadata": {
    "deletable": false,
    "editable": false,
    "slideshow": {
     "slide_type": ""
    },
    "tags": []
   },
   "source": [
    "#### Lab question 14"
   ]
  },
  {
   "cell_type": "markdown",
   "id": "f15c0bf1",
   "metadata": {
    "deletable": false,
    "editable": false
   },
   "source": [
    "What is the range of the following sequence of numbers: `40, 20, 10, 30`? You must call your `get_range` function to answer this question."
   ]
  },
  {
   "cell_type": "markdown",
   "id": "e0bb604b",
   "metadata": {
    "deletable": false,
    "editable": false
   },
   "source": [
    "Points possible: 4.0"
   ]
  },
  {
   "cell_type": "code",
   "execution_count": 41,
   "id": "5f90282a",
   "metadata": {
    "deletable": false,
    "editable": true
   },
   "outputs": [
    {
     "data": {
      "text/plain": [
       "30"
      ]
     },
     "execution_count": 41,
     "metadata": {},
     "output_type": "execute_result"
    }
   ],
   "source": [
    "# replace the ... below with your code\n",
    "\n",
    "range_40_20_10_30 = get_range(40, 20, 10, 30)\n",
    "range_40_20_10_30"
   ]
  },
  {
   "cell_type": "code",
   "execution_count": 42,
   "id": "16cc6e25",
   "metadata": {
    "deletable": false,
    "editable": false
   },
   "outputs": [
    {
     "name": "stdout",
     "output_type": "stream",
     "text": [
      "Make sure you saved the notebook before running this cell. Running check for lab-q14...\n",
      "Great job! You passed all test cases for this question.\n"
     ]
    }
   ],
   "source": [
    "student_grader.check(\"lab-q14\")"
   ]
  },
  {
   "cell_type": "markdown",
   "id": "d2458fb8",
   "metadata": {
    "deletable": false,
    "editable": false
   },
   "source": [
    "#### Lab function 3: `change_in_value_per_year`"
   ]
  },
  {
   "cell_type": "markdown",
   "id": "6fa38db4-c98e-4388-917a-aaa1b59dc9c5",
   "metadata": {
    "deletable": false,
    "editable": false,
    "slideshow": {
     "slide_type": ""
    },
    "tags": []
   },
   "source": [
    "You will write a function to compute the average yearly change in value between two years.\n",
    "\n",
    "This function takes four parameters:\n",
    "- year1 (int): The first year.\n",
    "- value1 (int or float): The value associated with year1.\n",
    "- year2 (int): The second year (default: 2024).\n",
    "- value2 (int or float): The value associated with year2 (default: 6).\n",
    "\n",
    "\n",
    "The average yearly change can be calculated as the difference in values divided by the difference in years:\n",
    "\n",
    "$$\n",
    "average\\_change\\_per\\_year = \\frac{value2−value1}{year2−year1}\n",
    "$$\n",
    "\n",
    "It is not required that year2 is greater than year1—your function should work regardless of the order of the years.\n",
    "\n",
    "Example:\n",
    "\n",
    "Given the inputs:\n",
    "- year1 = 2022\n",
    "- value1 = 4\n",
    "- year2 = 2024\n",
    "- value2 = 0\n",
    "\n",
    "The output should be:\n",
    "$$\n",
    "average\\_change\\_per\\_year = \\frac{0−4}{2024−2022} = \\frac{0−4}{2} = -2\n",
    "$$\n",
    "\n",
    "Hints:\n",
    "\n",
    "- Think of this as computing the slope of a line passing through two points (year1, value1) and (year2, value2).\n",
    "- The difference between the years is the denominator, and the difference between the values is the numerator."
   ]
  },
  {
   "cell_type": "markdown",
   "id": "5da1e0f2",
   "metadata": {
    "deletable": false,
    "editable": false
   },
   "source": [
    "Points possible: 7.0"
   ]
  },
  {
   "cell_type": "code",
   "execution_count": 43,
   "id": "089752bf",
   "metadata": {
    "deletable": false,
    "editable": true
   },
   "outputs": [],
   "source": [
    "# Replace the pass with your code\n",
    "\n",
    "def change_in_value_per_year(year1, value1, year2=2024, value2=6): # DO NOT EDIT THIS LINE\n",
    "    difference_between_year = year2 - year1\n",
    "    difference_between_value = value2 - value1\n",
    "    avg_change_per_year = difference_between_value / difference_between_year\n",
    "    return avg_change_per_year"
   ]
  },
  {
   "cell_type": "code",
   "execution_count": 51,
   "id": "cf9474fd",
   "metadata": {
    "deletable": false,
    "editable": false
   },
   "outputs": [
    {
     "name": "stdout",
     "output_type": "stream",
     "text": [
      "Make sure you saved the notebook before running this cell. Running check for lab-change_in_value_per_year...\n",
      "Great job! You passed all test cases for this question.\n"
     ]
    }
   ],
   "source": [
    "student_grader.check(\"lab-change_in_value_per_year\")"
   ]
  },
  {
   "cell_type": "markdown",
   "id": "b87414ea",
   "metadata": {
    "deletable": false,
    "editable": false
   },
   "source": [
    "#### Lab question 15"
   ]
  },
  {
   "cell_type": "markdown",
   "id": "8b8b6ce5",
   "metadata": {
    "deletable": false,
    "editable": false
   },
   "source": [
    "What is the output of `change_in_value_per_year(2019, 12, 2020, 4)`?"
   ]
  },
  {
   "cell_type": "markdown",
   "id": "bdcbbebc",
   "metadata": {
    "deletable": false,
    "editable": true,
    "slideshow": {
     "slide_type": ""
    },
    "tags": []
   },
   "source": [
    "Points possible: 4.0"
   ]
  },
  {
   "cell_type": "code",
   "execution_count": 73,
   "id": "d95ab882",
   "metadata": {
    "deletable": false,
    "editable": true,
    "slideshow": {
     "slide_type": ""
    },
    "tags": []
   },
   "outputs": [
    {
     "data": {
      "text/plain": [
       "-8.0"
      ]
     },
     "execution_count": 73,
     "metadata": {},
     "output_type": "execute_result"
    }
   ],
   "source": [
    "# compute and store the answer in the variable 'change_per_year_2019_12_2020_4'\n",
    "change_per_year_2019_12_2020_4 = change_in_value_per_year(2019, 12, 2020, 4)\n",
    "# display the variable 'change_per_year_2019_12_2020_4' here\n",
    "change_per_year_2019_12_2020_4"
   ]
  },
  {
   "cell_type": "code",
   "execution_count": 74,
   "id": "529efb93",
   "metadata": {
    "deletable": false,
    "editable": false,
    "slideshow": {
     "slide_type": ""
    },
    "tags": []
   },
   "outputs": [
    {
     "name": "stdout",
     "output_type": "stream",
     "text": [
      "Make sure you saved the notebook before running this cell. Running check for lab-q15...\n",
      "Great job! You passed all test cases for this question.\n"
     ]
    }
   ],
   "source": [
    "student_grader.check(\"lab-q15\")"
   ]
  },
  {
   "cell_type": "markdown",
   "id": "d57e8d00",
   "metadata": {
    "deletable": false,
    "editable": false,
    "slideshow": {
     "slide_type": ""
    },
    "tags": []
   },
   "source": [
    "#### Lab question 16"
   ]
  },
  {
   "cell_type": "markdown",
   "id": "f9f6e6aa",
   "metadata": {
    "deletable": false,
    "editable": false
   },
   "source": [
    "What is the output of `change_in_value_per_year(2015, 8, 2018, 11)`?"
   ]
  },
  {
   "cell_type": "markdown",
   "id": "8b5ef06b",
   "metadata": {
    "deletable": false,
    "editable": false
   },
   "source": [
    "Points possible: 4.0"
   ]
  },
  {
   "cell_type": "code",
   "execution_count": 59,
   "id": "94cc4102",
   "metadata": {
    "deletable": false,
    "editable": true
   },
   "outputs": [
    {
     "data": {
      "text/plain": [
       "1.0"
      ]
     },
     "execution_count": 59,
     "metadata": {},
     "output_type": "execute_result"
    }
   ],
   "source": [
    "# compute and store the answer in the variable 'change_per_year_2015_8_2018_11'\n",
    "change_per_year_2015_8_2018_11 = change_in_value_per_year(2015, 8, 2018, 11)\n",
    "# display the variable 'change_per_year_2015_8_2018_11' here\n",
    "change_per_year_2015_8_2018_11"
   ]
  },
  {
   "cell_type": "code",
   "execution_count": 60,
   "id": "23163dab",
   "metadata": {
    "deletable": false,
    "editable": false
   },
   "outputs": [
    {
     "name": "stdout",
     "output_type": "stream",
     "text": [
      "Make sure you saved the notebook before running this cell. Running check for lab-q16...\n",
      "Great job! You passed all test cases for this question.\n"
     ]
    }
   ],
   "source": [
    "student_grader.check(\"lab-q16\")"
   ]
  },
  {
   "cell_type": "markdown",
   "id": "ec80638d",
   "metadata": {
    "deletable": false,
    "editable": false
   },
   "source": [
    "If you look back at the definition of `change_in_value_per_year`:\n",
    "\n",
    "```Python\n",
    "change_in_value_per_year(year1, value1, year2=2024, value2=6):\n",
    "```\n",
    "\n",
    "you notice that the parameters `year2` and `value2` were given default arguments with the name of the parameter followed by an equal sign and a value. This means that if you call that function without specifying values for `year2` and/or `value2`, those variables will take the value of `2024` and `6`, respectively. Thus, all of the following function calls are equivalent:\n",
    "\n",
    "```Python\n",
    "# All positional arguments specified (order must match function header exactly)\n",
    "change_in_value_per_year(2020, 10, 2024, 6)\n",
    "```\n",
    "\n",
    "```Python\n",
    "# All named arguments specified\n",
    "change_in_value_per_year(year1=2020, value1=10, year2=2024, value2=6)\n",
    "```\n",
    "\n",
    "```Python\n",
    "# All named arguments specified (order does not matter among named arguments)\n",
    "change_in_value_per_year(value1=10, year2=2024, value2=6, year1=2020)\n",
    "```\n",
    "\n",
    "```Python\n",
    "# Named arguments are specified after positional arguments\n",
    "change_in_value_per_year(2020, 10, value2=6, year2=2024)\n",
    "```\n",
    "\n",
    "```Python\n",
    "# Only required positional arguments specified. Here year2 and value2 are assigned\n",
    "# based on their default values while year1 and value1 are set explicitly\n",
    "change_in_value_per_year(2020, 10)\n",
    "```\n",
    "\n",
    "```Python\n",
    "# Here only value2 is assigned based on its default value\n",
    "change_in_value_per_year(2024, 10, 2024)\n",
    "```\n",
    "\n",
    "```Python\n",
    "# Here only value2 is assigned based on its default value\n",
    "change_in_value_per_year(2024, 10, year2=2024)\n",
    "```\n",
    "\n",
    "```Python\n",
    "# Here only year2 is assigned based on its default value\n",
    "change_in_value_per_year(2024, 10, value2=6)\n",
    "```"
   ]
  },
  {
   "cell_type": "markdown",
   "id": "78252ff2",
   "metadata": {
    "deletable": false,
    "slideshow": {
     "slide_type": ""
    },
    "tags": []
   },
   "source": [
    "#### Lab question 17"
   ]
  },
  {
   "cell_type": "markdown",
   "id": "da45a8ca",
   "metadata": {
    "deletable": false,
    "editable": false
   },
   "source": [
    "Find the change in value per year when `year1` is *2020*, `value1` is *4*, `year2` is *2013*, and `value2` is *6*"
   ]
  },
  {
   "cell_type": "markdown",
   "id": "50cb1f32",
   "metadata": {
    "deletable": false,
    "editable": false
   },
   "source": [
    "Points possible: 4.0"
   ]
  },
  {
   "cell_type": "code",
   "execution_count": 61,
   "id": "2edf12be",
   "metadata": {
    "deletable": false,
    "editable": true
   },
   "outputs": [
    {
     "data": {
      "text/plain": [
       "-0.2857142857142857"
      ]
     },
     "execution_count": 61,
     "metadata": {},
     "output_type": "execute_result"
    }
   ],
   "source": [
    "# we have done this one for you\n",
    "# note that the default argument for `value2` is used\n",
    "\n",
    "change_per_year_2020_4_2013_6 = change_in_value_per_year(2020, 4, 2013)\n",
    "change_per_year_2020_4_2013_6"
   ]
  },
  {
   "cell_type": "code",
   "execution_count": 62,
   "id": "abf7abf3",
   "metadata": {
    "deletable": false,
    "editable": false
   },
   "outputs": [
    {
     "name": "stdout",
     "output_type": "stream",
     "text": [
      "Make sure you saved the notebook before running this cell. Running check for lab-q17...\n",
      "Great job! You passed all test cases for this question.\n"
     ]
    }
   ],
   "source": [
    "student_grader.check(\"lab-q17\")"
   ]
  },
  {
   "cell_type": "markdown",
   "id": "80a81870",
   "metadata": {
    "deletable": false,
    "editable": false
   },
   "source": [
    "#### Lab question 18"
   ]
  },
  {
   "cell_type": "markdown",
   "id": "079b8484",
   "metadata": {
    "deletable": false,
    "editable": false
   },
   "source": [
    "Find the change in value per year when `year1` is *2018*, `value1` is *11*, `year2` is *2024*, and `value2` is *6*\n",
    "\n",
    "Try using the default arguments for `year2` and `value2` by only specifying the first two arguments (`year1` and `value1`)."
   ]
  },
  {
   "cell_type": "markdown",
   "id": "4796bb53",
   "metadata": {
    "deletable": false,
    "editable": false
   },
   "source": [
    "Points possible: 4.0"
   ]
  },
  {
   "cell_type": "code",
   "execution_count": 63,
   "id": "718674ed",
   "metadata": {
    "deletable": false,
    "editable": true
   },
   "outputs": [
    {
     "data": {
      "text/plain": [
       "-0.8333333333333334"
      ]
     },
     "execution_count": 63,
     "metadata": {},
     "output_type": "execute_result"
    }
   ],
   "source": [
    "# replace the ... below with your code\n",
    "\n",
    "change_per_year_2018_11_2024_6 = change_in_value_per_year(2018, 11, 2024, 6)\n",
    "change_per_year_2018_11_2024_6"
   ]
  },
  {
   "cell_type": "code",
   "execution_count": 64,
   "id": "a0562dfe",
   "metadata": {
    "deletable": false,
    "editable": false
   },
   "outputs": [
    {
     "name": "stdout",
     "output_type": "stream",
     "text": [
      "Make sure you saved the notebook before running this cell. Running check for lab-q18...\n",
      "Great job! You passed all test cases for this question.\n"
     ]
    }
   ],
   "source": [
    "student_grader.check(\"lab-q18\")"
   ]
  },
  {
   "cell_type": "markdown",
   "id": "b1c2d689",
   "metadata": {
    "deletable": false,
    "editable": false
   },
   "source": [
    "#### Lab question 19"
   ]
  },
  {
   "cell_type": "markdown",
   "id": "a574f74e",
   "metadata": {
    "deletable": false,
    "editable": false
   },
   "source": [
    "Find the change in value per year when `year1` is *2013*, `value1` is *3*, `year2` is *2024*, and `value2` is *2*\n",
    "\n",
    "Here, try not to specify a value for `year1` and specify a value for `value2` using a named argument. Remember that positional arguments need to come first if you're using them."
   ]
  },
  {
   "cell_type": "markdown",
   "id": "fdeb0f39",
   "metadata": {
    "deletable": false,
    "editable": false
   },
   "source": [
    "Points possible: 4.0"
   ]
  },
  {
   "cell_type": "code",
   "execution_count": 65,
   "id": "0d941d3b",
   "metadata": {
    "deletable": false,
    "editable": true
   },
   "outputs": [
    {
     "data": {
      "text/plain": [
       "-0.09090909090909091"
      ]
     },
     "execution_count": 65,
     "metadata": {},
     "output_type": "execute_result"
    }
   ],
   "source": [
    "# replace the ... with your code\n",
    "\n",
    "change_per_year_2013_3_2024_2 = change_in_value_per_year(2013, 3, 2024, value2=2)\n",
    "change_per_year_2013_3_2024_2"
   ]
  },
  {
   "cell_type": "code",
   "execution_count": 66,
   "id": "06bc765c",
   "metadata": {
    "deletable": false,
    "editable": false
   },
   "outputs": [
    {
     "name": "stdout",
     "output_type": "stream",
     "text": [
      "Make sure you saved the notebook before running this cell. Running check for lab-q19...\n",
      "Great job! You passed all test cases for this question.\n"
     ]
    }
   ],
   "source": [
    "student_grader.check(\"lab-q19\")"
   ]
  },
  {
   "cell_type": "markdown",
   "id": "c624b391",
   "metadata": {
    "deletable": false,
    "editable": false
   },
   "source": [
    "#### Lab question 20"
   ]
  },
  {
   "cell_type": "markdown",
   "id": "254ab4e5",
   "metadata": {
    "deletable": false,
    "editable": false
   },
   "source": [
    "Find the change in value per year when `year1` is *2016*, `value1` is *4*, `year2` is *2024*, and `value2` is *0*"
   ]
  },
  {
   "cell_type": "markdown",
   "id": "031ed105",
   "metadata": {
    "deletable": false,
    "editable": false
   },
   "source": [
    "Points possible: 4.0"
   ]
  },
  {
   "cell_type": "code",
   "execution_count": 67,
   "id": "24d64072",
   "metadata": {
    "deletable": false,
    "editable": true
   },
   "outputs": [
    {
     "data": {
      "text/plain": [
       "-0.5"
      ]
     },
     "execution_count": 67,
     "metadata": {},
     "output_type": "execute_result"
    }
   ],
   "source": [
    "# replace the ... with your code\n",
    "\n",
    "change_per_year_2016_4_2024_0 = change_in_value_per_year(2016, 4, 2024, 0)\n",
    "change_per_year_2016_4_2024_0"
   ]
  },
  {
   "cell_type": "code",
   "execution_count": 68,
   "id": "e9a0c453",
   "metadata": {
    "deletable": false,
    "editable": false
   },
   "outputs": [
    {
     "name": "stdout",
     "output_type": "stream",
     "text": [
      "Make sure you saved the notebook before running this cell. Running check for lab-q20...\n",
      "Great job! You passed all test cases for this question.\n"
     ]
    }
   ],
   "source": [
    "student_grader.check(\"lab-q20\")"
   ]
  },
  {
   "cell_type": "markdown",
   "id": "f4ee2cc0",
   "metadata": {
    "deletable": false,
    "editable": false
   },
   "source": [
    "### Submitting the lab"
   ]
  },
  {
   "cell_type": "markdown",
   "id": "e4285dd9",
   "metadata": {
    "deletable": false,
    "editable": false
   },
   "source": [
    "Submit the lab section of `p3.ipynb` on Gradescope in the same way you submitted your previous labs, by saving your file and submitting this `p3.ipynb` file to the assignment named `lab-p3` on Gradescope. This will calculate the score for your notebook up until this point. Remember that the grades for the lab portion of the project and the actual assignment grade are independent. You will submit the same notebook (at different levels of completion) to two different assignments."
   ]
  },
  {
   "cell_type": "markdown",
   "id": "f0c82b43-e578-4609-8452-130953ff53c1",
   "metadata": {
    "deletable": false,
    "editable": false
   },
   "source": [
    "## Project portion"
   ]
  },
  {
   "cell_type": "markdown",
   "id": "57e57276-81cf-4914-b24b-bbb0d9e716c3",
   "metadata": {
    "deletable": false,
    "editable": false,
    "slideshow": {
     "slide_type": ""
    },
    "tags": []
   },
   "source": [
    "### Initialize"
   ]
  },
  {
   "cell_type": "markdown",
   "id": "50146cfe-68bf-45c3-a6bf-5754eb00d91a",
   "metadata": {
    "deletable": false,
    "editable": false,
    "raw_mimetype": "",
    "slideshow": {
     "slide_type": ""
    },
    "tags": []
   },
   "source": [
    "Because we have two separate `.csv` files for the lab and project portions, respectively, we need to tell our project module which file to use for this portion. You must run the code below, otherwise the project module will not be able to properly load the CSV data for this portion of the assignment."
   ]
  },
  {
   "cell_type": "code",
   "execution_count": 79,
   "id": "69ffcfe0-4eae-4f40-a50f-a2cc01ae1017",
   "metadata": {
    "deletable": false,
    "editable": true,
    "slideshow": {
     "slide_type": ""
    },
    "tags": []
   },
   "outputs": [],
   "source": [
    "project.init(\"madison_budget.csv\")"
   ]
  },
  {
   "cell_type": "markdown",
   "id": "5c801c63",
   "metadata": {
    "deletable": false,
    "editable": false
   },
   "source": [
    "### Description"
   ]
  },
  {
   "cell_type": "markdown",
   "id": "0574c7c0",
   "metadata": {
    "deletable": false,
    "editable": false
   },
   "source": [
    "In this project, you'll analyze the yearly budgets of seven different government agencies under the control of the City of Madison. The dataset we will analyze is obtained from [the City of Madison](https://www.cityofmadison.com/finance/budget) published by the Finance Department. In this project, we will be analyzing the **Adopted Budget** of a select few agencies between the years **2020** and **2024** (both years included). You'll continue getting practice calling functions from the `project` module and writing your own functions.\n",
    "\n",
    "We won't explain how to use the `project` module here (i.e., the code in the `project.py` file).  Refer to the lab portion of this assignment  to understand how the inspection process works and use the `help` function to learn about the various functions inside `project.py`. Feel free to take a look at the `project.py` code if you are curious about how it works."
   ]
  },
  {
   "cell_type": "markdown",
   "id": "56cb80c6",
   "metadata": {
    "deletable": false,
    "editable": false
   },
   "source": [
    "## Dataset"
   ]
  },
  {
   "cell_type": "markdown",
   "id": "3b069cec",
   "metadata": {
    "deletable": false,
    "editable": false
   },
   "source": [
    "## Project Description:\n",
    "\n",
    "In this project, you'll analyze the yearly budgets of seven different government agencies under the control of the City of Madison. The dataset we will analyze is obtained from [the City of Madison](https://www.cityofmadison.com/finance/budget) published by the Finance Department. In this project, we will be analyzing the **Adopted Budget** of a select few agencies between the years **2020** and **2024** (both years included). You'll get practice calling functions from the `project` module, which we've provided, and practice writing your own functions.\n",
    "\n",
    "If you haven't already downloaded `project.py`, `public_tests.py`, and  `madison_budget.csv` (you can verify by running `ls` in a new terminal tab from your `p3` project directory). , please terminate the current `jupyter notebook` session, download all the required files, launch a `jupyter notebook` session again and click on *Kernel* > *Restart and Clear Output*. Start by executing all the cells (including the ones containing `import` statements).\n",
    "\n",
    "We won't explain how to use the `project` module here (i.e., the code in the `project.py` file).  Refer to [Lab-P3](https://git.doit.wisc.edu/cdis/cs/courses/cs220/cs220-s24-projects/-/tree/main/lab-p3) to understand how the inspection process works and use the `help` function to learn about the various functions inside `project.py`. Feel free to take a look at the `project.py` code, if you are curious about how it works.\n",
    "\n",
    "This project consists of writing code to answer 20 questions."
   ]
  },
  {
   "cell_type": "markdown",
   "id": "80fc3ed7",
   "metadata": {
    "deletable": false,
    "editable": false
   },
   "source": [
    "## Dataset:\n",
    "\n",
    "The dataset you will be working with for this project is reproduced here:\n",
    "\n",
    "|id|agency|2020|2021|2022|2023|2024|\n",
    "|--|------|----|----|----|----|----|\n",
    "|5|Finance|4.175833|3.744979|4.159134|4.645472|5.333063|\n",
    "|19|Library|19.163603|18.849564|19.066904|19.770825|20.748477|\n",
    "|20|Fire|57.020341|61.180396|63.742785|68.098376|70.292692|\n",
    "|21|Police|81.830699|82.794221|83.995148|86.917117|91.033353|\n",
    "|23|Public Health|6.233474|6.937629|7.489070|9.656299|10.193472|\n",
    "|25|Parks|14.736923|15.585153|15.535002|16.007257|16.616412|\n",
    "|27|Metro Transit|8.552649|8.511315|9.126564|2.009664|15.725|\n",
    "\n",
    "\n",
    "This table lists seven different government agencies, and the budgets allotted to each of these agencies (in units of millions of dollars) between the years 2020 and 2024 (inclusive of both years).\n",
    "\n",
    "The dataset is in the `madison_budget.csv` file which you downloaded. Alternatively, you can open the `madison_budget.csv` file, to look at the same data and verify answers to simple questions."
   ]
  },
  {
   "cell_type": "markdown",
   "id": "c86b6d44",
   "metadata": {
    "deletable": false,
    "editable": false
   },
   "source": [
    "## Incremental Coding and Testing:"
   ]
  },
  {
   "cell_type": "markdown",
   "id": "46c04791",
   "metadata": {
    "deletable": false,
    "editable": false
   },
   "source": [
    "You should always strive to do incremental coding. Incremental coding enables you to avoid challenging bugs. Always write a few lines of code and then test those lines of code, before proceeding to write further code. You can call the `print` function to test intermediate step outputs. Or you can use the debugger that you learned about in assignment 2.\n",
    "\n",
    "We also recommend you do incremental testing: make sure to run the grader check as soon as you are done with a question. This will ensure that you haven't made a big mistake that might potentially impact the rest of your project."
   ]
  },
  {
   "cell_type": "markdown",
   "id": "a337056b",
   "metadata": {
    "deletable": false,
    "editable": false
   },
   "source": [
    "## Project Questions and Functions:"
   ]
  },
  {
   "cell_type": "markdown",
   "id": "eea32f44",
   "metadata": {
    "deletable": false,
    "editable": false
   },
   "source": [
    "#### Project question 1"
   ]
  },
  {
   "cell_type": "markdown",
   "id": "5afca07f",
   "metadata": {
    "deletable": false,
    "editable": false,
    "slideshow": {
     "slide_type": ""
    },
    "tags": []
   },
   "source": [
    "What is the `id` of the agency *Public Health*?"
   ]
  },
  {
   "cell_type": "markdown",
   "id": "208b54be",
   "metadata": {
    "deletable": false,
    "editable": false,
    "slideshow": {
     "slide_type": ""
    },
    "tags": []
   },
   "source": [
    "Points possible: 3.0"
   ]
  },
  {
   "cell_type": "code",
   "execution_count": 80,
   "id": "4751a35d",
   "metadata": {
    "deletable": false,
    "editable": true,
    "slideshow": {
     "slide_type": ""
    },
    "tags": []
   },
   "outputs": [
    {
     "data": {
      "text/plain": [
       "23"
      ]
     },
     "execution_count": 80,
     "metadata": {},
     "output_type": "execute_result"
    }
   ],
   "source": [
    "# replace the ... with your code\n",
    "# INCORRECT METHOD public_health_id = 23 => this is considered hardcoding\n",
    "public_health_id = project.get_id(\"Public Health\")\n",
    "\n",
    "public_health_id"
   ]
  },
  {
   "cell_type": "code",
   "execution_count": 81,
   "id": "ee7b2733",
   "metadata": {
    "deletable": false,
    "editable": false,
    "slideshow": {
     "slide_type": ""
    },
    "tags": []
   },
   "outputs": [
    {
     "name": "stdout",
     "output_type": "stream",
     "text": [
      "Make sure you saved the notebook before running this cell. Running check for q1...\n",
      "Great job! You passed all test cases for this question.\n"
     ]
    }
   ],
   "source": [
    "student_grader.check(\"q1\")"
   ]
  },
  {
   "cell_type": "markdown",
   "id": "39b4f853-0da4-42bb-a408-92ad888764ba",
   "metadata": {
    "deletable": false,
    "editable": false
   },
   "source": [
    "#### Project question 2"
   ]
  },
  {
   "cell_type": "markdown",
   "id": "b6e8b1af",
   "metadata": {
    "deletable": false,
    "editable": false
   },
   "source": [
    "What are the IDs of all of the agencies in the dataset?'\n",
    "\n",
    "Complete the code in the below cell and make sure to use the relevant ID variables for the rest of the project questions."
   ]
  },
  {
   "cell_type": "markdown",
   "id": "efec5057",
   "metadata": {
    "deletable": false,
    "editable": false,
    "slideshow": {
     "slide_type": ""
    },
    "tags": []
   },
   "source": [
    "Points possible: 3.0"
   ]
  },
  {
   "cell_type": "code",
   "execution_count": 82,
   "id": "26050da2",
   "metadata": {
    "deletable": false,
    "editable": true,
    "tags": []
   },
   "outputs": [],
   "source": [
    "finance_id = project.get_id('Finance') # we have done this for you\n",
    "library_id = project.get_id('Library') # we have done this for you\n",
    "\n",
    "# replace each ... below to get the id for that agency\n",
    "fire_id = project.get_id('Fire')\n",
    "police_id = project.get_id('Police')\n",
    "parks_id = project.get_id('Parks')\n",
    "metro_transit_id = project.get_id('Metro Transit')\n",
    "public_health_id = project.get_id('Public Health')"
   ]
  },
  {
   "cell_type": "code",
   "execution_count": 83,
   "id": "24ad092b",
   "metadata": {
    "deletable": false,
    "editable": false,
    "scrolled": true,
    "slideshow": {
     "slide_type": ""
    },
    "tags": []
   },
   "outputs": [
    {
     "name": "stdout",
     "output_type": "stream",
     "text": [
      "Make sure you saved the notebook before running this cell. Running check for q2...\n",
      "Great job! You passed all test cases for this question.\n"
     ]
    }
   ],
   "source": [
    "student_grader.check(\"q2\")"
   ]
  },
  {
   "cell_type": "markdown",
   "id": "6caaf2a9-cb3c-4eff-a098-ec21dc745883",
   "metadata": {
    "deletable": false,
    "editable": false,
    "slideshow": {
     "slide_type": ""
    },
    "tags": []
   },
   "source": [
    "#### Project function 1: `year_max`"
   ]
  },
  {
   "cell_type": "markdown",
   "id": "a617b437",
   "metadata": {
    "deletable": false,
    "editable": false,
    "slideshow": {
     "slide_type": ""
    },
    "tags": []
   },
   "source": [
    "This function will compute the **maximum** budget for any one agency in a given `year`.\n",
    "\n",
    "It has already been written for you, so you do not have to modify it. You can directly call this function to answer the following questions. "
   ]
  },
  {
   "cell_type": "markdown",
   "id": "75e1eb16",
   "metadata": {
    "deletable": false,
    "editable": false
   },
   "source": [
    "Points possible: 3.0"
   ]
  },
  {
   "cell_type": "code",
   "execution_count": 84,
   "id": "136f63c9",
   "metadata": {
    "deletable": false,
    "editable": true,
    "tags": []
   },
   "outputs": [],
   "source": [
    "def year_max(year):\n",
    "    finance_budget = project.get_budget(finance_id, year)\n",
    "    library_budget = project.get_budget(library_id, year)\n",
    "    fire_budget = project.get_budget(fire_id, year)\n",
    "    police_budget = project.get_budget(police_id, year)\n",
    "    public_health_budget = project.get_budget(public_health_id, year)\n",
    "    parks_budget = project.get_budget(parks_id, year)\n",
    "    metro_transit_budget = project.get_budget(metro_transit_id, year)\n",
    "\n",
    "    return max(finance_budget, library_budget, fire_budget, police_budget, public_health_budget, parks_budget, metro_transit_budget)"
   ]
  },
  {
   "cell_type": "code",
   "execution_count": 85,
   "id": "61c1df2a",
   "metadata": {
    "deletable": false,
    "editable": false
   },
   "outputs": [
    {
     "name": "stdout",
     "output_type": "stream",
     "text": [
      "Make sure you saved the notebook before running this cell. Running check for year_max...\n",
      "Great job! You passed all test cases for this question.\n"
     ]
    }
   ],
   "source": [
    "student_grader.check(\"year_max\")"
   ]
  },
  {
   "cell_type": "markdown",
   "id": "892e38e5",
   "metadata": {
    "deletable": false,
    "editable": false
   },
   "source": [
    "#### Project question 3"
   ]
  },
  {
   "cell_type": "markdown",
   "id": "4828e0f3",
   "metadata": {
    "deletable": false,
    "editable": false
   },
   "source": [
    "What was the highest budget for *any* agency in the year *2024*?\n",
    "\n",
    "You **must** call the `year_max` function to answer this question."
   ]
  },
  {
   "cell_type": "markdown",
   "id": "e2fd630c",
   "metadata": {
    "deletable": false,
    "editable": false
   },
   "source": [
    "Points possible: 3.0"
   ]
  },
  {
   "cell_type": "code",
   "execution_count": 86,
   "id": "38fc1920",
   "metadata": {
    "deletable": false,
    "editable": true,
    "slideshow": {
     "slide_type": ""
    },
    "tags": []
   },
   "outputs": [
    {
     "data": {
      "text/plain": [
       "91.033353"
      ]
     },
     "execution_count": 86,
     "metadata": {},
     "output_type": "execute_result"
    }
   ],
   "source": [
    "# replace the ... with your code\n",
    "\n",
    "max_budget_2024 = year_max(2024)\n",
    "max_budget_2024"
   ]
  },
  {
   "cell_type": "code",
   "execution_count": 87,
   "id": "519254b3",
   "metadata": {
    "deletable": false,
    "editable": false
   },
   "outputs": [
    {
     "name": "stdout",
     "output_type": "stream",
     "text": [
      "Make sure you saved the notebook before running this cell. Running check for q3...\n",
      "Great job! You passed all test cases for this question.\n"
     ]
    }
   ],
   "source": [
    "student_grader.check(\"q3\")"
   ]
  },
  {
   "cell_type": "markdown",
   "id": "f9559e3b",
   "metadata": {
    "deletable": false,
    "editable": false
   },
   "source": [
    "#### Project question 4"
   ]
  },
  {
   "cell_type": "markdown",
   "id": "6115deb6",
   "metadata": {
    "deletable": false,
    "editable": false
   },
   "source": [
    "What was the highest budget for *any* agency in a single year in the period *2021-2023* (both years included)?\n",
    "\n",
    "Recall that we can use the `max` function to compute the maximum of some values. Look at the examples in the lab portion where you used the `max` function or the `year_max` function. The answer to this question is a single floating point number whose value is the highest budget allotted to an agency in a single year during these three years. \n",
    "\n",
    "You **must** invoke the `year_max` function in your answer to this question."
   ]
  },
  {
   "cell_type": "markdown",
   "id": "b2a6e82d",
   "metadata": {
    "deletable": false,
    "editable": false
   },
   "source": [
    "Points possible: 3.0"
   ]
  },
  {
   "cell_type": "code",
   "execution_count": 88,
   "id": "62acbd89",
   "metadata": {
    "deletable": false,
    "editable": true,
    "tags": []
   },
   "outputs": [
    {
     "data": {
      "text/plain": [
       "86.917117"
      ]
     },
     "execution_count": 88,
     "metadata": {},
     "output_type": "execute_result"
    }
   ],
   "source": [
    "# replace the ... with your code\n",
    "max_budget_2021 = year_max(2021)\n",
    "max_budget_2022 = year_max(2022)\n",
    "max_budget_2023 = year_max(2023)\n",
    "\n",
    "max_budget_2021_to_2023 = max(max_budget_2021, max_budget_2022, max_budget_2023)\n",
    "\n",
    "max_budget_2021_to_2023"
   ]
  },
  {
   "cell_type": "code",
   "execution_count": 90,
   "id": "2f57853b",
   "metadata": {
    "deletable": false,
    "editable": false
   },
   "outputs": [
    {
     "name": "stdout",
     "output_type": "stream",
     "text": [
      "Make sure you saved the notebook before running this cell. Running check for q4...\n",
      "Great job! You passed all test cases for this question.\n"
     ]
    }
   ],
   "source": [
    "student_grader.check(\"q4\")"
   ]
  },
  {
   "cell_type": "markdown",
   "id": "c2a07def",
   "metadata": {
    "deletable": false,
    "editable": false
   },
   "source": [
    "#### Project function 2: `agency_min`"
   ]
  },
  {
   "cell_type": "markdown",
   "id": "ee39e0c6-22ba-46b9-9622-b3f02fe140af",
   "metadata": {
    "deletable": false,
    "editable": false,
    "slideshow": {
     "slide_type": ""
    },
    "tags": []
   },
   "source": [
    "This function will compute the **lowest** budget allotted to the given `agency` during any year in the dataset (*2020-2024*).\n",
    "\n",
    "We'll help you get started with this function, but you need to fill in the rest of the function yourself."
   ]
  },
  {
   "cell_type": "markdown",
   "id": "5a657195",
   "metadata": {
    "deletable": false,
    "editable": false
   },
   "source": [
    "Points possible: 4.0"
   ]
  },
  {
   "cell_type": "code",
   "execution_count": 91,
   "id": "2c883ddd",
   "metadata": {
    "deletable": false,
    "editable": true,
    "slideshow": {
     "slide_type": ""
    },
    "tags": []
   },
   "outputs": [],
   "source": [
    "def agency_min(agency):\n",
    "\n",
    "    agency_id = project.get_id(agency)    \n",
    "    budget_2020 = project.get_budget(agency_id, 2020)\n",
    "    budget_2021 = project.get_budget(agency_id, 2021)\n",
    "    budget_2022 = project.get_budget(agency_id, 2022)\n",
    "    budget_2023 = project.get_budget(agency_id, 2023)\n",
    "    budget_2024 = project.get_budget(agency_id, 2024)\n",
    "    \n",
    "    # get the budgets from other years below\n",
    "\n",
    "    \n",
    "    # use the min function to get the minimum across the five years\n",
    "    min_budget_2020_to_2024 = min(budget_2020, budget_2021, budget_2022, budget_2023, budget_2024)\n",
    "    \n",
    "    return min_budget_2020_to_2024"
   ]
  },
  {
   "cell_type": "code",
   "execution_count": 92,
   "id": "9d5590ed",
   "metadata": {
    "deletable": false,
    "editable": false
   },
   "outputs": [
    {
     "name": "stdout",
     "output_type": "stream",
     "text": [
      "Make sure you saved the notebook before running this cell. Running check for agency_min...\n",
      "Great job! You passed all test cases for this question.\n"
     ]
    }
   ],
   "source": [
    "student_grader.check(\"agency_min\")"
   ]
  },
  {
   "cell_type": "markdown",
   "id": "35cc52cc",
   "metadata": {
    "deletable": false,
    "editable": false
   },
   "source": [
    "#### Project question 5"
   ]
  },
  {
   "cell_type": "markdown",
   "id": "149e571c",
   "metadata": {
    "deletable": false,
    "editable": false
   },
   "source": [
    "What was the lowest budget allotted to the agency *Library* in a *single* year?\n",
    "\n",
    "You **must** call the `agency_min` function to answer this question."
   ]
  },
  {
   "cell_type": "markdown",
   "id": "8318dace",
   "metadata": {
    "deletable": false,
    "editable": false
   },
   "source": [
    "Points possible: 3.0"
   ]
  },
  {
   "cell_type": "code",
   "execution_count": 93,
   "id": "bf3f077a",
   "metadata": {
    "deletable": false,
    "editable": true,
    "slideshow": {
     "slide_type": ""
    },
    "tags": []
   },
   "outputs": [
    {
     "data": {
      "text/plain": [
       "18.849564"
      ]
     },
     "execution_count": 93,
     "metadata": {},
     "output_type": "execute_result"
    }
   ],
   "source": [
    "# replace the ... with your code\n",
    "\n",
    "min_budget_library = agency_min(\"Library\")\n",
    "min_budget_library"
   ]
  },
  {
   "cell_type": "code",
   "execution_count": 94,
   "id": "1b5d29a3",
   "metadata": {
    "deletable": false,
    "editable": false
   },
   "outputs": [
    {
     "name": "stdout",
     "output_type": "stream",
     "text": [
      "Make sure you saved the notebook before running this cell. Running check for q5...\n",
      "Great job! You passed all test cases for this question.\n"
     ]
    }
   ],
   "source": [
    "student_grader.check(\"q5\")"
   ]
  },
  {
   "cell_type": "markdown",
   "id": "f3a9cc42",
   "metadata": {
    "deletable": false,
    "editable": false
   },
   "source": [
    "#### Project question 6"
   ]
  },
  {
   "cell_type": "markdown",
   "id": "50a835d8",
   "metadata": {
    "deletable": false,
    "editable": false
   },
   "source": [
    "What was the least budget allotted in any *single* year between the agencies *Fire*, and *Police*?\n",
    "\n",
    "Recall that we can use the `min` function to compute the minimum of some values. The answer to this question is a single floating point number whose value is the lowest budget allotted during a single year during this entire period between *2020-2024* to any of the 2 agencies mentioned.\n",
    "\n",
    "You **must** invoke the `agency_min` function in your answer to this question."
   ]
  },
  {
   "cell_type": "markdown",
   "id": "4c650420",
   "metadata": {
    "deletable": false,
    "editable": false
   },
   "source": [
    "Points possible: 3.0"
   ]
  },
  {
   "cell_type": "code",
   "execution_count": 95,
   "id": "2dfd9c6a",
   "metadata": {
    "deletable": false,
    "editable": true,
    "slideshow": {
     "slide_type": ""
    },
    "tags": []
   },
   "outputs": [
    {
     "data": {
      "text/plain": [
       "57.020341"
      ]
     },
     "execution_count": 95,
     "metadata": {},
     "output_type": "execute_result"
    }
   ],
   "source": [
    "# replace the ... with your code\n",
    "\n",
    "min_budget_fire_police = min(agency_min(\"Fire\"), agency_min(\"Police\"))\n",
    "min_budget_fire_police"
   ]
  },
  {
   "cell_type": "code",
   "execution_count": 96,
   "id": "31474ef7",
   "metadata": {
    "deletable": false,
    "editable": false
   },
   "outputs": [
    {
     "name": "stdout",
     "output_type": "stream",
     "text": [
      "Make sure you saved the notebook before running this cell. Running check for q6...\n",
      "Great job! You passed all test cases for this question.\n"
     ]
    }
   ],
   "source": [
    "student_grader.check(\"q6\")"
   ]
  },
  {
   "cell_type": "markdown",
   "id": "b87c7625",
   "metadata": {
    "deletable": false,
    "editable": false
   },
   "source": [
    "This function must compute the **average** budget for the given `agency` across the five years in the dataset (i.e. *2020 - 2024*).\n",
    "\n",
    "**Hint:** look at the `agency_min` function, since its structure will be very similar. However, instead of returning the minimum of `budget_2020`, `budget_2021`, etc., return the **average** of these by adding them together, then dividing by five. \n",
    "\n",
    "The type of the *return value* **must** be `float`."
   ]
  },
  {
   "cell_type": "markdown",
   "id": "3474fb66",
   "metadata": {
    "deletable": false,
    "editable": false
   },
   "source": [
    "Points possible: 5.0"
   ]
  },
  {
   "cell_type": "code",
   "execution_count": 97,
   "id": "b6e19d26",
   "metadata": {
    "deletable": false,
    "editable": true,
    "slideshow": {
     "slide_type": ""
    },
    "tags": []
   },
   "outputs": [],
   "source": [
    "# replace the pass with your code\n",
    "def agency_avg(agency): # DO NOT EDIT this line \n",
    "\n",
    "    agency_id = project.get_id(agency)\n",
    "    budget_2020 = project.get_budget(agency_id, 2020)\n",
    "    budget_2021 = project.get_budget(agency_id, 2021)\n",
    "    budget_2022 = project.get_budget(agency_id, 2022)\n",
    "    budget_2023 = project.get_budget(agency_id, 2023)\n",
    "    budget_2024 = project.get_budget(agency_id, 2024)\n",
    "\n",
    "    # get the budgets from other years below\n",
    "\n",
    "    # use the min function to get the minimum across the five years\n",
    "    avg_budget_2020_to_2024 = (budget_2020 + budget_2021 + budget_2022 + budget_2023 + budget_2024) / 5\n",
    "    \n",
    "    return avg_budget_2020_to_2024"
   ]
  },
  {
   "cell_type": "code",
   "execution_count": 98,
   "id": "bd989f99",
   "metadata": {
    "deletable": false,
    "editable": false
   },
   "outputs": [
    {
     "name": "stdout",
     "output_type": "stream",
     "text": [
      "Make sure you saved the notebook before running this cell. Running check for agency_avg...\n",
      "Great job! You passed all test cases for this question.\n"
     ]
    }
   ],
   "source": [
    "student_grader.check(\"agency_avg\")"
   ]
  },
  {
   "cell_type": "markdown",
   "id": "6179e151",
   "metadata": {
    "deletable": false,
    "editable": false
   },
   "source": [
    "#### Project question 7"
   ]
  },
  {
   "cell_type": "markdown",
   "id": "1cfb229d",
   "metadata": {
    "deletable": false,
    "editable": false
   },
   "source": [
    "What was the average budget of the agency *Parks* between *2020* and *2024*?\n",
    "\n",
    "You **must** call the `agency_avg` function to answer this question."
   ]
  },
  {
   "cell_type": "markdown",
   "id": "c77dcd06",
   "metadata": {
    "deletable": false,
    "editable": false
   },
   "source": [
    "Points possible: 3.0"
   ]
  },
  {
   "cell_type": "code",
   "execution_count": 99,
   "id": "531cf48f",
   "metadata": {
    "deletable": false,
    "editable": true,
    "tags": []
   },
   "outputs": [
    {
     "data": {
      "text/plain": [
       "15.6961494"
      ]
     },
     "execution_count": 99,
     "metadata": {},
     "output_type": "execute_result"
    }
   ],
   "source": [
    "# relace the .. with your code\n",
    "\n",
    "parks_avg_budget = agency_avg(\"Parks\")\n",
    "parks_avg_budget"
   ]
  },
  {
   "cell_type": "code",
   "execution_count": 100,
   "id": "27d13016",
   "metadata": {
    "deletable": false,
    "editable": false
   },
   "outputs": [
    {
     "name": "stdout",
     "output_type": "stream",
     "text": [
      "Make sure you saved the notebook before running this cell. Running check for q7...\n",
      "Great job! You passed all test cases for this question.\n"
     ]
    }
   ],
   "source": [
    "student_grader.check(\"q7\")"
   ]
  },
  {
   "cell_type": "markdown",
   "id": "0164edb4",
   "metadata": {
    "deletable": false,
    "editable": false
   },
   "source": [
    "#### Project question 8"
   ]
  },
  {
   "cell_type": "markdown",
   "id": "2d8b63b1",
   "metadata": {
    "deletable": false,
    "editable": false
   },
   "source": [
    "What was the average budget of the agency *Public Health* between *2020* and *2024*?\n",
    "\n",
    "You **must** call the `agency_avg` function to answer this question."
   ]
  },
  {
   "cell_type": "markdown",
   "id": "afe1dc86",
   "metadata": {
    "deletable": false,
    "editable": false
   },
   "source": [
    "Points possible: 3.0"
   ]
  },
  {
   "cell_type": "code",
   "execution_count": 101,
   "id": "5f165638",
   "metadata": {
    "deletable": false,
    "editable": true,
    "tags": []
   },
   "outputs": [
    {
     "data": {
      "text/plain": [
       "8.1019888"
      ]
     },
     "execution_count": 101,
     "metadata": {},
     "output_type": "execute_result"
    }
   ],
   "source": [
    "# replace the ... with your code\n",
    "\n",
    "public_health_avg_budget = agency_avg(\"Public Health\")\n",
    "public_health_avg_budget"
   ]
  },
  {
   "cell_type": "code",
   "execution_count": 102,
   "id": "7f7fb93e",
   "metadata": {
    "deletable": false,
    "editable": false
   },
   "outputs": [
    {
     "name": "stdout",
     "output_type": "stream",
     "text": [
      "Make sure you saved the notebook before running this cell. Running check for q8...\n",
      "Great job! You passed all test cases for this question.\n"
     ]
    }
   ],
   "source": [
    "student_grader.check(\"q8\")"
   ]
  },
  {
   "cell_type": "markdown",
   "id": "8aed2e62",
   "metadata": {
    "deletable": false,
    "editable": false
   },
   "source": [
    "#### Project question 9"
   ]
  },
  {
   "cell_type": "markdown",
   "id": "ce1d7d60",
   "metadata": {
    "deletable": false,
    "editable": false
   },
   "source": [
    "Relative to its **average**, how much **higher** or **lower** was the budget of the agency *Public Health* in *2024*?\n",
    "\n",
    "**Hint:** Compute the difference between the **average** budget and the budget in *2024* of *Public Health*. Your answer must be a **positive** number if the budget was **higher** in *2024* than on average. Your answer must be a **negative** number if the budget was **lower** in *2024* than on average.\n",
    "\n",
    "Remember that you defined public_health_avg_budget in the question above. You should use that variable here."
   ]
  },
  {
   "cell_type": "markdown",
   "id": "773a467e",
   "metadata": {
    "deletable": false,
    "editable": false
   },
   "source": [
    "Points possible: 3.0"
   ]
  },
  {
   "cell_type": "code",
   "execution_count": 103,
   "id": "c10b44dd",
   "metadata": {
    "deletable": false,
    "editable": true,
    "tags": []
   },
   "outputs": [
    {
     "data": {
      "text/plain": [
       "2.091483199999999"
      ]
     },
     "execution_count": 103,
     "metadata": {},
     "output_type": "execute_result"
    }
   ],
   "source": [
    "# replace each ... with your code\n",
    "\n",
    "public_health_2024_budget = project.get_budget(public_health_id, 2024)\n",
    "diff_public_health_2024_to_average = public_health_2024_budget - public_health_avg_budget \n",
    "diff_public_health_2024_to_average"
   ]
  },
  {
   "cell_type": "code",
   "execution_count": 104,
   "id": "29bd5b6f",
   "metadata": {
    "deletable": false,
    "editable": false
   },
   "outputs": [
    {
     "name": "stdout",
     "output_type": "stream",
     "text": [
      "Make sure you saved the notebook before running this cell. Running check for q9...\n",
      "Great job! You passed all test cases for this question.\n"
     ]
    }
   ],
   "source": [
    "student_grader.check(\"q9\")"
   ]
  },
  {
   "cell_type": "markdown",
   "id": "1839010a",
   "metadata": {
    "deletable": false,
    "editable": false
   },
   "source": [
    "This function must compute the **total** budget across all agencies for the given `year`.\n",
    "\n",
    "You can start from the following code snippet:"
   ]
  },
  {
   "cell_type": "markdown",
   "id": "6ce96178",
   "metadata": {
    "deletable": false,
    "editable": false
   },
   "source": [
    "Points possible: 5.0"
   ]
  },
  {
   "cell_type": "code",
   "execution_count": 105,
   "id": "d79b2804",
   "metadata": {
    "deletable": false,
    "editable": true,
    "tags": []
   },
   "outputs": [],
   "source": [
    "# Replace the pass with your code\n",
    "\n",
    "def year_budget(year=2024): # DO NOT EDIT THIS LINE\n",
    "    finance_budget = project.get_budget(finance_id, year)\n",
    "    library_budget = project.get_budget(library_id, year)\n",
    "    fire_budget = project.get_budget(fire_id, year)\n",
    "    police_budget = project.get_budget(police_id, year)\n",
    "    public_health_budget = project.get_budget(public_health_id, year)\n",
    "    parks_budget = project.get_budget(parks_id, year)\n",
    "    metro_transit_budget = project.get_budget(metro_transit_id, year)\n",
    "\n",
    "    year_budget = (finance_budget + library_budget + fire_budget + police_budget + public_health_budget + parks_budget + metro_transit_budget)\n",
    "    \n",
    "    return year_budget"
   ]
  },
  {
   "cell_type": "code",
   "execution_count": 106,
   "id": "2a0e4330",
   "metadata": {
    "deletable": false,
    "editable": false
   },
   "outputs": [
    {
     "name": "stdout",
     "output_type": "stream",
     "text": [
      "Make sure you saved the notebook before running this cell. Running check for year_budget...\n",
      "Great job! You passed all test cases for this question.\n"
     ]
    }
   ],
   "source": [
    "student_grader.check(\"year_budget\")"
   ]
  },
  {
   "cell_type": "markdown",
   "id": "9f350714",
   "metadata": {
    "deletable": false,
    "editable": false
   },
   "source": [
    "#### Project question 10"
   ]
  },
  {
   "cell_type": "markdown",
   "id": "812eff4b",
   "metadata": {
    "deletable": false,
    "editable": false
   },
   "source": [
    "What was the **total** budget across all seven agencies in *2024*?\n",
    "\n",
    "You **must** call the `year_budget` function to answer this question. Notice that the year in question is the same as the default argument (so your call to `year_sum` function does not need to pass any arguments)."
   ]
  },
  {
   "cell_type": "markdown",
   "id": "9eed609e",
   "metadata": {
    "deletable": false,
    "editable": false
   },
   "source": [
    "Points possible: 3.0"
   ]
  },
  {
   "cell_type": "code",
   "execution_count": 107,
   "id": "6653c8eb",
   "metadata": {
    "deletable": false,
    "editable": true,
    "tags": []
   },
   "outputs": [
    {
     "data": {
      "text/plain": [
       "229.94246900000002"
      ]
     },
     "execution_count": 107,
     "metadata": {},
     "output_type": "execute_result"
    }
   ],
   "source": [
    "# replace the ... with your code\n",
    "\n",
    "total_budget_2024 = year_budget(year=2024)\n",
    "total_budget_2024"
   ]
  },
  {
   "cell_type": "code",
   "execution_count": 108,
   "id": "c860d366",
   "metadata": {
    "deletable": false,
    "editable": false
   },
   "outputs": [
    {
     "name": "stdout",
     "output_type": "stream",
     "text": [
      "Make sure you saved the notebook before running this cell. Running check for q10...\n",
      "Great job! You passed all test cases for this question.\n"
     ]
    }
   ],
   "source": [
    "student_grader.check(\"q10\")"
   ]
  },
  {
   "cell_type": "markdown",
   "id": "95313045",
   "metadata": {
    "deletable": false,
    "editable": false
   },
   "source": [
    "#### Project question 11"
   ]
  },
  {
   "cell_type": "markdown",
   "id": "6d544c4c",
   "metadata": {
    "deletable": false,
    "editable": false
   },
   "source": [
    "What was the **total** budget across all seven agencies across the years *2020-2022* (both years included)?\n",
    "\n",
    "You **must** invoke the `year_budget` function in your answer to this question."
   ]
  },
  {
   "cell_type": "markdown",
   "id": "b4fce8ee",
   "metadata": {
    "deletable": false,
    "editable": false
   },
   "source": [
    "Points possible: 4.0"
   ]
  },
  {
   "cell_type": "code",
   "execution_count": 109,
   "id": "ae09ba46",
   "metadata": {
    "deletable": false,
    "editable": true,
    "tags": []
   },
   "outputs": [
    {
     "data": {
      "text/plain": [
       "592.431386"
      ]
     },
     "execution_count": 109,
     "metadata": {},
     "output_type": "execute_result"
    }
   ],
   "source": [
    "# replace the ... with your code\n",
    "\n",
    "total_budget_2020_to_2022 = year_budget(year=2020) + year_budget(year=2021) + year_budget(year=2022)\n",
    "total_budget_2020_to_2022"
   ]
  },
  {
   "cell_type": "code",
   "execution_count": 110,
   "id": "7d8558b3",
   "metadata": {
    "deletable": false,
    "editable": false
   },
   "outputs": [
    {
     "name": "stdout",
     "output_type": "stream",
     "text": [
      "Make sure you saved the notebook before running this cell. Running check for q11...\n",
      "Great job! You passed all test cases for this question.\n"
     ]
    }
   ],
   "source": [
    "student_grader.check(\"q11\")"
   ]
  },
  {
   "cell_type": "markdown",
   "id": "10dceff6",
   "metadata": {
    "deletable": false,
    "editable": false
   },
   "source": [
    "This function should return the **average increase or decrease** in budget (must be **positive** if there's an **increase**, and **negative** if there’s a **decrease**) over the period from `start_year` to `end_year` for the given `agency`.\n",
    "\n",
    "\n",
    "$$\n",
    "budget\\_change\\_per\\_year = \\frac{budget_{year2}−budget_{year1}}{year2−year1}\n",
    "$$\n",
    "\n",
    "The type of the *return value* **must** be `float`.\n",
    "\n",
    "Recall that you created a similar function in the lab. You can start with the following code snippet (with the default arguments):"
   ]
  },
  {
   "cell_type": "markdown",
   "id": "2a8b2be2",
   "metadata": {
    "deletable": false,
    "editable": false
   },
   "source": [
    "Points possible: 6.0"
   ]
  },
  {
   "cell_type": "code",
   "execution_count": 111,
   "id": "ebd6bf18",
   "metadata": {
    "deletable": false,
    "editable": true,
    "tags": []
   },
   "outputs": [],
   "source": [
    "# replace the pass with your code\n",
    "\n",
    "def change_budget_per_year(agency, start_year=2020, end_year=2024): # DO NOT EDIT THIS LINE\n",
    "    agency_id = project.get_id(agency)\n",
    "    budget_2020 = project.get_budget(agency_id, 2020)\n",
    "    budget_2021 = project.get_budget(agency_id, 2021)\n",
    "    budget_2022 = project.get_budget(agency_id, 2022)\n",
    "    budget_2023 = project.get_budget(agency_id, 2023)\n",
    "    budget_2024 = project.get_budget(agency_id, 2024)\n",
    "    budget_end_year = project.get_budget(agency_id, end_year)\n",
    "    budget_start_year = project.get_budget(agency_id, start_year)\n",
    "    \n",
    "    difference_between_year = end_year - start_year\n",
    "    difference_between_budget = budget_end_year - budget_start_year\n",
    "    change_budget_per_year = difference_between_budget / difference_between_year\n",
    "    \n",
    "    return change_budget_per_year"
   ]
  },
  {
   "cell_type": "code",
   "execution_count": 112,
   "id": "a9dacd8d",
   "metadata": {
    "deletable": false,
    "editable": false
   },
   "outputs": [
    {
     "name": "stdout",
     "output_type": "stream",
     "text": [
      "Make sure you saved the notebook before running this cell. Running check for change_budget_per_year...\n",
      "Great job! You passed all test cases for this question.\n"
     ]
    }
   ],
   "source": [
    "student_grader.check(\"change_budget_per_year\")"
   ]
  },
  {
   "cell_type": "markdown",
   "id": "d0926a7a",
   "metadata": {
    "deletable": false,
    "editable": false
   },
   "source": [
    "#### Project question 12"
   ]
  },
  {
   "cell_type": "markdown",
   "id": "2d315faf",
   "metadata": {
    "deletable": false,
    "editable": false
   },
   "source": [
    "How much has the budget of the agency *Police* changed per year (on average) from *2020* to *2024*?\n",
    "\n",
    "Use the default arguments (your call to the `change_budget_per_year` function should not pass any more arguments than is necessary)."
   ]
  },
  {
   "cell_type": "markdown",
   "id": "d1b075db",
   "metadata": {
    "deletable": false,
    "editable": false
   },
   "source": [
    "Points possible: 4.0"
   ]
  },
  {
   "cell_type": "code",
   "execution_count": 113,
   "id": "7237ce6f",
   "metadata": {
    "deletable": false,
    "editable": true,
    "tags": []
   },
   "outputs": [
    {
     "data": {
      "text/plain": [
       "2.3006635000000024"
      ]
     },
     "execution_count": 113,
     "metadata": {},
     "output_type": "execute_result"
    }
   ],
   "source": [
    "# replace the ... with your code\n",
    "\n",
    "police_average_change = change_budget_per_year(\"Police\")\n",
    "police_average_change"
   ]
  },
  {
   "cell_type": "code",
   "execution_count": 114,
   "id": "0909049a",
   "metadata": {
    "deletable": false,
    "editable": false
   },
   "outputs": [
    {
     "name": "stdout",
     "output_type": "stream",
     "text": [
      "Make sure you saved the notebook before running this cell. Running check for q12...\n",
      "Great job! You passed all test cases for this question.\n"
     ]
    }
   ],
   "source": [
    "student_grader.check(\"q12\")"
   ]
  },
  {
   "cell_type": "markdown",
   "id": "9e2add8f",
   "metadata": {
    "deletable": false,
    "editable": false
   },
   "source": [
    "#### Project question 13"
   ]
  },
  {
   "cell_type": "markdown",
   "id": "8b3d297f",
   "metadata": {
    "deletable": false,
    "editable": false
   },
   "source": [
    "How much has the budget of the agency *Fire* changed per year (on average) from *2021* to *2024*?\n",
    "\n",
    "Use the default arguments (your call to the `change_budget_per_year` function should not pass any more arguments than is absolutely necessary)."
   ]
  },
  {
   "cell_type": "markdown",
   "id": "244fedd5",
   "metadata": {
    "deletable": false,
    "editable": false
   },
   "source": [
    "Points possible: 4.0"
   ]
  },
  {
   "cell_type": "code",
   "execution_count": 115,
   "id": "8ae586cf",
   "metadata": {
    "deletable": false,
    "editable": true,
    "tags": []
   },
   "outputs": [
    {
     "data": {
      "text/plain": [
       "3.0374320000000004"
      ]
     },
     "execution_count": 115,
     "metadata": {},
     "output_type": "execute_result"
    }
   ],
   "source": [
    "# replace the ... with your code\n",
    "\n",
    "fire_average_change = change_budget_per_year(\"Fire\", 2021, 2024)\n",
    "fire_average_change"
   ]
  },
  {
   "cell_type": "code",
   "execution_count": 116,
   "id": "cdc52eda",
   "metadata": {
    "deletable": false,
    "editable": false
   },
   "outputs": [
    {
     "name": "stdout",
     "output_type": "stream",
     "text": [
      "Make sure you saved the notebook before running this cell. Running check for q13...\n",
      "Great job! You passed all test cases for this question.\n"
     ]
    }
   ],
   "source": [
    "student_grader.check(\"q13\")"
   ]
  },
  {
   "cell_type": "markdown",
   "id": "68d19adf",
   "metadata": {
    "deletable": false,
    "editable": false
   },
   "source": [
    "#### Project question 14"
   ]
  },
  {
   "cell_type": "markdown",
   "id": "50410eda",
   "metadata": {
    "deletable": false,
    "editable": false
   },
   "source": [
    "How much has the budget of the agency *Finance* changed per year (on average) from *2020* to *2022*?\n",
    "\n",
    "Use the default argument for `start_year` and specify `end_year` as a named argument. Your call to the `change_budget_per_year` function should not pass any more arguments than is absolutely necessary"
   ]
  },
  {
   "cell_type": "markdown",
   "id": "c5eca14f",
   "metadata": {
    "deletable": false,
    "editable": false
   },
   "source": [
    "Points possible: 4.0"
   ]
  },
  {
   "cell_type": "code",
   "execution_count": 117,
   "id": "79efde72",
   "metadata": {
    "deletable": false,
    "editable": true,
    "slideshow": {
     "slide_type": ""
    },
    "tags": []
   },
   "outputs": [
    {
     "data": {
      "text/plain": [
       "-0.00834950000000001"
      ]
     },
     "execution_count": 117,
     "metadata": {},
     "output_type": "execute_result"
    }
   ],
   "source": [
    "# replace the ... with your code\n",
    "   \n",
    "finance_average_change = change_budget_per_year(\"Finance\", end_year=2022)\n",
    "finance_average_change"
   ]
  },
  {
   "cell_type": "code",
   "execution_count": 118,
   "id": "c91f2196",
   "metadata": {
    "deletable": false,
    "editable": false
   },
   "outputs": [
    {
     "name": "stdout",
     "output_type": "stream",
     "text": [
      "Make sure you saved the notebook before running this cell. Running check for q14...\n",
      "Great job! You passed all test cases for this question.\n"
     ]
    }
   ],
   "source": [
    "student_grader.check(\"q14\")"
   ]
  },
  {
   "cell_type": "markdown",
   "id": "2bfe46b8",
   "metadata": {
    "deletable": false,
    "editable": false
   },
   "source": [
    "#### Project question 15"
   ]
  },
  {
   "cell_type": "markdown",
   "id": "f0ec8724",
   "metadata": {
    "deletable": false,
    "editable": false
   },
   "source": [
    "How much has the budget of the agency *Metro Transit* changed per year (on average) from *2021* to *2023*?"
   ]
  },
  {
   "cell_type": "markdown",
   "id": "b20cf8c3",
   "metadata": {
    "deletable": false,
    "editable": false
   },
   "source": [
    "Points possible: 4.0"
   ]
  },
  {
   "cell_type": "code",
   "execution_count": 119,
   "id": "e6a59fc4",
   "metadata": {
    "deletable": false,
    "editable": true,
    "tags": []
   },
   "outputs": [
    {
     "data": {
      "text/plain": [
       "-3.2508255"
      ]
     },
     "execution_count": 119,
     "metadata": {},
     "output_type": "execute_result"
    }
   ],
   "source": [
    "metro_transit_average_change = change_budget_per_year(\"Metro Transit\", start_year=2021, end_year=2023)\n",
    "metro_transit_average_change"
   ]
  },
  {
   "cell_type": "code",
   "execution_count": 120,
   "id": "5e222e42",
   "metadata": {
    "deletable": false,
    "editable": false
   },
   "outputs": [
    {
     "name": "stdout",
     "output_type": "stream",
     "text": [
      "Make sure you saved the notebook before running this cell. Running check for q15...\n",
      "Great job! You passed all test cases for this question.\n"
     ]
    }
   ],
   "source": [
    "student_grader.check(\"q15\")"
   ]
  },
  {
   "cell_type": "markdown",
   "id": "0e741c19",
   "metadata": {
    "deletable": false,
    "editable": false
   },
   "source": [
    "#### Project function 6: `extrapolate`"
   ]
  },
  {
   "cell_type": "markdown",
   "id": "2fe98ab8-b66e-4bc2-8d70-5a5ddac2f1a2",
   "metadata": {
    "deletable": false,
    "editable": false,
    "slideshow": {
     "slide_type": ""
    },
    "tags": []
   },
   "source": [
    "This function computes the **average** change per year from the data from `start_year` to `end_year` for `agency`. It then returns the **predicted budget** in `target_year`, assuming the budget continues increasing (or decreasing) by that same **constant** amount each year.\n",
    "\n",
    "The type of the *return value* **must** be `float`.\n",
    "\n",
    "Here's the formula written out:\n",
    "\n",
    "$$\n",
    "predicted\\_budget = budget_{year2} + \\frac{budget_{year2} - budget_{year1}}{year_2-year_1} * ({year_{target} - {year_2}})\n",
    "$$\n",
    "\n",
    "You can think of this formula as trying to find the y position ($predicted\\_budget$) of a point given an x position (${year_{target} - {year_2}}$ years into the future), a slope (average budget change per year), and a y-intercept ($budget_{year2}$).\n",
    "\n",
    "Here's an example for where an agency had a budget of 1 in 2020 and a budget of 2 in 2022, where we want to predict what that agency's budget will be in 2030:\n",
    "\n",
    "$$\n",
    "predicted\\_budget_{2030} = \n",
    "$$\n",
    "$$\n",
    "2 + change\\_budget\\_per\\_year(agency, 2020, 2022) * (2030 - 2022)\n",
    "$$\n",
    "$$\n",
    "= 2 + \\frac{2 - 1}{2022 - 2020} * 8\n",
    "$$\n",
    "$$\n",
    "= 2 + \\frac{1}{2} * 8\n",
    "$$\n",
    "$$\n",
    "= 2 + 4\n",
    "$$\n",
    "$$\n",
    "= 6\n",
    "$$\n",
    "\n",
    "You **must** call the `change_budget_per_year` function in the definition of `extrapolate`. **Do not** manually recompute the average change in budget."
   ]
  },
  {
   "cell_type": "markdown",
   "id": "0601bdd9",
   "metadata": {
    "deletable": false,
    "editable": false
   },
   "source": [
    "Points possible: 6.0"
   ]
  },
  {
   "cell_type": "code",
   "execution_count": 121,
   "id": "64b3a31f",
   "metadata": {
    "deletable": false,
    "editable": true,
    "slideshow": {
     "slide_type": ""
    },
    "tags": []
   },
   "outputs": [],
   "source": [
    "# replace the pass with your code\n",
    "\n",
    "def extrapolate(agency, target_year, start_year=2020, end_year=2024): # DO NOT EDIT this line\n",
    "    agency_id = project.get_id(agency)\n",
    "    budget_2020 = project.get_budget(agency_id, 2020)\n",
    "    budget_2021 = project.get_budget(agency_id, 2021)\n",
    "    budget_2022 = project.get_budget(agency_id, 2022)\n",
    "    budget_2023 = project.get_budget(agency_id, 2023)\n",
    "    budget_2024 = project.get_budget(agency_id, 2024)\n",
    "    budget_end_year = project.get_budget(agency_id, end_year)\n",
    "    budget_start_year = project.get_budget(agency_id, start_year)\n",
    "    rate_of_change = change_budget_per_year(agency, start_year, end_year)\n",
    "\n",
    "    estimate_budget_target_year = budget_end_year + (target_year - end_year) * rate_of_change\n",
    "    \n",
    "    return estimate_budget_target_year"
   ]
  },
  {
   "cell_type": "code",
   "execution_count": 122,
   "id": "e826c4f4",
   "metadata": {
    "deletable": false,
    "editable": false
   },
   "outputs": [
    {
     "name": "stdout",
     "output_type": "stream",
     "text": [
      "Make sure you saved the notebook before running this cell. Running check for extrapolate...\n",
      "Great job! You passed all test cases for this question.\n"
     ]
    }
   ],
   "source": [
    "student_grader.check(\"extrapolate\")"
   ]
  },
  {
   "cell_type": "markdown",
   "id": "5e619eb5",
   "metadata": {
    "deletable": false,
    "editable": false
   },
   "source": [
    "#### Project question 16"
   ]
  },
  {
   "cell_type": "markdown",
   "id": "0b9aef22",
   "metadata": {
    "deletable": false,
    "editable": false
   },
   "source": [
    "What is the **estimated** budget for the agency *Library* in *2026* based on the **average change** in budget per year for it between *2020* and *2024*?\n",
    "\n",
    "You **must** call the `extrapolate` function to answer this question. Use the default arguments for `start_year` and `end_year`. Your call to `extrapolate` should not pass any more arguments than is absolutely necessary."
   ]
  },
  {
   "cell_type": "markdown",
   "id": "f73f3bc5",
   "metadata": {
    "deletable": false,
    "editable": false
   },
   "source": [
    "Points possible: 4.0"
   ]
  },
  {
   "cell_type": "code",
   "execution_count": 123,
   "id": "ce41449b",
   "metadata": {
    "deletable": false,
    "editable": true,
    "tags": []
   },
   "outputs": [
    {
     "data": {
      "text/plain": [
       "21.540914"
      ]
     },
     "execution_count": 123,
     "metadata": {},
     "output_type": "execute_result"
    }
   ],
   "source": [
    "# replace the ... with your code\n",
    "\n",
    "library_budget_2026 = extrapolate(\"Library\", 2026, 2020, 2024)\n",
    "library_budget_2026"
   ]
  },
  {
   "cell_type": "code",
   "execution_count": 124,
   "id": "85b91b56",
   "metadata": {
    "deletable": false,
    "editable": false
   },
   "outputs": [
    {
     "name": "stdout",
     "output_type": "stream",
     "text": [
      "Make sure you saved the notebook before running this cell. Running check for q16...\n",
      "Great job! You passed all test cases for this question.\n"
     ]
    }
   ],
   "source": [
    "student_grader.check(\"q16\")"
   ]
  },
  {
   "cell_type": "markdown",
   "id": "f0b30959",
   "metadata": {
    "deletable": false,
    "editable": false
   },
   "source": [
    "#### Project question 17"
   ]
  },
  {
   "cell_type": "markdown",
   "id": "53cd9e27",
   "metadata": {
    "deletable": false,
    "editable": false
   },
   "source": [
    "What is the **estimated budget** for the agency *Parks* in *2030* based on the **average change** in budget per year for it between *2022* and *2024*?\n",
    "\n",
    "You **must** call the `extrapolate` function to answer this question. Use the default argument for `end_year` since its default value is 2024."
   ]
  },
  {
   "cell_type": "markdown",
   "id": "7185f73b",
   "metadata": {
    "deletable": false,
    "editable": false
   },
   "source": [
    "Points possible: 4.0"
   ]
  },
  {
   "cell_type": "code",
   "execution_count": 125,
   "id": "520c9927",
   "metadata": {
    "deletable": false,
    "editable": true,
    "scrolled": true,
    "slideshow": {
     "slide_type": ""
    },
    "tags": []
   },
   "outputs": [
    {
     "data": {
      "text/plain": [
       "19.860642"
      ]
     },
     "execution_count": 125,
     "metadata": {},
     "output_type": "execute_result"
    }
   ],
   "source": [
    "# replace the ... with your code\n",
    "\n",
    "parks_budget_2030 = extrapolate(\"Parks\", 2030, 2022, 2024)\n",
    "parks_budget_2030"
   ]
  },
  {
   "cell_type": "code",
   "execution_count": 126,
   "id": "e06b7b7e",
   "metadata": {
    "deletable": false,
    "editable": false
   },
   "outputs": [
    {
     "name": "stdout",
     "output_type": "stream",
     "text": [
      "Make sure you saved the notebook before running this cell. Running check for q17...\n",
      "Great job! You passed all test cases for this question.\n"
     ]
    }
   ],
   "source": [
    "student_grader.check(\"q17\")"
   ]
  },
  {
   "cell_type": "markdown",
   "id": "ab164667",
   "metadata": {
    "deletable": false,
    "editable": false
   },
   "source": [
    "#### Project question 18"
   ]
  },
  {
   "cell_type": "markdown",
   "id": "97027b73",
   "metadata": {
    "deletable": false,
    "editable": false
   },
   "source": [
    "What is the **difference** between the **estimated budget** for the agency *Police* in *2024* based on the **average change** per year between *2020* and *2023* and the **actual** budget in *2024*?\n",
    "\n",
    "You **must** invoke the `extrapolate` function in your answer to this question. A **positive** answer implies that the actual budget in *2024* is **higher**, while a negative answer implies that it is lower. Use the default argument for `start_year` since `2020` is its default value."
   ]
  },
  {
   "cell_type": "markdown",
   "id": "6710b8b0",
   "metadata": {
    "deletable": false,
    "editable": false
   },
   "source": [
    "Points possible: 4.0"
   ]
  },
  {
   "cell_type": "code",
   "execution_count": 127,
   "id": "c40e7778",
   "metadata": {
    "deletable": false,
    "editable": true,
    "tags": []
   },
   "outputs": [
    {
     "data": {
      "text/plain": [
       "2.4207633333333263"
      ]
     },
     "execution_count": 127,
     "metadata": {},
     "output_type": "execute_result"
    }
   ],
   "source": [
    "# replace each ... with your code\n",
    "police_id = project.get_id('Police')\n",
    "police_budget_2024_actual = project.get_budget(police_id, 2024)\n",
    "police_budget_2024_estimated = extrapolate('Police', 2024, 2020, 2023)\n",
    "police_diff_estimate_budget = police_budget_2024_actual - police_budget_2024_estimated\n",
    "police_diff_estimate_budget"
   ]
  },
  {
   "cell_type": "code",
   "execution_count": 128,
   "id": "a3f450ed",
   "metadata": {
    "deletable": false,
    "editable": false
   },
   "outputs": [
    {
     "name": "stdout",
     "output_type": "stream",
     "text": [
      "Make sure you saved the notebook before running this cell. Running check for q18...\n",
      "Great job! You passed all test cases for this question.\n"
     ]
    }
   ],
   "source": [
    "student_grader.check(\"q18\")"
   ]
  },
  {
   "cell_type": "markdown",
   "id": "ae6fc464",
   "metadata": {
    "deletable": false,
    "editable": false
   },
   "source": [
    "#### Project question 19"
   ]
  },
  {
   "cell_type": "markdown",
   "id": "86d37b62",
   "metadata": {
    "deletable": false,
    "editable": false
   },
   "source": [
    "What is the **difference** between the **estimated budget** for the agency *Metro Transit* in *2024* based on the **average change** per year between *2020* and *2023* and the **actual** budget in *2024*?\n",
    "\n",
    "You **must** invoke the `extrapolate` function in your answer to this question. A **positive** answer implies that the actual budget in *2024* is **higher**, while a negative answer implies that it is lower.\n",
    "\n",
    "Use the default arguments where possible (your call to `extrapolate` function should not pass any more arguments than is absolutely necessary)."
   ]
  },
  {
   "cell_type": "markdown",
   "id": "96a6e346",
   "metadata": {
    "deletable": false,
    "editable": false
   },
   "source": [
    "Points possible: 4.0"
   ]
  },
  {
   "cell_type": "code",
   "execution_count": 129,
   "id": "d1d2a714",
   "metadata": {
    "deletable": false,
    "editable": true,
    "tags": []
   },
   "outputs": [
    {
     "data": {
      "text/plain": [
       "15.896331"
      ]
     },
     "execution_count": 129,
     "metadata": {},
     "output_type": "execute_result"
    }
   ],
   "source": [
    "# replace the ... with your code\n",
    "\n",
    "metro_transit_id = project.get_id('Metro Transit')\n",
    "metro_transit_budget_2024_actual = project.get_budget(metro_transit_id, 2024)\n",
    "metro_transit_budget_2024_estimated = extrapolate('Metro Transit', 2024, 2020, 2023)\n",
    "metro_transit_diff_estimate_budget = metro_transit_budget_2024_actual - metro_transit_budget_2024_estimated\n",
    "metro_transit_diff_estimate_budget"
   ]
  },
  {
   "cell_type": "code",
   "execution_count": 130,
   "id": "0f617f6c",
   "metadata": {
    "deletable": false,
    "editable": false
   },
   "outputs": [
    {
     "name": "stdout",
     "output_type": "stream",
     "text": [
      "Make sure you saved the notebook before running this cell. Running check for q19...\n",
      "Great job! You passed all test cases for this question.\n"
     ]
    }
   ],
   "source": [
    "student_grader.check(\"q19\")"
   ]
  },
  {
   "cell_type": "markdown",
   "id": "08124167",
   "metadata": {
    "deletable": false,
    "editable": false
   },
   "source": [
    "#### Project question 20"
   ]
  },
  {
   "cell_type": "markdown",
   "id": "6c660b95",
   "metadata": {
    "deletable": false,
    "editable": false
   },
   "source": [
    "What is the **standard deviation** of the budget allotted to the agency *Metro Transit* over the five years?\n",
    "\n",
    "**Instructions:** Compute the *population standard deviation* using this [article for reference](https://en.wikipedia.org/wiki/Standard_deviation#Population_standard_deviation_of_grades_of_eight_students). \n",
    "\n",
    "**Hint:** You have 5 data points for this computation. After calculating the squared deviations of each data point from the mean, you will find their average by summing up these squared deviations and dividing by 5.\n",
    "\n",
    "**Hint:** Use the `agency_avg` function to find the average budget for this agency across the 5 years.\n",
    "\n",
    "**Hint:** You can find the square root of any number by raising it to the exponent `0.5`. In other words, the square root of `2` can be computed as `2**(0.5)`."
   ]
  },
  {
   "cell_type": "markdown",
   "id": "3c4cf107",
   "metadata": {
    "deletable": false,
    "editable": false
   },
   "source": [
    "Points possible: 5.0"
   ]
  },
  {
   "cell_type": "code",
   "execution_count": 131,
   "id": "f8b10fcc",
   "metadata": {
    "deletable": false,
    "editable": true,
    "tags": []
   },
   "outputs": [
    {
     "data": {
      "text/plain": [
       "4.343140208145374"
      ]
     },
     "execution_count": 131,
     "metadata": {},
     "output_type": "execute_result"
    }
   ],
   "source": [
    "# Add variables here as needed, then replace the ... with your code\n",
    "def population_standard_deviation(agency, start_year, end_year):\n",
    "\n",
    "    agency_id = project.get_id(agency)\n",
    "    budget_2020 = project.get_budget(agency_id, 2020)\n",
    "    budget_2021 = project.get_budget(agency_id, 2021)\n",
    "    budget_2022 = project.get_budget(agency_id, 2022)\n",
    "    budget_2023 = project.get_budget(agency_id, 2023)\n",
    "    budget_2024 = project.get_budget(agency_id, 2024)\n",
    "\n",
    "    agency_avg(\"Metro Transit\") == (budget_2020 + budget_2021 + budget_2022 + budget_2023 + budget_2024) / 5\n",
    "    \n",
    "    squared_deviation_of_2020 = (budget_2020 - agency_avg(\"Metro Transit\")) ** 2\n",
    "    squared_deviation_of_2021 = (budget_2021 - agency_avg(\"Metro Transit\")) ** 2\n",
    "    squared_deviation_of_2022 = (budget_2022 - agency_avg(\"Metro Transit\")) ** 2\n",
    "    squared_deviation_of_2023 = (budget_2023 - agency_avg(\"Metro Transit\")) ** 2\n",
    "    squared_deviation_of_2024 = (budget_2024 - agency_avg(\"Metro Transit\")) ** 2\n",
    "    \n",
    "    mean_squared_deviation = (squared_deviation_of_2020 + squared_deviation_of_2021 + squared_deviation_of_2022 + squared_deviation_of_2023 + squared_deviation_of_2024) / 5\n",
    "    population_standard_deviation =  mean_squared_deviation ** 0.5\n",
    "\n",
    "    return population_standard_deviation\n",
    "\n",
    "metro_transit_budget_std_dev = population_standard_deviation(\"Metro Transit\", 2020, 2024)\n",
    "metro_transit_budget_std_dev\n"
   ]
  },
  {
   "cell_type": "code",
   "execution_count": 177,
   "id": "573392f9",
   "metadata": {
    "deletable": false,
    "editable": false
   },
   "outputs": [],
   "source": [
    "student_grader.check(\"q20\")"
   ]
  },
  {
   "cell_type": "markdown",
   "id": "af2726d4",
   "metadata": {
    "deletable": false,
    "editable": false
   },
   "source": [
    "## Submission and Grading"
   ]
  },
  {
   "cell_type": "markdown",
   "id": "dd31387d",
   "metadata": {
    "deletable": false,
    "editable": false
   },
   "source": [
    "**Congrats on finishing p3!**\n",
    "\n",
    "Now, please submit your `p3.ipynb` file on gradescope. This will follow the exact same process you used when submitting earlier projects. Please post on Piazza if you run into any issues when uploading your notebook to gradescope."
   ]
  }
 ],
 "metadata": {
  "kernelspec": {
   "display_name": "Python 3 (ipykernel)",
   "language": "python",
   "name": "python3"
  },
  "language_info": {
   "codemirror_mode": {
    "name": "ipython",
    "version": 3
   },
   "file_extension": ".py",
   "mimetype": "text/x-python",
   "name": "python",
   "nbconvert_exporter": "python",
   "pygments_lexer": "ipython3",
   "version": "3.10.12"
  }
 },
 "nbformat": 4,
 "nbformat_minor": 5
}
