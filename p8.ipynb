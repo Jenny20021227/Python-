{
 "cells": [
  {
   "cell_type": "markdown",
   "id": "25950726",
   "metadata": {
    "deletable": false,
    "editable": false,
    "slideshow": {
     "slide_type": ""
    },
    "tags": []
   },
   "source": [
    "# Project 8: Going to the Movies"
   ]
  },
  {
   "cell_type": "markdown",
   "id": "b06db0d7",
   "metadata": {
    "deletable": false,
    "editable": false,
    "slideshow": {
     "slide_type": ""
    },
    "tags": []
   },
   "source": [
    "## Your Information"
   ]
  },
  {
   "cell_type": "markdown",
   "id": "ec961d9f-8525-4d5e-a14b-051c2e3a3a3e",
   "metadata": {
    "deletable": false,
    "editable": false
   },
   "source": [
    "At the start of each assignment, you will need to provide us your name and the name of the partner you worked with for this assignment (if you had one). Double click on the cell below or click once and hit enter to edit it. Replace \"First Last\" with your first name and last name. Replace \"None\" with the first and last name of your partner if you had one for this assignment. We ask for this information so we don't accuse you of cheating when your code looks like your partner's.\n",
    "\n",
    "Please keep these lines commented so they don't cause an error."
   ]
  },
  {
   "cell_type": "code",
   "execution_count": 8,
   "id": "7a0e0430-31c1-4e4c-9388-cae3d907fb5a",
   "metadata": {
    "deletable": false,
    "editable": true,
    "slideshow": {
     "slide_type": ""
    },
    "tags": []
   },
   "outputs": [],
   "source": [
    "# MY NAME: Hyokyung Kim\n",
    "\n",
    "# MY PARTNER'S Name: None"
   ]
  },
  {
   "cell_type": "markdown",
   "id": "cd1876ac",
   "metadata": {
    "deletable": false,
    "editable": false,
    "slideshow": {
     "slide_type": ""
    },
    "tags": []
   },
   "source": [
    "## Imports"
   ]
  },
  {
   "cell_type": "markdown",
   "id": "b475ff95",
   "metadata": {
    "deletable": false,
    "editable": false,
    "slideshow": {
     "slide_type": ""
    },
    "tags": []
   },
   "source": [
    "Every project will begin with some import statements. It's crucial that you run the cell below, otherwise we will not be able to grade your code and provide feedback to you."
   ]
  },
  {
   "cell_type": "code",
   "execution_count": 9,
   "id": "937ecaa5",
   "metadata": {
    "deletable": false,
    "editable": true,
    "slideshow": {
     "slide_type": ""
    },
    "tags": []
   },
   "outputs": [],
   "source": [
    "# it is considered a good coding practice to place all import statements at the top of the notebook\n",
    "\n",
    "import csv\n",
    "import copy\n",
    "import os\n",
    "import student_grader_with_feedback\n",
    "student_grader_with_feedback.initialize(os.getcwd(), \"p8\")"
   ]
  },
  {
   "cell_type": "markdown",
   "id": "c52a2373",
   "metadata": {
    "deletable": false,
    "editable": false,
    "slideshow": {
     "slide_type": ""
    },
    "tags": []
   },
   "source": [
    "## Learning Objectives"
   ]
  },
  {
   "cell_type": "markdown",
   "id": "50e8db61",
   "metadata": {
    "deletable": false,
    "editable": false,
    "slideshow": {
     "slide_type": ""
    },
    "tags": []
   },
   "source": [
    "In this assignment, you will...\n",
    "\n",
    "* integrate relevant information from various sources (e.g. multiple csv files),\n",
    "* build appropriate data structures for organization and informative presentation (e.g. list of dictionaries),\n",
    "* practice good coding style."
   ]
  },
  {
   "cell_type": "markdown",
   "id": "80b120bf",
   "metadata": {
    "deletable": false,
    "editable": false,
    "slideshow": {
     "slide_type": ""
    },
    "tags": []
   },
   "source": [
    "<h2 style=\"color:red\">Warning (Note on Academic Misconduct):</h2>\n",
    "\n",
    "**IMPORTANT**: **P8 and P9 are two parts of the same data analysis.** You **cannot** switch project partners between these two projects. That is if you partner up with someone for P8, you have to sustain that partnership until end of P9.\n",
    "Be careful not to work with more than one partner. If you work with a partner on Lab-P8, you are **not** allowed to finish your project with a different partner.\n",
    "You may either continue to work with the same partner, or work on P8 and P9 alone. Now may be a good time to review [our course policies](https://cs220.cs.wisc.edu/f24/syllabus.html).\n",
    "\n",
    "Under any circumstances, **no more than two students are allowed to work together on a project** as mentioned in the course policies. If your code is flagged by our code similarity detection tools, **both partners will be responsible** for sharing/copying the code, even if the code is shared/copied by one of the partners with/from other non-partner student(s). Note that each case of plagiarism will be reported to the Dean of Students with a zero grade on the project. **If you think that someone cannot be your project partner then don’t make that student your lab partner.**"
   ]
  },
  {
   "cell_type": "markdown",
   "id": "84dfe105",
   "metadata": {
    "deletable": false,
    "editable": false,
    "slideshow": {
     "slide_type": ""
    },
    "tags": []
   },
   "source": [
    "## Background Information\n",
    "\n",
    "In P8 and P9, we will be working on the [IMDb Movies Dataset](https://www.imdb.com/interfaces/). We will use Python to discover some cool facts about our favorite movies, cast, and directors.\n",
    "\n",
    "In Lab-P8, you will work with a small subset of movies, and practice writing some code to parse the data stored in small_mapping.csv and small_movies.csv. You can then use this code to parse the much larger datasets in P8 and P9.\n",
    "\n",
    "## The Data\n",
    "\n",
    "Open `small_movies.csv` and `small_mapping.csv` in any spreadsheet viewer, and see what the data looks like. When seen with a good spreadsheet viewer, this is what `small_movies.csv` will look like:\n",
    "\n",
    "\n",
    "|title|year|duration|genres|rating|directors|cast|\n",
    "| ----  |-----------------|-----------------------------|----------|---------------------------------------------------------------------|----------------------------------------------|--------|\n",
    "|tt15239678|2024|166|\"Action, Adventure, Drama\"|9.0|nm0898288|\"nm3154303, nm3918035, nm0272581, nm0000849\"|\n",
    "|tt1517268|2023|114|\"Adventure, Comedy, Fantasy\"|7.5|nm1950086|\"nm3053338, nm0331516, nm4793987, nm0571952\"|\n",
    "|tt15398776|2023|180|\"Biography, Drama, History\"|8.7|nm0634240|\"nm0614165, nm1289434, nm0000354, nm0000375\"|\n",
    "\n",
    "\n",
    "However, if you open the raw version of `small_movies.csv`, you are more likely to see something like this. It's the same data, but is sometimes a little harder to read:\n",
    "```\n",
    "title,year,duration,genres,rating,directors,cast\n",
    "tt15239678,2024,166,\"Action, Adventure, Drama\",9.0,nm0898288,\"nm3154303, nm3918035, nm0272581, nm0000849\"\n",
    "tt1517268,2023,114,\"Adventure, Comedy, Fantasy\",6.9,nm1950086,\"nm3053338, nm0331516, nm4793987, nm0571952\"\n",
    "tt15398776,2023,180,\"Biography, Drama, History\",8.4,nm0634240,\"nm0614165, nm1289434, nm0000354, nm000035\"\n",
    "\n",
    "\n",
    "```\n",
    "\n",
    "The `title`, `directors`, and `cast` members are represented by their unique *IMDb ID* instead of their actual *names*. Now would be a good time to open `small_mapping.csv` to observe the data stored there. It should look like t\n",
    "his:\n",
    "\n",
    "|         |           |\n",
    "| --------|-----|\n",
    "|tt15239678|Dune: Part Two|\n",
    "|tt1517268|Barbie|\n",
    "|tt15398776|Oppenheimer|\n",
    "|nm0898288|Denis Villeneuve|\n",
    "|nm3154303|Timothée Chalamet|\n",
    "|nm3918035|Zendaya|\n",
    "|nm0272581|Rebecca Ferguson|\n",
    "|nm0000849|Javier Bardem|\n",
    "|nm1950086|Greta Gerwig|\n",
    "|nm3053338|Margot Robbie|\n",
    "|nm0331516|Ryan Gosling|\n",
    "|nm4793987|Issa Rae|\n",
    "|nm0571952|Kate McKinnon|\n",
    "|nm0634240|Christopher Nolan|\n",
    "|nm0614165|Cillian Murphy|\n",
    "|nm1289434|Emily Blunt|\n",
    "|nm0000354|Matt Damon|\n",
    "|nm0000375|Robert Downey Jr.|\n",
    "\n",
    "\n"
   ]
  },
  {
   "cell_type": "markdown",
   "id": "6243c4f1-0181-40e6-b1b2-45724d6784fe",
   "metadata": {
    "deletable": false,
    "editable": false,
    "slideshow": {
     "slide_type": ""
    },
    "tags": []
   },
   "source": [
    "## Lab Portion (25 Questions)"
   ]
  },
  {
   "cell_type": "markdown",
   "id": "ce4bd078-ba3a-4a09-8e87-823931e5610b",
   "metadata": {
    "deletable": false,
    "editable": false,
    "slideshow": {
     "slide_type": ""
    },
    "tags": []
   },
   "source": [
    "### Segment 1: Loading data from csv file\n",
    "\n",
    "In this segment, you will learn to parse the data in `small_movies.csv` and `small_mapping.csv`, and convert them into useful data structures.\n",
    "\n",
    "However, before we do any of that, **open `small_movies.csv` and `small_mapping.csv` within Jupyter Lab by double clicking on the file names** and look at the format in which the data is stored. Inspecting this data will be extremely useful when you try to read it in Python."
   ]
  },
  {
   "cell_type": "markdown",
   "id": "fb04198a-253d-4653-8622-8ffb556801ef",
   "metadata": {
    "deletable": false,
    "editable": false,
    "slideshow": {
     "slide_type": ""
    },
    "tags": []
   },
   "source": [
    "### Task 1.1: Process `small_movies.csv`"
   ]
  },
  {
   "cell_type": "code",
   "execution_count": 10,
   "id": "90d772f2-0208-4bbf-862a-d9d28712ac72",
   "metadata": {
    "deletable": false,
    "editable": true,
    "slideshow": {
     "slide_type": ""
    },
    "tags": []
   },
   "outputs": [],
   "source": [
    "# Here is the same 'process_csv' function from P6 and P7\n",
    "\n",
    "def process_csv(filename):\n",
    "    example_file = open(filename, encoding=\"utf-8\")\n",
    "    example_reader = csv.reader(example_file)\n",
    "    example_data = list(example_reader)\n",
    "    example_file.close()\n",
    "    return example_data\n"
   ]
  },
  {
   "cell_type": "code",
   "execution_count": 11,
   "id": "8a3f9d3b",
   "metadata": {
    "deletable": false,
    "editable": true,
    "slideshow": {
     "slide_type": ""
    },
    "tags": []
   },
   "outputs": [],
   "source": [
    "# TODO: Finish the code below to load the \"small_movies.csv\" file\n",
    "\n",
    "csv_data = ..."
   ]
  },
  {
   "cell_type": "markdown",
   "id": "806d3035",
   "metadata": {
    "deletable": false,
    "editable": false,
    "slideshow": {
     "slide_type": ""
    },
    "tags": []
   },
   "source": [
    "#### Lab Question 1"
   ]
  },
  {
   "cell_type": "markdown",
   "id": "848db9f1-dfd1-4c90-9e32-8ece17e5ae03",
   "metadata": {
    "deletable": false,
    "editable": false
   },
   "source": [
    "What is the **header** of the file `small_movies.csv`?\n",
    "\n",
    "Your output **must** be a **list** of **strings**."
   ]
  },
  {
   "cell_type": "markdown",
   "id": "e64d70fb",
   "metadata": {
    "deletable": false,
    "editable": false,
    "slideshow": {
     "slide_type": ""
    },
    "tags": []
   },
   "source": [
    "Points possible: 4.0"
   ]
  },
  {
   "cell_type": "code",
   "execution_count": 12,
   "id": "d26cac88",
   "metadata": {
    "deletable": false,
    "editable": true,
    "slideshow": {
     "slide_type": ""
    },
    "tags": [
     "lab-q1-code"
    ]
   },
   "outputs": [
    {
     "data": {
      "text/plain": [
       "['title', 'year', 'duration', 'genres', 'rating', 'directors', 'cast']"
      ]
     },
     "execution_count": 12,
     "metadata": {},
     "output_type": "execute_result"
    }
   ],
   "source": [
    "# extract the header into csv_header variable\n",
    "csv_header = next(csv.reader(open('small_movies.csv', 'r')))\n",
    "\n",
    "csv_header"
   ]
  },
  {
   "cell_type": "code",
   "execution_count": 13,
   "id": "35f9092f",
   "metadata": {
    "deletable": false,
    "editable": true,
    "slideshow": {
     "slide_type": ""
    },
    "tags": []
   },
   "outputs": [
    {
     "name": "stdout",
     "output_type": "stream",
     "text": [
      "Make sure you saved the notebook before running this cell. Running check for lab-q1...\n",
      "Great job! You passed all test cases for this question.\n"
     ]
    }
   ],
   "source": [
    "student_grader_with_feedback.check(\"lab-q1\")"
   ]
  },
  {
   "cell_type": "markdown",
   "id": "8afc019b",
   "metadata": {
    "deletable": false,
    "editable": false,
    "slideshow": {
     "slide_type": ""
    },
    "tags": []
   },
   "source": [
    "#### Lab Question 2"
   ]
  },
  {
   "cell_type": "markdown",
   "id": "9a6ae879-fcf7-4e1f-9468-165e6fd1468d",
   "metadata": {
    "deletable": false,
    "editable": false,
    "slideshow": {
     "slide_type": ""
    },
    "tags": []
   },
   "source": [
    "What is the **data** (without the header) in the file `small_movies.csv`?\n",
    "\n",
    "Your output **must** be a **list** of **lists**."
   ]
  },
  {
   "cell_type": "markdown",
   "id": "2e60a776",
   "metadata": {
    "deletable": false,
    "editable": false,
    "slideshow": {
     "slide_type": ""
    },
    "tags": []
   },
   "source": [
    "Points possible: 4.0"
   ]
  },
  {
   "cell_type": "code",
   "execution_count": 14,
   "id": "4ed87fd5",
   "metadata": {
    "deletable": false,
    "editable": true,
    "slideshow": {
     "slide_type": ""
    },
    "tags": [
     "lab-q2-code"
    ]
   },
   "outputs": [
    {
     "data": {
      "text/plain": [
       "[['tt15239678',\n",
       "  '2024',\n",
       "  '166',\n",
       "  'Action, Adventure, Drama',\n",
       "  '9.0',\n",
       "  'nm0898288',\n",
       "  'nm3154303, nm3918035, nm0272581, nm0000849'],\n",
       " ['tt1517268',\n",
       "  '2023',\n",
       "  '114',\n",
       "  'Adventure, Comedy, Fantasy',\n",
       "  '6.9',\n",
       "  'nm1950086',\n",
       "  'nm3053338, nm0331516, nm4793987, nm0571952'],\n",
       " ['tt15398776',\n",
       "  '2023',\n",
       "  '180',\n",
       "  'Biography, Drama, History',\n",
       "  '8.4',\n",
       "  'nm0634240',\n",
       "  'nm0614165, nm1289434, nm0000354, nm0000375']]"
      ]
     },
     "execution_count": 14,
     "metadata": {},
     "output_type": "execute_result"
    }
   ],
   "source": [
    "# extract just the data rows into csv_rows variable\n",
    "csv_rows = list(csv.reader(open('small_movies.csv', 'r')))[1:]\n",
    "\n",
    "csv_rows"
   ]
  },
  {
   "cell_type": "code",
   "execution_count": 15,
   "id": "d229a408",
   "metadata": {
    "deletable": false,
    "editable": true,
    "slideshow": {
     "slide_type": ""
    },
    "tags": []
   },
   "outputs": [
    {
     "name": "stdout",
     "output_type": "stream",
     "text": [
      "Make sure you saved the notebook before running this cell. Running check for lab-q2...\n",
      "Great job! You passed all test cases for this question.\n"
     ]
    }
   ],
   "source": [
    "student_grader_with_feedback.check(\"lab-q2\")"
   ]
  },
  {
   "cell_type": "markdown",
   "id": "e5123fe8-d88d-4dd8-8311-06e4c05183a4",
   "metadata": {
    "deletable": false,
    "editable": false,
    "slideshow": {
     "slide_type": ""
    },
    "tags": []
   },
   "source": [
    "### Task 1.2: Convert your `small_mapping` to a `dict`"
   ]
  },
  {
   "cell_type": "markdown",
   "id": "751c63cc",
   "metadata": {
    "deletable": false,
    "editable": false,
    "slideshow": {
     "slide_type": ""
    },
    "tags": []
   },
   "source": [
    "#### Lab Question 3"
   ]
  },
  {
   "cell_type": "markdown",
   "id": "a103cf01-5aef-4aaa-8dfd-31f2b9daa5d9",
   "metadata": {
    "deletable": false,
    "editable": false,
    "slideshow": {
     "slide_type": ""
    },
    "tags": []
   },
   "source": [
    "What is the **data** in the file `small_mapping.csv`?\n",
    "\n",
    "Your output **must** be a **list** of **lists**. There is no header in `small_mapping.csv`, so you should **not** slice off the first row here."
   ]
  },
  {
   "cell_type": "markdown",
   "id": "0bcc48d2",
   "metadata": {
    "deletable": false,
    "editable": false,
    "slideshow": {
     "slide_type": ""
    },
    "tags": []
   },
   "source": [
    "Points possible: 4.0"
   ]
  },
  {
   "cell_type": "code",
   "execution_count": 16,
   "id": "18e81857",
   "metadata": {
    "deletable": false,
    "editable": true,
    "slideshow": {
     "slide_type": ""
    },
    "tags": [
     "lab-q3-code"
    ]
   },
   "outputs": [
    {
     "data": {
      "text/plain": [
       "[['tt15239678', 'Dune: Part Two'],\n",
       " ['tt1517268', 'Barbie'],\n",
       " ['tt15398776', 'Oppenheimer'],\n",
       " ['nm0898288', 'Denis Villeneuve'],\n",
       " ['nm3154303', 'Timothée Chalamet'],\n",
       " ['nm3918035', 'Zendaya'],\n",
       " ['nm0272581', 'Rebecca Ferguson'],\n",
       " ['nm0000849', 'Javier Bardem'],\n",
       " ['nm1950086', 'Greta Gerwig'],\n",
       " ['nm3053338', 'Margot Robbie'],\n",
       " ['nm0331516', 'Ryan Gosling'],\n",
       " ['nm4793987', 'Issa Rae'],\n",
       " ['nm0571952', 'Kate McKinnon'],\n",
       " ['nm0634240', 'Christopher Nolan'],\n",
       " ['nm0614165', 'Cillian Murphy'],\n",
       " ['nm1289434', 'Emily Blunt'],\n",
       " ['nm0000354', 'Matt Damon'],\n",
       " ['nm0000375', 'Robert Downey Jr.']]"
      ]
     },
     "execution_count": 16,
     "metadata": {},
     "output_type": "execute_result"
    }
   ],
   "source": [
    "# use process_csv to read `small_mapping.csv` into a list of lists data structure\n",
    "mapping_rows = mapping_rows = process_csv('small_mapping.csv')\n",
    "\n",
    "mapping_rows"
   ]
  },
  {
   "cell_type": "code",
   "execution_count": 17,
   "id": "2d4f27b6",
   "metadata": {
    "deletable": false,
    "editable": true,
    "slideshow": {
     "slide_type": ""
    },
    "tags": []
   },
   "outputs": [
    {
     "name": "stdout",
     "output_type": "stream",
     "text": [
      "Make sure you saved the notebook before running this cell. Running check for lab-q3...\n",
      "Great job! You passed all test cases for this question.\n"
     ]
    }
   ],
   "source": [
    "student_grader_with_feedback.check(\"lab-q3\")"
   ]
  },
  {
   "cell_type": "markdown",
   "id": "181bc0ad-9a6e-489c-837d-c74246a91e19",
   "metadata": {
    "deletable": false,
    "editable": false
   },
   "source": [
    "Currently `mapping_rows` is a **list** of **lists**.  To make it more useful, let us convert it to a **dict** with the *ID* as the **key** and the *name* as the **value**, like this:\n",
    "\n",
    "```python\n",
    "{'tt15239678': 'Dune: Part Two',\n",
    " 'tt1517268': 'Barbie',\n",
    " 'tt15398776': 'Oppenheimer',\n",
    " 'nm0898288': 'Denis Villeneuve',\n",
    " 'nm3154303': 'Timothée Chalamet',\n",
    " 'nm3918035': 'Zendaya',\n",
    " 'nm0272581': 'Rebecca Ferguson',\n",
    " 'nm0000849': 'Javier Bardem',\n",
    " 'nm1950086': 'Greta Gerwig',\n",
    " 'nm3053338': 'Margot Robbie',\n",
    " 'nm0331516': 'Ryan Gosling',\n",
    " 'nm4793987': 'Issa Rae',\n",
    " 'nm0571952': 'Kate McKinnon',\n",
    " 'nm0634240': 'Christopher Nolan',\n",
    " 'nm0614165': 'Cillian Murphy',\n",
    " 'nm1289434': 'Emily Blunt',\n",
    " 'nm0000354': 'Matt Damon',\n",
    " 'nm0000375': 'Robert Downey Jr.'}\n",
    "```"
   ]
  },
  {
   "cell_type": "markdown",
   "id": "c5ac34bb",
   "metadata": {
    "deletable": false,
    "editable": false,
    "slideshow": {
     "slide_type": ""
    },
    "tags": []
   },
   "source": [
    "#### Lab Question 4"
   ]
  },
  {
   "cell_type": "markdown",
   "id": "5cfb1354-dcaa-4a75-a25a-216458cc3766",
   "metadata": {
    "deletable": false,
    "editable": false,
    "slideshow": {
     "slide_type": ""
    },
    "tags": []
   },
   "source": [
    "Display the **data** in the file `small_mapping.csv` as a **dictionary**.\n",
    "\n",
    "Your output **must** be a **dictionary**.\n",
    "\n",
    "It is acceptable for you to *hardcode* **column indices** here. This is because this csv file does not have a header, and it is **implicit** that the first string is the ID and that the second string is the name associated with the ID. For csv files which have headers, you should **never** hardcode **column indices**."
   ]
  },
  {
   "cell_type": "markdown",
   "id": "c3913b08",
   "metadata": {
    "deletable": false,
    "editable": false,
    "slideshow": {
     "slide_type": ""
    },
    "tags": []
   },
   "source": [
    "Points possible: 4.0"
   ]
  },
  {
   "cell_type": "code",
   "execution_count": 18,
   "id": "87299046-4dea-4624-ab76-8f89c1fa1a0a",
   "metadata": {
    "deletable": false,
    "editable": true,
    "tags": [
     "lab-q4-code"
    ]
   },
   "outputs": [
    {
     "data": {
      "text/plain": [
       "{'tt15239678': 'Dune: Part Two',\n",
       " 'tt1517268': 'Barbie',\n",
       " 'tt15398776': 'Oppenheimer',\n",
       " 'nm0898288': 'Denis Villeneuve',\n",
       " 'nm3154303': 'Timothée Chalamet',\n",
       " 'nm3918035': 'Zendaya',\n",
       " 'nm0272581': 'Rebecca Ferguson',\n",
       " 'nm0000849': 'Javier Bardem',\n",
       " 'nm1950086': 'Greta Gerwig',\n",
       " 'nm3053338': 'Margot Robbie',\n",
       " 'nm0331516': 'Ryan Gosling',\n",
       " 'nm4793987': 'Issa Rae',\n",
       " 'nm0571952': 'Kate McKinnon',\n",
       " 'nm0634240': 'Christopher Nolan',\n",
       " 'nm0614165': 'Cillian Murphy',\n",
       " 'nm1289434': 'Emily Blunt',\n",
       " 'nm0000354': 'Matt Damon',\n",
       " 'nm0000375': 'Robert Downey Jr.'}"
      ]
     },
     "execution_count": 18,
     "metadata": {},
     "output_type": "execute_result"
    }
   ],
   "source": [
    "mapping_dict = {}\n",
    "\n",
    "mapping_rows = process_csv('small_mapping.csv')\n",
    "\n",
    "for row in mapping_rows:\n",
    "    mapping_dict[row[0]] = row[1]\n",
    "\n",
    "mapping_dict\n"
   ]
  },
  {
   "cell_type": "code",
   "execution_count": 19,
   "id": "4fb9b3f5",
   "metadata": {
    "deletable": false,
    "editable": true,
    "slideshow": {
     "slide_type": ""
    },
    "tags": []
   },
   "outputs": [
    {
     "name": "stdout",
     "output_type": "stream",
     "text": [
      "Make sure you saved the notebook before running this cell. Running check for lab-q4...\n",
      "Great job! You passed all test cases for this question.\n"
     ]
    }
   ],
   "source": [
    "student_grader_with_feedback.check(\"lab-q4\")"
   ]
  },
  {
   "cell_type": "markdown",
   "id": "54ddf52e",
   "metadata": {
    "deletable": false,
    "editable": false,
    "slideshow": {
     "slide_type": ""
    },
    "tags": []
   },
   "source": [
    "#### Lab Question 5"
   ]
  },
  {
   "cell_type": "markdown",
   "id": "80d59605-c768-48b5-8e72-2d76a099d02a",
   "metadata": {
    "deletable": false,
    "editable": false,
    "slideshow": {
     "slide_type": ""
    },
    "tags": []
   },
   "source": [
    "What is the **value** associated with the key **nm0000375** in `mapping_dict`?"
   ]
  },
  {
   "cell_type": "markdown",
   "id": "4b7cc785",
   "metadata": {
    "deletable": false,
    "editable": false,
    "slideshow": {
     "slide_type": ""
    },
    "tags": []
   },
   "source": [
    "Points possible: 4.0"
   ]
  },
  {
   "cell_type": "code",
   "execution_count": 20,
   "id": "0b094e68-e150-459b-9e36-87564efef12c",
   "metadata": {
    "deletable": false,
    "editable": true,
    "slideshow": {
     "slide_type": ""
    },
    "tags": [
     "lab-q5-code"
    ]
   },
   "outputs": [
    {
     "data": {
      "text/plain": [
       "'Robert Downey Jr.'"
      ]
     },
     "execution_count": 20,
     "metadata": {},
     "output_type": "execute_result"
    }
   ],
   "source": [
    "# we have done this one for you\n",
    "nm0000375_value = mapping_dict[\"nm0000375\"]\n",
    "\n",
    "nm0000375_value"
   ]
  },
  {
   "cell_type": "code",
   "execution_count": 21,
   "id": "64cdaaed",
   "metadata": {
    "deletable": false,
    "editable": true,
    "slideshow": {
     "slide_type": ""
    },
    "tags": []
   },
   "outputs": [
    {
     "name": "stdout",
     "output_type": "stream",
     "text": [
      "Make sure you saved the notebook before running this cell. Running check for lab-q5...\n",
      "Great job! You passed all test cases for this question.\n"
     ]
    }
   ],
   "source": [
    "student_grader_with_feedback.check(\"lab-q5\")"
   ]
  },
  {
   "cell_type": "markdown",
   "id": "1d9002cb",
   "metadata": {
    "deletable": false,
    "editable": false,
    "slideshow": {
     "slide_type": ""
    },
    "tags": []
   },
   "source": [
    "#### Lab Question 6"
   ]
  },
  {
   "cell_type": "markdown",
   "id": "90a7e78d-f3dd-493c-9359-3a8b9d8b8dbe",
   "metadata": {
    "deletable": false,
    "editable": false,
    "slideshow": {
     "slide_type": ""
    },
    "tags": []
   },
   "source": [
    "What is the **value** associated with the key *tt15398776* in `mapping_dict`?"
   ]
  },
  {
   "cell_type": "markdown",
   "id": "bef0d51a",
   "metadata": {
    "deletable": false,
    "editable": false,
    "slideshow": {
     "slide_type": ""
    },
    "tags": []
   },
   "source": [
    "Points possible: 4.0"
   ]
  },
  {
   "cell_type": "code",
   "execution_count": 22,
   "id": "445c9a75",
   "metadata": {
    "deletable": false,
    "editable": true,
    "slideshow": {
     "slide_type": ""
    },
    "tags": [
     "lab-q6-code"
    ]
   },
   "outputs": [
    {
     "data": {
      "text/plain": [
       "'Oppenheimer'"
      ]
     },
     "execution_count": 22,
     "metadata": {},
     "output_type": "execute_result"
    }
   ],
   "source": [
    "# replace the ... with your code\n",
    "tt15398776_value = mapping_dict['tt15398776']\n",
    "\n",
    "tt15398776_value\n"
   ]
  },
  {
   "cell_type": "code",
   "execution_count": 23,
   "id": "aa5a41dd",
   "metadata": {
    "deletable": false,
    "editable": true,
    "slideshow": {
     "slide_type": ""
    },
    "tags": []
   },
   "outputs": [
    {
     "name": "stdout",
     "output_type": "stream",
     "text": [
      "Make sure you saved the notebook before running this cell. Running check for lab-q6...\n",
      "Great job! You passed all test cases for this question.\n"
     ]
    }
   ],
   "source": [
    "student_grader_with_feedback.check(\"lab-q6\")"
   ]
  },
  {
   "cell_type": "markdown",
   "id": "2346c48a",
   "metadata": {
    "deletable": false,
    "editable": false,
    "slideshow": {
     "slide_type": ""
    },
    "tags": []
   },
   "source": [
    "### Task 1.3.1: Convert a list of lists to a list of dictionaries\n",
    "\n",
    "Now, let's go back to `small_movies.csv`. Your variable `csv_rows` (defined above in Question 2) should look like this:\n",
    "\n",
    "```python\n",
    "[['tt15239678',\n",
    "  '2024',\n",
    "  '166',\n",
    "  'Action, Adventure, Drama',\n",
    "  '9.0',\n",
    "  'nm0898288',\n",
    "  'nm3154303, nm3918035, nm0272581, nm0000849'],\n",
    " ['tt1517268',\n",
    "  '2023',\n",
    "  '114',\n",
    "  'Adventure, Comedy, Fantasy',\n",
    "  '6.9',\n",
    "  'nm1950086',\n",
    "  'nm3053338, nm0331516, nm4793987, nm0571952'],\n",
    " ['tt15398776',\n",
    "  '2023',\n",
    "  '180',\n",
    "  'Biography, Drama, History',\n",
    "  '8.4',\n",
    "  'nm0634240',\n",
    "  'nm0614165, nm1289434, nm0000354, nm0000375']]\n",
    "```"
   ]
  },
  {
   "cell_type": "markdown",
   "id": "08e69132-fafa-42c6-b143-ac3e8490ac8c",
   "metadata": {
    "deletable": false,
    "editable": false,
    "slideshow": {
     "slide_type": ""
    },
    "tags": []
   },
   "source": [
    "It's a list of lists without its header. To make it easier to access data, let us convert it to a **list** of **dictionaries**. The data structure should look like:\n",
    "\n",
    "```python\n",
    "[{'title': 'tt15239678',\n",
    " 'year': '2024',\n",
    " 'duration': '166',\n",
    " 'genres': 'Action, Adventure, Drama',\n",
    " 'rating': '9.0',\n",
    " 'directors': 'nm0898288',\n",
    " 'cast': 'nm3154303, nm3918035, nm0272581, nm0000849'},\n",
    " {'title': 'tt1517268',\n",
    "  'year': '2023',\n",
    "  'duration': '114',\n",
    "  'genres': 'Adventure, Comedy, Fantasy',\n",
    "  'rating': '7.5',\n",
    "  'directors': 'nm1950086',\n",
    "  'cast': 'nm3053338, nm0331516, nm4793987, nm0571952'},\n",
    " {'title': 'tt15398776',\n",
    "  'year': '2023',\n",
    "  'duration': '180',\n",
    "  'genres': 'Biography, Drama, History',\n",
    "  'rating': '8.4',\n",
    "  'directors': 'nm0634240',\n",
    "  'cast': 'nm0614165, nm1289434, nm0000354, nm0000375'}]\n",
    "```"
   ]
  },
  {
   "cell_type": "markdown",
   "id": "5c1a4933",
   "metadata": {
    "deletable": false,
    "editable": false,
    "slideshow": {
     "slide_type": ""
    },
    "tags": []
   },
   "source": [
    "#### Lab Question 7"
   ]
  },
  {
   "cell_type": "markdown",
   "id": "47592482-f62f-47fe-8e98-942b3e50dd11",
   "metadata": {
    "deletable": false,
    "editable": false,
    "slideshow": {
     "slide_type": ""
    },
    "tags": []
   },
   "source": [
    "Store the **first** movie in the file `small_movies.csv` as a **dictionary**.\n",
    "\n",
    "It should be noted that the dataset file has a **header** that must be used. You **must** use the `list.index` method to identify the column indices from the column name, just as you did in P6 and P7."
   ]
  },
  {
   "cell_type": "markdown",
   "id": "01be6de7",
   "metadata": {
    "deletable": false,
    "editable": false,
    "slideshow": {
     "slide_type": ""
    },
    "tags": []
   },
   "source": [
    "Points possible: 4.0"
   ]
  },
  {
   "cell_type": "code",
   "execution_count": 24,
   "id": "3ab44d52-03a4-4df3-b58a-3b828ecfaa94",
   "metadata": {
    "deletable": false,
    "editable": true,
    "scrolled": true,
    "slideshow": {
     "slide_type": ""
    },
    "tags": [
     "lab-q7-code"
    ]
   },
   "outputs": [
    {
     "data": {
      "text/plain": [
       "{'title': 'tt15239678',\n",
       " 'year': '2024',\n",
       " 'duration': '166',\n",
       " 'genres': 'Action, Adventure, Drama',\n",
       " 'rating': '9.0',\n",
       " 'directors': 'nm0898288',\n",
       " 'cast': 'nm3154303, nm3918035, nm0272581, nm0000849'}"
      ]
     },
     "execution_count": 24,
     "metadata": {},
     "output_type": "execute_result"
    }
   ],
   "source": [
    "first_movie = {}\n",
    "first_movie[\"title\"] = csv_rows[0][csv_header.index(\"title\")]\n",
    "first_movie[\"year\"] = csv_rows[0][csv_header.index(\"year\")]\n",
    "first_movie[\"duration\"] = csv_rows[0][csv_header.index(\"duration\")]\n",
    "first_movie[\"genres\"] = csv_rows[0][csv_header.index(\"genres\")]\n",
    "first_movie[\"rating\"] = csv_rows[0][csv_header.index(\"rating\")]\n",
    "first_movie[\"directors\"] = csv_rows[0][csv_header.index(\"directors\")]\n",
    "first_movie[\"cast\"] = csv_rows[0][csv_header.index(\"cast\")]\n",
    "\n",
    "first_movie\n"
   ]
  },
  {
   "cell_type": "code",
   "execution_count": 25,
   "id": "2b2e338e",
   "metadata": {
    "deletable": false,
    "editable": true,
    "slideshow": {
     "slide_type": ""
    },
    "tags": []
   },
   "outputs": [
    {
     "name": "stdout",
     "output_type": "stream",
     "text": [
      "Make sure you saved the notebook before running this cell. Running check for lab-q7...\n",
      "Great job! You passed all test cases for this question.\n"
     ]
    }
   ],
   "source": [
    "student_grader_with_feedback.check(\"lab-q7\")"
   ]
  },
  {
   "cell_type": "markdown",
   "id": "cb9103f2",
   "metadata": {
    "deletable": false,
    "editable": false,
    "slideshow": {
     "slide_type": ""
    },
    "tags": []
   },
   "source": [
    "#### Lab Question 8"
   ]
  },
  {
   "cell_type": "markdown",
   "id": "30e0566d-aa0d-429f-a845-c953e2e28391",
   "metadata": {
    "deletable": false,
    "editable": false,
    "slideshow": {
     "slide_type": ""
    },
    "tags": []
   },
   "source": [
    "Display the **data** in the file `small_movies.csv` as a **list** of **dictionaries**."
   ]
  },
  {
   "cell_type": "markdown",
   "id": "b28763a2",
   "metadata": {
    "deletable": false,
    "editable": false,
    "slideshow": {
     "slide_type": ""
    },
    "tags": []
   },
   "source": [
    "Points possible: 4.0"
   ]
  },
  {
   "cell_type": "code",
   "execution_count": 26,
   "id": "5fd54109",
   "metadata": {
    "deletable": false,
    "editable": true,
    "slideshow": {
     "slide_type": ""
    },
    "tags": [
     "lab-q8-code"
    ]
   },
   "outputs": [
    {
     "data": {
      "text/plain": [
       "[{'title': 'tt15239678',\n",
       "  'year': '2024',\n",
       "  'duration': '166',\n",
       "  'genres': 'Action, Adventure, Drama',\n",
       "  'rating': '9.0',\n",
       "  'directors': 'nm0898288',\n",
       "  'cast': 'nm3154303, nm3918035, nm0272581, nm0000849'},\n",
       " {'title': 'tt1517268',\n",
       "  'year': '2023',\n",
       "  'duration': '114',\n",
       "  'genres': 'Adventure, Comedy, Fantasy',\n",
       "  'rating': '6.9',\n",
       "  'directors': 'nm1950086',\n",
       "  'cast': 'nm3053338, nm0331516, nm4793987, nm0571952'},\n",
       " {'title': 'tt15398776',\n",
       "  'year': '2023',\n",
       "  'duration': '180',\n",
       "  'genres': 'Biography, Drama, History',\n",
       "  'rating': '8.4',\n",
       "  'directors': 'nm0634240',\n",
       "  'cast': 'nm0614165, nm1289434, nm0000354, nm0000375'}]"
      ]
     },
     "execution_count": 26,
     "metadata": {},
     "output_type": "execute_result"
    }
   ],
   "source": [
    "raw_movies_list = []\n",
    "\n",
    "for row in csv_rows:\n",
    "    movie = {\n",
    "        \"title\": row[csv_header.index(\"title\")],\n",
    "        \"year\": row[csv_header.index(\"year\")],\n",
    "        \"duration\": row[csv_header.index(\"duration\")],\n",
    "        \"genres\": row[csv_header.index(\"genres\")],\n",
    "        \"rating\": row[csv_header.index(\"rating\")],\n",
    "        \"directors\": row[csv_header.index(\"directors\")],\n",
    "        \"cast\": row[csv_header.index(\"cast\")]\n",
    "    }\n",
    "    raw_movies_list.append(movie)\n",
    "\n",
    "raw_movies_list\n"
   ]
  },
  {
   "cell_type": "code",
   "execution_count": 27,
   "id": "b16e05f8",
   "metadata": {
    "deletable": false,
    "editable": true,
    "slideshow": {
     "slide_type": ""
    },
    "tags": []
   },
   "outputs": [
    {
     "name": "stdout",
     "output_type": "stream",
     "text": [
      "Make sure you saved the notebook before running this cell. Running check for lab-q8...\n",
      "Great job! You passed all test cases for this question.\n"
     ]
    }
   ],
   "source": [
    "student_grader_with_feedback.check(\"lab-q8\")"
   ]
  },
  {
   "cell_type": "markdown",
   "id": "c3210fd7",
   "metadata": {
    "deletable": false,
    "editable": false,
    "slideshow": {
     "slide_type": ""
    },
    "tags": []
   },
   "source": [
    "#### Lab Question 9"
   ]
  },
  {
   "cell_type": "markdown",
   "id": "258daaf7-2d96-45d3-b81e-acf902648312",
   "metadata": {
    "deletable": false,
    "editable": false,
    "slideshow": {
     "slide_type": ""
    },
    "tags": []
   },
   "source": [
    "What is the `title` *ID* of the **first** movie in your list?\n",
    "\n",
    "Your output **must** be a **string**. You must answer this question by querying the value from the `raw_movies_list` data structure."
   ]
  },
  {
   "cell_type": "markdown",
   "id": "c2c5b1c2",
   "metadata": {
    "deletable": false,
    "editable": false,
    "slideshow": {
     "slide_type": ""
    },
    "tags": []
   },
   "source": [
    "Points possible: 4.0"
   ]
  },
  {
   "cell_type": "code",
   "execution_count": 28,
   "id": "c6df20bc-6867-4d17-a4b6-8d84c24838cb",
   "metadata": {
    "deletable": false,
    "editable": true,
    "slideshow": {
     "slide_type": ""
    },
    "tags": [
     "lab-q9-code"
    ]
   },
   "outputs": [
    {
     "data": {
      "text/plain": [
       "'tt15239678'"
      ]
     },
     "execution_count": 28,
     "metadata": {},
     "output_type": "execute_result"
    }
   ],
   "source": [
    "# we have done this one for you\n",
    "first_movie_title = raw_movies_list[0]['title']\n",
    "\n",
    "first_movie_title"
   ]
  },
  {
   "cell_type": "code",
   "execution_count": 29,
   "id": "6e4fcd1e",
   "metadata": {
    "deletable": false,
    "editable": true,
    "slideshow": {
     "slide_type": ""
    },
    "tags": []
   },
   "outputs": [
    {
     "name": "stdout",
     "output_type": "stream",
     "text": [
      "Make sure you saved the notebook before running this cell. Running check for lab-q9...\n",
      "Great job! You passed all test cases for this question.\n"
     ]
    }
   ],
   "source": [
    "student_grader_with_feedback.check(\"lab-q9\")"
   ]
  },
  {
   "cell_type": "markdown",
   "id": "9a0f1a65",
   "metadata": {
    "deletable": false,
    "editable": false,
    "slideshow": {
     "slide_type": ""
    },
    "tags": []
   },
   "source": [
    "#### Lab Question 10"
   ]
  },
  {
   "cell_type": "markdown",
   "id": "9106bd3a-d35b-4154-b217-7c198c76211d",
   "metadata": {
    "deletable": false,
    "editable": false,
    "slideshow": {
     "slide_type": ""
    },
    "tags": []
   },
   "source": [
    "What is the `duration` of the **second** movie in your list?\n",
    "\n",
    "Your output **must** be a **string**. You **must** answer this question by querying the value from the `raw_movies_list` data structure."
   ]
  },
  {
   "cell_type": "markdown",
   "id": "22f093b8",
   "metadata": {
    "deletable": false,
    "editable": false,
    "slideshow": {
     "slide_type": ""
    },
    "tags": []
   },
   "source": [
    "Points possible: 4.0"
   ]
  },
  {
   "cell_type": "code",
   "execution_count": 30,
   "id": "73347ed0-77e9-4db2-9ef3-241f604e0324",
   "metadata": {
    "deletable": false,
    "editable": true,
    "slideshow": {
     "slide_type": ""
    },
    "tags": [
     "lab-q10-code"
    ]
   },
   "outputs": [
    {
     "data": {
      "text/plain": [
       "'114'"
      ]
     },
     "execution_count": 30,
     "metadata": {},
     "output_type": "execute_result"
    }
   ],
   "source": [
    "# compute and store the answer in the variable 'second_movie_duration', then display it\n",
    "\n",
    "second_movie_duration = raw_movies_list[1][\"duration\"]\n",
    "\n",
    "second_movie_duration"
   ]
  },
  {
   "cell_type": "code",
   "execution_count": 31,
   "id": "05685b12",
   "metadata": {
    "deletable": false,
    "editable": true,
    "slideshow": {
     "slide_type": ""
    },
    "tags": []
   },
   "outputs": [
    {
     "name": "stdout",
     "output_type": "stream",
     "text": [
      "Make sure you saved the notebook before running this cell. Running check for lab-q10...\n",
      "Great job! You passed all test cases for this question.\n"
     ]
    }
   ],
   "source": [
    "student_grader_with_feedback.check(\"lab-q10\")"
   ]
  },
  {
   "cell_type": "markdown",
   "id": "8ea9920d",
   "metadata": {
    "deletable": false,
    "editable": false,
    "slideshow": {
     "slide_type": ""
    },
    "tags": []
   },
   "source": [
    "#### Lab Question 11"
   ]
  },
  {
   "cell_type": "markdown",
   "id": "6b87be85-1dea-4cb7-b996-891de2b3aeeb",
   "metadata": {
    "deletable": false,
    "editable": false,
    "slideshow": {
     "slide_type": ""
    },
    "tags": []
   },
   "source": [
    "What are the `genres` of the **second** movie in your list?\n",
    "\n",
    "Your output **must** be a **string**. You **must** answer this question by querying the value from the `raw_movies_list` data structure."
   ]
  },
  {
   "cell_type": "markdown",
   "id": "94a003cc-e3dc-4f0f-b92b-b5c9f795f1dd",
   "metadata": {
    "deletable": false,
    "editable": false
   },
   "source": [
    "Points possible: 4.0"
   ]
  },
  {
   "cell_type": "code",
   "execution_count": 32,
   "id": "79fef008-9cbd-45f0-a7b5-a5ba14dcf079",
   "metadata": {
    "deletable": false,
    "editable": true,
    "slideshow": {
     "slide_type": ""
    },
    "tags": [
     "lab-q11-code"
    ]
   },
   "outputs": [
    {
     "data": {
      "text/plain": [
       "'Adventure, Comedy, Fantasy'"
      ]
     },
     "execution_count": 32,
     "metadata": {},
     "output_type": "execute_result"
    }
   ],
   "source": [
    "# compute and store the answer in the variable 'second_movie_genres', then display it\n",
    "\n",
    "second_movie_genres = raw_movies_list[1][\"genres\"]\n",
    "\n",
    "second_movie_genres"
   ]
  },
  {
   "cell_type": "code",
   "execution_count": 33,
   "id": "7416237d",
   "metadata": {
    "deletable": false,
    "editable": true,
    "slideshow": {
     "slide_type": ""
    },
    "tags": []
   },
   "outputs": [
    {
     "name": "stdout",
     "output_type": "stream",
     "text": [
      "Make sure you saved the notebook before running this cell. Running check for lab-q11...\n",
      "Great job! You passed all test cases for this question.\n"
     ]
    }
   ],
   "source": [
    "student_grader_with_feedback.check(\"lab-q11\")"
   ]
  },
  {
   "cell_type": "markdown",
   "id": "335253d5",
   "metadata": {
    "deletable": false,
    "editable": false,
    "slideshow": {
     "slide_type": ""
    },
    "tags": []
   },
   "source": [
    "### Task 1.3.2: Convert the `int` and `float` values to the correct type\n",
    "\n",
    "Did you notice that currently all the values in the dictionaries are **strings**? We should convert them into correct types. In particular, the `year` and `duration` should be data type **int** and the `rating` should be a **float**. \n",
    "\n",
    "After converting the **int** and **float** values to the right types, your list of dictionaries should look like: \n",
    "\n",
    "```python\n",
    "[{'title': 'tt15239678',\n",
    "  'year': 2024,\n",
    "  'duration': 166,\n",
    "  'genres': 'Action, Adventure, Drama',\n",
    "  'rating': 9.0,\n",
    "  'directors': 'nm0898288',\n",
    "  'cast': 'nm3154303, nm3918035, nm0272581, nm0000849'},\n",
    " {'title': 'tt1517268',\n",
    "  'year': 2023,\n",
    "  'duration': 114,\n",
    "  'genres': 'Adventure, Comedy, Fantasy',\n",
    "  'rating': 6.9,\n",
    "  'directors': 'nm1950086',\n",
    "  'cast': 'nm3053338, nm0331516, nm4793987, nm0571952'},\n",
    " {'title': 'tt15398776',\n",
    "  'year': 2023,\n",
    "  'duration': 180,\n",
    "  'genres': 'Biography, Drama, History',\n",
    "  'rating': 8.4,\n",
    "  'directors': 'nm0634240',\n",
    "  'cast': 'nm0614165, nm1289434, nm0000354, nm0000375'}]\n",
    "```"
   ]
  },
  {
   "cell_type": "markdown",
   "id": "efefc9e9",
   "metadata": {
    "deletable": false,
    "editable": false,
    "slideshow": {
     "slide_type": ""
    },
    "tags": []
   },
   "source": [
    "#### Lab Question 12"
   ]
  },
  {
   "cell_type": "markdown",
   "id": "be4bfeae-2cb5-47dc-b126-22bdc6d863a3",
   "metadata": {
    "deletable": false,
    "editable": false
   },
   "source": [
    "Store the **data** in the file `small_movies.csv` as a **list** of **dictionaries** with the correct data types.\n",
    "\n",
    "The `year` and `duration` values **must** be of data type **int** and the `rating` value **must** be a **float**."
   ]
  },
  {
   "cell_type": "markdown",
   "id": "3d2b4003",
   "metadata": {
    "deletable": false,
    "editable": false,
    "slideshow": {
     "slide_type": ""
    },
    "tags": []
   },
   "source": [
    "Points possible: 4.0"
   ]
  },
  {
   "cell_type": "code",
   "execution_count": 34,
   "id": "e28df34e-8752-460e-9001-449c9dfd95db",
   "metadata": {
    "deletable": false,
    "editable": true,
    "slideshow": {
     "slide_type": ""
    },
    "tags": [
     "lab-q12-code"
    ]
   },
   "outputs": [],
   "source": [
    "mostly_raw_movies_list = []\n",
    "\n",
    "for movie in raw_movies_list:\n",
    "    new_movie = {}\n",
    "    new_movie['title'] = movie['title']\n",
    "    new_movie['year'] = int(movie['year'])\n",
    "    new_movie['duration'] = int(movie['duration'])\n",
    "    new_movie['genres'] = movie['genres']\n",
    "    new_movie['rating'] = float(movie['rating'])\n",
    "    new_movie['directors'] = movie['directors']\n",
    "    new_movie['cast'] = movie['cast']\n",
    "    mostly_raw_movies_list.append(new_movie)\n"
   ]
  },
  {
   "cell_type": "code",
   "execution_count": 35,
   "id": "d9b9b248",
   "metadata": {
    "deletable": false,
    "editable": true,
    "slideshow": {
     "slide_type": ""
    },
    "tags": []
   },
   "outputs": [
    {
     "name": "stdout",
     "output_type": "stream",
     "text": [
      "Make sure you saved the notebook before running this cell. Running check for lab-q12...\n",
      "Great job! You passed all test cases for this question.\n"
     ]
    }
   ],
   "source": [
    "student_grader_with_feedback.check(\"lab-q12\")"
   ]
  },
  {
   "cell_type": "markdown",
   "id": "1a7355aa",
   "metadata": {
    "deletable": false,
    "editable": false,
    "slideshow": {
     "slide_type": ""
    },
    "tags": []
   },
   "source": [
    "#### Lab Question 13"
   ]
  },
  {
   "cell_type": "markdown",
   "id": "2166e565-9f91-4833-a3fc-675efd1ca43d",
   "metadata": {
    "deletable": false,
    "editable": false,
    "slideshow": {
     "slide_type": ""
    },
    "tags": []
   },
   "source": [
    "What is the `type` of the `duration` of the **first** movie in your list?\n",
    "\n",
    "You must answer this question by querying the value from the `mostly_raw_movies_list` structure."
   ]
  },
  {
   "cell_type": "markdown",
   "id": "8f9258c7",
   "metadata": {
    "deletable": false,
    "editable": false,
    "slideshow": {
     "slide_type": ""
    },
    "tags": []
   },
   "source": [
    "Points possible: 4.0"
   ]
  },
  {
   "cell_type": "code",
   "execution_count": 36,
   "id": "fb5152d6",
   "metadata": {
    "deletable": false,
    "editable": true,
    "slideshow": {
     "slide_type": ""
    },
    "tags": [
     "lab-q13-code"
    ]
   },
   "outputs": [
    {
     "data": {
      "text/plain": [
       "int"
      ]
     },
     "execution_count": 36,
     "metadata": {},
     "output_type": "execute_result"
    }
   ],
   "source": [
    "# we have done this one for you\n",
    "first_movie_duration_type = type(mostly_raw_movies_list[0][\"duration\"])\n",
    "\n",
    "first_movie_duration_type"
   ]
  },
  {
   "cell_type": "code",
   "execution_count": 37,
   "id": "1c3bfab7",
   "metadata": {
    "deletable": false,
    "editable": true,
    "slideshow": {
     "slide_type": ""
    },
    "tags": []
   },
   "outputs": [
    {
     "name": "stdout",
     "output_type": "stream",
     "text": [
      "Make sure you saved the notebook before running this cell. Running check for lab-q13...\n",
      "Great job! You passed all test cases for this question.\n"
     ]
    }
   ],
   "source": [
    "student_grader_with_feedback.check(\"lab-q13\")"
   ]
  },
  {
   "cell_type": "markdown",
   "id": "3cf8b19e",
   "metadata": {
    "deletable": false,
    "editable": false,
    "slideshow": {
     "slide_type": ""
    },
    "tags": []
   },
   "source": [
    "#### Lab Question 14"
   ]
  },
  {
   "cell_type": "markdown",
   "id": "fb8afa7f-e55e-4c7d-90b4-e5d60a58c1a2",
   "metadata": {
    "deletable": false,
    "editable": false,
    "slideshow": {
     "slide_type": ""
    },
    "tags": []
   },
   "source": [
    "What is the `type` of the `rating` of the **first** movie in your list?"
   ]
  },
  {
   "cell_type": "markdown",
   "id": "f55ab790",
   "metadata": {
    "deletable": false,
    "editable": false,
    "slideshow": {
     "slide_type": ""
    },
    "tags": []
   },
   "source": [
    "Points possible: 4.0"
   ]
  },
  {
   "cell_type": "code",
   "execution_count": 38,
   "id": "3cb3757e",
   "metadata": {
    "deletable": false,
    "editable": true,
    "slideshow": {
     "slide_type": ""
    },
    "tags": [
     "lab-q14-code"
    ]
   },
   "outputs": [
    {
     "data": {
      "text/plain": [
       "float"
      ]
     },
     "execution_count": 38,
     "metadata": {},
     "output_type": "execute_result"
    }
   ],
   "source": [
    "# Replace the ... with your code\n",
    "first_movie_rating_type = type(mostly_raw_movies_list[0]['rating'])\n",
    "\n",
    "\n",
    "first_movie_rating_type"
   ]
  },
  {
   "cell_type": "code",
   "execution_count": 39,
   "id": "c9be89e6",
   "metadata": {
    "deletable": false,
    "editable": true,
    "slideshow": {
     "slide_type": ""
    },
    "tags": []
   },
   "outputs": [
    {
     "name": "stdout",
     "output_type": "stream",
     "text": [
      "Make sure you saved the notebook before running this cell. Running check for lab-q14...\n",
      "Great job! You passed all test cases for this question.\n"
     ]
    }
   ],
   "source": [
    "student_grader_with_feedback.check(\"lab-q14\")"
   ]
  },
  {
   "cell_type": "markdown",
   "id": "9dcb11ee",
   "metadata": {
    "deletable": false,
    "editable": false,
    "slideshow": {
     "slide_type": ""
    },
    "tags": []
   },
   "source": [
    "### Task 1.3.3: Convert the `genres`, `directors`, and `cast` to list of strings\n",
    "\n",
    "Run the next cell and observe its output."
   ]
  },
  {
   "cell_type": "code",
   "execution_count": 40,
   "id": "a60c8c43",
   "metadata": {
    "deletable": false,
    "editable": true,
    "slideshow": {
     "slide_type": ""
    },
    "tags": []
   },
   "outputs": [
    {
     "data": {
      "text/plain": [
       "'Action, Adventure, Drama'"
      ]
     },
     "execution_count": 40,
     "metadata": {},
     "output_type": "execute_result"
    }
   ],
   "source": [
    "# these are the 'genres' of the first movie\n",
    "mostly_raw_movies_list[0][\"genres\"]\n"
   ]
  },
  {
   "cell_type": "markdown",
   "id": "ca9d7adc",
   "metadata": {
    "deletable": false,
    "editable": false,
    "slideshow": {
     "slide_type": ""
    },
    "tags": []
   },
   "source": [
    "Notice that the `genres` are stored as a *single* **string**. It would be much more useful to store this value as a **list** of *three different* **strings**, with each **string** representing a *single* **genre**: \n",
    "\n",
    "`['Action', 'Adventure', 'Drama']`\n",
    "\n",
    "Unfortunately, the CSV file format cannot represent **lists**, so **lists** of **strings** are often represented as a *single* **string** with the values separated by a comma followed by a space. So, we will have to convert the **string** into a **list** of **strings** ourselves.\n",
    "\n",
    "In the `small_movies.csv` and `movies.csv` datasets, the `directors` and `cast` are similarly stored as a *single* **string** with the values separated by a comma followed by a space (`\", \"`). We are now going to convert the value corresponding to the keys `genres`, `casts`, and `directors` to a **list** of **strings**. The output **must** be a **list** of **dictionaries** in the following format:\n",
    "\n",
    "```python\n",
    "   {\n",
    "        'title': <title-id>,\n",
    "        'year': <the year as an integer>,\n",
    "        'duration': <the duration as an integer>,\n",
    "        'genres': [<genre1>, <genre2>, ...],\n",
    "        'rating': <the rating as a float>,\n",
    "        'directors': [<director-id1>, <director-id2>, ...],\n",
    "        'cast': [<actor-id1>, <actor-id2>, ....]\n",
    "    }\n",
    "```\n",
    "\n",
    "After converting the strings to list of strings, the **list** of **dictionaries** should look like: \n",
    "\n",
    "```python\n",
    "    [{'title': 'tt15239678',\n",
    "      'year': 2024,\n",
    "      'duration': 166,\n",
    "      'genres': ['Action', 'Adventure', 'Drama'],\n",
    "      'rating': 9.0,\n",
    "      'directors': ['nm0898288'],\n",
    "      'cast': ['nm3154303', 'nm3918035', 'nm0272581', 'nm0000849']},\n",
    "     {'title': 'tt1517268',\n",
    "      'year': 2023,\n",
    "      'duration': 114,\n",
    "      'genres': ['Adventure', 'Comedy', 'Fantasy'],\n",
    "      'rating': 6.9,\n",
    "      'directors': ['nm1950086'],\n",
    "      'cast': ['nm3053338', 'nm0331516', 'nm4793987', 'nm0571952']},\n",
    "     {'title': 'tt15398776',\n",
    "      'year': 2023,\n",
    "      'duration': 180,\n",
    "      'genres': ['Biography', 'Drama', 'History'],\n",
    "      'rating': 8.4,\n",
    "      'directors': ['nm0634240'],\n",
    "      'cast': ['nm0614165', 'nm1289434', 'nm0000354', 'nm0000375']}]\n",
    "```"
   ]
  },
  {
   "cell_type": "markdown",
   "id": "565054a8",
   "metadata": {
    "deletable": false,
    "editable": false,
    "slideshow": {
     "slide_type": ""
    },
    "tags": []
   },
   "source": [
    "#### Lab Question 15"
   ]
  },
  {
   "cell_type": "markdown",
   "id": "3d1971e6-4289-4621-85e6-e29f1759b6f9",
   "metadata": {
    "deletable": false,
    "editable": false
   },
   "source": [
    "Store the **data** in the file `small_movies.csv` as a **list** of **dictionaries** with the fields `genres`, `directors`, and `cast` converted to a list of strings.\n",
    "\n",
    "The `genres`, `directors`, and `cast` values **must** be **lists** of **strings**.\n",
    "\n",
    "**Hint:** Recall that there is a **string method** that enables you to perform this. If you don't know where to start, please review any of the lecture notes from Lecture 14.\n",
    "\n",
    "[Mike's lecture notes on Lists](https://canvas.wisc.edu/courses/427075/files/folder/Mikes_Lecture_Notes/lec14_lists)\n",
    "\n",
    "[Louis' lecture notes on Lists](https://git.doit.wisc.edu/cdis/cs/courses/cs220/cs220-lecture-material/-/tree/main/f24/Louis_Lecture_Notes/14_Lists)"
   ]
  },
  {
   "cell_type": "markdown",
   "id": "1ef50f12",
   "metadata": {
    "deletable": false,
    "editable": false,
    "slideshow": {
     "slide_type": ""
    },
    "tags": []
   },
   "source": [
    "Points possible: 4.0"
   ]
  },
  {
   "cell_type": "code",
   "execution_count": 41,
   "id": "038fd5f4",
   "metadata": {
    "deletable": false,
    "editable": true,
    "tags": [
     "lab-q15-code"
    ]
   },
   "outputs": [],
   "source": [
    "semi_raw_movies_list = []\n",
    "\n",
    "for movie in mostly_raw_movies_list:\n",
    "    new_movie = {}\n",
    "    new_movie['title'] = movie['title']\n",
    "    new_movie['year'] = movie['year']\n",
    "    new_movie['duration'] = movie['duration']\n",
    "    new_movie['genres'] = movie['genres'].split(\", \")\n",
    "    new_movie['rating'] = movie['rating']\n",
    "    new_movie['directors'] = movie['directors'].split(\", \")\n",
    "    new_movie['cast'] = movie['cast'].split(\", \")\n",
    "    semi_raw_movies_list.append(new_movie)\n"
   ]
  },
  {
   "cell_type": "code",
   "execution_count": 42,
   "id": "91a65d10",
   "metadata": {
    "deletable": false,
    "editable": true,
    "slideshow": {
     "slide_type": ""
    },
    "tags": []
   },
   "outputs": [
    {
     "name": "stdout",
     "output_type": "stream",
     "text": [
      "Make sure you saved the notebook before running this cell. Running check for lab-q15...\n",
      "Great job! You passed all test cases for this question.\n"
     ]
    }
   ],
   "source": [
    "student_grader_with_feedback.check(\"lab-q15\")"
   ]
  },
  {
   "cell_type": "markdown",
   "id": "50827e67",
   "metadata": {
    "deletable": false,
    "editable": false,
    "slideshow": {
     "slide_type": ""
    },
    "tags": []
   },
   "source": [
    "#### Lab Question 16"
   ]
  },
  {
   "cell_type": "markdown",
   "id": "6fcf0ad9-5d0d-4690-a1fc-a95761363866",
   "metadata": {
    "deletable": false,
    "editable": false,
    "slideshow": {
     "slide_type": ""
    },
    "tags": []
   },
   "source": [
    "What are the `genres` of the **second** movie in your list?\n",
    "\n",
    "You must answer this question by querying the value from the `semi_raw_movies_list` structure."
   ]
  },
  {
   "cell_type": "markdown",
   "id": "5d95d4fc",
   "metadata": {
    "deletable": false,
    "editable": false,
    "slideshow": {
     "slide_type": ""
    },
    "tags": []
   },
   "source": [
    "Points possible: 4.0"
   ]
  },
  {
   "cell_type": "code",
   "execution_count": 43,
   "id": "eb395afa",
   "metadata": {
    "deletable": false,
    "editable": true,
    "slideshow": {
     "slide_type": ""
    },
    "tags": [
     "lab-q16-code"
    ]
   },
   "outputs": [
    {
     "data": {
      "text/plain": [
       "['Adventure', 'Comedy', 'Fantasy']"
      ]
     },
     "execution_count": 43,
     "metadata": {},
     "output_type": "execute_result"
    }
   ],
   "source": [
    "# we have done this one for you\n",
    "second_movie_genres_list = semi_raw_movies_list[1][\"genres\"]\n",
    "\n",
    "second_movie_genres_list"
   ]
  },
  {
   "cell_type": "code",
   "execution_count": 44,
   "id": "3f7e6ea8",
   "metadata": {
    "deletable": false,
    "editable": true,
    "slideshow": {
     "slide_type": ""
    },
    "tags": []
   },
   "outputs": [
    {
     "name": "stdout",
     "output_type": "stream",
     "text": [
      "Make sure you saved the notebook before running this cell. Running check for lab-q16...\n",
      "Great job! You passed all test cases for this question.\n"
     ]
    }
   ],
   "source": [
    "student_grader_with_feedback.check(\"lab-q16\")"
   ]
  },
  {
   "cell_type": "markdown",
   "id": "923934f1",
   "metadata": {
    "deletable": false,
    "editable": false,
    "slideshow": {
     "slide_type": ""
    },
    "tags": []
   },
   "source": [
    "#### Lab Question 17"
   ]
  },
  {
   "cell_type": "markdown",
   "id": "afb0e8dc-0934-4651-886c-26aad2e5be91",
   "metadata": {
    "deletable": false,
    "editable": false,
    "slideshow": {
     "slide_type": ""
    },
    "tags": []
   },
   "source": [
    "How **many** `cast` members are there in the **second** movie?\n",
    "\n",
    "You **must** answer this question by querying the value from the `semi_raw_movies_list` data structure."
   ]
  },
  {
   "cell_type": "markdown",
   "id": "2b958f50",
   "metadata": {
    "deletable": false,
    "editable": false,
    "slideshow": {
     "slide_type": ""
    },
    "tags": []
   },
   "source": [
    "Points possible: 4.0"
   ]
  },
  {
   "cell_type": "code",
   "execution_count": 45,
   "id": "188abb69-2456-4148-95c9-650f329c533d",
   "metadata": {
    "deletable": false,
    "editable": true,
    "slideshow": {
     "slide_type": ""
    },
    "tags": [
     "lab-q17-code"
    ]
   },
   "outputs": [
    {
     "data": {
      "text/plain": [
       "4"
      ]
     },
     "execution_count": 45,
     "metadata": {},
     "output_type": "execute_result"
    }
   ],
   "source": [
    "second_movie_num_cast = len(semi_raw_movies_list[1]['cast'])\n",
    "\n",
    "\n",
    "second_movie_num_cast"
   ]
  },
  {
   "cell_type": "code",
   "execution_count": 46,
   "id": "7f79f226",
   "metadata": {
    "deletable": false,
    "editable": true,
    "slideshow": {
     "slide_type": ""
    },
    "tags": []
   },
   "outputs": [
    {
     "name": "stdout",
     "output_type": "stream",
     "text": [
      "Make sure you saved the notebook before running this cell. Running check for lab-q17...\n",
      "Great job! You passed all test cases for this question.\n"
     ]
    }
   ],
   "source": [
    "student_grader_with_feedback.check(\"lab-q17\")"
   ]
  },
  {
   "cell_type": "markdown",
   "id": "b79a0a6f-bb26-4a80-aa91-d0a8b92262aa",
   "metadata": {
    "deletable": false,
    "editable": false,
    "slideshow": {
     "slide_type": ""
    },
    "tags": []
   },
   "source": [
    "### Segment 2: Mapping IDs to Actual Names"
   ]
  },
  {
   "cell_type": "markdown",
   "id": "06dbb5dd-684f-48a1-9476-3e2da35b7594",
   "metadata": {
    "deletable": false,
    "editable": false,
    "slideshow": {
     "slide_type": ""
    },
    "tags": []
   },
   "source": [
    "You may have noticed that `title`, `directors`, and `cast` are represented by *IDs* rather than actual *names*. To make our data more intuitive, we next need to **convert** these *IDs* to actual *names*. The output **must** be a **list** of **dictionaries** in the following format:\n",
    "\n",
    "```python\n",
    "   {\n",
    "        'title': \"the movie name\",\n",
    "        'year': <the year as an integer>,\n",
    "        'duration': <the duration as an integer>,\n",
    "        'genres': [<genre1>, <genre2>, ...],\n",
    "        'rating': <the rating as a float>,\n",
    "        'directors': [\"director-name1\", \"director-name2\", ...],\n",
    "        'cast': [\"actor-name1\", \"actor-name2\", ....]\n",
    "    }\n",
    "```\n",
    "\n",
    "After converting the IDs to actual names, your **list** of **dictionaries** should look like:\n",
    "\n",
    "```python\n",
    "[{'title': 'Dune: Part Two',\n",
    "  'year': 2024,\n",
    "  'duration': 166,\n",
    "  'genres': ['Action', 'Adventure', 'Drama'],\n",
    "  'rating': 9.0,\n",
    "  'directors': ['Denis Villeneuve'],\n",
    "  'cast': ['Timothée Chalamet', 'Zendaya', 'Rebecca Ferguson', 'Javier Bardem']},\n",
    " {'title': 'Barbie',\n",
    "  'year': 2023,\n",
    "  'duration': 114,\n",
    "  'genres': ['Adventure', 'Comedy', 'Fantasy'],\n",
    "  'rating': 6.9,\n",
    "  'directors': ['Greta Gerwig'],\n",
    "  'cast': ['Margot Robbie', 'Ryan Gosling', 'Issa Rae', 'Kate McKinnon']},\n",
    " {'title': 'Oppenheimer',\n",
    "  'year': 2023,\n",
    "  'duration': 180,\n",
    "  'genres': ['Biography', 'Drama', 'History'],\n",
    "  'rating': 8.4,\n",
    "  'directors': ['Christopher Nolan'],\n",
    "  'cast': ['Cillian Murphy', 'Emily Blunt', 'Matt Damon', 'Robert Downey Jr.']}]\n",
    "```"
   ]
  },
  {
   "cell_type": "markdown",
   "id": "f963edb9-beb2-47de-bb8c-ed5cb36e562f",
   "metadata": {
    "deletable": false,
    "editable": false,
    "slideshow": {
     "slide_type": ""
    },
    "tags": []
   },
   "source": [
    "### Task 2.1: Find the Actual Names\n",
    "\n",
    "Run the cell below and try to explain its output."
   ]
  },
  {
   "cell_type": "code",
   "execution_count": 47,
   "id": "2ff25dcd-9f8d-4786-9259-756a09ac4ff6",
   "metadata": {
    "deletable": false,
    "editable": true,
    "slideshow": {
     "slide_type": ""
    },
    "tags": []
   },
   "outputs": [
    {
     "name": "stdout",
     "output_type": "stream",
     "text": [
      "tt15239678: Dune: Part Two\n"
     ]
    }
   ],
   "source": [
    "title_id = semi_raw_movies_list[0][\"title\"] # extract the title of the first movie\n",
    "title = mapping_dict[title_id] # recall the dictionary mapping_dict from q4\n",
    "print(title_id + \": \" + title)"
   ]
  },
  {
   "cell_type": "markdown",
   "id": "db038b41",
   "metadata": {
    "deletable": false,
    "editable": false,
    "slideshow": {
     "slide_type": ""
    },
    "tags": []
   },
   "source": [
    "#### Lab Question 18"
   ]
  },
  {
   "cell_type": "markdown",
   "id": "45c87921-4e5f-47bb-8031-702d4e5a7f4e",
   "metadata": {
    "deletable": false,
    "editable": false,
    "slideshow": {
     "slide_type": ""
    },
    "tags": []
   },
   "source": [
    "List the `title` of the **second** movie in your list.\n",
    "\n",
    "Your output **must** be a **string** of the *name* and **not** the *ID*. You **must** answer this question by querying values from the `semi_raw_movies_list` and `mapping_dict` data structures."
   ]
  },
  {
   "cell_type": "markdown",
   "id": "45b2b035",
   "metadata": {
    "deletable": false,
    "editable": false,
    "slideshow": {
     "slide_type": ""
    },
    "tags": []
   },
   "source": [
    "Points possible: 4.0"
   ]
  },
  {
   "cell_type": "code",
   "execution_count": 48,
   "id": "15b1cc92",
   "metadata": {
    "deletable": false,
    "editable": true,
    "slideshow": {
     "slide_type": ""
    },
    "tags": [
     "lab-q18-code"
    ]
   },
   "outputs": [
    {
     "data": {
      "text/plain": [
       "'Barbie'"
      ]
     },
     "execution_count": 48,
     "metadata": {},
     "output_type": "execute_result"
    }
   ],
   "source": [
    "# compute and store the answer in the variable 'title_second', then display it\n",
    "title_second = mapping_dict[semi_raw_movies_list[1]['title']]\n",
    "\n",
    "title_second"
   ]
  },
  {
   "cell_type": "code",
   "execution_count": 49,
   "id": "f3a4a909",
   "metadata": {
    "deletable": false,
    "editable": true,
    "slideshow": {
     "slide_type": ""
    },
    "tags": []
   },
   "outputs": [
    {
     "name": "stdout",
     "output_type": "stream",
     "text": [
      "Make sure you saved the notebook before running this cell. Running check for lab-q18...\n",
      "Great job! You passed all test cases for this question.\n"
     ]
    }
   ],
   "source": [
    "student_grader_with_feedback.check(\"lab-q18\")"
   ]
  },
  {
   "cell_type": "markdown",
   "id": "362bf453",
   "metadata": {
    "deletable": false,
    "editable": false,
    "slideshow": {
     "slide_type": ""
    },
    "tags": []
   },
   "source": [
    "#### Lab Question 19"
   ]
  },
  {
   "cell_type": "markdown",
   "id": "6ac88d2e-9cc1-4b4e-bb3b-8c2da02e7dad",
   "metadata": {
    "deletable": false,
    "editable": false,
    "slideshow": {
     "slide_type": ""
    },
    "tags": []
   },
   "source": [
    "List the **names** of the `cast` of the **first** movie in your list.\n",
    "\n",
    "Your output **must** be a **list** of **strings**."
   ]
  },
  {
   "cell_type": "markdown",
   "id": "32d4451c-06f0-4341-b078-8f67e21f04e2",
   "metadata": {
    "deletable": false,
    "editable": false
   },
   "source": [
    "Points possible: 4.0"
   ]
  },
  {
   "cell_type": "code",
   "execution_count": 50,
   "id": "8eb4f70d",
   "metadata": {
    "deletable": false,
    "editable": true,
    "slideshow": {
     "slide_type": ""
    },
    "tags": [
     "lab-q19-code"
    ]
   },
   "outputs": [
    {
     "data": {
      "text/plain": [
       "['Timothée Chalamet', 'Zendaya', 'Rebecca Ferguson', 'Javier Bardem']"
      ]
     },
     "execution_count": 50,
     "metadata": {},
     "output_type": "execute_result"
    }
   ],
   "source": [
    "cast_names = []\n",
    "first_movie = semi_raw_movies_list[0]\n",
    "\n",
    "for cast_id in first_movie['cast']:\n",
    "    cast_names.append(mapping_dict[cast_id])\n",
    "\n",
    "cast_names\n"
   ]
  },
  {
   "cell_type": "code",
   "execution_count": 51,
   "id": "60a7c725",
   "metadata": {
    "deletable": false,
    "editable": true,
    "slideshow": {
     "slide_type": ""
    },
    "tags": []
   },
   "outputs": [
    {
     "name": "stdout",
     "output_type": "stream",
     "text": [
      "Make sure you saved the notebook before running this cell. Running check for lab-q19...\n",
      "Great job! You passed all test cases for this question.\n"
     ]
    }
   ],
   "source": [
    "student_grader_with_feedback.check(\"lab-q19\")"
   ]
  },
  {
   "cell_type": "markdown",
   "id": "fe643027",
   "metadata": {
    "deletable": false,
    "editable": false,
    "slideshow": {
     "slide_type": ""
    },
    "tags": []
   },
   "source": [
    "#### Lab Question 20"
   ]
  },
  {
   "cell_type": "markdown",
   "id": "f52a9d49-5066-42ee-b0cf-b537b3b07436",
   "metadata": {
    "deletable": false,
    "editable": false,
    "slideshow": {
     "slide_type": ""
    },
    "tags": []
   },
   "source": [
    "List the **names** of all the `directors` of **all** the movies in your list.\n",
    "\n",
    "Your output **must** be a **list** of **strings**."
   ]
  },
  {
   "cell_type": "markdown",
   "id": "2eabca87",
   "metadata": {
    "deletable": false,
    "editable": false,
    "slideshow": {
     "slide_type": ""
    },
    "tags": []
   },
   "source": [
    "Points possible: 4.0"
   ]
  },
  {
   "cell_type": "code",
   "execution_count": 52,
   "id": "b433bc89",
   "metadata": {
    "deletable": false,
    "editable": true,
    "slideshow": {
     "slide_type": ""
    },
    "tags": [
     "lab-q20-code"
    ]
   },
   "outputs": [
    {
     "data": {
      "text/plain": [
       "['Denis Villeneuve', 'Greta Gerwig', 'Christopher Nolan']"
      ]
     },
     "execution_count": 52,
     "metadata": {},
     "output_type": "execute_result"
    }
   ],
   "source": [
    "directors = []\n",
    "\n",
    "for movie in semi_raw_movies_list:\n",
    "    for director_id in movie['directors']:\n",
    "        directors.append(mapping_dict[director_id])\n",
    "\n",
    "directors\n"
   ]
  },
  {
   "cell_type": "code",
   "execution_count": 53,
   "id": "5db8ed82",
   "metadata": {
    "deletable": false,
    "editable": true,
    "slideshow": {
     "slide_type": ""
    },
    "tags": []
   },
   "outputs": [
    {
     "name": "stdout",
     "output_type": "stream",
     "text": [
      "Make sure you saved the notebook before running this cell. Running check for lab-q20...\n",
      "Great job! You passed all test cases for this question.\n"
     ]
    }
   ],
   "source": [
    "student_grader_with_feedback.check(\"lab-q20\")"
   ]
  },
  {
   "cell_type": "markdown",
   "id": "a7b1831b-61fc-49bf-bc69-88698ec790c9",
   "metadata": {
    "deletable": false,
    "editable": false,
    "slideshow": {
     "slide_type": ""
    },
    "tags": []
   },
   "source": [
    "### Task 2.2: Convert to Actual Names\n",
    "\n",
    "Use your `mapping_dict` and `semi_raw_movies_list` to finish this task.\n",
    "There are three columns (`title`, `directors`, and `cast`) which need to be converted.\n",
    "\n",
    "We will convert these columns *incrementally*. First, we will convert the `title` values to be the **names** instead of the **IDs**."
   ]
  },
  {
   "cell_type": "markdown",
   "id": "1fbf8c67",
   "metadata": {
    "deletable": false,
    "editable": false,
    "slideshow": {
     "slide_type": ""
    },
    "tags": []
   },
   "source": [
    "#### Lab Question 21"
   ]
  },
  {
   "cell_type": "markdown",
   "id": "55072a91-7b35-462f-a43b-b10a072f257b",
   "metadata": {
    "deletable": false,
    "editable": false,
    "slideshow": {
     "slide_type": ""
    },
    "tags": []
   },
   "source": [
    "Store the **data** in the file `small_movies.csv` as a **list** of **dictionaries**.\n",
    "\n",
    "The `title` values **must** be **actual names** instead of **IDs**. The `directors` and `cast` values **must** be the **IDs**."
   ]
  },
  {
   "cell_type": "markdown",
   "id": "7f3f9889",
   "metadata": {
    "deletable": false,
    "editable": false,
    "slideshow": {
     "slide_type": ""
    },
    "tags": []
   },
   "source": [
    "Points possible: 4.0"
   ]
  },
  {
   "cell_type": "code",
   "execution_count": 54,
   "id": "d2902e93",
   "metadata": {
    "deletable": false,
    "editable": true,
    "tags": [
     "lab-q21-code"
    ]
   },
   "outputs": [
    {
     "data": {
      "text/plain": [
       "[{'title': 'Dune: Part Two',\n",
       "  'year': 2024,\n",
       "  'duration': 166,\n",
       "  'genres': ['Action', 'Adventure', 'Drama'],\n",
       "  'rating': 9.0,\n",
       "  'directors': ['nm0898288'],\n",
       "  'cast': ['nm3154303', 'nm3918035', 'nm0272581', 'nm0000849']},\n",
       " {'title': 'Barbie',\n",
       "  'year': 2023,\n",
       "  'duration': 114,\n",
       "  'genres': ['Adventure', 'Comedy', 'Fantasy'],\n",
       "  'rating': 6.9,\n",
       "  'directors': ['nm1950086'],\n",
       "  'cast': ['nm3053338', 'nm0331516', 'nm4793987', 'nm0571952']},\n",
       " {'title': 'Oppenheimer',\n",
       "  'year': 2023,\n",
       "  'duration': 180,\n",
       "  'genres': ['Biography', 'Drama', 'History'],\n",
       "  'rating': 8.4,\n",
       "  'directors': ['nm0634240'],\n",
       "  'cast': ['nm0614165', 'nm1289434', 'nm0000354', 'nm0000375']}]"
      ]
     },
     "execution_count": 54,
     "metadata": {},
     "output_type": "execute_result"
    }
   ],
   "source": [
    "movies_list_v1 = []\n",
    "\n",
    "for movie in semi_raw_movies_list:\n",
    "    new_movie = {}\n",
    "    new_movie['title'] = mapping_dict[movie['title']]\n",
    "    new_movie['year'] = movie['year']\n",
    "    new_movie['duration'] = movie['duration']\n",
    "    new_movie['genres'] = movie['genres']\n",
    "    new_movie['rating'] = movie['rating']\n",
    "    new_movie['directors'] = movie['directors']\n",
    "    new_movie['cast'] = movie['cast']\n",
    "    movies_list_v1.append(new_movie)\n",
    "\n",
    "movies_list_v1\n"
   ]
  },
  {
   "cell_type": "code",
   "execution_count": 55,
   "id": "e1c1a409",
   "metadata": {
    "deletable": false,
    "editable": true,
    "slideshow": {
     "slide_type": ""
    },
    "tags": []
   },
   "outputs": [
    {
     "name": "stdout",
     "output_type": "stream",
     "text": [
      "Make sure you saved the notebook before running this cell. Running check for lab-q21...\n",
      "Great job! You passed all test cases for this question.\n"
     ]
    }
   ],
   "source": [
    "student_grader_with_feedback.check(\"lab-q21\")"
   ]
  },
  {
   "cell_type": "markdown",
   "id": "d44505c1",
   "metadata": {
    "deletable": false,
    "editable": false
   },
   "source": [
    " We will now convert the `directors` values to be the **names** instead of the **IDs**."
   ]
  },
  {
   "cell_type": "markdown",
   "id": "8720399e",
   "metadata": {
    "deletable": false,
    "editable": false,
    "slideshow": {
     "slide_type": ""
    },
    "tags": []
   },
   "source": [
    "#### Lab Question 22"
   ]
  },
  {
   "cell_type": "markdown",
   "id": "7c7810f7-2de2-4dd5-80d7-e53ea3eba0a2",
   "metadata": {
    "deletable": false,
    "editable": false,
    "slideshow": {
     "slide_type": ""
    },
    "tags": []
   },
   "source": [
    "Store the **data** in the file `small_movies.csv` as a **list** of **dictionaries**.\n",
    "\n",
    "The `title` and `directors` values **must** be **actual names** instead of **IDs**. The `cast` values **must** be the **IDs**."
   ]
  },
  {
   "cell_type": "markdown",
   "id": "5defb9ec",
   "metadata": {
    "deletable": false,
    "editable": false,
    "slideshow": {
     "slide_type": ""
    },
    "tags": []
   },
   "source": [
    "Points possible: 4.0"
   ]
  },
  {
   "cell_type": "code",
   "execution_count": 56,
   "id": "3e107cd9",
   "metadata": {
    "deletable": false,
    "editable": true,
    "tags": [
     "lab-q22-code"
    ]
   },
   "outputs": [
    {
     "data": {
      "text/plain": [
       "[{'title': 'Dune: Part Two',\n",
       "  'year': 2024,\n",
       "  'duration': 166,\n",
       "  'genres': ['Action', 'Adventure', 'Drama'],\n",
       "  'rating': 9.0,\n",
       "  'directors': ['Denis Villeneuve'],\n",
       "  'cast': ['nm3154303', 'nm3918035', 'nm0272581', 'nm0000849']},\n",
       " {'title': 'Barbie',\n",
       "  'year': 2023,\n",
       "  'duration': 114,\n",
       "  'genres': ['Adventure', 'Comedy', 'Fantasy'],\n",
       "  'rating': 6.9,\n",
       "  'directors': ['Greta Gerwig'],\n",
       "  'cast': ['nm3053338', 'nm0331516', 'nm4793987', 'nm0571952']},\n",
       " {'title': 'Oppenheimer',\n",
       "  'year': 2023,\n",
       "  'duration': 180,\n",
       "  'genres': ['Biography', 'Drama', 'History'],\n",
       "  'rating': 8.4,\n",
       "  'directors': ['Christopher Nolan'],\n",
       "  'cast': ['nm0614165', 'nm1289434', 'nm0000354', 'nm0000375']}]"
      ]
     },
     "execution_count": 56,
     "metadata": {},
     "output_type": "execute_result"
    }
   ],
   "source": [
    "movies_list_v2 = []\n",
    "\n",
    "for movie in semi_raw_movies_list:\n",
    "    new_movie = {}\n",
    "    new_movie['title'] = mapping_dict[movie['title']]\n",
    "    new_movie['year'] = movie['year']\n",
    "    new_movie['duration'] = movie['duration']\n",
    "    new_movie['genres'] = movie['genres']\n",
    "    new_movie['rating'] = movie['rating']\n",
    "    \n",
    "    director_names = [mapping_dict[director_id] for director_id in movie['directors']]\n",
    "    new_movie['directors'] = director_names\n",
    "    \n",
    "    new_movie['cast'] = movie['cast']\n",
    "    movies_list_v2.append(new_movie)\n",
    "\n",
    "movies_list_v2\n"
   ]
  },
  {
   "cell_type": "code",
   "execution_count": 57,
   "id": "46fae3b2",
   "metadata": {
    "deletable": false,
    "editable": true,
    "slideshow": {
     "slide_type": ""
    },
    "tags": []
   },
   "outputs": [
    {
     "name": "stdout",
     "output_type": "stream",
     "text": [
      "Make sure you saved the notebook before running this cell. Running check for lab-q22...\n",
      "Great job! You passed all test cases for this question.\n"
     ]
    }
   ],
   "source": [
    "student_grader_with_feedback.check(\"lab-q22\")"
   ]
  },
  {
   "cell_type": "markdown",
   "id": "8ed36f46",
   "metadata": {
    "deletable": false,
    "editable": false
   },
   "source": [
    " Finally, we will now convert the `cast` values to be the **names** instead of the **IDs**, to finish our definition of `movies_list`."
   ]
  },
  {
   "cell_type": "markdown",
   "id": "5d43c383",
   "metadata": {
    "deletable": false,
    "editable": false,
    "slideshow": {
     "slide_type": ""
    },
    "tags": []
   },
   "source": [
    "#### Lab Question 23"
   ]
  },
  {
   "cell_type": "markdown",
   "id": "75993aee-c198-4277-9965-bb8eb2fb49e5",
   "metadata": {
    "deletable": false,
    "editable": false,
    "slideshow": {
     "slide_type": ""
    },
    "tags": []
   },
   "source": [
    "Store the **data** in the file `small_movies.csv` as a **list** of **dictionaries**.\n",
    "\n",
    "The `title`, `directors` and `cast` values **must** be **actual names** instead of **IDs**."
   ]
  },
  {
   "cell_type": "markdown",
   "id": "eaff6f3e",
   "metadata": {
    "deletable": false,
    "editable": false,
    "slideshow": {
     "slide_type": ""
    },
    "tags": []
   },
   "source": [
    "Points possible: 4.0"
   ]
  },
  {
   "cell_type": "code",
   "execution_count": 58,
   "id": "f47a4b8e",
   "metadata": {
    "deletable": false,
    "editable": true,
    "tags": [
     "lab-q23-code"
    ]
   },
   "outputs": [
    {
     "data": {
      "text/plain": [
       "[{'title': 'Dune: Part Two',\n",
       "  'year': 2024,\n",
       "  'duration': 166,\n",
       "  'genres': ['Action', 'Adventure', 'Drama'],\n",
       "  'rating': 9.0,\n",
       "  'directors': ['Denis Villeneuve'],\n",
       "  'cast': ['Timothée Chalamet',\n",
       "   'Zendaya',\n",
       "   'Rebecca Ferguson',\n",
       "   'Javier Bardem']},\n",
       " {'title': 'Barbie',\n",
       "  'year': 2023,\n",
       "  'duration': 114,\n",
       "  'genres': ['Adventure', 'Comedy', 'Fantasy'],\n",
       "  'rating': 6.9,\n",
       "  'directors': ['Greta Gerwig'],\n",
       "  'cast': ['Margot Robbie', 'Ryan Gosling', 'Issa Rae', 'Kate McKinnon']},\n",
       " {'title': 'Oppenheimer',\n",
       "  'year': 2023,\n",
       "  'duration': 180,\n",
       "  'genres': ['Biography', 'Drama', 'History'],\n",
       "  'rating': 8.4,\n",
       "  'directors': ['Christopher Nolan'],\n",
       "  'cast': ['Cillian Murphy',\n",
       "   'Emily Blunt',\n",
       "   'Matt Damon',\n",
       "   'Robert Downey Jr.']}]"
      ]
     },
     "execution_count": 58,
     "metadata": {},
     "output_type": "execute_result"
    }
   ],
   "source": [
    "movies_list = []\n",
    "\n",
    "for movie in semi_raw_movies_list:\n",
    "    new_movie = {}\n",
    "    new_movie['title'] = mapping_dict[movie['title']]\n",
    "    new_movie['year'] = movie['year']\n",
    "    new_movie['duration'] = movie['duration']\n",
    "    new_movie['genres'] = movie['genres']\n",
    "    new_movie['rating'] = movie['rating']\n",
    "    \n",
    "    director_names = [mapping_dict[director_id] for director_id in movie['directors']]\n",
    "    new_movie['directors'] = director_names\n",
    "    \n",
    "    cast_names = [mapping_dict[cast_id] for cast_id in movie['cast']]\n",
    "    new_movie['cast'] = cast_names\n",
    "    \n",
    "    movies_list.append(new_movie)\n",
    "\n",
    "movies_list\n"
   ]
  },
  {
   "cell_type": "code",
   "execution_count": 59,
   "id": "90177253",
   "metadata": {
    "deletable": false,
    "editable": true,
    "slideshow": {
     "slide_type": ""
    },
    "tags": []
   },
   "outputs": [
    {
     "name": "stdout",
     "output_type": "stream",
     "text": [
      "Make sure you saved the notebook before running this cell. Running check for lab-q23...\n",
      "Great job! You passed all test cases for this question.\n"
     ]
    }
   ],
   "source": [
    "student_grader_with_feedback.check(\"lab-q23\")"
   ]
  },
  {
   "cell_type": "markdown",
   "id": "ec0272c6",
   "metadata": {
    "deletable": false,
    "editable": false
   },
   "source": [
    "We are now ready to test your data structure `movies_list`."
   ]
  },
  {
   "cell_type": "markdown",
   "id": "52199d6c",
   "metadata": {
    "deletable": false,
    "editable": false,
    "slideshow": {
     "slide_type": ""
    },
    "tags": []
   },
   "source": [
    "#### Lab Question 24"
   ]
  },
  {
   "cell_type": "markdown",
   "id": "9fa8d06f-f0a6-4329-aab8-9813cb914c94",
   "metadata": {
    "deletable": false,
    "editable": false,
    "slideshow": {
     "slide_type": ""
    },
    "tags": []
   },
   "source": [
    "What is the movie `title` of the **first** movie in your list?"
   ]
  },
  {
   "cell_type": "markdown",
   "id": "44d995d7",
   "metadata": {
    "deletable": false,
    "editable": false,
    "slideshow": {
     "slide_type": ""
    },
    "tags": []
   },
   "source": [
    "Points possible: 4.0"
   ]
  },
  {
   "cell_type": "code",
   "execution_count": 60,
   "id": "87054896",
   "metadata": {
    "deletable": false,
    "editable": true,
    "slideshow": {
     "slide_type": ""
    },
    "tags": [
     "lab-q24-code"
    ]
   },
   "outputs": [
    {
     "data": {
      "text/plain": [
       "'Dune: Part Two'"
      ]
     },
     "execution_count": 60,
     "metadata": {},
     "output_type": "execute_result"
    }
   ],
   "source": [
    "# we have done this one for you\n",
    "first_movie_title = movies_list[0][\"title\"]\n",
    "\n",
    "first_movie_title"
   ]
  },
  {
   "cell_type": "code",
   "execution_count": 61,
   "id": "629fe356",
   "metadata": {
    "deletable": false,
    "editable": true,
    "slideshow": {
     "slide_type": ""
    },
    "tags": []
   },
   "outputs": [
    {
     "name": "stdout",
     "output_type": "stream",
     "text": [
      "Make sure you saved the notebook before running this cell. Running check for lab-q24...\n",
      "Great job! You passed all test cases for this question.\n"
     ]
    }
   ],
   "source": [
    "student_grader_with_feedback.check(\"lab-q24\")"
   ]
  },
  {
   "cell_type": "markdown",
   "id": "5355003b",
   "metadata": {
    "deletable": false,
    "editable": false,
    "slideshow": {
     "slide_type": ""
    },
    "tags": []
   },
   "source": [
    "#### Lab Question 25"
   ]
  },
  {
   "cell_type": "markdown",
   "id": "518fc4f6-a819-4949-a836-9d685356657b",
   "metadata": {
    "deletable": false,
    "editable": false,
    "slideshow": {
     "slide_type": ""
    },
    "tags": []
   },
   "source": [
    "Who are the `directors` of the **second movie** in your list?\n",
    "\n",
    "Your output **must** be a **list** of **strings**. You **must** answer this question by querying the value from the `movies_list` data structure."
   ]
  },
  {
   "cell_type": "markdown",
   "id": "c090d5dd",
   "metadata": {
    "deletable": false,
    "editable": false,
    "slideshow": {
     "slide_type": ""
    },
    "tags": []
   },
   "source": [
    "Points possible: 4.0"
   ]
  },
  {
   "cell_type": "code",
   "execution_count": 62,
   "id": "394b52d7",
   "metadata": {
    "deletable": false,
    "editable": true,
    "tags": [
     "lab-q25-code"
    ]
   },
   "outputs": [
    {
     "data": {
      "text/plain": [
       "['Greta Gerwig']"
      ]
     },
     "execution_count": 62,
     "metadata": {},
     "output_type": "execute_result"
    }
   ],
   "source": [
    "second_movie_directors = movies_list[1]['directors']\n",
    "\n",
    "second_movie_directors\n"
   ]
  },
  {
   "cell_type": "code",
   "execution_count": 63,
   "id": "842429af",
   "metadata": {
    "deletable": false,
    "editable": true,
    "slideshow": {
     "slide_type": ""
    },
    "tags": []
   },
   "outputs": [
    {
     "name": "stdout",
     "output_type": "stream",
     "text": [
      "Make sure you saved the notebook before running this cell. Running check for lab-q25...\n",
      "Great job! You passed all test cases for this question.\n"
     ]
    }
   ],
   "source": [
    "student_grader_with_feedback.check(\"lab-q25\")"
   ]
  },
  {
   "cell_type": "markdown",
   "id": "cc0b4d7c",
   "metadata": {
    "deletable": false,
    "editable": false,
    "slideshow": {
     "slide_type": ""
    },
    "tags": []
   },
   "source": [
    "### Great work! You are now ready to submit lab-p8.\n",
    "\n",
    "### Submitting the lab\n",
    "\n",
    " **Submit your p8.ipynb on Gradescope to the lab-p8 assignment**, like usual. Remember that the grades for the lab portion of the project and the actual assignment grade are independent. You will submit the same notebook (at different levels of completion) to two different assignments."
   ]
  },
  {
   "cell_type": "markdown",
   "id": "9f9cdaa5-01d9-4aa1-8f30-0d400af66b57",
   "metadata": {
    "deletable": false,
    "editable": false,
    "slideshow": {
     "slide_type": ""
    },
    "tags": []
   },
   "source": [
    "## Project Portion (20 Questions)\n",
    "\n",
    "### Dataset\n",
    "\n",
    "Open `movies.csv` and `mapping.csv` in Jupyter's CSV viewer by double-clicking on the files, and see what the data looks like.  `movies.csv` has ~75,000 rows and `mapping.csv` has ~220,000 rows. These files store information about **every** movie on the IMDb dataset which was released in the US, and received over 250 reviews on IMDb. These datasets are very large when compared to small_movies.csv and small_mapping.csv, but the data is stored in the same format. For a description of the datasets, please refer back to the lab portion.\n",
    "\n",
    "Before we start working with these very large datasets, let us start with the much smaller datasets, `small_movies.csv` and `small_mapping.csv` from the lab portion. In the latter half of P8 and in P9, you will be working with `movies.csv` and `mapping.csv`. Since the files `movies.csv` and `mapping.csv` are large, some of the functions you write in P8 and P9 may take a while to execute. You do not have to panic if a single cell takes between 5 to 10 seconds to run. If any cell takes significantly longer, follow the recommendations below:\n",
    "\n",
    "- **Do not** call **slow functions** multiple times within a loop.\n",
    "- **Do not** call functions that **iterate over the entire dataset within a loop**; instead, call the function before the loop and store the result in a variable.\n",
    "- **Do not** compute quantities **inside a loop** if it can be computed outside the loop; for example, if you want to calculate the average of a list, you should use the loop to find the numerator and denominator but divide **once** after the loop ends instead of inside the loop."
   ]
  },
  {
   "cell_type": "markdown",
   "id": "1fcba2df-c387-43e1-b36e-e8fa5f7ec3ba",
   "metadata": {
    "deletable": false,
    "editable": false
   },
   "source": [
    "### Project Requirements:\n",
    "\n",
    "You **may not** hardcode indices in your code, unless the question explicitly asks you to do so. If you open your `.csv` files with Excel, manually count through the rows and use this number to loop through the dataset, this is also considered as hardcoding. If any instances of hardcoding are found during code review, the Gradescope autograder will **deduct** points from your score.\n",
    "\n",
    "**Store** your final answer for each question in the **variable specified for each question**. This step is important because the autograder works by comparing the value of this variable against the correct answer.\n",
    "\n",
    "For some of the questions, we'll ask you to write (then use) a function to compute the answer. If you compute the answer **without** creating the function we ask you to write, the autograder will **deduct** points from your score, even if the way you did it produced the correct answer.\n",
    "\n",
    "#### Required Functions:\n",
    "- `get_mapping`\n",
    "- `get_raw_movies`\n",
    "- `get_movies`\n",
    "- `find_specific_movies`\n",
    "- `bucketize_by_genre`\n",
    "\n",
    "In this project, you will also be required to define certain **data structures**. If you do not create these data structures exactly as specified, the autograder will **deduct** points from your score, even if the way you did it produced the correct answer.\n",
    "\n",
    "#### Required Data Structures:\n",
    "- `small_movies`\n",
    "- `movies`\n",
    "- `genre_dict`\n",
    "\n",
    "You are only allowed to define these data structures **once** and the autograder will **deduct** points from your score if you redefine the values of these variables.\n",
    "\n",
    "In this project (and the next), you will be asked to create **lists** of movies. For all such questions, **unless it is explicitly mentioned otherwise**, the movies should be in the **same order** as in the `movies.csv` (or `small_movies.csv`) file. Similarly, for each movie, the **list** of `genres`, `directors`, and `cast` members should always be in the **same order** as in the `movies.csv` (or `small_movies.csv`) file.\n",
    "\n",
    "Students are only allowed to use Python commands and concepts that have been taught in the course prior to the release of P8. Therefore, you should not use the pandas module. The autograder will **deduct** points from your score otherwise.\n",
    "\n",
    "In addition, you are also **required** to follow the requirements below:\n",
    "- **Do not use the method `csv.DictReader` for P8**. Although the required output can be obtained using this method, one of the learning outcomes of this project is to demonstrate your ability to build dictionaries with your own code.  \n",
    "- Additional import statements beyond those that are stated in the directions are not allowed. For this project, we allow you to use the `csv` and `copy` packages (that is, you can use the `import csv` and `import copy` statements in your submission). You should not use concepts / modules that are yet to be covered in this course; for example: you should **not** use modules like `pandas`.\n",
    "\n",
    "The autograder will **deduct** points accordingly, if you don't follow the provided directions."
   ]
  },
  {
   "cell_type": "markdown",
   "id": "7704914d-ab96-422c-8e42-2dcf05a27796",
   "metadata": {
    "deletable": false,
    "editable": false
   },
   "source": [
    "### Questions & Functions"
   ]
  },
  {
   "cell_type": "markdown",
   "id": "199ac24a-c755-43b3-a75b-bd647cb21b2d",
   "metadata": {
    "deletable": false,
    "editable": false
   },
   "source": [
    "#### Project Function 1: `get_mapping(path)`"
   ]
  },
  {
   "cell_type": "markdown",
   "id": "2d372d47-75b2-4c52-af0c-dc25fcd550ef",
   "metadata": {
    "deletable": false,
    "editable": false
   },
   "source": [
    "We require you to complete the below function to answer the next several questions (this is a **requirement**, and you will **lose points** if you do not implement this function).\n",
    "\n",
    "The `get_mapping(path)` function must return a dictionary where a key is from the first column of the mapping file and the value is the second column of the mapping file.  For example, if `get_mapping('small_movies.csv')` is called, a dictionary will be created where one of the keys would be `tt15239678` and it would map to the value `Barbie`. See **Lab Q4** for additional guidance."
   ]
  },
  {
   "cell_type": "markdown",
   "id": "888d24e6-292c-41d8-94a1-d8850168ec77",
   "metadata": {
    "deletable": false,
    "editable": false
   },
   "source": [
    "Points possible: 5.0"
   ]
  },
  {
   "cell_type": "code",
   "execution_count": 64,
   "id": "7e84bcce-cc86-4f93-8dcc-8b8e3db387c7",
   "metadata": {
    "deletable": false,
    "editable": true,
    "tags": [
     "get_mapping-code"
    ]
   },
   "outputs": [],
   "source": [
    "def get_mapping(path):\n",
    "    data = process_csv(path)\n",
    "    mapping_dict = {}\n",
    "    for row in data:\n",
    "        mapping_dict[row[0]] = row[1]\n",
    "    return mapping_dict\n"
   ]
  },
  {
   "cell_type": "code",
   "execution_count": 65,
   "id": "fba6068a-7ed7-4fb7-b60f-11ae753fc0b0",
   "metadata": {
    "deletable": false,
    "editable": true,
    "slideshow": {
     "slide_type": ""
    },
    "tags": []
   },
   "outputs": [
    {
     "name": "stdout",
     "output_type": "stream",
     "text": [
      "Make sure you saved the notebook before running this cell. Running check for get_mapping...\n",
      "Great job! You passed all test cases for this question.\n"
     ]
    }
   ],
   "source": [
    "student_grader_with_feedback.check(\"get_mapping\")"
   ]
  },
  {
   "cell_type": "markdown",
   "id": "a5a8af48-4761-4549-bd91-56b9dfd9b575",
   "metadata": {
    "deletable": false,
    "editable": false
   },
   "source": [
    "#### Project Question 1"
   ]
  },
  {
   "cell_type": "markdown",
   "id": "732646fc-7722-4c9e-8f9e-5154ee82095f",
   "metadata": {
    "deletable": false,
    "editable": false
   },
   "source": [
    "What is returned by `get_mapping(\"small_mapping.csv\")`?\n",
    "\n",
    "You must define a variable `small_mapping` which **must** store a **dictionary** mapping the *IDs* in `small_mapping.csv` to *names*."
   ]
  },
  {
   "cell_type": "markdown",
   "id": "79a2ce16-ca07-4538-a336-b8719117ff13",
   "metadata": {
    "deletable": false,
    "editable": false
   },
   "source": [
    "Points possible: 4.0"
   ]
  },
  {
   "cell_type": "code",
   "execution_count": 66,
   "id": "fe90c519-5731-4d65-a0a3-9adb6601e6d9",
   "metadata": {
    "deletable": false,
    "editable": true,
    "tags": [
     "q1-code"
    ]
   },
   "outputs": [
    {
     "data": {
      "text/plain": [
       "{'tt15239678': 'Dune: Part Two',\n",
       " 'tt1517268': 'Barbie',\n",
       " 'tt15398776': 'Oppenheimer',\n",
       " 'nm0898288': 'Denis Villeneuve',\n",
       " 'nm3154303': 'Timothée Chalamet',\n",
       " 'nm3918035': 'Zendaya',\n",
       " 'nm0272581': 'Rebecca Ferguson',\n",
       " 'nm0000849': 'Javier Bardem',\n",
       " 'nm1950086': 'Greta Gerwig',\n",
       " 'nm3053338': 'Margot Robbie',\n",
       " 'nm0331516': 'Ryan Gosling',\n",
       " 'nm4793987': 'Issa Rae',\n",
       " 'nm0571952': 'Kate McKinnon',\n",
       " 'nm0634240': 'Christopher Nolan',\n",
       " 'nm0614165': 'Cillian Murphy',\n",
       " 'nm1289434': 'Emily Blunt',\n",
       " 'nm0000354': 'Matt Damon',\n",
       " 'nm0000375': 'Robert Downey Jr.'}"
      ]
     },
     "execution_count": 66,
     "metadata": {},
     "output_type": "execute_result"
    }
   ],
   "source": [
    "small_mapping = get_mapping(\"small_mapping.csv\")\n",
    "\n",
    "small_mapping\n"
   ]
  },
  {
   "cell_type": "code",
   "execution_count": 67,
   "id": "e9e69b68-9abc-44b4-aada-291ab76c0301",
   "metadata": {
    "deletable": false,
    "editable": true,
    "slideshow": {
     "slide_type": ""
    },
    "tags": []
   },
   "outputs": [
    {
     "name": "stdout",
     "output_type": "stream",
     "text": [
      "Make sure you saved the notebook before running this cell. Running check for q1...\n",
      "Great job! You passed all test cases for this question.\n"
     ]
    }
   ],
   "source": [
    "student_grader_with_feedback.check(\"q1\")"
   ]
  },
  {
   "cell_type": "markdown",
   "id": "a80ed841-e09b-4ec8-b515-c591dd0e6741",
   "metadata": {
    "deletable": false,
    "editable": false
   },
   "source": [
    "#### Project Question 2"
   ]
  },
  {
   "cell_type": "markdown",
   "id": "969ec391-9480-439d-abb4-5795a255290c",
   "metadata": {
    "deletable": false,
    "editable": false
   },
   "source": [
    "What is the **value** associated with the **key** *nm1289434*?\n",
    "\n",
    "Your output **must** be a **string** stored in a variable named `nm1289434_value`. You **must** use the variable `small_mapping` defined above to answer this question. You should not call the function `get_mapping()` again on this dataset."
   ]
  },
  {
   "cell_type": "markdown",
   "id": "f586a022-bc6a-4bd3-abe5-ffef99c0cdd0",
   "metadata": {
    "deletable": false,
    "editable": false
   },
   "source": [
    "Points possible: 4.0"
   ]
  },
  {
   "cell_type": "code",
   "execution_count": 68,
   "id": "038da011-7b62-4964-8e66-f6a3f0a7b727",
   "metadata": {
    "deletable": false,
    "editable": true,
    "tags": [
     "q2-code"
    ]
   },
   "outputs": [
    {
     "data": {
      "text/plain": [
       "'Emily Blunt'"
      ]
     },
     "execution_count": 68,
     "metadata": {},
     "output_type": "execute_result"
    }
   ],
   "source": [
    "nm1289434_value = small_mapping[\"nm1289434\"]\n",
    "\n",
    "nm1289434_value\n"
   ]
  },
  {
   "cell_type": "code",
   "execution_count": 69,
   "id": "fc6920c9-9245-4ce4-889b-6356239591cb",
   "metadata": {
    "deletable": false,
    "editable": true,
    "slideshow": {
     "slide_type": ""
    },
    "tags": []
   },
   "outputs": [
    {
     "name": "stdout",
     "output_type": "stream",
     "text": [
      "Make sure you saved the notebook before running this cell. Running check for q2...\n",
      "Great job! You passed all test cases for this question.\n"
     ]
    }
   ],
   "source": [
    "student_grader_with_feedback.check(\"q2\")"
   ]
  },
  {
   "cell_type": "markdown",
   "id": "c66618bf-30d7-41eb-b199-18dc3ab5f52d",
   "metadata": {
    "deletable": false,
    "editable": false
   },
   "source": [
    "#### Project Question 3"
   ]
  },
  {
   "cell_type": "markdown",
   "id": "acc93650-3d70-4346-8594-4ce864a958cd",
   "metadata": {
    "deletable": false,
    "editable": false
   },
   "source": [
    "What are the **values** associated with **keys** that **begin** with *nm*?\n",
    "\n",
    "Your output **must** be a **list** of **strings** stored in a variable named `nm_mappings`. You **must** find **only** the values of the keys that **begin** with *nm*, and **not** the keys that contain *nm*. You **must** use the variable `small_mapping` defined above to answer this question."
   ]
  },
  {
   "cell_type": "markdown",
   "id": "5bc7c3f9-74ea-49f6-b366-202e9f9a1fcb",
   "metadata": {
    "deletable": false,
    "editable": false
   },
   "source": [
    "Points possible: 4.0"
   ]
  },
  {
   "cell_type": "code",
   "execution_count": 70,
   "id": "ec6d20e3-eb90-43b2-b0c5-6aec9d6c9cac",
   "metadata": {
    "deletable": false,
    "editable": true,
    "tags": [
     "q3-code"
    ]
   },
   "outputs": [
    {
     "data": {
      "text/plain": [
       "['Denis Villeneuve',\n",
       " 'Timothée Chalamet',\n",
       " 'Zendaya',\n",
       " 'Rebecca Ferguson',\n",
       " 'Javier Bardem',\n",
       " 'Greta Gerwig',\n",
       " 'Margot Robbie',\n",
       " 'Ryan Gosling',\n",
       " 'Issa Rae',\n",
       " 'Kate McKinnon',\n",
       " 'Christopher Nolan',\n",
       " 'Cillian Murphy',\n",
       " 'Emily Blunt',\n",
       " 'Matt Damon',\n",
       " 'Robert Downey Jr.']"
      ]
     },
     "execution_count": 70,
     "metadata": {},
     "output_type": "execute_result"
    }
   ],
   "source": [
    "nm_mappings = [value for key, value in small_mapping.items() if key.startswith(\"nm\")]\n",
    "\n",
    "nm_mappings\n"
   ]
  },
  {
   "cell_type": "code",
   "execution_count": 71,
   "id": "941e5ee8-9403-4dc3-8b84-43282b2f2ac7",
   "metadata": {
    "deletable": false,
    "editable": true,
    "slideshow": {
     "slide_type": ""
    },
    "tags": []
   },
   "outputs": [
    {
     "name": "stdout",
     "output_type": "stream",
     "text": [
      "Make sure you saved the notebook before running this cell. Running check for q3...\n",
      "Great job! You passed all test cases for this question.\n"
     ]
    }
   ],
   "source": [
    "student_grader_with_feedback.check(\"q3\")"
   ]
  },
  {
   "cell_type": "markdown",
   "id": "9a6ecd6c-7d90-45da-876e-60fcbb22757e",
   "metadata": {
    "deletable": false,
    "editable": false
   },
   "source": [
    "#### Project Question 4"
   ]
  },
  {
   "cell_type": "markdown",
   "id": "b61d0d8b-5f14-4386-b04b-b81a5d974245",
   "metadata": {
    "deletable": false,
    "editable": false
   },
   "source": [
    "Find the **keys** of the people (keys **beginning** with *nm*) whose **last name** is *Murphy*.\n",
    "\n",
    "Your output **must** be a **list** of **string(s)** stored in a variable named `nm_murphy`. You **must** use the variable `small_mapping` defined above to answer this question.\n",
    "\n",
    "**Requirements:** Your **code** must be robust and satisfy all the requirements, even if you were to run this on a larger dataset (such as `mapping.csv`). In particular:\n",
    "1. You will **lose points** if your code would find people whose **first** name or **middle** name is *Murphy* (e.g. *Murphy Patrick Martin*, *Lisa Murphy Collins*).\n",
    "2. You will **lose points** if your code would find people whose **last** name contains *Murphy* as a **substring** (e.g. *Benjamin Harter-Murphy*). The name should be **exactly** *Murphy*. \n",
    "3. You will **lose points** if your code would find any **movie titles** (e.g. *Sergeant Murphy*)."
   ]
  },
  {
   "cell_type": "markdown",
   "id": "81c3fa3e-7195-462e-9694-72e904ac8649",
   "metadata": {
    "deletable": false,
    "editable": false
   },
   "source": [
    "Points possible: 4.0"
   ]
  },
  {
   "cell_type": "code",
   "execution_count": 72,
   "id": "ef6869f8-dc87-4709-a1d4-befc9faf6dab",
   "metadata": {
    "deletable": false,
    "editable": true,
    "tags": [
     "q4-code"
    ]
   },
   "outputs": [
    {
     "data": {
      "text/plain": [
       "['nm0614165']"
      ]
     },
     "execution_count": 72,
     "metadata": {},
     "output_type": "execute_result"
    }
   ],
   "source": [
    "nm_murphy = [\n",
    "    key for key, value in small_mapping.items()\n",
    "    if key.startswith(\"nm\") and value.split()[-1] == \"Murphy\"\n",
    "]\n",
    "\n",
    "nm_murphy\n"
   ]
  },
  {
   "cell_type": "code",
   "execution_count": 73,
   "id": "257f0e1d-8eb8-4176-bde8-62e8a2a1c33f",
   "metadata": {
    "deletable": false,
    "editable": true,
    "slideshow": {
     "slide_type": ""
    },
    "tags": []
   },
   "outputs": [
    {
     "name": "stdout",
     "output_type": "stream",
     "text": [
      "Make sure you saved the notebook before running this cell. Running check for q4...\n",
      "Great job! You passed all test cases for this question.\n"
     ]
    }
   ],
   "source": [
    "student_grader_with_feedback.check(\"q4\")"
   ]
  },
  {
   "cell_type": "markdown",
   "id": "d03b4983-27ec-4225-a6f9-8bcff1ed18c7",
   "metadata": {
    "deletable": false,
    "editable": false
   },
   "source": [
    "#### Project Function 2: `get_raw_movies(path)`"
   ]
  },
  {
   "cell_type": "markdown",
   "id": "909b77e4-1fe5-4ad4-89e6-56e22ae8bd2c",
   "metadata": {
    "deletable": false,
    "editable": false
   },
   "source": [
    "Now, let's move on to reading the movie files!\n",
    "\n",
    "We require you to complete the below function to answer the next several questions (this is a **requirement**, and you will **lose points** if you do not implement this function).\n",
    "\n",
    "This function **must** return a **list** of **dictionaries**, where each **dictionary** is of the following format:\n",
    "\n",
    "```python\n",
    "   {\n",
    "        'title': <title-id>,\n",
    "        'year': <the year as an integer>,\n",
    "        'duration': <the duration as an integer>,\n",
    "        'genres': [<genre1>, <genre2>, ...],\n",
    "        'rating': <the rating as a float>,\n",
    "        'directors': [<director-id1>, <director-id2>, ...],\n",
    "        'cast': [<actor-id1>, <actor-id2>, ....]\n",
    "    }\n",
    "```\n",
    "\n",
    "Here is an example:\n",
    "\n",
    "```python\n",
    "    {\n",
    "        'title': 'tt0033313',\n",
    "        'year': 1941,\n",
    "        'duration': 59,\n",
    "        'genres': ['Western'],\n",
    "        'rating': 5.2,\n",
    "        'directors': ['nm0496505'],\n",
    "        'cast': ['nm0193318', 'nm0254381', 'nm0279961', 'nm0910294', 'nm0852305']\n",
    "    }\n",
    "```\n",
    "\n",
    "You may use code from the lab portion of the  notebook to finish this function (e.g. calling `process_csv()`)."
   ]
  },
  {
   "cell_type": "markdown",
   "id": "f1193fb5-4f37-43a6-82a1-075b24de7a6f",
   "metadata": {
    "deletable": false,
    "editable": false
   },
   "source": [
    "Points possible: 5.0"
   ]
  },
  {
   "cell_type": "code",
   "execution_count": 74,
   "id": "f0f59cd1-38ac-411b-9255-f0abcd2acd7d",
   "metadata": {
    "deletable": false,
    "editable": true,
    "tags": [
     "get_raw_movies-code"
    ]
   },
   "outputs": [],
   "source": [
    "def get_raw_movies(path):\n",
    "    data = process_csv(path)\n",
    "    csv_header = data[0]\n",
    "    csv_rows = data[1:]  # Exclude the header row\n",
    "    \n",
    "    movies_list = []\n",
    "    for row in csv_rows:\n",
    "        movie = {\n",
    "            'title': row[csv_header.index('title')],\n",
    "            'year': int(row[csv_header.index('year')]),\n",
    "            'duration': int(row[csv_header.index('duration')]),\n",
    "            'genres': row[csv_header.index('genres')].split(', '),\n",
    "            'rating': float(row[csv_header.index('rating')]),\n",
    "            'directors': row[csv_header.index('directors')].split(', '),\n",
    "            'cast': row[csv_header.index('cast')].split(', ')\n",
    "        }\n",
    "        movies_list.append(movie)\n",
    "        \n",
    "    return movies_list\n"
   ]
  },
  {
   "cell_type": "code",
   "execution_count": 75,
   "id": "150a2511-fecd-4992-ae67-716d3a45b5d5",
   "metadata": {
    "deletable": false,
    "editable": true,
    "slideshow": {
     "slide_type": ""
    },
    "tags": []
   },
   "outputs": [
    {
     "name": "stdout",
     "output_type": "stream",
     "text": [
      "Make sure you saved the notebook before running this cell. Running check for get_raw_movies...\n",
      "Great job! You passed all test cases for this question.\n"
     ]
    }
   ],
   "source": [
    "student_grader_with_feedback.check(\"get_raw_movies\")"
   ]
  },
  {
   "cell_type": "markdown",
   "id": "ae59b610-b3f7-4ced-8ab3-cecf291facc0",
   "metadata": {
    "deletable": false,
    "editable": false
   },
   "source": [
    "#### Project Question 5"
   ]
  },
  {
   "cell_type": "markdown",
   "id": "0f8743e3-a3a1-4c8b-b076-1148c41b21c8",
   "metadata": {
    "deletable": false,
    "editable": false
   },
   "source": [
    "What is returned by `get_raw_movies(\"small_movies.csv\")`?\n",
    "\n",
    "Your output **must** be a **list** of **dictionaries** where each dictionary contains information about a movie."
   ]
  },
  {
   "cell_type": "markdown",
   "id": "236add9b-8e78-4cfb-afdb-4953eb750402",
   "metadata": {
    "deletable": false,
    "editable": false
   },
   "source": [
    "Points possible: 4.0"
   ]
  },
  {
   "cell_type": "code",
   "execution_count": 76,
   "id": "e5a49328-d37e-42f4-8432-9a22dc0620b4",
   "metadata": {
    "deletable": false,
    "editable": true,
    "tags": [
     "q5-code"
    ]
   },
   "outputs": [
    {
     "data": {
      "text/plain": [
       "[{'title': 'tt15239678',\n",
       "  'year': 2024,\n",
       "  'duration': 166,\n",
       "  'genres': ['Action', 'Adventure', 'Drama'],\n",
       "  'rating': 9.0,\n",
       "  'directors': ['nm0898288'],\n",
       "  'cast': ['nm3154303', 'nm3918035', 'nm0272581', 'nm0000849']},\n",
       " {'title': 'tt1517268',\n",
       "  'year': 2023,\n",
       "  'duration': 114,\n",
       "  'genres': ['Adventure', 'Comedy', 'Fantasy'],\n",
       "  'rating': 6.9,\n",
       "  'directors': ['nm1950086'],\n",
       "  'cast': ['nm3053338', 'nm0331516', 'nm4793987', 'nm0571952']},\n",
       " {'title': 'tt15398776',\n",
       "  'year': 2023,\n",
       "  'duration': 180,\n",
       "  'genres': ['Biography', 'Drama', 'History'],\n",
       "  'rating': 8.4,\n",
       "  'directors': ['nm0634240'],\n",
       "  'cast': ['nm0614165', 'nm1289434', 'nm0000354', 'nm0000375']}]"
      ]
     },
     "execution_count": 76,
     "metadata": {},
     "output_type": "execute_result"
    }
   ],
   "source": [
    "raw_small_movies = get_raw_movies(\"small_movies.csv\")\n",
    "\n",
    "raw_small_movies\n"
   ]
  },
  {
   "cell_type": "code",
   "execution_count": 77,
   "id": "504c4f4a-a913-4bfa-af30-557a44b48996",
   "metadata": {
    "deletable": false,
    "editable": true,
    "slideshow": {
     "slide_type": ""
    },
    "tags": []
   },
   "outputs": [
    {
     "name": "stdout",
     "output_type": "stream",
     "text": [
      "Make sure you saved the notebook before running this cell. Running check for q5...\n",
      "Great job! You passed all test cases for this question.\n"
     ]
    }
   ],
   "source": [
    "student_grader_with_feedback.check(\"q5\")"
   ]
  },
  {
   "cell_type": "markdown",
   "id": "6e52c38b-6d01-4c22-b444-7bd552cb0469",
   "metadata": {
    "deletable": false,
    "editable": false
   },
   "source": [
    "If your answer looks correct, but does not pass the autograder, make sure that the **datatypes** are all correct. Also make sure that the **directors** and **cast**  are in the **same order** as in `small_movies.csv`."
   ]
  },
  {
   "cell_type": "markdown",
   "id": "8e1535d2-d8e4-4840-a551-cee0e62c8825",
   "metadata": {
    "deletable": false,
    "editable": false
   },
   "source": [
    "#### Project Question 6"
   ]
  },
  {
   "cell_type": "markdown",
   "id": "8945e163-f073-489f-bb6d-a20410f33545",
   "metadata": {
    "deletable": false,
    "editable": false
   },
   "source": [
    "How **many** cast members does the **first** movie have?\n",
    "\n",
    "Your output **must** be an **int**. You **must** use the variable `raw_small_movies` defined above to answer this question. You **must** not call the function `get_raw_movies` again on this dataset."
   ]
  },
  {
   "cell_type": "markdown",
   "id": "fab58f57-6ecd-4cfd-add9-8cce258b97e8",
   "metadata": {
    "deletable": false,
    "editable": false
   },
   "source": [
    "Points possible: 4.0"
   ]
  },
  {
   "cell_type": "code",
   "execution_count": 78,
   "id": "63a42f80-d8ce-496a-8597-4bf0694203cd",
   "metadata": {
    "deletable": false,
    "editable": true,
    "tags": [
     "q6-code"
    ]
   },
   "outputs": [
    {
     "data": {
      "text/plain": [
       "4"
      ]
     },
     "execution_count": 78,
     "metadata": {},
     "output_type": "execute_result"
    }
   ],
   "source": [
    "num_cast_first_movie = len(raw_small_movies[0]['cast'])\n",
    "\n",
    "num_cast_first_movie\n"
   ]
  },
  {
   "cell_type": "code",
   "execution_count": 79,
   "id": "c1d33372-5386-4612-a61b-0d07391cedf5",
   "metadata": {
    "deletable": false,
    "editable": true,
    "slideshow": {
     "slide_type": ""
    },
    "tags": []
   },
   "outputs": [
    {
     "name": "stdout",
     "output_type": "stream",
     "text": [
      "Make sure you saved the notebook before running this cell. Running check for q6...\n",
      "Great job! You passed all test cases for this question.\n"
     ]
    }
   ],
   "source": [
    "student_grader_with_feedback.check(\"q6\")"
   ]
  },
  {
   "cell_type": "markdown",
   "id": "317057b5-0359-468f-8d15-fe98229913a6",
   "metadata": {
    "deletable": false,
    "editable": false
   },
   "source": [
    "#### Project Question 7"
   ]
  },
  {
   "cell_type": "markdown",
   "id": "12a59b79-34cf-464b-b635-2061a9b79a92",
   "metadata": {
    "deletable": false,
    "editable": false
   },
   "source": [
    "What is the *ID* of the **first** cast member listed for the **first** movie of the dataset?\n",
    "\n",
    "Your output **must** be a **string**. You **must** use the variable `raw_small_movies` defined above to answer this question."
   ]
  },
  {
   "cell_type": "markdown",
   "id": "8e2b46dc-46db-4bbe-8343-b6580a048833",
   "metadata": {
    "deletable": false,
    "editable": false
   },
   "source": [
    "Points possible: 4.0"
   ]
  },
  {
   "cell_type": "code",
   "execution_count": 80,
   "id": "beb22089-ea77-4567-805a-4b1011fcc910",
   "metadata": {
    "deletable": false,
    "editable": true,
    "tags": [
     "q7-code"
    ]
   },
   "outputs": [
    {
     "data": {
      "text/plain": [
       "'nm3154303'"
      ]
     },
     "execution_count": 80,
     "metadata": {},
     "output_type": "execute_result"
    }
   ],
   "source": [
    "first_actor_id_first_movie = raw_small_movies[0]['cast'][0]\n",
    "\n",
    "first_actor_id_first_movie\n"
   ]
  },
  {
   "cell_type": "code",
   "execution_count": 81,
   "id": "0beccd91-265d-4491-a5c6-666bede5d49f",
   "metadata": {
    "deletable": false,
    "editable": true,
    "slideshow": {
     "slide_type": ""
    },
    "tags": []
   },
   "outputs": [
    {
     "name": "stdout",
     "output_type": "stream",
     "text": [
      "Make sure you saved the notebook before running this cell. Running check for q7...\n",
      "Great job! You passed all test cases for this question.\n"
     ]
    }
   ],
   "source": [
    "student_grader_with_feedback.check(\"q7\")"
   ]
  },
  {
   "cell_type": "markdown",
   "id": "b879615d-bf2b-42ec-aeb5-6f936aca3eca",
   "metadata": {
    "deletable": false,
    "editable": false
   },
   "source": [
    "#### Function 3: `get_movies(movies_path, mapping_path)`"
   ]
  },
  {
   "cell_type": "markdown",
   "id": "090a5f1c-f90f-4a22-9b39-6523ac07f7b7",
   "metadata": {
    "deletable": false,
    "editable": false
   },
   "source": [
    "We require you to complete the below function to answer the next several questions (this is a **requirement**, and you will **lose points** if you do not implement this function).\n",
    "\n",
    "\n",
    "This function **must** return a **list** of **dictionaries**, where each **dictionary** is of the following format:\n",
    "\n",
    "```python\n",
    "   {\n",
    "        'title': \"the movie name\",\n",
    "        'year': <the year as an integer>,\n",
    "        'duration': <the duration as an integer>,\n",
    "        'genres': [<genre1>, <genre2>, ...],\n",
    "        'rating': <the rating as a float>,\n",
    "        'directors': [\"director-name1\", \"director-name2\", ...],\n",
    "        'cast': [\"actor-name1\", \"actor-name2\", ....]\n",
    "    }\n",
    "```\n",
    "\n",
    "Here is an example:\n",
    "\n",
    "```python\n",
    "    {\n",
    "        'title': 'Across the Sierras',\n",
    "        'year': 1941,\n",
    "        'duration': 59,\n",
    "        'genres': ['Western'],\n",
    "        'rating': 5.2,\n",
    "        'directors': ['D. Ross Lederman'],\n",
    "        'cast': ['Dick Curtis', 'Bill Elliott', 'Richard Fiske', 'Luana Walters', 'Dub Taylor']\n",
    "    }\n",
    "```\n",
    "\n",
    "You may use functions that you have already created. Look at lab questions 21-23 for additional guidance."
   ]
  },
  {
   "cell_type": "markdown",
   "id": "1cb003f5-9ea1-48af-a324-4e8dbd32a8df",
   "metadata": {
    "deletable": false,
    "editable": false
   },
   "source": [
    "Points possible: 5.0"
   ]
  },
  {
   "cell_type": "code",
   "execution_count": 82,
   "id": "a330ce6c-18ed-4218-83f6-3ef8c1bf1407",
   "metadata": {
    "deletable": false,
    "editable": true,
    "tags": [
     "get_movies-code"
    ]
   },
   "outputs": [],
   "source": [
    "def get_movies(movies_path, mapping_path):\n",
    "    mapping_dict = get_mapping(mapping_path)\n",
    "    raw_movies = get_raw_movies(movies_path)\n",
    "    \n",
    "    movies_list = []\n",
    "    for movie in raw_movies:\n",
    "        new_movie = {\n",
    "            'title': mapping_dict.get(movie['title'], movie['title']),\n",
    "            'year': movie['year'],\n",
    "            'duration': movie['duration'],\n",
    "            'genres': movie['genres'],\n",
    "            'rating': movie['rating'],\n",
    "            'directors': [mapping_dict.get(director_id, director_id) for director_id in movie['directors']],\n",
    "            'cast': [mapping_dict.get(cast_id, cast_id) for cast_id in movie['cast']]\n",
    "        }\n",
    "        movies_list.append(new_movie)\n",
    "        \n",
    "    return movies_list\n"
   ]
  },
  {
   "cell_type": "code",
   "execution_count": 83,
   "id": "c024cc2d-c695-4671-a4b4-abd20bb7304e",
   "metadata": {
    "deletable": false,
    "editable": true,
    "slideshow": {
     "slide_type": ""
    },
    "tags": []
   },
   "outputs": [
    {
     "name": "stdout",
     "output_type": "stream",
     "text": [
      "Make sure you saved the notebook before running this cell. Running check for get_movies...\n",
      "Great job! You passed all test cases for this question.\n"
     ]
    }
   ],
   "source": [
    "student_grader_with_feedback.check(\"get_movies\")"
   ]
  },
  {
   "cell_type": "markdown",
   "id": "d9ec6749-830d-42e3-85cd-0060dfcb7380",
   "metadata": {
    "deletable": false,
    "editable": false
   },
   "source": [
    "#### Project Question 8"
   ]
  },
  {
   "cell_type": "markdown",
   "id": "98060459-f487-4e1c-87ed-c2a8ccb098f8",
   "metadata": {
    "deletable": false,
    "editable": false
   },
   "source": [
    "What is returned by `get_movies(\"small_movies.csv\", \"small_mapping.csv\")`?\n",
    "\n",
    "Your output **must** be a **list** of **dictionaries** where each dictionary contains information about a movie."
   ]
  },
  {
   "cell_type": "markdown",
   "id": "c3279912-2232-4b34-a11a-c220f35f539f",
   "metadata": {
    "deletable": false,
    "editable": false
   },
   "source": [
    "Points possible: 4.0"
   ]
  },
  {
   "cell_type": "code",
   "execution_count": 84,
   "id": "4ae3c443-1f91-47ea-b4c9-66509eb3a8ec",
   "metadata": {
    "deletable": false,
    "editable": true,
    "tags": [
     "q8-code"
    ]
   },
   "outputs": [
    {
     "data": {
      "text/plain": [
       "[{'title': 'Dune: Part Two',\n",
       "  'year': 2024,\n",
       "  'duration': 166,\n",
       "  'genres': ['Action', 'Adventure', 'Drama'],\n",
       "  'rating': 9.0,\n",
       "  'directors': ['Denis Villeneuve'],\n",
       "  'cast': ['Timothée Chalamet',\n",
       "   'Zendaya',\n",
       "   'Rebecca Ferguson',\n",
       "   'Javier Bardem']},\n",
       " {'title': 'Barbie',\n",
       "  'year': 2023,\n",
       "  'duration': 114,\n",
       "  'genres': ['Adventure', 'Comedy', 'Fantasy'],\n",
       "  'rating': 6.9,\n",
       "  'directors': ['Greta Gerwig'],\n",
       "  'cast': ['Margot Robbie', 'Ryan Gosling', 'Issa Rae', 'Kate McKinnon']},\n",
       " {'title': 'Oppenheimer',\n",
       "  'year': 2023,\n",
       "  'duration': 180,\n",
       "  'genres': ['Biography', 'Drama', 'History'],\n",
       "  'rating': 8.4,\n",
       "  'directors': ['Christopher Nolan'],\n",
       "  'cast': ['Cillian Murphy',\n",
       "   'Emily Blunt',\n",
       "   'Matt Damon',\n",
       "   'Robert Downey Jr.']}]"
      ]
     },
     "execution_count": 84,
     "metadata": {},
     "output_type": "execute_result"
    }
   ],
   "source": [
    "small_movies = get_movies(\"small_movies.csv\", \"small_mapping.csv\")\n",
    "\n",
    "small_movies\n"
   ]
  },
  {
   "cell_type": "code",
   "execution_count": 85,
   "id": "338e5c43-b1d7-4a6d-8f31-8ddff7aa59fc",
   "metadata": {
    "deletable": false,
    "editable": true,
    "slideshow": {
     "slide_type": ""
    },
    "tags": []
   },
   "outputs": [
    {
     "name": "stdout",
     "output_type": "stream",
     "text": [
      "Make sure you saved the notebook before running this cell. Running check for q8...\n",
      "Great job! You passed all test cases for this question.\n"
     ]
    }
   ],
   "source": [
    "student_grader_with_feedback.check(\"q8\")"
   ]
  },
  {
   "cell_type": "markdown",
   "id": "aaf21b6b-e4bb-490c-b8c4-93a63adbc60b",
   "metadata": {
    "deletable": false,
    "editable": false
   },
   "source": [
    "#### Project Question 9"
   ]
  },
  {
   "cell_type": "markdown",
   "id": "7cc73263-39ad-401a-8a3c-38de46a1ce78",
   "metadata": {
    "deletable": false,
    "editable": false,
    "slideshow": {
     "slide_type": ""
    },
    "tags": []
   },
   "source": [
    "What is `title` of the **second** movie in `small_movies`?\n",
    "\n",
    "Your output **must** be a **string**. You **must** use the variable `small_movies` defined above to answer this question. You **must not** call the function `get_movies` again on this dataset."
   ]
  },
  {
   "cell_type": "markdown",
   "id": "caebf996-315d-41fd-8a4a-fa2fcfafb06c",
   "metadata": {
    "deletable": false,
    "editable": false
   },
   "source": [
    "Points possible: 4.0"
   ]
  },
  {
   "cell_type": "code",
   "execution_count": 86,
   "id": "c3c2d0e7-5d41-4ecb-a82b-bc798dfe8abb",
   "metadata": {
    "deletable": false,
    "editable": true,
    "tags": [
     "q9-code"
    ]
   },
   "outputs": [
    {
     "data": {
      "text/plain": [
       "'Barbie'"
      ]
     },
     "execution_count": 86,
     "metadata": {},
     "output_type": "execute_result"
    }
   ],
   "source": [
    "second_movie_title_small_movies = small_movies[1]['title']\n",
    "\n",
    "second_movie_title_small_movies\n"
   ]
  },
  {
   "cell_type": "code",
   "execution_count": 87,
   "id": "6a188318-b290-4a02-bda9-0483093f9d61",
   "metadata": {
    "deletable": false,
    "editable": true,
    "slideshow": {
     "slide_type": ""
    },
    "tags": []
   },
   "outputs": [
    {
     "name": "stdout",
     "output_type": "stream",
     "text": [
      "Make sure you saved the notebook before running this cell. Running check for q9...\n",
      "Great job! You passed all test cases for this question.\n"
     ]
    }
   ],
   "source": [
    "student_grader_with_feedback.check(\"q9\")"
   ]
  },
  {
   "cell_type": "markdown",
   "id": "e0c1a95c-6cd5-4502-801a-a057e06af8db",
   "metadata": {
    "deletable": false,
    "editable": false
   },
   "source": [
    "#### Project Question 10"
   ]
  },
  {
   "cell_type": "markdown",
   "id": "d8ec7e6b-ab5e-4a77-9cf6-a5dc97e46e0d",
   "metadata": {
    "deletable": false,
    "editable": false
   },
   "source": [
    "Who are the `cast` members of the **second** movie in `small_movies`?\n",
    "\n",
    "Your output **must** be a **list** of **string(s)** stored in a new variable named `second_movie_cast_small_movies`. You **must** use the variable `small_movies` defined above to answer this question."
   ]
  },
  {
   "cell_type": "markdown",
   "id": "38ce8d44-2c44-42b7-b394-5614e07d7346",
   "metadata": {
    "deletable": false,
    "editable": false
   },
   "source": [
    "Points possible: 4.0"
   ]
  },
  {
   "cell_type": "code",
   "execution_count": 88,
   "id": "28f9d264-d474-4d83-b21f-74086f76d58e",
   "metadata": {
    "deletable": false,
    "editable": true,
    "tags": [
     "q10-code"
    ]
   },
   "outputs": [
    {
     "data": {
      "text/plain": [
       "['Margot Robbie', 'Ryan Gosling', 'Issa Rae', 'Kate McKinnon']"
      ]
     },
     "execution_count": 88,
     "metadata": {},
     "output_type": "execute_result"
    }
   ],
   "source": [
    "# Retrieve the cast of the second movie in small_movies\n",
    "second_movie_cast_small_movies = small_movies[1]['cast']\n",
    "\n",
    "second_movie_cast_small_movies\n"
   ]
  },
  {
   "cell_type": "code",
   "execution_count": 89,
   "id": "f7c1a3bf-fb3a-4657-bd34-e38a09b7185c",
   "metadata": {
    "deletable": false,
    "editable": true,
    "slideshow": {
     "slide_type": ""
    },
    "tags": []
   },
   "outputs": [
    {
     "name": "stdout",
     "output_type": "stream",
     "text": [
      "Make sure you saved the notebook before running this cell. Running check for q10...\n",
      "Great job! You passed all test cases for this question.\n"
     ]
    }
   ],
   "source": [
    "student_grader_with_feedback.check(\"q10\")"
   ]
  },
  {
   "cell_type": "markdown",
   "id": "0721fa0d-b866-4d18-a0f4-da9ccca24848",
   "metadata": {
    "deletable": false,
    "editable": false
   },
   "source": [
    "#### Project Question 11"
   ]
  },
  {
   "cell_type": "markdown",
   "id": "71bddca2-a723-4c1a-8b31-3db8b4eac143",
   "metadata": {
    "deletable": false,
    "editable": false
   },
   "source": [
    "Who are the `directors` of the **last** movie in `small_movies`?\n",
    "\n",
    "Your output **must** be a **list** of **string(s)** stored in a new variable named `last_movie_directors_small_movies`. You **must** use the variable `small_movies` defined above to answer this question."
   ]
  },
  {
   "cell_type": "markdown",
   "id": "4d093603-4255-44bb-910e-e2e486cc0cd9",
   "metadata": {
    "deletable": false,
    "editable": false
   },
   "source": [
    "Points possible: 4.0"
   ]
  },
  {
   "cell_type": "code",
   "execution_count": 90,
   "id": "70fd7f82-dee6-4bdc-89a9-ab795ac0903b",
   "metadata": {
    "deletable": false,
    "editable": true,
    "tags": [
     "q11-code"
    ]
   },
   "outputs": [
    {
     "data": {
      "text/plain": [
       "['Christopher Nolan']"
      ]
     },
     "execution_count": 90,
     "metadata": {},
     "output_type": "execute_result"
    }
   ],
   "source": [
    "# Retrieve the directors of the last movie in small_movies\n",
    "last_movie_directors_small_movies = small_movies[-1]['directors']\n",
    "\n",
    "last_movie_directors_small_movies\n"
   ]
  },
  {
   "cell_type": "code",
   "execution_count": 91,
   "id": "f8de088f-405c-4e99-bce4-c1e285f72ed4",
   "metadata": {
    "deletable": false,
    "editable": true,
    "slideshow": {
     "slide_type": ""
    },
    "tags": []
   },
   "outputs": [
    {
     "name": "stdout",
     "output_type": "stream",
     "text": [
      "Make sure you saved the notebook before running this cell. Running check for q11...\n",
      "Great job! You passed all test cases for this question.\n"
     ]
    }
   ],
   "source": [
    "student_grader_with_feedback.check(\"q11\")"
   ]
  },
  {
   "cell_type": "markdown",
   "id": "5effeea0-08b1-4ccb-ad1f-8cd189e22719",
   "metadata": {
    "deletable": false,
    "editable": false
   },
   "source": [
    "**Now that you’ve made it this far, your functions must be working pretty well with small datasets. Next, let's try a much bigger dataset!**\n",
    "\n",
    "Run the following code to open the full dataset:"
   ]
  },
  {
   "cell_type": "code",
   "execution_count": 92,
   "id": "aa138bbf-eeb0-457e-b005-24b9290fb6a0",
   "metadata": {
    "deletable": false,
    "editable": true
   },
   "outputs": [
    {
     "data": {
      "text/plain": [
       "75123"
      ]
     },
     "execution_count": 92,
     "metadata": {},
     "output_type": "execute_result"
    }
   ],
   "source": [
    "movies = get_movies(\"movies.csv\", \"mapping.csv\")\n",
    "len(movies)"
   ]
  },
  {
   "cell_type": "markdown",
   "id": "d730302d-e393-425e-9304-9b9037af3a3d",
   "metadata": {
    "deletable": false,
    "editable": false
   },
   "source": [
    "As the files are very large, this cell is expected to take around five seconds to run. If it takes much longer (say, around thirty seconds), then you will **need** to **optimize** your `get_movies` function so it runs faster.\n",
    "\n",
    "**Warning**: You are **not** allowed to call `get_movies` more than once on the full dataset (`movies.csv` and `mapping.csv`) in your notebook. Instead, reuse the `movies` variable, which is more efficient. The autograder will deduct **points** if you call `get_movies` again on these files.\n",
    "\n",
    "**Warning:** Do **not** display the value of the variable `movies` **anywhere** in your notebook. It will take up a **lot** of space, and your **code will not be displayed** for grading. Instead you should verify `movies` has the correct value by looking at a small *slice* of the **list** as in the question below. "
   ]
  },
  {
   "cell_type": "markdown",
   "id": "d035dde3-98cb-459f-ac24-c89b2bf2c473",
   "metadata": {
    "deletable": false,
    "editable": false,
    "slideshow": {
     "slide_type": ""
    },
    "tags": []
   },
   "source": [
    "#### Project Question 12"
   ]
  },
  {
   "cell_type": "markdown",
   "id": "8cdf578e-d85f-4f0a-90ea-3c874ba2fdc3",
   "metadata": {
    "deletable": false,
    "editable": false,
    "slideshow": {
     "slide_type": ""
    },
    "tags": []
   },
   "source": [
    "What are the movies in `movies[22202:22220]`?\n",
    "\n",
    "Your answer should be a *list* of *dictionaries* stored in a new variable named `movies_22202_22220` that follows the format below:\n",
    "\n",
    "```python\n",
    "[{'title': 'Wicked',\n",
    "  'year': 1998,\n",
    "  'duration': 88,\n",
    "  'genres': ['Thriller'],\n",
    "  'rating': 5.3,\n",
    "  'directors': ['Michael Steinberg'],\n",
    "  'cast': ['Louise Myrback', 'Julia Stiles', 'Chelsea Field', 'William R. Moses']},\n",
    " {'title': 'Return to the Hiding Place',\n",
    "  'year': 2013,\n",
    "  'duration': 102,\n",
    "  'genres': ['Drama', 'History', 'Thriller'],\n",
    "  'rating': 4.9,\n",
    "  'directors': ['Peter C. Spencer', 'Josiah Spencer'],\n",
    "  'cast': ['John Rhys-Davies', 'Mimi Sagadin', 'Craig Robert Young', 'David Thomas Jenkins']},\n",
    " {'title': \"Employees' Entrance\",\n",
    "  'year': 1933,\n",
    "  'duration': 75,\n",
    "  'genres': ['Drama', 'Romance'],\n",
    "  'rating': 7.2,\n",
    "  'directors': ['Roy Del Ruth'],\n",
    "  'cast': ['Hale Hamilton', 'Warren William', 'Loretta Young', 'Wallace Ford', 'Alice White']},\n",
    " ...]\n",
    "```"
   ]
  },
  {
   "cell_type": "markdown",
   "id": "5e5dd31a-9a7c-445c-9c61-1d2e1c07f5b4",
   "metadata": {
    "deletable": false,
    "editable": false,
    "slideshow": {
     "slide_type": ""
    },
    "tags": []
   },
   "source": [
    "Points possible: 4.0"
   ]
  },
  {
   "cell_type": "code",
   "execution_count": 93,
   "id": "f6d8b75f-337f-4e80-9e8e-6ccc5cefcccb",
   "metadata": {
    "deletable": false,
    "editable": true,
    "tags": [
     "q12-code"
    ]
   },
   "outputs": [
    {
     "data": {
      "text/plain": [
       "[{'title': 'Wicked',\n",
       "  'year': 1998,\n",
       "  'duration': 88,\n",
       "  'genres': ['Thriller'],\n",
       "  'rating': 5.3,\n",
       "  'directors': ['Michael Steinberg'],\n",
       "  'cast': ['Louise Myrback',\n",
       "   'Julia Stiles',\n",
       "   'Chelsea Field',\n",
       "   'William R. Moses']},\n",
       " {'title': 'Return to the Hiding Place',\n",
       "  'year': 2013,\n",
       "  'duration': 102,\n",
       "  'genres': ['Drama', 'History', 'Thriller'],\n",
       "  'rating': 4.9,\n",
       "  'directors': ['Peter C. Spencer', 'Josiah Spencer'],\n",
       "  'cast': ['John Rhys-Davies',\n",
       "   'Mimi Sagadin',\n",
       "   'Craig Robert Young',\n",
       "   'David Thomas Jenkins']},\n",
       " {'title': \"Employees' Entrance\",\n",
       "  'year': 1933,\n",
       "  'duration': 75,\n",
       "  'genres': ['Drama', 'Romance'],\n",
       "  'rating': 7.2,\n",
       "  'directors': ['Roy Del Ruth'],\n",
       "  'cast': ['Hale Hamilton',\n",
       "   'Warren William',\n",
       "   'Loretta Young',\n",
       "   'Wallace Ford',\n",
       "   'Alice White']},\n",
       " {'title': 'The Feelings Factory',\n",
       "  'year': 2008,\n",
       "  'duration': 104,\n",
       "  'genres': ['Drama'],\n",
       "  'rating': 6.1,\n",
       "  'directors': ['Jean-Marc Moutout'],\n",
       "  'cast': ['Elsa Zylberstein',\n",
       "   'Jacques Bonnaffé',\n",
       "   'Bruno Putzulu',\n",
       "   'Hiam Abbass']},\n",
       " {'title': 'Locusts',\n",
       "  'year': 2019,\n",
       "  'duration': 85,\n",
       "  'genres': ['Crime', 'Thriller'],\n",
       "  'rating': 5.0,\n",
       "  'directors': ['Heath Davis'],\n",
       "  'cast': ['Ben Geurens',\n",
       "   'Nathaniel Dean',\n",
       "   'Jessica McNamee',\n",
       "   'Justin Rosniak']},\n",
       " {'title': 'Divertimento',\n",
       "  'year': 1992,\n",
       "  'duration': 130,\n",
       "  'genres': ['Drama'],\n",
       "  'rating': 7.4,\n",
       "  'directors': ['Jacques Rivette'],\n",
       "  'cast': ['Michel Piccoli',\n",
       "   'Jane Birkin',\n",
       "   'Emmanuelle Béart',\n",
       "   'Marianne Denicourt']},\n",
       " {'title': 'Unexpected Uncle',\n",
       "  'year': 1941,\n",
       "  'duration': 67,\n",
       "  'genres': ['Comedy', 'Drama'],\n",
       "  'rating': 6.0,\n",
       "  'directors': ['Peter Godfrey'],\n",
       "  'cast': ['Anne Shirley', 'James Craig', 'Charles Coburn', 'Ernest Truex']},\n",
       " {'title': 'Aval Appadithaan',\n",
       "  'year': 1978,\n",
       "  'duration': 114,\n",
       "  'genres': ['Drama'],\n",
       "  'rating': 8.1,\n",
       "  'directors': ['C. Rudraiyaa'],\n",
       "  'cast': ['Sripriya', 'Kamal Haasan', 'Rajinikanth', 'Sivachandran']},\n",
       " {'title': 'Basket Case 3',\n",
       "  'year': 1991,\n",
       "  'duration': 90,\n",
       "  'genres': ['Comedy', 'Horror'],\n",
       "  'rating': 4.8,\n",
       "  'directors': ['Frank Henenlotter'],\n",
       "  'cast': ['Kevin VanHentenryck', 'Annie Ross', 'Gil Roper', 'Dan Biggers']},\n",
       " {'title': 'How to Blow Up a Pipeline',\n",
       "  'year': 2022,\n",
       "  'duration': 104,\n",
       "  'genres': ['Action', 'Crime', 'Drama'],\n",
       "  'rating': 6.9,\n",
       "  'directors': ['Daniel Goldhaber'],\n",
       "  'cast': ['Ariela Barer',\n",
       "   'Kristine Froseth',\n",
       "   'Lukas Gage',\n",
       "   'Forrest Goodluck']},\n",
       " {'title': 'Nowhere in Moravia',\n",
       "  'year': 2014,\n",
       "  'duration': 102,\n",
       "  'genres': ['Comedy', 'Drama'],\n",
       "  'rating': 5.7,\n",
       "  'directors': ['Miroslav Krobot'],\n",
       "  'cast': ['Tatiana Dyková',\n",
       "   'Lenka Krobotová',\n",
       "   'Johana Tesarová',\n",
       "   'Ivan Trojan']},\n",
       " {'title': 'Ride Beyond Vengeance',\n",
       "  'year': 1966,\n",
       "  'duration': 101,\n",
       "  'genres': ['Drama', 'Western'],\n",
       "  'rating': 6.2,\n",
       "  'directors': ['Bernard McEveety'],\n",
       "  'cast': ['Chuck Connors',\n",
       "   'Michael Rennie',\n",
       "   'Kathryn Hays',\n",
       "   'Joan Blondell']},\n",
       " {'title': 'The Hangman',\n",
       "  'year': 1959,\n",
       "  'duration': 87,\n",
       "  'genres': ['Drama', 'Western'],\n",
       "  'rating': 6.6,\n",
       "  'directors': ['Michael Curtiz'],\n",
       "  'cast': ['Robert Taylor', 'Tina Louise', 'Fess Parker', 'Jack Lord']},\n",
       " {'title': 'Tuulte tahutud maa',\n",
       "  'year': 2018,\n",
       "  'duration': 63,\n",
       "  'genres': ['Documentary'],\n",
       "  'rating': 7.4,\n",
       "  'directors': ['Joosep Matjus'],\n",
       "  'cast': ['Hannes Kaljujärv']},\n",
       " {'title': 'The Call of Cthulhu',\n",
       "  'year': 2005,\n",
       "  'duration': 47,\n",
       "  'genres': ['Horror', 'Mystery'],\n",
       "  'rating': 7.1,\n",
       "  'directors': ['Andrew Leman'],\n",
       "  'cast': ['Matt Foyer', 'John Bolen', 'Ralph Lucas', 'Chad Fifer']},\n",
       " {'title': 'The Icebreaker',\n",
       "  'year': 2016,\n",
       "  'duration': 124,\n",
       "  'genres': ['Action', 'Adventure', 'Drama'],\n",
       "  'rating': 6.1,\n",
       "  'directors': ['Nikolay Khomeriki'],\n",
       "  'cast': ['Pyotr Fyodorov',\n",
       "   'Sergey Puskepalis',\n",
       "   'Aleksandr Pal',\n",
       "   'Vitaliy Khaev']},\n",
       " {'title': 'Black and Blue',\n",
       "  'year': 2019,\n",
       "  'duration': 108,\n",
       "  'genres': ['Action', 'Thriller'],\n",
       "  'rating': 6.4,\n",
       "  'directors': ['Deon Taylor'],\n",
       "  'cast': ['Naomie Harris', 'Tyrese Gibson', 'Frank Grillo', 'Mike Colter']},\n",
       " {'title': 'One Way Passage',\n",
       "  'year': 1932,\n",
       "  'duration': 67,\n",
       "  'genres': ['Comedy', 'Drama', 'Romance'],\n",
       "  'rating': 7.5,\n",
       "  'directors': ['Tay Garnett'],\n",
       "  'cast': ['William Powell', 'Kay Francis', 'Frank McHugh', 'Aline MacMahon']}]"
      ]
     },
     "execution_count": 93,
     "metadata": {},
     "output_type": "execute_result"
    }
   ],
   "source": [
    "movies_22202_22220 = movies[22202:22220]\n",
    "\n",
    "movies_22202_22220\n"
   ]
  },
  {
   "cell_type": "code",
   "execution_count": 94,
   "id": "3226df24-579b-46d7-9e72-7af1e89d7852",
   "metadata": {
    "deletable": false,
    "editable": true,
    "slideshow": {
     "slide_type": ""
    },
    "tags": []
   },
   "outputs": [
    {
     "name": "stdout",
     "output_type": "stream",
     "text": [
      "Make sure you saved the notebook before running this cell. Running check for q12...\n",
      "Great job! You passed all test cases for this question.\n"
     ]
    }
   ],
   "source": [
    "student_grader_with_feedback.check(\"q12\")"
   ]
  },
  {
   "cell_type": "markdown",
   "id": "638065e6-4c04-4f9c-ab07-58dbcba94fe1",
   "metadata": {
    "deletable": false,
    "editable": false
   },
   "source": [
    "#### Project Question 13"
   ]
  },
  {
   "cell_type": "markdown",
   "id": "95f82500-ac31-48c4-b405-020b36a63bac",
   "metadata": {
    "deletable": false,
    "editable": false
   },
   "source": [
    "What is the **number** of movies released so far in the `year` *2024*?\n",
    "\n",
    "Your outuput must be an **int** stored in a new variable named `num_movies_2024`. You **must** use the variable `movies` defined above to answer this question."
   ]
  },
  {
   "cell_type": "markdown",
   "id": "e76b21a0-c577-4b21-8861-a5baff1dfa58",
   "metadata": {
    "deletable": false,
    "editable": false
   },
   "source": [
    "Points possible: 4.0"
   ]
  },
  {
   "cell_type": "code",
   "execution_count": 95,
   "id": "9477665e-bd78-4a73-9703-866eb0781ad2",
   "metadata": {
    "deletable": false,
    "editable": true,
    "tags": [
     "q13-code"
    ]
   },
   "outputs": [
    {
     "data": {
      "text/plain": [
       "174"
      ]
     },
     "execution_count": 95,
     "metadata": {},
     "output_type": "execute_result"
    }
   ],
   "source": [
    "num_movies_2024 = sum(1 for movie in movies if movie['year'] == 2024)\n",
    "\n",
    "num_movies_2024\n"
   ]
  },
  {
   "cell_type": "code",
   "execution_count": null,
   "id": "57d7db7a-03e0-450d-9ec7-ef2e8cbb248a",
   "metadata": {
    "deletable": false,
    "editable": true,
    "slideshow": {
     "slide_type": ""
    },
    "tags": []
   },
   "outputs": [],
   "source": [
    "student_grader_with_feedback.check(\"q13\")"
   ]
  },
  {
   "cell_type": "markdown",
   "id": "3769079e-47c4-4a0a-a219-7b9b9ee1d196",
   "metadata": {
    "deletable": false,
    "editable": false,
    "slideshow": {
     "slide_type": ""
    },
    "tags": []
   },
   "source": [
    "#### Function 4: `find_specific_movies(movies, keyword)`"
   ]
  },
  {
   "cell_type": "markdown",
   "id": "b3ba096b-ba82-4a32-a1b1-8a18885a1b26",
   "metadata": {
    "deletable": false,
    "editable": false
   },
   "source": [
    "Now that we have created this data structure `movies`, we can start doing some fun things with the data!\n",
    "We will continue working on this data structure for the next project (P9) as well.\n",
    "\n",
    "Let us now use this data structure `movies` to create a **search bar** like the one in Netflix!\n",
    "**Do not change the below function in any way**.\n",
    "This function takes in a keyword like a substring of a title, a genre, or the name of a person, and returns a list of relevant movies with that title, genre, or cast member/director.\n",
    "\n",
    "**Warning:** As `movies` is very large, the function `find_specific_movies` may take five to ten seconds to run. This is normal and you should not panic if it takes a while to run."
   ]
  },
  {
   "cell_type": "code",
   "execution_count": null,
   "id": "f2515ce5-63f4-4092-b62a-82e5eced33f1",
   "metadata": {
    "deletable": false,
    "editable": true
   },
   "outputs": [],
   "source": [
    "# DO NOT EDIT THIS CELL AND DO NOT REDEFINE THIS FUNCTION ELSEWHERE\n",
    "def find_specific_movies(movies, keyword):\n",
    "    \"\"\"\n",
    "    find_specific_movies(movies, keyword) takes a list of movie dictionaries \n",
    "    and a keyword; it returns a list of movies that contain the keyword\n",
    "    in either its title, genre, cast or directors.\n",
    "    \"\"\"\n",
    "    idx = 0\n",
    "    while idx < len(movies):\n",
    "        movie = movies[idx]\n",
    "        # note: \\ enables you split a long line of code into two lines\n",
    "        if (keyword not in movie['title']) and (keyword not in movie[\"genres\"]) \\\n",
    "        and (keyword not in movie[\"directors\"]) and (keyword not in movie[\"cast\"]):\n",
    "            movies.pop(idx)\n",
    "        else:\n",
    "            idx += 1\n",
    "    return movies"
   ]
  },
  {
   "cell_type": "markdown",
   "id": "eb263d8b-8a01-4c30-a47f-b687d835db2d",
   "metadata": {
    "deletable": false,
    "editable": false
   },
   "source": [
    "**Important:** While it might look as if we are making it easy for you by providing `find_specific_movies`, there is a catch! There is a subtle flaw with the way the function is defined, that will cause you issues in the next two questions. If you can spot this flaw by just observing the definition of `find_specific_movies`, congratulations! Since you are **not** allowed to modify the function definition, you will have to be a little clever with your function arguments to sidestep the flaw with the function definition.\n",
    "\n",
    "If you don't see anything wrong with the function just yet, don't worry about it. Solve Question 14 and Question 15 as you normally would, and see if you notice anything suspicious about your answers."
   ]
  },
  {
   "cell_type": "markdown",
   "id": "5d356fd8-0730-4862-af7d-3fae3a9edefa",
   "metadata": {
    "deletable": false,
    "editable": false,
    "slideshow": {
     "slide_type": ""
    },
    "tags": []
   },
   "source": [
    "#### Project Question 14"
   ]
  },
  {
   "cell_type": "markdown",
   "id": "b582c3ce-ba5c-4222-bc97-71fb752940c5",
   "metadata": {
    "deletable": false,
    "editable": false
   },
   "source": [
    "Find all movies related to Alfred Hitchcock. Your answer **must** be a **list** of **dictionaries**. You **must** answer this question by calling `find_specific_movies` with the keyword `\"Alfred Hitchcock\"`.\n",
    "\n",
    "The `find_specific_movies` function is expected to take around 5 seconds or more to run, so do not panic if it takes so long to run.\n",
    "\n",
    "Remember that you are **not** allowed to modify the definition of `find_specific_movies`. You will need to cleverly pass arguments to `find_specific_movies` (in both Question 14 and Question 15) to ensure that `movies` does not get modified by the function calls. Take a look at the lecture notebooks on **Copying** to better understand. If calling the function modifies your `movies` data when you answer Question 14 or 15 then you will have to restart and run all your cells to properly set the `movies` variable back to hold the right information."
   ]
  },
  {
   "cell_type": "markdown",
   "id": "ce14cfc9-14ff-4c8a-bcd5-a7aa58d3db6b",
   "metadata": {
    "deletable": false,
    "editable": false
   },
   "source": [
    "Points possible: 4.0"
   ]
  },
  {
   "cell_type": "code",
   "execution_count": 114,
   "id": "7c7d440d-9af5-4c91-8d1d-bdbc72989902",
   "metadata": {
    "deletable": false,
    "editable": true,
    "tags": [
     "q14-code"
    ]
   },
   "outputs": [
    {
     "data": {
      "text/plain": [
       "[]"
      ]
     },
     "execution_count": 114,
     "metadata": {},
     "output_type": "execute_result"
    }
   ],
   "source": [
    "import copy\n",
    "\n",
    "movies_copy = copy.deepcopy(movies)\n",
    "hitchcock_films = find_specific_movies(movies_copy, \"Alfred Hitchcock\")\n",
    "\n",
    "hitchcock_films\n"
   ]
  },
  {
   "cell_type": "code",
   "execution_count": 115,
   "id": "1678de80-85b2-42e0-8d46-dcb8ffb448f2",
   "metadata": {
    "deletable": false,
    "editable": true,
    "scrolled": true,
    "slideshow": {
     "slide_type": ""
    },
    "tags": []
   },
   "outputs": [
    {
     "name": "stdout",
     "output_type": "stream",
     "text": [
      "Make sure you saved the notebook before running this cell. Running check for q14...\n",
      "Great job! You passed all test cases for this question.\n"
     ]
    }
   ],
   "source": [
    "student_grader_with_feedback.check(\"q14\")"
   ]
  },
  {
   "cell_type": "markdown",
   "id": "2815eff7-a338-4c87-8574-ab2c867f7f9b",
   "metadata": {
    "deletable": false,
    "editable": false,
    "slideshow": {
     "slide_type": ""
    },
    "tags": []
   },
   "source": [
    "#### Project Question 15"
   ]
  },
  {
   "cell_type": "markdown",
   "id": "f0132a9f-4795-4a9d-8f18-289209d0ab05",
   "metadata": {
    "deletable": false,
    "editable": false,
    "slideshow": {
     "slide_type": ""
    },
    "tags": []
   },
   "source": [
    "List all the movies that contain the string `\"Once Upon a Time in\"`.\n",
    "\n",
    "Your answer **must** be a **list** of **dictionaries**.\n",
    "\n",
    "You **must** answer this question by calling `find_specific_movies` with the keyword `\"Once Upon a Time in\"`.\n",
    "\n",
    "**Important Hint:**  If you did not notice the flaw with the definition of `find_specific_movies` before, you are likely to have run into an issue with this question. It is likely that you will see that your output for this question is an empty list. To see why this happened, find the value of `len(movies)` and see if it is equal to the value you found earlier."
   ]
  },
  {
   "cell_type": "markdown",
   "id": "f2b63fa8-7a81-4f0f-80b7-4adbad770395",
   "metadata": {
    "deletable": false,
    "editable": false,
    "slideshow": {
     "slide_type": ""
    },
    "tags": []
   },
   "source": [
    "Points possible: 4.0"
   ]
  },
  {
   "cell_type": "code",
   "execution_count": 116,
   "id": "11863b2f-7ed1-465d-934d-9b2a0efe5fb2",
   "metadata": {
    "deletable": false,
    "editable": true,
    "tags": [
     "q15-code"
    ]
   },
   "outputs": [
    {
     "data": {
      "text/plain": [
       "[]"
      ]
     },
     "execution_count": 116,
     "metadata": {},
     "output_type": "execute_result"
    }
   ],
   "source": [
    "import copy\n",
    "\n",
    "movies_copy = copy.deepcopy(movies)\n",
    "once_upon_a_time_in_movies = find_specific_movies(movies_copy, \"Once Upon a Time in\")\n",
    "\n",
    "once_upon_a_time_in_movies\n"
   ]
  },
  {
   "cell_type": "code",
   "execution_count": 117,
   "id": "9e2273b5-7511-4fd9-b82d-32632a8625c5",
   "metadata": {
    "deletable": false,
    "editable": true,
    "slideshow": {
     "slide_type": ""
    },
    "tags": []
   },
   "outputs": [
    {
     "name": "stdout",
     "output_type": "stream",
     "text": [
      "Make sure you saved the notebook before running this cell. Running check for q15...\n",
      "Great job! You passed all test cases for this question.\n"
     ]
    }
   ],
   "source": [
    "student_grader_with_feedback.check(\"q15\")"
   ]
  },
  {
   "cell_type": "markdown",
   "id": "cc8c28b3-9a16-424c-88eb-cb7ae2160d23",
   "metadata": {
    "deletable": false,
    "editable": false,
    "slideshow": {
     "slide_type": ""
    },
    "tags": []
   },
   "source": [
    "#### Function 5: `bucketize_by_genre(movies)`"
   ]
  },
  {
   "cell_type": "markdown",
   "id": "be74cf40-c83d-471d-8260-4935ecbdbd43",
   "metadata": {
    "deletable": false,
    "editable": false,
    "slideshow": {
     "slide_type": ""
    },
    "tags": []
   },
   "source": [
    "We require you to complete the below function to answer the next several questions (this is a **requirement**, and you will **lose points** if you do not implement this function)."
   ]
  },
  {
   "cell_type": "markdown",
   "id": "7fdb0205-1359-4349-b785-d254f118fb49",
   "metadata": {
    "deletable": false,
    "editable": false,
    "slideshow": {
     "slide_type": ""
    },
    "tags": []
   },
   "source": [
    "Points possible: 5.0"
   ]
  },
  {
   "cell_type": "code",
   "execution_count": 118,
   "id": "5ac497ab-9b84-4941-a289-de3db63f391d",
   "metadata": {
    "deletable": false,
    "editable": true,
    "tags": [
     "bucketize_by_genre-code"
    ]
   },
   "outputs": [],
   "source": [
    "def bucketize_by_genre(movies):\n",
    "    genre_buckets = {}\n",
    "    for movie in movies:\n",
    "        for genre in movie['genres']:\n",
    "            if genre not in genre_buckets:\n",
    "                genre_buckets[genre] = []\n",
    "            genre_buckets[genre].append(movie)\n",
    "    return genre_buckets\n"
   ]
  },
  {
   "cell_type": "code",
   "execution_count": 119,
   "id": "9593f581-0f45-4c41-8963-f5d1ed8d4a44",
   "metadata": {
    "deletable": false,
    "editable": true,
    "slideshow": {
     "slide_type": ""
    },
    "tags": []
   },
   "outputs": [
    {
     "name": "stdout",
     "output_type": "stream",
     "text": [
      "Make sure you saved the notebook before running this cell. Running check for bucketize_by_genre...\n",
      "Great job! You passed all test cases for this question.\n"
     ]
    }
   ],
   "source": [
    "student_grader_with_feedback.check(\"bucketize_by_genre\")"
   ]
  },
  {
   "cell_type": "markdown",
   "id": "f6aba019-9e38-43b6-8d02-9201671b95b9",
   "metadata": {
    "deletable": false,
    "editable": false
   },
   "source": [
    "**Warning:** You are **not** allowed to call `bucketize_by_genre` more than once on the full list of movies (`movies`) in your notebook. The autograder will **deduct points** if you call `bucketize_by_genre` again on `movies`."
   ]
  },
  {
   "cell_type": "code",
   "execution_count": 120,
   "id": "b5518832-4ced-4d33-87dd-09a03ed68b54",
   "metadata": {
    "deletable": false,
    "editable": true
   },
   "outputs": [],
   "source": [
    "# call the function bucketize_by_genre on 'movies' and store it in the variable 'genre_dict'\n",
    "# do NOT display the output directly\n",
    "\n",
    "genre_dict = genre_dict = bucketize_by_genre(movies)\n"
   ]
  },
  {
   "cell_type": "markdown",
   "id": "3ca87135-a48e-4518-976b-b6acf6f1b256",
   "metadata": {
    "deletable": false,
    "editable": false,
    "slideshow": {
     "slide_type": ""
    },
    "tags": []
   },
   "source": [
    "#### Project Question 16"
   ]
  },
  {
   "cell_type": "markdown",
   "id": "6b146434-c675-4a99-8df9-d37c0928f7cc",
   "metadata": {
    "deletable": false,
    "editable": false,
    "slideshow": {
     "slide_type": ""
    },
    "tags": []
   },
   "source": [
    "How many **unique** movie `genres` are present in the dataset?"
   ]
  },
  {
   "cell_type": "markdown",
   "id": "7baa9482-fb2e-4502-9f70-3f5c61e70d93",
   "metadata": {
    "deletable": false,
    "editable": false,
    "slideshow": {
     "slide_type": ""
    },
    "tags": []
   },
   "source": [
    "Points possible: 4.0"
   ]
  },
  {
   "cell_type": "code",
   "execution_count": 121,
   "id": "7bfc31fb-3c00-445c-81b2-86e7d8d550ab",
   "metadata": {
    "deletable": false,
    "editable": true,
    "tags": [
     "q16-code"
    ]
   },
   "outputs": [
    {
     "data": {
      "text/plain": [
       "7"
      ]
     },
     "execution_count": 121,
     "metadata": {},
     "output_type": "execute_result"
    }
   ],
   "source": [
    "num_genres = len(genre_dict)\n",
    "\n",
    "num_genres\n"
   ]
  },
  {
   "cell_type": "code",
   "execution_count": 122,
   "id": "414a5076-dbd8-4917-b4a0-0572af88bb2d",
   "metadata": {
    "deletable": false,
    "editable": true,
    "slideshow": {
     "slide_type": ""
    },
    "tags": []
   },
   "outputs": [
    {
     "name": "stdout",
     "output_type": "stream",
     "text": [
      "Make sure you saved the notebook before running this cell. Running check for q16...\n",
      "Great job! You passed all test cases for this question.\n"
     ]
    }
   ],
   "source": [
    "student_grader_with_feedback.check(\"q16\")"
   ]
  },
  {
   "cell_type": "markdown",
   "id": "714fe04a-41c5-4bed-9f42-12a7b8a9c951",
   "metadata": {
    "deletable": false,
    "editable": false,
    "slideshow": {
     "slide_type": ""
    },
    "tags": []
   },
   "source": [
    "#### Project Question 17"
   ]
  },
  {
   "cell_type": "markdown",
   "id": "24ab5304-6da5-498e-9d10-4d06ce19e389",
   "metadata": {
    "deletable": false,
    "editable": false,
    "slideshow": {
     "slide_type": ""
    },
    "tags": []
   },
   "source": [
    "How many *Romance* movies (i.e. movies with *Romance* as one of their `genres`) do we have in the dataset released **after** the `year` *2019*?\n",
    "\n",
    "Your output **must** be an **int** stored in a new variable named `romance_after_2019`. You **must** use the `genre_dict` data structure to answer this question."
   ]
  },
  {
   "cell_type": "markdown",
   "id": "2815548c-6d5b-4354-a586-5185224740af",
   "metadata": {
    "deletable": false,
    "editable": false,
    "slideshow": {
     "slide_type": ""
    },
    "tags": []
   },
   "source": [
    "Points possible: 4.0"
   ]
  },
  {
   "cell_type": "code",
   "execution_count": 124,
   "id": "339aacd2-c57e-4f52-831a-bb9964024683",
   "metadata": {
    "deletable": false,
    "editable": true,
    "slideshow": {
     "slide_type": ""
    },
    "tags": [
     "q17-code"
    ]
   },
   "outputs": [
    {
     "data": {
      "text/plain": [
       "0"
      ]
     },
     "execution_count": 124,
     "metadata": {},
     "output_type": "execute_result"
    }
   ],
   "source": [
    "romance_genre = [key for key in genre_dict.keys() if 'romance' in key.lower()]\n",
    "if romance_genre:\n",
    "    romance_after_2019 = sum(1 for movie in genre_dict[romance_genre[0]] if movie['year'] > 2019)\n",
    "else:\n",
    "    romance_after_2019 = 0\n",
    "\n",
    "romance_after_2019\n"
   ]
  },
  {
   "cell_type": "code",
   "execution_count": 125,
   "id": "dd6a84cd-2b40-464f-8085-186a9e917ca9",
   "metadata": {
    "deletable": false,
    "editable": true,
    "slideshow": {
     "slide_type": ""
    },
    "tags": []
   },
   "outputs": [
    {
     "name": "stdout",
     "output_type": "stream",
     "text": [
      "Make sure you saved the notebook before running this cell. Running check for q17...\n",
      "Great job! You passed all test cases for this question.\n"
     ]
    }
   ],
   "source": [
    "student_grader_with_feedback.check(\"q17\")"
   ]
  },
  {
   "cell_type": "markdown",
   "id": "97a636b6-e0f9-4d8e-8ca6-535e0eb71a89",
   "metadata": {
    "deletable": false,
    "editable": false,
    "slideshow": {
     "slide_type": ""
    },
    "tags": []
   },
   "source": [
    "#### Project Question 18"
   ]
  },
  {
   "cell_type": "markdown",
   "id": "729d3438-d791-48f1-883c-a94d7b19b614",
   "metadata": {
    "deletable": false,
    "editable": false,
    "slideshow": {
     "slide_type": ""
    },
    "tags": []
   },
   "source": [
    "List the `title` of all *Documentary* movies (i.e. movies with *Documentary* as one of their `genres`) with `duration` **larger** than *240* in the dataset.\n",
    "\n",
    "Your output **must** be a **list** of **strings** stored in a new variable named `docs_longer_than_240_mins`. You **must** use the `genre_dict` data structure to answer this question."
   ]
  },
  {
   "cell_type": "markdown",
   "id": "b0c6a5ff-884a-4ed4-9115-a176b303dac0",
   "metadata": {
    "deletable": false,
    "editable": false,
    "slideshow": {
     "slide_type": ""
    },
    "tags": []
   },
   "source": [
    "Points possible: 4.0"
   ]
  },
  {
   "cell_type": "code",
   "execution_count": 126,
   "id": "a85bcef7-d1a4-4b40-ba0c-5fe8beaec171",
   "metadata": {
    "deletable": false,
    "editable": true,
    "tags": [
     "q18-code"
    ]
   },
   "outputs": [
    {
     "data": {
      "text/plain": [
       "[]"
      ]
     },
     "execution_count": 126,
     "metadata": {},
     "output_type": "execute_result"
    }
   ],
   "source": [
    "docs_longer_than_240_mins = [\n",
    "    movie['title'] for movie in genre_dict.get('Documentary', []) if movie['duration'] > 240\n",
    "]\n",
    "\n",
    "docs_longer_than_240_mins\n"
   ]
  },
  {
   "cell_type": "code",
   "execution_count": 127,
   "id": "93bac09c-340d-499f-b177-f92fe4eb0cfc",
   "metadata": {
    "deletable": false,
    "editable": true,
    "slideshow": {
     "slide_type": ""
    },
    "tags": []
   },
   "outputs": [
    {
     "name": "stdout",
     "output_type": "stream",
     "text": [
      "Make sure you saved the notebook before running this cell. Running check for q18...\n",
      "Great job! You passed all test cases for this question.\n"
     ]
    }
   ],
   "source": [
    "student_grader_with_feedback.check(\"q18\")"
   ]
  },
  {
   "cell_type": "markdown",
   "id": "47dea7f5-7a37-420d-9d50-7b6775bc543b",
   "metadata": {
    "deletable": false,
    "editable": false,
    "slideshow": {
     "slide_type": ""
    },
    "tags": []
   },
   "source": [
    "#### Project Question 19"
   ]
  },
  {
   "cell_type": "markdown",
   "id": "815eb257-89dc-49f5-9022-537a3913bcea",
   "metadata": {
    "deletable": false,
    "editable": false,
    "slideshow": {
     "slide_type": ""
    },
    "tags": []
   },
   "source": [
    "Which movie `genre` is *Blake Lively* the most involved with?\n",
    "\n",
    "We say that *Blake Lively* is involved with a movie if she is **either** a *director* **or** a *cast member* of that movie. You need to find the movie `genre` with the **highest** number of movies that *Blake Lively* is involved with. There is a **unique** `genre` that *Blake Lively* is most involved with. You do **not** have to worry about breaking ties. You may **assume** that there are **no** movies in the dataset with the string `\"Blake Lively\"` in their `title`.\n",
    "\n",
    "Your output **must** be a **list** of **strings** stored in a new variable named `blake_lively_genre`.\n",
    "\n",
    "**Hint:** You can combine the *two* functions above (`find_specific_movies` and `bucketize_by_genre`) to bucketize **only** the movies that *Blake Lively* was involved with by their `genres`. Then, you can loop through each genre to find the one with the most number of movies in it."
   ]
  },
  {
   "cell_type": "markdown",
   "id": "e2a2e060-bb5f-4163-b6de-73f375323980",
   "metadata": {
    "deletable": false,
    "editable": false,
    "slideshow": {
     "slide_type": ""
    },
    "tags": []
   },
   "source": [
    "Points possible: 4.0"
   ]
  },
  {
   "cell_type": "code",
   "execution_count": 130,
   "id": "717fcf80-bb4e-4c0f-b570-bf6d6fa0b052",
   "metadata": {
    "deletable": false,
    "editable": true,
    "slideshow": {
     "slide_type": ""
    },
    "tags": [
     "q19-code"
    ]
   },
   "outputs": [],
   "source": [
    "import copy\n",
    "\n",
    "movies_copy = copy.deepcopy(movies)\n",
    "blake_lively_movies = find_specific_movies(movies_copy, \"Blake Lively\")\n",
    "\n",
    "if blake_lively_movies:\n",
    "    blake_lively_genre_buckets = bucketize_by_genre(blake_lively_movies)\n",
    "    blake_lively_genre = max(blake_lively_genre_buckets, key=lambda genre: len(blake_lively_genre_buckets[genre]))\n",
    "else:\n",
    "    blake_lively_genre = None  # or an empty list if preferred\n",
    "\n",
    "blake_lively_genre\n"
   ]
  },
  {
   "cell_type": "code",
   "execution_count": 131,
   "id": "8654d051-a62c-4752-aae9-c9f00b55dfba",
   "metadata": {
    "deletable": false,
    "editable": true,
    "slideshow": {
     "slide_type": ""
    },
    "tags": []
   },
   "outputs": [
    {
     "name": "stdout",
     "output_type": "stream",
     "text": [
      "Make sure you saved the notebook before running this cell. Running check for q19...\n",
      "Great job! You passed all test cases for this question.\n"
     ]
    }
   ],
   "source": [
    "student_grader_with_feedback.check(\"q19\")"
   ]
  },
  {
   "cell_type": "markdown",
   "id": "e43f8b51-c301-4666-96db-c1ad17431b47",
   "metadata": {
    "deletable": false,
    "editable": false,
    "slideshow": {
     "slide_type": ""
    },
    "tags": []
   },
   "source": [
    "#### Project Question 20"
   ]
  },
  {
   "cell_type": "markdown",
   "id": "b727eb63-d982-4c56-8be5-0d405e201a41",
   "metadata": {
    "deletable": false,
    "editable": false,
    "slideshow": {
     "slide_type": ""
    },
    "tags": []
   },
   "source": [
    "Who are the `directors` of the *Horror* movies with the **highest** `rating` in the movies dataset?\n",
    "\n",
    "You **must** output a **list** of **strings** containing the **names** of **all** the `directors` of **all** these movies. The output must be stored in a new variable named `max_horror_rating_directors`. Your code should work if there are multiple horror movies with the highest rating.\n",
    "\n",
    "**Hint:** If you are unsure how to efficiently add the elements of one list to another, please review the lecture notes about lists."
   ]
  },
  {
   "cell_type": "markdown",
   "id": "8b5d4621-8f2d-4c8b-a47e-88c7f44047a4",
   "metadata": {
    "deletable": false,
    "editable": false,
    "slideshow": {
     "slide_type": ""
    },
    "tags": []
   },
   "source": [
    "Points possible: 4.0"
   ]
  },
  {
   "cell_type": "code",
   "execution_count": 133,
   "id": "efb1e046-c5cc-4ac2-bc89-5cedd7377267",
   "metadata": {
    "deletable": false,
    "editable": true,
    "tags": [
     "q20-code"
    ]
   },
   "outputs": [
    {
     "data": {
      "text/plain": [
       "[]"
      ]
     },
     "execution_count": 133,
     "metadata": {},
     "output_type": "execute_result"
    }
   ],
   "source": [
    "horror_movies = genre_dict.get('Horror', [])\n",
    "\n",
    "if horror_movies:\n",
    "    max_rating = max(movie['rating'] for movie in horror_movies)\n",
    "    max_horror_rating_directors = []\n",
    "    for movie in horror_movies:\n",
    "        if movie['rating'] == max_rating:\n",
    "            max_horror_rating_directors.extend(movie['directors'])\n",
    "else:\n",
    "    max_horror_rating_directors = []\n",
    "\n",
    "max_horror_rating_directors\n"
   ]
  },
  {
   "cell_type": "code",
   "execution_count": 134,
   "id": "98cb1e9c-de10-4b7b-b482-aa5f2bca995b",
   "metadata": {
    "deletable": false,
    "editable": true,
    "slideshow": {
     "slide_type": ""
    },
    "tags": []
   },
   "outputs": [
    {
     "name": "stdout",
     "output_type": "stream",
     "text": [
      "Make sure you saved the notebook before running this cell. Running check for q20...\n",
      "Great job! You passed all test cases for this question.\n"
     ]
    }
   ],
   "source": [
    "student_grader_with_feedback.check(\"q20\")"
   ]
  },
  {
   "cell_type": "markdown",
   "id": "55c44e39-a75b-4ae8-b62b-51b2f0c2547f",
   "metadata": {
    "deletable": false,
    "editable": false,
    "slideshow": {
     "slide_type": ""
    },
    "tags": []
   },
   "source": [
    "### Submission\n",
    "\n",
    "Make sure you have run all cells in your notebook in order before submitting on Gradescope. Your notebook should not contain any uncaught Exceptions, otherwise the Gradescope autograder will not give you any points."
   ]
  },
  {
   "cell_type": "code",
   "execution_count": null,
   "id": "b32ef4d9-532a-4e59-8085-da1bff8072ee",
   "metadata": {},
   "outputs": [],
   "source": []
  },
  {
   "cell_type": "code",
   "execution_count": null,
   "id": "e5a3957e-6ab7-4c22-aea0-b7e0b504529b",
   "metadata": {},
   "outputs": [],
   "source": []
  }
 ],
 "metadata": {
  "kernelspec": {
   "display_name": "Python 3 (ipykernel)",
   "language": "python",
   "name": "python3"
  },
  "language_info": {
   "codemirror_mode": {
    "name": "ipython",
    "version": 3
   },
   "file_extension": ".py",
   "mimetype": "text/x-python",
   "name": "python",
   "nbconvert_exporter": "python",
   "pygments_lexer": "ipython3",
   "version": "3.10.12"
  },
  "semester": "f24"
 },
 "nbformat": 4,
 "nbformat_minor": 5
}
