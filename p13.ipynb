{
 "cells": [
  {
   "cell_type": "markdown",
   "id": "93bb94cd-90eb-4d8a-91a8-dcfe3d397e2a",
   "metadata": {
    "deletable": false,
    "editable": false
   },
   "source": [
    "# Assignment 13: Analyzing World Data with SQL"
   ]
  },
  {
   "cell_type": "markdown",
   "id": "9c772a6b-62c1-4404-ab09-6a91b6d01c2e",
   "metadata": {
    "deletable": false,
    "editable": false
   },
   "source": [
    "## Your Information"
   ]
  },
  {
   "cell_type": "markdown",
   "id": "39d4abc8-d097-4acd-bd33-4df5a585829d",
   "metadata": {
    "deletable": false,
    "editable": false
   },
   "source": [
    "At the start of each assignment, you will need to provide us your name and the name of the partner you worked with for this assignment (if you had one). Double click on the cell below or click once and hit enter to edit it. Replace \"First Last\" with your first name and last name. Replace \"None\" with the first and last name of your partner if you had one for this assignment. We ask for this information so we don't accuse you of cheating when your code looks like your partner's.\n",
    "\n",
    "Please keep these lines commented so they don't cause an error."
   ]
  },
  {
   "cell_type": "code",
   "execution_count": 1,
   "id": "17f636dc-32d1-4f40-89b3-121654831ad5",
   "metadata": {
    "deletable": false
   },
   "outputs": [],
   "source": [
    "# MY NAME: Hyokyung Kim\n",
    "\n",
    "# My PARTNER'S NAME: None"
   ]
  },
  {
   "cell_type": "markdown",
   "id": "4eed84d4-21fa-4550-8693-4ff1cffa4b33",
   "metadata": {
    "deletable": false,
    "editable": false
   },
   "source": [
    "## Imports"
   ]
  },
  {
   "cell_type": "markdown",
   "id": "fdde514f-affa-4e52-8aba-b014c8a8cc86",
   "metadata": {
    "deletable": false,
    "editable": false
   },
   "source": [
    "Every project will begin with some import statements. It's crucial that you run the cell below, otherwise we will not be able to grade your code and provide feedback to you."
   ]
  },
  {
   "cell_type": "code",
   "execution_count": 6,
   "id": "534e7c26-34de-45af-b34c-c7637be964cc",
   "metadata": {
    "deletable": false
   },
   "outputs": [],
   "source": [
    "# it is considered a good coding practice to place all import statements at the top of the notebook\n",
    "# we have imported these modules for you\n",
    "\n",
    "import os\n",
    "import requests\n",
    "import copy\n",
    "import sqlite3\n",
    "import pandas as pd\n",
    "import matplotlib\n",
    "\n",
    "import matplotlib.pyplot as plt\n",
    "\n",
    "try:\n",
    "    get_ipython().run_line_magic('matplotlib', 'inline') # running from notebook, show plots\n",
    "except NameError:\n",
    "    pass # Not running from notebook, no need to plot\n",
    "    \n",
    "import math\n",
    "import numpy as np # this is *only* for the function get_regression_coeff - do NOT use this module elsewhere\n",
    "\n",
    "import student_grader\n",
    "student_grader.initialize(os.getcwd(), \"p13\")"
   ]
  },
  {
   "cell_type": "markdown",
   "id": "6389e127-eb66-48d7-ba4c-f6cd9b909e21",
   "metadata": {
    "deletable": false,
    "editable": false
   },
   "source": [
    "## Learning Objectives"
   ]
  },
  {
   "cell_type": "markdown",
   "id": "284a5baa-fbee-416a-a5d2-ed7afb4523ae",
   "metadata": {
    "deletable": false,
    "editable": false
   },
   "source": [
    "After completing this assignment, you will be able to...\n",
    "* query a database using SQL\n",
    "* process data using `pandas` **DataFrames**\n",
    "* create different types of plots."
   ]
  },
  {
   "cell_type": "markdown",
   "id": "a8ce985a-d151-4b66-bfac-704d426b2854",
   "metadata": {
    "deletable": false,
    "editable": false
   },
   "source": [
    "<h2 style=\"color:red\">Warning (Note on Academic Misconduct):</h2>"
   ]
  },
  {
   "cell_type": "markdown",
   "id": "ac7ec2b2-33f7-4396-a23d-985b266e6197",
   "metadata": {
    "deletable": false,
    "editable": false
   },
   "source": [
    "**IMPORTANT**: **P12 and P13 are two parts of the same data analysis.** You **cannot** switch project partners between these two projects. That is if you partner up with someone for P12, you have to sustain that partnership until the end of P13. Now may be a good time to review [our course policies](https://cs220.cs.wisc.edu/f24/syllabus.html).\n",
    "\n",
    "Under any circumstances, **no more than two students are allowed to work together on a project** as mentioned in the course policies. If your code is flagged by our code similarity detection tools, **both partners will be responsible** for sharing/copying the code, even if the code is shared/copied by one of the partners with/from other non-partner student(s). Note that each case of plagiarism will be reported to the Dean of Students with a zero grade on the project. **If you think that someone cannot be your project partner then don’t make that student your lab partner.**"
   ]
  },
  {
   "cell_type": "markdown",
   "id": "cfb1f13c-29b5-45bf-9648-c6cb1882780b",
   "metadata": {
    "deletable": false,
    "editable": false
   },
   "source": [
    "## Project Description:"
   ]
  },
  {
   "cell_type": "markdown",
   "id": "5601126d-79bf-4597-8819-0b78ef84247b",
   "metadata": {
    "deletable": false,
    "editable": false
   },
   "source": [
    "For your final CS220 project, you're going to continue analyzing world university rankings. However, we will be using a different dataset this time. The data for this project has been extracted from [here](https://www.topuniversities.com/university-rankings/world-university-rankings). Unlike the CWUR rankings we used in P12, the QS rankings dataset has various scores for the universities, and not just the rankings. This makes the QS rankings dataset more suitable for plotting (which you will be doing a lot of!).\n",
    "\n",
    "In this project, you'll have to dump your DataFrame to a SQLite database. You'll answer questions by doing queries on that database. Often, your answers will be in the form of a plot. Check these carefully, as the tests only verify that a plot has been created, not that it looks correct (the Gradescope autograder will manually deduct points for plotting mistakes)."
   ]
  },
  {
   "cell_type": "markdown",
   "id": "d96afd52-8ee9-4acd-a32e-c6cfcac96d7b",
   "metadata": {
    "deletable": false,
    "editable": false
   },
   "source": [
    "## Lab Portion (12 questions, 7 functions)"
   ]
  },
  {
   "cell_type": "markdown",
   "id": "daed65a3",
   "metadata": {
    "deletable": false,
    "editable": false
   },
   "source": [
    "### Section 1: Setup"
   ]
  },
  {
   "cell_type": "markdown",
   "id": "7f6ccdfd-65fe-4619-a5ab-82922f669840",
   "metadata": {
    "deletable": false,
    "editable": false
   },
   "source": [
    "In P12, you defined a `download` function to download data from the internet and save it to a file. We will be using the same function for this lab and project. We have provided this for you."
   ]
  },
  {
   "cell_type": "code",
   "execution_count": 8,
   "id": "0669b0dd-7297-4372-8690-2305a28b72d1",
   "metadata": {
    "deletable": false
   },
   "outputs": [],
   "source": [
    "# the definition of the 'download' function from P12\n",
    "\n",
    "def download(url, filename):\n",
    "    if os.path.exists(filename):\n",
    "        return (str(filename) + \" already exists!\")\n",
    "    else:\n",
    "        try:\n",
    "            r = requests.get(url)\n",
    "            r.raise_for_status()\n",
    "            data = r.text\n",
    "            f = open(filename,\"w\", encoding=\"utf-8\")\n",
    "            f.write(data)\n",
    "            f.close()\n",
    "            return (str(filename) + \" created!\")\n",
    "        except requests.HTTPError:\n",
    "            return \"Download failed!\""
   ]
  },
  {
   "cell_type": "markdown",
   "id": "1ffa7220-d339-48e6-8351-e7f8a846527e",
   "metadata": {
    "deletable": false,
    "editable": false
   },
   "source": [
    "#### **Lab Question 1**: Use the `download` function to download `rankings.json`"
   ]
  },
  {
   "cell_type": "markdown",
   "id": "75adca21",
   "metadata": {
    "deletable": false,
    "editable": false
   },
   "source": [
    "**Warning:** For the lab and the project, do **not** download the dataset `rankings.json` manually (you **must** use the `download` function, as in P12)."
   ]
  },
  {
   "cell_type": "markdown",
   "id": "be8d6767-fc87-49c5-9040-a9e55a6acce9",
   "metadata": {
    "deletable": false,
    "editable": false
   },
   "source": [
    "Points possible: 8.0"
   ]
  },
  {
   "cell_type": "code",
   "execution_count": 10,
   "id": "fe96e53b",
   "metadata": {
    "deletable": false,
    "editable": true,
    "tags": [
     "lab-q1-code"
    ]
   },
   "outputs": [
    {
     "name": "stdout",
     "output_type": "stream",
     "text": [
      "rankings.json created!\n"
     ]
    }
   ],
   "source": [
    "# use the 'download' function to download the data from the webpage\n",
    "# 'https://cs220.cs.wisc.edu/projects/data/rankings2.json'\n",
    "# to the file 'rankings.json'\n",
    "download_url = 'https://cs220.cs.wisc.edu/projects/data/rankings2.json'\n",
    "download_result = download(download_url, 'rankings.json')\n",
    "print(download_result)"
   ]
  },
  {
   "cell_type": "code",
   "execution_count": 11,
   "id": "1543b044-e421-4a55-8ef9-ebf20934a4de",
   "metadata": {
    "deletable": false,
    "editable": true
   },
   "outputs": [
    {
     "name": "stdout",
     "output_type": "stream",
     "text": [
      "Make sure you saved the notebook before running this cell. Running check for lab-q1...\n",
      "Great job! You passed all test cases for this question.\n"
     ]
    },
    {
     "data": {
      "text/plain": [
       "True"
      ]
     },
     "execution_count": 11,
     "metadata": {},
     "output_type": "execute_result"
    }
   ],
   "source": [
    "student_grader.check(\"lab-q1\", should_get_llm_feedback=False)"
   ]
  },
  {
   "cell_type": "markdown",
   "id": "ae5be7c3-814b-4765-a520-9a9a4dbf1248",
   "metadata": {
    "deletable": false,
    "editable": false
   },
   "source": [
    "#### **Lab Question 2**: Create a database called `'rankings.db'` out of 'rankings.json'"
   ]
  },
  {
   "cell_type": "markdown",
   "id": "0023581a",
   "metadata": {
    "deletable": false,
    "editable": false
   },
   "source": [
    "You can review the relevant lecture code here: [Mike](https://canvas.wisc.edu/courses/427075/files/folder/Mikes_Lecture_Notes/lec32_database_1), [Louis](https://git.doit.wisc.edu/cdis/cs/courses/cs220/cs220-lecture-material/-/tree/main/f24/Louis_Lecture_Notes/32_Database1)."
   ]
  },
  {
   "cell_type": "markdown",
   "id": "f175ca6e-eb58-4a66-946b-72a07f4d9d64",
   "metadata": {
    "deletable": false,
    "editable": false
   },
   "source": [
    "Points possible: 8.0"
   ]
  },
  {
   "cell_type": "code",
   "execution_count": 19,
   "id": "270d8da5",
   "metadata": {
    "deletable": false,
    "editable": true,
    "tags": [
     "lab-q2-code"
    ]
   },
   "outputs": [
    {
     "data": {
      "text/plain": [
       "1500"
      ]
     },
     "execution_count": 19,
     "metadata": {},
     "output_type": "execute_result"
    }
   ],
   "source": [
    "# create a database called 'rankings.db' out of 'rankings.json'\n",
    "\n",
    "# TODO: load the data from 'rankings.json' into a variable called 'rankings' using pandas' 'read_json' function\n",
    "rankings = pd.read_json('rankings.json')\n",
    "\n",
    "# TODO: connect to 'rankings.db' and save it to a variable called 'conn'\n",
    "conn = sqlite3.connect('rankings.db')\n",
    "\n",
    "# write the contents of 'rankings' to the table 'rankings' in the database\n",
    "# we have done this one for you, uncomment the next line\n",
    "rankings.to_sql(\"rankings\", conn, if_exists=\"replace\", index=False)\n",
    "# rankings.to_sql(\"rankings\", conn, if_exists=\"replace\", index=False)"
   ]
  },
  {
   "cell_type": "code",
   "execution_count": 20,
   "id": "dd511338-3db1-488f-b89a-19d32e34c509",
   "metadata": {
    "deletable": false,
    "editable": true
   },
   "outputs": [
    {
     "name": "stdout",
     "output_type": "stream",
     "text": [
      "Make sure you saved the notebook before running this cell. Running check for lab-q2...\n",
      "Great job! You passed all test cases for this question.\n"
     ]
    },
    {
     "data": {
      "text/plain": [
       "True"
      ]
     },
     "execution_count": 20,
     "metadata": {},
     "output_type": "execute_result"
    }
   ],
   "source": [
    "student_grader.check(\"lab-q2\", should_get_llm_feedback=False)"
   ]
  },
  {
   "cell_type": "markdown",
   "id": "98f83b8a-2474-4a33-97f6-e1cf7363173e",
   "metadata": {
    "deletable": false,
    "editable": false
   },
   "source": [
    "#### **Lab Question 3**: Read all the rows in rankings (the database table)"
   ]
  },
  {
   "cell_type": "markdown",
   "id": "84a77c79",
   "metadata": {
    "deletable": false,
    "editable": false
   },
   "source": [
    "You'll have to use pandas's `read_sql` function to make a query."
   ]
  },
  {
   "cell_type": "markdown",
   "id": "40e30012-50dd-4961-9fbf-9e6f017b334e",
   "metadata": {
    "deletable": false,
    "editable": false
   },
   "source": [
    "Points possible: 8.0"
   ]
  },
  {
   "cell_type": "code",
   "execution_count": 26,
   "id": "a300adde",
   "metadata": {
    "deletable": false,
    "editable": true,
    "tags": [
     "lab-q3-code"
    ]
   },
   "outputs": [
    {
     "data": {
      "text/html": [
       "<div>\n",
       "<style scoped>\n",
       "    .dataframe tbody tr th:only-of-type {\n",
       "        vertical-align: middle;\n",
       "    }\n",
       "\n",
       "    .dataframe tbody tr th {\n",
       "        vertical-align: top;\n",
       "    }\n",
       "\n",
       "    .dataframe thead th {\n",
       "        text-align: right;\n",
       "    }\n",
       "</style>\n",
       "<table border=\"1\" class=\"dataframe\">\n",
       "  <thead>\n",
       "    <tr style=\"text-align: right;\">\n",
       "      <th></th>\n",
       "      <th>Year</th>\n",
       "      <th>Rank</th>\n",
       "      <th>Institution Name</th>\n",
       "      <th>Country</th>\n",
       "      <th>Academic Reputation</th>\n",
       "      <th>Employer Reputation</th>\n",
       "      <th>Faculty Student</th>\n",
       "      <th>Citations per Faculty</th>\n",
       "      <th>International Faculty</th>\n",
       "      <th>International Students</th>\n",
       "      <th>International Research Network</th>\n",
       "      <th>Employment Outcomes</th>\n",
       "      <th>Sustainability</th>\n",
       "      <th>Overall</th>\n",
       "    </tr>\n",
       "  </thead>\n",
       "  <tbody>\n",
       "    <tr>\n",
       "      <th>0</th>\n",
       "      <td>2022</td>\n",
       "      <td>1</td>\n",
       "      <td>Massachusetts Institute of Technology (MIT)</td>\n",
       "      <td>United States</td>\n",
       "      <td>100.0</td>\n",
       "      <td>100.0</td>\n",
       "      <td>100.0</td>\n",
       "      <td>100.0</td>\n",
       "      <td>100.0</td>\n",
       "      <td>91.4</td>\n",
       "      <td>NaN</td>\n",
       "      <td>NaN</td>\n",
       "      <td>NaN</td>\n",
       "      <td>100.0</td>\n",
       "    </tr>\n",
       "    <tr>\n",
       "      <th>1</th>\n",
       "      <td>2022</td>\n",
       "      <td>2</td>\n",
       "      <td>University of Oxford</td>\n",
       "      <td>United Kingdom</td>\n",
       "      <td>100.0</td>\n",
       "      <td>100.0</td>\n",
       "      <td>100.0</td>\n",
       "      <td>96.0</td>\n",
       "      <td>99.5</td>\n",
       "      <td>98.5</td>\n",
       "      <td>NaN</td>\n",
       "      <td>NaN</td>\n",
       "      <td>NaN</td>\n",
       "      <td>99.5</td>\n",
       "    </tr>\n",
       "    <tr>\n",
       "      <th>2</th>\n",
       "      <td>2022</td>\n",
       "      <td>3</td>\n",
       "      <td>Stanford University</td>\n",
       "      <td>United States</td>\n",
       "      <td>100.0</td>\n",
       "      <td>100.0</td>\n",
       "      <td>100.0</td>\n",
       "      <td>99.9</td>\n",
       "      <td>99.8</td>\n",
       "      <td>67.0</td>\n",
       "      <td>NaN</td>\n",
       "      <td>NaN</td>\n",
       "      <td>NaN</td>\n",
       "      <td>98.7</td>\n",
       "    </tr>\n",
       "    <tr>\n",
       "      <th>3</th>\n",
       "      <td>2022</td>\n",
       "      <td>3</td>\n",
       "      <td>University of Cambridge</td>\n",
       "      <td>United Kingdom</td>\n",
       "      <td>100.0</td>\n",
       "      <td>100.0</td>\n",
       "      <td>100.0</td>\n",
       "      <td>92.1</td>\n",
       "      <td>100.0</td>\n",
       "      <td>97.7</td>\n",
       "      <td>NaN</td>\n",
       "      <td>NaN</td>\n",
       "      <td>NaN</td>\n",
       "      <td>98.7</td>\n",
       "    </tr>\n",
       "    <tr>\n",
       "      <th>4</th>\n",
       "      <td>2022</td>\n",
       "      <td>5</td>\n",
       "      <td>Harvard University</td>\n",
       "      <td>United States</td>\n",
       "      <td>100.0</td>\n",
       "      <td>100.0</td>\n",
       "      <td>99.1</td>\n",
       "      <td>100.0</td>\n",
       "      <td>84.2</td>\n",
       "      <td>70.1</td>\n",
       "      <td>NaN</td>\n",
       "      <td>NaN</td>\n",
       "      <td>NaN</td>\n",
       "      <td>98.0</td>\n",
       "    </tr>\n",
       "  </tbody>\n",
       "</table>\n",
       "</div>"
      ],
      "text/plain": [
       "   Year  Rank                              Institution Name         Country  \\\n",
       "0  2022     1  Massachusetts Institute of Technology (MIT)    United States   \n",
       "1  2022     2                          University of Oxford  United Kingdom   \n",
       "2  2022     3                           Stanford University   United States   \n",
       "3  2022     3                       University of Cambridge  United Kingdom   \n",
       "4  2022     5                            Harvard University   United States   \n",
       "\n",
       "   Academic Reputation  Employer Reputation  Faculty Student  \\\n",
       "0                100.0                100.0            100.0   \n",
       "1                100.0                100.0            100.0   \n",
       "2                100.0                100.0            100.0   \n",
       "3                100.0                100.0            100.0   \n",
       "4                100.0                100.0             99.1   \n",
       "\n",
       "   Citations per Faculty  International Faculty  International Students  \\\n",
       "0                  100.0                  100.0                    91.4   \n",
       "1                   96.0                   99.5                    98.5   \n",
       "2                   99.9                   99.8                    67.0   \n",
       "3                   92.1                  100.0                    97.7   \n",
       "4                  100.0                   84.2                    70.1   \n",
       "\n",
       "   International Research Network  Employment Outcomes  Sustainability  \\\n",
       "0                             NaN                  NaN             NaN   \n",
       "1                             NaN                  NaN             NaN   \n",
       "2                             NaN                  NaN             NaN   \n",
       "3                             NaN                  NaN             NaN   \n",
       "4                             NaN                  NaN             NaN   \n",
       "\n",
       "   Overall  \n",
       "0    100.0  \n",
       "1     99.5  \n",
       "2     98.7  \n",
       "3     98.7  \n",
       "4     98.0  "
      ]
     },
     "execution_count": 26,
     "metadata": {},
     "output_type": "execute_result"
    }
   ],
   "source": [
    "# compute and store the answer in the variable 'rankings', display its head\n",
    "# remember to display ONLY the head and NOT the whole DataFrame\n",
    "# uncomment and replace the ... with your code\n",
    "\n",
    "rankings = pd.read_sql(\"SELECT * FROM rankings\", conn)\n",
    "rankings.head()"
   ]
  },
  {
   "cell_type": "code",
   "execution_count": 27,
   "id": "b86ec6f8-7c2f-4205-b498-b073178c0a8b",
   "metadata": {
    "deletable": false,
    "editable": true
   },
   "outputs": [
    {
     "name": "stdout",
     "output_type": "stream",
     "text": [
      "Make sure you saved the notebook before running this cell. Running check for lab-q3...\n",
      "Great job! You passed all test cases for this question.\n"
     ]
    },
    {
     "data": {
      "text/plain": [
       "True"
      ]
     },
     "execution_count": 27,
     "metadata": {},
     "output_type": "execute_result"
    }
   ],
   "source": [
    "student_grader.check(\"lab-q3\", should_get_llm_feedback=False)"
   ]
  },
  {
   "cell_type": "markdown",
   "id": "bd00b054-8763-4fb9-b988-204a2cd1a53a",
   "metadata": {
    "deletable": false,
    "editable": false
   },
   "source": [
    "### Section 2: SQL Practice"
   ]
  },
  {
   "cell_type": "markdown",
   "id": "7b09ee5a",
   "metadata": {
    "deletable": false,
    "editable": false
   },
   "source": [
    "In practice, we often are more interested in writing more specific queries about our data. For example, we might be interested in finding institutions in the *United States*, or data collected in the `Year` *2022*, or both. With SQL, **WHERE** and **AND** clauses can help filter the data accordingly.\n",
    "\n",
    "Before proceeding with this segment, it is **recommended** that you **review** the relevant lecture code: [Mike](https://canvas.wisc.edu/courses/427075/files/folder/Mikes_Lecture_Notes/lec33_database_3), [Louis](https://git.doit.wisc.edu/cdis/cs/courses/cs220/cs220-lecture-material/-/tree/main/f24/Louis_Lecture_Notes/33_Database2)."
   ]
  },
  {
   "cell_type": "markdown",
   "id": "9cebe083",
   "metadata": {
    "deletable": false,
    "editable": false
   },
   "source": [
    "**Getting Started on Question 4**: Use `WHERE` to find institutions in the United States. Specifically:\n",
    "\n",
    "* Write a query to select the rows from the database with *United States* as the `Country`.\n",
    "* Keep only the `Institution Name` column.\n",
    "* Save these institution names to a **list**.\n",
    "\n",
    "**Hint:** You will need to use **quotes** (`'`) around the **strings** in your query and **backticks** (``` ` ```) around **column names** as in the example below. The **quotes** and **backticks** are only **required** when the string or column name contains special characters or spaces. But even otherwise, it is a good idea to use them to be on the safe side.\n",
    "\n",
    "In this case, the columns ``` `Institution Name` ``` and ``` `Country` ``` are columns, and need to be inside **backticks**, whereas `'United States'` is a string in the query, and needs to be inside **quotes**."
   ]
  },
  {
   "cell_type": "code",
   "execution_count": 30,
   "id": "64012949",
   "metadata": {
    "deletable": false
   },
   "outputs": [
    {
     "data": {
      "text/html": [
       "<div>\n",
       "<style scoped>\n",
       "    .dataframe tbody tr th:only-of-type {\n",
       "        vertical-align: middle;\n",
       "    }\n",
       "\n",
       "    .dataframe tbody tr th {\n",
       "        vertical-align: top;\n",
       "    }\n",
       "\n",
       "    .dataframe thead th {\n",
       "        text-align: right;\n",
       "    }\n",
       "</style>\n",
       "<table border=\"1\" class=\"dataframe\">\n",
       "  <thead>\n",
       "    <tr style=\"text-align: right;\">\n",
       "      <th></th>\n",
       "      <th>Institution Name</th>\n",
       "    </tr>\n",
       "  </thead>\n",
       "  <tbody>\n",
       "    <tr>\n",
       "      <th>0</th>\n",
       "      <td>Massachusetts Institute of Technology (MIT)</td>\n",
       "    </tr>\n",
       "    <tr>\n",
       "      <th>1</th>\n",
       "      <td>Stanford University</td>\n",
       "    </tr>\n",
       "    <tr>\n",
       "      <th>2</th>\n",
       "      <td>Harvard University</td>\n",
       "    </tr>\n",
       "    <tr>\n",
       "      <th>3</th>\n",
       "      <td>California Institute of Technology (Caltech)</td>\n",
       "    </tr>\n",
       "    <tr>\n",
       "      <th>4</th>\n",
       "      <td>University of Chicago</td>\n",
       "    </tr>\n",
       "    <tr>\n",
       "      <th>...</th>\n",
       "      <td>...</td>\n",
       "    </tr>\n",
       "    <tr>\n",
       "      <th>247</th>\n",
       "      <td>Illinois Institute of Technology</td>\n",
       "    </tr>\n",
       "    <tr>\n",
       "      <th>248</th>\n",
       "      <td>Missouri University of Science and Technology</td>\n",
       "    </tr>\n",
       "    <tr>\n",
       "      <th>249</th>\n",
       "      <td>University at Buffalo SUNY</td>\n",
       "    </tr>\n",
       "    <tr>\n",
       "      <th>250</th>\n",
       "      <td>University of Iowa</td>\n",
       "    </tr>\n",
       "    <tr>\n",
       "      <th>251</th>\n",
       "      <td>Rensselaer Polytechnic Institute</td>\n",
       "    </tr>\n",
       "  </tbody>\n",
       "</table>\n",
       "<p>252 rows × 1 columns</p>\n",
       "</div>"
      ],
      "text/plain": [
       "                                  Institution Name\n",
       "0     Massachusetts Institute of Technology (MIT) \n",
       "1                              Stanford University\n",
       "2                               Harvard University\n",
       "3     California Institute of Technology (Caltech)\n",
       "4                            University of Chicago\n",
       "..                                             ...\n",
       "247               Illinois Institute of Technology\n",
       "248  Missouri University of Science and Technology\n",
       "249                     University at Buffalo SUNY\n",
       "250                             University of Iowa\n",
       "251               Rensselaer Polytechnic Institute\n",
       "\n",
       "[252 rows x 1 columns]"
      ]
     },
     "execution_count": 30,
     "metadata": {},
     "output_type": "execute_result"
    }
   ],
   "source": [
    "# we have done this one for you\n",
    "\n",
    "us_institutions_df = pd.read_sql(\"SELECT `Institution Name` FROM rankings WHERE `Country` = 'United States'\", conn)\n",
    "us_institutions_df"
   ]
  },
  {
   "cell_type": "code",
   "execution_count": 37,
   "id": "c035f899",
   "metadata": {
    "deletable": false
   },
   "outputs": [],
   "source": [
    "# we have done this one for you\n",
    "\n",
    "us_institutions = list(us_institutions_df['Institution Name'])\n",
    "\n",
    "# don't display the variable"
   ]
  },
  {
   "cell_type": "markdown",
   "id": "2b1f9172-d434-443f-8715-4e32ed1433c1",
   "metadata": {
    "deletable": false,
    "editable": false
   },
   "source": [
    "#### **Lab Question 4**: Add an `AND` clause to find a **list** of all institutions in the *United States* with at least *70* `Overall`"
   ]
  },
  {
   "cell_type": "markdown",
   "id": "9fe4da4e",
   "metadata": {
    "deletable": false,
    "editable": false
   },
   "source": [
    "* Copy the query from the **Getting Started** section above.\n",
    "* Update it to only select rows with `Overall` of **at least** *70*.\n",
    "* Save these institution names to a **list**.\n",
    "\n",
    "**Hint:** You will need to use **quotes** (`'`) around the **strings** in your query and **backticks** (``` ` ```) around **column names**."
   ]
  },
  {
   "cell_type": "markdown",
   "id": "1bf43205-ea7e-4dac-be4a-107361252e68",
   "metadata": {
    "deletable": false,
    "editable": false
   },
   "source": [
    "Points possible: 8.0"
   ]
  },
  {
   "cell_type": "code",
   "execution_count": 44,
   "id": "12f341ad",
   "metadata": {
    "deletable": false,
    "editable": true,
    "tags": [
     "lab-q4-code"
    ]
   },
   "outputs": [
    {
     "data": {
      "text/plain": [
       "['Massachusetts Institute of Technology (MIT) ',\n",
       " 'Stanford University',\n",
       " 'Harvard University',\n",
       " 'California Institute of Technology (Caltech)',\n",
       " 'University of Chicago',\n",
       " 'University of Pennsylvania',\n",
       " 'Yale University',\n",
       " 'Columbia University',\n",
       " 'Princeton University',\n",
       " 'Cornell University',\n",
       " 'University of Michigan-Ann Arbor',\n",
       " 'Johns Hopkins University',\n",
       " 'Northwestern University',\n",
       " 'University of California, Berkeley (UCB)',\n",
       " 'University of California, Los Angeles (UCLA)',\n",
       " 'New York University (NYU)',\n",
       " 'University of California, San Diego (UCSD)',\n",
       " 'Duke University',\n",
       " 'Carnegie Mellon University',\n",
       " 'Brown University',\n",
       " 'Massachusetts Institute of Technology (MIT) ',\n",
       " 'Stanford University',\n",
       " 'Harvard University',\n",
       " 'California Institute of Technology (Caltech)',\n",
       " 'University of Chicago',\n",
       " 'University of Pennsylvania',\n",
       " 'Princeton University',\n",
       " 'Yale University',\n",
       " 'Cornell University',\n",
       " 'Columbia University',\n",
       " 'Johns Hopkins University',\n",
       " 'University of Michigan-Ann Arbor',\n",
       " 'University of California, Berkeley (UCB)',\n",
       " 'Northwestern University',\n",
       " 'New York University (NYU)',\n",
       " 'University of California, Los Angeles (UCLA)',\n",
       " 'Duke University',\n",
       " 'Carnegie Mellon University',\n",
       " 'University of California, San Diego (UCSD)',\n",
       " 'Massachusetts Institute of Technology (MIT) ',\n",
       " 'Harvard University',\n",
       " 'Stanford University',\n",
       " 'University of California, Berkeley (UCB)',\n",
       " 'University of Chicago',\n",
       " 'University of Pennsylvania',\n",
       " 'Cornell University',\n",
       " 'California Institute of Technology (Caltech)',\n",
       " 'Yale University',\n",
       " 'Princeton University',\n",
       " 'Columbia University',\n",
       " 'Johns Hopkins University',\n",
       " 'University of California, Los Angeles (UCLA)',\n",
       " 'University of Michigan-Ann Arbor',\n",
       " 'New York University (NYU)',\n",
       " 'Northwestern University',\n",
       " 'Carnegie Mellon University',\n",
       " 'Duke University',\n",
       " 'University of Texas at Austin',\n",
       " 'University of California, San Diego (UCSD)']"
      ]
     },
     "execution_count": 44,
     "metadata": {},
     "output_type": "execute_result"
    }
   ],
   "source": [
    "# compute and store the answer in the variable 'good_us_institutions', then display it\n",
    "good_us_institutions_df = pd.read_sql(\n",
    "    \"SELECT `Institution Name` FROM rankings WHERE `Country` = 'United States' AND `Overall` >= 70\",\n",
    "    conn\n",
    ")\n",
    "good_us_institutions = list(good_us_institutions_df['Institution Name'])\n",
    "\n",
    "good_us_institutions"
   ]
  },
  {
   "cell_type": "code",
   "execution_count": 45,
   "id": "d61218cd-d6bf-4cae-a0ab-219d8cb6bb82",
   "metadata": {
    "deletable": false,
    "editable": true
   },
   "outputs": [
    {
     "name": "stdout",
     "output_type": "stream",
     "text": [
      "Make sure you saved the notebook before running this cell. Running check for lab-q4...\n",
      "Great job! You passed all test cases for this question.\n"
     ]
    },
    {
     "data": {
      "text/plain": [
       "True"
      ]
     },
     "execution_count": 45,
     "metadata": {},
     "output_type": "execute_result"
    }
   ],
   "source": [
    "student_grader.check(\"lab-q4\", should_get_llm_feedback=False)"
   ]
  },
  {
   "cell_type": "markdown",
   "id": "c83461a6-afb0-4da0-88c1-0ebe03f7dd15",
   "metadata": {
    "deletable": false,
    "editable": false
   },
   "source": [
    "#### **Lab Question 5**: Use an `ORDER BY` clause to display a **list** of the *top 7* institutions by `Academic Reputation` in *2022*"
   ]
  },
  {
   "cell_type": "markdown",
   "id": "cf715227",
   "metadata": {
    "deletable": false,
    "editable": false
   },
   "source": [
    "In addition to **WHERE** and **AND**, the **ORDER BY** keyword helps organize data even further. Much like the `sort_values()` function in `pandas`, the **ORDER BY** clause can be used to organize the result of the query in *increasing* (**ASC**) or *decreasing* (**DESC**) order based on a column's values.\n",
    "\n",
    "* Write a new query to select rows in rankings where the `Year` is *2022*.\n",
    "* Use **ORDER BY** and **LIMIT** to select the top 7 rows with the **highest** `Academic Reputation`.\n",
    "* Save these institution names to a **list**."
   ]
  },
  {
   "cell_type": "markdown",
   "id": "729c7114-5aec-44c8-bb26-64568f6c26b2",
   "metadata": {
    "deletable": false,
    "editable": false
   },
   "source": [
    "Points possible: 8.0"
   ]
  },
  {
   "cell_type": "code",
   "execution_count": 49,
   "id": "763304e0",
   "metadata": {
    "deletable": false,
    "editable": true,
    "tags": [
     "lab-q5-code"
    ]
   },
   "outputs": [
    {
     "data": {
      "text/plain": [
       "['Massachusetts Institute of Technology (MIT) ',\n",
       " 'University of Oxford',\n",
       " 'Stanford University',\n",
       " 'University of Cambridge',\n",
       " 'Harvard University',\n",
       " 'The University of Tokyo',\n",
       " 'University of California, Berkeley (UCB)']"
      ]
     },
     "execution_count": 49,
     "metadata": {},
     "output_type": "execute_result"
    }
   ],
   "source": [
    "# compute and store the answer in the variable 'top_7_institutions', then display it\n",
    "top_7_institutions_df = pd.read_sql(\n",
    "    \"SELECT `Institution Name` FROM rankings WHERE `Year` = 2022 ORDER BY `Academic Reputation` DESC LIMIT 7\",\n",
    "    conn\n",
    ")\n",
    "top_7_institutions = list(top_7_institutions_df['Institution Name'])\n",
    "\n",
    "top_7_institutions"
   ]
  },
  {
   "cell_type": "code",
   "execution_count": 50,
   "id": "7ae1cbdf-c23f-45ea-8c46-32c5fa9ecb3b",
   "metadata": {
    "deletable": false,
    "editable": true
   },
   "outputs": [
    {
     "name": "stdout",
     "output_type": "stream",
     "text": [
      "Make sure you saved the notebook before running this cell. Running check for lab-q5...\n",
      "Great job! You passed all test cases for this question.\n"
     ]
    },
    {
     "data": {
      "text/plain": [
       "True"
      ]
     },
     "execution_count": 50,
     "metadata": {},
     "output_type": "execute_result"
    }
   ],
   "source": [
    "student_grader.check(\"lab-q5\", should_get_llm_feedback=False)"
   ]
  },
  {
   "cell_type": "markdown",
   "id": "cb034004-0b00-4baf-bea5-891d1768e46a",
   "metadata": {
    "deletable": false,
    "editable": false
   },
   "source": [
    "#### **Lab Question 6**: Display a **list** of the *top 7* institutions by `Academic Reputation` in *2022*, but break ties using their `Citations per Faculty`."
   ]
  },
  {
   "cell_type": "markdown",
   "id": "13e1803b",
   "metadata": {
    "deletable": false,
    "editable": false
   },
   "source": [
    "If you print out the resulting DataFrame from your query, you might notice that all 7 rows have the same academic reputation. This makes it hard to compare the universities, so we will add some **tiebreaking** rules. If two universities have the same `Academic Reputation`, then we should order them by their `Citations per Faculty` (with the **highest** appearing first). You can do this by ordering by multiple columns.\n",
    "\n",
    "* Copy your query from **Question 5**.\n",
    "* Update the **ORDER BY** clause to add this tiebreaking behavior.\n",
    "* Save these institution names to a **list**."
   ]
  },
  {
   "cell_type": "markdown",
   "id": "669c96c3-a02b-4539-a5c0-94c3a1a03207",
   "metadata": {
    "deletable": false,
    "editable": false
   },
   "source": [
    "Points possible: 8.0"
   ]
  },
  {
   "cell_type": "code",
   "execution_count": 53,
   "id": "26f5a433",
   "metadata": {
    "deletable": false,
    "editable": true,
    "tags": [
     "lab-q6-code"
    ]
   },
   "outputs": [
    {
     "data": {
      "text/plain": [
       "['Massachusetts Institute of Technology (MIT) ',\n",
       " 'Harvard University',\n",
       " 'Stanford University',\n",
       " 'University of California, Berkeley (UCB)',\n",
       " 'University of Oxford',\n",
       " 'University of Cambridge',\n",
       " 'University of California, Los Angeles (UCLA)']"
      ]
     },
     "execution_count": 53,
     "metadata": {},
     "output_type": "execute_result"
    }
   ],
   "source": [
    "# compute and store the answer in the variable 'top_7_with_tiebreak', then display it\n",
    "top_7_with_tiebreak_df = pd.read_sql(\n",
    "    \"SELECT `Institution Name` FROM rankings WHERE `Year` = 2022 \"\n",
    "    \"ORDER BY `Academic Reputation` DESC, `Citations per Faculty` DESC LIMIT 7\",\n",
    "    conn\n",
    ")\n",
    "top_7_with_tiebreak = list(top_7_with_tiebreak_df['Institution Name'])\n",
    "\n",
    "top_7_with_tiebreak"
   ]
  },
  {
   "cell_type": "code",
   "execution_count": 55,
   "id": "d2eceb49-d5bb-4a80-bf2a-9b83cc0b3f0e",
   "metadata": {
    "deletable": false,
    "editable": true
   },
   "outputs": [
    {
     "name": "stdout",
     "output_type": "stream",
     "text": [
      "Make sure you saved the notebook before running this cell. Running check for lab-q6...\n",
      "Great job! You passed all test cases for this question.\n"
     ]
    },
    {
     "data": {
      "text/plain": [
       "True"
      ]
     },
     "execution_count": 55,
     "metadata": {},
     "output_type": "execute_result"
    }
   ],
   "source": [
    "student_grader.check(\"lab-q6\", should_get_llm_feedback=False)"
   ]
  },
  {
   "cell_type": "markdown",
   "id": "87fcc165-e37f-4867-a5fc-5158f82b1ca0",
   "metadata": {
    "deletable": false,
    "editable": false
   },
   "source": [
    "#### **Lab Question 7**: Use `GROUP BY` clause and `SUM` aggregate function to get the *total number* of `International Students` for each `Country` in *2022*."
   ]
  },
  {
   "cell_type": "markdown",
   "id": "9b991dcf",
   "metadata": {
    "deletable": false,
    "editable": false
   },
   "source": [
    "The **GROUP BY** keyword groups rows that have the same value. It is often used with aggregate functions, such as **COUNT**, **SUM**, **AVG**, etc. to obtain a summary about groups in the data.\n",
    "\n",
    "For example, to answer the question \"What is the average rank of each country's institutions?\", we could **GROUP BY** the `Country` and use the **AVG** aggregate function on the `Rank` column in the **SELECT** clause to get the average rank of each country.\n",
    "\n",
    "* Write a new query that uses **GROUP BY** and **SUM** to get the total number of international students in each country, using **WHERE** to filter by the `Year`.\n",
    "* Save the resulting **DataFrame** with **two** columns: `Country` and the **sum** of the `International Students` for that country.\n",
    "\n",
    "This is the **expected output**:\n",
    "\n",
    "<table border=\"1\" class=\"dataframe\">\n",
    "  <thead>\n",
    "    <tr style=\"text-align: right;\">\n",
    "      <th></th>\n",
    "      <th>Country</th>\n",
    "      <th>SUM(`International Students`)</th>\n",
    "    </tr>\n",
    "  </thead>\n",
    "  <tbody>\n",
    "    <tr>\n",
    "      <th>0</th>\n",
    "      <td>Argentina</td>\n",
    "      <td>215.3</td>\n",
    "    </tr>\n",
    "    <tr>\n",
    "      <th>1</th>\n",
    "      <td>Australia</td>\n",
    "      <td>2108.0</td>\n",
    "    </tr>\n",
    "    <tr>\n",
    "      <th>2</th>\n",
    "      <td>Austria</td>\n",
    "      <td>356.6</td>\n",
    "    </tr>\n",
    "    <tr>\n",
    "      <th>3</th>\n",
    "      <td>Belarus</td>\n",
    "      <td>43.0</td>\n",
    "    </tr>\n",
    "    <tr>\n",
    "      <th>4</th>\n",
    "      <td>Belgium</td>\n",
    "      <td>371.2</td>\n",
    "    </tr>\n",
    "  </tbody>\n",
    "</table>"
   ]
  },
  {
   "cell_type": "markdown",
   "id": "bf654a62-d97e-4787-a115-73d512db578e",
   "metadata": {
    "deletable": false,
    "editable": false
   },
   "source": [
    "Points possible: 8.0"
   ]
  },
  {
   "cell_type": "code",
   "execution_count": 71,
   "id": "f31786c4",
   "metadata": {
    "deletable": false,
    "editable": true,
    "tags": [
     "lab-q7-code"
    ]
   },
   "outputs": [
    {
     "data": {
      "text/html": [
       "<div>\n",
       "<style scoped>\n",
       "    .dataframe tbody tr th:only-of-type {\n",
       "        vertical-align: middle;\n",
       "    }\n",
       "\n",
       "    .dataframe tbody tr th {\n",
       "        vertical-align: top;\n",
       "    }\n",
       "\n",
       "    .dataframe thead th {\n",
       "        text-align: right;\n",
       "    }\n",
       "</style>\n",
       "<table border=\"1\" class=\"dataframe\">\n",
       "  <thead>\n",
       "    <tr style=\"text-align: right;\">\n",
       "      <th></th>\n",
       "      <th>Country</th>\n",
       "      <th>SUM(`International Students`)</th>\n",
       "    </tr>\n",
       "  </thead>\n",
       "  <tbody>\n",
       "    <tr>\n",
       "      <th>0</th>\n",
       "      <td>Argentina</td>\n",
       "      <td>215.3</td>\n",
       "    </tr>\n",
       "    <tr>\n",
       "      <th>1</th>\n",
       "      <td>Australia</td>\n",
       "      <td>2108.0</td>\n",
       "    </tr>\n",
       "    <tr>\n",
       "      <th>2</th>\n",
       "      <td>Austria</td>\n",
       "      <td>356.6</td>\n",
       "    </tr>\n",
       "    <tr>\n",
       "      <th>3</th>\n",
       "      <td>Belarus</td>\n",
       "      <td>43.0</td>\n",
       "    </tr>\n",
       "    <tr>\n",
       "      <th>4</th>\n",
       "      <td>Belgium</td>\n",
       "      <td>371.2</td>\n",
       "    </tr>\n",
       "  </tbody>\n",
       "</table>\n",
       "</div>"
      ],
      "text/plain": [
       "     Country  SUM(`International Students`)\n",
       "0  Argentina                          215.3\n",
       "1  Australia                         2108.0\n",
       "2    Austria                          356.6\n",
       "3    Belarus                           43.0\n",
       "4    Belgium                          371.2"
      ]
     },
     "execution_count": 71,
     "metadata": {},
     "output_type": "execute_result"
    }
   ],
   "source": [
    "inter_students_by_country = pd.read_sql(\n",
    "    \"SELECT `Country`, SUM(`International Students`) AS 'SUM(`International Students`)' \"\n",
    "    \"FROM rankings WHERE `Year` = 2022 GROUP BY `Country`\",\n",
    "    conn\n",
    ")\n",
    "\n",
    "inter_students_by_country.head()"
   ]
  },
  {
   "cell_type": "code",
   "execution_count": 73,
   "id": "625c438e-b94c-4b89-ae7c-1bfcec20344f",
   "metadata": {
    "deletable": false,
    "editable": true
   },
   "outputs": [
    {
     "name": "stdout",
     "output_type": "stream",
     "text": [
      "Make sure you saved the notebook before running this cell. Running check for lab-q7...\n",
      "Great job! You passed all test cases for this question.\n"
     ]
    },
    {
     "data": {
      "text/plain": [
       "True"
      ]
     },
     "execution_count": 73,
     "metadata": {},
     "output_type": "execute_result"
    }
   ],
   "source": [
    "student_grader.check(\"lab-q7\", should_get_llm_feedback=False)"
   ]
  },
  {
   "cell_type": "markdown",
   "id": "185da9e2-f284-4ac5-b5d8-f3bfdf2fccf1",
   "metadata": {
    "deletable": false,
    "editable": false
   },
   "source": [
    "#### **Lab Question 8**: Use the `AS` keyword to rename the new column from **Question 7** to `Total International Students`"
   ]
  },
  {
   "cell_type": "markdown",
   "id": "06ecba29",
   "metadata": {
    "deletable": false,
    "editable": false
   },
   "source": [
    "Although the dataframe does have a column for the sum of international students for each country, the name of the column looks strange:\n",
    "\n",
    "```sql\n",
    "SUM(`International Students`)\n",
    "```\n",
    "\n",
    "In SQL, the **AS** keyword allows us to create an simpler alias for the columns we create with our queries to make the resulting **DataFrame** easier to understand.\n",
    "\n",
    "* Paste your query from **Question 7** and modify it so the **SUM** column has the name `Total International Students`.\n",
    "* Save the resulting **DataFrame** with **two** columns: `Country` and `Total International Students`.\n",
    "\n",
    "This is the **expected output**:\n",
    "\n",
    "<table border=\"1\" class=\"dataframe\">\n",
    "  <thead>\n",
    "    <tr style=\"text-align: right;\">\n",
    "      <th></th>\n",
    "      <th>Country</th>\n",
    "      <th>Total International Students</th>\n",
    "    </tr>\n",
    "  </thead>\n",
    "  <tbody>\n",
    "    <tr>\n",
    "      <th>0</th>\n",
    "      <td>Argentina</td>\n",
    "      <td>215.3</td>\n",
    "    </tr>\n",
    "    <tr>\n",
    "      <th>1</th>\n",
    "      <td>Australia</td>\n",
    "      <td>2108.0</td>\n",
    "    </tr>\n",
    "    <tr>\n",
    "      <th>2</th>\n",
    "      <td>Austria</td>\n",
    "      <td>356.6</td>\n",
    "    </tr>\n",
    "    <tr>\n",
    "      <th>3</th>\n",
    "      <td>Belarus</td>\n",
    "      <td>43.0</td>\n",
    "    </tr>\n",
    "    <tr>\n",
    "      <th>4</th>\n",
    "      <td>Belgium</td>\n",
    "      <td>371.2</td>\n",
    "    </tr>\n",
    "  </tbody>\n",
    "</table>"
   ]
  },
  {
   "cell_type": "markdown",
   "id": "c54657ad-0c17-485a-8a3c-de269293c319",
   "metadata": {
    "deletable": false,
    "editable": false
   },
   "source": [
    "Points possible: 8.0"
   ]
  },
  {
   "cell_type": "code",
   "execution_count": 75,
   "id": "3947be0d",
   "metadata": {
    "deletable": false,
    "editable": true,
    "tags": [
     "lab-q8-code"
    ]
   },
   "outputs": [
    {
     "data": {
      "text/html": [
       "<div>\n",
       "<style scoped>\n",
       "    .dataframe tbody tr th:only-of-type {\n",
       "        vertical-align: middle;\n",
       "    }\n",
       "\n",
       "    .dataframe tbody tr th {\n",
       "        vertical-align: top;\n",
       "    }\n",
       "\n",
       "    .dataframe thead th {\n",
       "        text-align: right;\n",
       "    }\n",
       "</style>\n",
       "<table border=\"1\" class=\"dataframe\">\n",
       "  <thead>\n",
       "    <tr style=\"text-align: right;\">\n",
       "      <th></th>\n",
       "      <th>Country</th>\n",
       "      <th>Total International Students</th>\n",
       "    </tr>\n",
       "  </thead>\n",
       "  <tbody>\n",
       "    <tr>\n",
       "      <th>0</th>\n",
       "      <td>Argentina</td>\n",
       "      <td>215.3</td>\n",
       "    </tr>\n",
       "    <tr>\n",
       "      <th>1</th>\n",
       "      <td>Australia</td>\n",
       "      <td>2108.0</td>\n",
       "    </tr>\n",
       "    <tr>\n",
       "      <th>2</th>\n",
       "      <td>Austria</td>\n",
       "      <td>356.6</td>\n",
       "    </tr>\n",
       "    <tr>\n",
       "      <th>3</th>\n",
       "      <td>Belarus</td>\n",
       "      <td>43.0</td>\n",
       "    </tr>\n",
       "    <tr>\n",
       "      <th>4</th>\n",
       "      <td>Belgium</td>\n",
       "      <td>371.2</td>\n",
       "    </tr>\n",
       "  </tbody>\n",
       "</table>\n",
       "</div>"
      ],
      "text/plain": [
       "     Country  Total International Students\n",
       "0  Argentina                         215.3\n",
       "1  Australia                        2108.0\n",
       "2    Austria                         356.6\n",
       "3    Belarus                          43.0\n",
       "4    Belgium                         371.2"
      ]
     },
     "execution_count": 75,
     "metadata": {},
     "output_type": "execute_result"
    }
   ],
   "source": [
    "# compute and store the answer in the variable 'inter_students_by_country_renamed', then display its head\n",
    "\n",
    "inter_students_by_country_renamed = pd.read_sql(\n",
    "    \"SELECT `Country`, SUM(`International Students`) AS `Total International Students` \"\n",
    "    \"FROM rankings WHERE `Year` = 2022 GROUP BY `Country`\",\n",
    "    conn\n",
    ")\n",
    "\n",
    "inter_students_by_country_renamed.head()"
   ]
  },
  {
   "cell_type": "code",
   "execution_count": 77,
   "id": "05af2d93-d639-4471-907b-71524a1fb95b",
   "metadata": {
    "deletable": false,
    "editable": true
   },
   "outputs": [
    {
     "name": "stdout",
     "output_type": "stream",
     "text": [
      "Make sure you saved the notebook before running this cell. Running check for lab-q8...\n",
      "Great job! You passed all test cases for this question.\n"
     ]
    },
    {
     "data": {
      "text/plain": [
       "True"
      ]
     },
     "execution_count": 77,
     "metadata": {},
     "output_type": "execute_result"
    }
   ],
   "source": [
    "student_grader.check(\"lab-q8\", should_get_llm_feedback=False)"
   ]
  },
  {
   "cell_type": "markdown",
   "id": "94764f50-8178-4f73-9bc8-78a96ba0e207",
   "metadata": {
    "deletable": false,
    "editable": false
   },
   "source": [
    "#### **Lab Question 9**: Use the `HAVING` keyword to only keep countries with more than 1000 `Total International Students`"
   ]
  },
  {
   "cell_type": "markdown",
   "id": "79fdda0c",
   "metadata": {
    "deletable": false,
    "editable": false
   },
   "source": [
    "In addition to **WHERE**, the **HAVING** keyword is useful for filtering **GROUP BY** queries. Whereas **WHERE** filters the number of rows, **HAVING** filters the number of groups.\n",
    "\n",
    "* Paste your query from **Question 8** and modify it so that it only returns countries (`Country`) and `Total International Students` with **more than** *1000* `Total International Students`.\n",
    "* Save the resulting **DataFrame** with **two** columns: `Country` and `Total International Students`."
   ]
  },
  {
   "cell_type": "markdown",
   "id": "55529a90-a2c0-4021-8971-51397d2c5533",
   "metadata": {
    "deletable": false,
    "editable": false
   },
   "source": [
    "Points possible: 8.0"
   ]
  },
  {
   "cell_type": "code",
   "execution_count": 79,
   "id": "8bc00cf4",
   "metadata": {
    "deletable": false,
    "editable": true,
    "tags": [
     "lab-q9-code"
    ]
   },
   "outputs": [
    {
     "data": {
      "text/html": [
       "<div>\n",
       "<style scoped>\n",
       "    .dataframe tbody tr th:only-of-type {\n",
       "        vertical-align: middle;\n",
       "    }\n",
       "\n",
       "    .dataframe tbody tr th {\n",
       "        vertical-align: top;\n",
       "    }\n",
       "\n",
       "    .dataframe thead th {\n",
       "        text-align: right;\n",
       "    }\n",
       "</style>\n",
       "<table border=\"1\" class=\"dataframe\">\n",
       "  <thead>\n",
       "    <tr style=\"text-align: right;\">\n",
       "      <th></th>\n",
       "      <th>Country</th>\n",
       "      <th>Total International Students</th>\n",
       "    </tr>\n",
       "  </thead>\n",
       "  <tbody>\n",
       "    <tr>\n",
       "      <th>0</th>\n",
       "      <td>Australia</td>\n",
       "      <td>2108.0</td>\n",
       "    </tr>\n",
       "    <tr>\n",
       "      <th>1</th>\n",
       "      <td>Canada</td>\n",
       "      <td>1093.4</td>\n",
       "    </tr>\n",
       "    <tr>\n",
       "      <th>2</th>\n",
       "      <td>Germany</td>\n",
       "      <td>1108.9</td>\n",
       "    </tr>\n",
       "    <tr>\n",
       "      <th>3</th>\n",
       "      <td>Russia</td>\n",
       "      <td>1097.5</td>\n",
       "    </tr>\n",
       "    <tr>\n",
       "      <th>4</th>\n",
       "      <td>United Kingdom</td>\n",
       "      <td>4331.8</td>\n",
       "    </tr>\n",
       "    <tr>\n",
       "      <th>5</th>\n",
       "      <td>United States</td>\n",
       "      <td>3706.7</td>\n",
       "    </tr>\n",
       "  </tbody>\n",
       "</table>\n",
       "</div>"
      ],
      "text/plain": [
       "          Country  Total International Students\n",
       "0       Australia                        2108.0\n",
       "1          Canada                        1093.4\n",
       "2         Germany                        1108.9\n",
       "3          Russia                        1097.5\n",
       "4  United Kingdom                        4331.8\n",
       "5   United States                        3706.7"
      ]
     },
     "execution_count": 79,
     "metadata": {},
     "output_type": "execute_result"
    }
   ],
   "source": [
    "# compute and store the answer in the variable 'inter_students_by_country_more_than_1000', then display it\n",
    "\n",
    "inter_students_by_country_more_than_1000 = pd.read_sql(\n",
    "    \"SELECT `Country`, SUM(`International Students`) AS `Total International Students` \"\n",
    "    \"FROM rankings WHERE `Year` = 2022 GROUP BY `Country` HAVING SUM(`International Students`) > 1000\",\n",
    "    conn\n",
    ")\n",
    "\n",
    "inter_students_by_country_more_than_1000"
   ]
  },
  {
   "cell_type": "code",
   "execution_count": 81,
   "id": "4047990f-82c7-4c5d-a2ac-29b9b22e551a",
   "metadata": {
    "deletable": false,
    "editable": true
   },
   "outputs": [
    {
     "name": "stdout",
     "output_type": "stream",
     "text": [
      "Make sure you saved the notebook before running this cell. Running check for lab-q9...\n",
      "Great job! You passed all test cases for this question.\n"
     ]
    },
    {
     "data": {
      "text/plain": [
       "True"
      ]
     },
     "execution_count": 81,
     "metadata": {},
     "output_type": "execute_result"
    }
   ],
   "source": [
    "student_grader.check(\"lab-q9\", should_get_llm_feedback=False)"
   ]
  },
  {
   "cell_type": "markdown",
   "id": "d83309db",
   "metadata": {
    "deletable": false,
    "editable": false
   },
   "source": [
    "### Section 3: Plotting\n",
    "\n",
    "SQL provides powerful tools to manipulate and organize data. Now we might be interested in plotting the data to engage in data exploration and visualize our results.\n",
    "\n",
    "Before starting this segment, it is recommended that you go through the relevant lecture code."
   ]
  },
  {
   "cell_type": "markdown",
   "id": "b9163152-6477-4573-984e-2c5eed987c7e",
   "metadata": {
    "deletable": false,
    "editable": false
   },
   "source": [
    "### Function 1: `bar_plot`"
   ]
  },
  {
   "cell_type": "markdown",
   "id": "4a5c313f-646f-45e7-a3af-fb954243970a",
   "metadata": {
    "deletable": false,
    "editable": false
   },
   "source": [
    "Let us first create a general function for creating bar plots."
   ]
  },
  {
   "cell_type": "code",
   "execution_count": 83,
   "id": "f52652bc-9ba5-4389-b1f8-d68989b3d3c1",
   "metadata": {
    "deletable": false
   },
   "outputs": [],
   "source": [
    "# we have done this for you\n",
    "# make sure you understand what this function is doing, reach out to a PM/TA if needed\n",
    "\n",
    "def bar_plot(df, x, y):\n",
    "    \"\"\"bar_plot(df, x, y) takes in a DataFrame 'df' and displays \n",
    "    a bar plot with the column 'x' as the x-axis, and the column\n",
    "    'y' as the y-axis\"\"\"\n",
    "    \n",
    "    ax = df.plot.bar(x=x, y=y, color='black', legend=False)\n",
    "    ax.set_xlabel(x)\n",
    "    ax.set_ylabel(y)\n",
    "    plt.show()"
   ]
  },
  {
   "cell_type": "markdown",
   "id": "37d209ea",
   "metadata": {
    "deletable": false,
    "editable": false
   },
   "source": [
    "Now, let's see how the function works. Use the `bar plot` function to plot the data from Question 9.\n",
    "\n",
    "Your plot should look like this:\n",
    "\n",
    "<div style=\"text-align: center;\"><img src=\"images/bar_plot.jpg\" style=\"height: 400px;\"/></div>\n",
    "\n",
    "Make sure that the plot is labelled exactly as in the image here."
   ]
  },
  {
   "cell_type": "code",
   "execution_count": 86,
   "id": "e21ed94a",
   "metadata": {
    "deletable": false
   },
   "outputs": [
    {
     "data": {
      "image/png": "[encoded data removed]",
      "text/plain": [
       "<Figure size 640x480 with 1 Axes>"
      ]
     },
     "metadata": {},
     "output_type": "display_data"
    }
   ],
   "source": [
    "# plot the data from Question 9\n",
    "# verify that this plot matches exactly with the image shown above\n",
    "\n",
    "bar_plot(inter_students_by_country_more_than_1000, x='Country', y='Total International Students')\n"
   ]
  },
  {
   "cell_type": "markdown",
   "id": "d2b9e6e5-587c-4850-8b47-e3025436b428",
   "metadata": {
    "deletable": false,
    "editable": false
   },
   "source": [
    "### Function 2: `scatter_plot`"
   ]
  },
  {
   "cell_type": "markdown",
   "id": "2c4aafca-db5c-48b8-88f5-7aa6f8aa3fc1",
   "metadata": {
    "deletable": false,
    "editable": false
   },
   "source": [
    "Let us now create a general function for creating scatter plots."
   ]
  },
  {
   "cell_type": "code",
   "execution_count": 90,
   "id": "0afe4224-a919-48cc-86a8-b20c67a0438d",
   "metadata": {
    "deletable": false
   },
   "outputs": [],
   "source": [
    "# we have done this for you\n",
    "# make sure you understand what this function is doing, reach out to a PM/TA if needed\n",
    "\n",
    "def scatter_plot(df, x, y):\n",
    "    \"\"\"scatter_plot(df, x, y) takes in a DataFrame 'df' and displays \n",
    "    a scatter plot with the column 'x' as the x-axis, and the column\n",
    "    'y' as the y-axis\"\"\"\n",
    "    ax = df.plot.scatter(x=x, y=y, color='black', legend=False)\n",
    "    ax.set_xlabel(x)\n",
    "    ax.set_ylabel(y)\n",
    "    plt.show()\n"
   ]
  },
  {
   "cell_type": "markdown",
   "id": "8669fe94-a75c-448a-8e1b-2de93dc4c9a5",
   "metadata": {
    "deletable": false,
    "editable": false
   },
   "source": [
    "#### **Lab Question 10:** Use a **scatter plot** to plot the relationship between `Employer Reputation` and `Academic Reputation` in *2022*."
   ]
  },
  {
   "cell_type": "markdown",
   "id": "b91ec7a6-35e8-4560-87ab-95865cccda6b",
   "metadata": {
    "deletable": false,
    "editable": false
   },
   "source": [
    "We will first compute the **DataFrame** with the required data. We will plot it later.\n",
    "\n",
    "* Write a SQL query to **select** rows from the database where the `Year` is *2022*.\n",
    "* Save the resulting **DataFrame** with **two** columns: `Employer Reputation` and `Academic Reputation`."
   ]
  },
  {
   "cell_type": "markdown",
   "id": "0efd5233-df56-42c5-9fcc-e5cf8bb425b0",
   "metadata": {
    "deletable": false,
    "editable": false
   },
   "source": [
    "Points possible: 8.0"
   ]
  },
  {
   "cell_type": "code",
   "execution_count": 92,
   "id": "c11097c6-f825-4a72-ab48-fd0859abd8fd",
   "metadata": {
    "deletable": false,
    "editable": true,
    "tags": [
     "lab-q10-code"
    ]
   },
   "outputs": [
    {
     "data": {
      "text/html": [
       "<div>\n",
       "<style scoped>\n",
       "    .dataframe tbody tr th:only-of-type {\n",
       "        vertical-align: middle;\n",
       "    }\n",
       "\n",
       "    .dataframe tbody tr th {\n",
       "        vertical-align: top;\n",
       "    }\n",
       "\n",
       "    .dataframe thead th {\n",
       "        text-align: right;\n",
       "    }\n",
       "</style>\n",
       "<table border=\"1\" class=\"dataframe\">\n",
       "  <thead>\n",
       "    <tr style=\"text-align: right;\">\n",
       "      <th></th>\n",
       "      <th>Employer Reputation</th>\n",
       "      <th>Academic Reputation</th>\n",
       "    </tr>\n",
       "  </thead>\n",
       "  <tbody>\n",
       "    <tr>\n",
       "      <th>0</th>\n",
       "      <td>100.0</td>\n",
       "      <td>100.0</td>\n",
       "    </tr>\n",
       "    <tr>\n",
       "      <th>1</th>\n",
       "      <td>100.0</td>\n",
       "      <td>100.0</td>\n",
       "    </tr>\n",
       "    <tr>\n",
       "      <th>2</th>\n",
       "      <td>100.0</td>\n",
       "      <td>100.0</td>\n",
       "    </tr>\n",
       "    <tr>\n",
       "      <th>3</th>\n",
       "      <td>100.0</td>\n",
       "      <td>100.0</td>\n",
       "    </tr>\n",
       "    <tr>\n",
       "      <th>4</th>\n",
       "      <td>100.0</td>\n",
       "      <td>100.0</td>\n",
       "    </tr>\n",
       "  </tbody>\n",
       "</table>\n",
       "</div>"
      ],
      "text/plain": [
       "   Employer Reputation  Academic Reputation\n",
       "0                100.0                100.0\n",
       "1                100.0                100.0\n",
       "2                100.0                100.0\n",
       "3                100.0                100.0\n",
       "4                100.0                100.0"
      ]
     },
     "execution_count": 92,
     "metadata": {},
     "output_type": "execute_result"
    }
   ],
   "source": [
    "# first compute and store the DataFrame in variable table_2022, then display its head\n",
    "# but do NOT plot just yet\n",
    "\n",
    "table_2022 = pd.read_sql(\n",
    "    \"SELECT `Employer Reputation`, `Academic Reputation` \"\n",
    "    \"FROM rankings WHERE `Year` = 2022\",\n",
    "    conn\n",
    ")\n",
    "\n",
    "table_2022.head()"
   ]
  },
  {
   "cell_type": "code",
   "execution_count": 93,
   "id": "ce1002a8-105b-4c09-9a4b-9afa5627949d",
   "metadata": {
    "deletable": false,
    "editable": true
   },
   "outputs": [
    {
     "name": "stdout",
     "output_type": "stream",
     "text": [
      "Make sure you saved the notebook before running this cell. Running check for lab-q10...\n",
      "Great job! You passed all test cases for this question.\n"
     ]
    },
    {
     "data": {
      "text/plain": [
       "True"
      ]
     },
     "execution_count": 93,
     "metadata": {},
     "output_type": "execute_result"
    }
   ],
   "source": [
    "student_grader.check(\"lab-q10\", should_get_llm_feedback=False)"
   ]
  },
  {
   "cell_type": "markdown",
   "id": "e44a467e",
   "metadata": {
    "deletable": false,
    "editable": false
   },
   "source": [
    "With the `scatter_plot` function defined, you are ready to create the required plot. Call `scatter_plot`, passing in `Employer Reputation` and `Academic Reputation` as the `x` and `y` arguments.\n",
    "\n",
    "Your plot should look like this:\n",
    "\n",
    "<div style=\"text-align: center;\"><img src=\"images/scatter_plot.jpg\" style=\"height: 400px;\"/></div>\n",
    "\n",
    "Make sure that the plot is labelled exactly as in the image here."
   ]
  },
  {
   "cell_type": "code",
   "execution_count": 97,
   "id": "2ef617ff",
   "metadata": {
    "deletable": false
   },
   "outputs": [
    {
     "data": {
      "image/png": "[encoded data removed]",
      "text/plain": [
       "<Figure size 640x480 with 1 Axes>"
      ]
     },
     "metadata": {},
     "output_type": "display_data"
    }
   ],
   "source": [
    "# create the scatter plot using table_2022\n",
    "# verify that this plot matches exactly with the image shown above\n",
    "\n",
    "scatter_plot(table_2022, x='Employer Reputation', y='Academic Reputation')\n"
   ]
  },
  {
   "cell_type": "markdown",
   "id": "b18b197f-bc39-4304-a395-c87e2bb0aa65",
   "metadata": {
    "deletable": false,
    "editable": false
   },
   "source": [
    "### Function 3: `horizontal_bar_plot`"
   ]
  },
  {
   "cell_type": "markdown",
   "id": "be2be8eb-92fa-4e71-aa38-02c8f6bf8b70",
   "metadata": {
    "deletable": false,
    "editable": false
   },
   "source": [
    "Let us now create a general function for creating horizontal bar plots."
   ]
  },
  {
   "cell_type": "code",
   "execution_count": 101,
   "id": "6a343092-4140-4bc3-a5d3-09b98fd233d8",
   "metadata": {
    "deletable": false
   },
   "outputs": [],
   "source": [
    "# we have done this one for you\n",
    "\n",
    "def horizontal_bar_plot(df, y):\n",
    "    \"\"\"horizontal_bar_plot(df, y) takes in a DataFrame 'df' and displays \n",
    "    a horizontal bar plot with the column 'y' as the y-axis, and all\n",
    "    other columns of 'df' on the x-axis\"\"\"\n",
    "    df = df.set_index(y)\n",
    "    ax = df.plot.barh()\n",
    "    ax.legend(loc='center left', bbox_to_anchor=(1, 0.9))\n",
    "    plt.show()"
   ]
  },
  {
   "cell_type": "markdown",
   "id": "23057056-f095-47a1-8524-0addd4b61d70",
   "metadata": {
    "deletable": false,
    "editable": false
   },
   "source": [
    "#### **Lab Question 11:** Make a **horizontal bar plot** of **average** `Employer Reputation` and **average** `Faculty Student` across all years."
   ]
  },
  {
   "cell_type": "markdown",
   "id": "80d12c9d-8754-41d4-8885-8630d6d499b9",
   "metadata": {
    "deletable": false,
    "editable": false
   },
   "source": [
    "We will first compute the **DataFrame** with the required data. We will plot it later.\n",
    "\n",
    "* Write a SQL query to select `Year`, **average** `Employer Reputation`, and **average** `Faculty Student` grouped by `Year`.\n",
    "* Save the resulting **DataFrame** with **three** columns: `Year`, the **average** of the `Employer Reputation` and the **average** of the `Faculty Student`."
   ]
  },
  {
   "cell_type": "markdown",
   "id": "73522bfe-f663-4e3b-ae47-ae088dad38cc",
   "metadata": {
    "deletable": false,
    "editable": false
   },
   "source": [
    "Points possible: 8.0"
   ]
  },
  {
   "cell_type": "code",
   "execution_count": 119,
   "id": "235135dc-be87-43a4-b42c-84ae6c3dc42a",
   "metadata": {
    "deletable": false,
    "editable": true,
    "tags": [
     "lab-q11-code"
    ]
   },
   "outputs": [
    {
     "data": {
      "text/html": [
       "<div>\n",
       "<style scoped>\n",
       "    .dataframe tbody tr th:only-of-type {\n",
       "        vertical-align: middle;\n",
       "    }\n",
       "\n",
       "    .dataframe tbody tr th {\n",
       "        vertical-align: top;\n",
       "    }\n",
       "\n",
       "    .dataframe thead th {\n",
       "        text-align: right;\n",
       "    }\n",
       "</style>\n",
       "<table border=\"1\" class=\"dataframe\">\n",
       "  <thead>\n",
       "    <tr style=\"text-align: right;\">\n",
       "      <th></th>\n",
       "      <th>Year</th>\n",
       "      <th>AVG(`Employer Reputation`)</th>\n",
       "      <th>AVG(`Faculty Student`)</th>\n",
       "    </tr>\n",
       "  </thead>\n",
       "  <tbody>\n",
       "    <tr>\n",
       "      <th>0</th>\n",
       "      <td>2022</td>\n",
       "      <td>40.2770</td>\n",
       "      <td>49.1180</td>\n",
       "    </tr>\n",
       "    <tr>\n",
       "      <th>1</th>\n",
       "      <td>2023</td>\n",
       "      <td>39.6572</td>\n",
       "      <td>48.9296</td>\n",
       "    </tr>\n",
       "    <tr>\n",
       "      <th>2</th>\n",
       "      <td>2024</td>\n",
       "      <td>39.7314</td>\n",
       "      <td>41.0410</td>\n",
       "    </tr>\n",
       "  </tbody>\n",
       "</table>\n",
       "</div>"
      ],
      "text/plain": [
       "   Year  AVG(`Employer Reputation`)  AVG(`Faculty Student`)\n",
       "0  2022                     40.2770                 49.1180\n",
       "1  2023                     39.6572                 48.9296\n",
       "2  2024                     39.7314                 41.0410"
      ]
     },
     "execution_count": 119,
     "metadata": {},
     "output_type": "execute_result"
    }
   ],
   "source": [
    "table_2022_3_columns = pd.read_sql(\n",
    "    \"SELECT `Year`, AVG(`Employer Reputation`) AS 'AVG(`Employer Reputation`)', \"\n",
    "    \"AVG(`Faculty Student`) AS 'AVG(`Faculty Student`)' \"\n",
    "    \"FROM rankings GROUP BY `Year`\",\n",
    "    conn\n",
    ")\n",
    "\n",
    "table_2022_3_columns"
   ]
  },
  {
   "cell_type": "code",
   "execution_count": 120,
   "id": "312e9100-25fa-4c3d-9316-99810d14e928",
   "metadata": {
    "deletable": false,
    "editable": true
   },
   "outputs": [
    {
     "name": "stdout",
     "output_type": "stream",
     "text": [
      "Make sure you saved the notebook before running this cell. Running check for lab-q11...\n",
      "Great job! You passed all test cases for this question.\n"
     ]
    },
    {
     "data": {
      "text/plain": [
       "True"
      ]
     },
     "execution_count": 120,
     "metadata": {},
     "output_type": "execute_result"
    }
   ],
   "source": [
    "student_grader.check(\"lab-q11\", should_get_llm_feedback=False)"
   ]
  },
  {
   "cell_type": "markdown",
   "id": "416b8734",
   "metadata": {
    "deletable": false,
    "editable": false
   },
   "source": [
    "Now, use the `horizontal_bar_plot` function to create the required plot. Call `horizontal_bar_plot`, passing in `Year` as the `y` argument.\n",
    "\n",
    "Your plot should look like this:\n",
    "\n",
    "<div style=\"text-align: center;\"><img src=\"images/horizontal_bar_plot.jpg\" style=\"height: 400px;\"/></div>\n",
    "\n",
    "Make sure that the plot is labelled exactly as in the image here."
   ]
  },
  {
   "cell_type": "code",
   "execution_count": 127,
   "id": "bc779e0b",
   "metadata": {
    "deletable": false
   },
   "outputs": [
    {
     "data": {
      "image/png": "[encoded data removed]",
      "text/plain": [
       "<Figure size 640x480 with 1 Axes>"
      ]
     },
     "metadata": {},
     "output_type": "display_data"
    }
   ],
   "source": [
    "# create the horizontal bar plot using table_2022_3_columns\n",
    "# verify that this plot matches exactly with the image shown above\n",
    "\n",
    "horizontal_bar_plot(table_2022_3_columns, y='Year')\n"
   ]
  },
  {
   "cell_type": "markdown",
   "id": "42b4243b-3848-42ae-a25d-c7c2a6988142",
   "metadata": {
    "deletable": false,
    "editable": false
   },
   "source": [
    "### Function 4: `pie_plot`"
   ]
  },
  {
   "cell_type": "markdown",
   "id": "254ed472-02aa-4a4b-b115-3cca9277bbaf",
   "metadata": {
    "deletable": false,
    "editable": false
   },
   "source": [
    "Let us now create a general function for creating pie plots."
   ]
  },
  {
   "cell_type": "code",
   "execution_count": 131,
   "id": "198cc331-15a5-4f68-bcba-85a1b7f9cd86",
   "metadata": {
    "deletable": false
   },
   "outputs": [],
   "source": [
    "# we have done this one for you\n",
    "\n",
    "def pie_plot(df, x, y, title=None):\n",
    "    \"\"\"pie_plot(df, x, y, title) takes in a DataFrame 'df' and displays \n",
    "    a pie plot with the column 'x' as the x-axis, the (numeric) column\n",
    "    'y' as the y-axis, and the 'title' as the title of the plot\"\"\"\n",
    "    df = df.set_index(x)\n",
    "    ax = df.plot.pie(y=y, legend=False)\n",
    "    ax.set_ylabel(None)\n",
    "    ax.set_title(title)\n",
    "    plt.show()"
   ]
  },
  {
   "cell_type": "markdown",
   "id": "4e9d58d3-627f-444f-a9c0-abd6160a39cb",
   "metadata": {
    "deletable": false,
    "editable": false
   },
   "source": [
    "#### **Lab Question 12**: Display a **pie chart** of the average overall score of the top 10 countries in descending order."
   ]
  },
  {
   "cell_type": "markdown",
   "id": "9e2ffb53",
   "metadata": {
    "deletable": false,
    "editable": false
   },
   "source": [
    "We will first compute the **DataFrame** with the required data. We will plot it later.\n",
    "\n",
    "* Write a SQL query to select the **top** *10* countries based on **average** `Overall`.\n",
    "* Save the resulting **DataFrame** with **two** columns: `Country`, and the **average** of the `Overall`.\n",
    "\n",
    "**Hint:** If you are having trouble writing the SQL query, take a look at **Question 5**.\n",
    "\n",
    "Select the average of the Overall column as `Average Score` since the grader is looking for this column."
   ]
  },
  {
   "cell_type": "markdown",
   "id": "10f1bb02-cf93-4d22-b53a-a930fd222cd0",
   "metadata": {
    "deletable": false,
    "editable": false
   },
   "source": [
    "Points possible: 8.0"
   ]
  },
  {
   "cell_type": "code",
   "execution_count": 136,
   "id": "777d3b49",
   "metadata": {
    "deletable": false,
    "editable": true,
    "tags": [
     "lab-q12-code"
    ]
   },
   "outputs": [
    {
     "data": {
      "text/html": [
       "<div>\n",
       "<style scoped>\n",
       "    .dataframe tbody tr th:only-of-type {\n",
       "        vertical-align: middle;\n",
       "    }\n",
       "\n",
       "    .dataframe tbody tr th {\n",
       "        vertical-align: top;\n",
       "    }\n",
       "\n",
       "    .dataframe thead th {\n",
       "        text-align: right;\n",
       "    }\n",
       "</style>\n",
       "<table border=\"1\" class=\"dataframe\">\n",
       "  <thead>\n",
       "    <tr style=\"text-align: right;\">\n",
       "      <th></th>\n",
       "      <th>Country</th>\n",
       "      <th>Average Score</th>\n",
       "    </tr>\n",
       "  </thead>\n",
       "  <tbody>\n",
       "    <tr>\n",
       "      <th>0</th>\n",
       "      <td>Singapore</td>\n",
       "      <td>81.328571</td>\n",
       "    </tr>\n",
       "    <tr>\n",
       "      <th>1</th>\n",
       "      <td>Hong Kong SAR</td>\n",
       "      <td>69.883333</td>\n",
       "    </tr>\n",
       "    <tr>\n",
       "      <th>2</th>\n",
       "      <td>Switzerland</td>\n",
       "      <td>58.638462</td>\n",
       "    </tr>\n",
       "    <tr>\n",
       "      <th>3</th>\n",
       "      <td>United Kingdom</td>\n",
       "      <td>52.244056</td>\n",
       "    </tr>\n",
       "    <tr>\n",
       "      <th>4</th>\n",
       "      <td>United States</td>\n",
       "      <td>51.186905</td>\n",
       "    </tr>\n",
       "    <tr>\n",
       "      <th>5</th>\n",
       "      <td>Netherlands</td>\n",
       "      <td>50.956410</td>\n",
       "    </tr>\n",
       "    <tr>\n",
       "      <th>6</th>\n",
       "      <td>Sweden</td>\n",
       "      <td>49.875000</td>\n",
       "    </tr>\n",
       "    <tr>\n",
       "      <th>7</th>\n",
       "      <td>Mexico</td>\n",
       "      <td>49.842857</td>\n",
       "    </tr>\n",
       "    <tr>\n",
       "      <th>8</th>\n",
       "      <td>Australia</td>\n",
       "      <td>49.510390</td>\n",
       "    </tr>\n",
       "    <tr>\n",
       "      <th>9</th>\n",
       "      <td>Japan</td>\n",
       "      <td>49.445652</td>\n",
       "    </tr>\n",
       "  </tbody>\n",
       "</table>\n",
       "</div>"
      ],
      "text/plain": [
       "          Country  Average Score\n",
       "0       Singapore      81.328571\n",
       "1   Hong Kong SAR      69.883333\n",
       "2     Switzerland      58.638462\n",
       "3  United Kingdom      52.244056\n",
       "4   United States      51.186905\n",
       "5     Netherlands      50.956410\n",
       "6          Sweden      49.875000\n",
       "7          Mexico      49.842857\n",
       "8       Australia      49.510390\n",
       "9           Japan      49.445652"
      ]
     },
     "execution_count": 136,
     "metadata": {},
     "output_type": "execute_result"
    }
   ],
   "source": [
    "# first compute and store the DataFrame in variable top10_overall_score, then display it\n",
    "# but do NOT plot just yet\n",
    "\n",
    "top10_overall_score = pd.read_sql(\n",
    "    \"SELECT `Country`, AVG(`Overall`) AS `Average Score` \"\n",
    "    \"FROM rankings GROUP BY `Country` \"\n",
    "    \"ORDER BY `Average Score` DESC LIMIT 10\",\n",
    "    conn\n",
    ")\n",
    "\n",
    "top10_overall_score"
   ]
  },
  {
   "cell_type": "code",
   "execution_count": 137,
   "id": "69b7992c-7b35-4e7c-a4f8-1da89d859252",
   "metadata": {
    "deletable": false,
    "editable": true
   },
   "outputs": [
    {
     "name": "stdout",
     "output_type": "stream",
     "text": [
      "Make sure you saved the notebook before running this cell. Running check for lab-q12...\n",
      "Great job! You passed all test cases for this question.\n"
     ]
    },
    {
     "data": {
      "text/plain": [
       "True"
      ]
     },
     "execution_count": 137,
     "metadata": {},
     "output_type": "execute_result"
    }
   ],
   "source": [
    "student_grader.check(\"lab-q12\", should_get_llm_feedback=False)"
   ]
  },
  {
   "cell_type": "markdown",
   "id": "ddffdfa7-68a4-4198-9176-7bdf406ef87f",
   "metadata": {
    "deletable": false,
    "editable": false
   },
   "source": [
    "Now, use the `pie_plot` function to create the required plot.\n",
    "\n",
    "* Call `pie_plot`, passing in `Country` as the `x` argument, and `Average Score` as the `y` argument.\n",
    "* Your plot must also have the **title** `Countries with top 10 Overall` as in the image.\n",
    "\n",
    "Your plot should look like this:\n",
    "\n",
    "<div style=\"text-align: center;\"><img src=\"images/pie_plot.jpg\" style=\"height: 400px;\"/></div>"
   ]
  },
  {
   "cell_type": "code",
   "execution_count": 141,
   "id": "0b7daf5d-4d03-406f-80b5-95788c8b2929",
   "metadata": {
    "deletable": false
   },
   "outputs": [
    {
     "data": {
      "image/png": "[encoded data removed]",
      "text/plain": [
       "<Figure size 640x480 with 1 Axes>"
      ]
     },
     "metadata": {},
     "output_type": "display_data"
    }
   ],
   "source": [
    "# create the pie plot using `top10_overall_score`\n",
    "# verify that this plot matches exactly with the image shown above\n",
    "\n",
    "pie_plot(top10_overall_score, x='Country', y='Average Score', title='Countries with top 10 Overall')\n"
   ]
  },
  {
   "cell_type": "markdown",
   "id": "400a28d1-2ed2-4b2f-b940-c9b1f51ead0c",
   "metadata": {
    "deletable": false,
    "editable": false
   },
   "source": [
    "### Function 5: `get_regression_coeff`"
   ]
  },
  {
   "cell_type": "markdown",
   "id": "7c50c1bf-4389-4c01-8e8b-1884a9a2da8d",
   "metadata": {
    "deletable": false,
    "editable": false
   },
   "source": [
    "Let us now create some general functions for creating regression line plots."
   ]
  },
  {
   "cell_type": "code",
   "execution_count": 147,
   "id": "1599f0d0-81ed-403a-b6f0-71708ec4212b",
   "metadata": {
    "deletable": false
   },
   "outputs": [],
   "source": [
    "# we have defined this function for you\n",
    "\n",
    "def get_regression_coeff(df, x, y):\n",
    "    \"\"\"get_regression_coeff(df, x, y) takes in a DataFrame 'df' and returns \n",
    "    the slope (m) and the y-intercept (b) of the line of best fit in the\n",
    "    plot with the column 'x' as the x-axis, and the column 'y' as the y-axis\"\"\"\n",
    "    df[\"1\"] = 1\n",
    "    res = np.linalg.lstsq(df[[x, \"1\"]], df[y], rcond=None)\n",
    "    coefficients = res[0]\n",
    "    m = coefficients[0]\n",
    "    b = coefficients[1]\n",
    "    return (m, b)"
   ]
  },
  {
   "cell_type": "markdown",
   "id": "6884eefd-24d2-45e6-847e-efdf922a7165",
   "metadata": {
    "deletable": false,
    "editable": false
   },
   "source": [
    "### Function 6: `get_regression_line`"
   ]
  },
  {
   "cell_type": "markdown",
   "id": "a0078085-b7cf-4df3-9a77-aca11e84cbb5",
   "metadata": {
    "deletable": false,
    "editable": false
   },
   "source": [
    "Points possible: 4.0"
   ]
  },
  {
   "cell_type": "code",
   "execution_count": 151,
   "id": "f665033b-fe59-463a-8066-21262a59cd13",
   "metadata": {
    "deletable": false,
    "editable": true,
    "tags": [
     "lab-get_regression_line-code"
    ]
   },
   "outputs": [],
   "source": [
    "# you must define this function to compute the best fit line\n",
    "\n",
    "def get_regression_line(df, x, y):\n",
    "    \"\"\"get_regression_line(df, x, y) takes in a DataFrame 'df' and returns \n",
    "    a DataFrame with an additional column \"fit\" of the line of best fit in the\n",
    "    plot with the column 'x' as the x-axis, and the column 'y' as the y-axis\"\"\"\n",
    "    \n",
    "    m, b = get_regression_coeff(df, x, y)\n",
    "    \n",
    "    df['fit'] = m * df[x] + b\n",
    "    \n",
    "    return df"
   ]
  },
  {
   "cell_type": "code",
   "execution_count": 152,
   "id": "0ee3a96d-632b-42e3-93dd-dc6d7f9c6e3f",
   "metadata": {
    "deletable": false,
    "editable": true
   },
   "outputs": [
    {
     "name": "stdout",
     "output_type": "stream",
     "text": [
      "Make sure you saved the notebook before running this cell. Running check for lab-get_regression_line...\n",
      "Great job! You passed all test cases for this question.\n"
     ]
    },
    {
     "data": {
      "text/plain": [
       "True"
      ]
     },
     "execution_count": 152,
     "metadata": {},
     "output_type": "execute_result"
    }
   ],
   "source": [
    "student_grader.check(\"lab-get_regression_line\", should_get_llm_feedback=False)"
   ]
  },
  {
   "cell_type": "markdown",
   "id": "72d6fd12-9d67-48e0-a2eb-148ebf0e5968",
   "metadata": {
    "deletable": false,
    "editable": false
   },
   "source": [
    "### Function 7: `regression_line_plot`"
   ]
  },
  {
   "cell_type": "code",
   "execution_count": 155,
   "id": "51d939a1-6f2c-4510-845a-d46cf176d5fc",
   "metadata": {
    "deletable": false
   },
   "outputs": [],
   "source": [
    "# this function plots the best fit line on the scatter plot\n",
    "# we have defined this for you\n",
    "\n",
    "def regression_line_plot(df, x, y):\n",
    "    \"\"\"regression_line_plot(df, x, y) takes in a DataFrame 'df' and displays\n",
    "    a scatter plot with the column 'x' as the x-axis, and the column\n",
    "    'y' as the y-axis, as well as the best fit line for the plot\"\"\"\n",
    "    # use 'get_regression_line' to get the data for the best fit line.\n",
    "    df = get_regression_line(df, x, y)\n",
    "    # use df.plot.scatter (not scatter_plot) to plot the x and y columns\n",
    "    # of 'df' in black color.\n",
    "    # save the return value of df.plot.scatter to a variable called 'ax'\n",
    "    ax = df.plot.scatter(x=x, y=y, color='black')\n",
    "    # use df.plot.line to plot the fitted line in red,\n",
    "    # using ax=ax as a keyword argument.\n",
    "    # this ensures that both the scatter plot and line end up on the same plot\n",
    "    # play careful attention to what the 'x' and 'y' arguments ought to be\n",
    "    df.plot.line(x=x, y='fit', c='red', ax=ax)\n",
    "    plt.show()"
   ]
  },
  {
   "cell_type": "markdown",
   "id": "c89e111c",
   "metadata": {
    "deletable": false,
    "editable": false
   },
   "source": [
    "Now, call `regression_line_plot` on your data from **Question 10** to show the correlation between `Employer Reputation` and `Academic Reputation`.\n",
    "\n",
    "Your line of best fit should look like this:\n",
    "\n",
    "<div style=\"text-align: center;\"><img src=\"images/regression_line_plot.jpg\" style=\"height: 400px;\"/></div>\n",
    "    \n",
    "Make sure that the plot is labelled exactly as in the image here."
   ]
  },
  {
   "cell_type": "code",
   "execution_count": 158,
   "id": "065d0ef5",
   "metadata": {
    "deletable": false
   },
   "outputs": [
    {
     "data": {
      "image/png": "[encoded data removed]",
      "text/plain": [
       "<Figure size 640x480 with 1 Axes>"
      ]
     },
     "metadata": {},
     "output_type": "display_data"
    }
   ],
   "source": [
    "# create the scatter plot with the best fit line using `table_2022` from Question 10\n",
    "# verify that this plot matches exactly with the image shown above\n",
    "\n",
    "regression_line_plot(table_2022, x='Employer Reputation', y='Academic Reputation')\n"
   ]
  },
  {
   "cell_type": "markdown",
   "id": "bdb5cdb7",
   "metadata": {
    "deletable": false,
    "editable": false
   },
   "source": [
    "### Section 4: Closing the connection\n",
    "\n",
    "Now that you are done with your database, it is very important to close it."
   ]
  },
  {
   "cell_type": "code",
   "execution_count": 160,
   "id": "65557b40",
   "metadata": {
    "deletable": false
   },
   "outputs": [],
   "source": [
    "# close your connection here\n",
    "\n",
    "# we have done this one for you\n",
    "conn.close()"
   ]
  },
  {
   "cell_type": "markdown",
   "id": "3ce575b8-a491-4d38-9d6b-14427af78ba0",
   "metadata": {
    "deletable": false,
    "editable": false
   },
   "source": [
    "### Submitting the lab"
   ]
  },
  {
   "cell_type": "markdown",
   "id": "54e42d99-1b15-47b0-82c2-8b92b02a967e",
   "metadata": {
    "deletable": false,
    "editable": false
   },
   "source": [
    "Submit your `p13.ipynb` on Gradescope to the lab-p13 assignment, like usual. Remember that the grades for the lab portion of the project and the actual assignment grade are independent. You will submit the same notebook (at different levels of completion) to two different assignments."
   ]
  },
  {
   "cell_type": "markdown",
   "id": "f31d6067-fc38-4c25-8c3f-19e8ab76427d",
   "metadata": {
    "deletable": false,
    "editable": false
   },
   "source": [
    "## Project Portion (19 questions)"
   ]
  },
  {
   "cell_type": "markdown",
   "id": "64de9d3a-7129-415d-96fd-01905ff516d9",
   "metadata": {
    "deletable": false,
    "editable": false
   },
   "source": [
    "### Project Requirements:"
   ]
  },
  {
   "cell_type": "markdown",
   "id": "8e005bf9-c718-45e0-a543-e21a1046cb83",
   "metadata": {
    "deletable": false,
    "editable": false
   },
   "source": [
    "You **may not** hardcode indices in your code. You **may not** manually download **any** files for this project, unless you are **explicitly** told to do so. For all other files, you **must** use the `download` function to download the files.\n",
    "\n",
    "**Store** your final answer for each question in the **variable specified for each question**. This step is important because the autograder grades your work by comparing the value of this variable against the correct answer.\n",
    "\n",
    "For some of the questions, we'll ask you to write (then use) a function to compute the answer. If you compute the answer **without** creating the function we ask you to write, we'll **manually deduct** points from your autograder score on Gradescope, even if the way you did it produced the correct answer.\n",
    "\n",
    "#### Required Functions:\n",
    "- `download`\n",
    "- `bar_plot`\n",
    "- `scatter_plot`\n",
    "- `horizontal_bar_plot`\n",
    "- `pie_plot`\n",
    "- `get_regression_coeff`\n",
    "- `get_regression_line`\n",
    "- `regression_line_plot`\n",
    "\n",
    "In this project, you will also be required to define certain **data structures**.\n",
    "\n",
    "#### Required Data Structures:\n",
    "- `conn`\n",
    "\n",
    "You **must** write SQL queries to solve the questions in this project, unless you are **explicitly** told otherwise. You will **not get any credit** if you use `pandas` operations to extract data. We will give you **specific** instructions for any questions where `pandas` operations are allowed. In addition, you are also **required** to follow the requirements below:\n",
    "\n",
    "* You **must** close the connection to `conn` at the end of your notebook.\n",
    "* Do **not** use **absolute** paths such as `C:\\\\mdoescher\\cs220\\p13`. You may **only** use **relative paths**.\n",
    "* Do **not** hardcode `/` or `\\\\` in any of your paths. You **must** use `os.path.join` to create paths.\n",
    "* Do **not** leave irrelevant output or test code that we didn't ask for.\n",
    "* **Avoid** calling **slow** functions multiple times within a loop.\n",
    "* Do **not** define multiple functions with the same name or define multiple versions of one function with different names. Just keep the best version."
   ]
  },
  {
   "cell_type": "markdown",
   "id": "02b56f4e-eb5d-4419-ae6f-04478380a9a0",
   "metadata": {
    "deletable": false,
    "editable": false
   },
   "source": [
    "### Data Structure 1: `conn`"
   ]
  },
  {
   "cell_type": "markdown",
   "id": "86337d45-4e80-4a83-8b86-824fc3be10e4",
   "metadata": {
    "deletable": false,
    "editable": false
   },
   "source": [
    "You **must** now create a **database** called `rankings.db` out of `rankings.json`, connect to it, and save it in a variable called `conn`. You **must** use this connection to the database `rankings.db` to answer the questions that follow."
   ]
  },
  {
   "cell_type": "code",
   "execution_count": 163,
   "id": "8a78c438-e8a2-4497-9eeb-4ed338c1df74",
   "metadata": {
    "deletable": false
   },
   "outputs": [
    {
     "data": {
      "text/plain": [
       "1500"
      ]
     },
     "execution_count": 163,
     "metadata": {},
     "output_type": "execute_result"
    }
   ],
   "source": [
    "# we have done this for you\n",
    "# this is the same process as in the lab\n",
    "download(\"https://cs220.cs.wisc.edu/projects/data/rankings2.json\", \"rankings.json\")\n",
    "rankings = pd.read_json(\"rankings.json\")\n",
    "conn = sqlite3.connect('rankings.db')\n",
    "rankings.to_sql(\"rankings\", conn, if_exists=\"replace\", index=False)"
   ]
  },
  {
   "cell_type": "code",
   "execution_count": 165,
   "id": "15383a50-cba7-4a56-829d-b597c5fe17a2",
   "metadata": {
    "deletable": false
   },
   "outputs": [
    {
     "data": {
      "text/html": [
       "<div>\n",
       "<style scoped>\n",
       "    .dataframe tbody tr th:only-of-type {\n",
       "        vertical-align: middle;\n",
       "    }\n",
       "\n",
       "    .dataframe tbody tr th {\n",
       "        vertical-align: top;\n",
       "    }\n",
       "\n",
       "    .dataframe thead th {\n",
       "        text-align: right;\n",
       "    }\n",
       "</style>\n",
       "<table border=\"1\" class=\"dataframe\">\n",
       "  <thead>\n",
       "    <tr style=\"text-align: right;\">\n",
       "      <th></th>\n",
       "      <th>Year</th>\n",
       "      <th>Rank</th>\n",
       "      <th>Institution Name</th>\n",
       "      <th>Country</th>\n",
       "      <th>Academic Reputation</th>\n",
       "      <th>Employer Reputation</th>\n",
       "      <th>Faculty Student</th>\n",
       "      <th>Citations per Faculty</th>\n",
       "      <th>International Faculty</th>\n",
       "      <th>International Students</th>\n",
       "      <th>International Research Network</th>\n",
       "      <th>Employment Outcomes</th>\n",
       "      <th>Sustainability</th>\n",
       "      <th>Overall</th>\n",
       "    </tr>\n",
       "  </thead>\n",
       "  <tbody>\n",
       "    <tr>\n",
       "      <th>0</th>\n",
       "      <td>2022</td>\n",
       "      <td>1</td>\n",
       "      <td>Massachusetts Institute of Technology (MIT)</td>\n",
       "      <td>United States</td>\n",
       "      <td>100.0</td>\n",
       "      <td>100.0</td>\n",
       "      <td>100.0</td>\n",
       "      <td>100.0</td>\n",
       "      <td>100.0</td>\n",
       "      <td>91.4</td>\n",
       "      <td>None</td>\n",
       "      <td>None</td>\n",
       "      <td>None</td>\n",
       "      <td>100.0</td>\n",
       "    </tr>\n",
       "    <tr>\n",
       "      <th>1</th>\n",
       "      <td>2022</td>\n",
       "      <td>2</td>\n",
       "      <td>University of Oxford</td>\n",
       "      <td>United Kingdom</td>\n",
       "      <td>100.0</td>\n",
       "      <td>100.0</td>\n",
       "      <td>100.0</td>\n",
       "      <td>96.0</td>\n",
       "      <td>99.5</td>\n",
       "      <td>98.5</td>\n",
       "      <td>None</td>\n",
       "      <td>None</td>\n",
       "      <td>None</td>\n",
       "      <td>99.5</td>\n",
       "    </tr>\n",
       "    <tr>\n",
       "      <th>2</th>\n",
       "      <td>2022</td>\n",
       "      <td>3</td>\n",
       "      <td>Stanford University</td>\n",
       "      <td>United States</td>\n",
       "      <td>100.0</td>\n",
       "      <td>100.0</td>\n",
       "      <td>100.0</td>\n",
       "      <td>99.9</td>\n",
       "      <td>99.8</td>\n",
       "      <td>67.0</td>\n",
       "      <td>None</td>\n",
       "      <td>None</td>\n",
       "      <td>None</td>\n",
       "      <td>98.7</td>\n",
       "    </tr>\n",
       "    <tr>\n",
       "      <th>3</th>\n",
       "      <td>2022</td>\n",
       "      <td>3</td>\n",
       "      <td>University of Cambridge</td>\n",
       "      <td>United Kingdom</td>\n",
       "      <td>100.0</td>\n",
       "      <td>100.0</td>\n",
       "      <td>100.0</td>\n",
       "      <td>92.1</td>\n",
       "      <td>100.0</td>\n",
       "      <td>97.7</td>\n",
       "      <td>None</td>\n",
       "      <td>None</td>\n",
       "      <td>None</td>\n",
       "      <td>98.7</td>\n",
       "    </tr>\n",
       "    <tr>\n",
       "      <th>4</th>\n",
       "      <td>2022</td>\n",
       "      <td>5</td>\n",
       "      <td>Harvard University</td>\n",
       "      <td>United States</td>\n",
       "      <td>100.0</td>\n",
       "      <td>100.0</td>\n",
       "      <td>99.1</td>\n",
       "      <td>100.0</td>\n",
       "      <td>84.2</td>\n",
       "      <td>70.1</td>\n",
       "      <td>None</td>\n",
       "      <td>None</td>\n",
       "      <td>None</td>\n",
       "      <td>98.0</td>\n",
       "    </tr>\n",
       "  </tbody>\n",
       "</table>\n",
       "</div>"
      ],
      "text/plain": [
       "   Year  Rank                              Institution Name         Country  \\\n",
       "0  2022     1  Massachusetts Institute of Technology (MIT)    United States   \n",
       "1  2022     2                          University of Oxford  United Kingdom   \n",
       "2  2022     3                           Stanford University   United States   \n",
       "3  2022     3                       University of Cambridge  United Kingdom   \n",
       "4  2022     5                            Harvard University   United States   \n",
       "\n",
       "   Academic Reputation  Employer Reputation  Faculty Student  \\\n",
       "0                100.0                100.0            100.0   \n",
       "1                100.0                100.0            100.0   \n",
       "2                100.0                100.0            100.0   \n",
       "3                100.0                100.0            100.0   \n",
       "4                100.0                100.0             99.1   \n",
       "\n",
       "   Citations per Faculty  International Faculty  International Students  \\\n",
       "0                  100.0                  100.0                    91.4   \n",
       "1                   96.0                   99.5                    98.5   \n",
       "2                   99.9                   99.8                    67.0   \n",
       "3                   92.1                  100.0                    97.7   \n",
       "4                  100.0                   84.2                    70.1   \n",
       "\n",
       "  International Research Network Employment Outcomes Sustainability  Overall  \n",
       "0                           None                None           None    100.0  \n",
       "1                           None                None           None     99.5  \n",
       "2                           None                None           None     98.7  \n",
       "3                           None                None           None     98.7  \n",
       "4                           None                None           None     98.0  "
      ]
     },
     "execution_count": 165,
     "metadata": {},
     "output_type": "execute_result"
    }
   ],
   "source": [
    "# run this cell and confirm that you have defined the variables correctly\n",
    "pd.read_sql(\"SELECT * FROM rankings LIMIT 5\", conn)"
   ]
  },
  {
   "cell_type": "markdown",
   "id": "b133a818-c3c5-4632-b683-29d2d89b2138",
   "metadata": {
    "deletable": false,
    "editable": false
   },
   "source": [
    "#### **Question 1:** List **all** the statistics of the institution with the `Institution Name` *University of Wisconsin-Madison*. "
   ]
  },
  {
   "cell_type": "markdown",
   "id": "77b6dbf0-1767-410b-a825-0750446b4bb1",
   "metadata": {
    "deletable": false,
    "editable": false
   },
   "source": [
    "You **must** display **all** the columns. The rows **must** be in *ascending* order of `Year`.\n",
    "\n",
    "Your output **must** be a **DataFrame** that looks like this:\n",
    "\n",
    "||**Year**|**Rank**|**Institution Name**|**Country**|**Academic Reputation**|**Employer Reputation**|**Faculty Student**|**Citations per Faculty**|**International Faculty**|**International Students**|**International Research Network**|**Employment Outcomes**|**Sustainability**|**Overall**|\n",
    "|---|---|---|---|---|---|---|---|---|---|---|---|---|---|---|\n",
    "|**0**|2022|75|University of Wisconsin-Madison|United States|83.4|52.8|69.2|58.4|8.1|27.5|nan|nan|nan|66.2|\n",
    "|**1**|2023|83|University of Wisconsin-Madison|United States|82.4|48.1|70.6|41.9|37.7|23.8|93.2|84.6|nan|63.7|\n",
    "|**2**|2024|102|University of Wisconsin-Madison|United States|80.2|47.8|61.3|37.4|30.9|22.8|83.6|73.1|83.7|60.0|"
   ]
  },
  {
   "cell_type": "markdown",
   "id": "e478811a-3d5b-4cc3-9d30-88e92274f0d9",
   "metadata": {
    "deletable": false,
    "editable": false
   },
   "source": [
    "Points possible: 5.0"
   ]
  },
  {
   "cell_type": "code",
   "execution_count": 167,
   "id": "ec394d60-b93c-4fa1-b6de-3c5cc340a06f",
   "metadata": {
    "deletable": false,
    "editable": true,
    "tags": [
     "q1-code"
    ]
   },
   "outputs": [
    {
     "data": {
      "text/html": [
       "<div>\n",
       "<style scoped>\n",
       "    .dataframe tbody tr th:only-of-type {\n",
       "        vertical-align: middle;\n",
       "    }\n",
       "\n",
       "    .dataframe tbody tr th {\n",
       "        vertical-align: top;\n",
       "    }\n",
       "\n",
       "    .dataframe thead th {\n",
       "        text-align: right;\n",
       "    }\n",
       "</style>\n",
       "<table border=\"1\" class=\"dataframe\">\n",
       "  <thead>\n",
       "    <tr style=\"text-align: right;\">\n",
       "      <th></th>\n",
       "      <th>Year</th>\n",
       "      <th>Rank</th>\n",
       "      <th>Institution Name</th>\n",
       "      <th>Country</th>\n",
       "      <th>Academic Reputation</th>\n",
       "      <th>Employer Reputation</th>\n",
       "      <th>Faculty Student</th>\n",
       "      <th>Citations per Faculty</th>\n",
       "      <th>International Faculty</th>\n",
       "      <th>International Students</th>\n",
       "      <th>International Research Network</th>\n",
       "      <th>Employment Outcomes</th>\n",
       "      <th>Sustainability</th>\n",
       "      <th>Overall</th>\n",
       "    </tr>\n",
       "  </thead>\n",
       "  <tbody>\n",
       "    <tr>\n",
       "      <th>0</th>\n",
       "      <td>2022</td>\n",
       "      <td>75</td>\n",
       "      <td>University of Wisconsin-Madison</td>\n",
       "      <td>United States</td>\n",
       "      <td>83.4</td>\n",
       "      <td>52.8</td>\n",
       "      <td>69.2</td>\n",
       "      <td>58.4</td>\n",
       "      <td>8.1</td>\n",
       "      <td>27.5</td>\n",
       "      <td>NaN</td>\n",
       "      <td>NaN</td>\n",
       "      <td>NaN</td>\n",
       "      <td>66.2</td>\n",
       "    </tr>\n",
       "    <tr>\n",
       "      <th>1</th>\n",
       "      <td>2023</td>\n",
       "      <td>83</td>\n",
       "      <td>University of Wisconsin-Madison</td>\n",
       "      <td>United States</td>\n",
       "      <td>82.4</td>\n",
       "      <td>48.1</td>\n",
       "      <td>70.6</td>\n",
       "      <td>41.9</td>\n",
       "      <td>37.7</td>\n",
       "      <td>23.8</td>\n",
       "      <td>93.2</td>\n",
       "      <td>84.6</td>\n",
       "      <td>NaN</td>\n",
       "      <td>63.7</td>\n",
       "    </tr>\n",
       "    <tr>\n",
       "      <th>2</th>\n",
       "      <td>2024</td>\n",
       "      <td>102</td>\n",
       "      <td>University of Wisconsin-Madison</td>\n",
       "      <td>United States</td>\n",
       "      <td>80.2</td>\n",
       "      <td>47.8</td>\n",
       "      <td>61.3</td>\n",
       "      <td>37.4</td>\n",
       "      <td>30.9</td>\n",
       "      <td>22.8</td>\n",
       "      <td>83.6</td>\n",
       "      <td>73.1</td>\n",
       "      <td>83.7</td>\n",
       "      <td>60.0</td>\n",
       "    </tr>\n",
       "  </tbody>\n",
       "</table>\n",
       "</div>"
      ],
      "text/plain": [
       "   Year  Rank                 Institution Name        Country  \\\n",
       "0  2022    75  University of Wisconsin-Madison  United States   \n",
       "1  2023    83  University of Wisconsin-Madison  United States   \n",
       "2  2024   102  University of Wisconsin-Madison  United States   \n",
       "\n",
       "   Academic Reputation  Employer Reputation  Faculty Student  \\\n",
       "0                 83.4                 52.8             69.2   \n",
       "1                 82.4                 48.1             70.6   \n",
       "2                 80.2                 47.8             61.3   \n",
       "\n",
       "   Citations per Faculty  International Faculty  International Students  \\\n",
       "0                   58.4                    8.1                    27.5   \n",
       "1                   41.9                   37.7                    23.8   \n",
       "2                   37.4                   30.9                    22.8   \n",
       "\n",
       "   International Research Network  Employment Outcomes  Sustainability  \\\n",
       "0                             NaN                  NaN             NaN   \n",
       "1                            93.2                 84.6             NaN   \n",
       "2                            83.6                 73.1            83.7   \n",
       "\n",
       "   Overall  \n",
       "0     66.2  \n",
       "1     63.7  \n",
       "2     60.0  "
      ]
     },
     "execution_count": 167,
     "metadata": {},
     "output_type": "execute_result"
    }
   ],
   "source": [
    "# compute and store the answer in the variable 'uw_stats', then display it\n",
    "\n",
    "uw_stats = pd.read_sql(\n",
    "    \"SELECT * FROM rankings WHERE `Institution Name` = 'University of Wisconsin-Madison' \"\n",
    "    \"ORDER BY `Year` ASC\",\n",
    "    conn\n",
    ")\n",
    "\n",
    "uw_stats"
   ]
  },
  {
   "cell_type": "code",
   "execution_count": 168,
   "id": "d43a7519-7750-476c-bbef-c75f13217f71",
   "metadata": {
    "deletable": false,
    "editable": true
   },
   "outputs": [
    {
     "name": "stdout",
     "output_type": "stream",
     "text": [
      "Make sure you saved the notebook before running this cell. Running check for q1...\n",
      "Great job! You passed all test cases for this question.\n"
     ]
    },
    {
     "data": {
      "text/plain": [
       "True"
      ]
     },
     "execution_count": 168,
     "metadata": {},
     "output_type": "execute_result"
    }
   ],
   "source": [
    "student_grader.check(\"q1\", should_get_llm_feedback=False)"
   ]
  },
  {
   "cell_type": "markdown",
   "id": "b3d58d86-abe7-42a4-a5bf-74e19700aff2",
   "metadata": {
    "deletable": false,
    "editable": false
   },
   "source": [
    "#### **Question 2:** What are the **top** *10* institutions in *Japan* which had the **highest** score of `International Students` in the `Year` *2024*?"
   ]
  },
  {
   "cell_type": "markdown",
   "id": "88c00d3d-39b1-4930-be29-d8d98c49824a",
   "metadata": {
    "deletable": false,
    "editable": false
   },
   "source": [
    "You **must** display the columns `Institution Name` and `International Students`. The rows **must** be in *descending* order of `International Students`.\n",
    "\n",
    "Your output **must** be a **DataFrame** that looks like this:\n",
    "\n",
    "||**Institution Name**|**International Students**|\n",
    "|---|---|---|\n",
    "|**0**|Tokyo Institute of Technology (Tokyo Tech)|31.7|\n",
    "|**1**|The University of Tokyo|29.2|\n",
    "|**2**|Waseda University|28.6|\n",
    "|**3**|Kyushu University|25.6|\n",
    "|**4**|Hitotsubashi University|22.4|\n",
    "|**5**|University of Tsukuba|21.2|\n",
    "|**6**|Kyoto University|20.8|\n",
    "|**7**|Nagoya University|19.1|\n",
    "|**8**|Hokkaido University|14.4|\n",
    "|**9**|Tohoku University|13.8|"
   ]
  },
  {
   "cell_type": "markdown",
   "id": "2c9a87b9-ccb7-46ca-aed9-eca803318d39",
   "metadata": {
    "deletable": false,
    "editable": false
   },
   "source": [
    "Points possible: 5.0"
   ]
  },
  {
   "cell_type": "code",
   "execution_count": 171,
   "id": "37fbe663-cc08-4768-9af1-5e939ef1ec74",
   "metadata": {
    "deletable": false,
    "editable": true,
    "tags": [
     "q2-code"
    ]
   },
   "outputs": [
    {
     "data": {
      "text/html": [
       "<div>\n",
       "<style scoped>\n",
       "    .dataframe tbody tr th:only-of-type {\n",
       "        vertical-align: middle;\n",
       "    }\n",
       "\n",
       "    .dataframe tbody tr th {\n",
       "        vertical-align: top;\n",
       "    }\n",
       "\n",
       "    .dataframe thead th {\n",
       "        text-align: right;\n",
       "    }\n",
       "</style>\n",
       "<table border=\"1\" class=\"dataframe\">\n",
       "  <thead>\n",
       "    <tr style=\"text-align: right;\">\n",
       "      <th></th>\n",
       "      <th>Institution Name</th>\n",
       "      <th>International Students</th>\n",
       "    </tr>\n",
       "  </thead>\n",
       "  <tbody>\n",
       "    <tr>\n",
       "      <th>0</th>\n",
       "      <td>Tokyo Institute of Technology (Tokyo Tech)</td>\n",
       "      <td>31.7</td>\n",
       "    </tr>\n",
       "    <tr>\n",
       "      <th>1</th>\n",
       "      <td>The University of Tokyo</td>\n",
       "      <td>29.2</td>\n",
       "    </tr>\n",
       "    <tr>\n",
       "      <th>2</th>\n",
       "      <td>Waseda University</td>\n",
       "      <td>28.6</td>\n",
       "    </tr>\n",
       "    <tr>\n",
       "      <th>3</th>\n",
       "      <td>Kyushu University</td>\n",
       "      <td>25.6</td>\n",
       "    </tr>\n",
       "    <tr>\n",
       "      <th>4</th>\n",
       "      <td>Hitotsubashi University</td>\n",
       "      <td>22.4</td>\n",
       "    </tr>\n",
       "    <tr>\n",
       "      <th>5</th>\n",
       "      <td>University of Tsukuba</td>\n",
       "      <td>21.2</td>\n",
       "    </tr>\n",
       "    <tr>\n",
       "      <th>6</th>\n",
       "      <td>Kyoto University</td>\n",
       "      <td>20.8</td>\n",
       "    </tr>\n",
       "    <tr>\n",
       "      <th>7</th>\n",
       "      <td>Nagoya University</td>\n",
       "      <td>19.1</td>\n",
       "    </tr>\n",
       "    <tr>\n",
       "      <th>8</th>\n",
       "      <td>Hokkaido University</td>\n",
       "      <td>14.4</td>\n",
       "    </tr>\n",
       "    <tr>\n",
       "      <th>9</th>\n",
       "      <td>Tohoku University</td>\n",
       "      <td>13.8</td>\n",
       "    </tr>\n",
       "  </tbody>\n",
       "</table>\n",
       "</div>"
      ],
      "text/plain": [
       "                             Institution Name  International Students\n",
       "0  Tokyo Institute of Technology (Tokyo Tech)                    31.7\n",
       "1                     The University of Tokyo                    29.2\n",
       "2                           Waseda University                    28.6\n",
       "3                           Kyushu University                    25.6\n",
       "4                     Hitotsubashi University                    22.4\n",
       "5                       University of Tsukuba                    21.2\n",
       "6                            Kyoto University                    20.8\n",
       "7                           Nagoya University                    19.1\n",
       "8                         Hokkaido University                    14.4\n",
       "9                           Tohoku University                    13.8"
      ]
     },
     "execution_count": 171,
     "metadata": {},
     "output_type": "execute_result"
    }
   ],
   "source": [
    "# compute and store the answer in the variable 'japan_top_10_inter', then display it\n",
    "\n",
    "japan_top_10_inter = pd.read_sql(\n",
    "    \"SELECT `Institution Name`, `International Students` \"\n",
    "    \"FROM rankings WHERE `Country` = 'Japan' AND `Year` = 2024 \"\n",
    "    \"ORDER BY `International Students` DESC LIMIT 10\",\n",
    "    conn\n",
    ")\n",
    "japan_top_10_inter"
   ]
  },
  {
   "cell_type": "code",
   "execution_count": 172,
   "id": "db9383eb-804d-4dc0-ae62-251c94f88056",
   "metadata": {
    "deletable": false,
    "editable": true
   },
   "outputs": [
    {
     "name": "stdout",
     "output_type": "stream",
     "text": [
      "Make sure you saved the notebook before running this cell. Running check for q2...\n",
      "Great job! You passed all test cases for this question.\n"
     ]
    },
    {
     "data": {
      "text/plain": [
       "True"
      ]
     },
     "execution_count": 172,
     "metadata": {},
     "output_type": "execute_result"
    }
   ],
   "source": [
    "student_grader.check(\"q2\", should_get_llm_feedback=False)"
   ]
  },
  {
   "cell_type": "markdown",
   "id": "314ee03e-0b6b-48e8-92f8-a89423f8ad13",
   "metadata": {
    "deletable": false,
    "editable": false
   },
   "source": [
    "#### **Question 3:** What are the **top** *10* institutions in the *United States* which had the **highest** *reputation* in the `Year` *2023*?"
   ]
  },
  {
   "cell_type": "markdown",
   "id": "0c45ffb1-67e3-4618-b513-cbaa8db4df30",
   "metadata": {
    "deletable": false,
    "editable": false
   },
   "source": [
    "The `Reputation` of an institution is defined as the sum of `Academic Reputation` and `Employer Reputation`. You **must** display the columns `Institution Name` and `Reputation`. The rows **must** be in *descending* order of `Reputation`. In case the `Reputation` is tied, the rows must be in *alphabetical* order of `Institution Name`.\n",
    "\n",
    "Your output **must** be a **DataFrame** that looks like this:\n",
    "\n",
    "||**Institution Name**|**Reputation**|\n",
    "|---|---|---|\n",
    "|**0**|Harvard University|200.0|\n",
    "|**1**|Massachusetts Institute of Technology (MIT) |200.0|\n",
    "|**2**|Stanford University|200.0|\n",
    "|**3**|University of California, Berkeley (UCB)|200.0|\n",
    "|**4**|University of California, Los Angeles (UCLA)|199.9|\n",
    "|**5**|Yale University|199.9|\n",
    "|**6**|Princeton University|198.8|\n",
    "|**7**|Columbia University|197.8|\n",
    "|**8**|New York University (NYU)|194.9|\n",
    "|**9**|University of Chicago|191.4|\n",
    "\n",
    "**Hint:** You can use mathematical expressions in your **SELECT** clause. For example, if you wish to add the `Academic Reputation` and `Employer Reputation` for each institution, you could use the following query:\n",
    "\n",
    "```sql\n",
    "SELECT (`Academic Reputation` + `Employer Reputation`) FROM rankings\n",
    "```"
   ]
  },
  {
   "cell_type": "markdown",
   "id": "e609db1e-2e77-4a45-be95-c52ce9792b0c",
   "metadata": {
    "deletable": false,
    "editable": false
   },
   "source": [
    "Points possible: 5.0"
   ]
  },
  {
   "cell_type": "code",
   "execution_count": 175,
   "id": "5f9161e1-ad6e-448b-b3bd-5c176ce6b47f",
   "metadata": {
    "deletable": false,
    "editable": true,
    "tags": [
     "q3-code"
    ]
   },
   "outputs": [
    {
     "data": {
      "text/html": [
       "<div>\n",
       "<style scoped>\n",
       "    .dataframe tbody tr th:only-of-type {\n",
       "        vertical-align: middle;\n",
       "    }\n",
       "\n",
       "    .dataframe tbody tr th {\n",
       "        vertical-align: top;\n",
       "    }\n",
       "\n",
       "    .dataframe thead th {\n",
       "        text-align: right;\n",
       "    }\n",
       "</style>\n",
       "<table border=\"1\" class=\"dataframe\">\n",
       "  <thead>\n",
       "    <tr style=\"text-align: right;\">\n",
       "      <th></th>\n",
       "      <th>Institution Name</th>\n",
       "      <th>Reputation</th>\n",
       "    </tr>\n",
       "  </thead>\n",
       "  <tbody>\n",
       "    <tr>\n",
       "      <th>0</th>\n",
       "      <td>Harvard University</td>\n",
       "      <td>200.0</td>\n",
       "    </tr>\n",
       "    <tr>\n",
       "      <th>1</th>\n",
       "      <td>Massachusetts Institute of Technology (MIT)</td>\n",
       "      <td>200.0</td>\n",
       "    </tr>\n",
       "    <tr>\n",
       "      <th>2</th>\n",
       "      <td>Stanford University</td>\n",
       "      <td>200.0</td>\n",
       "    </tr>\n",
       "    <tr>\n",
       "      <th>3</th>\n",
       "      <td>University of California, Berkeley (UCB)</td>\n",
       "      <td>200.0</td>\n",
       "    </tr>\n",
       "    <tr>\n",
       "      <th>4</th>\n",
       "      <td>University of California, Los Angeles (UCLA)</td>\n",
       "      <td>199.9</td>\n",
       "    </tr>\n",
       "    <tr>\n",
       "      <th>5</th>\n",
       "      <td>Yale University</td>\n",
       "      <td>199.9</td>\n",
       "    </tr>\n",
       "    <tr>\n",
       "      <th>6</th>\n",
       "      <td>Princeton University</td>\n",
       "      <td>198.8</td>\n",
       "    </tr>\n",
       "    <tr>\n",
       "      <th>7</th>\n",
       "      <td>Columbia University</td>\n",
       "      <td>197.8</td>\n",
       "    </tr>\n",
       "    <tr>\n",
       "      <th>8</th>\n",
       "      <td>New York University (NYU)</td>\n",
       "      <td>194.9</td>\n",
       "    </tr>\n",
       "    <tr>\n",
       "      <th>9</th>\n",
       "      <td>University of Chicago</td>\n",
       "      <td>191.4</td>\n",
       "    </tr>\n",
       "  </tbody>\n",
       "</table>\n",
       "</div>"
      ],
      "text/plain": [
       "                               Institution Name  Reputation\n",
       "0                            Harvard University       200.0\n",
       "1  Massachusetts Institute of Technology (MIT)        200.0\n",
       "2                           Stanford University       200.0\n",
       "3      University of California, Berkeley (UCB)       200.0\n",
       "4  University of California, Los Angeles (UCLA)       199.9\n",
       "5                               Yale University       199.9\n",
       "6                          Princeton University       198.8\n",
       "7                           Columbia University       197.8\n",
       "8                     New York University (NYU)       194.9\n",
       "9                         University of Chicago       191.4"
      ]
     },
     "execution_count": 175,
     "metadata": {},
     "output_type": "execute_result"
    }
   ],
   "source": [
    "# compute and store the answer in the variable 'us_top_10_rep', then display it\n",
    "\n",
    "us_top_10_rep = pd.read_sql(\n",
    "    \"SELECT `Institution Name`, \"\n",
    "    \"(`Academic Reputation` + `Employer Reputation`) AS `Reputation` \"\n",
    "    \"FROM rankings WHERE `Country` = 'United States' AND `Year` = 2023 \"\n",
    "    \"ORDER BY `Reputation` DESC, `Institution Name` ASC LIMIT 10\",\n",
    "    conn\n",
    ")\n",
    "\n",
    "us_top_10_rep"
   ]
  },
  {
   "cell_type": "code",
   "execution_count": 176,
   "id": "d0f41017-f384-43a6-971e-d286441cbafc",
   "metadata": {
    "deletable": false,
    "editable": true
   },
   "outputs": [
    {
     "name": "stdout",
     "output_type": "stream",
     "text": [
      "Make sure you saved the notebook before running this cell. Running check for q3...\n",
      "Great job! You passed all test cases for this question.\n"
     ]
    },
    {
     "data": {
      "text/plain": [
       "True"
      ]
     },
     "execution_count": 176,
     "metadata": {},
     "output_type": "execute_result"
    }
   ],
   "source": [
    "student_grader.check(\"q3\", should_get_llm_feedback=False)"
   ]
  },
  {
   "cell_type": "markdown",
   "id": "32410cfb-4cee-4104-be5b-b5e664df6a8e",
   "metadata": {
    "deletable": false,
    "editable": false
   },
   "source": [
    "#### **Question 4:** What are the **top** *10* countries which had the **most** *institutions* listed in the `Year` *2022*?"
   ]
  },
  {
   "cell_type": "markdown",
   "id": "bca01a11-3075-457e-9156-11ed90c57b1b",
   "metadata": {
    "deletable": false,
    "editable": false
   },
   "source": [
    "You **must** display the columns `Country` and `Number of Institutions`. The `Number of Institutions` of a country is defined as the number of institutions from that country. The rows **must** be in *descending* order of `Number of Institutions`. In case the `Number of Institutions` is tied, the rows must be in *alphabetical* order of `Country`.\n",
    "\n",
    "**Hint:** You **must** use the `COUNT` SQL function to answer this question.\n",
    "\n",
    "Your output **must** be a **DataFrame** that looks like this:\n",
    "\n",
    "||**Country**|**Number of Institutions**|\n",
    "|---|---|---|\n",
    "|**0**|United States|87|\n",
    "|**1**|United Kingdom|49|\n",
    "|**2**|Germany|31|\n",
    "|**3**|Australia|26|\n",
    "|**4**|China (Mainland)|26|\n",
    "|**5**|Russia|17|\n",
    "|**6**|Canada|16|\n",
    "|**7**|Japan|16|\n",
    "|**8**|South Korea|16|\n",
    "|**9**|Italy|14|"
   ]
  },
  {
   "cell_type": "markdown",
   "id": "563a8f13-3ec0-4cf3-849d-785b83fad1f3",
   "metadata": {
    "deletable": false,
    "editable": false
   },
   "source": [
    "Points possible: 5.0"
   ]
  },
  {
   "cell_type": "code",
   "execution_count": 180,
   "id": "25640023-42f9-4ba0-9f21-a92f5f1da04e",
   "metadata": {
    "deletable": false,
    "editable": true,
    "tags": [
     "q4-code"
    ]
   },
   "outputs": [
    {
     "data": {
      "text/html": [
       "<div>\n",
       "<style scoped>\n",
       "    .dataframe tbody tr th:only-of-type {\n",
       "        vertical-align: middle;\n",
       "    }\n",
       "\n",
       "    .dataframe tbody tr th {\n",
       "        vertical-align: top;\n",
       "    }\n",
       "\n",
       "    .dataframe thead th {\n",
       "        text-align: right;\n",
       "    }\n",
       "</style>\n",
       "<table border=\"1\" class=\"dataframe\">\n",
       "  <thead>\n",
       "    <tr style=\"text-align: right;\">\n",
       "      <th></th>\n",
       "      <th>Country</th>\n",
       "      <th>Number of Institutions</th>\n",
       "    </tr>\n",
       "  </thead>\n",
       "  <tbody>\n",
       "    <tr>\n",
       "      <th>0</th>\n",
       "      <td>United States</td>\n",
       "      <td>87</td>\n",
       "    </tr>\n",
       "    <tr>\n",
       "      <th>1</th>\n",
       "      <td>United Kingdom</td>\n",
       "      <td>49</td>\n",
       "    </tr>\n",
       "    <tr>\n",
       "      <th>2</th>\n",
       "      <td>Germany</td>\n",
       "      <td>31</td>\n",
       "    </tr>\n",
       "    <tr>\n",
       "      <th>3</th>\n",
       "      <td>Australia</td>\n",
       "      <td>26</td>\n",
       "    </tr>\n",
       "    <tr>\n",
       "      <th>4</th>\n",
       "      <td>China (Mainland)</td>\n",
       "      <td>26</td>\n",
       "    </tr>\n",
       "    <tr>\n",
       "      <th>5</th>\n",
       "      <td>Russia</td>\n",
       "      <td>17</td>\n",
       "    </tr>\n",
       "    <tr>\n",
       "      <th>6</th>\n",
       "      <td>Canada</td>\n",
       "      <td>16</td>\n",
       "    </tr>\n",
       "    <tr>\n",
       "      <th>7</th>\n",
       "      <td>Japan</td>\n",
       "      <td>16</td>\n",
       "    </tr>\n",
       "    <tr>\n",
       "      <th>8</th>\n",
       "      <td>South Korea</td>\n",
       "      <td>16</td>\n",
       "    </tr>\n",
       "    <tr>\n",
       "      <th>9</th>\n",
       "      <td>Italy</td>\n",
       "      <td>14</td>\n",
       "    </tr>\n",
       "  </tbody>\n",
       "</table>\n",
       "</div>"
      ],
      "text/plain": [
       "            Country  Number of Institutions\n",
       "0     United States                      87\n",
       "1    United Kingdom                      49\n",
       "2           Germany                      31\n",
       "3         Australia                      26\n",
       "4  China (Mainland)                      26\n",
       "5            Russia                      17\n",
       "6            Canada                      16\n",
       "7             Japan                      16\n",
       "8       South Korea                      16\n",
       "9             Italy                      14"
      ]
     },
     "execution_count": 180,
     "metadata": {},
     "output_type": "execute_result"
    }
   ],
   "source": [
    "# compute and store the answer in the variable 'top_10_countries', then display it\n",
    "\n",
    "top_10_countries = pd.read_sql(\n",
    "    \"SELECT `Country`, COUNT(*) AS `Number of Institutions` \"\n",
    "    \"FROM rankings WHERE `Year` = 2022 \"\n",
    "    \"GROUP BY `Country` \"\n",
    "    \"ORDER BY `Number of Institutions` DESC, `Country` ASC LIMIT 10\",\n",
    "    conn\n",
    ")\n",
    "\n",
    "top_10_countries"
   ]
  },
  {
   "cell_type": "code",
   "execution_count": 181,
   "id": "dc3c55b6-c525-483a-af61-53318fa64f3b",
   "metadata": {
    "deletable": false,
    "editable": true
   },
   "outputs": [
    {
     "name": "stdout",
     "output_type": "stream",
     "text": [
      "Make sure you saved the notebook before running this cell. Running check for q4...\n",
      "Great job! You passed all test cases for this question.\n"
     ]
    },
    {
     "data": {
      "text/plain": [
       "True"
      ]
     },
     "execution_count": 181,
     "metadata": {},
     "output_type": "execute_result"
    }
   ],
   "source": [
    "student_grader.check(\"q4\", should_get_llm_feedback=False)"
   ]
  },
  {
   "cell_type": "markdown",
   "id": "5c5d190f-fc37-4a7e-8d02-b5864df1542a",
   "metadata": {
    "deletable": false,
    "editable": false
   },
   "source": [
    "#### **Question 5:** Create a **bar plot** using the data from Question 4 with the `Country` on the **x-axis** and the `Number of Institutions` on the **y-axis**."
   ]
  },
  {
   "cell_type": "markdown",
   "id": "d5b144c9-1955-4aa7-b1d9-93b4e698b049",
   "metadata": {
    "deletable": false,
    "editable": false
   },
   "source": [
    "In addition to the top ten countries, you **must** also aggregate the data for **all** the **other** countries, and represent that number in the **row** `Other`. You are **allowed** to do this using any combination of  SQL queries and pandas operations.\n",
    "\n",
    "You **must** first compute a **DataFrame** `num_institutions` containing the **Country**, and the **Number of Institutions** data.\n",
    "\n",
    "Your output **must** be a **DataFrame** that looks like this:\n",
    "\n",
    "||**Country**|**Number of Institutions**|\n",
    "|---|---|---|\n",
    "|**0**|United States|87|\n",
    "|**1**|United Kingdom|49|\n",
    "|**2**|Germany|31|\n",
    "|**3**|Australia|26|\n",
    "|**4**|China (Mainland)|26|\n",
    "|**5**|Russia|17|\n",
    "|**6**|Canada|16|\n",
    "|**7**|Japan|16|\n",
    "|**8**|South Korea|16|\n",
    "|**9**|Italy|14|\n",
    "|**10**|Other|202|\n",
    "\n",
    "**Hint**: You can use the `concat` method of a DataFrame to add two DataFrames together. For example:\n",
    "\n",
    "```python\n",
    "my_new_dataframe = pd.concat([my_dataframe, new_dataframe])\n",
    "```\n",
    "will create a *new* **DataFrame** `my_new_dataframe` which contains all the rows from `my_dataframe` and `new_dataframe`. In order to use this method, you will first have to create a **new** DataFrame with the **same** columns as `top_10_countries`, but with only **one row** of data. The `Country` **must** be `Other`, and the `Number of Institutions` **must** be the aggregate sum of institutions from all other countries. You **must** then *concatenate* this DataFrame with `top_10_countries`."
   ]
  },
  {
   "cell_type": "markdown",
   "id": "061ca851-b91b-4dc3-957f-e792379edd23",
   "metadata": {
    "deletable": false,
    "editable": false
   },
   "source": [
    "Points possible: 5.0"
   ]
  },
  {
   "cell_type": "code",
   "execution_count": 192,
   "id": "c74786b1-2bc5-488d-b2f1-2ae77494e7b0",
   "metadata": {
    "deletable": false,
    "editable": true,
    "tags": [
     "q5-code"
    ]
   },
   "outputs": [
    {
     "data": {
      "text/html": [
       "<div>\n",
       "<style scoped>\n",
       "    .dataframe tbody tr th:only-of-type {\n",
       "        vertical-align: middle;\n",
       "    }\n",
       "\n",
       "    .dataframe tbody tr th {\n",
       "        vertical-align: top;\n",
       "    }\n",
       "\n",
       "    .dataframe thead th {\n",
       "        text-align: right;\n",
       "    }\n",
       "</style>\n",
       "<table border=\"1\" class=\"dataframe\">\n",
       "  <thead>\n",
       "    <tr style=\"text-align: right;\">\n",
       "      <th></th>\n",
       "      <th>Country</th>\n",
       "      <th>Number of Institutions</th>\n",
       "    </tr>\n",
       "  </thead>\n",
       "  <tbody>\n",
       "    <tr>\n",
       "      <th>0</th>\n",
       "      <td>United States</td>\n",
       "      <td>87</td>\n",
       "    </tr>\n",
       "    <tr>\n",
       "      <th>1</th>\n",
       "      <td>United Kingdom</td>\n",
       "      <td>49</td>\n",
       "    </tr>\n",
       "    <tr>\n",
       "      <th>2</th>\n",
       "      <td>Germany</td>\n",
       "      <td>31</td>\n",
       "    </tr>\n",
       "    <tr>\n",
       "      <th>3</th>\n",
       "      <td>Australia</td>\n",
       "      <td>26</td>\n",
       "    </tr>\n",
       "    <tr>\n",
       "      <th>4</th>\n",
       "      <td>China (Mainland)</td>\n",
       "      <td>26</td>\n",
       "    </tr>\n",
       "    <tr>\n",
       "      <th>5</th>\n",
       "      <td>Russia</td>\n",
       "      <td>17</td>\n",
       "    </tr>\n",
       "    <tr>\n",
       "      <th>6</th>\n",
       "      <td>Canada</td>\n",
       "      <td>16</td>\n",
       "    </tr>\n",
       "    <tr>\n",
       "      <th>7</th>\n",
       "      <td>Japan</td>\n",
       "      <td>16</td>\n",
       "    </tr>\n",
       "    <tr>\n",
       "      <th>8</th>\n",
       "      <td>South Korea</td>\n",
       "      <td>16</td>\n",
       "    </tr>\n",
       "    <tr>\n",
       "      <th>9</th>\n",
       "      <td>Italy</td>\n",
       "      <td>14</td>\n",
       "    </tr>\n",
       "    <tr>\n",
       "      <th>10</th>\n",
       "      <td>Other</td>\n",
       "      <td>202</td>\n",
       "    </tr>\n",
       "  </tbody>\n",
       "</table>\n",
       "</div>"
      ],
      "text/plain": [
       "             Country  Number of Institutions\n",
       "0      United States                      87\n",
       "1     United Kingdom                      49\n",
       "2            Germany                      31\n",
       "3          Australia                      26\n",
       "4   China (Mainland)                      26\n",
       "5             Russia                      17\n",
       "6             Canada                      16\n",
       "7              Japan                      16\n",
       "8        South Korea                      16\n",
       "9              Italy                      14\n",
       "10             Other                     202"
      ]
     },
     "execution_count": 192,
     "metadata": {},
     "output_type": "execute_result"
    }
   ],
   "source": [
    "# Query to get the number of institutions for all countries in 2022\n",
    "all_countries = pd.read_sql(\n",
    "    \"SELECT `Country`, COUNT(*) AS `Number of Institutions` \"\n",
    "    \"FROM rankings WHERE `Year` = 2022 \"\n",
    "    \"GROUP BY `Country` \"\n",
    "    \"ORDER BY `Number of Institutions` DESC, `Country` ASC\",\n",
    "    conn\n",
    ")\n",
    "other_institutions_sum = all_countries.iloc[10:][\"Number of Institutions\"].sum()\n",
    "\n",
    "other_row = pd.DataFrame([{\"Country\": \"Other\", \"Number of Institutions\": other_institutions_sum}])\n",
    "\n",
    "num_institutions = pd.concat([all_countries.iloc[:10], other_row], ignore_index=True)\n",
    "\n",
    "num_institutions"
   ]
  },
  {
   "cell_type": "code",
   "execution_count": 193,
   "id": "03b165aa-a7c0-49ed-b72e-4728fd383313",
   "metadata": {
    "deletable": false,
    "editable": true
   },
   "outputs": [
    {
     "name": "stdout",
     "output_type": "stream",
     "text": [
      "Make sure you saved the notebook before running this cell. Running check for q5...\n",
      "Great job! You passed all test cases for this question.\n"
     ]
    },
    {
     "data": {
      "text/plain": [
       "True"
      ]
     },
     "execution_count": 193,
     "metadata": {},
     "output_type": "execute_result"
    }
   ],
   "source": [
    "student_grader.check(\"q5\", should_get_llm_feedback=False)"
   ]
  },
  {
   "cell_type": "markdown",
   "id": "944de0c3-1d97-4390-a3c3-c1efc9ba7062",
   "metadata": {
    "deletable": false,
    "editable": false
   },
   "source": [
    "Now, **plot** `num_institutions` as **bar plot** with the **x-axis** labelled *Country* and the **y-axis** labelled *Number of Institutions*.\n",
    "\n",
    "You **must** use the `bar_plot` function to create the plot. Your plot should look like this:"
   ]
  },
  {
   "cell_type": "markdown",
   "id": "c463980d-7d55-4f29-8a2e-ee7c3324e6f2",
   "metadata": {
    "deletable": false,
    "editable": false
   },
   "source": [
    "<div style=\"text-align: center;\"><img src=\"images/q5.jpg\" style=\"height: 400px;\"/></div>\n",
    "\n",
    "<center> <b>Delete</b> this cell before you submit the notebook to reduce the size of your file.</center>"
   ]
  },
  {
   "cell_type": "code",
   "execution_count": 196,
   "id": "92ad33f0-bc65-430a-be80-4ae9a1cf2521",
   "metadata": {
    "deletable": false
   },
   "outputs": [
    {
     "data": {
      "image/png": "[encoded data removed]",
      "text/plain": [
       "<Figure size 640x480 with 1 Axes>"
      ]
     },
     "metadata": {},
     "output_type": "display_data"
    }
   ],
   "source": [
    "# create the bar plot using the DataFrame 'num_institutions' with the x-axis labelled \"Country\" \n",
    "# and the y-axis labelled \"Number of Institutions\"\n",
    "\n",
    "bar_plot(num_institutions, x='Country', y='Number of Institutions')"
   ]
  },
  {
   "cell_type": "markdown",
   "id": "5985f7d6-b442-41b2-953f-2875bfe59954",
   "metadata": {
    "deletable": false,
    "editable": false
   },
   "source": [
    "#### **Question 6:** Create a **bar plot** of the **top** *10* countries with the **highest** *total* `Overall` listed in the `year` *2022*."
   ]
  },
  {
   "cell_type": "markdown",
   "id": "b7ef5b72-b7fe-48d7-a360-2160ea6c83b3",
   "metadata": {
    "deletable": false,
    "editable": false
   },
   "source": [
    "The `Total Score` of a `Country` is defined as the **sum** of `Overall` of **all** institutions in that `Country`. You **must** display the columns `Country` and `Total Score`. The rows **must** be in *descending* order of `Total Score`.\n",
    "\n",
    "You **must** first compute a **DataFrame** `top_10_total_score` containing the **Country**, and the **Total Score** data.\n",
    "\n",
    "Your **DataFrame** should looks like this:\n",
    "\n",
    "||**Country**|**Total Score**|\n",
    "|---|---|---|\n",
    "|**0**|United States|4441.9|\n",
    "|**1**|United Kingdom|2543.8|\n",
    "|**2**|Australia|1243.3|\n",
    "|**3**|Germany|1235.3|\n",
    "|**4**|China (Mainland)|1138.5|\n",
    "|**5**|Japan|796.3|\n",
    "|**6**|Canada|785.6|\n",
    "|**7**|South Korea|739.1|\n",
    "|**8**|Netherlands|673.6|\n",
    "|**9**|Russia|582.6|"
   ]
  },
  {
   "cell_type": "markdown",
   "id": "46e6529c-8ec4-4471-8a64-f02156a13044",
   "metadata": {
    "deletable": false,
    "editable": false
   },
   "source": [
    "Points possible: 5.0"
   ]
  },
  {
   "cell_type": "code",
   "execution_count": 199,
   "id": "dc845c9f-f58a-47c0-9e08-ec9e15674609",
   "metadata": {
    "deletable": false,
    "editable": true,
    "tags": [
     "q6-code"
    ]
   },
   "outputs": [
    {
     "data": {
      "text/html": [
       "<div>\n",
       "<style scoped>\n",
       "    .dataframe tbody tr th:only-of-type {\n",
       "        vertical-align: middle;\n",
       "    }\n",
       "\n",
       "    .dataframe tbody tr th {\n",
       "        vertical-align: top;\n",
       "    }\n",
       "\n",
       "    .dataframe thead th {\n",
       "        text-align: right;\n",
       "    }\n",
       "</style>\n",
       "<table border=\"1\" class=\"dataframe\">\n",
       "  <thead>\n",
       "    <tr style=\"text-align: right;\">\n",
       "      <th></th>\n",
       "      <th>Country</th>\n",
       "      <th>Total Score</th>\n",
       "    </tr>\n",
       "  </thead>\n",
       "  <tbody>\n",
       "    <tr>\n",
       "      <th>0</th>\n",
       "      <td>United States</td>\n",
       "      <td>4441.9</td>\n",
       "    </tr>\n",
       "    <tr>\n",
       "      <th>1</th>\n",
       "      <td>United Kingdom</td>\n",
       "      <td>2543.8</td>\n",
       "    </tr>\n",
       "    <tr>\n",
       "      <th>2</th>\n",
       "      <td>Australia</td>\n",
       "      <td>1243.3</td>\n",
       "    </tr>\n",
       "    <tr>\n",
       "      <th>3</th>\n",
       "      <td>Germany</td>\n",
       "      <td>1235.3</td>\n",
       "    </tr>\n",
       "    <tr>\n",
       "      <th>4</th>\n",
       "      <td>China (Mainland)</td>\n",
       "      <td>1138.5</td>\n",
       "    </tr>\n",
       "    <tr>\n",
       "      <th>5</th>\n",
       "      <td>Japan</td>\n",
       "      <td>796.3</td>\n",
       "    </tr>\n",
       "    <tr>\n",
       "      <th>6</th>\n",
       "      <td>Canada</td>\n",
       "      <td>785.6</td>\n",
       "    </tr>\n",
       "    <tr>\n",
       "      <th>7</th>\n",
       "      <td>South Korea</td>\n",
       "      <td>739.1</td>\n",
       "    </tr>\n",
       "    <tr>\n",
       "      <th>8</th>\n",
       "      <td>Netherlands</td>\n",
       "      <td>673.6</td>\n",
       "    </tr>\n",
       "    <tr>\n",
       "      <th>9</th>\n",
       "      <td>Russia</td>\n",
       "      <td>582.6</td>\n",
       "    </tr>\n",
       "  </tbody>\n",
       "</table>\n",
       "</div>"
      ],
      "text/plain": [
       "            Country  Total Score\n",
       "0     United States       4441.9\n",
       "1    United Kingdom       2543.8\n",
       "2         Australia       1243.3\n",
       "3           Germany       1235.3\n",
       "4  China (Mainland)       1138.5\n",
       "5             Japan        796.3\n",
       "6            Canada        785.6\n",
       "7       South Korea        739.1\n",
       "8       Netherlands        673.6\n",
       "9            Russia        582.6"
      ]
     },
     "execution_count": 199,
     "metadata": {},
     "output_type": "execute_result"
    }
   ],
   "source": [
    "top_10_total_score = pd.read_sql(\n",
    "    \"SELECT `Country`, SUM(`Overall`) AS `Total Score` \"\n",
    "    \"FROM rankings WHERE `Year` = 2022 \"\n",
    "    \"GROUP BY `Country` \"\n",
    "    \"ORDER BY `Total Score` DESC LIMIT 10\",\n",
    "    conn\n",
    ")\n",
    "\n",
    "top_10_total_score"
   ]
  },
  {
   "cell_type": "code",
   "execution_count": 200,
   "id": "0e9aca1b-dac8-4c45-84c3-59d68c01c656",
   "metadata": {
    "deletable": false,
    "editable": true
   },
   "outputs": [
    {
     "name": "stdout",
     "output_type": "stream",
     "text": [
      "Make sure you saved the notebook before running this cell. Running check for q6...\n",
      "Great job! You passed all test cases for this question.\n"
     ]
    },
    {
     "data": {
      "text/plain": [
       "True"
      ]
     },
     "execution_count": 200,
     "metadata": {},
     "output_type": "execute_result"
    }
   ],
   "source": [
    "student_grader.check(\"q6\", should_get_llm_feedback=False)"
   ]
  },
  {
   "cell_type": "markdown",
   "id": "c832883c-5cbe-4f46-aad5-c278f4d3a8c3",
   "metadata": {
    "deletable": false,
    "editable": false
   },
   "source": [
    "Now, **plot** `top_10_total_score` as **bar plot** with the **x-axis** labelled *Country* and the **y-axis** labelled *Total Score*.\n",
    "\n",
    "You **must** use the `bar_plot` function to create the plot. Your plot should look like this:"
   ]
  },
  {
   "cell_type": "markdown",
   "id": "a6b13ccd-c288-4c38-ab3f-13eccfb607ed",
   "metadata": {
    "deletable": false,
    "editable": false
   },
   "source": [
    "<div style=\"text-align: center;\"><img src=\"images/q6.jpg\" style=\"height: 400px;\"/></div>\n",
    "\n",
    "<center> <b>Delete</b> this cell before you submit the notebook to reduce the size of your file.</center>"
   ]
  },
  {
   "cell_type": "code",
   "execution_count": 203,
   "id": "cdabd0f5-103a-45d3-ae1a-f48d3d361cb7",
   "metadata": {
    "deletable": false
   },
   "outputs": [
    {
     "data": {
      "image/png": "[encoded data removed]",
      "text/plain": [
       "<Figure size 640x480 with 1 Axes>"
      ]
     },
     "metadata": {},
     "output_type": "display_data"
    }
   ],
   "source": [
    "# create the bar plot using the DataFrame 'top_10_total_score' with the x-axis labelled \"Country\" \n",
    "# and the y-axis labelled \"Total Score\"\n",
    "\n",
    "bar_plot(top_10_total_score, x='Country', y='Total Score')"
   ]
  },
  {
   "cell_type": "markdown",
   "id": "1ff662ae-dcf9-4a45-8d13-2cbd6ad8929b",
   "metadata": {
    "deletable": false,
    "editable": false
   },
   "source": [
    "#### **Question 7:** What are the **top** *10* institutions in the *United States* which had the **highest** *International Score* in the `Year` *2024*?"
   ]
  },
  {
   "cell_type": "markdown",
   "id": "c59ab348-c588-4409-8719-621d4ece1c6a",
   "metadata": {
    "deletable": false,
    "editable": false
   },
   "source": [
    "The *International Score* of an institution is defined as the **sum** of `International Faculty` and `International Students` scores of that institution. You **must** display the columns `Institution Name` and `International Score`. The rows **must** be in *descending* order of `International Score`.\n",
    "\n",
    "Your output **must** be a **DataFrame** that looks like this:\n",
    "\n",
    "||**Institution Name**|**International Score**|\n",
    "|---|---|---|\n",
    "|**0**|Massachusetts Institute of Technology (MIT) |188.2|\n",
    "|**1**|Rice University|185.8|\n",
    "|**2**|California Institute of Technology (Caltech)|181.0|\n",
    "|**3**|Yale University|168.6|\n",
    "|**4**|University of Pennsylvania|166.3|\n",
    "|**5**|University of Chicago|165.6|\n",
    "|**6**|University of Rochester|163.1|\n",
    "|**7**|University of California, Berkeley (UCB)|156.1|\n",
    "|**8**|Johns Hopkins University|155.8|\n",
    "|**9**|Northeastern University|154.5|"
   ]
  },
  {
   "cell_type": "markdown",
   "id": "b4d75f0a-61d0-4154-9713-8b8f51d9d98c",
   "metadata": {
    "deletable": false,
    "editable": false
   },
   "source": [
    "Points possible: 5.0"
   ]
  },
  {
   "cell_type": "code",
   "execution_count": 206,
   "id": "104944f9-cb6d-45c2-8f80-b24306d3354e",
   "metadata": {
    "deletable": false,
    "editable": true,
    "tags": [
     "q7-code"
    ]
   },
   "outputs": [
    {
     "data": {
      "text/html": [
       "<div>\n",
       "<style scoped>\n",
       "    .dataframe tbody tr th:only-of-type {\n",
       "        vertical-align: middle;\n",
       "    }\n",
       "\n",
       "    .dataframe tbody tr th {\n",
       "        vertical-align: top;\n",
       "    }\n",
       "\n",
       "    .dataframe thead th {\n",
       "        text-align: right;\n",
       "    }\n",
       "</style>\n",
       "<table border=\"1\" class=\"dataframe\">\n",
       "  <thead>\n",
       "    <tr style=\"text-align: right;\">\n",
       "      <th></th>\n",
       "      <th>Institution Name</th>\n",
       "      <th>International Score</th>\n",
       "    </tr>\n",
       "  </thead>\n",
       "  <tbody>\n",
       "    <tr>\n",
       "      <th>0</th>\n",
       "      <td>Massachusetts Institute of Technology (MIT)</td>\n",
       "      <td>188.2</td>\n",
       "    </tr>\n",
       "    <tr>\n",
       "      <th>1</th>\n",
       "      <td>Rice University</td>\n",
       "      <td>185.8</td>\n",
       "    </tr>\n",
       "    <tr>\n",
       "      <th>2</th>\n",
       "      <td>California Institute of Technology (Caltech)</td>\n",
       "      <td>181.0</td>\n",
       "    </tr>\n",
       "    <tr>\n",
       "      <th>3</th>\n",
       "      <td>Yale University</td>\n",
       "      <td>168.6</td>\n",
       "    </tr>\n",
       "    <tr>\n",
       "      <th>4</th>\n",
       "      <td>University of Pennsylvania</td>\n",
       "      <td>166.3</td>\n",
       "    </tr>\n",
       "    <tr>\n",
       "      <th>5</th>\n",
       "      <td>University of Chicago</td>\n",
       "      <td>165.6</td>\n",
       "    </tr>\n",
       "    <tr>\n",
       "      <th>6</th>\n",
       "      <td>University of Rochester</td>\n",
       "      <td>163.1</td>\n",
       "    </tr>\n",
       "    <tr>\n",
       "      <th>7</th>\n",
       "      <td>University of California, Berkeley (UCB)</td>\n",
       "      <td>156.1</td>\n",
       "    </tr>\n",
       "    <tr>\n",
       "      <th>8</th>\n",
       "      <td>Johns Hopkins University</td>\n",
       "      <td>155.8</td>\n",
       "    </tr>\n",
       "    <tr>\n",
       "      <th>9</th>\n",
       "      <td>Northeastern University</td>\n",
       "      <td>154.5</td>\n",
       "    </tr>\n",
       "  </tbody>\n",
       "</table>\n",
       "</div>"
      ],
      "text/plain": [
       "                               Institution Name  International Score\n",
       "0  Massachusetts Institute of Technology (MIT)                 188.2\n",
       "1                               Rice University                185.8\n",
       "2  California Institute of Technology (Caltech)                181.0\n",
       "3                               Yale University                168.6\n",
       "4                    University of Pennsylvania                166.3\n",
       "5                         University of Chicago                165.6\n",
       "6                       University of Rochester                163.1\n",
       "7      University of California, Berkeley (UCB)                156.1\n",
       "8                      Johns Hopkins University                155.8\n",
       "9                       Northeastern University                154.5"
      ]
     },
     "execution_count": 206,
     "metadata": {},
     "output_type": "execute_result"
    }
   ],
   "source": [
    "# compute and store the answer in the variable 'top_10_inter_score', then display it\n",
    "\n",
    "top_10_inter_score = pd.read_sql(\n",
    "    \"SELECT `Institution Name`, \"\n",
    "    \"(`International Faculty` + `International Students`) AS `International Score` \"\n",
    "    \"FROM rankings WHERE `Country` = 'United States' AND `Year` = 2024 \"\n",
    "    \"ORDER BY `International Score` DESC LIMIT 10\",\n",
    "    conn\n",
    ")\n",
    "top_10_inter_score"
   ]
  },
  {
   "cell_type": "code",
   "execution_count": 207,
   "id": "0f4446b7-f257-414e-bf48-545fbbc1980e",
   "metadata": {
    "deletable": false,
    "editable": true
   },
   "outputs": [
    {
     "name": "stdout",
     "output_type": "stream",
     "text": [
      "Make sure you saved the notebook before running this cell. Running check for q7...\n",
      "Great job! You passed all test cases for this question.\n"
     ]
    },
    {
     "data": {
      "text/plain": [
       "True"
      ]
     },
     "execution_count": 207,
     "metadata": {},
     "output_type": "execute_result"
    }
   ],
   "source": [
    "student_grader.check(\"q7\", should_get_llm_feedback=False)"
   ]
  },
  {
   "cell_type": "markdown",
   "id": "4cbb2ab9-f76c-43b9-8f04-5130184a68ef",
   "metadata": {
    "deletable": false,
    "editable": false
   },
   "source": [
    "#### **Question 8:** Create a **scatter plot** representing the `Citations per Faculty` (on the **x-axis**) against the `Overall` (on the **y-axis**) of each institution in the `Year` *2024*."
   ]
  },
  {
   "cell_type": "markdown",
   "id": "dea5cbee-d1d9-4857-a6d4-57ab72a78ea8",
   "metadata": {
    "deletable": false,
    "editable": false
   },
   "source": [
    "You **must** first compute a **DataFrame** `citations_overall` containing the **Citations per Faculty**, and the **Overall** data from the `Year` *2024*, of each **institution**."
   ]
  },
  {
   "cell_type": "markdown",
   "id": "2df1b8d0-58b8-49a6-a7be-e09664adcce6",
   "metadata": {
    "deletable": false,
    "editable": false
   },
   "source": [
    "Points possible: 5.0"
   ]
  },
  {
   "cell_type": "code",
   "execution_count": 210,
   "id": "013ebb39-fd22-4ed2-9a2c-31c9407cadf8",
   "metadata": {
    "deletable": false,
    "editable": true,
    "tags": [
     "q8-code"
    ]
   },
   "outputs": [
    {
     "data": {
      "text/html": [
       "<div>\n",
       "<style scoped>\n",
       "    .dataframe tbody tr th:only-of-type {\n",
       "        vertical-align: middle;\n",
       "    }\n",
       "\n",
       "    .dataframe tbody tr th {\n",
       "        vertical-align: top;\n",
       "    }\n",
       "\n",
       "    .dataframe thead th {\n",
       "        text-align: right;\n",
       "    }\n",
       "</style>\n",
       "<table border=\"1\" class=\"dataframe\">\n",
       "  <thead>\n",
       "    <tr style=\"text-align: right;\">\n",
       "      <th></th>\n",
       "      <th>Citations per Faculty</th>\n",
       "      <th>Overall</th>\n",
       "    </tr>\n",
       "  </thead>\n",
       "  <tbody>\n",
       "    <tr>\n",
       "      <th>0</th>\n",
       "      <td>100.0</td>\n",
       "      <td>100.0</td>\n",
       "    </tr>\n",
       "    <tr>\n",
       "      <th>1</th>\n",
       "      <td>92.3</td>\n",
       "      <td>99.2</td>\n",
       "    </tr>\n",
       "    <tr>\n",
       "      <th>2</th>\n",
       "      <td>90.6</td>\n",
       "      <td>98.9</td>\n",
       "    </tr>\n",
       "    <tr>\n",
       "      <th>3</th>\n",
       "      <td>100.0</td>\n",
       "      <td>98.3</td>\n",
       "    </tr>\n",
       "    <tr>\n",
       "      <th>4</th>\n",
       "      <td>99.9</td>\n",
       "      <td>98.1</td>\n",
       "    </tr>\n",
       "  </tbody>\n",
       "</table>\n",
       "</div>"
      ],
      "text/plain": [
       "   Citations per Faculty  Overall\n",
       "0                  100.0    100.0\n",
       "1                   92.3     99.2\n",
       "2                   90.6     98.9\n",
       "3                  100.0     98.3\n",
       "4                   99.9     98.1"
      ]
     },
     "execution_count": 210,
     "metadata": {},
     "output_type": "execute_result"
    }
   ],
   "source": [
    "# first compute and store the DataFrame 'citations_overall', then display its head\n",
    "# do NOT plot just yet\n",
    "\n",
    "citations_overall = pd.read_sql(\n",
    "    \"SELECT `Citations per Faculty`, `Overall` \"\n",
    "    \"FROM rankings WHERE `Year` = 2024\",\n",
    "    conn\n",
    ")\n",
    "citations_overall.head()"
   ]
  },
  {
   "cell_type": "code",
   "execution_count": 212,
   "id": "2405db07-6702-4d98-b96a-a7a1f63fab90",
   "metadata": {
    "deletable": false,
    "editable": true
   },
   "outputs": [
    {
     "name": "stdout",
     "output_type": "stream",
     "text": [
      "Make sure you saved the notebook before running this cell. Running check for q8...\n",
      "Great job! You passed all test cases for this question.\n"
     ]
    },
    {
     "data": {
      "text/plain": [
       "True"
      ]
     },
     "execution_count": 212,
     "metadata": {},
     "output_type": "execute_result"
    }
   ],
   "source": [
    "student_grader.check(\"q8\", should_get_llm_feedback=False)"
   ]
  },
  {
   "cell_type": "markdown",
   "id": "682ffdbd-245e-4e3d-ad00-1960dfc2d4e8",
   "metadata": {
    "deletable": false,
    "editable": false
   },
   "source": [
    "Now, **plot** `citations_overall` as **scatter plot** with the **x-axis** labelled *Citations per Faculty* and the **y-axis** labelled *Overall*.\n",
    "\n",
    "You **must** use the `scatter_plot` function to create the plot. Your plot should look like this:"
   ]
  },
  {
   "cell_type": "markdown",
   "id": "60dd10b9-4cd6-4738-928e-ea614b38c0c8",
   "metadata": {
    "deletable": false,
    "editable": false
   },
   "source": [
    "<div style=\"text-align: center;\"><img src=\"images/q8.jpg\" style=\"height: 400px;\"/></div>\n",
    "\n",
    "<center> <b>Delete</b> this cell before you submit the notebook to reduce the size of your file.</center>"
   ]
  },
  {
   "cell_type": "code",
   "execution_count": 214,
   "id": "1e146aa7-bfb9-4a16-8913-d3014fb35051",
   "metadata": {
    "deletable": false
   },
   "outputs": [
    {
     "data": {
      "image/png": "[encoded data removed]",
      "text/plain": [
       "<Figure size 640x480 with 1 Axes>"
      ]
     },
     "metadata": {},
     "output_type": "display_data"
    }
   ],
   "source": [
    "# create the scatter plot using the DataFrame 'citations_overall' with the x-axis labelled \"Citations per Faculty\" \n",
    "# and the y-axis labelled \"Overall\"\n",
    "\n",
    "scatter_plot(citations_overall, x='Citations per Faculty', y='Overall')"
   ]
  },
  {
   "cell_type": "markdown",
   "id": "35423927-2ec1-43d1-8ef0-761290066441",
   "metadata": {
    "deletable": false,
    "editable": false
   },
   "source": [
    "#### **Question 9:** Create a **scatter plot** representing the `Academic Reputation` (on the **x-axis**) against the `Employer Reputation` (on the **y-axis**) of each institution from the *United States* in the `Year` *2023*."
   ]
  },
  {
   "cell_type": "markdown",
   "id": "c5ddae46-6b9f-4321-9596-273272d6aa36",
   "metadata": {
    "deletable": false,
    "editable": false
   },
   "source": [
    "You **must** first compute a **DataFrame** `reputations_usa` containing the **Academic Reputation**, and the **Employer Reputation** data from the `Year` *2023*, of each **institution** in the `Country` *United States*."
   ]
  },
  {
   "cell_type": "markdown",
   "id": "823b5cf1-2e81-4dd6-921a-2d8a6fa59396",
   "metadata": {
    "deletable": false,
    "editable": false
   },
   "source": [
    "Points possible: 5.0"
   ]
  },
  {
   "cell_type": "code",
   "execution_count": 217,
   "id": "056d703a-9c4c-4500-80db-e6db9f8c3787",
   "metadata": {
    "deletable": false,
    "editable": true,
    "tags": [
     "q9-code"
    ]
   },
   "outputs": [
    {
     "data": {
      "text/html": [
       "<div>\n",
       "<style scoped>\n",
       "    .dataframe tbody tr th:only-of-type {\n",
       "        vertical-align: middle;\n",
       "    }\n",
       "\n",
       "    .dataframe tbody tr th {\n",
       "        vertical-align: top;\n",
       "    }\n",
       "\n",
       "    .dataframe thead th {\n",
       "        text-align: right;\n",
       "    }\n",
       "</style>\n",
       "<table border=\"1\" class=\"dataframe\">\n",
       "  <thead>\n",
       "    <tr style=\"text-align: right;\">\n",
       "      <th></th>\n",
       "      <th>Academic Reputation</th>\n",
       "      <th>Employer Reputation</th>\n",
       "    </tr>\n",
       "  </thead>\n",
       "  <tbody>\n",
       "    <tr>\n",
       "      <th>0</th>\n",
       "      <td>100.0</td>\n",
       "      <td>100.0</td>\n",
       "    </tr>\n",
       "    <tr>\n",
       "      <th>1</th>\n",
       "      <td>100.0</td>\n",
       "      <td>100.0</td>\n",
       "    </tr>\n",
       "    <tr>\n",
       "      <th>2</th>\n",
       "      <td>100.0</td>\n",
       "      <td>100.0</td>\n",
       "    </tr>\n",
       "    <tr>\n",
       "      <th>3</th>\n",
       "      <td>96.5</td>\n",
       "      <td>87.1</td>\n",
       "    </tr>\n",
       "    <tr>\n",
       "      <th>4</th>\n",
       "      <td>99.2</td>\n",
       "      <td>92.2</td>\n",
       "    </tr>\n",
       "  </tbody>\n",
       "</table>\n",
       "</div>"
      ],
      "text/plain": [
       "   Academic Reputation  Employer Reputation\n",
       "0                100.0                100.0\n",
       "1                100.0                100.0\n",
       "2                100.0                100.0\n",
       "3                 96.5                 87.1\n",
       "4                 99.2                 92.2"
      ]
     },
     "execution_count": 217,
     "metadata": {},
     "output_type": "execute_result"
    }
   ],
   "source": [
    "# first compute and store the DataFrame 'reputations_usa', then display its head\n",
    "# do NOT plot just yet\n",
    "\n",
    "reputations_usa = pd.read_sql(\n",
    "    \"SELECT `Academic Reputation`, `Employer Reputation` \"\n",
    "    \"FROM rankings WHERE `Country` = 'United States' AND `Year` = 2023\",\n",
    "    conn\n",
    ")\n",
    "\n",
    "reputations_usa.head()"
   ]
  },
  {
   "cell_type": "code",
   "execution_count": 218,
   "id": "d6d246b0-e344-4214-a208-a30387516751",
   "metadata": {
    "deletable": false,
    "editable": true
   },
   "outputs": [
    {
     "name": "stdout",
     "output_type": "stream",
     "text": [
      "Make sure you saved the notebook before running this cell. Running check for q9...\n",
      "Great job! You passed all test cases for this question.\n"
     ]
    },
    {
     "data": {
      "text/plain": [
       "True"
      ]
     },
     "execution_count": 218,
     "metadata": {},
     "output_type": "execute_result"
    }
   ],
   "source": [
    "student_grader.check(\"q9\", should_get_llm_feedback=False)"
   ]
  },
  {
   "cell_type": "markdown",
   "id": "1abcb69a-9ea4-46af-b199-463b08b61834",
   "metadata": {
    "deletable": false,
    "editable": false
   },
   "source": [
    "Now, **plot** `reputations_usa` as **scatter plot** with the **x-axis** labelled *Academic Reputation* and the **y-axis** labelled *Employer Reputation*.\n",
    "\n",
    "You **must** use the `scatter_plot` function to create the plot. Your plot should look like this:"
   ]
  },
  {
   "cell_type": "markdown",
   "id": "779a2d0f-df51-4247-8717-140d39fdae38",
   "metadata": {
    "deletable": false,
    "editable": false
   },
   "source": [
    "<div style=\"text-align: center;\"><img src=\"images/q9.jpg\" style=\"height: 400px;\"/></div>\n",
    "\n",
    "<center> <b>Delete</b> this cell before you submit the notebook to reduce the size of your file.</center>"
   ]
  },
  {
   "cell_type": "code",
   "execution_count": 221,
   "id": "85400254-3c8a-4ada-b184-cfd9fd546532",
   "metadata": {
    "deletable": false
   },
   "outputs": [
    {
     "data": {
      "image/png": "[encoded data removed]",
      "text/plain": [
       "<Figure size 640x480 with 1 Axes>"
      ]
     },
     "metadata": {},
     "output_type": "display_data"
    }
   ],
   "source": [
    "# create the scatter plot using the DataFrame 'reputations_usa' with the x-axis labelled \"Academic Reputation\" \n",
    "# and the y-axis labelled \"Employer Reputation\"\n",
    "\n",
    "scatter_plot(reputations_usa, x='Academic Reputation', y='Employer Reputation')"
   ]
  },
  {
   "cell_type": "markdown",
   "id": "ba9a10b5-f679-4747-b715-9b21a2a6a811",
   "metadata": {
    "deletable": false,
    "editable": false
   },
   "source": [
    "#### **Question 10:** Create a **scatter plot** representing the `International Students` (on the **x-axis**) against the `Faculty Student` (on the **y-axis**) for the **top ranked** institution of **each** `Country` in the `Year` *2023*."
   ]
  },
  {
   "cell_type": "markdown",
   "id": "b90aa785-bdf4-401f-82ea-33224fb8a56e",
   "metadata": {
    "deletable": false,
    "editable": false
   },
   "source": [
    "You **must** first compute a **DataFrame** `top_ranked_inter_faculty` containing the **International Students**, and the **Faculty Student** data from the `Year` *2023*, of the **top** ranked **institution** (i.e., the institution with the **least** `rank`) of each **country**.\n",
    "\n",
    "**Hint:** You can use the `MIN` SQL function to return the least value of a selected column. However, there are a few things to keep in mind while using this function.\n",
    "* The function must be in **uppercase** (i.e., you must use `MIN`, and **not** `min`).\n",
    "* The column you are finding the minimum of must be inside backticks (``` ` ```). For example, if you want to find the minimum `Rank`, you need to say ```MIN(`Rank`)```.\n",
    "\n",
    "If you do not follow the syntax above, your code will likely fail.\n",
    "\n",
    "Your DataFrame should look like this:\n",
    "\n",
    "<div style=\"text-align: center;\"><img src=\"images/q10.png\" style=\"height: 200px;\"/></div>"
   ]
  },
  {
   "cell_type": "markdown",
   "id": "ae0d7848-c802-4746-bcee-e47942debc62",
   "metadata": {
    "deletable": false,
    "editable": false
   },
   "source": [
    "Points possible: 5.0"
   ]
  },
  {
   "cell_type": "code",
   "execution_count": 265,
   "id": "8b99521e-3ad5-457c-bafa-020d951f817d",
   "metadata": {
    "deletable": false,
    "editable": true,
    "tags": [
     "q10-code"
    ]
   },
   "outputs": [
    {
     "data": {
      "text/html": [
       "<div>\n",
       "<style scoped>\n",
       "    .dataframe tbody tr th:only-of-type {\n",
       "        vertical-align: middle;\n",
       "    }\n",
       "\n",
       "    .dataframe tbody tr th {\n",
       "        vertical-align: top;\n",
       "    }\n",
       "\n",
       "    .dataframe thead th {\n",
       "        text-align: right;\n",
       "    }\n",
       "</style>\n",
       "<table border=\"1\" class=\"dataframe\">\n",
       "  <thead>\n",
       "    <tr style=\"text-align: right;\">\n",
       "      <th></th>\n",
       "      <th>Country</th>\n",
       "      <th>Faculty Student</th>\n",
       "      <th>International Students</th>\n",
       "      <th>MIN(`Rank`)</th>\n",
       "    </tr>\n",
       "  </thead>\n",
       "  <tbody>\n",
       "    <tr>\n",
       "      <th>0</th>\n",
       "      <td>Argentina</td>\n",
       "      <td>76.0</td>\n",
       "      <td>68.9</td>\n",
       "      <td>67</td>\n",
       "    </tr>\n",
       "    <tr>\n",
       "      <th>1</th>\n",
       "      <td>Australia</td>\n",
       "      <td>38.0</td>\n",
       "      <td>96.0</td>\n",
       "      <td>30</td>\n",
       "    </tr>\n",
       "    <tr>\n",
       "      <th>2</th>\n",
       "      <td>Austria</td>\n",
       "      <td>24.2</td>\n",
       "      <td>89.2</td>\n",
       "      <td>151</td>\n",
       "    </tr>\n",
       "    <tr>\n",
       "      <th>3</th>\n",
       "      <td>Belarus</td>\n",
       "      <td>96.8</td>\n",
       "      <td>48.2</td>\n",
       "      <td>288</td>\n",
       "    </tr>\n",
       "    <tr>\n",
       "      <th>4</th>\n",
       "      <td>Belgium</td>\n",
       "      <td>7.7</td>\n",
       "      <td>43.3</td>\n",
       "      <td>76</td>\n",
       "    </tr>\n",
       "  </tbody>\n",
       "</table>\n",
       "</div>"
      ],
      "text/plain": [
       "     Country  Faculty Student  International Students  MIN(`Rank`)\n",
       "0  Argentina             76.0                    68.9           67\n",
       "1  Australia             38.0                    96.0           30\n",
       "2    Austria             24.2                    89.2          151\n",
       "3    Belarus             96.8                    48.2          288\n",
       "4    Belgium              7.7                    43.3           76"
      ]
     },
     "execution_count": 265,
     "metadata": {},
     "output_type": "execute_result"
    }
   ],
   "source": [
    "# first compute and store the DataFrame 'top_ranked_inter_faculty', then display its head\n",
    "# do NOT plot just yet\n",
    "\n",
    "top_ranked_inter_faculty = pd.read_sql(\n",
    "    \"\"\"\n",
    "    SELECT r.`Country`, r.`Faculty Student`, r.`International Students`, sub.`MinRank`\n",
    "    FROM rankings r\n",
    "    INNER JOIN (\n",
    "        SELECT `Country`, MIN(`Rank`) AS `MinRank`\n",
    "        FROM rankings\n",
    "        WHERE `Year` = 2023\n",
    "        GROUP BY `Country`\n",
    "    ) sub\n",
    "    ON r.`Country` = sub.`Country` AND r.`Rank` = sub.`MinRank`\n",
    "    WHERE r.`Year` = 2023\n",
    "    ORDER BY r.`Country` ASC\n",
    "    \"\"\",\n",
    "    conn\n",
    ")\n",
    "\n",
    "top_ranked_inter_faculty.rename(columns={\"MinRank\": \"MIN(`Rank`)\"}, inplace=True)\n",
    "\n",
    "top_ranked_inter_faculty.head()"
   ]
  },
  {
   "cell_type": "code",
   "execution_count": 266,
   "id": "261db4bc-1a09-4454-aec7-c71cfe60599c",
   "metadata": {
    "deletable": false,
    "editable": true
   },
   "outputs": [
    {
     "name": "stdout",
     "output_type": "stream",
     "text": [
      "Make sure you saved the notebook before running this cell. Running check for q10...\n",
      "Great job! You passed all test cases for this question.\n"
     ]
    },
    {
     "data": {
      "text/plain": [
       "True"
      ]
     },
     "execution_count": 266,
     "metadata": {},
     "output_type": "execute_result"
    }
   ],
   "source": [
    "student_grader.check(\"q10\", should_get_llm_feedback=False)"
   ]
  },
  {
   "cell_type": "markdown",
   "id": "1b4cefbc-d744-41b3-bc2e-a4d8b4f0d63e",
   "metadata": {
    "deletable": false,
    "editable": false
   },
   "source": [
    "Now, **plot** `top_ranked_inter_faculty` as **scatter plot** with the **x-axis** labelled *International Students* and the **y-axis** labelled *Faculty Student*.\n",
    "\n",
    "You **must** use the `scatter_plot` function to create the plot. Your plot should look like this:"
   ]
  },
  {
   "cell_type": "markdown",
   "id": "f7b62af4-2acb-44ed-a32a-e4c98c42b34a",
   "metadata": {
    "deletable": false,
    "editable": false
   },
   "source": [
    "<div style=\"text-align: center;\"><img src=\"images/q10.jpg\" style=\"height: 400px;\"/></div>\n",
    "\n",
    "<center> <b>Delete</b> this cell before you submit the notebook to reduce the size of your file.</center>"
   ]
  },
  {
   "cell_type": "code",
   "execution_count": 278,
   "id": "f6f783f2-f755-4291-abc0-7ceb5e7d3ed2",
   "metadata": {
    "deletable": false
   },
   "outputs": [
    {
     "data": {
      "image/png": "[encoded data removed]",
      "text/plain": [
       "<Figure size 640x480 with 1 Axes>"
      ]
     },
     "metadata": {},
     "output_type": "display_data"
    }
   ],
   "source": [
    "# create the scatter plot using the DataFrame 'top_ranked_inter_faculty' with the x-axis labelled \"International Students\" \n",
    "# and the y-axis labelled \"Faculty Student\"\n",
    "\n",
    "scatter_plot(top_ranked_inter_faculty, x=\"International Students\", y=\"Faculty Student\")"
   ]
  },
  {
   "cell_type": "markdown",
   "id": "11ebfe8f-d486-410e-b9b9-77b914bcfec2",
   "metadata": {
    "deletable": false,
    "editable": false
   },
   "source": [
    "### Correlations:"
   ]
  },
  {
   "cell_type": "markdown",
   "id": "8d6e6a1c-440e-4f02-80e1-b7e1643cce90",
   "metadata": {
    "deletable": false,
    "editable": false
   },
   "source": [
    "You can use the `.corr()` method on a **DataFrame** that has **two** columns to get the *correlation* between those two columns.\n",
    "\n",
    "For example, if we have a **DataFrame** `df` with the two columns `Citations per Faculty` and `Overall`, `df.corr()` would return\n",
    "\n",
    "||**Citations per Faculty**|**Overall**|\n",
    "|---------|------|---------|\n",
    "|Citations per Faculty|1.000000|0.617044|\n",
    "|Overall|0.617044|1.000000|\n",
    "\n",
    "You can use `.loc` here to **extract** the *correlation* between the two columns (`0.617044` in this case)."
   ]
  },
  {
   "cell_type": "markdown",
   "id": "b8d455d4-c958-4ff4-88ae-247fe38db3d0",
   "metadata": {
    "deletable": false,
    "editable": false
   },
   "source": [
    "#### **Question 11:** Find the **correlation** between `International Students` and `Overall` for institutions from the `Country` *United Kingdom* with a `Rank` less than or equal to *100* in the `Year` *2022*."
   ]
  },
  {
   "cell_type": "markdown",
   "id": "a24b2382-e5ee-4f73-9ba1-d0ae55f3866f",
   "metadata": {
    "deletable": false,
    "editable": false
   },
   "source": [
    "Your output **must** be a **float** representing the absolute correlation. The **only** `pandas` operations you are **allowed** to use are: `.corr`, `.loc` and `.iloc`. You **must** use SQL to gather all other data."
   ]
  },
  {
   "cell_type": "markdown",
   "id": "2aa2956c-e796-43a9-b3f2-e24876f74e9b",
   "metadata": {
    "deletable": false,
    "editable": false
   },
   "source": [
    "Points possible: 5.0"
   ]
  },
  {
   "cell_type": "code",
   "execution_count": 287,
   "id": "aff56899-9fa3-41bd-99a8-f429ff0bcf20",
   "metadata": {
    "deletable": false,
    "editable": true,
    "tags": [
     "q11-code"
    ]
   },
   "outputs": [
    {
     "data": {
      "text/plain": [
       "0.4534457221342218"
      ]
     },
     "execution_count": 287,
     "metadata": {},
     "output_type": "execute_result"
    }
   ],
   "source": [
    "# compute and store the answer in the variable 'uk_inter_score_corr', then display it\n",
    "\n",
    "uk_inter_score_data = pd.read_sql(\n",
    "    \"\"\"\n",
    "    SELECT `International Students`, `Overall`\n",
    "    FROM rankings\n",
    "    WHERE `Country` = 'United Kingdom' AND `Year` = 2022 AND `Rank` <= 100\n",
    "    \"\"\",\n",
    "    conn\n",
    ")\n",
    "\n",
    "correlation_matrix = uk_inter_score_data.corr()\n",
    "\n",
    "uk_inter_score_corr = abs(correlation_matrix.loc['International Students', 'Overall'])\n",
    "\n",
    "uk_inter_score_corr"
   ]
  },
  {
   "cell_type": "code",
   "execution_count": 288,
   "id": "37a83c7b-a284-48ba-b5b0-5222b1cbbb10",
   "metadata": {
    "deletable": false,
    "editable": true
   },
   "outputs": [
    {
     "name": "stdout",
     "output_type": "stream",
     "text": [
      "Make sure you saved the notebook before running this cell. Running check for q11...\n",
      "Great job! You passed all test cases for this question.\n"
     ]
    },
    {
     "data": {
      "text/plain": [
       "True"
      ]
     },
     "execution_count": 288,
     "metadata": {},
     "output_type": "execute_result"
    }
   ],
   "source": [
    "student_grader.check(\"q11\", should_get_llm_feedback=False)"
   ]
  },
  {
   "cell_type": "markdown",
   "id": "2f3410d8-fe6e-45d2-8ac4-6033874fb160",
   "metadata": {
    "deletable": false,
    "editable": false
   },
   "source": [
    "#### **Question 12:** Find the **correlation** between `Citations per International` and `Overall` for **all** institutions in the `Year` *2024*."
   ]
  },
  {
   "cell_type": "markdown",
   "id": "a6e681e3-f633-4c7a-94cd-ee5606ea681c",
   "metadata": {
    "deletable": false,
    "editable": false
   },
   "source": [
    "Your output **must** be a **float** representing the absolute correlation. The **only** `pandas` operations you are **allowed** to use are: `.corr`, `.loc` and `.iloc`. You **must** use SQL to gather all other data.\n",
    "\n",
    "This should be computed as `(Citations per Faculty` * `International Faculty) / 100`, and you should select it as `Citations per International`."
   ]
  },
  {
   "cell_type": "markdown",
   "id": "9c56454f-a483-40b6-8a49-105e2b58765a",
   "metadata": {
    "deletable": false,
    "editable": false
   },
   "source": [
    "Points possible: 5.0"
   ]
  },
  {
   "cell_type": "code",
   "execution_count": 293,
   "id": "4637f5aa-a286-4abf-9fec-17fe7540e613",
   "metadata": {
    "deletable": false,
    "editable": true,
    "tags": [
     "q12-code"
    ]
   },
   "outputs": [
    {
     "data": {
      "text/plain": [
       "0.5943163420092246"
      ]
     },
     "execution_count": 293,
     "metadata": {},
     "output_type": "execute_result"
    }
   ],
   "source": [
    "# compute and store the answer in the variable 'cit_per_inter_score_corr', then display it\n",
    "\n",
    "cit_per_inter_data = pd.read_sql(\n",
    "    \"\"\"\n",
    "    SELECT \n",
    "        (`Citations per Faculty` * `International Faculty`) / 100 AS `Citations per International`,\n",
    "        `Overall`\n",
    "    FROM rankings\n",
    "    WHERE `Year` = 2024\n",
    "    \"\"\",\n",
    "    conn\n",
    ")\n",
    "\n",
    "correlation_matrix = cit_per_inter_data.corr()\n",
    "\n",
    "cit_per_inter_score_corr = abs(correlation_matrix.loc['Citations per International', 'Overall'])\n",
    "\n",
    "cit_per_inter_score_corr"
   ]
  },
  {
   "cell_type": "code",
   "execution_count": 294,
   "id": "e55ede03-40d5-4f66-bf96-c1a1fc15f9b3",
   "metadata": {
    "deletable": false,
    "editable": true
   },
   "outputs": [
    {
     "name": "stdout",
     "output_type": "stream",
     "text": [
      "Make sure you saved the notebook before running this cell. Running check for q12...\n",
      "Great job! You passed all test cases for this question.\n"
     ]
    },
    {
     "data": {
      "text/plain": [
       "True"
      ]
     },
     "execution_count": 294,
     "metadata": {},
     "output_type": "execute_result"
    }
   ],
   "source": [
    "student_grader.check(\"q12\", should_get_llm_feedback=False)"
   ]
  },
  {
   "cell_type": "markdown",
   "id": "a359ef45-d8d0-4e0a-9795-eedb56582645",
   "metadata": {
    "deletable": false,
    "editable": false
   },
   "source": [
    "#### **Question 13:** What are the **top** *15* countries with the **highest** *total* of `Citations per International` in the `Year` *2024*."
   ]
  },
  {
   "cell_type": "markdown",
   "id": "284d2c8b-d829-4255-a0ed-842b9fc570e2",
   "metadata": {
    "deletable": false,
    "editable": false
   },
   "source": [
    "The *total* `Citations per International` of a `Country` is defined as the **sum** of `Citations per International` scores of **all** institutions in that `Country`. You **must** display the columns `Country` and `Sum of International Citations`. The rows **must** be in *descending* order of `Sum of International Citations`.\n",
    "\n",
    "Your output **must** be a **DataFrame** that looks like this:\n",
    "\n",
    "||**Country**|**Sum of International Citations**|\n",
    "|---|---|---|\n",
    "|**0**|United States|2294.2671|\n",
    "|**1**|United Kingdom|2279.9530|\n",
    "|**2**|Australia|1895.6595|\n",
    "|**3**|Canada|822.9573|\n",
    "|**4**|Netherlands|749.9450|\n",
    "|**5**|Switzerland|664.2349|\n",
    "|**6**|Germany|635.0223|\n",
    "|**7**|China (Mainland)|578.7473|\n",
    "|**8**|Hong Kong SAR|513.1582|\n",
    "|**9**|France|385.9691|\n",
    "|**10**|Sweden|382.8463|\n",
    "|**11**|New Zealand|344.3393|\n",
    "|**12**|Belgium|300.6716|\n",
    "|**13**|Denmark|217.8851|\n",
    "|**14**|Finland|210.7134|"
   ]
  },
  {
   "cell_type": "markdown",
   "id": "245877e4-8c56-487f-866c-2172880e4083",
   "metadata": {
    "deletable": false,
    "editable": false
   },
   "source": [
    "Points possible: 5.0"
   ]
  },
  {
   "cell_type": "code",
   "execution_count": 297,
   "id": "ca94d3e4-1d4d-47ff-bd89-79b47a8069a3",
   "metadata": {
    "deletable": false,
    "editable": true,
    "tags": [
     "q13-code"
    ]
   },
   "outputs": [
    {
     "data": {
      "text/html": [
       "<div>\n",
       "<style scoped>\n",
       "    .dataframe tbody tr th:only-of-type {\n",
       "        vertical-align: middle;\n",
       "    }\n",
       "\n",
       "    .dataframe tbody tr th {\n",
       "        vertical-align: top;\n",
       "    }\n",
       "\n",
       "    .dataframe thead th {\n",
       "        text-align: right;\n",
       "    }\n",
       "</style>\n",
       "<table border=\"1\" class=\"dataframe\">\n",
       "  <thead>\n",
       "    <tr style=\"text-align: right;\">\n",
       "      <th></th>\n",
       "      <th>Country</th>\n",
       "      <th>Sum of International Citations</th>\n",
       "    </tr>\n",
       "  </thead>\n",
       "  <tbody>\n",
       "    <tr>\n",
       "      <th>0</th>\n",
       "      <td>United States</td>\n",
       "      <td>2294.2671</td>\n",
       "    </tr>\n",
       "    <tr>\n",
       "      <th>1</th>\n",
       "      <td>United Kingdom</td>\n",
       "      <td>2279.9530</td>\n",
       "    </tr>\n",
       "    <tr>\n",
       "      <th>2</th>\n",
       "      <td>Australia</td>\n",
       "      <td>1895.6595</td>\n",
       "    </tr>\n",
       "    <tr>\n",
       "      <th>3</th>\n",
       "      <td>Canada</td>\n",
       "      <td>822.9573</td>\n",
       "    </tr>\n",
       "    <tr>\n",
       "      <th>4</th>\n",
       "      <td>Netherlands</td>\n",
       "      <td>749.9450</td>\n",
       "    </tr>\n",
       "    <tr>\n",
       "      <th>5</th>\n",
       "      <td>Switzerland</td>\n",
       "      <td>664.2349</td>\n",
       "    </tr>\n",
       "    <tr>\n",
       "      <th>6</th>\n",
       "      <td>Germany</td>\n",
       "      <td>635.0223</td>\n",
       "    </tr>\n",
       "    <tr>\n",
       "      <th>7</th>\n",
       "      <td>China (Mainland)</td>\n",
       "      <td>578.7473</td>\n",
       "    </tr>\n",
       "    <tr>\n",
       "      <th>8</th>\n",
       "      <td>Hong Kong SAR</td>\n",
       "      <td>513.1582</td>\n",
       "    </tr>\n",
       "    <tr>\n",
       "      <th>9</th>\n",
       "      <td>France</td>\n",
       "      <td>385.9691</td>\n",
       "    </tr>\n",
       "    <tr>\n",
       "      <th>10</th>\n",
       "      <td>Sweden</td>\n",
       "      <td>382.8463</td>\n",
       "    </tr>\n",
       "    <tr>\n",
       "      <th>11</th>\n",
       "      <td>New Zealand</td>\n",
       "      <td>344.3393</td>\n",
       "    </tr>\n",
       "    <tr>\n",
       "      <th>12</th>\n",
       "      <td>Belgium</td>\n",
       "      <td>300.6716</td>\n",
       "    </tr>\n",
       "    <tr>\n",
       "      <th>13</th>\n",
       "      <td>Denmark</td>\n",
       "      <td>217.8851</td>\n",
       "    </tr>\n",
       "    <tr>\n",
       "      <th>14</th>\n",
       "      <td>Finland</td>\n",
       "      <td>210.7134</td>\n",
       "    </tr>\n",
       "  </tbody>\n",
       "</table>\n",
       "</div>"
      ],
      "text/plain": [
       "             Country  Sum of International Citations\n",
       "0      United States                       2294.2671\n",
       "1     United Kingdom                       2279.9530\n",
       "2          Australia                       1895.6595\n",
       "3             Canada                        822.9573\n",
       "4        Netherlands                        749.9450\n",
       "5        Switzerland                        664.2349\n",
       "6            Germany                        635.0223\n",
       "7   China (Mainland)                        578.7473\n",
       "8      Hong Kong SAR                        513.1582\n",
       "9             France                        385.9691\n",
       "10            Sweden                        382.8463\n",
       "11       New Zealand                        344.3393\n",
       "12           Belgium                        300.6716\n",
       "13           Denmark                        217.8851\n",
       "14           Finland                        210.7134"
      ]
     },
     "execution_count": 297,
     "metadata": {},
     "output_type": "execute_result"
    }
   ],
   "source": [
    "# compute and store the answer in the variable 'top_cit_per_inter', then display it\n",
    "\n",
    "top_cit_per_inter = pd.read_sql(\n",
    "    \"\"\"\n",
    "    SELECT `Country`, SUM((`Citations per Faculty` * `International Faculty`) / 100) AS `Sum of International Citations`\n",
    "    FROM rankings\n",
    "    WHERE `Year` = 2024\n",
    "    GROUP BY `Country`\n",
    "    ORDER BY `Sum of International Citations` DESC\n",
    "    LIMIT 15\n",
    "    \"\"\",\n",
    "    conn\n",
    ")\n",
    "top_cit_per_inter"
   ]
  },
  {
   "cell_type": "code",
   "execution_count": 299,
   "id": "8651eb4e-7006-4641-9224-350c31f8cc38",
   "metadata": {
    "deletable": false,
    "editable": true
   },
   "outputs": [
    {
     "name": "stdout",
     "output_type": "stream",
     "text": [
      "Make sure you saved the notebook before running this cell. Running check for q13...\n",
      "Great job! You passed all test cases for this question.\n"
     ]
    },
    {
     "data": {
      "text/plain": [
       "True"
      ]
     },
     "execution_count": 299,
     "metadata": {},
     "output_type": "execute_result"
    }
   ],
   "source": [
    "student_grader.check(\"q13\", should_get_llm_feedback=False)"
   ]
  },
  {
   "cell_type": "markdown",
   "id": "ef6b8afa-1b07-4dd1-918e-35a7f444ddbe",
   "metadata": {
    "deletable": false,
    "editable": false
   },
   "source": [
    "#### **Question 14:** Among the institutions ranked within the **top** *300*  in the `Year` *2023*, find the **average** `Citations per International` for **each** `Country`."
   ]
  },
  {
   "cell_type": "markdown",
   "id": "90f6c49f-e203-4169-af80-054d7bb07657",
   "metadata": {
    "deletable": false,
    "editable": false
   },
   "source": [
    "You **must** display the columns `Country` and `Average Citations per International` representing the **average** of `Citations per International` for **each** `Country`. The rows **must** be in *descending* order of `Average Citations per International`. You **must** **omit** rows where `Citations per International` and `International Faculty` columns are **missing** by using the clause:\n",
    "\n",
    "```sql\n",
    "WHERE (`Citations per Faculty` IS NOT NULL AND `International Faculty` IS NOT NULL)\n",
    "```\n",
    "\n",
    "\n",
    "**Hint:** To find the **average**, you can use `SUM()` and `COUNT()` or you can simply use `AVG()`.\n",
    "\n",
    "Your output **must** be a **DataFrame** whose **first ten rows** look like this:\n",
    "\n",
    "||**Country**|**Average Citations per International**|\n",
    "|---|---|---|\n",
    "|**0**|Singapore|92.950000|\n",
    "|**1**|Australia|82.001726|\n",
    "|**2**|Hong Kong SAR|78.318000|\n",
    "|**3**|Switzerland|78.004875|\n",
    "|**4**|Netherlands|58.039117|\n",
    "|**5**|United Kingdom|56.838479|\n",
    "|**6**|Sweden|52.991567|\n",
    "|**7**|Canada|48.342191|\n",
    "|**8**|Denmark|47.686267|\n",
    "|**9**|Belgium|47.580433|"
   ]
  },
  {
   "cell_type": "markdown",
   "id": "1a487259-2651-46ec-94bd-716c7d141e76",
   "metadata": {
    "deletable": false,
    "editable": false
   },
   "source": [
    "Points possible: 5.0"
   ]
  },
  {
   "cell_type": "code",
   "execution_count": 301,
   "id": "0621cfd7-c72b-4faa-ad9c-40dfa0f9279a",
   "metadata": {
    "deletable": false,
    "editable": true,
    "tags": [
     "q14-code"
    ]
   },
   "outputs": [
    {
     "data": {
      "text/html": [
       "<div>\n",
       "<style scoped>\n",
       "    .dataframe tbody tr th:only-of-type {\n",
       "        vertical-align: middle;\n",
       "    }\n",
       "\n",
       "    .dataframe tbody tr th {\n",
       "        vertical-align: top;\n",
       "    }\n",
       "\n",
       "    .dataframe thead th {\n",
       "        text-align: right;\n",
       "    }\n",
       "</style>\n",
       "<table border=\"1\" class=\"dataframe\">\n",
       "  <thead>\n",
       "    <tr style=\"text-align: right;\">\n",
       "      <th></th>\n",
       "      <th>Country</th>\n",
       "      <th>Average Citations per International</th>\n",
       "    </tr>\n",
       "  </thead>\n",
       "  <tbody>\n",
       "    <tr>\n",
       "      <th>0</th>\n",
       "      <td>Singapore</td>\n",
       "      <td>92.950000</td>\n",
       "    </tr>\n",
       "    <tr>\n",
       "      <th>1</th>\n",
       "      <td>Australia</td>\n",
       "      <td>82.001726</td>\n",
       "    </tr>\n",
       "    <tr>\n",
       "      <th>2</th>\n",
       "      <td>Hong Kong SAR</td>\n",
       "      <td>78.318000</td>\n",
       "    </tr>\n",
       "    <tr>\n",
       "      <th>3</th>\n",
       "      <td>Switzerland</td>\n",
       "      <td>78.004875</td>\n",
       "    </tr>\n",
       "    <tr>\n",
       "      <th>4</th>\n",
       "      <td>Netherlands</td>\n",
       "      <td>58.039117</td>\n",
       "    </tr>\n",
       "    <tr>\n",
       "      <th>5</th>\n",
       "      <td>United Kingdom</td>\n",
       "      <td>56.838479</td>\n",
       "    </tr>\n",
       "    <tr>\n",
       "      <th>6</th>\n",
       "      <td>Sweden</td>\n",
       "      <td>52.991567</td>\n",
       "    </tr>\n",
       "    <tr>\n",
       "      <th>7</th>\n",
       "      <td>Canada</td>\n",
       "      <td>48.342191</td>\n",
       "    </tr>\n",
       "    <tr>\n",
       "      <th>8</th>\n",
       "      <td>Denmark</td>\n",
       "      <td>47.686267</td>\n",
       "    </tr>\n",
       "    <tr>\n",
       "      <th>9</th>\n",
       "      <td>Belgium</td>\n",
       "      <td>47.580433</td>\n",
       "    </tr>\n",
       "    <tr>\n",
       "      <th>10</th>\n",
       "      <td>Norway</td>\n",
       "      <td>44.820000</td>\n",
       "    </tr>\n",
       "    <tr>\n",
       "      <th>11</th>\n",
       "      <td>Saudi Arabia</td>\n",
       "      <td>43.294600</td>\n",
       "    </tr>\n",
       "    <tr>\n",
       "      <th>12</th>\n",
       "      <td>Finland</td>\n",
       "      <td>42.823267</td>\n",
       "    </tr>\n",
       "    <tr>\n",
       "      <th>13</th>\n",
       "      <td>Ireland</td>\n",
       "      <td>38.282033</td>\n",
       "    </tr>\n",
       "    <tr>\n",
       "      <th>14</th>\n",
       "      <td>New Zealand</td>\n",
       "      <td>38.215660</td>\n",
       "    </tr>\n",
       "    <tr>\n",
       "      <th>15</th>\n",
       "      <td>Qatar</td>\n",
       "      <td>36.900000</td>\n",
       "    </tr>\n",
       "    <tr>\n",
       "      <th>16</th>\n",
       "      <td>China (Mainland)</td>\n",
       "      <td>36.544577</td>\n",
       "    </tr>\n",
       "    <tr>\n",
       "      <th>17</th>\n",
       "      <td>United States</td>\n",
       "      <td>36.240415</td>\n",
       "    </tr>\n",
       "    <tr>\n",
       "      <th>18</th>\n",
       "      <td>France</td>\n",
       "      <td>32.660511</td>\n",
       "    </tr>\n",
       "    <tr>\n",
       "      <th>19</th>\n",
       "      <td>United Arab Emirates</td>\n",
       "      <td>31.700000</td>\n",
       "    </tr>\n",
       "    <tr>\n",
       "      <th>20</th>\n",
       "      <td>Austria</td>\n",
       "      <td>31.611433</td>\n",
       "    </tr>\n",
       "    <tr>\n",
       "      <th>21</th>\n",
       "      <td>South Africa</td>\n",
       "      <td>27.696600</td>\n",
       "    </tr>\n",
       "    <tr>\n",
       "      <th>22</th>\n",
       "      <td>Israel</td>\n",
       "      <td>26.089950</td>\n",
       "    </tr>\n",
       "    <tr>\n",
       "      <th>23</th>\n",
       "      <td>Germany</td>\n",
       "      <td>24.701627</td>\n",
       "    </tr>\n",
       "    <tr>\n",
       "      <th>24</th>\n",
       "      <td>Lebanon</td>\n",
       "      <td>14.980000</td>\n",
       "    </tr>\n",
       "    <tr>\n",
       "      <th>25</th>\n",
       "      <td>South Korea</td>\n",
       "      <td>14.784700</td>\n",
       "    </tr>\n",
       "    <tr>\n",
       "      <th>26</th>\n",
       "      <td>Spain</td>\n",
       "      <td>14.626767</td>\n",
       "    </tr>\n",
       "    <tr>\n",
       "      <th>27</th>\n",
       "      <td>Italy</td>\n",
       "      <td>10.578600</td>\n",
       "    </tr>\n",
       "    <tr>\n",
       "      <th>28</th>\n",
       "      <td>Taiwan</td>\n",
       "      <td>8.763275</td>\n",
       "    </tr>\n",
       "    <tr>\n",
       "      <th>29</th>\n",
       "      <td>Brunei</td>\n",
       "      <td>8.500000</td>\n",
       "    </tr>\n",
       "    <tr>\n",
       "      <th>30</th>\n",
       "      <td>Japan</td>\n",
       "      <td>7.592830</td>\n",
       "    </tr>\n",
       "    <tr>\n",
       "      <th>31</th>\n",
       "      <td>Malaysia</td>\n",
       "      <td>5.926371</td>\n",
       "    </tr>\n",
       "    <tr>\n",
       "      <th>32</th>\n",
       "      <td>Estonia</td>\n",
       "      <td>5.720000</td>\n",
       "    </tr>\n",
       "    <tr>\n",
       "      <th>33</th>\n",
       "      <td>Portugal</td>\n",
       "      <td>5.283600</td>\n",
       "    </tr>\n",
       "    <tr>\n",
       "      <th>34</th>\n",
       "      <td>India</td>\n",
       "      <td>3.698383</td>\n",
       "    </tr>\n",
       "    <tr>\n",
       "      <th>35</th>\n",
       "      <td>Brazil</td>\n",
       "      <td>3.292400</td>\n",
       "    </tr>\n",
       "    <tr>\n",
       "      <th>36</th>\n",
       "      <td>Czech Republic</td>\n",
       "      <td>2.557300</td>\n",
       "    </tr>\n",
       "    <tr>\n",
       "      <th>37</th>\n",
       "      <td>Chile</td>\n",
       "      <td>1.772050</td>\n",
       "    </tr>\n",
       "    <tr>\n",
       "      <th>38</th>\n",
       "      <td>Russia</td>\n",
       "      <td>1.433386</td>\n",
       "    </tr>\n",
       "    <tr>\n",
       "      <th>39</th>\n",
       "      <td>Indonesia</td>\n",
       "      <td>1.180100</td>\n",
       "    </tr>\n",
       "    <tr>\n",
       "      <th>40</th>\n",
       "      <td>Argentina</td>\n",
       "      <td>1.146600</td>\n",
       "    </tr>\n",
       "    <tr>\n",
       "      <th>41</th>\n",
       "      <td>Colombia</td>\n",
       "      <td>1.059850</td>\n",
       "    </tr>\n",
       "    <tr>\n",
       "      <th>42</th>\n",
       "      <td>Mexico</td>\n",
       "      <td>0.716750</td>\n",
       "    </tr>\n",
       "    <tr>\n",
       "      <th>43</th>\n",
       "      <td>Kazakhstan</td>\n",
       "      <td>0.539850</td>\n",
       "    </tr>\n",
       "    <tr>\n",
       "      <th>44</th>\n",
       "      <td>Poland</td>\n",
       "      <td>0.470300</td>\n",
       "    </tr>\n",
       "    <tr>\n",
       "      <th>45</th>\n",
       "      <td>Thailand</td>\n",
       "      <td>0.445800</td>\n",
       "    </tr>\n",
       "    <tr>\n",
       "      <th>46</th>\n",
       "      <td>Belarus</td>\n",
       "      <td>0.044200</td>\n",
       "    </tr>\n",
       "  </tbody>\n",
       "</table>\n",
       "</div>"
      ],
      "text/plain": [
       "                 Country  Average Citations per International\n",
       "0              Singapore                            92.950000\n",
       "1              Australia                            82.001726\n",
       "2          Hong Kong SAR                            78.318000\n",
       "3            Switzerland                            78.004875\n",
       "4            Netherlands                            58.039117\n",
       "5         United Kingdom                            56.838479\n",
       "6                 Sweden                            52.991567\n",
       "7                 Canada                            48.342191\n",
       "8                Denmark                            47.686267\n",
       "9                Belgium                            47.580433\n",
       "10                Norway                            44.820000\n",
       "11          Saudi Arabia                            43.294600\n",
       "12               Finland                            42.823267\n",
       "13               Ireland                            38.282033\n",
       "14           New Zealand                            38.215660\n",
       "15                 Qatar                            36.900000\n",
       "16      China (Mainland)                            36.544577\n",
       "17         United States                            36.240415\n",
       "18                France                            32.660511\n",
       "19  United Arab Emirates                            31.700000\n",
       "20               Austria                            31.611433\n",
       "21          South Africa                            27.696600\n",
       "22                Israel                            26.089950\n",
       "23               Germany                            24.701627\n",
       "24               Lebanon                            14.980000\n",
       "25           South Korea                            14.784700\n",
       "26                 Spain                            14.626767\n",
       "27                 Italy                            10.578600\n",
       "28                Taiwan                             8.763275\n",
       "29                Brunei                             8.500000\n",
       "30                 Japan                             7.592830\n",
       "31              Malaysia                             5.926371\n",
       "32               Estonia                             5.720000\n",
       "33              Portugal                             5.283600\n",
       "34                 India                             3.698383\n",
       "35                Brazil                             3.292400\n",
       "36        Czech Republic                             2.557300\n",
       "37                 Chile                             1.772050\n",
       "38                Russia                             1.433386\n",
       "39             Indonesia                             1.180100\n",
       "40             Argentina                             1.146600\n",
       "41              Colombia                             1.059850\n",
       "42                Mexico                             0.716750\n",
       "43            Kazakhstan                             0.539850\n",
       "44                Poland                             0.470300\n",
       "45              Thailand                             0.445800\n",
       "46               Belarus                             0.044200"
      ]
     },
     "execution_count": 301,
     "metadata": {},
     "output_type": "execute_result"
    }
   ],
   "source": [
    "# compute and store the answer in the variable 'avg_cit_per_inter', then display it\n",
    "\n",
    "avg_cit_per_inter = pd.read_sql(\n",
    "    \"\"\"\n",
    "    SELECT `Country`, \n",
    "           AVG((`Citations per Faculty` * `International Faculty`) / 100) AS `Average Citations per International`\n",
    "    FROM rankings\n",
    "    WHERE `Year` = 2023 AND `Rank` <= 300 AND \n",
    "          (`Citations per Faculty` IS NOT NULL AND `International Faculty` IS NOT NULL)\n",
    "    GROUP BY `Country`\n",
    "    ORDER BY `Average Citations per International` DESC\n",
    "    \"\"\",\n",
    "    conn\n",
    ")\n",
    "\n",
    "avg_cit_per_inter"
   ]
  },
  {
   "cell_type": "code",
   "execution_count": 302,
   "id": "9b0a87f4-a771-42bc-8bb9-7cfe61f1ea71",
   "metadata": {
    "deletable": false,
    "editable": true
   },
   "outputs": [
    {
     "name": "stdout",
     "output_type": "stream",
     "text": [
      "Make sure you saved the notebook before running this cell. Running check for q14...\n",
      "Great job! You passed all test cases for this question.\n"
     ]
    },
    {
     "data": {
      "text/plain": [
       "True"
      ]
     },
     "execution_count": 302,
     "metadata": {},
     "output_type": "execute_result"
    }
   ],
   "source": [
    "student_grader.check(\"q14\", should_get_llm_feedback=False)"
   ]
  },
  {
   "cell_type": "markdown",
   "id": "c5fac8b1-b8dd-4f77-bc83-5a885f0f5ba0",
   "metadata": {
    "deletable": false,
    "editable": false
   },
   "source": [
    "#### **Question 15** Find the **institution** with the **highest** value of `Citations per International` for **each** `Country` in the `Year` *2024*."
   ]
  },
  {
   "cell_type": "markdown",
   "id": "aab80ba2-b92b-45ca-8e0f-df31ae38e9a3",
   "metadata": {
    "deletable": false,
    "editable": false
   },
   "source": [
    "Your output **must** be a **DataFrame** with the columns `Country`, `Institution Name`, and a new column `Maximum Citations per International` representing the **maximum** value of `Citations per International` for that country. The rows **must** be in *descending* order of `Maximum Citations per International`. You **must** **omit** rows where `Maximum Citations per International` is **missing** by using the clause:\n",
    "\n",
    "```sql\n",
    "HAVING `Maximum Citations per International` IS NOT NULL\n",
    "```\n",
    "\n",
    "**Hint:** You can use the `MAX()` function to return the largest value within a group.\n",
    "\n",
    "Your output **must** be a **DataFrame** whose **first ten rows** look like this:\n",
    "\n",
    "||**Country**|**Institution Name**|**Maximum Citations per International**|\n",
    "|---|---|---|---|\n",
    "|**0**|United States|Massachusetts Institute of Technology (MIT) |100.0000|\n",
    "|**1**|Hong Kong SAR|City University of Hong Kong|99.9000|\n",
    "|**2**|Switzerland|University of Bern|99.2000|\n",
    "|**3**|Australia|The University of Western Australia|98.9000|\n",
    "|**4**|Canada|Western University|98.0051|\n",
    "|**5**|Macau SAR|University of Macau|96.9000|\n",
    "|**6**|China (Mainland)|Zhejiang University|95.3552|\n",
    "|**7**|Singapore|Nanyang Technological University, Singapore (NTU)|94.4000|\n",
    "|**8**|United Kingdom|Imperial College London|94.0000|\n",
    "|**9**|France|Institut Polytechnique de Paris|92.3930|"
   ]
  },
  {
   "cell_type": "markdown",
   "id": "b40a593a-5f5c-4e28-b7c3-0056b5a64378",
   "metadata": {
    "deletable": false,
    "editable": false
   },
   "source": [
    "Points possible: 6.0"
   ]
  },
  {
   "cell_type": "code",
   "execution_count": 305,
   "id": "3d509f3e-f62f-43f9-80fa-9e3a4a988c6c",
   "metadata": {
    "deletable": false,
    "editable": true,
    "tags": [
     "q15-code"
    ]
   },
   "outputs": [
    {
     "data": {
      "text/html": [
       "<div>\n",
       "<style scoped>\n",
       "    .dataframe tbody tr th:only-of-type {\n",
       "        vertical-align: middle;\n",
       "    }\n",
       "\n",
       "    .dataframe tbody tr th {\n",
       "        vertical-align: top;\n",
       "    }\n",
       "\n",
       "    .dataframe thead th {\n",
       "        text-align: right;\n",
       "    }\n",
       "</style>\n",
       "<table border=\"1\" class=\"dataframe\">\n",
       "  <thead>\n",
       "    <tr style=\"text-align: right;\">\n",
       "      <th></th>\n",
       "      <th>Country</th>\n",
       "      <th>Institution Name</th>\n",
       "      <th>Maximum Citations per International</th>\n",
       "    </tr>\n",
       "  </thead>\n",
       "  <tbody>\n",
       "    <tr>\n",
       "      <th>0</th>\n",
       "      <td>United States</td>\n",
       "      <td>Massachusetts Institute of Technology (MIT)</td>\n",
       "      <td>100.0000</td>\n",
       "    </tr>\n",
       "    <tr>\n",
       "      <th>1</th>\n",
       "      <td>Hong Kong SAR</td>\n",
       "      <td>City University of Hong Kong</td>\n",
       "      <td>99.9000</td>\n",
       "    </tr>\n",
       "    <tr>\n",
       "      <th>2</th>\n",
       "      <td>Switzerland</td>\n",
       "      <td>University of Bern</td>\n",
       "      <td>99.2000</td>\n",
       "    </tr>\n",
       "    <tr>\n",
       "      <th>3</th>\n",
       "      <td>Australia</td>\n",
       "      <td>The University of Western Australia</td>\n",
       "      <td>98.9000</td>\n",
       "    </tr>\n",
       "    <tr>\n",
       "      <th>4</th>\n",
       "      <td>Canada</td>\n",
       "      <td>Western University</td>\n",
       "      <td>98.0051</td>\n",
       "    </tr>\n",
       "    <tr>\n",
       "      <th>5</th>\n",
       "      <td>Macau SAR</td>\n",
       "      <td>University of Macau</td>\n",
       "      <td>96.9000</td>\n",
       "    </tr>\n",
       "    <tr>\n",
       "      <th>6</th>\n",
       "      <td>China (Mainland)</td>\n",
       "      <td>Zhejiang University</td>\n",
       "      <td>95.3552</td>\n",
       "    </tr>\n",
       "    <tr>\n",
       "      <th>7</th>\n",
       "      <td>Singapore</td>\n",
       "      <td>Nanyang Technological University, Singapore (NTU)</td>\n",
       "      <td>94.4000</td>\n",
       "    </tr>\n",
       "    <tr>\n",
       "      <th>8</th>\n",
       "      <td>United Kingdom</td>\n",
       "      <td>Imperial College London</td>\n",
       "      <td>94.0000</td>\n",
       "    </tr>\n",
       "    <tr>\n",
       "      <th>9</th>\n",
       "      <td>France</td>\n",
       "      <td>Institut Polytechnique de Paris</td>\n",
       "      <td>92.3930</td>\n",
       "    </tr>\n",
       "    <tr>\n",
       "      <th>10</th>\n",
       "      <td>Netherlands</td>\n",
       "      <td>University of Amsterdam</td>\n",
       "      <td>90.6444</td>\n",
       "    </tr>\n",
       "    <tr>\n",
       "      <th>11</th>\n",
       "      <td>Belgium</td>\n",
       "      <td>KU Leuven</td>\n",
       "      <td>86.3037</td>\n",
       "    </tr>\n",
       "    <tr>\n",
       "      <th>12</th>\n",
       "      <td>Sweden</td>\n",
       "      <td>KTH Royal Institute of Technology</td>\n",
       "      <td>84.0664</td>\n",
       "    </tr>\n",
       "    <tr>\n",
       "      <th>13</th>\n",
       "      <td>Denmark</td>\n",
       "      <td>Technical University of Denmark</td>\n",
       "      <td>83.4000</td>\n",
       "    </tr>\n",
       "    <tr>\n",
       "      <th>14</th>\n",
       "      <td>Finland</td>\n",
       "      <td>Aalto University</td>\n",
       "      <td>75.8270</td>\n",
       "    </tr>\n",
       "    <tr>\n",
       "      <th>15</th>\n",
       "      <td>New Zealand</td>\n",
       "      <td>University of Waikato</td>\n",
       "      <td>74.4750</td>\n",
       "    </tr>\n",
       "    <tr>\n",
       "      <th>16</th>\n",
       "      <td>Cyprus</td>\n",
       "      <td>University of Cyprus (UCY)</td>\n",
       "      <td>72.2762</td>\n",
       "    </tr>\n",
       "    <tr>\n",
       "      <th>17</th>\n",
       "      <td>Austria</td>\n",
       "      <td>Technische Universität Wien</td>\n",
       "      <td>67.9601</td>\n",
       "    </tr>\n",
       "    <tr>\n",
       "      <th>18</th>\n",
       "      <td>Saudi Arabia</td>\n",
       "      <td>King Fahd University of Petroleum &amp; Minerals</td>\n",
       "      <td>65.8000</td>\n",
       "    </tr>\n",
       "    <tr>\n",
       "      <th>19</th>\n",
       "      <td>Ireland</td>\n",
       "      <td>Trinity College Dublin, The University of Dublin</td>\n",
       "      <td>63.9718</td>\n",
       "    </tr>\n",
       "    <tr>\n",
       "      <th>20</th>\n",
       "      <td>Malaysia</td>\n",
       "      <td>Universiti Teknologi PETRONAS (UTP)</td>\n",
       "      <td>55.9764</td>\n",
       "    </tr>\n",
       "    <tr>\n",
       "      <th>21</th>\n",
       "      <td>Norway</td>\n",
       "      <td>University of Oslo</td>\n",
       "      <td>55.2762</td>\n",
       "    </tr>\n",
       "    <tr>\n",
       "      <th>22</th>\n",
       "      <td>Germany</td>\n",
       "      <td>KIT, Karlsruhe Institute of Technology</td>\n",
       "      <td>50.6176</td>\n",
       "    </tr>\n",
       "    <tr>\n",
       "      <th>23</th>\n",
       "      <td>United Arab Emirates</td>\n",
       "      <td>Khalifa University of Science and Technology</td>\n",
       "      <td>48.3000</td>\n",
       "    </tr>\n",
       "    <tr>\n",
       "      <th>24</th>\n",
       "      <td>Spain</td>\n",
       "      <td>Universitat Pompeu Fabra (Barcelona)</td>\n",
       "      <td>43.3124</td>\n",
       "    </tr>\n",
       "    <tr>\n",
       "      <th>25</th>\n",
       "      <td>South Korea</td>\n",
       "      <td>Ulsan National Institute of Science and Techno...</td>\n",
       "      <td>40.9190</td>\n",
       "    </tr>\n",
       "    <tr>\n",
       "      <th>26</th>\n",
       "      <td>Israel</td>\n",
       "      <td>Tel Aviv University</td>\n",
       "      <td>40.3596</td>\n",
       "    </tr>\n",
       "    <tr>\n",
       "      <th>27</th>\n",
       "      <td>Qatar</td>\n",
       "      <td>Qatar University</td>\n",
       "      <td>38.8000</td>\n",
       "    </tr>\n",
       "    <tr>\n",
       "      <th>28</th>\n",
       "      <td>Italy</td>\n",
       "      <td>Politecnico di Milano</td>\n",
       "      <td>30.8154</td>\n",
       "    </tr>\n",
       "    <tr>\n",
       "      <th>29</th>\n",
       "      <td>Luxembourg</td>\n",
       "      <td>University of Luxembourg</td>\n",
       "      <td>28.6000</td>\n",
       "    </tr>\n",
       "    <tr>\n",
       "      <th>30</th>\n",
       "      <td>South Africa</td>\n",
       "      <td>University of Cape Town</td>\n",
       "      <td>27.3743</td>\n",
       "    </tr>\n",
       "    <tr>\n",
       "      <th>31</th>\n",
       "      <td>Oman</td>\n",
       "      <td>Sultan Qaboos University</td>\n",
       "      <td>18.4000</td>\n",
       "    </tr>\n",
       "    <tr>\n",
       "      <th>32</th>\n",
       "      <td>Japan</td>\n",
       "      <td>Osaka University</td>\n",
       "      <td>17.9322</td>\n",
       "    </tr>\n",
       "    <tr>\n",
       "      <th>33</th>\n",
       "      <td>Lebanon</td>\n",
       "      <td>American University of Beirut (AUB)</td>\n",
       "      <td>16.4076</td>\n",
       "    </tr>\n",
       "    <tr>\n",
       "      <th>34</th>\n",
       "      <td>Iran, Islamic Republic of</td>\n",
       "      <td>Amirkabir University of Technology</td>\n",
       "      <td>15.8682</td>\n",
       "    </tr>\n",
       "    <tr>\n",
       "      <th>35</th>\n",
       "      <td>Taiwan</td>\n",
       "      <td>National Yang Ming Chiao Tung University</td>\n",
       "      <td>9.8990</td>\n",
       "    </tr>\n",
       "    <tr>\n",
       "      <th>36</th>\n",
       "      <td>Brunei</td>\n",
       "      <td>Universiti Brunei Darussalam (UBD)</td>\n",
       "      <td>8.2000</td>\n",
       "    </tr>\n",
       "    <tr>\n",
       "      <th>37</th>\n",
       "      <td>Turkey</td>\n",
       "      <td>Koç University</td>\n",
       "      <td>7.8078</td>\n",
       "    </tr>\n",
       "    <tr>\n",
       "      <th>38</th>\n",
       "      <td>Russia</td>\n",
       "      <td>National Research Nuclear University MEPhI (Mo...</td>\n",
       "      <td>5.8969</td>\n",
       "    </tr>\n",
       "    <tr>\n",
       "      <th>39</th>\n",
       "      <td>Portugal</td>\n",
       "      <td>Universidade Nova de Lisboa</td>\n",
       "      <td>5.8080</td>\n",
       "    </tr>\n",
       "    <tr>\n",
       "      <th>40</th>\n",
       "      <td>Estonia</td>\n",
       "      <td>University of Tartu</td>\n",
       "      <td>5.3475</td>\n",
       "    </tr>\n",
       "    <tr>\n",
       "      <th>41</th>\n",
       "      <td>India</td>\n",
       "      <td>Indian Institute of Science</td>\n",
       "      <td>4.8000</td>\n",
       "    </tr>\n",
       "    <tr>\n",
       "      <th>42</th>\n",
       "      <td>Czech Republic</td>\n",
       "      <td>Masaryk University</td>\n",
       "      <td>4.7120</td>\n",
       "    </tr>\n",
       "    <tr>\n",
       "      <th>43</th>\n",
       "      <td>Egypt</td>\n",
       "      <td>The American University in Cairo</td>\n",
       "      <td>4.5034</td>\n",
       "    </tr>\n",
       "    <tr>\n",
       "      <th>44</th>\n",
       "      <td>Pakistan</td>\n",
       "      <td>Quaid-i-Azam University</td>\n",
       "      <td>3.2980</td>\n",
       "    </tr>\n",
       "    <tr>\n",
       "      <th>45</th>\n",
       "      <td>Brazil</td>\n",
       "      <td>Universidade Estadual de Campinas (Unicamp)</td>\n",
       "      <td>2.9133</td>\n",
       "    </tr>\n",
       "    <tr>\n",
       "      <th>46</th>\n",
       "      <td>Greece</td>\n",
       "      <td>National and Kapodistrian University of Athens</td>\n",
       "      <td>2.8809</td>\n",
       "    </tr>\n",
       "    <tr>\n",
       "      <th>47</th>\n",
       "      <td>Indonesia</td>\n",
       "      <td>Bandung Institute of Technology (ITB)</td>\n",
       "      <td>2.1100</td>\n",
       "    </tr>\n",
       "    <tr>\n",
       "      <th>48</th>\n",
       "      <td>Chile</td>\n",
       "      <td>Pontificia Universidad Católica de Chile (UC)</td>\n",
       "      <td>1.9024</td>\n",
       "    </tr>\n",
       "    <tr>\n",
       "      <th>49</th>\n",
       "      <td>Colombia</td>\n",
       "      <td>Universidad de los Andes</td>\n",
       "      <td>1.5576</td>\n",
       "    </tr>\n",
       "    <tr>\n",
       "      <th>50</th>\n",
       "      <td>Argentina</td>\n",
       "      <td>Universidad de Buenos Aires (UBA)</td>\n",
       "      <td>1.0642</td>\n",
       "    </tr>\n",
       "    <tr>\n",
       "      <th>51</th>\n",
       "      <td>Thailand</td>\n",
       "      <td>Chulalongkorn University</td>\n",
       "      <td>1.0500</td>\n",
       "    </tr>\n",
       "    <tr>\n",
       "      <th>52</th>\n",
       "      <td>Kazakhstan</td>\n",
       "      <td>L.N. Gumilyov Eurasian National University (ENU)</td>\n",
       "      <td>0.8302</td>\n",
       "    </tr>\n",
       "    <tr>\n",
       "      <th>53</th>\n",
       "      <td>Mexico</td>\n",
       "      <td>Tecnológico de Monterrey</td>\n",
       "      <td>0.7521</td>\n",
       "    </tr>\n",
       "    <tr>\n",
       "      <th>54</th>\n",
       "      <td>Poland</td>\n",
       "      <td>University of Warsaw</td>\n",
       "      <td>0.6174</td>\n",
       "    </tr>\n",
       "    <tr>\n",
       "      <th>55</th>\n",
       "      <td>Lithuania</td>\n",
       "      <td>Vilnius University</td>\n",
       "      <td>0.3900</td>\n",
       "    </tr>\n",
       "    <tr>\n",
       "      <th>56</th>\n",
       "      <td>Peru</td>\n",
       "      <td>Pontificia Universidad Católica del Perú</td>\n",
       "      <td>0.0702</td>\n",
       "    </tr>\n",
       "    <tr>\n",
       "      <th>57</th>\n",
       "      <td>Belarus</td>\n",
       "      <td>Belarusian State University</td>\n",
       "      <td>0.0533</td>\n",
       "    </tr>\n",
       "    <tr>\n",
       "      <th>58</th>\n",
       "      <td>Philippines</td>\n",
       "      <td>University of the Philippines</td>\n",
       "      <td>0.0304</td>\n",
       "    </tr>\n",
       "  </tbody>\n",
       "</table>\n",
       "</div>"
      ],
      "text/plain": [
       "                      Country  \\\n",
       "0               United States   \n",
       "1               Hong Kong SAR   \n",
       "2                 Switzerland   \n",
       "3                   Australia   \n",
       "4                      Canada   \n",
       "5                   Macau SAR   \n",
       "6            China (Mainland)   \n",
       "7                   Singapore   \n",
       "8              United Kingdom   \n",
       "9                      France   \n",
       "10                Netherlands   \n",
       "11                    Belgium   \n",
       "12                     Sweden   \n",
       "13                    Denmark   \n",
       "14                    Finland   \n",
       "15                New Zealand   \n",
       "16                     Cyprus   \n",
       "17                    Austria   \n",
       "18               Saudi Arabia   \n",
       "19                    Ireland   \n",
       "20                   Malaysia   \n",
       "21                     Norway   \n",
       "22                    Germany   \n",
       "23       United Arab Emirates   \n",
       "24                      Spain   \n",
       "25                South Korea   \n",
       "26                     Israel   \n",
       "27                      Qatar   \n",
       "28                      Italy   \n",
       "29                 Luxembourg   \n",
       "30               South Africa   \n",
       "31                       Oman   \n",
       "32                      Japan   \n",
       "33                    Lebanon   \n",
       "34  Iran, Islamic Republic of   \n",
       "35                     Taiwan   \n",
       "36                     Brunei   \n",
       "37                     Turkey   \n",
       "38                     Russia   \n",
       "39                   Portugal   \n",
       "40                    Estonia   \n",
       "41                      India   \n",
       "42             Czech Republic   \n",
       "43                      Egypt   \n",
       "44                   Pakistan   \n",
       "45                     Brazil   \n",
       "46                     Greece   \n",
       "47                  Indonesia   \n",
       "48                      Chile   \n",
       "49                   Colombia   \n",
       "50                  Argentina   \n",
       "51                   Thailand   \n",
       "52                 Kazakhstan   \n",
       "53                     Mexico   \n",
       "54                     Poland   \n",
       "55                  Lithuania   \n",
       "56                       Peru   \n",
       "57                    Belarus   \n",
       "58                Philippines   \n",
       "\n",
       "                                     Institution Name  \\\n",
       "0        Massachusetts Institute of Technology (MIT)    \n",
       "1                        City University of Hong Kong   \n",
       "2                                  University of Bern   \n",
       "3                 The University of Western Australia   \n",
       "4                                  Western University   \n",
       "5                                 University of Macau   \n",
       "6                                 Zhejiang University   \n",
       "7   Nanyang Technological University, Singapore (NTU)   \n",
       "8                             Imperial College London   \n",
       "9                     Institut Polytechnique de Paris   \n",
       "10                            University of Amsterdam   \n",
       "11                                          KU Leuven   \n",
       "12                 KTH Royal Institute of Technology    \n",
       "13                    Technical University of Denmark   \n",
       "14                                   Aalto University   \n",
       "15                              University of Waikato   \n",
       "16                         University of Cyprus (UCY)   \n",
       "17                        Technische Universität Wien   \n",
       "18       King Fahd University of Petroleum & Minerals   \n",
       "19   Trinity College Dublin, The University of Dublin   \n",
       "20                Universiti Teknologi PETRONAS (UTP)   \n",
       "21                                 University of Oslo   \n",
       "22             KIT, Karlsruhe Institute of Technology   \n",
       "23       Khalifa University of Science and Technology   \n",
       "24               Universitat Pompeu Fabra (Barcelona)   \n",
       "25  Ulsan National Institute of Science and Techno...   \n",
       "26                                Tel Aviv University   \n",
       "27                                   Qatar University   \n",
       "28                              Politecnico di Milano   \n",
       "29                           University of Luxembourg   \n",
       "30                            University of Cape Town   \n",
       "31                           Sultan Qaboos University   \n",
       "32                                   Osaka University   \n",
       "33                American University of Beirut (AUB)   \n",
       "34                 Amirkabir University of Technology   \n",
       "35           National Yang Ming Chiao Tung University   \n",
       "36                 Universiti Brunei Darussalam (UBD)   \n",
       "37                                     Koç University   \n",
       "38  National Research Nuclear University MEPhI (Mo...   \n",
       "39                        Universidade Nova de Lisboa   \n",
       "40                                University of Tartu   \n",
       "41                        Indian Institute of Science   \n",
       "42                                 Masaryk University   \n",
       "43                   The American University in Cairo   \n",
       "44                            Quaid-i-Azam University   \n",
       "45        Universidade Estadual de Campinas (Unicamp)   \n",
       "46     National and Kapodistrian University of Athens   \n",
       "47              Bandung Institute of Technology (ITB)   \n",
       "48      Pontificia Universidad Católica de Chile (UC)   \n",
       "49                           Universidad de los Andes   \n",
       "50                  Universidad de Buenos Aires (UBA)   \n",
       "51                           Chulalongkorn University   \n",
       "52   L.N. Gumilyov Eurasian National University (ENU)   \n",
       "53                           Tecnológico de Monterrey   \n",
       "54                              University of Warsaw    \n",
       "55                                Vilnius University    \n",
       "56           Pontificia Universidad Católica del Perú   \n",
       "57                        Belarusian State University   \n",
       "58                      University of the Philippines   \n",
       "\n",
       "    Maximum Citations per International  \n",
       "0                              100.0000  \n",
       "1                               99.9000  \n",
       "2                               99.2000  \n",
       "3                               98.9000  \n",
       "4                               98.0051  \n",
       "5                               96.9000  \n",
       "6                               95.3552  \n",
       "7                               94.4000  \n",
       "8                               94.0000  \n",
       "9                               92.3930  \n",
       "10                              90.6444  \n",
       "11                              86.3037  \n",
       "12                              84.0664  \n",
       "13                              83.4000  \n",
       "14                              75.8270  \n",
       "15                              74.4750  \n",
       "16                              72.2762  \n",
       "17                              67.9601  \n",
       "18                              65.8000  \n",
       "19                              63.9718  \n",
       "20                              55.9764  \n",
       "21                              55.2762  \n",
       "22                              50.6176  \n",
       "23                              48.3000  \n",
       "24                              43.3124  \n",
       "25                              40.9190  \n",
       "26                              40.3596  \n",
       "27                              38.8000  \n",
       "28                              30.8154  \n",
       "29                              28.6000  \n",
       "30                              27.3743  \n",
       "31                              18.4000  \n",
       "32                              17.9322  \n",
       "33                              16.4076  \n",
       "34                              15.8682  \n",
       "35                               9.8990  \n",
       "36                               8.2000  \n",
       "37                               7.8078  \n",
       "38                               5.8969  \n",
       "39                               5.8080  \n",
       "40                               5.3475  \n",
       "41                               4.8000  \n",
       "42                               4.7120  \n",
       "43                               4.5034  \n",
       "44                               3.2980  \n",
       "45                               2.9133  \n",
       "46                               2.8809  \n",
       "47                               2.1100  \n",
       "48                               1.9024  \n",
       "49                               1.5576  \n",
       "50                               1.0642  \n",
       "51                               1.0500  \n",
       "52                               0.8302  \n",
       "53                               0.7521  \n",
       "54                               0.6174  \n",
       "55                               0.3900  \n",
       "56                               0.0702  \n",
       "57                               0.0533  \n",
       "58                               0.0304  "
      ]
     },
     "execution_count": 305,
     "metadata": {},
     "output_type": "execute_result"
    }
   ],
   "source": [
    "# compute and store the answer in the variable 'max_cit_per_inter', then display it\n",
    "max_cit_per_inter = pd.read_sql(\n",
    "    \"\"\"\n",
    "    SELECT \n",
    "        `Country`, \n",
    "        `Institution Name`, \n",
    "        MAX((`Citations per Faculty` * `International Faculty`) / 100) AS `Maximum Citations per International`\n",
    "    FROM rankings\n",
    "    WHERE `Year` = 2024\n",
    "    GROUP BY `Country`\n",
    "    HAVING `Maximum Citations per International` IS NOT NULL\n",
    "    ORDER BY `Maximum Citations per International` DESC\n",
    "    \"\"\",\n",
    "    conn\n",
    ")\n",
    "\n",
    "max_cit_per_inter"
   ]
  },
  {
   "cell_type": "code",
   "execution_count": 306,
   "id": "2b046388-aa2f-4ac3-b4ff-2453dac2b009",
   "metadata": {
    "deletable": false,
    "editable": true
   },
   "outputs": [
    {
     "name": "stdout",
     "output_type": "stream",
     "text": [
      "Make sure you saved the notebook before running this cell. Running check for q15...\n",
      "Great job! You passed all test cases for this question.\n"
     ]
    },
    {
     "data": {
      "text/plain": [
       "True"
      ]
     },
     "execution_count": 306,
     "metadata": {},
     "output_type": "execute_result"
    }
   ],
   "source": [
    "student_grader.check(\"q15\", should_get_llm_feedback=False)"
   ]
  },
  {
   "cell_type": "markdown",
   "id": "52194cba-1359-4018-b5d7-b39ee7bc43ad",
   "metadata": {
    "deletable": false,
    "editable": false
   },
   "source": [
    "#### **Question 16**: Among the institutions with a `Rank` less than or equal to *50*  in the `Year` *2022*, create a **horizontal bar plot** representing the **average** of both the`Citations per Faculty` and `International Faculty` scores for **all** institutions in **each** `Country`."
   ]
  },
  {
   "cell_type": "markdown",
   "id": "2cc7fd41-d54a-4db2-aee1-5c1c763583c3",
   "metadata": {
    "deletable": false,
    "editable": false
   },
   "source": [
    "You **must** first create a **DataFrame** `country_citations_inter` with **three** columns: `Country`, `Average Citations per Faculty` and `Average International Faculty` representing the name, the average value of `Citations per Faculty` and the average value of `International Faculty` for each country respectively.\n",
    "\n",
    "You **must** ensure that the countries in the **DataFrame** are **ordered** in **increasing** order of the **difference** between the `Average Citations per Faculty` and `Average International Faculty`."
   ]
  },
  {
   "cell_type": "markdown",
   "id": "f00d5849-828b-43a8-ac47-eef69e390844",
   "metadata": {
    "deletable": false,
    "editable": false
   },
   "source": [
    "Points possible: 6.0"
   ]
  },
  {
   "cell_type": "code",
   "execution_count": 378,
   "id": "c0073f5e-f7f9-4b46-a1da-a22351ded3fd",
   "metadata": {
    "deletable": false,
    "editable": true,
    "tags": [
     "q16-code"
    ]
   },
   "outputs": [
    {
     "data": {
      "text/html": [
       "<div>\n",
       "<style scoped>\n",
       "    .dataframe tbody tr th:only-of-type {\n",
       "        vertical-align: middle;\n",
       "    }\n",
       "\n",
       "    .dataframe tbody tr th {\n",
       "        vertical-align: top;\n",
       "    }\n",
       "\n",
       "    .dataframe thead th {\n",
       "        text-align: right;\n",
       "    }\n",
       "</style>\n",
       "<table border=\"1\" class=\"dataframe\">\n",
       "  <thead>\n",
       "    <tr style=\"text-align: right;\">\n",
       "      <th></th>\n",
       "      <th>Country</th>\n",
       "      <th>Average Citations per Faculty</th>\n",
       "      <th>Average International Faculty</th>\n",
       "    </tr>\n",
       "  </thead>\n",
       "  <tbody>\n",
       "    <tr>\n",
       "      <th>0</th>\n",
       "      <td>Canada</td>\n",
       "      <td>57.033333</td>\n",
       "      <td>93.3000</td>\n",
       "    </tr>\n",
       "    <tr>\n",
       "      <th>1</th>\n",
       "      <td>Germany</td>\n",
       "      <td>27.200000</td>\n",
       "      <td>56.9000</td>\n",
       "    </tr>\n",
       "    <tr>\n",
       "      <th>2</th>\n",
       "      <td>United Kingdom</td>\n",
       "      <td>77.937500</td>\n",
       "      <td>98.9375</td>\n",
       "    </tr>\n",
       "    <tr>\n",
       "      <th>3</th>\n",
       "      <td>Hong Kong SAR</td>\n",
       "      <td>81.166667</td>\n",
       "      <td>100.0000</td>\n",
       "    </tr>\n",
       "    <tr>\n",
       "      <th>4</th>\n",
       "      <td>Australia</td>\n",
       "      <td>91.180000</td>\n",
       "      <td>99.4200</td>\n",
       "    </tr>\n",
       "    <tr>\n",
       "      <th>5</th>\n",
       "      <td>Singapore</td>\n",
       "      <td>93.050000</td>\n",
       "      <td>100.0000</td>\n",
       "    </tr>\n",
       "    <tr>\n",
       "      <th>6</th>\n",
       "      <td>France</td>\n",
       "      <td>73.350000</td>\n",
       "      <td>75.9000</td>\n",
       "    </tr>\n",
       "    <tr>\n",
       "      <th>7</th>\n",
       "      <td>Switzerland</td>\n",
       "      <td>99.800000</td>\n",
       "      <td>100.0000</td>\n",
       "    </tr>\n",
       "    <tr>\n",
       "      <th>8</th>\n",
       "      <td>United States</td>\n",
       "      <td>83.700000</td>\n",
       "      <td>65.9000</td>\n",
       "    </tr>\n",
       "    <tr>\n",
       "      <th>9</th>\n",
       "      <td>China (Mainland)</td>\n",
       "      <td>84.240000</td>\n",
       "      <td>55.5400</td>\n",
       "    </tr>\n",
       "    <tr>\n",
       "      <th>10</th>\n",
       "      <td>Japan</td>\n",
       "      <td>69.650000</td>\n",
       "      <td>4.3500</td>\n",
       "    </tr>\n",
       "    <tr>\n",
       "      <th>11</th>\n",
       "      <td>South Korea</td>\n",
       "      <td>86.900000</td>\n",
       "      <td>6.2500</td>\n",
       "    </tr>\n",
       "  </tbody>\n",
       "</table>\n",
       "</div>"
      ],
      "text/plain": [
       "             Country  Average Citations per Faculty  \\\n",
       "0             Canada                      57.033333   \n",
       "1            Germany                      27.200000   \n",
       "2     United Kingdom                      77.937500   \n",
       "3      Hong Kong SAR                      81.166667   \n",
       "4          Australia                      91.180000   \n",
       "5          Singapore                      93.050000   \n",
       "6             France                      73.350000   \n",
       "7        Switzerland                      99.800000   \n",
       "8      United States                      83.700000   \n",
       "9   China (Mainland)                      84.240000   \n",
       "10             Japan                      69.650000   \n",
       "11       South Korea                      86.900000   \n",
       "\n",
       "    Average International Faculty  \n",
       "0                         93.3000  \n",
       "1                         56.9000  \n",
       "2                         98.9375  \n",
       "3                        100.0000  \n",
       "4                         99.4200  \n",
       "5                        100.0000  \n",
       "6                         75.9000  \n",
       "7                        100.0000  \n",
       "8                         65.9000  \n",
       "9                         55.5400  \n",
       "10                         4.3500  \n",
       "11                         6.2500  "
      ]
     },
     "execution_count": 378,
     "metadata": {},
     "output_type": "execute_result"
    }
   ],
   "source": [
    "# first compute and store the DataFrame 'country_citations_inter', then display it\n",
    "# do NOT plot just yet\n",
    "\n",
    "country_citations_inter = pd.read_sql(\n",
    "    \"\"\"\n",
    "    SELECT \n",
    "        `Country`, \n",
    "        AVG(`Citations per Faculty`) AS `Average Citations per Faculty`,\n",
    "        AVG(`International Faculty`) AS `Average International Faculty`\n",
    "    FROM rankings\n",
    "    WHERE `Year` = 2022 AND `Rank` <= 50\n",
    "    GROUP BY `Country`\n",
    "    ORDER BY AVG(`Citations per Faculty`)-(AVG(`International Faculty`)) ASC\n",
    "    \"\"\",\n",
    "    conn\n",
    ")\n",
    "\n",
    "country_citations_inter"
   ]
  },
  {
   "cell_type": "code",
   "execution_count": 380,
   "id": "383081d6-96ee-4fd4-8398-0d489d9838c0",
   "metadata": {
    "deletable": false,
    "editable": true
   },
   "outputs": [
    {
     "name": "stdout",
     "output_type": "stream",
     "text": [
      "Make sure you saved the notebook before running this cell. Running check for q16...\n",
      "Great job! You passed all test cases for this question.\n"
     ]
    },
    {
     "data": {
      "text/plain": [
       "True"
      ]
     },
     "execution_count": 380,
     "metadata": {},
     "output_type": "execute_result"
    }
   ],
   "source": [
    "student_grader.check(\"q16\", should_get_llm_feedback=False)"
   ]
  },
  {
   "cell_type": "markdown",
   "id": "0233957d-04ec-4d61-a39b-ff5d2c1e9378",
   "metadata": {
    "deletable": false,
    "editable": false
   },
   "source": [
    "Now, **plot** `country_citations_inter` as **horizontal bar plot** with the **y-axis** labelled *Country*.\n",
    "\n",
    "You **must** use the `horizontal_bar_plot` function to plot this data. Verify that the countries are **ordered** in **decreasing** order of the **difference** between `Average Citations per Faculty` and `Average International Faculty`. Verify that the **legend** appears on your plot.\n",
    "\n",
    "**Hint:** If you want the countries in the plot to be ordered in **decreasing** order of the difference, you will need to make sure that in the DataFrame, they are ordered in the **increasing** order.\n",
    "\n",
    "Your plot should look like this:"
   ]
  },
  {
   "cell_type": "markdown",
   "id": "b045b6fb-d5a7-40fe-847f-c384b66eff1d",
   "metadata": {
    "deletable": false,
    "editable": false
   },
   "source": [
    "<div style=\"text-align: center;\"><img src=\"images/q16.jpg\" style=\"height: 400px;\"/></div>\n",
    "\n",
    "<center> <b>Delete</b> this cell before you submit the notebook to reduce the size of your file.</center>"
   ]
  },
  {
   "cell_type": "code",
   "execution_count": 382,
   "id": "29b5b05a-0c5c-4dd0-b41e-c8d5ce1dc4ea",
   "metadata": {
    "deletable": false
   },
   "outputs": [
    {
     "data": {
      "image/png": "[encoded data removed]",
      "text/plain": [
       "<Figure size 640x480 with 1 Axes>"
      ]
     },
     "metadata": {},
     "output_type": "display_data"
    }
   ],
   "source": [
    "# create the horizontal bar plot using the DataFrame 'country_citations_inter' with the y-axis labelled \"Country\" \n",
    "\n",
    "horizontal_bar_plot(country_citations_inter, \"Country\")"
   ]
  },
  {
   "cell_type": "markdown",
   "id": "b280b945-f28c-4ae4-8d58-e02153162e31",
   "metadata": {
    "deletable": false,
    "editable": false
   },
   "source": [
    "#### **Question 17:** Create a **scatter plot** representing the `Overall` (on the **x-axis**) against the `Rank` (on the **y-axis**) for **all** institutions in the `Year` *2022*. Additionally, **plot** a **regression line** within the same plot."
   ]
  },
  {
   "cell_type": "markdown",
   "id": "c222f876-8f34-4639-94fb-1cab67c1a3ea",
   "metadata": {
    "deletable": false,
    "editable": false
   },
   "source": [
    "You **must** first compute a **DataFrame** containing the **Rank** and the **Overall** data from the `Year` *2022*. You **must** use the `get_regression_line` function to compute the best fit line."
   ]
  },
  {
   "cell_type": "markdown",
   "id": "f835912c-2fc6-4d97-ae54-bd2aab50e250",
   "metadata": {
    "deletable": false,
    "editable": false
   },
   "source": [
    "Points possible: 6.0"
   ]
  },
  {
   "cell_type": "code",
   "execution_count": 386,
   "id": "4bba493e-4ba7-40ea-97cc-ecfd1089faa6",
   "metadata": {
    "deletable": false,
    "editable": true,
    "tags": [
     "q17-code"
    ]
   },
   "outputs": [
    {
     "data": {
      "image/png": "[encoded data removed]",
      "text/plain": [
       "<Figure size 1000x600 with 1 Axes>"
      ]
     },
     "metadata": {},
     "output_type": "display_data"
    }
   ],
   "source": [
    "# first compute and store the DataFrame 'overall_rank', then display its head\n",
    "# do NOT plot just yet\n",
    "def get_regression_line(df, x, y):\n",
    "    \"\"\"Adds a 'fit' column to the dataframe for the regression line.\"\"\"\n",
    "    x_values = df[x]\n",
    "    y_values = df[y]\n",
    "    \n",
    "    m, b = np.polyfit(x_values, y_values, 1)\n",
    "    \n",
    "    df['fit'] = m * x_values + b\n",
    "    return df\n",
    "\n",
    "with sqlite3.connect(\"rankings.db\") as conn:\n",
    "    overall_rank = pd.read_sql(\"\"\"\n",
    "        SELECT `Rank`, `Overall`\n",
    "        FROM rankings\n",
    "        WHERE `Year` = 2022\n",
    "          AND `Rank` IS NOT NULL\n",
    "          AND `Overall` IS NOT NULL\n",
    "    \"\"\", conn)\n",
    "\n",
    "overall_rank = get_regression_line(overall_rank, 'Overall', 'Rank')\n",
    "\n",
    "plt.figure(figsize=(10, 6))\n",
    "plt.scatter(overall_rank['Overall'], overall_rank['Rank'], label='Data Points', alpha=0.7)\n",
    "plt.plot(overall_rank['Overall'], overall_rank['fit'], color='red', label='Regression Line')\n",
    "\n",
    "plt.xlabel(\"Overall\")\n",
    "plt.ylabel(\"Rank\")\n",
    "plt.title(\"Scatter Plot of Overall vs. Rank (2022)\")\n",
    "plt.legend()\n",
    "plt.show()\n"
   ]
  },
  {
   "cell_type": "code",
   "execution_count": 387,
   "id": "572b9e31-19cf-4cec-b9ba-11e27d1faa52",
   "metadata": {
    "deletable": false,
    "editable": true
   },
   "outputs": [
    {
     "name": "stdout",
     "output_type": "stream",
     "text": [
      "Make sure you saved the notebook before running this cell. Running check for q17...\n"
     ]
    },
    {
     "data": {
      "image/png": "[encoded data removed]",
      "text/plain": [
       "<Figure size 1000x600 with 1 Axes>"
      ]
     },
     "metadata": {},
     "output_type": "display_data"
    },
    {
     "name": "stdout",
     "output_type": "stream",
     "text": [
      "Great job! You passed all test cases for this question.\n"
     ]
    },
    {
     "data": {
      "text/plain": [
       "True"
      ]
     },
     "execution_count": 387,
     "metadata": {},
     "output_type": "execute_result"
    }
   ],
   "source": [
    "student_grader.check(\"q17\", should_get_llm_feedback=False)"
   ]
  },
  {
   "cell_type": "markdown",
   "id": "3ddc7917-9dcf-445d-8d4c-e0863e50a40e",
   "metadata": {
    "deletable": false,
    "editable": false
   },
   "source": [
    "Now, **plot** `overall_rank` as **scatter plot** with a **regression line** with the **x-axis** labelled *Overall* and the **y-axis** labelled *Rank*.\n",
    "\n",
    "You **must** use the `regression_line_plot` function to plot this data. Your plot should look like this:"
   ]
  },
  {
   "cell_type": "markdown",
   "id": "44122f82-85f1-4916-80a3-b10e29e014e5",
   "metadata": {
    "deletable": false,
    "editable": false
   },
   "source": [
    "<div style=\"text-align: center;\"><img src=\"images/q17.jpg\" style=\"height: 400px;\"/></div>\n",
    "\n",
    "<center> <b>Delete</b> this cell before you submit the notebook to reduce the size of your file.</center>"
   ]
  },
  {
   "cell_type": "code",
   "execution_count": null,
   "id": "efee49de-2e59-42fb-a119-b1d6f7a01cc2",
   "metadata": {
    "deletable": false
   },
   "outputs": [],
   "source": [
    "# create the scatter plot and the regression line using the DataFrame 'overall_rank' with the x-axis labelled \"Overall\" \n",
    "# and the y-axis labelled \"Rank\"\n",
    "\n",
    "# regression_line_plot(..., ..., ...)"
   ]
  },
  {
   "cell_type": "markdown",
   "id": "00a30bcb-fe9c-4878-8744-38b3e72c2e99",
   "metadata": {
    "deletable": false,
    "editable": false
   },
   "source": [
    "**Food for thought:** Does our linear regression model fit the points well? It looks like the relationship between the `Overall` and `Rank` is **not quite linear**. In fact, a cursory look at the data suggests that the relationship is in fact, inverse."
   ]
  },
  {
   "cell_type": "code",
   "execution_count": null,
   "id": "1d362469-d281-442b-8d7a-b16cbe5b93ef",
   "metadata": {
    "deletable": false
   },
   "outputs": [],
   "source": [
    "# Food for thought is an entirely OPTIONAL exercise\n",
    "# you may leave your thoughts here as a comment if you wish to\n"
   ]
  },
  {
   "cell_type": "markdown",
   "id": "2cb7fde0-fc69-422d-9829-8b9a2e75be29",
   "metadata": {
    "deletable": false,
    "editable": false
   },
   "source": [
    "#### **Question 18:** Create a **scatter plot** representing the **inverse** of the `Overall` (on the **x-axis**) against the `Rank` (on the **y-axis**) for **all** institutions in the `Year` *2022*. Additionally, **plot** a **regression line**  within the same plot."
   ]
  },
  {
   "cell_type": "markdown",
   "id": "3fe82626-09a4-4646-803c-cb19488e5d22",
   "metadata": {
    "deletable": false,
    "editable": false
   },
   "source": [
    "The `Inverse Overall` for each institution is simply defined as `1/Overall` for that institution. You **must** first compute a **DataFrame** containing the **Rank** and the **Inverse Overall** data from the `Year` *2022*. You **must** use the `get_regression_line` function to compute the best fit line."
   ]
  },
  {
   "cell_type": "markdown",
   "id": "f8dea0bd-af9d-4807-9cbb-86b796fc6023",
   "metadata": {
    "deletable": false,
    "editable": false
   },
   "source": [
    "Points possible: 6.0"
   ]
  },
  {
   "cell_type": "code",
   "execution_count": 390,
   "id": "ff1e7494-e054-4b3b-9b6c-47e7f46ed465",
   "metadata": {
    "deletable": false,
    "editable": true,
    "tags": [
     "q18-code"
    ]
   },
   "outputs": [
    {
     "data": {
      "image/png": "[encoded data removed]",
      "text/plain": [
       "<Figure size 640x480 with 1 Axes>"
      ]
     },
     "metadata": {},
     "output_type": "display_data"
    }
   ],
   "source": [
    "# first compute and store the DataFrame 'inverse_overall_rank', then display its head\n",
    "# do NOT plot just yet\n",
    "\n",
    "with sqlite3.connect(\"rankings.db\") as conn:\n",
    "    inverse_overall_rank = pd.read_sql(\"\"\"\n",
    "        SELECT \n",
    "            `Rank`, \n",
    "            1.0 / `Overall` AS \"Inverse Overall\"\n",
    "        FROM rankings\n",
    "        WHERE `Year` = 2022\n",
    "          AND `Rank` IS NOT NULL\n",
    "          AND `Overall` IS NOT NULL\n",
    "    \"\"\", conn)\n",
    "\n",
    "inverse_overall_rank = get_regression_line(inverse_overall_rank, 'Inverse Overall', 'Rank')\n",
    "\n",
    "plt.scatter(inverse_overall_rank['Inverse Overall'], inverse_overall_rank['Rank'], alpha=0.7)\n",
    "plt.plot(inverse_overall_rank['Inverse Overall'], inverse_overall_rank['fit'], color='red')\n",
    "\n",
    "plt.xlabel(\"Inverse Overall (1/Overall)\")\n",
    "plt.ylabel(\"Rank\")\n",
    "plt.title(\"Scatter Plot of Inverse Overall vs. Rank (2022)\")\n",
    "plt.show()"
   ]
  },
  {
   "cell_type": "code",
   "execution_count": 391,
   "id": "4f8ec7c4-03b7-472e-b363-daf029101aa1",
   "metadata": {
    "deletable": false,
    "editable": true
   },
   "outputs": [
    {
     "name": "stdout",
     "output_type": "stream",
     "text": [
      "Make sure you saved the notebook before running this cell. Running check for q18...\n"
     ]
    },
    {
     "data": {
      "image/png": "[encoded data removed]",
      "text/plain": [
       "<Figure size 640x480 with 1 Axes>"
      ]
     },
     "metadata": {},
     "output_type": "display_data"
    },
    {
     "name": "stdout",
     "output_type": "stream",
     "text": [
      "Great job! You passed all test cases for this question.\n"
     ]
    },
    {
     "data": {
      "text/plain": [
       "True"
      ]
     },
     "execution_count": 391,
     "metadata": {},
     "output_type": "execute_result"
    }
   ],
   "source": [
    "student_grader.check(\"q18\", should_get_llm_feedback=False)"
   ]
  },
  {
   "cell_type": "markdown",
   "id": "9227ed5e-b3fb-43a5-a284-1ae731d45a47",
   "metadata": {
    "deletable": false,
    "editable": false
   },
   "source": [
    "Now, **plot** `inverse_overall_rank` as **scatter plot** with a **regression line** with the **x-axis** labelled *Inverse Overall* and the **y-axis** labelled *Rank*.\n",
    "\n",
    "You **must** use the `regression_line_plot` function to plot this data. Your plot should look like this:"
   ]
  },
  {
   "cell_type": "markdown",
   "id": "967b02a5-492a-4f1f-af75-55f5c5b8a559",
   "metadata": {
    "deletable": false,
    "editable": false
   },
   "source": [
    "<div style=\"text-align: center;\"><img src=\"images/q18.jpg\" style=\"height: 400px;\"/></div>\n",
    "\n",
    "<center> <b>Delete</b> this cell before you submit the notebook to reduce the size of your file.</center>"
   ]
  },
  {
   "cell_type": "code",
   "execution_count": 396,
   "id": "1aede8c7-6929-43ee-81af-2b14ac460ec7",
   "metadata": {
    "deletable": false
   },
   "outputs": [],
   "source": [
    "# create the scatter plot and the regression line using the DataFrame 'inverse_overall_rank'\n",
    "# with the x-axis labelled \"Inverse Overall\" and the y-axis labelled \"Rank\"\n",
    "\n",
    "# regression_line_plot(..., ..., ...)"
   ]
  },
  {
   "cell_type": "markdown",
   "id": "59c5f4ae-a5e5-44bc-9756-d605da3db70e",
   "metadata": {
    "deletable": false,
    "editable": false
   },
   "source": [
    "This seems to be much better! Let us now use this **regression line** to **estimate** the `Rank` of an institution given its `Overall`."
   ]
  },
  {
   "cell_type": "markdown",
   "id": "c0f040b4-405d-4064-8166-fbe2c4542395",
   "metadata": {
    "deletable": false,
    "editable": false
   },
   "source": [
    "#### **Question 19:** Use the regression line to **estimate** the `Rank` of an institution with an `Overall` of *72*."
   ]
  },
  {
   "cell_type": "markdown",
   "id": "262b68e4-5439-4a68-b531-a9e504c743cf",
   "metadata": {
    "deletable": false,
    "editable": false
   },
   "source": [
    "Your output **must** be an **int**. If your **estimate** is a **float**, *round it up* using `math.ceil`.\n",
    "\n",
    "\n",
    "**Hints:**\n",
    "1. Call the `get_regression_coeff` function to get the coefficients `m` and `b`.\n",
    "2. Recall that the equation of a line is `y = m * x + b`. What are `x` and `y` here?"
   ]
  },
  {
   "cell_type": "markdown",
   "id": "65659c21-7706-4c08-9811-9da0410c36aa",
   "metadata": {
    "deletable": false,
    "editable": false
   },
   "source": [
    "Points possible: 6.0"
   ]
  },
  {
   "cell_type": "code",
   "execution_count": 399,
   "id": "76845da2-5aef-438f-8028-2feaef006466",
   "metadata": {
    "deletable": false,
    "editable": true,
    "tags": [
     "q19-code"
    ]
   },
   "outputs": [
    {
     "data": {
      "text/plain": [
       "59"
      ]
     },
     "execution_count": 399,
     "metadata": {},
     "output_type": "execute_result"
    }
   ],
   "source": [
    "# compute and store the answer in the variable 'rank_score_72', then display it\n",
    "m, b = get_regression_coeff(inverse_overall_rank, 'Inverse Overall', 'Rank')\n",
    "rank_score_72 = math.ceil(m * (1.0 / 72) + b)\n",
    "\n",
    "rank_score_72"
   ]
  },
  {
   "cell_type": "code",
   "execution_count": 400,
   "id": "67ca1d0e-c4b8-4542-8ca7-b52c168ba4e5",
   "metadata": {
    "deletable": false,
    "editable": true
   },
   "outputs": [
    {
     "name": "stdout",
     "output_type": "stream",
     "text": [
      "Make sure you saved the notebook before running this cell. Running check for q19...\n",
      "Great job! You passed all test cases for this question.\n"
     ]
    },
    {
     "data": {
      "text/plain": [
       "True"
      ]
     },
     "execution_count": 400,
     "metadata": {},
     "output_type": "execute_result"
    }
   ],
   "source": [
    "student_grader.check(\"q19\", should_get_llm_feedback=False)"
   ]
  },
  {
   "cell_type": "markdown",
   "id": "27ec844f-2363-4106-b714-9b57730b655c",
   "metadata": {
    "deletable": false,
    "editable": false
   },
   "source": [
    "**Food for thought:** Can you find out the `Overall` of the university with this `Rank` in the `Year` *2022*? Does it match your prediction?"
   ]
  },
  {
   "cell_type": "code",
   "execution_count": 404,
   "id": "7c4a43a9-5698-49c3-80f1-d1629fa11a13",
   "metadata": {
    "deletable": false
   },
   "outputs": [],
   "source": [
    "# Food for thought is an entirely OPTIONAL exercise\n",
    "# you may leave your thoughts here as a comment if you wish to\n"
   ]
  },
  {
   "cell_type": "markdown",
   "id": "0ba7337b-35a0-4faf-bed8-69657675727a",
   "metadata": {
    "deletable": false,
    "editable": false
   },
   "source": [
    "Using the data from Question 5, create a **pie plot** representing the number of institutions from each country.\n",
    "\n",
    "You **have** already computed a **DataFrame** `num_institutions` (in Question 5) containing the **Country**, and the **Number of Insititutions** data. Now, **plot** `num_institutions` as **pie plot** with the **title** *Number of Institutions*.\n",
    "\n",
    "You **must** use the `pie_plot` function to create the **pie plot**. The **colors** do **not** matter, but the plot **must** be titled `Number of Institutions`, and **must** be labelled as in the sample output below. Your plot should look like this:"
   ]
  },
  {
   "cell_type": "markdown",
   "id": "a06b294d-ce9e-4b6b-b2e3-88cba0dd6787",
   "metadata": {
    "deletable": false,
    "editable": false
   },
   "source": [
    "<div style=\"text-align: center;\"><img src=\"images/q20.jpg\" style=\"height: 400px;\"/></div>\n",
    "\n",
    "<center> <b>Delete</b> this cell before you submit the notebook to reduce the size of your file.</center>"
   ]
  },
  {
   "cell_type": "code",
   "execution_count": 408,
   "id": "6ebd4734-efb4-4cae-b782-45e7c9cbf35b",
   "metadata": {
    "deletable": false
   },
   "outputs": [],
   "source": [
    "# create the pie plot using the DataFrame 'num_institutions' titled \"Number of Institutions\"\n",
    "\n",
    "# pie_plot(..., ..., ..., ...)"
   ]
  },
  {
   "cell_type": "markdown",
   "id": "320bb1d5-fd4a-4446-af9e-f402dcc87931",
   "metadata": {
    "deletable": false,
    "editable": false
   },
   "source": [
    "### Closing the database connection:\n",
    "\n",
    "Now, before you **submit** your notebook, you **must** **close** your connection `conn`. Not doing this might make **Gradescope fail**. Additionally, **delete** the example images provided with plot questions to save space, if your notebook file is too large for submission. You can **delete** any cell by selecting the cell, hitting the `Esc` key once, and then hitting the `d` key **twice**."
   ]
  },
  {
   "cell_type": "code",
   "execution_count": 411,
   "id": "e0603307-35d5-4413-88d1-9e2acb964dd3",
   "metadata": {
    "deletable": false
   },
   "outputs": [],
   "source": [
    "# close your connection here\n",
    "conn.close()"
   ]
  },
  {
   "cell_type": "markdown",
   "id": "e8e0b5bd-2797-4922-8dc5-68dc332fe497",
   "metadata": {
    "deletable": false,
    "editable": false
   },
   "source": [
    "## Submission"
   ]
  },
  {
   "cell_type": "markdown",
   "id": "db7bdf7a-4a4b-4ec4-87d6-4b3abe9dfc9f",
   "metadata": {
    "deletable": false,
    "editable": false
   },
   "source": [
    "Make sure you have run all cells in your notebook in order before submitting on Gradescope. Your notebook should not contain any uncaught Exceptions, otherwise the Gradescope autograder will not give you any points."
   ]
  },
  {
   "cell_type": "code",
   "execution_count": null,
   "id": "bd9aca18-af53-438f-89e5-30399922c251",
   "metadata": {},
   "outputs": [],
   "source": []
  }
 ],
 "metadata": {
  "kernelspec": {
   "display_name": "Python 3 (ipykernel)",
   "language": "python",
   "name": "python3"
  },
  "language_info": {
   "codemirror_mode": {
    "name": "ipython",
    "version": 3
   },
   "file_extension": ".py",
   "mimetype": "text/x-python",
   "name": "python",
   "nbconvert_exporter": "python",
   "pygments_lexer": "ipython3",
   "version": "3.10.12"
  },
  "semester": "f24"
 },
 "nbformat": 4,
 "nbformat_minor": 5
}
