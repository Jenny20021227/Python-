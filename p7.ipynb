{
 "cells": [
  {
   "cell_type": "markdown",
   "id": "5fe57957",
   "metadata": {
    "deletable": false,
    "editable": false
   },
   "source": [
    "# Assignment 7: Dictionaries (Soccer)"
   ]
  },
  {
   "cell_type": "markdown",
   "id": "644829c4-e8ca-497b-a660-9b1041a7dd52",
   "metadata": {
    "deletable": false,
    "editable": false
   },
   "source": [
    "## Changes to the LLM feedback feature"
   ]
  },
  {
   "cell_type": "markdown",
   "id": "9baef5f2-a84a-4b34-96c1-a9f6472b3495",
   "metadata": {
    "deletable": false,
    "editable": false
   },
   "source": [
    "Thank you for filling out our Canvas survey on the feedback feature. A large majority people wanted the feature to be offered for the rest of the course, so we'll be including the feature in the rest of the assignments this semester.\n",
    "\n",
    "Many people mentioned they found the input-based method for controlling the feedback to be annoying, so we've integrated it into the grader check:\n",
    "\n",
    "```Python\n",
    "student_grader_with_feedback.check(\"q1\", should_get_llm_feedback=False)\n",
    "```\n",
    "\n",
    "If you are stuck and want help from an LLM to address the autograder output, just change the second parameter's value in the check call above to `True`. Then you can turn it back off by setting it back to `False`. Each question will by default have the feedback feature turned off. \n",
    "\n",
    "Many students said that the output was too cryptic, so we've tried to change the service to be more direct and concise.\n",
    "\n",
    "Remember that this tool costs us money to run and that you are supposed to use this feature only when you are stuck. Do your best to troubleshoot issues in your code by using print statements and the debugging tools before you turn on LLM feedback for a question."
   ]
  },
  {
   "cell_type": "markdown",
   "id": "f77c5695",
   "metadata": {
    "deletable": false,
    "editable": false
   },
   "source": [
    "## Your Information"
   ]
  },
  {
   "cell_type": "markdown",
   "id": "89500edb",
   "metadata": {
    "deletable": false,
    "editable": false
   },
   "source": [
    "At the start of each assignment, you will need to provide us your name and the name of the partner you worked with for this assignment (if you had one). Double click on the cell below or click once and hit enter to edit it. Replace \"First Last\" with your first name and last name. Replace \"None\" with the first and last name of your partner if you had one for this assignment. We ask for this information so we don't accuse you of cheating when your code looks like your partner's.\n",
    "\n",
    "Please keep these lines commented so they don't cause an error."
   ]
  },
  {
   "cell_type": "code",
   "execution_count": 1,
   "id": "3c15c7af",
   "metadata": {
    "deletable": false,
    "editable": true
   },
   "outputs": [],
   "source": [
    "# MY NAME: Hyokyung Kim\n",
    "# PARTNER: None"
   ]
  },
  {
   "cell_type": "markdown",
   "id": "c33568c0",
   "metadata": {
    "deletable": false,
    "editable": false,
    "jp-MarkdownHeadingCollapsed": true
   },
   "source": [
    "## Learning Objectives"
   ]
  },
  {
   "cell_type": "markdown",
   "id": "9e8e7951",
   "metadata": {
    "deletable": false,
    "editable": false
   },
   "source": [
    "In this assignment, you will...\n",
    "\n",
    "- Write programs to interpret data present in csv files\n",
    "- Use lists and dictionaries effectively to manage data"
   ]
  },
  {
   "cell_type": "markdown",
   "id": "51a371f7",
   "metadata": {
    "deletable": false,
    "editable": false
   },
   "source": [
    "## Imports"
   ]
  },
  {
   "cell_type": "markdown",
   "id": "cdb5243e",
   "metadata": {
    "deletable": false,
    "editable": false
   },
   "source": [
    "Every project will begin with some import statements. It's crucial that you run the cell below, otherwise we will not be able to grade your code and provide feedback to you. "
   ]
  },
  {
   "cell_type": "code",
   "execution_count": 2,
   "id": "fe79f361",
   "metadata": {
    "deletable": false,
    "editable": true
   },
   "outputs": [],
   "source": [
    "import math\n",
    "import csv\n",
    "import os\n",
    "import student_grader_with_feedback\n",
    "student_grader_with_feedback.initialize(os.getcwd(), \"p7\")"
   ]
  },
  {
   "cell_type": "markdown",
   "id": "c2a5941c",
   "metadata": {
    "deletable": false,
    "editable": false
   },
   "source": [
    "## Lab portion (1 question)"
   ]
  },
  {
   "cell_type": "markdown",
   "id": "1c75dc29",
   "metadata": {
    "deletable": false,
    "editable": false,
    "slideshow": {
     "slide_type": ""
    },
    "tags": []
   },
   "source": [
    "### Dataset"
   ]
  },
  {
   "cell_type": "markdown",
   "id": "d54463db",
   "metadata": {
    "deletable": false,
    "editable": false
   },
   "source": [
    "In P7, you will be analyzing the dataset obained from the video game [FC'24](https://www.ea.com/games/ea-sports-fc/fc-24) (formerly the FIFA series). The full dataset has some data on nearly 20,000 soccer stars who play in the top soccer leagues across the world, so we will use a smaller subset of this data.\n",
    "\n",
    "You will practice creating dictionaries using the data in `small_soccer_stars.csv` and using dictionaries to answer simple questions. This dataset has all the same columns as the full dataset, and in the same format, but much fewer rows (only **50**), so it should be easier to get started with our functions and data structures on this dataset.\n",
    "\n",
    "For now, open `small_soccer_stars.csv` by clicking on the name of the file from the file tab on the left of Jupyter Lab (or using Microsoft Excel or some other Spreadsheet viewer) and look at the list of players in the dataset. A small portion of the dataset `small_soccer_stars.csv` is reproduced here:"
   ]
  },
  {
   "cell_type": "markdown",
   "id": "6b353178",
   "metadata": {
    "deletable": false,
    "editable": false
   },
   "source": [
    "ID|Name|Age|Nationality|Team|League|Value|Wage|Attacking|Movement|Defending|Goalkeeping|Overall rating|Position|Height|Preferred foot\n",
    "--|--|--|--|--|--|--|--|--|--|--|--|--|--|--|--\n",
    "239085|E. Haaland|22|Norway|Manchester City|Premier League (England)|€185M|€340K|78.6|83.6|38.0|10.4|91|ST|195cm|Left\n",
    "231747|K. Mbappé|24|France|Paris Saint Germain|Ligue 1 (France)|€181.5M|€230K|83.0|92.4|30.7|8.4|91|ST|182cm|Right\n",
    "192985|K. De Bruyne|32|Belgium|Manchester City|Premier League (England)|€103M|€350K|82.4|78.8|63.0|11.2|91|CM|181cm|Right\n",
    "202126|H. Kane|29|England|FC Bayern München|Bundesliga (Germany)|€119.5M|€170K|88.0|74.0|43.3|10.8|90|ST|188cm|Right\n",
    "192119|T. Courtois|31|Belgium|Real Madrid|La Liga (Spain)|€63M|€250K|17.2|58.0|18.0|86.6|90|GK|200cm|Left"
   ]
  },
  {
   "cell_type": "markdown",
   "id": "2757c376",
   "metadata": {
    "deletable": false,
    "editable": false
   },
   "source": [
    "The data shows:\n",
    "- `ID` : the **unique ID** used by FC'24 for identifying each player,\n",
    "- `Name` : the **name** of the player,\n",
    "- `Age` : the **age** of the player,\n",
    "- `Nationality` : the **national team** the player represents,\n",
    "- `Team` : the **football club** that the player represents,\n",
    "- `League`: the **football league** that the player's club is a part of,\n",
    "- `Value` : the **value** of the player in the transfer market (in **Euros**),\n",
    "- `Wage` : the **weekly wages** earned by the player as per their contract (in **Euros**),\n",
    "- `Attacking` : the **total attacking stats** of the player (out of **100.0**),\n",
    "- `Movement` : the **total movement stats** of the player (out of **100.0**),\n",
    "- `Defending` : the **total defending stats** of the player (out of **100.0**),\n",
    "- `Goalkeeping` : the **total goalkeeping stats** of the player (out of **100.0**),\n",
    "- `Overall rating` : the **overall rating** of the player (out of **100**),\n",
    "- `Position` : the player's **favored position** on the soccer field,\n",
    "- `Height` : the **height** of the player (in **centimeters**),\n",
    "- `Preferred foot` : the player's **favored foot**."
   ]
  },
  {
   "cell_type": "markdown",
   "id": "04d36797",
   "metadata": {
    "deletable": false,
    "editable": false,
    "slideshow": {
     "slide_type": ""
    },
    "tags": []
   },
   "source": [
    "### Getting familiar with the dataset"
   ]
  },
  {
   "cell_type": "markdown",
   "id": "a7dd2ca5",
   "metadata": {
    "deletable": false,
    "editable": false
   },
   "source": [
    "In this section, we've provided a lot of code for you. Just go line by line and make sure you know how it works!"
   ]
  },
  {
   "cell_type": "code",
   "execution_count": 3,
   "id": "6e900587",
   "metadata": {
    "deletable": false,
    "editable": true
   },
   "outputs": [],
   "source": [
    "def process_csv(filename):\n",
    "    example_file = open(filename, encoding=\"utf-8\")\n",
    "    example_reader = csv.reader(example_file)\n",
    "    example_data = list(example_reader)\n",
    "    example_file.close()\n",
    "    return example_data"
   ]
  },
  {
   "cell_type": "code",
   "execution_count": 4,
   "id": "2dc67f6b",
   "metadata": {
    "deletable": false,
    "editable": true
   },
   "outputs": [],
   "source": [
    "csv_data = process_csv(\"small_soccer_stars.csv\")\n",
    "\n",
    "# splits the header and other rows into appropriate variables\n",
    "csv_header = csv_data[0]\n",
    "csv_rows = csv_data[1:]"
   ]
  },
  {
   "cell_type": "markdown",
   "id": "8ca12eea",
   "metadata": {
    "deletable": false,
    "editable": false
   },
   "source": [
    "Basic questions about players"
   ]
  },
  {
   "cell_type": "code",
   "execution_count": 5,
   "id": "21c2d002",
   "metadata": {
    "deletable": false,
    "editable": true,
    "slideshow": {
     "slide_type": ""
    },
    "tags": []
   },
   "outputs": [
    {
     "name": "stdout",
     "output_type": "stream",
     "text": [
      "The first player's name is:  E. Haaland\n",
      "The second player plays for:  Paris Saint Germain\n",
      "The third player is  32  years old.\n",
      "The fourth player is  188cm  tall.\n"
     ]
    }
   ],
   "source": [
    "# What is the first player's `Name`?\n",
    "name_col_idx = csv_header.index('Name')\n",
    "first_player_name = csv_rows[0][name_col_idx]\n",
    "print(\"The first player's name is: \", first_player_name)\n",
    "\n",
    "# What `Team` does the second player in the dataset play for?\n",
    "team_col_idx = csv_header.index('Team')\n",
    "second_player_team = csv_rows[1][team_col_idx]\n",
    "print(\"The second player plays for: \", second_player_team)\n",
    "\n",
    "# What is the `Age` of the third player in the dataset?\n",
    "age_col_idx = csv_header.index('Age')\n",
    "third_player_age = csv_rows[2][age_col_idx]\n",
    "print(\"The third player is \", third_player_age, \" years old.\")\n",
    "\n",
    "# What is the `Height` of the fourth player in the dataset?\n",
    "height_col_idx = csv_header.index('Height')\n",
    "fourth_player_height = csv_rows[3][height_col_idx]\n",
    "print(\"The fourth player is \", fourth_player_height, \" tall.\")"
   ]
  },
  {
   "cell_type": "markdown",
   "id": "13636f23",
   "metadata": {
    "deletable": false,
    "editable": false,
    "slideshow": {
     "slide_type": ""
    },
    "tags": []
   },
   "source": [
    "As we can see from the output above, indexing into our `csv_rows` variable returns string values.\n",
    "\n",
    "In particular, the `Height` data was represented in units of **cm**. The `Height` data of **all** players in the dataset has the first few characters as numbers that represent the player's **height** and the last two characters are `\"cm\"` representing the **unit**. If we want to compare the heights of different players, it would make sense to **slice** off the units `\"cm\"`, and to represent the number as an **int**. "
   ]
  },
  {
   "cell_type": "code",
   "execution_count": 6,
   "id": "be43ff16",
   "metadata": {
    "deletable": false,
    "editable": true,
    "slideshow": {
     "slide_type": ""
    },
    "tags": []
   },
   "outputs": [
    {
     "data": {
      "text/plain": [
       "188"
      ]
     },
     "execution_count": 6,
     "metadata": {},
     "output_type": "execute_result"
    }
   ],
   "source": [
    "fourth_player_height_without_units = fourth_player_height[:-2]\n",
    "fourth_player_height_int = int(fourth_player_height_without_units)\n",
    "fourth_player_height_int"
   ]
  },
  {
   "cell_type": "markdown",
   "id": "27926622-04da-4448-aefe-d8a7f002a74e",
   "metadata": {
    "deletable": false,
    "editable": false,
    "slideshow": {
     "slide_type": ""
    },
    "tags": []
   },
   "source": [
    "Similarly, the `Wage` and `Value` values are strings with extra characters that don't represent the number."
   ]
  },
  {
   "cell_type": "code",
   "execution_count": 7,
   "id": "0985d897",
   "metadata": {
    "deletable": false,
    "editable": true,
    "slideshow": {
     "slide_type": ""
    },
    "tags": []
   },
   "outputs": [
    {
     "name": "stdout",
     "output_type": "stream",
     "text": [
      "The wage of the fifth player is:  €250K\n",
      "The value of the tenth player is:  €158.5M\n"
     ]
    }
   ],
   "source": [
    "# What is the `Wage` of the fifth player?\n",
    "wage_col_idx = csv_header.index('Wage')\n",
    "fifth_player_wage = csv_rows[4][wage_col_idx]\n",
    "print(\"The wage of the fifth player is: \", fifth_player_wage)\n",
    "\n",
    "# What is the `Value of the tenth player?\n",
    "value_col_idx = csv_header.index('Value')\n",
    "tenth_player_value = csv_rows[9][value_col_idx]\n",
    "print(\"The value of the tenth player is: \", tenth_player_value)"
   ]
  },
  {
   "cell_type": "markdown",
   "id": "be9d01d8",
   "metadata": {
    "deletable": false,
    "editable": false,
    "slideshow": {
     "slide_type": ""
    },
    "tags": []
   },
   "source": [
    "It would make sense to clean this data up a bit, and to represent these values as **ints**.\n",
    "\n",
    "Recall that you already created a function in P5 to convert the **number of reviews** of the games into **ints**, and another function to convert the **price** of games into **floats**. The functions `format_price` and `format_num_reviews` can be made to work here with a few tweaks."
   ]
  },
  {
   "cell_type": "code",
   "execution_count": 8,
   "id": "5a596587",
   "metadata": {
    "deletable": false,
    "editable": true,
    "slideshow": {
     "slide_type": ""
    },
    "tags": []
   },
   "outputs": [
    {
     "name": "stdout",
     "output_type": "stream",
     "text": [
      "Unformatted:  €250K  -> formatted:  250000\n",
      "Unformatted:  €158.5M  -> formatted:  158500000\n"
     ]
    }
   ],
   "source": [
    "def format_euros(euros):\n",
    "    euros = euros[1:]\n",
    "    if euros[-1] == 'K':\n",
    "        euros = float(euros[:-1])*1e3\n",
    "    elif euros[-1] == 'M':\n",
    "        euros = float(euros[:-1])*1e6\n",
    "    else:\n",
    "        euros = float(euros)\n",
    "    return round(euros)\n",
    "\n",
    "fifth_player_wage_int = format_euros(fifth_player_wage)\n",
    "print(\"Unformatted: \", fifth_player_wage, \" -> formatted: \", fifth_player_wage_int)\n",
    "\n",
    "tenth_player_value_int = format_euros(tenth_player_value)\n",
    "print(\"Unformatted: \", tenth_player_value, \" -> formatted: \", tenth_player_value_int)"
   ]
  },
  {
   "cell_type": "markdown",
   "id": "ae6e3def",
   "metadata": {
    "deletable": false,
    "editable": false,
    "slideshow": {
     "slide_type": ""
    },
    "tags": []
   },
   "source": [
    "Similar to the last assignment, we can create a `cell` function to retrieve values from our CSV data and typecast the result:"
   ]
  },
  {
   "cell_type": "code",
   "execution_count": 9,
   "id": "ce6b4f7f",
   "metadata": {
    "deletable": false,
    "editable": true,
    "slideshow": {
     "slide_type": ""
    },
    "tags": []
   },
   "outputs": [
    {
     "name": "stdout",
     "output_type": "stream",
     "text": [
      "The last player's value is:  80000000\n",
      "The third to last player's Overall rating is:  86\n",
      "The thirteenth player's Attacking stat is:  79.8\n",
      "The fourteenth player's Height is:  193\n",
      "The fifteenth player's Preferred foot is:  Right\n"
     ]
    }
   ],
   "source": [
    "def cell(row_idx, col_name):\n",
    "    col_idx = csv_header.index(col_name)\n",
    "    val = csv_rows[row_idx][col_idx]\n",
    "    if col_name in ['ID', 'Age', 'Overall rating']:\n",
    "        return int(val)\n",
    "    elif col_name in ['Attacking', 'Movement', 'Defending', 'Goalkeeping']:\n",
    "        return float(val)\n",
    "    elif col_name in ['Height']:\n",
    "        return int(val[:-2])\n",
    "    elif col_name in ['Wage', 'Value']:\n",
    "        return format_euros(val)\n",
    "    else:\n",
    "        return val\n",
    "\n",
    "# What is the `Value` of the last player?\n",
    "last_player_value = cell(-1, 'Value')\n",
    "print(\"The last player's value is: \", last_player_value)\n",
    "\n",
    "# What is the `Overall rating` of the third to last player?\n",
    "third_last_player_overall = cell(-3, 'Overall rating')\n",
    "print(\"The third to last player's Overall rating is: \", third_last_player_overall)\n",
    "\n",
    "# What is the `Attacking` stat of the thirteenth player in the dataset?\n",
    "thirteenth_player_attacking = cell(12, 'Attacking')\n",
    "print(\"The thirteenth player's Attacking stat is: \", thirteenth_player_attacking)\n",
    "\n",
    "# What is the `Height` of the fourteenth player in the dataset? Notice how this is formatted!\n",
    "fourteenth_player_height = cell(13, 'Height')\n",
    "print(\"The fourteenth player's Height is: \", fourteenth_player_height)\n",
    "\n",
    "# What is the `Preferred foot` of the fifteenth player in the dataset?\n",
    "fifteenth_player_foot = cell(14, 'Preferred foot')\n",
    "print(\"The fifteenth player's Preferred foot is: \", fifteenth_player_foot)"
   ]
  },
  {
   "cell_type": "markdown",
   "id": "07f40702-e1f8-4398-99c5-78e8ffc6f7a8",
   "metadata": {
    "deletable": false,
    "editable": false,
    "slideshow": {
     "slide_type": ""
    },
    "tags": []
   },
   "source": [
    "Hopefully the above code snippets gave you a good idea of the dataset you'll be working with for this project. You can always come back to this section if you're confused about how the dataset was constructed and how data is accessed."
   ]
  },
  {
   "cell_type": "markdown",
   "id": "52156415-d29f-45ef-b095-0d1351a96156",
   "metadata": {
    "deletable": false,
    "editable": false
   },
   "source": [
    "### Lab question"
   ]
  },
  {
   "cell_type": "markdown",
   "id": "e35e1178-5ce9-4587-92f5-0e6840ce566c",
   "metadata": {
    "deletable": false,
    "editable": false,
    "slideshow": {
     "slide_type": ""
    },
    "tags": []
   },
   "source": [
    "#### Lab Question 1"
   ]
  },
  {
   "cell_type": "markdown",
   "id": "d21be8b1-5366-4f03-a4a1-02e1945137ad",
   "metadata": {
    "deletable": false,
    "editable": false,
    "slideshow": {
     "slide_type": ""
    },
    "tags": []
   },
   "source": [
    "Please confirm that you understand all of the above code and have not modified these important variables and functions: `csv_header`, `csv_data`, `format_euros`, and `cell`."
   ]
  },
  {
   "cell_type": "markdown",
   "id": "a6dc4819-f184-47b3-bd14-c0c2b66f712a",
   "metadata": {
    "deletable": false,
    "editable": false,
    "slideshow": {
     "slide_type": ""
    },
    "tags": []
   },
   "source": [
    "Points possible: 100.0"
   ]
  },
  {
   "cell_type": "code",
   "execution_count": 10,
   "id": "868d60ea-d66f-4f7b-bacb-888573bc1e2a",
   "metadata": {
    "deletable": false,
    "editable": true,
    "slideshow": {
     "slide_type": ""
    },
    "tags": [
     "lab-q1-code"
    ]
   },
   "outputs": [
    {
     "data": {
      "text/plain": [
       "True"
      ]
     },
     "execution_count": 10,
     "metadata": {},
     "output_type": "execute_result"
    }
   ],
   "source": [
    "im_ready_to_start_project = True\n",
    "im_ready_to_start_project"
   ]
  },
  {
   "cell_type": "code",
   "execution_count": 11,
   "id": "7c2a3763-cc1f-4e36-b6e4-efc56524165f",
   "metadata": {
    "deletable": false,
    "editable": true,
    "slideshow": {
     "slide_type": ""
    },
    "tags": []
   },
   "outputs": [
    {
     "name": "stdout",
     "output_type": "stream",
     "text": [
      "Make sure you saved the notebook before running this cell. Running check for lab-q1...\n",
      "Great job! You passed all test cases for this question.\n"
     ]
    }
   ],
   "source": [
    "student_grader_with_feedback.check(\"lab-q1\", should_get_llm_feedback=False)"
   ]
  },
  {
   "cell_type": "markdown",
   "id": "bf5ad034-c880-43e8-a4d7-17888569a170",
   "metadata": {
    "deletable": false,
    "editable": false,
    "slideshow": {
     "slide_type": ""
    },
    "tags": []
   },
   "source": [
    "### Submit your Lab"
   ]
  },
  {
   "cell_type": "markdown",
   "id": "e9d006d9-d31f-41d2-a626-027d56ad045b",
   "metadata": {
    "deletable": false,
    "editable": false,
    "slideshow": {
     "slide_type": ""
    },
    "tags": []
   },
   "source": [
    "**Congrats! You've reached the end of the lab.**\n",
    "\n",
    "Please submit your notebook file on gradescope for lab-p7. The next section of the file belongs to the project, so make sure that you understand the contents of the lab before continuing. "
   ]
  },
  {
   "cell_type": "markdown",
   "id": "7f123957-6763-44a3-809e-a6d834a5782f",
   "metadata": {
    "deletable": false,
    "editable": false
   },
   "source": [
    "## Project portion (23 questions)"
   ]
  },
  {
   "cell_type": "markdown",
   "id": "e0244ba6",
   "metadata": {
    "deletable": false,
    "editable": false,
    "slideshow": {
     "slide_type": ""
    },
    "tags": []
   },
   "source": [
    "#### Project Question 1"
   ]
  },
  {
   "cell_type": "markdown",
   "id": "fcb1ab43",
   "metadata": {
    "deletable": false,
    "editable": false,
    "slideshow": {
     "slide_type": ""
    },
    "tags": []
   },
   "source": [
    "Create a dictionary mapping each **column name** in `csv_header` to its **value** for the second player in `csv_rows` (i.e. the player at index `1`). Your code must call the `cell` function."
   ]
  },
  {
   "cell_type": "markdown",
   "id": "7c833d60-26a2-426a-b7eb-ae245eb4ec96",
   "metadata": {
    "deletable": false,
    "editable": false,
    "slideshow": {
     "slide_type": ""
    },
    "tags": []
   },
   "source": [
    "Points possible: 4.0"
   ]
  },
  {
   "cell_type": "code",
   "execution_count": 17,
   "id": "0657a180",
   "metadata": {
    "deletable": false,
    "editable": true,
    "slideshow": {
     "slide_type": ""
    },
    "tags": [
     "q1-code"
    ]
   },
   "outputs": [
    {
     "data": {
      "text/plain": [
       "{'ID': 231747,\n",
       " 'Name': 'K. Mbappé',\n",
       " 'Age': 24,\n",
       " 'Nationality': 'France',\n",
       " 'Team': 'Paris Saint Germain',\n",
       " 'League': 'Ligue 1 (France)',\n",
       " 'Value': 181500000,\n",
       " 'Wage': 230000,\n",
       " 'Attacking': 83.0,\n",
       " 'Movement': 92.4,\n",
       " 'Defending': 30.7,\n",
       " 'Goalkeeping': 8.4,\n",
       " 'Overall rating': 91,\n",
       " 'Position': 'ST',\n",
       " 'Height': 182,\n",
       " 'Preferred foot': 'Right'}"
      ]
     },
     "execution_count": 17,
     "metadata": {},
     "output_type": "execute_result"
    }
   ],
   "source": [
    "# replace the ... with your code\n",
    "\n",
    "second_player = {}\n",
    "for column in csv_header:\n",
    "    second_player[column] = cell(1, column)\n",
    "\n",
    "second_player"
   ]
  },
  {
   "cell_type": "code",
   "execution_count": 18,
   "id": "97dc8ddc",
   "metadata": {
    "deletable": false,
    "editable": true,
    "slideshow": {
     "slide_type": ""
    },
    "tags": []
   },
   "outputs": [
    {
     "name": "stdout",
     "output_type": "stream",
     "text": [
      "Make sure you saved the notebook before running this cell. Running check for q1...\n",
      "Great job! You passed all test cases for this question.\n"
     ]
    }
   ],
   "source": [
    "student_grader_with_feedback.check(\"q1\", should_get_llm_feedback=False)"
   ]
  },
  {
   "cell_type": "markdown",
   "id": "54a28f53",
   "metadata": {
    "deletable": false,
    "editable": false,
    "slideshow": {
     "slide_type": ""
    },
    "tags": []
   },
   "source": [
    "#### Project Question 2"
   ]
  },
  {
   "cell_type": "markdown",
   "id": "c3ab0819",
   "metadata": {
    "deletable": false,
    "editable": false
   },
   "source": [
    "Find the `Position` of the second player by indexing into the dictionary `second_player`."
   ]
  },
  {
   "cell_type": "markdown",
   "id": "0f6d2246-cdc7-4489-8808-aa728448cd54",
   "metadata": {
    "deletable": false,
    "editable": false
   },
   "source": [
    "Points possible: 3.0"
   ]
  },
  {
   "cell_type": "code",
   "execution_count": 19,
   "id": "d6d5fd09",
   "metadata": {
    "deletable": false,
    "editable": true,
    "tags": [
     "q2-code"
    ]
   },
   "outputs": [
    {
     "data": {
      "text/plain": [
       "'ST'"
      ]
     },
     "execution_count": 19,
     "metadata": {},
     "output_type": "execute_result"
    }
   ],
   "source": [
    "# replace the ... with appropriate values\n",
    "\n",
    "second_player_position = second_player['Position']\n",
    "\n",
    "second_player_position"
   ]
  },
  {
   "cell_type": "code",
   "execution_count": 20,
   "id": "35c6f609-0f79-4a29-b244-8c37e4a9b88a",
   "metadata": {
    "deletable": false,
    "editable": true,
    "slideshow": {
     "slide_type": ""
    },
    "tags": []
   },
   "outputs": [
    {
     "name": "stdout",
     "output_type": "stream",
     "text": [
      "Make sure you saved the notebook before running this cell. Running check for q2...\n",
      "Great job! You passed all test cases for this question.\n"
     ]
    }
   ],
   "source": [
    "student_grader_with_feedback.check(\"q2\", should_get_llm_feedback=False)"
   ]
  },
  {
   "cell_type": "markdown",
   "id": "6eea85f9",
   "metadata": {
    "deletable": false,
    "editable": false
   },
   "source": [
    "#### Project Question 3"
   ]
  },
  {
   "cell_type": "markdown",
   "id": "ab021e3c",
   "metadata": {
    "deletable": false,
    "editable": false
   },
   "source": [
    "Find the `Height` of the second player by indexing into the dictionary `second_player`."
   ]
  },
  {
   "cell_type": "markdown",
   "id": "f5564f24-dfdf-4df7-97f6-d1695980a1a2",
   "metadata": {
    "deletable": false,
    "editable": false
   },
   "source": [
    "Points possible: 3.0"
   ]
  },
  {
   "cell_type": "code",
   "execution_count": 21,
   "id": "8df3b71e",
   "metadata": {
    "deletable": false,
    "editable": true,
    "tags": [
     "q3-code"
    ]
   },
   "outputs": [
    {
     "data": {
      "text/plain": [
       "182"
      ]
     },
     "execution_count": 21,
     "metadata": {},
     "output_type": "execute_result"
    }
   ],
   "source": [
    "# replace the ... with appropriate values\n",
    "second_player_height = second_player['Height']\n",
    "\n",
    "second_player_height"
   ]
  },
  {
   "cell_type": "code",
   "execution_count": 22,
   "id": "437efee6-1342-4d06-8cb8-77325f85e3d1",
   "metadata": {
    "deletable": false,
    "editable": true,
    "slideshow": {
     "slide_type": ""
    },
    "tags": []
   },
   "outputs": [
    {
     "name": "stdout",
     "output_type": "stream",
     "text": [
      "Make sure you saved the notebook before running this cell. Running check for q3...\n",
      "Great job! You passed all test cases for this question.\n"
     ]
    }
   ],
   "source": [
    "student_grader_with_feedback.check(\"q3\", should_get_llm_feedback=False)"
   ]
  },
  {
   "cell_type": "markdown",
   "id": "2598441e",
   "metadata": {
    "deletable": false,
    "editable": false,
    "jp-MarkdownHeadingCollapsed": true
   },
   "source": [
    "#### Background: dictionaries representing rows versus columns"
   ]
  },
  {
   "cell_type": "markdown",
   "id": "b7a66d05",
   "metadata": {
    "deletable": false,
    "editable": false
   },
   "source": [
    "We have now seen how to create a **dictionary** to represent all the data in a **single row** of the dataset. We will now create **dictionaries** to represent all the data in a **single column** of the dataset.\n",
    "\n",
    "When we created **dictionaries** for each **row**, the **column names** were our **unique keys**. If we want to similarly create a **dictionary** for each **column**, we will need a **unique key** for **each row**. Luckily, the dataset already provides us with a **unique** `ID` for each player. So, we will let the `ID` of **each** player be the **key** corresponding to the data of the player."
   ]
  },
  {
   "cell_type": "markdown",
   "id": "be425d8f",
   "metadata": {
    "deletable": false,
    "editable": false
   },
   "source": [
    "#### Project Question 4"
   ]
  },
  {
   "cell_type": "markdown",
   "id": "5df388f3",
   "metadata": {
    "deletable": false,
    "editable": false
   },
   "source": [
    "Create a dictionary mapping each player's `ID` to their `Movement` stat.\n",
    "\n",
    "Your output **must** be a **dict** where each key is an `ID` and the value is the `Movement` stat. Key-value pairs within this **dict** should look like this:\n",
    "\n",
    "```python\n",
    "{\n",
    "    239085: 83.6,\n",
    "    231747: 92.4,\n",
    "    192985: 77.6,\n",
    "    202126: 74.0,\n",
    "    192119: 58.0,\n",
    "    ...\n",
    "}\n",
    "```\n",
    "\n",
    "As a sidenote, in programming, you will often see variables storing dictionaries with a naming pattern of `value_by_key`. That's because indexing into it with this pattern makes it clearer what's being output: `value_by_key[key] == value`. To make this more concrete, the variable `player_movement_by_id` maps ids to movement stats, and indexing into it with an id would return a movement stat for the player with that id. "
   ]
  },
  {
   "cell_type": "markdown",
   "id": "c434ac94-bf97-4d2b-888a-c20515641fa2",
   "metadata": {
    "deletable": false,
    "editable": false
   },
   "source": [
    "Points possible: 5.0"
   ]
  },
  {
   "cell_type": "code",
   "execution_count": 25,
   "id": "65bf6541",
   "metadata": {
    "deletable": false,
    "editable": true,
    "tags": [
     "q4-code"
    ]
   },
   "outputs": [
    {
     "data": {
      "text/plain": [
       "{239085: 83.6,\n",
       " 231747: 92.4,\n",
       " 192985: 78.8,\n",
       " 202126: 74.0,\n",
       " 192119: 58.0,\n",
       " 188545: 80.8,\n",
       " 158023: 87.0,\n",
       " 264012: 88.8,\n",
       " 239818: 65.6,\n",
       " 238794: 90.8,\n",
       " 231866: 68.4,\n",
       " 212831: 54.6,\n",
       " 209331: 90.2,\n",
       " 203376: 70.0,\n",
       " 192448: 52.4,\n",
       " 190871: 87.4,\n",
       " 165153: 78.4,\n",
       " 252371: 82.2,\n",
       " 239053: 81.8,\n",
       " 231478: 85.4,\n",
       " 218667: 84.4,\n",
       " 210257: 64.6,\n",
       " 200389: 58.4,\n",
       " 194765: 84.8,\n",
       " 121939: 80.2,\n",
       " 256630: 84.0,\n",
       " 235073: 48.2,\n",
       " 232293: 82.8,\n",
       " 230621: 57.6,\n",
       " 228702: 83.4,\n",
       " 222665: 79.2,\n",
       " 215698: 57.0,\n",
       " 212622: 79.4,\n",
       " 212198: 76.8,\n",
       " 207865: 75.8,\n",
       " 200145: 64.8,\n",
       " 200104: 83.6,\n",
       " 193080: 56.4,\n",
       " 177003: 82.8,\n",
       " 167495: 53.6,\n",
       " 153079: 80.8,\n",
       " 265674: 86.6,\n",
       " 256790: 88.0,\n",
       " 253163: 71.4,\n",
       " 251854: 84.4,\n",
       " 247635: 83.4,\n",
       " 246669: 85.4,\n",
       " 241721: 87.4,\n",
       " 241096: 82.8,\n",
       " 240130: 77.4}"
      ]
     },
     "execution_count": 25,
     "metadata": {},
     "output_type": "execute_result"
    }
   ],
   "source": [
    "player_movement_by_id = {}\n",
    "\n",
    "# loop through all the rows of the dataset\n",
    "for row_idx in range(len(csv_rows)):\n",
    "    player_id = cell(row_idx, 'ID')  # extract the player's 'ID' using the `cell` function\n",
    "    player_movement = cell(row_idx, 'Movement')  # extract the player's 'Movement' using the `cell` function\n",
    "    player_movement_by_id[player_id] = player_movement  # add the `player_id`-`player_movement` key-value pair to the dict\n",
    "\n",
    "player_movement_by_id\n"
   ]
  },
  {
   "cell_type": "code",
   "execution_count": 26,
   "id": "62c4f12b-5f80-4a1c-9870-d613866f0202",
   "metadata": {
    "deletable": false,
    "editable": true,
    "slideshow": {
     "slide_type": ""
    },
    "tags": []
   },
   "outputs": [
    {
     "name": "stdout",
     "output_type": "stream",
     "text": [
      "Make sure you saved the notebook before running this cell. Running check for q4...\n",
      "Great job! You passed all test cases for this question.\n"
     ]
    }
   ],
   "source": [
    "student_grader_with_feedback.check(\"q4\", should_get_llm_feedback=False)"
   ]
  },
  {
   "cell_type": "markdown",
   "id": "bb68f9bd",
   "metadata": {
    "deletable": false,
    "editable": false
   },
   "source": [
    "#### Project Question 5"
   ]
  },
  {
   "cell_type": "markdown",
   "id": "d5b4af65",
   "metadata": {
    "deletable": false,
    "editable": false
   },
   "source": [
    "What is the `Movement` stat of the player with `ID` *239818*?"
   ]
  },
  {
   "cell_type": "markdown",
   "id": "76c6fff5-be31-4f4e-ad68-8db82645dea4",
   "metadata": {
    "deletable": false,
    "editable": false
   },
   "source": [
    "Points possible: 3.0"
   ]
  },
  {
   "cell_type": "code",
   "execution_count": 27,
   "id": "225230f3",
   "metadata": {
    "deletable": false,
    "editable": true,
    "tags": [
     "q5-code"
    ]
   },
   "outputs": [
    {
     "data": {
      "text/plain": [
       "65.6"
      ]
     },
     "execution_count": 27,
     "metadata": {},
     "output_type": "execute_result"
    }
   ],
   "source": [
    "# we have done this one for you\n",
    "\n",
    "player_239818_movement = player_movement_by_id[239818]\n",
    "player_239818_movement"
   ]
  },
  {
   "cell_type": "code",
   "execution_count": 28,
   "id": "9faaca53-6ca0-492a-819b-bb643584ed64",
   "metadata": {
    "deletable": false,
    "editable": true,
    "slideshow": {
     "slide_type": ""
    },
    "tags": []
   },
   "outputs": [
    {
     "name": "stdout",
     "output_type": "stream",
     "text": [
      "Make sure you saved the notebook before running this cell. Running check for q5...\n",
      "Great job! You passed all test cases for this question.\n"
     ]
    }
   ],
   "source": [
    "student_grader_with_feedback.check(\"q5\", should_get_llm_feedback=False)"
   ]
  },
  {
   "cell_type": "markdown",
   "id": "63d376a8",
   "metadata": {
    "deletable": false,
    "editable": false
   },
   "source": [
    "#### Project Question 6"
   ]
  },
  {
   "cell_type": "markdown",
   "id": "02ebc8c2",
   "metadata": {
    "deletable": false,
    "editable": false
   },
   "source": [
    "What is the `Movement` stat of the player with `ID` *209331*?"
   ]
  },
  {
   "cell_type": "markdown",
   "id": "3cb29af8-62e9-40dd-ab83-92507f9eeff5",
   "metadata": {
    "deletable": false,
    "editable": false
   },
   "source": [
    "Points possible: 3.0"
   ]
  },
  {
   "cell_type": "code",
   "execution_count": 29,
   "id": "c44734fa",
   "metadata": {
    "deletable": false,
    "editable": true,
    "tags": [
     "q6-code"
    ]
   },
   "outputs": [
    {
     "data": {
      "text/plain": [
       "90.2"
      ]
     },
     "execution_count": 29,
     "metadata": {},
     "output_type": "execute_result"
    }
   ],
   "source": [
    "player_209331_movement = player_movement_by_id[209331]\n",
    "\n",
    "player_209331_movement\n"
   ]
  },
  {
   "cell_type": "code",
   "execution_count": 30,
   "id": "f3b6e036-6701-4f62-b809-f8b5f4faec50",
   "metadata": {
    "deletable": false,
    "editable": true,
    "slideshow": {
     "slide_type": ""
    },
    "tags": []
   },
   "outputs": [
    {
     "name": "stdout",
     "output_type": "stream",
     "text": [
      "Make sure you saved the notebook before running this cell. Running check for q6...\n",
      "Great job! You passed all test cases for this question.\n"
     ]
    }
   ],
   "source": [
    "student_grader_with_feedback.check(\"q6\", should_get_llm_feedback=False)"
   ]
  },
  {
   "cell_type": "markdown",
   "id": "15b1fb0f",
   "metadata": {
    "deletable": false,
    "editable": false
   },
   "source": [
    "#### Project Question 7"
   ]
  },
  {
   "cell_type": "markdown",
   "id": "cd784ec5",
   "metadata": {
    "deletable": false,
    "editable": false
   },
   "source": [
    "Create a **dictionary** that maps the `ID` of **each** player to a **dictionary** that stores **all** the data about a player.\n",
    "\n",
    "The first few key/value pairs of your **dict** will look like this:\n",
    "\n",
    "```python\n",
    "{239085: {'ID': 239085,\n",
    "  'Name': 'E. Haaland',\n",
    "  'Age': 22,\n",
    "  'Nationality': 'Norway',\n",
    "  'Team': 'Manchester City',\n",
    "  'League': 'Premier League (England)',\n",
    "  'Value': 185000000,\n",
    "  'Wage': 340000,\n",
    "  'Attacking': 78.6,\n",
    "  'Movement': 83.6,\n",
    "  'Defending': 38.0,\n",
    "  'Goalkeeping': 10.4,\n",
    "  'Overall rating': 91,\n",
    "  'Position': 'ST',\n",
    "  'Height': 195,\n",
    "  'Preferred foot': 'Left'},\n",
    " 231747: {'ID': 231747,\n",
    "  'Name': 'K. Mbappé',\n",
    "  'Age': 24,\n",
    "  'Nationality': 'France',\n",
    "  'Team': 'Paris Saint Germain',\n",
    "  'League': 'Ligue 1 (France)',\n",
    "  'Value': 181500000,\n",
    "  'Wage': 230000,\n",
    "  'Attacking': 83.0,\n",
    "  'Movement': 92.4,\n",
    "  'Defending': 30.7,\n",
    "  'Goalkeeping': 8.4,\n",
    "  'Overall rating': 91,\n",
    "  'Position': 'ST',\n",
    "  'Height': 182,\n",
    "  'Preferred foot': 'Right'},\n",
    " ...\n",
    "}\n",
    "```\n",
    "\n",
    "You will have to loop through the `csv_header` and add each column/value pair to the `player_dict` you create for the current player being considered at each iteration of your loop. Look back at question 1 if you get stuck."
   ]
  },
  {
   "cell_type": "markdown",
   "id": "e87903b2-f0e7-42d1-81d2-c53724a4dec9",
   "metadata": {
    "deletable": false,
    "editable": false
   },
   "source": [
    "Points possible: 5.0"
   ]
  },
  {
   "cell_type": "code",
   "execution_count": 31,
   "id": "b56eb892",
   "metadata": {
    "deletable": false,
    "editable": true,
    "tags": [
     "q7-code"
    ]
   },
   "outputs": [
    {
     "data": {
      "text/plain": [
       "{239085: {'ID': 239085,\n",
       "  'Name': 'E. Haaland',\n",
       "  'Age': 22,\n",
       "  'Nationality': 'Norway',\n",
       "  'Team': 'Manchester City',\n",
       "  'League': 'Premier League (England)',\n",
       "  'Value': 185000000,\n",
       "  'Wage': 340000,\n",
       "  'Attacking': 78.6,\n",
       "  'Movement': 83.6,\n",
       "  'Defending': 38.0,\n",
       "  'Goalkeeping': 10.4,\n",
       "  'Overall rating': 91,\n",
       "  'Position': 'ST',\n",
       "  'Height': 195,\n",
       "  'Preferred foot': 'Left'},\n",
       " 231747: {'ID': 231747,\n",
       "  'Name': 'K. Mbappé',\n",
       "  'Age': 24,\n",
       "  'Nationality': 'France',\n",
       "  'Team': 'Paris Saint Germain',\n",
       "  'League': 'Ligue 1 (France)',\n",
       "  'Value': 181500000,\n",
       "  'Wage': 230000,\n",
       "  'Attacking': 83.0,\n",
       "  'Movement': 92.4,\n",
       "  'Defending': 30.7,\n",
       "  'Goalkeeping': 8.4,\n",
       "  'Overall rating': 91,\n",
       "  'Position': 'ST',\n",
       "  'Height': 182,\n",
       "  'Preferred foot': 'Right'},\n",
       " 192985: {'ID': 192985,\n",
       "  'Name': 'K. De Bruyne',\n",
       "  'Age': 32,\n",
       "  'Nationality': 'Belgium',\n",
       "  'Team': 'Manchester City',\n",
       "  'League': 'Premier League (England)',\n",
       "  'Value': 103000000,\n",
       "  'Wage': 350000,\n",
       "  'Attacking': 82.4,\n",
       "  'Movement': 78.8,\n",
       "  'Defending': 63.0,\n",
       "  'Goalkeeping': 11.2,\n",
       "  'Overall rating': 91,\n",
       "  'Position': 'CM',\n",
       "  'Height': 181,\n",
       "  'Preferred foot': 'Right'},\n",
       " 202126: {'ID': 202126,\n",
       "  'Name': 'H. Kane',\n",
       "  'Age': 29,\n",
       "  'Nationality': 'England',\n",
       "  'Team': 'FC Bayern München',\n",
       "  'League': 'Bundesliga (Germany)',\n",
       "  'Value': 119500000,\n",
       "  'Wage': 170000,\n",
       "  'Attacking': 88.0,\n",
       "  'Movement': 74.0,\n",
       "  'Defending': 43.3,\n",
       "  'Goalkeeping': 10.8,\n",
       "  'Overall rating': 90,\n",
       "  'Position': 'ST',\n",
       "  'Height': 188,\n",
       "  'Preferred foot': 'Right'},\n",
       " 192119: {'ID': 192119,\n",
       "  'Name': 'T. Courtois',\n",
       "  'Age': 31,\n",
       "  'Nationality': 'Belgium',\n",
       "  'Team': 'Real Madrid',\n",
       "  'League': 'La Liga (Spain)',\n",
       "  'Value': 63000000,\n",
       "  'Wage': 250000,\n",
       "  'Attacking': 17.2,\n",
       "  'Movement': 58.0,\n",
       "  'Defending': 18.0,\n",
       "  'Goalkeeping': 86.6,\n",
       "  'Overall rating': 90,\n",
       "  'Position': 'GK',\n",
       "  'Height': 200,\n",
       "  'Preferred foot': 'Left'},\n",
       " 188545: {'ID': 188545,\n",
       "  'Name': 'R. Lewandowski',\n",
       "  'Age': 34,\n",
       "  'Nationality': 'Poland',\n",
       "  'Team': 'FC Barcelona',\n",
       "  'League': 'La Liga (Spain)',\n",
       "  'Value': 58000000,\n",
       "  'Wage': 340000,\n",
       "  'Attacking': 86.6,\n",
       "  'Movement': 80.8,\n",
       "  'Defending': 32.0,\n",
       "  'Goalkeeping': 10.2,\n",
       "  'Overall rating': 90,\n",
       "  'Position': 'ST',\n",
       "  'Height': 185,\n",
       "  'Preferred foot': 'Right'},\n",
       " 158023: {'ID': 158023,\n",
       "  'Name': 'L. Messi',\n",
       "  'Age': 36,\n",
       "  'Nationality': 'Argentina',\n",
       "  'Team': 'Inter Miami',\n",
       "  'League': 'Major League Soccer (United States)',\n",
       "  'Value': 41000000,\n",
       "  'Wage': 23000,\n",
       "  'Attacking': 81.8,\n",
       "  'Movement': 87.0,\n",
       "  'Defending': 26.3,\n",
       "  'Goalkeeping': 10.8,\n",
       "  'Overall rating': 90,\n",
       "  'Position': 'CAM',\n",
       "  'Height': 169,\n",
       "  'Preferred foot': 'Left'},\n",
       " 264012: {'ID': 264012,\n",
       "  'Name': 'S. Smith',\n",
       "  'Age': 22,\n",
       "  'Nationality': 'United States',\n",
       "  'Team': 'Portland Thorns W',\n",
       "  'League': \"National Women's Soccer League (United States)\",\n",
       "  'Value': 138000000,\n",
       "  'Wage': 2000,\n",
       "  'Attacking': 82.6,\n",
       "  'Movement': 88.8,\n",
       "  'Defending': 40.7,\n",
       "  'Goalkeeping': 11.4,\n",
       "  'Overall rating': 89,\n",
       "  'Position': 'ST',\n",
       "  'Height': 164,\n",
       "  'Preferred foot': 'Right'},\n",
       " 239818: {'ID': 239818,\n",
       "  'Name': 'Rúben Dias',\n",
       "  'Age': 26,\n",
       "  'Nationality': 'Portugal',\n",
       "  'Team': 'Manchester City',\n",
       "  'League': 'Premier League (England)',\n",
       "  'Value': 106500000,\n",
       "  'Wage': 250000,\n",
       "  'Attacking': 57.0,\n",
       "  'Movement': 65.6,\n",
       "  'Defending': 89.7,\n",
       "  'Goalkeeping': 9.4,\n",
       "  'Overall rating': 89,\n",
       "  'Position': 'CB',\n",
       "  'Height': 187,\n",
       "  'Preferred foot': 'Right'},\n",
       " 238794: {'ID': 238794,\n",
       "  'Name': 'Vini Jr.',\n",
       "  'Age': 22,\n",
       "  'Nationality': 'Brazil',\n",
       "  'Team': 'Real Madrid',\n",
       "  'League': 'La Liga (Spain)',\n",
       "  'Value': 158500000,\n",
       "  'Wage': 310000,\n",
       "  'Attacking': 73.8,\n",
       "  'Movement': 90.8,\n",
       "  'Defending': 25.0,\n",
       "  'Goalkeeping': 7.2,\n",
       "  'Overall rating': 89,\n",
       "  'Position': 'LW',\n",
       "  'Height': 176,\n",
       "  'Preferred foot': 'Right'},\n",
       " 231866: {'ID': 231866,\n",
       "  'Name': 'Rodri',\n",
       "  'Age': 27,\n",
       "  'Nationality': 'Spain',\n",
       "  'Team': 'Manchester City',\n",
       "  'League': 'Premier League (England)',\n",
       "  'Value': 112000000,\n",
       "  'Wage': 250000,\n",
       "  'Attacking': 74.0,\n",
       "  'Movement': 68.4,\n",
       "  'Defending': 85.0,\n",
       "  'Goalkeeping': 9.8,\n",
       "  'Overall rating': 89,\n",
       "  'Position': 'CDM',\n",
       "  'Height': 191,\n",
       "  'Preferred foot': 'Right'},\n",
       " 212831: {'ID': 212831,\n",
       "  'Name': 'Alisson',\n",
       "  'Age': 30,\n",
       "  'Nationality': 'Brazil',\n",
       "  'Team': 'Liverpool',\n",
       "  'League': 'Premier League (England)',\n",
       "  'Value': 68500000,\n",
       "  'Wage': 180000,\n",
       "  'Attacking': 27.8,\n",
       "  'Movement': 54.6,\n",
       "  'Defending': 16.7,\n",
       "  'Goalkeeping': 87.0,\n",
       "  'Overall rating': 89,\n",
       "  'Position': 'GK',\n",
       "  'Height': 193,\n",
       "  'Preferred foot': 'Right'},\n",
       " 209331: {'ID': 209331,\n",
       "  'Name': 'M. Salah',\n",
       "  'Age': 31,\n",
       "  'Nationality': 'Egypt',\n",
       "  'Team': 'Liverpool',\n",
       "  'League': 'Premier League (England)',\n",
       "  'Value': 85500000,\n",
       "  'Wage': 260000,\n",
       "  'Attacking': 79.8,\n",
       "  'Movement': 90.2,\n",
       "  'Defending': 40.7,\n",
       "  'Goalkeeping': 12.4,\n",
       "  'Overall rating': 89,\n",
       "  'Position': 'RW',\n",
       "  'Height': 175,\n",
       "  'Preferred foot': 'Left'},\n",
       " 203376: {'ID': 203376,\n",
       "  'Name': 'V. van Dijk',\n",
       "  'Age': 31,\n",
       "  'Nationality': 'Netherlands',\n",
       "  'Team': 'Liverpool',\n",
       "  'League': 'Premier League (England)',\n",
       "  'Value': 70500000,\n",
       "  'Wage': 220000,\n",
       "  'Attacking': 63.0,\n",
       "  'Movement': 70.0,\n",
       "  'Defending': 89.0,\n",
       "  'Goalkeeping': 11.6,\n",
       "  'Overall rating': 89,\n",
       "  'Position': 'CB',\n",
       "  'Height': 193,\n",
       "  'Preferred foot': 'Right'},\n",
       " 192448: {'ID': 192448,\n",
       "  'Name': 'M. ter Stegen',\n",
       "  'Age': 31,\n",
       "  'Nationality': 'Germany',\n",
       "  'Team': 'FC Barcelona',\n",
       "  'League': 'La Liga (Spain)',\n",
       "  'Value': 54500000,\n",
       "  'Wage': 220000,\n",
       "  'Attacking': 23.6,\n",
       "  'Movement': 52.4,\n",
       "  'Defending': 16.0,\n",
       "  'Goalkeeping': 87.4,\n",
       "  'Overall rating': 89,\n",
       "  'Position': 'GK',\n",
       "  'Height': 187,\n",
       "  'Preferred foot': 'Right'},\n",
       " 190871: {'ID': 190871,\n",
       "  'Name': 'Neymar Jr',\n",
       "  'Age': 31,\n",
       "  'Nationality': 'Brazil',\n",
       "  'Team': 'Al Hilal',\n",
       "  'League': 'Pro League (Saudi Arabia)',\n",
       "  'Value': 85500000,\n",
       "  'Wage': 115000,\n",
       "  'Attacking': 80.0,\n",
       "  'Movement': 87.4,\n",
       "  'Defending': 32.0,\n",
       "  'Goalkeeping': 11.8,\n",
       "  'Overall rating': 89,\n",
       "  'Position': 'LW',\n",
       "  'Height': 175,\n",
       "  'Preferred foot': 'Right'},\n",
       " 165153: {'ID': 165153,\n",
       "  'Name': 'K. Benzema',\n",
       "  'Age': 35,\n",
       "  'Nationality': 'France',\n",
       "  'Team': 'Al Ittihad',\n",
       "  'League': 'Pro League (Saudi Arabia)',\n",
       "  'Value': 44000000,\n",
       "  'Wage': 89000,\n",
       "  'Attacking': 86.6,\n",
       "  'Movement': 78.4,\n",
       "  'Defending': 28.3,\n",
       "  'Goalkeeping': 8.2,\n",
       "  'Overall rating': 89,\n",
       "  'Position': 'CF',\n",
       "  'Height': 185,\n",
       "  'Preferred foot': 'Right'},\n",
       " 252371: {'ID': 252371,\n",
       "  'Name': 'J. Bellingham',\n",
       "  'Age': 20,\n",
       "  'Nationality': 'England',\n",
       "  'Team': 'Real Madrid',\n",
       "  'League': 'La Liga (Spain)',\n",
       "  'Value': 128500000,\n",
       "  'Wage': 230000,\n",
       "  'Attacking': 77.0,\n",
       "  'Movement': 82.2,\n",
       "  'Defending': 77.7,\n",
       "  'Goalkeeping': 9.6,\n",
       "  'Overall rating': 88,\n",
       "  'Position': 'CAM',\n",
       "  'Height': 186,\n",
       "  'Preferred foot': 'Right'},\n",
       " 239053: {'ID': 239053,\n",
       "  'Name': 'F. Valverde',\n",
       "  'Age': 24,\n",
       "  'Nationality': 'Uruguay',\n",
       "  'Team': 'Real Madrid',\n",
       "  'League': 'La Liga (Spain)',\n",
       "  'Value': 130500000,\n",
       "  'Wage': 270000,\n",
       "  'Attacking': 74.4,\n",
       "  'Movement': 81.8,\n",
       "  'Defending': 81.0,\n",
       "  'Goalkeeping': 9.0,\n",
       "  'Overall rating': 88,\n",
       "  'Position': 'CM',\n",
       "  'Height': 182,\n",
       "  'Preferred foot': 'Right'},\n",
       " 231478: {'ID': 231478,\n",
       "  'Name': 'L. Martínez',\n",
       "  'Age': 25,\n",
       "  'Nationality': 'Argentina',\n",
       "  'Team': 'Inter',\n",
       "  'League': 'Serie A (Italy)',\n",
       "  'Value': 116000000,\n",
       "  'Wage': 180000,\n",
       "  'Attacking': 80.6,\n",
       "  'Movement': 85.4,\n",
       "  'Defending': 43.3,\n",
       "  'Goalkeeping': 9.6,\n",
       "  'Overall rating': 88,\n",
       "  'Position': 'ST',\n",
       "  'Height': 174,\n",
       "  'Preferred foot': 'Right'},\n",
       " 218667: {'ID': 218667,\n",
       "  'Name': 'Bernardo Silva',\n",
       "  'Age': 28,\n",
       "  'Nationality': 'Portugal',\n",
       "  'Team': 'Manchester City',\n",
       "  'League': 'Premier League (England)',\n",
       "  'Value': 91500000,\n",
       "  'Wage': 270000,\n",
       "  'Attacking': 77.0,\n",
       "  'Movement': 84.4,\n",
       "  'Defending': 68.7,\n",
       "  'Goalkeeping': 10.8,\n",
       "  'Overall rating': 88,\n",
       "  'Position': 'CM',\n",
       "  'Height': 173,\n",
       "  'Preferred foot': 'Left'},\n",
       " 210257: {'ID': 210257,\n",
       "  'Name': 'Ederson',\n",
       "  'Age': 29,\n",
       "  'Nationality': 'Brazil',\n",
       "  'Team': 'Manchester City',\n",
       "  'League': 'Premier League (England)',\n",
       "  'Value': 70000000,\n",
       "  'Wage': 210000,\n",
       "  'Attacking': 26.2,\n",
       "  'Movement': 64.6,\n",
       "  'Defending': 17.3,\n",
       "  'Goalkeeping': 86.6,\n",
       "  'Overall rating': 88,\n",
       "  'Position': 'GK',\n",
       "  'Height': 188,\n",
       "  'Preferred foot': 'Left'},\n",
       " 200389: {'ID': 200389,\n",
       "  'Name': 'J. Oblak',\n",
       "  'Age': 30,\n",
       "  'Nationality': 'Slovenia',\n",
       "  'Team': 'Atlético Madrid',\n",
       "  'League': 'La Liga (Spain)',\n",
       "  'Value': 61000000,\n",
       "  'Wage': 90000,\n",
       "  'Attacking': 19.0,\n",
       "  'Movement': 58.4,\n",
       "  'Defending': 19.7,\n",
       "  'Goalkeeping': 85.2,\n",
       "  'Overall rating': 88,\n",
       "  'Position': 'GK',\n",
       "  'Height': 188,\n",
       "  'Preferred foot': 'Right'},\n",
       " 194765: {'ID': 194765,\n",
       "  'Name': 'A. Griezmann',\n",
       "  'Age': 32,\n",
       "  'Nationality': 'France',\n",
       "  'Team': 'Atlético Madrid',\n",
       "  'League': 'La Liga (Spain)',\n",
       "  'Value': 74000000,\n",
       "  'Wage': 135000,\n",
       "  'Attacking': 86.4,\n",
       "  'Movement': 84.8,\n",
       "  'Defending': 57.3,\n",
       "  'Goalkeeping': 12.6,\n",
       "  'Overall rating': 88,\n",
       "  'Position': 'ST',\n",
       "  'Height': 176,\n",
       "  'Preferred foot': 'Left'},\n",
       " 121939: {'ID': 121939,\n",
       "  'Name': 'P. Lahm',\n",
       "  'Age': 32,\n",
       "  'Nationality': 'Germany',\n",
       "  'Team': 'FC Bayern München',\n",
       "  'League': 'Bundesliga (Germany)',\n",
       "  'Value': 29500000,\n",
       "  'Wage': 200000,\n",
       "  'Attacking': 69.2,\n",
       "  'Movement': 80.2,\n",
       "  'Defending': 89.3,\n",
       "  'Goalkeeping': 9.4,\n",
       "  'Overall rating': 88,\n",
       "  'Position': 'RWB',\n",
       "  'Height': 170,\n",
       "  'Preferred foot': 'Right'},\n",
       " 256630: {'ID': 256630,\n",
       "  'Name': 'F. Wirtz',\n",
       "  'Age': 20,\n",
       "  'Nationality': 'Germany',\n",
       "  'Team': 'Bayer 04 Leverkusen',\n",
       "  'League': 'Bundesliga (Germany)',\n",
       "  'Value': 118500000,\n",
       "  'Wage': 77000,\n",
       "  'Attacking': 73.2,\n",
       "  'Movement': 84.0,\n",
       "  'Defending': 50.3,\n",
       "  'Goalkeeping': 11.4,\n",
       "  'Overall rating': 87,\n",
       "  'Position': 'CAM',\n",
       "  'Height': 177,\n",
       "  'Preferred foot': 'Right'},\n",
       " 235073: {'ID': 235073,\n",
       "  'Name': 'G. Kobel',\n",
       "  'Age': 25,\n",
       "  'Nationality': 'Switzerland',\n",
       "  'Team': 'Borussia Dortmund',\n",
       "  'League': 'Bundesliga (Germany)',\n",
       "  'Value': 81500000,\n",
       "  'Wage': 64000,\n",
       "  'Attacking': 17.0,\n",
       "  'Movement': 48.2,\n",
       "  'Defending': 15.0,\n",
       "  'Goalkeeping': 83.6,\n",
       "  'Overall rating': 87,\n",
       "  'Position': 'GK',\n",
       "  'Height': 195,\n",
       "  'Preferred foot': 'Right'},\n",
       " 232293: {'ID': 232293,\n",
       "  'Name': 'V. Osimhen',\n",
       "  'Age': 24,\n",
       "  'Nationality': 'Nigeria',\n",
       "  'Team': 'Napoli',\n",
       "  'League': 'Serie A (Italy)',\n",
       "  'Value': 110000000,\n",
       "  'Wage': 100000,\n",
       "  'Attacking': 78.2,\n",
       "  'Movement': 82.8,\n",
       "  'Defending': 34.3,\n",
       "  'Goalkeeping': 10.6,\n",
       "  'Overall rating': 87,\n",
       "  'Position': 'ST',\n",
       "  'Height': 186,\n",
       "  'Preferred foot': 'Right'},\n",
       " 230621: {'ID': 230621,\n",
       "  'Name': 'G. Donnarumma',\n",
       "  'Age': 24,\n",
       "  'Nationality': 'Italy',\n",
       "  'Team': 'Paris Saint Germain',\n",
       "  'League': 'Ligue 1 (France)',\n",
       "  'Value': 85000000,\n",
       "  'Wage': 90000,\n",
       "  'Attacking': 16.0,\n",
       "  'Movement': 57.6,\n",
       "  'Defending': 16.7,\n",
       "  'Goalkeeping': 83.2,\n",
       "  'Overall rating': 87,\n",
       "  'Position': 'GK',\n",
       "  'Height': 196,\n",
       "  'Preferred foot': 'Right'},\n",
       " 228702: {'ID': 228702,\n",
       "  'Name': 'F. de Jong',\n",
       "  'Age': 26,\n",
       "  'Nationality': 'Netherlands',\n",
       "  'Team': 'FC Barcelona',\n",
       "  'League': 'La Liga (Spain)',\n",
       "  'Value': 103500000,\n",
       "  'Wage': 240000,\n",
       "  'Attacking': 76.6,\n",
       "  'Movement': 83.4,\n",
       "  'Defending': 76.3,\n",
       "  'Goalkeeping': 9.8,\n",
       "  'Overall rating': 87,\n",
       "  'Position': 'CM',\n",
       "  'Height': 181,\n",
       "  'Preferred foot': 'Right'},\n",
       " 222665: {'ID': 222665,\n",
       "  'Name': 'M. Ødegaard',\n",
       "  'Age': 24,\n",
       "  'Nationality': 'Norway',\n",
       "  'Team': 'Arsenal',\n",
       "  'League': 'Premier League (England)',\n",
       "  'Value': 109000000,\n",
       "  'Wage': 170000,\n",
       "  'Attacking': 78.2,\n",
       "  'Movement': 79.2,\n",
       "  'Defending': 58.7,\n",
       "  'Goalkeeping': 12.4,\n",
       "  'Overall rating': 87,\n",
       "  'Position': 'CAM',\n",
       "  'Height': 178,\n",
       "  'Preferred foot': 'Left'},\n",
       " 215698: {'ID': 215698,\n",
       "  'Name': 'M. Maignan',\n",
       "  'Age': 27,\n",
       "  'Nationality': 'France',\n",
       "  'Team': 'Milan',\n",
       "  'League': 'Serie A (Italy)',\n",
       "  'Value': 78000000,\n",
       "  'Wage': 90000,\n",
       "  'Attacking': 26.2,\n",
       "  'Movement': 57.0,\n",
       "  'Defending': 19.3,\n",
       "  'Goalkeeping': 85.6,\n",
       "  'Overall rating': 87,\n",
       "  'Position': 'GK',\n",
       "  'Height': 191,\n",
       "  'Preferred foot': 'Right'},\n",
       " 212622: {'ID': 212622,\n",
       "  'Name': 'J. Kimmich',\n",
       "  'Age': 28,\n",
       "  'Nationality': 'Germany',\n",
       "  'Team': 'FC Bayern München',\n",
       "  'League': 'Bundesliga (Germany)',\n",
       "  'Value': 70000000,\n",
       "  'Wage': 110000,\n",
       "  'Attacking': 77.6,\n",
       "  'Movement': 79.4,\n",
       "  'Defending': 81.0,\n",
       "  'Goalkeeping': 12.0,\n",
       "  'Overall rating': 87,\n",
       "  'Position': 'CDM',\n",
       "  'Height': 177,\n",
       "  'Preferred foot': 'Right'},\n",
       " 212198: {'ID': 212198,\n",
       "  'Name': 'Bruno Fernandes',\n",
       "  'Age': 28,\n",
       "  'Nationality': 'Portugal',\n",
       "  'Team': 'Manchester United',\n",
       "  'League': 'Premier League (England)',\n",
       "  'Value': 79500000,\n",
       "  'Wage': 220000,\n",
       "  'Attacking': 80.4,\n",
       "  'Movement': 76.8,\n",
       "  'Defending': 65.3,\n",
       "  'Goalkeeping': 12.6,\n",
       "  'Overall rating': 87,\n",
       "  'Position': 'CM',\n",
       "  'Height': 179,\n",
       "  'Preferred foot': 'Right'},\n",
       " 207865: {'ID': 207865,\n",
       "  'Name': 'Marquinhos',\n",
       "  'Age': 29,\n",
       "  'Nationality': 'Brazil',\n",
       "  'Team': 'Paris Saint Germain',\n",
       "  'League': 'Ligue 1 (France)',\n",
       "  'Value': 73500000,\n",
       "  'Wage': 140000,\n",
       "  'Attacking': 66.8,\n",
       "  'Movement': 75.8,\n",
       "  'Defending': 89.0,\n",
       "  'Goalkeeping': 9.4,\n",
       "  'Overall rating': 87,\n",
       "  'Position': 'CB',\n",
       "  'Height': 183,\n",
       "  'Preferred foot': 'Right'},\n",
       " 200145: {'ID': 200145,\n",
       "  'Name': 'Casemiro',\n",
       "  'Age': 31,\n",
       "  'Nationality': 'Brazil',\n",
       "  'Team': 'Manchester United',\n",
       "  'League': 'Premier League (England)',\n",
       "  'Value': 56000000,\n",
       "  'Wage': 190000,\n",
       "  'Attacking': 74.4,\n",
       "  'Movement': 64.8,\n",
       "  'Defending': 87.0,\n",
       "  'Goalkeeping': 13.4,\n",
       "  'Overall rating': 87,\n",
       "  'Position': 'CDM',\n",
       "  'Height': 185,\n",
       "  'Preferred foot': 'Right'},\n",
       " 200104: {'ID': 200104,\n",
       "  'Name': 'H. Son',\n",
       "  'Age': 30,\n",
       "  'Nationality': 'Korea Republic',\n",
       "  'Team': 'Tottenham Hotspur',\n",
       "  'League': 'Premier League (England)',\n",
       "  'Value': 77000000,\n",
       "  'Wage': 170000,\n",
       "  'Attacking': 81.2,\n",
       "  'Movement': 83.6,\n",
       "  'Defending': 38.0,\n",
       "  'Goalkeeping': 10.6,\n",
       "  'Overall rating': 87,\n",
       "  'Position': 'LW',\n",
       "  'Height': 183,\n",
       "  'Preferred foot': 'Right'},\n",
       " 193080: {'ID': 193080,\n",
       "  'Name': 'De Gea',\n",
       "  'Age': 31,\n",
       "  'Nationality': 'Spain',\n",
       "  'Team': 'Manchester United',\n",
       "  'League': 'Premier League (England)',\n",
       "  'Value': 42000000,\n",
       "  'Wage': 150000,\n",
       "  'Attacking': 20.6,\n",
       "  'Movement': 56.4,\n",
       "  'Defending': 19.0,\n",
       "  'Goalkeeping': 82.2,\n",
       "  'Overall rating': 87,\n",
       "  'Position': 'GK',\n",
       "  'Height': 192,\n",
       "  'Preferred foot': 'Right'},\n",
       " 177003: {'ID': 177003,\n",
       "  'Name': 'L. Modrić',\n",
       "  'Age': 37,\n",
       "  'Nationality': 'Croatia',\n",
       "  'Team': 'Real Madrid',\n",
       "  'League': 'La Liga (Spain)',\n",
       "  'Value': 25000000,\n",
       "  'Wage': 190000,\n",
       "  'Attacking': 76.0,\n",
       "  'Movement': 82.8,\n",
       "  'Defending': 71.7,\n",
       "  'Goalkeeping': 10.4,\n",
       "  'Overall rating': 87,\n",
       "  'Position': 'CM',\n",
       "  'Height': 172,\n",
       "  'Preferred foot': 'Right'},\n",
       " 167495: {'ID': 167495,\n",
       "  'Name': 'M. Neuer',\n",
       "  'Age': 37,\n",
       "  'Nationality': 'Germany',\n",
       "  'Team': 'FC Bayern München',\n",
       "  'League': 'Bundesliga (Germany)',\n",
       "  'Value': 9000000,\n",
       "  'Wage': 55000,\n",
       "  'Attacking': 24.8,\n",
       "  'Movement': 53.6,\n",
       "  'Defending': 12.7,\n",
       "  'Goalkeeping': 86.2,\n",
       "  'Overall rating': 87,\n",
       "  'Position': 'GK',\n",
       "  'Height': 193,\n",
       "  'Preferred foot': 'Right'},\n",
       " 153079: {'ID': 153079,\n",
       "  'Name': 'S. Agüero',\n",
       "  'Age': 33,\n",
       "  'Nationality': 'Argentina',\n",
       "  'Team': 'FC Barcelona',\n",
       "  'League': 'La Liga (Spain)',\n",
       "  'Value': 51000000,\n",
       "  'Wage': 260000,\n",
       "  'Attacking': 81.2,\n",
       "  'Movement': 80.8,\n",
       "  'Defending': 27.7,\n",
       "  'Goalkeeping': 11.8,\n",
       "  'Overall rating': 87,\n",
       "  'Position': 'ST',\n",
       "  'Height': 173,\n",
       "  'Preferred foot': 'Right'},\n",
       " 265674: {'ID': 265674,\n",
       "  'Name': 'S. Bacha',\n",
       "  'Age': 22,\n",
       "  'Nationality': 'France',\n",
       "  'Team': 'Olympique Lyonnais W',\n",
       "  'League': 'Division 1 Féminine (France)',\n",
       "  'Value': 97500000,\n",
       "  'Wage': 1000,\n",
       "  'Attacking': 70.2,\n",
       "  'Movement': 86.6,\n",
       "  'Defending': 82.3,\n",
       "  'Goalkeeping': 11.4,\n",
       "  'Overall rating': 86,\n",
       "  'Position': 'LWB',\n",
       "  'Height': 161,\n",
       "  'Preferred foot': 'Left'},\n",
       " 256790: {'ID': 256790,\n",
       "  'Name': 'J. Musiala',\n",
       "  'Age': 20,\n",
       "  'Nationality': 'Germany',\n",
       "  'Team': 'FC Bayern München',\n",
       "  'League': 'Bundesliga (Germany)',\n",
       "  'Value': 134500000,\n",
       "  'Wage': 79000,\n",
       "  'Attacking': 69.4,\n",
       "  'Movement': 88.0,\n",
       "  'Defending': 65.0,\n",
       "  'Goalkeeping': 8.4,\n",
       "  'Overall rating': 86,\n",
       "  'Position': 'CAM',\n",
       "  'Height': 184,\n",
       "  'Preferred foot': 'Right'},\n",
       " 253163: {'ID': 253163,\n",
       "  'Name': 'R. Araujo',\n",
       "  'Age': 24,\n",
       "  'Nationality': 'Uruguay',\n",
       "  'Team': 'FC Barcelona',\n",
       "  'League': 'La Liga (Spain)',\n",
       "  'Value': 93000000,\n",
       "  'Wage': 175000,\n",
       "  'Attacking': 62.6,\n",
       "  'Movement': 71.4,\n",
       "  'Defending': 86.0,\n",
       "  'Goalkeeping': 10.6,\n",
       "  'Overall rating': 86,\n",
       "  'Position': 'CB',\n",
       "  'Height': 188,\n",
       "  'Preferred foot': 'Right'},\n",
       " 251854: {'ID': 251854,\n",
       "  'Name': 'Pedri',\n",
       "  'Age': 20,\n",
       "  'Nationality': 'Spain',\n",
       "  'Team': 'FC Barcelona',\n",
       "  'League': 'La Liga (Spain)',\n",
       "  'Value': 105000000,\n",
       "  'Wage': 165000,\n",
       "  'Attacking': 66.8,\n",
       "  'Movement': 84.4,\n",
       "  'Defending': 70.0,\n",
       "  'Goalkeeping': 9.2,\n",
       "  'Overall rating': 86,\n",
       "  'Position': 'CM',\n",
       "  'Height': 174,\n",
       "  'Preferred foot': 'Right'},\n",
       " 247635: {'ID': 247635,\n",
       "  'Name': 'K. Kvaratskhelia',\n",
       "  'Age': 22,\n",
       "  'Nationality': 'Georgia',\n",
       "  'Team': 'Napoli',\n",
       "  'League': 'Serie A (Italy)',\n",
       "  'Value': 109000000,\n",
       "  'Wage': 95000,\n",
       "  'Attacking': 73.6,\n",
       "  'Movement': 83.4,\n",
       "  'Defending': 37.0,\n",
       "  'Goalkeeping': 10.8,\n",
       "  'Overall rating': 86,\n",
       "  'Position': 'CAM',\n",
       "  'Height': 183,\n",
       "  'Preferred foot': 'Right'},\n",
       " 246669: {'ID': 246669,\n",
       "  'Name': 'B. Saka',\n",
       "  'Age': 21,\n",
       "  'Nationality': 'England',\n",
       "  'Team': 'Arsenal',\n",
       "  'League': 'Premier League (England)',\n",
       "  'Value': 99000000,\n",
       "  'Wage': 150000,\n",
       "  'Attacking': 74.6,\n",
       "  'Movement': 85.4,\n",
       "  'Defending': 60.7,\n",
       "  'Goalkeeping': 10.0,\n",
       "  'Overall rating': 86,\n",
       "  'Position': 'RW',\n",
       "  'Height': 178,\n",
       "  'Preferred foot': 'Left'},\n",
       " 241721: {'ID': 241721,\n",
       "  'Name': 'Rafael Leão',\n",
       "  'Age': 24,\n",
       "  'Nationality': 'Portugal',\n",
       "  'Team': 'Milan',\n",
       "  'League': 'Serie A (Italy)',\n",
       "  'Value': 102500000,\n",
       "  'Wage': 110000,\n",
       "  'Attacking': 75.8,\n",
       "  'Movement': 87.4,\n",
       "  'Defending': 22.3,\n",
       "  'Goalkeeping': 11.4,\n",
       "  'Overall rating': 86,\n",
       "  'Position': 'LW',\n",
       "  'Height': 188,\n",
       "  'Preferred foot': 'Right'},\n",
       " 241096: {'ID': 241096,\n",
       "  'Name': 'S. Tonali',\n",
       "  'Age': 23,\n",
       "  'Nationality': 'Italy',\n",
       "  'Team': 'Newcastle United',\n",
       "  'League': 'Premier League (England)',\n",
       "  'Value': 84000000,\n",
       "  'Wage': 140000,\n",
       "  'Attacking': 74.0,\n",
       "  'Movement': 82.8,\n",
       "  'Defending': 82.7,\n",
       "  'Goalkeeping': 8.8,\n",
       "  'Overall rating': 86,\n",
       "  'Position': 'CDM',\n",
       "  'Height': 181,\n",
       "  'Preferred foot': 'Right'},\n",
       " 240130: {'ID': 240130,\n",
       "  'Name': 'Éder Militão',\n",
       "  'Age': 25,\n",
       "  'Nationality': 'Brazil',\n",
       "  'Team': 'Real Madrid',\n",
       "  'League': 'La Liga (Spain)',\n",
       "  'Value': 80000000,\n",
       "  'Wage': 210000,\n",
       "  'Attacking': 63.2,\n",
       "  'Movement': 77.4,\n",
       "  'Defending': 86.0,\n",
       "  'Goalkeeping': 12.2,\n",
       "  'Overall rating': 86,\n",
       "  'Position': 'CB',\n",
       "  'Height': 186,\n",
       "  'Preferred foot': 'Right'}}"
      ]
     },
     "execution_count": 31,
     "metadata": {},
     "output_type": "execute_result"
    }
   ],
   "source": [
    "player_dict_by_id = {}\n",
    "\n",
    "for row_idx in range(len(csv_rows)):\n",
    "    player_dict = {}\n",
    "    \n",
    "    # Loop through each column in the csv_header and populate the player_dict\n",
    "    for column in csv_header:\n",
    "        player_dict[column] = cell(row_idx, column)  # Extract column data using the cell function\n",
    "\n",
    "    # Extract the player's ID\n",
    "    player_id = player_dict['ID']\n",
    "    \n",
    "    # Add the player_id and player_dict to the player_dict_by_id dictionary\n",
    "    player_dict_by_id[player_id] = player_dict\n",
    "\n",
    "player_dict_by_id\n"
   ]
  },
  {
   "cell_type": "code",
   "execution_count": 32,
   "id": "3a7eda76-2608-495c-8172-7227e7a2b154",
   "metadata": {
    "deletable": false,
    "editable": true,
    "slideshow": {
     "slide_type": ""
    },
    "tags": []
   },
   "outputs": [
    {
     "name": "stdout",
     "output_type": "stream",
     "text": [
      "Make sure you saved the notebook before running this cell. Running check for q7...\n",
      "Great job! You passed all test cases for this question.\n"
     ]
    }
   ],
   "source": [
    "student_grader_with_feedback.check(\"q7\", should_get_llm_feedback=False)"
   ]
  },
  {
   "cell_type": "markdown",
   "id": "954fb383",
   "metadata": {
    "deletable": false,
    "editable": false,
    "jp-MarkdownHeadingCollapsed": true
   },
   "source": [
    "#### WARNING: For the rest of the assignment, you MUST access all data using ONLY the data structure `player_dict_by_id`."
   ]
  },
  {
   "cell_type": "markdown",
   "id": "581f14c5",
   "metadata": {
    "deletable": false,
    "editable": false
   },
   "source": [
    "Now that we have created the data structure `player_dict_by_id`, we can access all the data that we need for this project using this Data Structure instead of using `csv_rows` or the `cell` function."
   ]
  },
  {
   "cell_type": "markdown",
   "id": "8819ede4",
   "metadata": {
    "deletable": false,
    "editable": false
   },
   "source": [
    "#### Project Question 8"
   ]
  },
  {
   "cell_type": "markdown",
   "id": "5f22aa0b",
   "metadata": {
    "deletable": false,
    "editable": false
   },
   "source": [
    "Find **all** the statistics of the player with the `ID` *256630*.\n",
    "\n",
    "Your output should look like this:\n",
    "\n",
    "```python\n",
    "{'ID': 256630,\n",
    " 'Name': 'F. Wirtz',\n",
    " 'Age': 20,\n",
    " 'Nationality': 'Germany',\n",
    " 'Team': 'Bayer 04 Leverkusen',\n",
    " 'League': 'Bundesliga (Germany)',\n",
    " 'Value': 118500000,\n",
    " 'Wage': 77000,\n",
    " 'Attacking': 73.2,\n",
    " 'Movement': 84.0,\n",
    " 'Defending': 50.3,\n",
    " 'Goalkeeping': 11.4,\n",
    " 'Overall rating': 87,\n",
    " 'Position': 'CAM',\n",
    " 'Height': 177,\n",
    " 'Preferred foot': 'Right'}\n",
    "```"
   ]
  },
  {
   "cell_type": "markdown",
   "id": "6556b831-5cf2-43db-90f4-a670039ce041",
   "metadata": {
    "deletable": false,
    "editable": false
   },
   "source": [
    "Points possible: 3.0"
   ]
  },
  {
   "cell_type": "code",
   "execution_count": 33,
   "id": "7e8a31a2",
   "metadata": {
    "deletable": false,
    "editable": true,
    "tags": [
     "q8-code"
    ]
   },
   "outputs": [
    {
     "data": {
      "text/plain": [
       "{'ID': 256630,\n",
       " 'Name': 'F. Wirtz',\n",
       " 'Age': 20,\n",
       " 'Nationality': 'Germany',\n",
       " 'Team': 'Bayer 04 Leverkusen',\n",
       " 'League': 'Bundesliga (Germany)',\n",
       " 'Value': 118500000,\n",
       " 'Wage': 77000,\n",
       " 'Attacking': 73.2,\n",
       " 'Movement': 84.0,\n",
       " 'Defending': 50.3,\n",
       " 'Goalkeeping': 11.4,\n",
       " 'Overall rating': 87,\n",
       " 'Position': 'CAM',\n",
       " 'Height': 177,\n",
       " 'Preferred foot': 'Right'}"
      ]
     },
     "execution_count": 33,
     "metadata": {},
     "output_type": "execute_result"
    }
   ],
   "source": [
    "player_256630 = player_dict_by_id[256630]\n",
    "\n",
    "player_256630\n",
    "\n"
   ]
  },
  {
   "cell_type": "code",
   "execution_count": 34,
   "id": "94e71927-d010-42a0-ba60-3c12e92d6fcc",
   "metadata": {
    "deletable": false,
    "editable": true,
    "slideshow": {
     "slide_type": ""
    },
    "tags": []
   },
   "outputs": [
    {
     "name": "stdout",
     "output_type": "stream",
     "text": [
      "Make sure you saved the notebook before running this cell. Running check for q8...\n",
      "Great job! You passed all test cases for this question.\n"
     ]
    }
   ],
   "source": [
    "student_grader_with_feedback.check(\"q8\", should_get_llm_feedback=False)"
   ]
  },
  {
   "cell_type": "markdown",
   "id": "3907fe75",
   "metadata": {
    "deletable": false,
    "editable": false
   },
   "source": [
    "#### Project Question 9"
   ]
  },
  {
   "cell_type": "markdown",
   "id": "dc46f7ab",
   "metadata": {
    "deletable": false,
    "editable": false
   },
   "source": [
    "Find the `Name` of the player with the `ID` *200104*."
   ]
  },
  {
   "cell_type": "markdown",
   "id": "7842a0b6-8dcb-4e0c-b3f8-0444663386c0",
   "metadata": {
    "deletable": false,
    "editable": false
   },
   "source": [
    "Points possible: 3.0"
   ]
  },
  {
   "cell_type": "code",
   "execution_count": 35,
   "id": "7c451b5a",
   "metadata": {
    "deletable": false,
    "editable": true,
    "tags": [
     "q9-code"
    ]
   },
   "outputs": [
    {
     "data": {
      "text/plain": [
       "'H. Son'"
      ]
     },
     "execution_count": 35,
     "metadata": {},
     "output_type": "execute_result"
    }
   ],
   "source": [
    "player_200104 = player_dict_by_id[200104]  # Get the player dictionary for ID 200104\n",
    "player_200104_name = player_200104['Name']  # Extract the 'Name' from the player dictionary\n",
    "\n",
    "player_200104_name\n"
   ]
  },
  {
   "cell_type": "code",
   "execution_count": 36,
   "id": "7856f189-6708-402d-bedd-fe0d92a3f32c",
   "metadata": {
    "deletable": false,
    "editable": true,
    "slideshow": {
     "slide_type": ""
    },
    "tags": []
   },
   "outputs": [
    {
     "name": "stdout",
     "output_type": "stream",
     "text": [
      "Make sure you saved the notebook before running this cell. Running check for q9...\n",
      "Great job! You passed all test cases for this question.\n"
     ]
    }
   ],
   "source": [
    "student_grader_with_feedback.check(\"q9\", should_get_llm_feedback=False)"
   ]
  },
  {
   "cell_type": "markdown",
   "id": "b67d1ea0",
   "metadata": {
    "deletable": false,
    "editable": false
   },
   "source": [
    "#### Project Question 10"
   ]
  },
  {
   "cell_type": "markdown",
   "id": "fe59e7c7",
   "metadata": {
    "deletable": false,
    "editable": false
   },
   "source": [
    "Find the `Overall rating` of the player with the `ID` *252371*."
   ]
  },
  {
   "cell_type": "markdown",
   "id": "c27f3767-2ded-40e8-9068-0fb6ca871899",
   "metadata": {
    "deletable": false,
    "editable": false
   },
   "source": [
    "Points possible: 3.0"
   ]
  },
  {
   "cell_type": "code",
   "execution_count": 37,
   "id": "4035c377",
   "metadata": {
    "deletable": false,
    "editable": true,
    "tags": [
     "q10-code"
    ]
   },
   "outputs": [
    {
     "data": {
      "text/plain": [
       "88"
      ]
     },
     "execution_count": 37,
     "metadata": {},
     "output_type": "execute_result"
    }
   ],
   "source": [
    "player_252371 = player_dict_by_id[252371]  # Get the player dictionary for ID 252371\n",
    "player_252371_rating = player_252371['Overall rating']  # Extract the 'Overall rating' from the player dictionary\n",
    "\n",
    "player_252371_rating\n"
   ]
  },
  {
   "cell_type": "code",
   "execution_count": 38,
   "id": "a0aa49b5-3b89-4232-903a-8efac14af0a5",
   "metadata": {
    "deletable": false,
    "editable": true,
    "slideshow": {
     "slide_type": ""
    },
    "tags": []
   },
   "outputs": [
    {
     "name": "stdout",
     "output_type": "stream",
     "text": [
      "Make sure you saved the notebook before running this cell. Running check for q10...\n",
      "Great job! You passed all test cases for this question.\n"
     ]
    }
   ],
   "source": [
    "student_grader_with_feedback.check(\"q10\", should_get_llm_feedback=False)"
   ]
  },
  {
   "cell_type": "markdown",
   "id": "9f9509c7",
   "metadata": {
    "deletable": false,
    "editable": false
   },
   "source": [
    "#### Project Question 11"
   ]
  },
  {
   "cell_type": "markdown",
   "id": "bb6532fb",
   "metadata": {
    "deletable": false,
    "editable": false
   },
   "source": [
    "Create a dictionary mapping each player's `ID` to their `Attacking` stat.\n",
    "\n",
    "Your output **must** be a **dict** where each key is an `ID` and the value is the `Attacking` stat. Key-value pairs within this **dict** should look like this:\n",
    "\n",
    "```python\n",
    "{\n",
    "    239085: 78.6,\n",
    "    231747: 83.0,\n",
    "    192985: 82.4,\n",
    "    202126: 88.0,\n",
    "    192119: 17.2,\n",
    "    ...\n",
    "}\n",
    "```"
   ]
  },
  {
   "cell_type": "markdown",
   "id": "c191aba7-b881-4382-a092-77829cdd79a9",
   "metadata": {
    "deletable": false,
    "editable": false
   },
   "source": [
    "Points possible: 5.0"
   ]
  },
  {
   "cell_type": "code",
   "execution_count": 39,
   "id": "84b68edf",
   "metadata": {
    "deletable": false,
    "editable": true,
    "tags": [
     "q11-code"
    ]
   },
   "outputs": [
    {
     "data": {
      "text/plain": [
       "{239085: 78.6,\n",
       " 231747: 83.0,\n",
       " 192985: 82.4,\n",
       " 202126: 88.0,\n",
       " 192119: 17.2,\n",
       " 188545: 86.6,\n",
       " 158023: 81.8,\n",
       " 264012: 82.6,\n",
       " 239818: 57.0,\n",
       " 238794: 73.8,\n",
       " 231866: 74.0,\n",
       " 212831: 27.8,\n",
       " 209331: 79.8,\n",
       " 203376: 63.0,\n",
       " 192448: 23.6,\n",
       " 190871: 80.0,\n",
       " 165153: 86.6,\n",
       " 252371: 77.0,\n",
       " 239053: 74.4,\n",
       " 231478: 80.6,\n",
       " 218667: 77.0,\n",
       " 210257: 26.2,\n",
       " 200389: 19.0,\n",
       " 194765: 86.4,\n",
       " 121939: 69.2,\n",
       " 256630: 73.2,\n",
       " 235073: 17.0,\n",
       " 232293: 78.2,\n",
       " 230621: 16.0,\n",
       " 228702: 76.6,\n",
       " 222665: 78.2,\n",
       " 215698: 26.2,\n",
       " 212622: 77.6,\n",
       " 212198: 80.4,\n",
       " 207865: 66.8,\n",
       " 200145: 74.4,\n",
       " 200104: 81.2,\n",
       " 193080: 20.6,\n",
       " 177003: 76.0,\n",
       " 167495: 24.8,\n",
       " 153079: 81.2,\n",
       " 265674: 70.2,\n",
       " 256790: 69.4,\n",
       " 253163: 62.6,\n",
       " 251854: 66.8,\n",
       " 247635: 73.6,\n",
       " 246669: 74.6,\n",
       " 241721: 75.8,\n",
       " 241096: 74.0,\n",
       " 240130: 63.2}"
      ]
     },
     "execution_count": 39,
     "metadata": {},
     "output_type": "execute_result"
    }
   ],
   "source": [
    "attacking_stat_by_id = {}\n",
    "\n",
    "for player_id in player_dict_by_id:\n",
    "    player_attacking = player_dict_by_id[player_id]['Attacking']  # Extract the 'Attacking' stat\n",
    "    attacking_stat_by_id[player_id] = player_attacking  # Add the ID and Attacking stat to the dict\n",
    "\n",
    "attacking_stat_by_id\n"
   ]
  },
  {
   "cell_type": "code",
   "execution_count": 40,
   "id": "38f9c14c-ad2d-46b6-81dd-c63429f67bbd",
   "metadata": {
    "deletable": false,
    "editable": true,
    "slideshow": {
     "slide_type": ""
    },
    "tags": []
   },
   "outputs": [
    {
     "name": "stdout",
     "output_type": "stream",
     "text": [
      "Make sure you saved the notebook before running this cell. Running check for q11...\n",
      "Great job! You passed all test cases for this question.\n"
     ]
    }
   ],
   "source": [
    "student_grader_with_feedback.check(\"q11\", should_get_llm_feedback=False)"
   ]
  },
  {
   "cell_type": "markdown",
   "id": "54055441",
   "metadata": {
    "deletable": false,
    "editable": false
   },
   "source": [
    "#### Project Question 12"
   ]
  },
  {
   "cell_type": "markdown",
   "id": "4f79c9bc",
   "metadata": {
    "deletable": false,
    "editable": false
   },
   "source": [
    "Create a dictionary mapping each player's `Name` to their `ID`.\n",
    "\n",
    "Your output **must** be a **dict** where each key is a `Name` and the value is the `ID` stat.\n",
    "\n",
    "**Note**: In general, creating a **dict** mapping each `Name` to the `ID` is a **bad idea** as names are **not** unique. Since **keys** in **dicts** need to be unique, this could result in some names being mapped to the **wrong** `ID` (of a **different** player with the **same** name). However, in `small_soccer_stars.csv`, the names have been **chosen** to be **unique**, so we don't have to worry about this issue.\n",
    "\n",
    "The **first five** key-value pairs within this **dict** would be these:\n",
    "\n",
    "```python\n",
    "{\n",
    "    'E. Haaland': 239085,\n",
    "    'K. Mbappé': 231747,\n",
    "    'K. De Bruyne': 192985,\n",
    "    'H. Kane': 202126,\n",
    "    'T. Courtois': 192119,\n",
    "    ...\n",
    "}\n",
    "```"
   ]
  },
  {
   "cell_type": "markdown",
   "id": "712b7779-a155-4c39-b73a-492cb2c5a5c8",
   "metadata": {
    "deletable": false,
    "editable": false
   },
   "source": [
    "Points possible: 5.0"
   ]
  },
  {
   "cell_type": "code",
   "execution_count": 41,
   "id": "0f9dfb4d",
   "metadata": {
    "deletable": false,
    "editable": true,
    "tags": [
     "q12-code"
    ]
   },
   "outputs": [
    {
     "data": {
      "text/plain": [
       "{'E. Haaland': 239085,\n",
       " 'K. Mbappé': 231747,\n",
       " 'K. De Bruyne': 192985,\n",
       " 'H. Kane': 202126,\n",
       " 'T. Courtois': 192119,\n",
       " 'R. Lewandowski': 188545,\n",
       " 'L. Messi': 158023,\n",
       " 'S. Smith': 264012,\n",
       " 'Rúben Dias': 239818,\n",
       " 'Vini Jr.': 238794,\n",
       " 'Rodri': 231866,\n",
       " 'Alisson': 212831,\n",
       " 'M. Salah': 209331,\n",
       " 'V. van Dijk': 203376,\n",
       " 'M. ter Stegen': 192448,\n",
       " 'Neymar Jr': 190871,\n",
       " 'K. Benzema': 165153,\n",
       " 'J. Bellingham': 252371,\n",
       " 'F. Valverde': 239053,\n",
       " 'L. Martínez': 231478,\n",
       " 'Bernardo Silva': 218667,\n",
       " 'Ederson': 210257,\n",
       " 'J. Oblak': 200389,\n",
       " 'A. Griezmann': 194765,\n",
       " 'P. Lahm': 121939,\n",
       " 'F. Wirtz': 256630,\n",
       " 'G. Kobel': 235073,\n",
       " 'V. Osimhen': 232293,\n",
       " 'G. Donnarumma': 230621,\n",
       " 'F. de Jong': 228702,\n",
       " 'M. Ødegaard': 222665,\n",
       " 'M. Maignan': 215698,\n",
       " 'J. Kimmich': 212622,\n",
       " 'Bruno Fernandes': 212198,\n",
       " 'Marquinhos': 207865,\n",
       " 'Casemiro': 200145,\n",
       " 'H. Son': 200104,\n",
       " 'De Gea': 193080,\n",
       " 'L. Modrić': 177003,\n",
       " 'M. Neuer': 167495,\n",
       " 'S. Agüero': 153079,\n",
       " 'S. Bacha': 265674,\n",
       " 'J. Musiala': 256790,\n",
       " 'R. Araujo': 253163,\n",
       " 'Pedri': 251854,\n",
       " 'K. Kvaratskhelia': 247635,\n",
       " 'B. Saka': 246669,\n",
       " 'Rafael Leão': 241721,\n",
       " 'S. Tonali': 241096,\n",
       " 'Éder Militão': 240130}"
      ]
     },
     "execution_count": 41,
     "metadata": {},
     "output_type": "execute_result"
    }
   ],
   "source": [
    "player_id_by_name = {}\n",
    "\n",
    "for player_id in player_dict_by_id:\n",
    "    player_name = player_dict_by_id[player_id]['Name']  # Extract the player's name\n",
    "    player_id_by_name[player_name] = player_id  # Add the player's name and ID to the dict\n",
    "\n",
    "player_id_by_name\n"
   ]
  },
  {
   "cell_type": "code",
   "execution_count": 42,
   "id": "05e4f1d2-768c-46a7-967e-a200f206fda0",
   "metadata": {
    "deletable": false,
    "editable": true,
    "slideshow": {
     "slide_type": ""
    },
    "tags": []
   },
   "outputs": [
    {
     "name": "stdout",
     "output_type": "stream",
     "text": [
      "Make sure you saved the notebook before running this cell. Running check for q12...\n",
      "Great job! You passed all test cases for this question.\n"
     ]
    }
   ],
   "source": [
    "student_grader_with_feedback.check(\"q12\", should_get_llm_feedback=False)"
   ]
  },
  {
   "cell_type": "markdown",
   "id": "252b7685",
   "metadata": {
    "deletable": false,
    "editable": false
   },
   "source": [
    "#### Project Question 13"
   ]
  },
  {
   "cell_type": "markdown",
   "id": "0c2ac1a2",
   "metadata": {
    "deletable": false,
    "editable": false
   },
   "source": [
    "Create a dictionary mapping each player's `Name` to their `Nationality`.\n",
    "\n",
    "Your output **must** be a **dict** where each key is a `Name` and the value is the `Nationality`. Key-value pairs in this dictionary should looke like this:\n",
    "\n",
    "```python\n",
    "{\n",
    "    'E. Haaland': 'Norway',\n",
    "    'K. Mbappé': 'France',\n",
    "    'K. De Bruyne': 'Belgium',\n",
    "    'H. Kane': 'England',\n",
    "    'T. Courtois': 'Belgium',\n",
    "    ...\n",
    "}\n",
    "```"
   ]
  },
  {
   "cell_type": "markdown",
   "id": "476e7cc9-d040-4421-8237-2d6e4623cfd1",
   "metadata": {
    "deletable": false,
    "editable": false
   },
   "source": [
    "Points possible: 5.0"
   ]
  },
  {
   "cell_type": "code",
   "execution_count": 43,
   "id": "387d1457",
   "metadata": {
    "deletable": false,
    "editable": true,
    "tags": [
     "q13-code"
    ]
   },
   "outputs": [
    {
     "data": {
      "text/plain": [
       "{'E. Haaland': 'Norway',\n",
       " 'K. Mbappé': 'France',\n",
       " 'K. De Bruyne': 'Belgium',\n",
       " 'H. Kane': 'England',\n",
       " 'T. Courtois': 'Belgium',\n",
       " 'R. Lewandowski': 'Poland',\n",
       " 'L. Messi': 'Argentina',\n",
       " 'S. Smith': 'United States',\n",
       " 'Rúben Dias': 'Portugal',\n",
       " 'Vini Jr.': 'Brazil',\n",
       " 'Rodri': 'Spain',\n",
       " 'Alisson': 'Brazil',\n",
       " 'M. Salah': 'Egypt',\n",
       " 'V. van Dijk': 'Netherlands',\n",
       " 'M. ter Stegen': 'Germany',\n",
       " 'Neymar Jr': 'Brazil',\n",
       " 'K. Benzema': 'France',\n",
       " 'J. Bellingham': 'England',\n",
       " 'F. Valverde': 'Uruguay',\n",
       " 'L. Martínez': 'Argentina',\n",
       " 'Bernardo Silva': 'Portugal',\n",
       " 'Ederson': 'Brazil',\n",
       " 'J. Oblak': 'Slovenia',\n",
       " 'A. Griezmann': 'France',\n",
       " 'P. Lahm': 'Germany',\n",
       " 'F. Wirtz': 'Germany',\n",
       " 'G. Kobel': 'Switzerland',\n",
       " 'V. Osimhen': 'Nigeria',\n",
       " 'G. Donnarumma': 'Italy',\n",
       " 'F. de Jong': 'Netherlands',\n",
       " 'M. Ødegaard': 'Norway',\n",
       " 'M. Maignan': 'France',\n",
       " 'J. Kimmich': 'Germany',\n",
       " 'Bruno Fernandes': 'Portugal',\n",
       " 'Marquinhos': 'Brazil',\n",
       " 'Casemiro': 'Brazil',\n",
       " 'H. Son': 'Korea Republic',\n",
       " 'De Gea': 'Spain',\n",
       " 'L. Modrić': 'Croatia',\n",
       " 'M. Neuer': 'Germany',\n",
       " 'S. Agüero': 'Argentina',\n",
       " 'S. Bacha': 'France',\n",
       " 'J. Musiala': 'Germany',\n",
       " 'R. Araujo': 'Uruguay',\n",
       " 'Pedri': 'Spain',\n",
       " 'K. Kvaratskhelia': 'Georgia',\n",
       " 'B. Saka': 'England',\n",
       " 'Rafael Leão': 'Portugal',\n",
       " 'S. Tonali': 'Italy',\n",
       " 'Éder Militão': 'Brazil'}"
      ]
     },
     "execution_count": 43,
     "metadata": {},
     "output_type": "execute_result"
    }
   ],
   "source": [
    "nationality_by_name = {}\n",
    "\n",
    "for player_id in player_dict_by_id:\n",
    "    player_name = player_dict_by_id[player_id]['Name']  # Extract the player's Name\n",
    "    player_nationality = player_dict_by_id[player_id]['Nationality']  # Extract the player's Nationality\n",
    "    nationality_by_name[player_name] = player_nationality  # Map Name to Nationality\n",
    "\n",
    "nationality_by_name\n"
   ]
  },
  {
   "cell_type": "code",
   "execution_count": 44,
   "id": "5d291e75-b21d-4298-9e1c-c9816713301a",
   "metadata": {
    "deletable": false,
    "editable": true,
    "slideshow": {
     "slide_type": ""
    },
    "tags": []
   },
   "outputs": [
    {
     "name": "stdout",
     "output_type": "stream",
     "text": [
      "Make sure you saved the notebook before running this cell. Running check for q13...\n",
      "Great job! You passed all test cases for this question.\n"
     ]
    }
   ],
   "source": [
    "student_grader_with_feedback.check(\"q13\", should_get_llm_feedback=False)"
   ]
  },
  {
   "cell_type": "markdown",
   "id": "8996f0a6",
   "metadata": {
    "deletable": false,
    "editable": false
   },
   "source": [
    "#### Project Question 14"
   ]
  },
  {
   "cell_type": "markdown",
   "id": "833dc832",
   "metadata": {
    "deletable": false,
    "editable": false
   },
   "source": [
    "Create a dictionary mapping each `Preferred foot` (i.e., `'Right'` or `'Left'`) to the **number** of players with that `Preferred foot`.\n",
    "\n",
    "This **dict** should be as follows:\n",
    "\n",
    "```python\n",
    "{'Left': 10, 'Right': 40}\n",
    "```\n",
    "\n",
    "If we want to add to the value in a dictionary, we have to first make sure that the key/value pair exists in the dictionary. The `if preferred_foot not in count_by_foot:` line in the code below helps us accomplish this. If we have not seen the key before, we initialize its count to 0."
   ]
  },
  {
   "cell_type": "markdown",
   "id": "4704f8d6-b057-4c1c-9b49-b08e270729ba",
   "metadata": {
    "deletable": false,
    "editable": false
   },
   "source": [
    "Points possible: 5.0"
   ]
  },
  {
   "cell_type": "code",
   "execution_count": 45,
   "id": "d19d48b8",
   "metadata": {
    "deletable": false,
    "editable": true,
    "tags": [
     "q14-code"
    ]
   },
   "outputs": [
    {
     "data": {
      "text/plain": [
       "{'Left': 10, 'Right': 40}"
      ]
     },
     "execution_count": 45,
     "metadata": {},
     "output_type": "execute_result"
    }
   ],
   "source": [
    "count_by_foot = {}\n",
    "\n",
    "for player_id in player_dict_by_id:\n",
    "    preferred_foot = player_dict_by_id[player_id]['Preferred foot']  # Extract the player's Preferred foot\n",
    "    if preferred_foot not in count_by_foot:\n",
    "        count_by_foot[preferred_foot] = 0  # Initialize count if the foot hasn't been seen\n",
    "    count_by_foot[preferred_foot] += 1  # Increment the count\n",
    "\n",
    "count_by_foot\n"
   ]
  },
  {
   "cell_type": "code",
   "execution_count": 46,
   "id": "c719daac-e798-4da9-9fde-fcc51d66eafa",
   "metadata": {
    "deletable": false,
    "editable": true,
    "slideshow": {
     "slide_type": ""
    },
    "tags": []
   },
   "outputs": [
    {
     "name": "stdout",
     "output_type": "stream",
     "text": [
      "Make sure you saved the notebook before running this cell. Running check for q14...\n",
      "Great job! You passed all test cases for this question.\n"
     ]
    }
   ],
   "source": [
    "student_grader_with_feedback.check(\"q14\", should_get_llm_feedback=False)"
   ]
  },
  {
   "cell_type": "markdown",
   "id": "6d92f123",
   "metadata": {
    "deletable": false,
    "editable": false
   },
   "source": [
    "#### Project Question 15"
   ]
  },
  {
   "cell_type": "markdown",
   "id": "c79c26c5",
   "metadata": {
    "deletable": false,
    "editable": false
   },
   "source": [
    "Create a dictionary mapping each `Nationality` to the **number** of players with that `Nationality`.\n",
    "\n",
    "This **dict** should look like this:\n",
    "\n",
    "```python\n",
    "{\n",
    "    'Norway': 2,\n",
    "    'France': 5,\n",
    "    'Belgium': 2,\n",
    "    'England': 3,\n",
    "    'Poland': 1,\n",
    "     ...\n",
    "}\n",
    "```"
   ]
  },
  {
   "cell_type": "markdown",
   "id": "ba0c0d8c-168f-418b-b241-f0e23c7421b0",
   "metadata": {
    "deletable": false,
    "editable": false
   },
   "source": [
    "Points possible: 5.0"
   ]
  },
  {
   "cell_type": "code",
   "execution_count": 47,
   "id": "ada5e555",
   "metadata": {
    "deletable": false,
    "editable": true,
    "tags": [
     "q15-code"
    ]
   },
   "outputs": [
    {
     "data": {
      "text/plain": [
       "{'Norway': 2,\n",
       " 'France': 5,\n",
       " 'Belgium': 2,\n",
       " 'England': 3,\n",
       " 'Poland': 1,\n",
       " 'Argentina': 3,\n",
       " 'United States': 1,\n",
       " 'Portugal': 4,\n",
       " 'Brazil': 7,\n",
       " 'Spain': 3,\n",
       " 'Egypt': 1,\n",
       " 'Netherlands': 2,\n",
       " 'Germany': 6,\n",
       " 'Uruguay': 2,\n",
       " 'Slovenia': 1,\n",
       " 'Switzerland': 1,\n",
       " 'Nigeria': 1,\n",
       " 'Italy': 2,\n",
       " 'Korea Republic': 1,\n",
       " 'Croatia': 1,\n",
       " 'Georgia': 1}"
      ]
     },
     "execution_count": 47,
     "metadata": {},
     "output_type": "execute_result"
    }
   ],
   "source": [
    "count_by_nationality = {}\n",
    "\n",
    "for player_id in player_dict_by_id:\n",
    "    nationality = player_dict_by_id[player_id]['Nationality']  # Extract the player's Nationality\n",
    "    if nationality not in count_by_nationality:\n",
    "        count_by_nationality[nationality] = 0  # Initialize count if the nationality hasn't been seen\n",
    "    count_by_nationality[nationality] += 1  # Increment the count\n",
    "\n",
    "count_by_nationality\n"
   ]
  },
  {
   "cell_type": "code",
   "execution_count": 48,
   "id": "29f9d87a-008f-4762-80ff-293f5728bbed",
   "metadata": {
    "deletable": false,
    "editable": true,
    "slideshow": {
     "slide_type": ""
    },
    "tags": []
   },
   "outputs": [
    {
     "name": "stdout",
     "output_type": "stream",
     "text": [
      "Make sure you saved the notebook before running this cell. Running check for q15...\n",
      "Great job! You passed all test cases for this question.\n"
     ]
    }
   ],
   "source": [
    "student_grader_with_feedback.check(\"q15\", should_get_llm_feedback=False)"
   ]
  },
  {
   "cell_type": "markdown",
   "id": "cfac8738",
   "metadata": {
    "deletable": false,
    "editable": false
   },
   "source": [
    "#### Project Question 16"
   ]
  },
  {
   "cell_type": "markdown",
   "id": "9c2a5849",
   "metadata": {
    "deletable": false,
    "editable": false
   },
   "source": [
    "Create a dictionary mapping each `Nationality` to the **sum** of the `Attacking` stat of all the players with that `Nationality`.\n",
    "\n",
    "The entries in this **dict** should look like this:\n",
    "\n",
    "```python\n",
    "{\n",
    "    'Norway': 156.8,\n",
    "    'France': 352.4,\n",
    "    'Belgium': 99.6,\n",
    "    'England': 239.6,\n",
    "    'Poland': 86.6,\n",
    "}\n",
    "```"
   ]
  },
  {
   "cell_type": "markdown",
   "id": "f97a81ba-e52c-4308-8f94-c75f9f1d0909",
   "metadata": {
    "deletable": false,
    "editable": false
   },
   "source": [
    "Points possible: 5.0"
   ]
  },
  {
   "cell_type": "code",
   "execution_count": 49,
   "id": "81ed67c8",
   "metadata": {
    "deletable": false,
    "editable": true,
    "tags": [
     "q16-code"
    ]
   },
   "outputs": [
    {
     "data": {
      "text/plain": [
       "{'Norway': 156.8,\n",
       " 'France': 352.4,\n",
       " 'Belgium': 99.60000000000001,\n",
       " 'England': 239.6,\n",
       " 'Poland': 86.6,\n",
       " 'Argentina': 243.59999999999997,\n",
       " 'United States': 82.6,\n",
       " 'Portugal': 290.2,\n",
       " 'Brazil': 412.2,\n",
       " 'Spain': 161.39999999999998,\n",
       " 'Egypt': 79.8,\n",
       " 'Netherlands': 139.6,\n",
       " 'Germany': 337.79999999999995,\n",
       " 'Uruguay': 137.0,\n",
       " 'Slovenia': 19.0,\n",
       " 'Switzerland': 17.0,\n",
       " 'Nigeria': 78.2,\n",
       " 'Italy': 90.0,\n",
       " 'Korea Republic': 81.2,\n",
       " 'Croatia': 76.0,\n",
       " 'Georgia': 73.6}"
      ]
     },
     "execution_count": 49,
     "metadata": {},
     "output_type": "execute_result"
    }
   ],
   "source": [
    "attacking_total_by_nationality = {}\n",
    "\n",
    "for player_id in player_dict_by_id:\n",
    "    nationality = player_dict_by_id[player_id]['Nationality']  # Extract the player's Nationality\n",
    "    attacking = player_dict_by_id[player_id]['Attacking']  # Extract the player's Attacking stat\n",
    "    \n",
    "    if nationality not in attacking_total_by_nationality:\n",
    "        attacking_total_by_nationality[nationality] = 0  # Initialize the sum if the nationality hasn't been seen\n",
    "    attacking_total_by_nationality[nationality] += attacking  # Add the player's Attacking stat to the total\n",
    "\n",
    "attacking_total_by_nationality\n"
   ]
  },
  {
   "cell_type": "code",
   "execution_count": 50,
   "id": "1da543dd-a94e-48a5-abd0-14d379df004b",
   "metadata": {
    "deletable": false,
    "editable": true,
    "slideshow": {
     "slide_type": ""
    },
    "tags": []
   },
   "outputs": [
    {
     "name": "stdout",
     "output_type": "stream",
     "text": [
      "Make sure you saved the notebook before running this cell. Running check for q16...\n",
      "Great job! You passed all test cases for this question.\n"
     ]
    }
   ],
   "source": [
    "student_grader_with_feedback.check(\"q16\", should_get_llm_feedback=False)"
   ]
  },
  {
   "cell_type": "markdown",
   "id": "50fa5722",
   "metadata": {
    "deletable": false,
    "editable": false
   },
   "source": [
    "#### Project Question 17"
   ]
  },
  {
   "cell_type": "markdown",
   "id": "23e31d22",
   "metadata": {
    "deletable": false,
    "editable": false,
    "slideshow": {
     "slide_type": ""
    },
    "tags": []
   },
   "source": [
    "Use the data in the **dictionaries** `player_id_by_name` and `player_movement_by_id` to create a **new dictionary** that maps each player's `Name` to their `Movement` stats.\n",
    "\n",
    "Key-value pairs within this **dict** should look like this:\n",
    "\n",
    "```python\n",
    "{\n",
    "    'E. Haaland': 83.6,\n",
    "    'K. Mbappé': 92.4,\n",
    "    'K. De Bruyne': 78.8,\n",
    "    'H. Kane': 74.0,\n",
    "    'T. Courtois': 58.0,\n",
    "    ...\n",
    "}\n",
    "```\n",
    "\n",
    "Managing multiple dictionaries can get confusing because you have to think about multiple types of key/value pairs at once. Remember that you can always see the values of all your global variables in the debugging window. You can also add print statements or use the debugger to step through your code."
   ]
  },
  {
   "cell_type": "markdown",
   "id": "10c3a9af-fb1d-4cd9-9140-08454da23445",
   "metadata": {
    "deletable": false,
    "editable": false
   },
   "source": [
    "Points possible: 5.0"
   ]
  },
  {
   "cell_type": "code",
   "execution_count": 51,
   "id": "339bfc32",
   "metadata": {
    "deletable": false,
    "editable": true,
    "tags": [
     "q17-code"
    ]
   },
   "outputs": [
    {
     "data": {
      "text/plain": [
       "{'E. Haaland': 83.6,\n",
       " 'K. Mbappé': 92.4,\n",
       " 'K. De Bruyne': 78.8,\n",
       " 'H. Kane': 74.0,\n",
       " 'T. Courtois': 58.0,\n",
       " 'R. Lewandowski': 80.8,\n",
       " 'L. Messi': 87.0,\n",
       " 'S. Smith': 88.8,\n",
       " 'Rúben Dias': 65.6,\n",
       " 'Vini Jr.': 90.8,\n",
       " 'Rodri': 68.4,\n",
       " 'Alisson': 54.6,\n",
       " 'M. Salah': 90.2,\n",
       " 'V. van Dijk': 70.0,\n",
       " 'M. ter Stegen': 52.4,\n",
       " 'Neymar Jr': 87.4,\n",
       " 'K. Benzema': 78.4,\n",
       " 'J. Bellingham': 82.2,\n",
       " 'F. Valverde': 81.8,\n",
       " 'L. Martínez': 85.4,\n",
       " 'Bernardo Silva': 84.4,\n",
       " 'Ederson': 64.6,\n",
       " 'J. Oblak': 58.4,\n",
       " 'A. Griezmann': 84.8,\n",
       " 'P. Lahm': 80.2,\n",
       " 'F. Wirtz': 84.0,\n",
       " 'G. Kobel': 48.2,\n",
       " 'V. Osimhen': 82.8,\n",
       " 'G. Donnarumma': 57.6,\n",
       " 'F. de Jong': 83.4,\n",
       " 'M. Ødegaard': 79.2,\n",
       " 'M. Maignan': 57.0,\n",
       " 'J. Kimmich': 79.4,\n",
       " 'Bruno Fernandes': 76.8,\n",
       " 'Marquinhos': 75.8,\n",
       " 'Casemiro': 64.8,\n",
       " 'H. Son': 83.6,\n",
       " 'De Gea': 56.4,\n",
       " 'L. Modrić': 82.8,\n",
       " 'M. Neuer': 53.6,\n",
       " 'S. Agüero': 80.8,\n",
       " 'S. Bacha': 86.6,\n",
       " 'J. Musiala': 88.0,\n",
       " 'R. Araujo': 71.4,\n",
       " 'Pedri': 84.4,\n",
       " 'K. Kvaratskhelia': 83.4,\n",
       " 'B. Saka': 85.4,\n",
       " 'Rafael Leão': 87.4,\n",
       " 'S. Tonali': 82.8,\n",
       " 'Éder Militão': 77.4}"
      ]
     },
     "execution_count": 51,
     "metadata": {},
     "output_type": "execute_result"
    }
   ],
   "source": [
    "movement_stat_by_name = {}\n",
    "\n",
    "for player_name in player_id_by_name:\n",
    "    player_id = player_id_by_name[player_name]  # Get the player's ID from player_id_by_name\n",
    "    player_movement = player_movement_by_id[player_id]  # Get the player's Movement stat from player_movement_by_id\n",
    "    movement_stat_by_name[player_name] = player_movement  # Map the player's name to their Movement stat\n",
    "\n",
    "movement_stat_by_name\n"
   ]
  },
  {
   "cell_type": "code",
   "execution_count": 52,
   "id": "6a5d3087-798e-4ed7-9d4e-71e7944ae354",
   "metadata": {
    "deletable": false,
    "editable": true,
    "slideshow": {
     "slide_type": ""
    },
    "tags": []
   },
   "outputs": [
    {
     "name": "stdout",
     "output_type": "stream",
     "text": [
      "Make sure you saved the notebook before running this cell. Running check for q17...\n",
      "Great job! You passed all test cases for this question.\n"
     ]
    }
   ],
   "source": [
    "student_grader_with_feedback.check(\"q17\", should_get_llm_feedback=False)"
   ]
  },
  {
   "cell_type": "markdown",
   "id": "b459f3b2",
   "metadata": {
    "deletable": false,
    "editable": false
   },
   "source": [
    "#### Project Question 18"
   ]
  },
  {
   "cell_type": "markdown",
   "id": "82e4dc9e",
   "metadata": {
    "deletable": false,
    "editable": false
   },
   "source": [
    "Use the data in the **dictionaries** `player_id_by_name` and `attacking_stat_by_id` to create a **new dictionary** that maps each player's `Name` to their `Attacking` stat.\n",
    "\n",
    "Key-value pairs within this **dict** should look like this:\n",
    "\n",
    "```python\n",
    "{\n",
    "    'E. Haaland': 78.6,\n",
    "    'K. Mbappé': 83.0,\n",
    "    'K. De Bruyne': 82.4,\n",
    "    'H. Kane': 88.0,\n",
    "    'T. Courtois': 17.2,\n",
    "    ...\n",
    "}\n",
    "```"
   ]
  },
  {
   "cell_type": "markdown",
   "id": "5854170c-290d-4d25-b6c1-55f4c6dfd5ad",
   "metadata": {
    "deletable": false,
    "editable": false
   },
   "source": [
    "Points possible: 5.0"
   ]
  },
  {
   "cell_type": "code",
   "execution_count": 53,
   "id": "dc179ef0",
   "metadata": {
    "deletable": false,
    "editable": true,
    "tags": [
     "q18-code"
    ]
   },
   "outputs": [
    {
     "data": {
      "text/plain": [
       "{'E. Haaland': 78.6,\n",
       " 'K. Mbappé': 83.0,\n",
       " 'K. De Bruyne': 82.4,\n",
       " 'H. Kane': 88.0,\n",
       " 'T. Courtois': 17.2,\n",
       " 'R. Lewandowski': 86.6,\n",
       " 'L. Messi': 81.8,\n",
       " 'S. Smith': 82.6,\n",
       " 'Rúben Dias': 57.0,\n",
       " 'Vini Jr.': 73.8,\n",
       " 'Rodri': 74.0,\n",
       " 'Alisson': 27.8,\n",
       " 'M. Salah': 79.8,\n",
       " 'V. van Dijk': 63.0,\n",
       " 'M. ter Stegen': 23.6,\n",
       " 'Neymar Jr': 80.0,\n",
       " 'K. Benzema': 86.6,\n",
       " 'J. Bellingham': 77.0,\n",
       " 'F. Valverde': 74.4,\n",
       " 'L. Martínez': 80.6,\n",
       " 'Bernardo Silva': 77.0,\n",
       " 'Ederson': 26.2,\n",
       " 'J. Oblak': 19.0,\n",
       " 'A. Griezmann': 86.4,\n",
       " 'P. Lahm': 69.2,\n",
       " 'F. Wirtz': 73.2,\n",
       " 'G. Kobel': 17.0,\n",
       " 'V. Osimhen': 78.2,\n",
       " 'G. Donnarumma': 16.0,\n",
       " 'F. de Jong': 76.6,\n",
       " 'M. Ødegaard': 78.2,\n",
       " 'M. Maignan': 26.2,\n",
       " 'J. Kimmich': 77.6,\n",
       " 'Bruno Fernandes': 80.4,\n",
       " 'Marquinhos': 66.8,\n",
       " 'Casemiro': 74.4,\n",
       " 'H. Son': 81.2,\n",
       " 'De Gea': 20.6,\n",
       " 'L. Modrić': 76.0,\n",
       " 'M. Neuer': 24.8,\n",
       " 'S. Agüero': 81.2,\n",
       " 'S. Bacha': 70.2,\n",
       " 'J. Musiala': 69.4,\n",
       " 'R. Araujo': 62.6,\n",
       " 'Pedri': 66.8,\n",
       " 'K. Kvaratskhelia': 73.6,\n",
       " 'B. Saka': 74.6,\n",
       " 'Rafael Leão': 75.8,\n",
       " 'S. Tonali': 74.0,\n",
       " 'Éder Militão': 63.2}"
      ]
     },
     "execution_count": 53,
     "metadata": {},
     "output_type": "execute_result"
    }
   ],
   "source": [
    "attacking_stat_by_name = {}\n",
    "\n",
    "for player_name in player_id_by_name:\n",
    "    player_id = player_id_by_name[player_name]  # Get the player's ID from player_id_by_name\n",
    "    player_attacking = player_dict_by_id[player_id]['Attacking']  # Get the player's Attacking stat from player_dict_by_id\n",
    "    attacking_stat_by_name[player_name] = player_attacking  # Map the player's name to their Attacking stat\n",
    "\n",
    "attacking_stat_by_name\n"
   ]
  },
  {
   "cell_type": "code",
   "execution_count": 54,
   "id": "e959f17f-3dfd-4dc0-ac35-3e64f28bac35",
   "metadata": {
    "deletable": false,
    "editable": true,
    "slideshow": {
     "slide_type": ""
    },
    "tags": []
   },
   "outputs": [
    {
     "name": "stdout",
     "output_type": "stream",
     "text": [
      "Make sure you saved the notebook before running this cell. Running check for q18...\n",
      "Great job! You passed all test cases for this question.\n"
     ]
    }
   ],
   "source": [
    "student_grader_with_feedback.check(\"q18\", should_get_llm_feedback=False)"
   ]
  },
  {
   "cell_type": "markdown",
   "id": "81c09c67",
   "metadata": {
    "deletable": false,
    "editable": false
   },
   "source": [
    "#### Project Question 19"
   ]
  },
  {
   "cell_type": "markdown",
   "id": "4e4b21be",
   "metadata": {
    "deletable": false,
    "editable": false,
    "slideshow": {
     "slide_type": ""
    },
    "tags": []
   },
   "source": [
    "Use the data in the **dictionaries** `movement_stat_by_name` and `attacking_stat_by_name` to create a **dictionary** that maps each player's `Name` to the **sum** of their `Movement` and `Attacking` stats.\n",
    "\n",
    "Key-value pairs within this **dict** should look like these:\n",
    "\n",
    "```python\n",
    "{\n",
    "    'E. Haaland': 162.2,\n",
    "    'K. Mbappé': 175.4,\n",
    "    'K. De Bruyne': 161.2,\n",
    "    'H. Kane': 162.0,\n",
    "    'T. Courtois': 75.2,\n",
    "    ...\n",
    "}\n",
    "```"
   ]
  },
  {
   "cell_type": "markdown",
   "id": "e66de885-fe5a-4507-b5ff-91dfdd4f3ab1",
   "metadata": {
    "deletable": false,
    "editable": false
   },
   "source": [
    "Points possible: 5.0"
   ]
  },
  {
   "cell_type": "code",
   "execution_count": 55,
   "id": "391674be",
   "metadata": {
    "deletable": false,
    "editable": true,
    "tags": [
     "q19-code"
    ]
   },
   "outputs": [
    {
     "data": {
      "text/plain": [
       "{'E. Haaland': 162.2,\n",
       " 'K. Mbappé': 175.4,\n",
       " 'K. De Bruyne': 161.2,\n",
       " 'H. Kane': 162.0,\n",
       " 'T. Courtois': 75.2,\n",
       " 'R. Lewandowski': 167.39999999999998,\n",
       " 'L. Messi': 168.8,\n",
       " 'S. Smith': 171.39999999999998,\n",
       " 'Rúben Dias': 122.6,\n",
       " 'Vini Jr.': 164.6,\n",
       " 'Rodri': 142.4,\n",
       " 'Alisson': 82.4,\n",
       " 'M. Salah': 170.0,\n",
       " 'V. van Dijk': 133.0,\n",
       " 'M. ter Stegen': 76.0,\n",
       " 'Neymar Jr': 167.4,\n",
       " 'K. Benzema': 165.0,\n",
       " 'J. Bellingham': 159.2,\n",
       " 'F. Valverde': 156.2,\n",
       " 'L. Martínez': 166.0,\n",
       " 'Bernardo Silva': 161.4,\n",
       " 'Ederson': 90.8,\n",
       " 'J. Oblak': 77.4,\n",
       " 'A. Griezmann': 171.2,\n",
       " 'P. Lahm': 149.4,\n",
       " 'F. Wirtz': 157.2,\n",
       " 'G. Kobel': 65.2,\n",
       " 'V. Osimhen': 161.0,\n",
       " 'G. Donnarumma': 73.6,\n",
       " 'F. de Jong': 160.0,\n",
       " 'M. Ødegaard': 157.4,\n",
       " 'M. Maignan': 83.2,\n",
       " 'J. Kimmich': 157.0,\n",
       " 'Bruno Fernandes': 157.2,\n",
       " 'Marquinhos': 142.6,\n",
       " 'Casemiro': 139.2,\n",
       " 'H. Son': 164.8,\n",
       " 'De Gea': 77.0,\n",
       " 'L. Modrić': 158.8,\n",
       " 'M. Neuer': 78.4,\n",
       " 'S. Agüero': 162.0,\n",
       " 'S. Bacha': 156.8,\n",
       " 'J. Musiala': 157.4,\n",
       " 'R. Araujo': 134.0,\n",
       " 'Pedri': 151.2,\n",
       " 'K. Kvaratskhelia': 157.0,\n",
       " 'B. Saka': 160.0,\n",
       " 'Rafael Leão': 163.2,\n",
       " 'S. Tonali': 156.8,\n",
       " 'Éder Militão': 140.60000000000002}"
      ]
     },
     "execution_count": 55,
     "metadata": {},
     "output_type": "execute_result"
    }
   ],
   "source": [
    "sum_stats_by_name = {}\n",
    "\n",
    "for player_name in movement_stat_by_name:\n",
    "    movement_stat = movement_stat_by_name[player_name]  # Get the Movement stat\n",
    "    attacking_stat = attacking_stat_by_name[player_name]  # Get the Attacking stat\n",
    "    sum_stats_by_name[player_name] = movement_stat + attacking_stat  # Sum of Movement and Attacking stats\n",
    "\n",
    "sum_stats_by_name\n"
   ]
  },
  {
   "cell_type": "code",
   "execution_count": 56,
   "id": "9db81acc-fff4-43a6-acda-f44a2416d951",
   "metadata": {
    "deletable": false,
    "editable": true,
    "slideshow": {
     "slide_type": ""
    },
    "tags": []
   },
   "outputs": [
    {
     "name": "stdout",
     "output_type": "stream",
     "text": [
      "Make sure you saved the notebook before running this cell. Running check for q19...\n",
      "Great job! You passed all test cases for this question.\n"
     ]
    }
   ],
   "source": [
    "student_grader_with_feedback.check(\"q19\", should_get_llm_feedback=False)"
   ]
  },
  {
   "cell_type": "markdown",
   "id": "1bd5479c",
   "metadata": {
    "deletable": false,
    "editable": false
   },
   "source": [
    "#### Project Question 20"
   ]
  },
  {
   "cell_type": "markdown",
   "id": "b1fd0545",
   "metadata": {
    "deletable": false,
    "editable": false,
    "slideshow": {
     "slide_type": ""
    },
    "tags": []
   },
   "source": [
    "Use the data in the **dictionaries** `count_by_nationality` and `attacking_total_by_nationality` to create a **dictionary** that maps each `Nationality` in the dataset to the **average** `Attacking` stat for players of that `Nationality`.\n",
    "\n",
    "Key-value pairs within this **dict** should look like these:\n",
    "\n",
    "```python\n",
    "{\n",
    "    'Norway': 78.4,\n",
    "    'France': 70.48,\n",
    "    'Belgium': 49.8,\n",
    "    'England': 79.86666666666666,\n",
    "    'Poland': 86.6,\n",
    "    ...\n",
    "}\n",
    "```"
   ]
  },
  {
   "cell_type": "markdown",
   "id": "9082501f-2714-444b-a9cf-bbfc48850d1e",
   "metadata": {
    "deletable": false,
    "editable": false
   },
   "source": [
    "Points possible: 5.0"
   ]
  },
  {
   "cell_type": "code",
   "execution_count": 57,
   "id": "b2c4ac13",
   "metadata": {
    "deletable": false,
    "editable": true,
    "scrolled": true,
    "tags": [
     "q20-code"
    ]
   },
   "outputs": [
    {
     "data": {
      "text/plain": [
       "{'Norway': 78.4,\n",
       " 'France': 70.47999999999999,\n",
       " 'Belgium': 49.800000000000004,\n",
       " 'England': 79.86666666666666,\n",
       " 'Poland': 86.6,\n",
       " 'Argentina': 81.19999999999999,\n",
       " 'United States': 82.6,\n",
       " 'Portugal': 72.55,\n",
       " 'Brazil': 58.885714285714286,\n",
       " 'Spain': 53.79999999999999,\n",
       " 'Egypt': 79.8,\n",
       " 'Netherlands': 69.8,\n",
       " 'Germany': 56.29999999999999,\n",
       " 'Uruguay': 68.5,\n",
       " 'Slovenia': 19.0,\n",
       " 'Switzerland': 17.0,\n",
       " 'Nigeria': 78.2,\n",
       " 'Italy': 45.0,\n",
       " 'Korea Republic': 81.2,\n",
       " 'Croatia': 76.0,\n",
       " 'Georgia': 73.6}"
      ]
     },
     "execution_count": 57,
     "metadata": {},
     "output_type": "execute_result"
    }
   ],
   "source": [
    "avg_attacking_by_nationality = {}\n",
    "\n",
    "for nationality in attacking_total_by_nationality:\n",
    "    total_attacking = attacking_total_by_nationality[nationality]  # Total Attacking stat for this nationality\n",
    "    player_count = count_by_nationality[nationality]  # Number of players from this nationality\n",
    "    avg_attacking_by_nationality[nationality] = total_attacking / player_count  # Calculate the average\n",
    "\n",
    "avg_attacking_by_nationality\n"
   ]
  },
  {
   "cell_type": "code",
   "execution_count": 58,
   "id": "657c785e-08b7-486b-a1fe-409f1ee55901",
   "metadata": {
    "deletable": false,
    "editable": true,
    "slideshow": {
     "slide_type": ""
    },
    "tags": []
   },
   "outputs": [
    {
     "name": "stdout",
     "output_type": "stream",
     "text": [
      "Make sure you saved the notebook before running this cell. Running check for q20...\n",
      "Great job! You passed all test cases for this question.\n"
     ]
    }
   ],
   "source": [
    "student_grader_with_feedback.check(\"q20\", should_get_llm_feedback=False)"
   ]
  },
  {
   "cell_type": "markdown",
   "id": "1a02f00e",
   "metadata": {
    "deletable": false,
    "editable": false
   },
   "source": [
    "#### Project Question 21"
   ]
  },
  {
   "cell_type": "markdown",
   "id": "baf148ac",
   "metadata": {
    "deletable": false,
    "editable": false
   },
   "source": [
    "Which `Nationality` has the players with the **highest** **average** `Attacking` stat?\n",
    "\n",
    "To answer this question, you should loop over the nations in `avg_attacking_by_nationality` and if the current nation has a higher average attacking stat than the current highest attacking stat (or if the value of `highest_avg_nation` is `None`), then you should update the `highest_avg_nation` variable."
   ]
  },
  {
   "cell_type": "markdown",
   "id": "8c98dff8-f824-4875-a53b-7f0dd460f44d",
   "metadata": {
    "deletable": false,
    "editable": false
   },
   "source": [
    "Points possible: 5.0"
   ]
  },
  {
   "cell_type": "code",
   "execution_count": 59,
   "id": "96068c1d",
   "metadata": {
    "deletable": false,
    "editable": true,
    "tags": [
     "q21-code"
    ]
   },
   "outputs": [
    {
     "data": {
      "text/plain": [
       "'Poland'"
      ]
     },
     "execution_count": 59,
     "metadata": {},
     "output_type": "execute_result"
    }
   ],
   "source": [
    "highest_avg_nation = None\n",
    "highest_avg_stat = -float('inf')  # Initialize to negative infinity to ensure any stat will be higher\n",
    "\n",
    "for nationality in avg_attacking_by_nationality:\n",
    "    avg_attacking_stat = avg_attacking_by_nationality[nationality]  # Get the average attacking stat for the nationality\n",
    "    if highest_avg_nation is None or avg_attacking_stat > highest_avg_stat:\n",
    "        highest_avg_nation = nationality  # Update to the nationality with the highest average\n",
    "        highest_avg_stat = avg_attacking_stat  # Update the highest attacking stat\n",
    "\n",
    "highest_avg_nation\n"
   ]
  },
  {
   "cell_type": "code",
   "execution_count": 60,
   "id": "bb322de2-1009-4015-8454-98e8ed9c9f9f",
   "metadata": {
    "deletable": false,
    "editable": true,
    "slideshow": {
     "slide_type": ""
    },
    "tags": []
   },
   "outputs": [
    {
     "name": "stdout",
     "output_type": "stream",
     "text": [
      "Make sure you saved the notebook before running this cell. Running check for q21...\n",
      "Great job! You passed all test cases for this question.\n"
     ]
    }
   ],
   "source": [
    "student_grader_with_feedback.check(\"q21\", should_get_llm_feedback=False)"
   ]
  },
  {
   "cell_type": "markdown",
   "id": "282f582a",
   "metadata": {
    "deletable": false,
    "editable": false
   },
   "source": [
    "#### Project Question 22"
   ]
  },
  {
   "cell_type": "markdown",
   "id": "5bfc3ac8",
   "metadata": {
    "deletable": false,
    "editable": false
   },
   "source": [
    "What is the `Name` of the player with the **highest** `Attacking` stat?\n",
    "\n",
    "You **must** find the **key** (i.e., `Name`) with the **highest** **value** (i.e., `Attacking` stat) in the **dict** `attacking_stat_by_name`."
   ]
  },
  {
   "cell_type": "markdown",
   "id": "abf27dde-774e-4cad-a696-0dad7135520b",
   "metadata": {
    "deletable": false,
    "editable": false
   },
   "source": [
    "Points possible: 5.0"
   ]
  },
  {
   "cell_type": "code",
   "execution_count": 61,
   "id": "09aa8e71",
   "metadata": {
    "deletable": false,
    "editable": true,
    "tags": [
     "q22-code"
    ]
   },
   "outputs": [
    {
     "data": {
      "text/plain": [
       "'H. Kane'"
      ]
     },
     "execution_count": 61,
     "metadata": {},
     "output_type": "execute_result"
    }
   ],
   "source": [
    "best_attacker = None\n",
    "highest_attacking_stat = -float('inf')  # Initialize to negative infinity\n",
    "\n",
    "for player_name in attacking_stat_by_name:\n",
    "    attacking_stat = attacking_stat_by_name[player_name]  # Get the Attacking stat for the player\n",
    "    if best_attacker is None or attacking_stat > highest_attacking_stat:\n",
    "        best_attacker = player_name  # Update to the player with the highest attacking stat\n",
    "        highest_attacking_stat = attacking_stat  # Update the highest attacking stat\n",
    "\n",
    "best_attacker\n"
   ]
  },
  {
   "cell_type": "code",
   "execution_count": 62,
   "id": "79f82eeb-f51a-46dd-9b7b-2d9841f59e04",
   "metadata": {
    "deletable": false,
    "editable": true,
    "slideshow": {
     "slide_type": ""
    },
    "tags": []
   },
   "outputs": [
    {
     "name": "stdout",
     "output_type": "stream",
     "text": [
      "Make sure you saved the notebook before running this cell. Running check for q22...\n",
      "Great job! You passed all test cases for this question.\n"
     ]
    }
   ],
   "source": [
    "student_grader_with_feedback.check(\"q22\", should_get_llm_feedback=False)"
   ]
  },
  {
   "cell_type": "markdown",
   "id": "da915451",
   "metadata": {
    "deletable": false,
    "editable": false
   },
   "source": [
    "#### Project Question 23"
   ]
  },
  {
   "cell_type": "markdown",
   "id": "41a511ab",
   "metadata": {
    "deletable": false,
    "editable": false
   },
   "source": [
    "What is the `Name` of the player with the **least** sum of `Movement` and `Attacking` stats?\n",
    "\n",
    "**Hint**: Use the `sum_stats_by_name` dict."
   ]
  },
  {
   "cell_type": "markdown",
   "id": "9dba4109-a091-44bf-b552-f554f506ab41",
   "metadata": {
    "deletable": false,
    "editable": false
   },
   "source": [
    "Points possible: 5.0"
   ]
  },
  {
   "cell_type": "code",
   "execution_count": 63,
   "id": "f4306237",
   "metadata": {
    "deletable": false,
    "editable": true,
    "tags": [
     "q23-code"
    ]
   },
   "outputs": [
    {
     "data": {
      "text/plain": [
       "'G. Kobel'"
      ]
     },
     "execution_count": 63,
     "metadata": {},
     "output_type": "execute_result"
    }
   ],
   "source": [
    "worst_attacker = None\n",
    "lowest_sum_stat = float('inf')  # Initialize to positive infinity\n",
    "\n",
    "for player_name in sum_stats_by_name:\n",
    "    sum_stat = sum_stats_by_name[player_name]  # Get the sum of Movement and Attacking stats for the player\n",
    "    if worst_attacker is None or sum_stat < lowest_sum_stat:\n",
    "        worst_attacker = player_name  # Update to the player with the lowest sum\n",
    "        lowest_sum_stat = sum_stat  # Update the lowest sum stat\n",
    "\n",
    "worst_attacker\n"
   ]
  },
  {
   "cell_type": "code",
   "execution_count": 121,
   "id": "8d142c9f-177d-4b7f-843c-3de9d39726a8",
   "metadata": {
    "deletable": false,
    "editable": true,
    "slideshow": {
     "slide_type": ""
    },
    "tags": []
   },
   "outputs": [],
   "source": [
    "student_grader_with_feedback.check(\"q23\", should_get_llm_feedback=False)"
   ]
  },
  {
   "cell_type": "markdown",
   "id": "d6213ee4-3ea0-40d9-9487-b36fe774d401",
   "metadata": {
    "deletable": false,
    "editable": false,
    "slideshow": {
     "slide_type": ""
    },
    "tags": []
   },
   "source": [
    "## Submission"
   ]
  },
  {
   "cell_type": "markdown",
   "id": "0c3bcf5e-1ccf-4e11-8dce-28b0f8d0dd2b",
   "metadata": {
    "deletable": false,
    "editable": false,
    "slideshow": {
     "slide_type": ""
    },
    "tags": []
   },
   "source": [
    "Make sure you have run all cells in your notebook in order before submitting on Gradescope. Your notebook should not contain any uncaught Exceptions, otherwise the Gradescope autograder will not give you any points."
   ]
  }
 ],
 "metadata": {
  "kernelspec": {
   "display_name": "Python 3 (ipykernel)",
   "language": "python",
   "name": "python3"
  },
  "language_info": {
   "codemirror_mode": {
    "name": "ipython",
    "version": 3
   },
   "file_extension": ".py",
   "mimetype": "text/x-python",
   "name": "python",
   "nbconvert_exporter": "python",
   "pygments_lexer": "ipython3",
   "version": "3.10.12"
  },
  "semester": "f24"
 },
 "nbformat": 4,
 "nbformat_minor": 5
}
