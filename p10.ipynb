{
 "cells": [
  {
   "cell_type": "markdown",
   "id": "25950726",
   "metadata": {
    "deletable": false,
    "editable": false,
    "slideshow": {
     "slide_type": ""
    },
    "tags": []
   },
   "source": [
    "# Project 10: Stars and Planets"
   ]
  },
  {
   "cell_type": "markdown",
   "id": "b06db0d7",
   "metadata": {
    "deletable": false,
    "editable": false,
    "slideshow": {
     "slide_type": ""
    },
    "tags": []
   },
   "source": [
    "## Your Information"
   ]
  },
  {
   "cell_type": "markdown",
   "id": "6714b494-d802-481c-8767-1b94970f580f",
   "metadata": {
    "deletable": false,
    "editable": false,
    "slideshow": {
     "slide_type": ""
    },
    "tags": []
   },
   "source": [
    "At the start of each assignment, you will need to provide us your name and the name of the partner you worked with for this assignment (if you had one). Double click on the cell below or click once and hit enter to edit it. Replace \"First Last\" with your first name and last name. Replace \"None\" with the first and last name of your partner if you had one for this assignment. We ask for this information so we don't accuse you of cheating when your code looks like your partner's.\n",
    "\n",
    "Please keep these lines commented so they don't cause an error."
   ]
  },
  {
   "cell_type": "code",
   "execution_count": 1,
   "id": "7a0e0430-31c1-4e4c-9388-cae3d907fb5a",
   "metadata": {
    "deletable": false,
    "editable": true,
    "slideshow": {
     "slide_type": ""
    },
    "tags": []
   },
   "outputs": [],
   "source": [
    "# MY NAME: Hyokyung Kim\n",
    "\n",
    "# My PARTNER'S NAME: None"
   ]
  },
  {
   "cell_type": "markdown",
   "id": "cd1876ac",
   "metadata": {
    "deletable": false,
    "editable": false,
    "slideshow": {
     "slide_type": ""
    },
    "tags": []
   },
   "source": [
    "## Imports"
   ]
  },
  {
   "cell_type": "markdown",
   "id": "b475ff95",
   "metadata": {
    "deletable": false,
    "editable": false,
    "slideshow": {
     "slide_type": ""
    },
    "tags": []
   },
   "source": [
    "Every project will begin with some import statements. It's crucial that you run the cell below, otherwise we will not be able to grade your code and provide feedback to you."
   ]
  },
  {
   "cell_type": "code",
   "execution_count": 2,
   "id": "937ecaa5",
   "metadata": {
    "deletable": false,
    "editable": true,
    "slideshow": {
     "slide_type": ""
    },
    "tags": []
   },
   "outputs": [
    {
     "ename": "ModuleNotFoundError",
     "evalue": "No module named 'student_grader'",
     "output_type": "error",
     "traceback": [
      "\u001b[0;31m---------------------------------------------------------------------------\u001b[0m",
      "\u001b[0;31mModuleNotFoundError\u001b[0m                       Traceback (most recent call last)",
      "\u001b[0;32m/var/folders/58/_9ghq41j3jbbf7plj48rgt1c0000gn/T/ipykernel_8356/3467746690.py\u001b[0m in \u001b[0;36m<module>\u001b[0;34m\u001b[0m\n\u001b[1;32m      4\u001b[0m \u001b[0;32mimport\u001b[0m \u001b[0mjson\u001b[0m\u001b[0;34m\u001b[0m\u001b[0;34m\u001b[0m\u001b[0m\n\u001b[1;32m      5\u001b[0m \u001b[0;32mfrom\u001b[0m \u001b[0mcollections\u001b[0m \u001b[0;32mimport\u001b[0m \u001b[0mnamedtuple\u001b[0m\u001b[0;34m\u001b[0m\u001b[0;34m\u001b[0m\u001b[0m\n\u001b[0;32m----> 6\u001b[0;31m \u001b[0;32mimport\u001b[0m \u001b[0mstudent_grader\u001b[0m\u001b[0;34m\u001b[0m\u001b[0;34m\u001b[0m\u001b[0m\n\u001b[0m\u001b[1;32m      7\u001b[0m \u001b[0mstudent_grader\u001b[0m\u001b[0;34m.\u001b[0m\u001b[0minitialize\u001b[0m\u001b[0;34m(\u001b[0m\u001b[0mos\u001b[0m\u001b[0;34m.\u001b[0m\u001b[0mgetcwd\u001b[0m\u001b[0;34m(\u001b[0m\u001b[0;34m)\u001b[0m\u001b[0;34m,\u001b[0m \u001b[0;34m\"p10\"\u001b[0m\u001b[0;34m)\u001b[0m\u001b[0;34m\u001b[0m\u001b[0;34m\u001b[0m\u001b[0m\n",
      "\u001b[0;31mModuleNotFoundError\u001b[0m: No module named 'student_grader'"
     ]
    }
   ],
   "source": [
    "# it is considered a good coding practice to place all import statements at the top of the notebook\n",
    "import csv\n",
    "import os\n",
    "import json\n",
    "from collections import namedtuple\n",
    "import student_grader\n",
    "student_grader.initialize(os.getcwd(), \"p10\")"
   ]
  },
  {
   "cell_type": "markdown",
   "id": "aa3afe8e-6deb-463d-ac29-e548776859c7",
   "metadata": {
    "deletable": false,
    "editable": false
   },
   "source": [
    "## Changes to Feedback Server and Privacy/User Agreement"
   ]
  },
  {
   "cell_type": "markdown",
   "id": "34535d6e-b077-4c2e-a851-4989af184206",
   "metadata": {
    "deletable": false,
    "editable": false
   },
   "source": [
    "By using our feedback server, you are consenting to the transmission of your netid and password to authenticate your identity. We assure you that we will not store this information. This process is necessary for accessing feedback from our LLM system and is conducted in compliance with FERPA regulations.\n",
    "\n",
    "We will make every effort to keep the feedback server operational for the remainder of the semester.\n",
    "\n",
    "To receive assistance from our LLM feedback system, you will need to provide your netid and password the first time you run a grader check cell with `should_get_llm_feedback=True`. Your credentials will be sent securely to our feedback server solely for authentication purposes. Upon successful authentication, you will receive a token that allows you to receive feedback without logging in again. This token will expire in 5 hours, after which you will need to log in again to continue using the feedback service.\n",
    "\n",
    "If you have any questions or concerns about data privacy and security, please make a post on Piazza."
   ]
  },
  {
   "cell_type": "markdown",
   "id": "c52a2373",
   "metadata": {
    "deletable": false,
    "editable": false,
    "slideshow": {
     "slide_type": ""
    },
    "tags": []
   },
   "source": [
    "## Learning Objectives"
   ]
  },
  {
   "cell_type": "markdown",
   "id": "50e8db61",
   "metadata": {
    "deletable": false,
    "editable": false,
    "slideshow": {
     "slide_type": ""
    },
    "tags": []
   },
   "source": [
    "In this project, you will demonstrate how to:\n",
    "\n",
    "* use `os` module to get information of files in a directory,\n",
    "* use `os` module to get paths of files,\n",
    "* look up data between JSON and CSV files using unique keys,\n",
    "* read JSON and CSV files to store data to `namedTuple` objects,\n",
    "* clean up missing values and handle cases when the file is too corrupt to parse,"
   ]
  },
  {
   "cell_type": "markdown",
   "id": "27481308-e8b5-4afe-9daf-21a1201b03a6",
   "metadata": {
    "deletable": false,
    "editable": false
   },
   "source": [
    "<h2 style=\"color:red\">Warning (Note on Academic Misconduct):</h2>"
   ]
  },
  {
   "cell_type": "markdown",
   "id": "80b120bf",
   "metadata": {
    "deletable": false,
    "editable": false,
    "slideshow": {
     "slide_type": ""
    },
    "tags": []
   },
   "source": [
    "**IMPORTANT**: **P10 and P11 are two parts of the same data analysis.** You **cannot** switch project partners between these two projects. That is if you partner up with someone for P10, you have to sustain that partnership until the end of P11. Be careful not to work with more than one partner. If you work with a partner on the lab portion, you are **not** allowed to finish your project with a different partner. You may either continue to work with the same partner, or work on P10 and P11 alone. Now may be a good time to review [our course policies](https://cs220.cs.wisc.edu/f24/syllabus.html).\n",
    "\n",
    "Under any circumstances, **no more than two students are allowed to work together on a project** as mentioned in the course policies. If your code is flagged by our code similarity detection tools, **both partners will be responsible** for sharing/copying the code, even if the code is shared/copied by one of the partners with/from other non-partner student(s). Note that each case of plagiarism will be reported to the Dean of Students with a zero grade on the project. **If you think that someone cannot be your project partner then don’t make that student your lab partner.**\n",
    "\n",
    "Note that this assignment is longer than previous ones and will take more time to complete."
   ]
  },
  {
   "cell_type": "markdown",
   "id": "755216b9-96a7-447f-b28d-71d3c4405023",
   "metadata": {
    "deletable": false,
    "editable": false
   },
   "source": [
    "## Setup:"
   ]
  },
  {
   "cell_type": "markdown",
   "id": "84dfe105",
   "metadata": {
    "deletable": false,
    "editable": false,
    "slideshow": {
     "slide_type": ""
    },
    "tags": []
   },
   "source": [
    "**Warning:** You need to make sure that the project files are stored in the following structure:\n",
    "\n",
    "```\n",
    "+-- p10.ipynb\n",
    "+-- ... (other files)\n",
    "+-- small_data\n",
    "|   +-- mapping_1.json\n",
    "|   +-- mapping_2.json\n",
    "|   +-- mapping_3.json\n",
    "|   +-- planets_1.csv\n",
    "|   +-- planets_2.csv\n",
    "|   +-- planets_3.csv\n",
    "|   +-- stars_1.csv\n",
    "|   +-- stars_2.csv\n",
    "|   +-- stars_3.csv\n",
    "```"
   ]
  },
  {
   "cell_type": "markdown",
   "id": "68f17b2e-5c67-4e9c-a0da-3b235fb54a22",
   "metadata": {
    "deletable": false,
    "editable": false
   },
   "source": [
    "## Introduction to Data"
   ]
  },
  {
   "cell_type": "markdown",
   "id": "b55f00fb-af2c-49de-a8e1-a59015bee384",
   "metadata": {
    "deletable": false,
    "editable": false
   },
   "source": [
    "### Background:"
   ]
  },
  {
   "cell_type": "markdown",
   "id": "d86013e6-b3d3-42b1-a3ce-50275d7f5c78",
   "metadata": {
    "deletable": false,
    "editable": false
   },
   "source": [
    "In P10 and P11, we will be studying stars and planets outside our Solar System using this dataset from the [NASA Exoplanet Archive](https://exoplanetarchive.ipac.caltech.edu/cgi-bin/TblView/nph-tblView?app=ExoTbls&config=PSCompPars). We will use Python to ask some interesting questions about the laws of the universe and explore the habitability of other planets in our universe.\n",
    "\n",
    "In the lab portion, you will work with a small subset of the full dataset. You can find these files inside the `small_data` directory. The full dataset used in P10 and P11 is stored in the same format, so you can then use this code to parse the dataset in P10 and P11."
   ]
  },
  {
   "cell_type": "markdown",
   "id": "48261372-60b0-4964-91ee-fa13763cdebc",
   "metadata": {
    "deletable": false,
    "editable": false
   },
   "source": [
    "### Stars:"
   ]
  },
  {
   "cell_type": "markdown",
   "id": "5ac514f7-d660-4b7c-8196-818db0e90fbf",
   "metadata": {
    "deletable": false,
    "editable": false
   },
   "source": [
    "You can open each of the files inside the `small_data` directory using the file viewer in Jupyter lab (or Microsoft Excel or some other Spreadsheet viewing software) to see how the data is stored. For example, these are the contents of the file `stars_1.csv`:\n",
    "\n",
    "|Star Name|Spectral Type|Stellar Effective Temperature [K]|Stellar Radius [Solar Radius]|Stellar Mass [Solar mass]|Stellar Luminosity [log(Solar)]|Stellar Surface Gravity [log10(cm/s**2)]|Stellar Age [Gyr]|\n",
    "|----|-------------|---------------------------------|-----------------------------|-------------------------|-------------------------------|----------------------------------------|-----------------|\n",
    "|55 Cnc|G8V|5172.00|0.94|0.91|-0.197|4.43|10.200|\n",
    "|DMPP-1|F8V|6196.00|1.26|1.21|0.320|4.41|2.010|\n",
    "|GJ 876|M2.5V|3271.00|0.30|0.32|-1.907|4.87|1.000|\n",
    "\n",
    "As you might have already guessed, this file contains data on a number of *stars* outside our solar system along with some important statistics about these stars. The columns here are as follows:\n",
    "\n",
    "- `Star Name`: The **name** given to the star by the *International Astronomical Union*,\n",
    "- `Spectral Type`: The **Spectral Classification** of the star as per the *Morgan–Keenan (MK) system*,\n",
    "- `Stellar Effective Temperature [K]`: The **temperature** of a *black body* (in units of Kelvin) that would emit the *observed radiation* of the star,\n",
    "- `Stellar Radius [Solar Radius]`: The **radius** of the star (in units of the radius of the Sun),\n",
    "- `Stellar Mass [Solar mass]`: The **mass** of the star (in units of the mass of the Sun), **NOTE** that mass is not capitalized in the attribute name,\n",
    "- `Stellar Luminosity [log(Solar)]`: The *total* amount of **energy radiated** by the star **each second** (represented by the logarithm of the energy radiated by the Sun in each second),\n",
    "- `Stellar Surface Gravity [log10(cm/s**2)]`: The **acceleration due to the gravity** of the Star at its *surface* (represented by the logarithm of the acceleration measured in centimeter per second squared),\n",
    "- `Stellar Age [Gyr]`: The total **age** of the star (in units of Giga years, i.e., billions of years).\n",
    "\n",
    "The two other files `stars_2.csv`, and `stars_3.csv` also store similar data in the same format. At this stage, it is alright if you do not understand what these columns mean - they will be explained to you when they become necessary (in P10 and P11)."
   ]
  },
  {
   "cell_type": "markdown",
   "id": "f604d4b3-a690-414f-9804-55a90e5c4e75",
   "metadata": {
    "deletable": false,
    "editable": false
   },
   "source": [
    "### Planets:"
   ]
  },
  {
   "cell_type": "markdown",
   "id": "a7bd71b7-816d-4c9c-8a77-eef5b56c9ee8",
   "metadata": {
    "deletable": false,
    "editable": false
   },
   "source": [
    "On the other hand, here are the contents of the file `planets_1.csv`:\n",
    "\n",
    "|Planet Name|Discovery Method|Discovery Year|Controversial Flag|Orbital Period [days]|Planet Radius [Earth Radius]|Planet Mass [Earth Mass]|Orbit Semi-Major Axis [au]|Eccentricity|Equilibrium Temperature [K]|Insolation Flux [Earth Flux]|\n",
    "|-----------|----------------|--------------|------------------|---------------------|----------------------------|------------------------|---------------------------|------------|---------------------------|----------------------------|\n",
    "|55 Cnc b|Radial Velocity|1996|0|14.65160000|13.900|263.97850|0.113400|0.000000|700||\n",
    "|55 Cnc c|Radial Velocity|2004|0|44.39890000|8.510|54.47380|0.237300|0.030000|||\n",
    "|DMPP-1 b|Radial Velocity|2019|0|18.57000000|5.290|24.27000|0.146200|0.083000|877||\n",
    "|GJ 876 b|Radial Velocity|1998|0|61.11660000|13.300|723.22350|0.208317|0.032400|||\n",
    "|GJ 876 c|Radial Velocity|2000|0|30.08810000|14.000|226.98460|0.129590|0.255910|||\n",
    "\n",
    "\n",
    "This file contains data on a number of *planets* outside our solar system along with some important statistics about these planets. The columns here are as follows:\n",
    "\n",
    "- `Planet Name`: The **name** given to the planet by the *International Astronomical Union*,\n",
    "- `Discovery Method`: The **method** by which the planet was *discovered*,\n",
    "- `Discovery Year`: The **year** in which the planet was *discovered*,\n",
    "- `Controversial Flag`: Indicates whether the status of the discovered object as a planet was **disputed** at the time of discovery, \n",
    "- `Orbital Period [days]`: The amount of **time** (in units of days) it takes for the planet to **complete one orbit** around its star,\n",
    "- `Planet Radius [Earth Radius]`: The **radius** of the planet (in units of the radius of the Earth),\n",
    "- `Planet Mass [Earth Mass]`: The **mass** of the planet (in units of the mass of the Earth),\n",
    "- `Orbit Semi-Major Axis [au]`: The **semi-major axis** of the planet's elliptical **orbit** around its host star (in units of Astronomical Units),\n",
    "- `Eccentricity`: The **eccentricity** of the planet's orbit around its host star,\n",
    "- `Equilibrium Temperature [K]`: The **temperature** of the planet (in units of Kelvin) if it were a *black body* heated only by its host star,\n",
    "- `Insolation Flux [Earth Flux]`:  The amount of **radiation** the planet received from its host star **per unit of area** (in units of the Insolation Flux of the Earth from the Sun).\n",
    "\n",
    "The two other files `planets_2.csv`, and `planets_3.csv` also store similar data in the same format."
   ]
  },
  {
   "cell_type": "markdown",
   "id": "1762440b-4e01-4c0b-9576-76ec17000e7b",
   "metadata": {
    "deletable": false,
    "editable": false
   },
   "source": [
    "### Mapping:"
   ]
  },
  {
   "cell_type": "markdown",
   "id": "2125a672-244b-4c76-9677-16a8d6130f67",
   "metadata": {
    "deletable": false,
    "editable": false
   },
   "source": [
    "Finally, if you take a look at `mapping_1.json` (you can open json files using any Text Editor), you will see that the file looks like this:\n",
    "\n",
    "```python\n",
    "{\"55 Cnc b\":\"55 Cnc\",\"55 Cnc c\":\"55 Cnc\",\"DMPP-1 b\":\"DMPP-1\",\"GJ 876 b\":\"GJ 876\",\"GJ 876 c\":\"GJ 876\"}\n",
    "```\n",
    "\n",
    "This file contains a *mapping* from each *planet* in `planets_1.csv` to the *star* in `stars_1.csv` that the planet orbits. Similarly, `mapping_2.json` contains a *mapping* from each *planet* in `planets_2.csv` to the *star* in `stars_2.csv` that the planet orbits, and `mapping_3.json` contains a *mapping* from each *planet* in `planets_3.csv` to the *star* in `stars_3.csv` that the planet orbits."
   ]
  },
  {
   "cell_type": "markdown",
   "id": "6243c4f1-0181-40e6-b1b2-45724d6784fe",
   "metadata": {
    "deletable": false,
    "editable": false,
    "slideshow": {
     "slide_type": ""
    },
    "tags": []
   },
   "source": [
    "## Lab Portion (37 Questions)"
   ]
  },
  {
   "cell_type": "markdown",
   "id": "ce4bd078-ba3a-4a09-8e87-823931e5610b",
   "metadata": {
    "deletable": false,
    "editable": false,
    "slideshow": {
     "slide_type": ""
    },
    "tags": []
   },
   "source": [
    "### Segment 1: File handling with the `os` module"
   ]
  },
  {
   "cell_type": "markdown",
   "id": "cd78d0d0-5c26-4a80-bcf6-96ba07db208f",
   "metadata": {
    "deletable": false,
    "editable": false
   },
   "source": [
    "In this segment, you will learn how to use the `os` module effectively."
   ]
  },
  {
   "cell_type": "markdown",
   "id": "806d3035",
   "metadata": {
    "deletable": false,
    "editable": false,
    "slideshow": {
     "slide_type": ""
    },
    "tags": []
   },
   "source": [
    "#### Lab Question 1: List **all** the files and directories in the directory `small_data` using the `os.listdir` function."
   ]
  },
  {
   "cell_type": "markdown",
   "id": "f985e21a-d129-4df5-94af-b091ea39061a",
   "metadata": {
    "deletable": false,
    "editable": false,
    "slideshow": {
     "slide_type": ""
    },
    "tags": []
   },
   "source": [
    "Your output **must** be a **list** of **strings**. The order does **not** matter."
   ]
  },
  {
   "cell_type": "markdown",
   "id": "e64d70fb",
   "metadata": {
    "deletable": false,
    "editable": false,
    "slideshow": {
     "slide_type": ""
    },
    "tags": []
   },
   "source": [
    "Points possible: 3.0"
   ]
  },
  {
   "cell_type": "code",
   "execution_count": 3,
   "id": "d26cac88",
   "metadata": {
    "deletable": false,
    "editable": true,
    "slideshow": {
     "slide_type": ""
    },
    "tags": [
     "lab-q1-code"
    ]
   },
   "outputs": [
    {
     "ename": "FileNotFoundError",
     "evalue": "[Errno 2] No such file or directory: 'small_data'",
     "output_type": "error",
     "traceback": [
      "\u001b[0;31m---------------------------------------------------------------------------\u001b[0m",
      "\u001b[0;31mFileNotFoundError\u001b[0m                         Traceback (most recent call last)",
      "\u001b[0;32m/var/folders/58/_9ghq41j3jbbf7plj48rgt1c0000gn/T/ipykernel_8356/1931843697.py\u001b[0m in \u001b[0;36m<module>\u001b[0;34m\u001b[0m\n\u001b[1;32m      1\u001b[0m \u001b[0;31m# we have done this one for you\u001b[0m\u001b[0;34m\u001b[0m\u001b[0;34m\u001b[0m\u001b[0m\n\u001b[0;32m----> 2\u001b[0;31m \u001b[0mall_files\u001b[0m \u001b[0;34m=\u001b[0m \u001b[0mos\u001b[0m\u001b[0;34m.\u001b[0m\u001b[0mlistdir\u001b[0m\u001b[0;34m(\u001b[0m\u001b[0;34m'small_data'\u001b[0m\u001b[0;34m)\u001b[0m\u001b[0;34m\u001b[0m\u001b[0;34m\u001b[0m\u001b[0m\n\u001b[0m\u001b[1;32m      3\u001b[0m \u001b[0;34m\u001b[0m\u001b[0m\n\u001b[1;32m      4\u001b[0m \u001b[0mall_files\u001b[0m\u001b[0;34m\u001b[0m\u001b[0;34m\u001b[0m\u001b[0m\n",
      "\u001b[0;31mFileNotFoundError\u001b[0m: [Errno 2] No such file or directory: 'small_data'"
     ]
    }
   ],
   "source": [
    "# we have done this one for you\n",
    "all_files = os.listdir('small_data')\n",
    "\n",
    "all_files"
   ]
  },
  {
   "cell_type": "code",
   "execution_count": 4,
   "id": "35f9092f",
   "metadata": {
    "deletable": false,
    "editable": true,
    "slideshow": {
     "slide_type": ""
    },
    "tags": []
   },
   "outputs": [
    {
     "name": "stdout",
     "output_type": "stream",
     "text": [
      "Make sure you saved the notebook before running this cell. Running check for lab-q1...\n",
      "Great job! You passed all test cases for this question.\n"
     ]
    },
    {
     "data": {
      "text/plain": [
       "True"
      ]
     },
     "execution_count": 4,
     "metadata": {},
     "output_type": "execute_result"
    }
   ],
   "source": [
    "student_grader.check(\"lab-q1\", should_get_llm_feedback=False)"
   ]
  },
  {
   "cell_type": "markdown",
   "id": "d7d53121-3e37-4a28-a935-a919c2315548",
   "metadata": {
    "deletable": false,
    "editable": false
   },
   "source": [
    "**Important Warning:** That appeared to work just fine, but you should be **very careful** when using the `os` module. You might have noticed that there are files and directories in the list returned by `os.listdir` that **begin** with the character `\".\"` (specifically in this case, the file `\".DS_Store\"` and the directory `\".ipynb_checkpoints\"`). Such files and directories are used by some operating systems to store metadata. These files are not actually a part of your dataset, and must be **ignored**. \n",
    "\n",
    "When you are processing the files in any directory, you **must** always **ignore** such files that begin with the character `\".\"`, as they are not actually files in the directory. You **must** do this every time you use `os.listdir`."
   ]
  },
  {
   "cell_type": "markdown",
   "id": "8afc019b",
   "metadata": {
    "deletable": false,
    "editable": false,
    "slideshow": {
     "slide_type": ""
    },
    "tags": []
   },
   "source": [
    "#### Lab Question 2: List **all** the files and directories in the directory `small_data` that do **not** **start with** the character`\".\"`."
   ]
  },
  {
   "cell_type": "markdown",
   "id": "66acae78-2da1-4062-8e61-d0297c75ff81",
   "metadata": {
    "deletable": false,
    "editable": false,
    "slideshow": {
     "slide_type": ""
    },
    "tags": []
   },
   "source": [
    "Your output **must** be a **list** of **strings**. The order does **not** matter."
   ]
  },
  {
   "cell_type": "markdown",
   "id": "2e60a776",
   "metadata": {
    "deletable": false,
    "editable": false,
    "slideshow": {
     "slide_type": ""
    },
    "tags": []
   },
   "source": [
    "Points possible: 3.0"
   ]
  },
  {
   "cell_type": "code",
   "execution_count": 5,
   "id": "4ed87fd5",
   "metadata": {
    "deletable": false,
    "editable": true,
    "slideshow": {
     "slide_type": ""
    },
    "tags": [
     "lab-q2-code"
    ]
   },
   "outputs": [
    {
     "data": {
      "text/plain": [
       "['mapping_3.json',\n",
       " 'mapping_2.json',\n",
       " 'planets_2.csv',\n",
       " 'planets_3.csv',\n",
       " 'planets_1.csv',\n",
       " 'stars_3.csv',\n",
       " 'stars_2.csv',\n",
       " 'stars_1.csv',\n",
       " 'mapping_1.json']"
      ]
     },
     "execution_count": 5,
     "metadata": {},
     "output_type": "execute_result"
    }
   ],
   "source": [
    "# compute and store the answer in the variable 'actual_files', then display it\n",
    "import os\n",
    "all_files = os.listdir('small_data')\n",
    "\n",
    "actual_files = [file for file in all_files if not file.startswith('.')]\n",
    "\n",
    "actual_files"
   ]
  },
  {
   "cell_type": "code",
   "execution_count": 6,
   "id": "d229a408",
   "metadata": {
    "deletable": false,
    "editable": true,
    "slideshow": {
     "slide_type": ""
    },
    "tags": []
   },
   "outputs": [
    {
     "name": "stdout",
     "output_type": "stream",
     "text": [
      "Make sure you saved the notebook before running this cell. Running check for lab-q2...\n",
      "Great job! You passed all test cases for this question.\n"
     ]
    },
    {
     "data": {
      "text/plain": [
       "True"
      ]
     },
     "execution_count": 6,
     "metadata": {},
     "output_type": "execute_result"
    }
   ],
   "source": [
    "student_grader.check(\"lab-q2\", should_get_llm_feedback=False)"
   ]
  },
  {
   "cell_type": "markdown",
   "id": "df65e15d-57f6-4d76-8d2a-0bf995fd5795",
   "metadata": {
    "deletable": false,
    "editable": false
   },
   "source": [
    "<h4 style=\"color:red\">Important Warning:</h4>"
   ]
  },
  {
   "cell_type": "markdown",
   "id": "122e62d8-8700-4274-81ec-02e11e15d5d1",
   "metadata": {
    "deletable": false,
    "editable": false,
    "jp-MarkdownHeadingCollapsed": true
   },
   "source": [
    "Look at the order in which the files in the **list** `actual_files` are stored. The **ordering** of the files in the **list** returned by `os.listdir` **depends on the operating system**. This means that if you run this code on a **different OS**, the files might be sorted in a **different order**.\n",
    "\n",
    "For example, if you are using Windows, the variable `actual_files` will likely hold the value:\n",
    "```python\n",
    "['mapping_1.json',\n",
    " 'mapping_2.json',\n",
    " 'mapping_3.json',\n",
    " 'planets_1.csv',\n",
    " 'planets_2.csv',\n",
    " 'planets_3.csv',\n",
    " 'stars_1.csv',\n",
    " 'stars_2.csv',\n",
    " 'stars_3.csv']\n",
    "```\n",
    "\n",
    "but if you are using MacOS, the variable `actual_files` will likely hold the value:\n",
    "```python\n",
    "['stars_3.csv',\n",
    " 'stars_2.csv',\n",
    " 'stars_1.csv',\n",
    " 'planets_3.csv',\n",
    " 'planets_2.csv',\n",
    " 'planets_1.csv',\n",
    " 'mapping_3.json',\n",
    " 'mapping_2.json',\n",
    " 'mapping_1.json']\n",
    "```\n",
    "\n",
    "As you can imagine, this makes `os.listdir` a little **dangerous** because you could write something like `actual_files[0]` in your code, and it will always work the same way on your computer, but will **behave differently on another computer**. To avoid these issues, you should make sure that you always **explicitly sort** the output of `os.listdir` before you use it. This will ensure that the ordering remains consistent across all operating systems."
   ]
  },
  {
   "cell_type": "markdown",
   "id": "751c63cc",
   "metadata": {
    "deletable": false,
    "editable": false,
    "slideshow": {
     "slide_type": ""
    },
    "tags": []
   },
   "source": [
    "#### Lab Question 3: List **all** the files and directories in the directory `small_data` that do **not** **start with** the character`\".\"`, sorted in **reverse alphabetical order**.\n",
    "\n",
    "Your output **must** be a **list** of **strings**, sorted in **reverse alphabetical** order."
   ]
  },
  {
   "cell_type": "markdown",
   "id": "0bcc48d2",
   "metadata": {
    "deletable": false,
    "editable": false,
    "slideshow": {
     "slide_type": ""
    },
    "tags": []
   },
   "source": [
    "Points possible: 3.0"
   ]
  },
  {
   "cell_type": "code",
   "execution_count": 7,
   "id": "18e81857",
   "metadata": {
    "deletable": false,
    "editable": true,
    "slideshow": {
     "slide_type": ""
    },
    "tags": [
     "lab-q3-code"
    ]
   },
   "outputs": [
    {
     "data": {
      "text/plain": [
       "['stars_3.csv',\n",
       " 'stars_2.csv',\n",
       " 'stars_1.csv',\n",
       " 'planets_3.csv',\n",
       " 'planets_2.csv',\n",
       " 'planets_1.csv',\n",
       " 'mapping_3.json',\n",
       " 'mapping_2.json',\n",
       " 'mapping_1.json']"
      ]
     },
     "execution_count": 7,
     "metadata": {},
     "output_type": "execute_result"
    }
   ],
   "source": [
    "# compute and store the answer in the variable 'files_in_small_data', then display it\n",
    "import os\n",
    "all_files = os.listdir('small_data')\n",
    "actual_files = [file for file in all_files if not file.startswith('.')]\n",
    "\n",
    "files_in_small_data = sorted(actual_files, reverse = True)\n",
    "\n",
    "files_in_small_data"
   ]
  },
  {
   "cell_type": "code",
   "execution_count": 8,
   "id": "2d4f27b6",
   "metadata": {
    "deletable": false,
    "editable": true,
    "slideshow": {
     "slide_type": ""
    },
    "tags": []
   },
   "outputs": [
    {
     "name": "stdout",
     "output_type": "stream",
     "text": [
      "Make sure you saved the notebook before running this cell. Running check for lab-q3...\n",
      "Great job! You passed all test cases for this question.\n"
     ]
    },
    {
     "data": {
      "text/plain": [
       "True"
      ]
     },
     "execution_count": 8,
     "metadata": {},
     "output_type": "execute_result"
    }
   ],
   "source": [
    "student_grader.check(\"lab-q3\", should_get_llm_feedback=False)"
   ]
  },
  {
   "cell_type": "markdown",
   "id": "c5ac34bb",
   "metadata": {
    "deletable": false,
    "editable": false,
    "slideshow": {
     "slide_type": ""
    },
    "tags": []
   },
   "source": [
    "#### Lab Question 4: What is the **path** of the file `stars_1.csv` in the directory `small_data`."
   ]
  },
  {
   "cell_type": "markdown",
   "id": "a963c35b-3c7d-4767-a592-f7993c514206",
   "metadata": {
    "deletable": false,
    "editable": false,
    "slideshow": {
     "slide_type": ""
    },
    "tags": []
   },
   "source": [
    "You are **allowed** to 'hardcode' the strings `'small_data'` and `'stars_1.csv'` to answer this question.\n",
    "\n",
    "**Warnings:**\n",
    "\n",
    "1. You **must not** hardcode the **absolute path** of any file in your code. For instance, the **absolute path** of this file `stars_1.csv` could be: `C:\\Users\\mdoescher\\cs220\\p10\\small_data\\stars_1.csv` (this file path could be slightly different depending on how you organize your files for the class). However, if you hardcode this path in your code, it will **only work on your computer**. In this case, since the notebook `p10.ipynb` is stored in the path `C:\\Users\\mdoescher\\cs220\\p10`, the **relative path** of the file is `small_data\\stars_1.csv`, and this is the path that **must** be used, if you want your code to work on all computers.\n",
    "2. You **must not** hardcode either the character `\"\\\"` or the character `\"/\"` in your paths. If you do so, your code will **crash** when it runs on a **different operating system**. You **must** use the `os.path.join` function to create path strings."
   ]
  },
  {
   "cell_type": "markdown",
   "id": "c3913b08",
   "metadata": {
    "deletable": false,
    "editable": false,
    "slideshow": {
     "slide_type": ""
    },
    "tags": []
   },
   "source": [
    "Points possible: 3.0"
   ]
  },
  {
   "cell_type": "code",
   "execution_count": 9,
   "id": "87299046-4dea-4624-ab76-8f89c1fa1a0a",
   "metadata": {
    "deletable": false,
    "editable": true,
    "tags": [
     "lab-q4-code"
    ]
   },
   "outputs": [
    {
     "data": {
      "text/plain": [
       "'small_data/stars_1.csv'"
      ]
     },
     "execution_count": 9,
     "metadata": {},
     "output_type": "execute_result"
    }
   ],
   "source": [
    "# we have done this one for you\n",
    "stars_1_path = os.path.join(\"small_data\", \"stars_1.csv\")\n",
    "\n",
    "stars_1_path"
   ]
  },
  {
   "cell_type": "code",
   "execution_count": 10,
   "id": "4fb9b3f5",
   "metadata": {
    "deletable": false,
    "editable": true,
    "slideshow": {
     "slide_type": ""
    },
    "tags": []
   },
   "outputs": [
    {
     "name": "stdout",
     "output_type": "stream",
     "text": [
      "Make sure you saved the notebook before running this cell. Running check for lab-q4...\n",
      "Great job! You passed all test cases for this question.\n"
     ]
    },
    {
     "data": {
      "text/plain": [
       "True"
      ]
     },
     "execution_count": 10,
     "metadata": {},
     "output_type": "execute_result"
    }
   ],
   "source": [
    "student_grader.check(\"lab-q4\", should_get_llm_feedback=False)"
   ]
  },
  {
   "cell_type": "markdown",
   "id": "54ddf52e",
   "metadata": {
    "deletable": false,
    "editable": false,
    "slideshow": {
     "slide_type": ""
    },
    "tags": []
   },
   "source": [
    "#### Lab Question 5: List the **paths** of **all** the files in the directory `small_data`.\n",
    "\n",
    "Your output **must** be a **list** of **strings**. You must **ignore** files that **start with** the character`\".\"`. The order of the files does **not matter**.\n",
    "\n",
    "**Warnings:**\n",
    "\n",
    "1. You **must not** hardcode the **absolute path** of any file in your code. You must use the **relative path** of the files.\n",
    "2. You **must not** hardcode either the character `\"\\\"` or the character `\"/\"` in your paths. You **must** use the `os.path.join` function to create paths.\n",
    "\n",
    "You should use files_in_small_data in your answer."
   ]
  },
  {
   "cell_type": "markdown",
   "id": "4b7cc785",
   "metadata": {
    "deletable": false,
    "editable": false,
    "slideshow": {
     "slide_type": ""
    },
    "tags": []
   },
   "source": [
    "Points possible: 3.0"
   ]
  },
  {
   "cell_type": "code",
   "execution_count": 11,
   "id": "0b094e68-e150-459b-9e36-87564efef12c",
   "metadata": {
    "deletable": false,
    "editable": true,
    "slideshow": {
     "slide_type": ""
    },
    "tags": [
     "lab-q5-code"
    ]
   },
   "outputs": [
    {
     "data": {
      "text/plain": [
       "['small_data/mapping_3.json',\n",
       " 'small_data/mapping_2.json',\n",
       " 'small_data/planets_2.csv',\n",
       " 'small_data/planets_3.csv',\n",
       " 'small_data/planets_1.csv',\n",
       " 'small_data/stars_3.csv',\n",
       " 'small_data/stars_2.csv',\n",
       " 'small_data/stars_1.csv',\n",
       " 'small_data/mapping_1.json']"
      ]
     },
     "execution_count": 11,
     "metadata": {},
     "output_type": "execute_result"
    }
   ],
   "source": [
    "# compute and store the answer in the variable 'paths_in_small_data_unsorted', then display it\n",
    "import os\n",
    "all_files = os.listdir('small_data')\n",
    "actual_files = [file for file in all_files if not file.startswith('.')]\n",
    "files_in_small_data = sorted(actual_files, reverse = True)\n",
    "\n",
    "paths_in_small_data_unsorted = [os.path.join(\"small_data\", file) for file in actual_files]\n",
    "\n",
    "paths_in_small_data_unsorted"
   ]
  },
  {
   "cell_type": "code",
   "execution_count": 12,
   "id": "64cdaaed",
   "metadata": {
    "deletable": false,
    "editable": true,
    "slideshow": {
     "slide_type": ""
    },
    "tags": []
   },
   "outputs": [
    {
     "name": "stdout",
     "output_type": "stream",
     "text": [
      "Make sure you saved the notebook before running this cell. Running check for lab-q5...\n",
      "Great job! You passed all test cases for this question.\n"
     ]
    },
    {
     "data": {
      "text/plain": [
       "True"
      ]
     },
     "execution_count": 12,
     "metadata": {},
     "output_type": "execute_result"
    }
   ],
   "source": [
    "student_grader.check(\"lab-q5\", should_get_llm_feedback=False)"
   ]
  },
  {
   "cell_type": "markdown",
   "id": "18ae000f-8b60-415e-975a-137bbafa346c",
   "metadata": {
    "deletable": false,
    "editable": false
   },
   "source": [
    "<h4 style=\"color:red\">Important Warning:</h4>\n",
    "\n",
    "You are not done yet! We have already seen that while using the output of `os.listdir`, you must **sort** the output before using that data. However, you must be **extra careful** while sorting **lists of paths**. To see what could go wrong with sorting, run the following cell:"
   ]
  },
  {
   "cell_type": "code",
   "execution_count": 13,
   "id": "2e1a34c7-f44d-4031-bda2-89a730c10f67",
   "metadata": {
    "deletable": false,
    "editable": true
   },
   "outputs": [
    {
     "name": "stdout",
     "output_type": "stream",
     "text": [
      "['small_data\\\\1\\\\stars_2.csv', 'small_data\\\\10\\\\stars_1.csv']\n",
      "['small_data/10/stars_1.csv', 'small_data/1/stars_2.csv']\n"
     ]
    }
   ],
   "source": [
    "windows_files = ['small_data\\\\10\\\\stars_1.csv', 'small_data\\\\1\\\\stars_2.csv']\n",
    "mac_files = ['small_data/10/stars_1.csv', 'small_data/1/stars_2.csv']\n",
    "print(sorted(windows_files, reverse=True))\n",
    "print(sorted(mac_files, reverse=True))"
   ]
  },
  {
   "cell_type": "markdown",
   "id": "455f6c24-6edb-4f45-ac70-cfae290a8f40",
   "metadata": {
    "deletable": false,
    "editable": false
   },
   "source": [
    "As you can see, depending on whether the path separator is `//` or `\\`, even the outcome of sorting can **change**. In other words, **depending on your OS**, even the **output of the sorting may be different**. To get around this difficulty, you may use the `split` function to **split** the path by the path separator `os.path.sep`, before sorting.\n",
    "\n",
    "Run the following cell and figure out what it does:"
   ]
  },
  {
   "cell_type": "code",
   "execution_count": 14,
   "id": "c3cf303b-64b1-4bbc-b58e-58a8b8af2f11",
   "metadata": {
    "deletable": false,
    "editable": true
   },
   "outputs": [
    {
     "name": "stdout",
     "output_type": "stream",
     "text": [
      "['small_data', 'mapping_3.json']\n",
      "['small_data', 'mapping_2.json']\n",
      "['small_data', 'planets_2.csv']\n",
      "['small_data', 'planets_3.csv']\n",
      "['small_data', 'planets_1.csv']\n",
      "['small_data', 'stars_3.csv']\n",
      "['small_data', 'stars_2.csv']\n",
      "['small_data', 'stars_1.csv']\n",
      "['small_data', 'mapping_1.json']\n"
     ]
    }
   ],
   "source": [
    "for path in paths_in_small_data_unsorted:\n",
    "    print(path.split(os.path.sep))"
   ]
  },
  {
   "cell_type": "markdown",
   "id": "7aa4c6e5-fba5-41d8-99f3-e78310f407f1",
   "metadata": {
    "deletable": false,
    "editable": false
   },
   "source": [
    "You can therefore use the `str.split(os.path.sep)` function as a **key** to your `sorted` (or `str.sort`) function to avoid these issues, as in the example below:"
   ]
  },
  {
   "cell_type": "markdown",
   "id": "1d9002cb",
   "metadata": {
    "deletable": false,
    "editable": false,
    "slideshow": {
     "slide_type": ""
    },
    "tags": []
   },
   "source": [
    "#### Lab Question 6: Sort the variable `paths_in_small_data_unsorted` in **reverse alphabetical order** after **splitting** the paths by the **path separator**."
   ]
  },
  {
   "cell_type": "markdown",
   "id": "bef0d51a",
   "metadata": {
    "deletable": false,
    "editable": false,
    "slideshow": {
     "slide_type": ""
    },
    "tags": []
   },
   "source": [
    "Points possible: 3.0"
   ]
  },
  {
   "cell_type": "code",
   "execution_count": 15,
   "id": "445c9a75",
   "metadata": {
    "deletable": false,
    "editable": true,
    "slideshow": {
     "slide_type": ""
    },
    "tags": [
     "lab-q6-code"
    ]
   },
   "outputs": [
    {
     "data": {
      "text/plain": [
       "['small_data/stars_3.csv',\n",
       " 'small_data/stars_2.csv',\n",
       " 'small_data/stars_1.csv',\n",
       " 'small_data/planets_3.csv',\n",
       " 'small_data/planets_2.csv',\n",
       " 'small_data/planets_1.csv',\n",
       " 'small_data/mapping_3.json',\n",
       " 'small_data/mapping_2.json',\n",
       " 'small_data/mapping_1.json']"
      ]
     },
     "execution_count": 15,
     "metadata": {},
     "output_type": "execute_result"
    }
   ],
   "source": [
    "# we have done this one for you\n",
    "\n",
    "# the lambda function passed as the `key` here will ensure that before we sort the paths in the list,\n",
    "# they are split by the path separator; this ensures that the sorting will produce identical outputs\n",
    "# across different operating systems\n",
    "paths_in_small_data = sorted(paths_in_small_data_unsorted, key = lambda path: path.split(os.path.sep), reverse=True)\n",
    "\n",
    "paths_in_small_data"
   ]
  },
  {
   "cell_type": "code",
   "execution_count": 16,
   "id": "aa5a41dd",
   "metadata": {
    "deletable": false,
    "editable": true,
    "slideshow": {
     "slide_type": ""
    },
    "tags": []
   },
   "outputs": [
    {
     "name": "stdout",
     "output_type": "stream",
     "text": [
      "Make sure you saved the notebook before running this cell. Running check for lab-q6...\n",
      "Great job! You passed all test cases for this question.\n"
     ]
    },
    {
     "data": {
      "text/plain": [
       "True"
      ]
     },
     "execution_count": 16,
     "metadata": {},
     "output_type": "execute_result"
    }
   ],
   "source": [
    "student_grader.check(\"lab-q6\", should_get_llm_feedback=False)"
   ]
  },
  {
   "cell_type": "markdown",
   "id": "5c1a4933",
   "metadata": {
    "deletable": false,
    "editable": false,
    "slideshow": {
     "slide_type": ""
    },
    "tags": []
   },
   "source": [
    "#### Lab Question 7: List the **paths** of **all** the JSON files in the directory `small_data`."
   ]
  },
  {
   "cell_type": "markdown",
   "id": "e58d5335-8f9c-43ef-8aa6-7979ef7a818a",
   "metadata": {
    "deletable": false,
    "editable": false,
    "slideshow": {
     "slide_type": ""
    },
    "tags": []
   },
   "source": [
    "Your output **must** be a **list** of **strings**. You must **ignore** files that **start with** the character`\".\"`, and your output **must** sorted in **reverse alphabetical order**.\n",
    "\n",
    "**Hint:** You can identify the JSON files as the files which end with the string `\".json\"`."
   ]
  },
  {
   "cell_type": "markdown",
   "id": "01be6de7",
   "metadata": {
    "deletable": false,
    "editable": false,
    "slideshow": {
     "slide_type": ""
    },
    "tags": []
   },
   "source": [
    "Points possible: 3.0"
   ]
  },
  {
   "cell_type": "code",
   "execution_count": 17,
   "id": "3ab44d52-03a4-4df3-b58a-3b828ecfaa94",
   "metadata": {
    "deletable": false,
    "editable": true,
    "scrolled": true,
    "slideshow": {
     "slide_type": ""
    },
    "tags": [
     "lab-q7-code"
    ]
   },
   "outputs": [
    {
     "data": {
      "text/plain": [
       "['small_data/mapping_3.json',\n",
       " 'small_data/mapping_2.json',\n",
       " 'small_data/mapping_1.json']"
      ]
     },
     "execution_count": 17,
     "metadata": {},
     "output_type": "execute_result"
    }
   ],
   "source": [
    "# compute and store the answer in the variable 'json_paths', then display it\n",
    "json_paths = [path for path in paths_in_small_data if path.endswith(\".json\")]\n",
    "\n",
    "json_paths"
   ]
  },
  {
   "cell_type": "code",
   "execution_count": 18,
   "id": "2b2e338e",
   "metadata": {
    "deletable": false,
    "editable": true,
    "slideshow": {
     "slide_type": ""
    },
    "tags": []
   },
   "outputs": [
    {
     "name": "stdout",
     "output_type": "stream",
     "text": [
      "Make sure you saved the notebook before running this cell. Running check for lab-q7...\n",
      "Great job! You passed all test cases for this question.\n"
     ]
    },
    {
     "data": {
      "text/plain": [
       "True"
      ]
     },
     "execution_count": 18,
     "metadata": {},
     "output_type": "execute_result"
    }
   ],
   "source": [
    "student_grader.check(\"lab-q7\", should_get_llm_feedback=False)"
   ]
  },
  {
   "cell_type": "markdown",
   "id": "cb9103f2",
   "metadata": {
    "deletable": false,
    "editable": false,
    "slideshow": {
     "slide_type": ""
    },
    "tags": []
   },
   "source": [
    "#### Lab Question 8: List the **paths** of **all** the files in the directory `small_data`, whose filename starts with `\"stars\"`."
   ]
  },
  {
   "cell_type": "markdown",
   "id": "2e47e3e0-efce-414b-af3d-3dd9fb455b99",
   "metadata": {
    "deletable": false,
    "editable": false,
    "slideshow": {
     "slide_type": ""
    },
    "tags": []
   },
   "source": [
    "Your output **must** be a **list** of **strings**. You must **ignore** files that **start with** the character`\".\"`, and your output **must** be sorted in **reverse alphabetical order** after **splitting** the paths by the **path separator**."
   ]
  },
  {
   "cell_type": "markdown",
   "id": "b28763a2",
   "metadata": {
    "deletable": false,
    "editable": false,
    "slideshow": {
     "slide_type": ""
    },
    "tags": []
   },
   "source": [
    "Points possible: 3.0"
   ]
  },
  {
   "cell_type": "code",
   "execution_count": 19,
   "id": "5fd54109",
   "metadata": {
    "deletable": false,
    "editable": true,
    "slideshow": {
     "slide_type": ""
    },
    "tags": [
     "lab-q8-code"
    ]
   },
   "outputs": [
    {
     "data": {
      "text/plain": [
       "['small_data/stars_3.csv', 'small_data/stars_2.csv', 'small_data/stars_1.csv']"
      ]
     },
     "execution_count": 19,
     "metadata": {},
     "output_type": "execute_result"
    }
   ],
   "source": [
    "# compute and store the answer in the variable 'stars_paths', then display it\n",
    "stars_paths = [path for path in paths_in_small_data if os.path.basename(path).startswith(\"stars\")]\n",
    "\n",
    "stars_paths"
   ]
  },
  {
   "cell_type": "code",
   "execution_count": 20,
   "id": "b16e05f8",
   "metadata": {
    "deletable": false,
    "editable": true,
    "slideshow": {
     "slide_type": ""
    },
    "tags": []
   },
   "outputs": [
    {
     "name": "stdout",
     "output_type": "stream",
     "text": [
      "Make sure you saved the notebook before running this cell. Running check for lab-q8...\n",
      "Great job! You passed all test cases for this question.\n"
     ]
    },
    {
     "data": {
      "text/plain": [
       "True"
      ]
     },
     "execution_count": 20,
     "metadata": {},
     "output_type": "execute_result"
    }
   ],
   "source": [
    "student_grader.check(\"lab-q8\", should_get_llm_feedback=False)"
   ]
  },
  {
   "cell_type": "markdown",
   "id": "3b6bd030-b87a-48fe-97f3-12f39d2b0888",
   "metadata": {
    "deletable": false,
    "editable": false
   },
   "source": [
    "### Segment 2: Creating Namedtuples"
   ]
  },
  {
   "cell_type": "markdown",
   "id": "590bc47d-d408-4893-963c-41441bf0de31",
   "metadata": {
    "deletable": false,
    "editable": false
   },
   "source": [
    "In P10, you will be reading the data in files similar to `stars_1.csv`, `stars_2.csv`, and `stars_3.csv`, and storing the data as a **dictionary** of **named tuples**. Now would be a great time to practice creating similar data structues."
   ]
  },
  {
   "cell_type": "markdown",
   "id": "9cc31668-00b4-4a4a-812b-fee505e001a7",
   "metadata": {
    "deletable": false,
    "editable": false
   },
   "source": [
    "### Data Structure 1: namedtuple `Star`"
   ]
  },
  {
   "cell_type": "markdown",
   "id": "b07a3dc2-8da6-4379-8e9d-6c649b722564",
   "metadata": {
    "deletable": false,
    "editable": false
   },
   "source": [
    "We will now create a new `Star` type (using `namedtuple`). It **must** have the following attributes:\n",
    "\n",
    "* `spectral_type`,\n",
    "* `stellar_effective_temperature`,\n",
    "* `stellar_radius`,\n",
    "* `stellar_mass`,\n",
    "* `stellar_luminosity`,\n",
    "* `stellar_surface_gravity`,\n",
    "* `stellar_age`."
   ]
  },
  {
   "cell_type": "code",
   "execution_count": 21,
   "id": "d381a346-0b84-4a2b-945d-cc8e671e6cc8",
   "metadata": {
    "deletable": false,
    "editable": true
   },
   "outputs": [],
   "source": [
    "# we have done this one for you\n",
    "\n",
    "# define the list of attributes we want in our namedtuple\n",
    "star_attributes = ['spectral_type',\n",
    "                  'stellar_effective_temperature',\n",
    "                  'stellar_radius',\n",
    "                  'stellar_mass',\n",
    "                  'stellar_luminosity',\n",
    "                  'stellar_surface_gravity',\n",
    "                  'stellar_age']\n",
    "\n",
    "# create the namedtuple type 'Star' with the correct attributes\n",
    "Star = namedtuple(\"Star\", star_attributes)"
   ]
  },
  {
   "cell_type": "markdown",
   "id": "d271519a-7e3f-4f5c-8c6a-fe1d426c7f0a",
   "metadata": {
    "deletable": false,
    "editable": false,
    "slideshow": {
     "slide_type": ""
    },
    "tags": []
   },
   "source": [
    "#### Create a `Star` nametuple.\n",
    "\n",
    "Let us now test whether we have defined the namedtuple properly by creating a `Star` object."
   ]
  },
  {
   "cell_type": "markdown",
   "id": "1ef5d578-268f-4670-97d3-6faf35a5ea5a",
   "metadata": {
    "deletable": false,
    "editable": false,
    "slideshow": {
     "slide_type": ""
    },
    "tags": []
   },
   "source": [
    "Points possible: 3.0"
   ]
  },
  {
   "cell_type": "code",
   "execution_count": 22,
   "id": "33961304-ef8c-4403-96a6-f23dc9976352",
   "metadata": {
    "deletable": false,
    "editable": true,
    "slideshow": {
     "slide_type": ""
    },
    "tags": [
     "lab-star-code"
    ]
   },
   "outputs": [
    {
     "data": {
      "text/plain": [
       "Star(spectral_type='G2 V', stellar_effective_temperature=5780.0, stellar_radius=1.0, stellar_mass=1.0, stellar_luminosity=0.0, stellar_surface_gravity=4.44, stellar_age=4.6)"
      ]
     },
     "execution_count": 22,
     "metadata": {},
     "output_type": "execute_result"
    }
   ],
   "source": [
    "# we have done this one for you\n",
    "\n",
    "sun = Star('G2 V', 5780.0, 1.0, 1.0, 0.0, 4.44, 4.6)\n",
    "\n",
    "sun"
   ]
  },
  {
   "cell_type": "code",
   "execution_count": 23,
   "id": "df6a8ab1-e936-4828-a1b8-8621b5ac1bf3",
   "metadata": {
    "deletable": false,
    "editable": true,
    "slideshow": {
     "slide_type": ""
    },
    "tags": []
   },
   "outputs": [
    {
     "name": "stdout",
     "output_type": "stream",
     "text": [
      "Make sure you saved the notebook before running this cell. Running check for lab-star...\n",
      "Great job! You passed all test cases for this question.\n"
     ]
    },
    {
     "data": {
      "text/plain": [
       "True"
      ]
     },
     "execution_count": 23,
     "metadata": {},
     "output_type": "execute_result"
    }
   ],
   "source": [
    "student_grader.check(\"lab-star\", should_get_llm_feedback=False)"
   ]
  },
  {
   "cell_type": "markdown",
   "id": "045a0f4f-1869-42b5-8834-8a93bff74379",
   "metadata": {
    "deletable": false,
    "editable": false
   },
   "source": [
    "### Segment 3.1: Creating `Star` objects"
   ]
  },
  {
   "cell_type": "markdown",
   "id": "29585531-9fc0-456d-9bfd-e25d3bf6a5a2",
   "metadata": {
    "deletable": false,
    "editable": false
   },
   "source": [
    "Now that we have created the `Star` namedtuple, our next objective will be to read the files `stars_1.csv`, `stars_2.csv`, and `stars_3.csv` and create `Star` objects out of all the stars in there. In order to process the CSV files, you will first need to use the `process_csv` function you have been using since P6."
   ]
  },
  {
   "cell_type": "code",
   "execution_count": 24,
   "id": "20cdba1d-58bc-4f2c-b84f-621a7089fe99",
   "metadata": {
    "deletable": false,
    "editable": true
   },
   "outputs": [],
   "source": [
    "# process_csv file from previous projects here\n",
    "def process_csv(filename):\n",
    "    example_file = open(filename, encoding=\"utf-8\")\n",
    "    example_reader = csv.reader(example_file)\n",
    "    example_data = list(example_reader)\n",
    "    example_file.close()\n",
    "    return example_data"
   ]
  },
  {
   "cell_type": "markdown",
   "id": "a371a731-5b85-411f-ab91-0c7e2544d2d6",
   "metadata": {
    "deletable": false,
    "editable": false
   },
   "source": [
    "You are now ready to read the data in `stars_1.csv` using `process_csv` and convert the data into `Star` objects. In the cell below, you **must** read the data in `stars_1.csv` and extract the **header** and the non-header **rows** of the file."
   ]
  },
  {
   "cell_type": "code",
   "execution_count": 25,
   "id": "3f0031e2-9756-4193-93a4-99ffc04c5b0e",
   "metadata": {
    "deletable": false,
    "editable": true
   },
   "outputs": [],
   "source": [
    "# replace the ... with your code\n",
    "stars_1_csv = process_csv(os.path.join(\"small_data\", \"stars_1.csv\")) # read the data in 'stars_1.csv'\n",
    "stars_header = stars_1_csv[0]\n",
    "stars_1_rows = stars_1_csv[1:]"
   ]
  },
  {
   "cell_type": "markdown",
   "id": "740128d4-0110-4bf1-a148-6dba3f6040c5",
   "metadata": {
    "deletable": false,
    "editable": false
   },
   "source": [
    "If you wish to **verify** that you have read the file and defined the variables correctly, you can check that `stars_header` has the value:\n",
    "\n",
    "```python\n",
    "['Star Name', 'Spectral Type', 'Stellar Effective Temperature [K]', 'Stellar Radius [Solar Radius]', \n",
    " 'Stellar Mass [Solar mass]', 'Stellar Luminosity [log(Solar)]', 'Stellar Surface Gravity [log10(cm/s**2)]',\n",
    " 'Stellar Age [Gyr]']\n",
    "```\n",
    "\n",
    "and that `stars_1_rows` has the value:\n",
    "\n",
    "```python\n",
    "[['55 Cnc', 'G8V', '5172.00', '0.94', '0.91', '-0.197', '4.43', '10.200'],\n",
    " ['DMPP-1', 'F8V', '6196.00', '1.26', '1.21', '0.320', '4.41', '2.010'],\n",
    " ['GJ 876', 'M2.5V', '3271.00', '0.30', '0.32', '-1.907', '4.87', '1.000']]\n",
    "```"
   ]
  },
  {
   "cell_type": "markdown",
   "id": "c3210fd7",
   "metadata": {
    "deletable": false,
    "editable": false,
    "slideshow": {
     "slide_type": ""
    },
    "tags": []
   },
   "source": [
    "#### Lab Question 9: Create a `Star` object for the **first** star in `\"stars_1.csv\"`."
   ]
  },
  {
   "cell_type": "markdown",
   "id": "420ff5b0-6097-44cf-8e31-9ce887dccd32",
   "metadata": {
    "deletable": false,
    "editable": false,
    "slideshow": {
     "slide_type": ""
    },
    "tags": []
   },
   "source": [
    "The **attribute** of the `Star` namedtuple object, the corresponding **column** of the `stars_1.csv` file where the value should be obtained from, and the correct **data type** for the value are listed in the table below:\n",
    "\n",
    "|Attribute of `Star` object|Column of `stars_1.csv`|Data Type|\n",
    "|---------|------|---------|\n",
    "|`spectral_type`|Spectral Type|**string**|\n",
    "|`stellar_effective_temperature`|Stellar Effective Temperature [K]|**float**|\n",
    "|`stellar_radius`|Stellar Radius [Solar Radius]|**float**|\n",
    "|`stellar_mass`|Stellar Mass [Solar mass]|**float**|\n",
    "|`stellar_luminosity`|Stellar Luminosity [log(Solar)]|**float**|\n",
    "|`stellar_surface_gravity`|Stellar Surface Gravity [log10(cm/s**2)]|**float**|\n",
    "|`stellar_age`|Stellar Age [Gyr]|**float**|"
   ]
  },
  {
   "cell_type": "markdown",
   "id": "c2c5b1c2",
   "metadata": {
    "deletable": false,
    "editable": false,
    "slideshow": {
     "slide_type": ""
    },
    "tags": []
   },
   "source": [
    "Points possible: 3.0"
   ]
  },
  {
   "cell_type": "code",
   "execution_count": 26,
   "id": "c6df20bc-6867-4d17-a4b6-8d84c24838cb",
   "metadata": {
    "deletable": false,
    "editable": true,
    "slideshow": {
     "slide_type": ""
    },
    "tags": [
     "lab-q9-code"
    ]
   },
   "outputs": [
    {
     "data": {
      "text/plain": [
       "Star(spectral_type='G8V', stellar_effective_temperature=5172.0, stellar_radius=0.94, stellar_mass=0.91, stellar_luminosity=-0.197, stellar_surface_gravity=4.43, stellar_age=10.2)"
      ]
     },
     "execution_count": 26,
     "metadata": {},
     "output_type": "execute_result"
    }
   ],
   "source": [
    "# replace the ... with your code\n",
    "row_idx = 0 # the index of the star we want to convert into a Star object\n",
    "\n",
    "# extract the values from stars_1_rows\n",
    "spectral_type = stars_1_rows[row_idx][stars_header.index(\"Spectral Type\")] # stars_1_rows[row_idx][stars_header.index(...)]\n",
    "stellar_effective_temperature = float(stars_1_rows[row_idx][stars_header.index(\"Stellar Effective Temperature [K]\")]) #float(stars_1_rows[row_idx][stars_header.index(...)])\n",
    "stellar_radius = float(stars_1_rows[row_idx][stars_header.index(\"Stellar Radius [Solar Radius]\")])\n",
    "stellar_mass = float(stars_1_rows[row_idx][stars_header.index(\"Stellar Mass [Solar mass]\")])\n",
    "stellar_luminosity = float(stars_1_rows[row_idx][stars_header.index(\"Stellar Luminosity [log(Solar)]\")])\n",
    "stellar_surface_gravity = float(stars_1_rows[row_idx][stars_header.index(\"Stellar Surface Gravity [log10(cm/s**2)]\")])\n",
    "stellar_age = float(stars_1_rows[row_idx][stars_header.index(\"Stellar Age [Gyr]\")])\n",
    "\n",
    "# initialize 'first_star'\n",
    "first_star = Star(spectral_type, stellar_effective_temperature, stellar_radius, \\\n",
    "                  stellar_mass, stellar_luminosity, \\\n",
    "                  stellar_surface_gravity, stellar_age)\n",
    "\n",
    "first_star"
   ]
  },
  {
   "cell_type": "code",
   "execution_count": 27,
   "id": "6e4fcd1e",
   "metadata": {
    "deletable": false,
    "editable": true,
    "slideshow": {
     "slide_type": ""
    },
    "tags": []
   },
   "outputs": [
    {
     "name": "stdout",
     "output_type": "stream",
     "text": [
      "Make sure you saved the notebook before running this cell. Running check for lab-q9...\n",
      "Great job! You passed all test cases for this question.\n"
     ]
    },
    {
     "data": {
      "text/plain": [
       "True"
      ]
     },
     "execution_count": 27,
     "metadata": {},
     "output_type": "execute_result"
    }
   ],
   "source": [
    "student_grader.check(\"lab-q9\", should_get_llm_feedback=False)"
   ]
  },
  {
   "cell_type": "markdown",
   "id": "9a0f1a65",
   "metadata": {
    "deletable": false,
    "editable": false,
    "slideshow": {
     "slide_type": ""
    },
    "tags": []
   },
   "source": [
    "#### Lab Question 10: Create a `Star` object for the **second** star in `\"stars_1.csv\"`."
   ]
  },
  {
   "cell_type": "markdown",
   "id": "fd89cce1-968d-45fb-9f7e-6ca6bac60a91",
   "metadata": {
    "deletable": false,
    "editable": false,
    "slideshow": {
     "slide_type": ""
    },
    "tags": []
   },
   "source": [
    "You **must** create the `Star` object similarly to what you did in the previous question."
   ]
  },
  {
   "cell_type": "markdown",
   "id": "22f093b8",
   "metadata": {
    "deletable": false,
    "editable": false,
    "slideshow": {
     "slide_type": ""
    },
    "tags": []
   },
   "source": [
    "Points possible: 3.0"
   ]
  },
  {
   "cell_type": "code",
   "execution_count": 28,
   "id": "73347ed0-77e9-4db2-9ef3-241f604e0324",
   "metadata": {
    "deletable": false,
    "editable": true,
    "slideshow": {
     "slide_type": ""
    },
    "tags": [
     "lab-q10-code"
    ]
   },
   "outputs": [
    {
     "data": {
      "text/plain": [
       "Star(spectral_type='F8V', stellar_effective_temperature=6196.0, stellar_radius=1.26, stellar_mass=1.21, stellar_luminosity=0.32, stellar_surface_gravity=4.41, stellar_age=2.01)"
      ]
     },
     "execution_count": 28,
     "metadata": {},
     "output_type": "execute_result"
    }
   ],
   "source": [
    "# compute and store the answer in the variable 'second_star', then display it\n",
    "row_idx = 1 # the index of the star we want to convert into a Star object\n",
    "\n",
    "spectral_type = stars_1_rows[row_idx][stars_header.index(\"Spectral Type\")] # stars_1_rows[row_idx][stars_header.index(...)]\n",
    "stellar_effective_temperature = float(stars_1_rows[row_idx][stars_header.index(\"Stellar Effective Temperature [K]\")]) #float(stars_1_rows[row_idx][stars_header.index(...)])\n",
    "stellar_radius = float(stars_1_rows[row_idx][stars_header.index(\"Stellar Radius [Solar Radius]\")])\n",
    "stellar_mass = float(stars_1_rows[row_idx][stars_header.index(\"Stellar Mass [Solar mass]\")])\n",
    "stellar_luminosity = float(stars_1_rows[row_idx][stars_header.index(\"Stellar Luminosity [log(Solar)]\")])\n",
    "stellar_surface_gravity = float(stars_1_rows[row_idx][stars_header.index(\"Stellar Surface Gravity [log10(cm/s**2)]\")])\n",
    "stellar_age = float(stars_1_rows[row_idx][stars_header.index(\"Stellar Age [Gyr]\")])\n",
    "\n",
    "# initialize 'second_star'\n",
    "second_star = Star(spectral_type, stellar_effective_temperature, stellar_radius, \\\n",
    "                  stellar_mass, stellar_luminosity, \\\n",
    "                  stellar_surface_gravity, stellar_age)\n",
    "\n",
    "second_star"
   ]
  },
  {
   "cell_type": "code",
   "execution_count": 29,
   "id": "05685b12",
   "metadata": {
    "deletable": false,
    "editable": true,
    "slideshow": {
     "slide_type": ""
    },
    "tags": []
   },
   "outputs": [
    {
     "name": "stdout",
     "output_type": "stream",
     "text": [
      "Make sure you saved the notebook before running this cell. Running check for lab-q10...\n",
      "Great job! You passed all test cases for this question.\n"
     ]
    },
    {
     "data": {
      "text/plain": [
       "True"
      ]
     },
     "execution_count": 29,
     "metadata": {},
     "output_type": "execute_result"
    }
   ],
   "source": [
    "student_grader.check(\"lab-q10\", should_get_llm_feedback=False)"
   ]
  },
  {
   "cell_type": "markdown",
   "id": "768672c8-71e2-40b5-a78d-4ef7cacb8675",
   "metadata": {
    "deletable": false,
    "editable": false,
    "slideshow": {
     "slide_type": ""
    },
    "tags": []
   },
   "source": [
    "#### Lab Question 11: What is the `spectral_type` of the **second** star in `\"stars_1.csv\"`?"
   ]
  },
  {
   "cell_type": "markdown",
   "id": "8d114c5c-00f8-4904-926b-6b51af81da2e",
   "metadata": {
    "deletable": false,
    "editable": false,
    "slideshow": {
     "slide_type": ""
    },
    "tags": []
   },
   "source": [
    "You **must** answer this question by accessing the correct **attribute** of the `Star` object `second_star`."
   ]
  },
  {
   "cell_type": "markdown",
   "id": "f578c2f2-452c-4459-90f5-6e26d6ca017c",
   "metadata": {
    "deletable": false,
    "editable": false,
    "slideshow": {
     "slide_type": ""
    },
    "tags": []
   },
   "source": [
    "Points possible: 3.0"
   ]
  },
  {
   "cell_type": "code",
   "execution_count": 30,
   "id": "3e33a5b1-841a-489f-9c5c-931ef994fb59",
   "metadata": {
    "deletable": false,
    "editable": true,
    "slideshow": {
     "slide_type": ""
    },
    "tags": [
     "lab-q11-code"
    ]
   },
   "outputs": [
    {
     "data": {
      "text/plain": [
       "'F8V'"
      ]
     },
     "execution_count": 30,
     "metadata": {},
     "output_type": "execute_result"
    }
   ],
   "source": [
    "# we have done this one for you\n",
    "\n",
    "second_star_spectral_type = second_star.spectral_type\n",
    "\n",
    "second_star_spectral_type"
   ]
  },
  {
   "cell_type": "code",
   "execution_count": 31,
   "id": "bb463648-208e-4a4e-9b7c-7624cdaf4ddf",
   "metadata": {
    "deletable": false,
    "editable": true,
    "slideshow": {
     "slide_type": ""
    },
    "tags": []
   },
   "outputs": [
    {
     "name": "stdout",
     "output_type": "stream",
     "text": [
      "Make sure you saved the notebook before running this cell. Running check for lab-q11...\n",
      "Great job! You passed all test cases for this question.\n"
     ]
    },
    {
     "data": {
      "text/plain": [
       "True"
      ]
     },
     "execution_count": 31,
     "metadata": {},
     "output_type": "execute_result"
    }
   ],
   "source": [
    "student_grader.check(\"lab-q11\", should_get_llm_feedback=False)"
   ]
  },
  {
   "cell_type": "markdown",
   "id": "ef13df7c-aced-4716-93af-986b1f9defc1",
   "metadata": {
    "deletable": false,
    "editable": false,
    "slideshow": {
     "slide_type": ""
    },
    "tags": []
   },
   "source": [
    "#### Lab Question 12: What is the `stellar_age` of the **first** star in `\"stars_1.csv\"`?"
   ]
  },
  {
   "cell_type": "markdown",
   "id": "559ee9a8-5a84-4d47-bd7b-a729d60852a4",
   "metadata": {
    "deletable": false,
    "editable": false,
    "slideshow": {
     "slide_type": ""
    },
    "tags": []
   },
   "source": [
    "You **must** answer this question by accessing the correct **attribute** of the `Star` object `first_star`.|"
   ]
  },
  {
   "cell_type": "markdown",
   "id": "27827df7-2990-4405-95c5-20cb7a64be48",
   "metadata": {
    "deletable": false,
    "editable": false,
    "slideshow": {
     "slide_type": ""
    },
    "tags": []
   },
   "source": [
    "Points possible: 3.0"
   ]
  },
  {
   "cell_type": "code",
   "execution_count": 32,
   "id": "edcff06a-9204-4037-90d9-777a711e68d8",
   "metadata": {
    "deletable": false,
    "editable": true,
    "slideshow": {
     "slide_type": ""
    },
    "tags": [
     "lab-q12-code"
    ]
   },
   "outputs": [
    {
     "data": {
      "text/plain": [
       "10.2"
      ]
     },
     "execution_count": 32,
     "metadata": {},
     "output_type": "execute_result"
    }
   ],
   "source": [
    "# compute and store the answer in the variable 'first_star_stellar_age', then display it\n",
    "first_star_stellar_age = first_star.stellar_age\n",
    "\n",
    "first_star_stellar_age"
   ]
  },
  {
   "cell_type": "code",
   "execution_count": 33,
   "id": "cfb3c9bc-df26-4bd5-9382-ddfff855848c",
   "metadata": {
    "deletable": false,
    "editable": true,
    "slideshow": {
     "slide_type": ""
    },
    "tags": []
   },
   "outputs": [
    {
     "name": "stdout",
     "output_type": "stream",
     "text": [
      "Make sure you saved the notebook before running this cell. Running check for lab-q12...\n",
      "Great job! You passed all test cases for this question.\n"
     ]
    },
    {
     "data": {
      "text/plain": [
       "True"
      ]
     },
     "execution_count": 33,
     "metadata": {},
     "output_type": "execute_result"
    }
   ],
   "source": [
    "student_grader.check(\"lab-q12\", should_get_llm_feedback=False)"
   ]
  },
  {
   "cell_type": "markdown",
   "id": "961d0338-0148-4750-9396-9c47cbad3c8d",
   "metadata": {
    "deletable": false,
    "editable": false,
    "slideshow": {
     "slide_type": ""
    },
    "tags": []
   },
   "source": [
    "#### Lab Question 13: What is the **ratio** of the `stellar_radius` of the **first** star in `\"stars_1.csv\"` to the **second** star in `\"stars_1.csv\"`?"
   ]
  },
  {
   "cell_type": "markdown",
   "id": "b475e75f-a946-4af3-9a1d-abef0a409ae2",
   "metadata": {
    "deletable": false,
    "editable": false,
    "slideshow": {
     "slide_type": ""
    },
    "tags": []
   },
   "source": [
    "You **must** answer this question by accessing the correct **attribute** of the `Star` objects `first_star` and `second_star`. "
   ]
  },
  {
   "cell_type": "markdown",
   "id": "07b53c79-96ea-436c-aacf-d0656eb5c73d",
   "metadata": {
    "deletable": false,
    "editable": false,
    "slideshow": {
     "slide_type": ""
    },
    "tags": []
   },
   "source": [
    "Points possible: 3.0"
   ]
  },
  {
   "cell_type": "code",
   "execution_count": 34,
   "id": "9fb54f7a-6cf8-4d8a-91db-f331879aa2ca",
   "metadata": {
    "deletable": false,
    "editable": true,
    "slideshow": {
     "slide_type": ""
    },
    "tags": [
     "lab-q13-code"
    ]
   },
   "outputs": [
    {
     "data": {
      "text/plain": [
       "0.7460317460317459"
      ]
     },
     "execution_count": 34,
     "metadata": {},
     "output_type": "execute_result"
    }
   ],
   "source": [
    "# compute and store the answer in the variable 'stellar_radius_ratio', then display it\n",
    "stellar_radius_ratio = first_star.stellar_radius / second_star.stellar_radius\n",
    "\n",
    "stellar_radius_ratio"
   ]
  },
  {
   "cell_type": "code",
   "execution_count": 35,
   "id": "06940a49-f593-4a1c-bce1-6c8c6238076a",
   "metadata": {
    "deletable": false,
    "editable": true,
    "slideshow": {
     "slide_type": ""
    },
    "tags": []
   },
   "outputs": [
    {
     "name": "stdout",
     "output_type": "stream",
     "text": [
      "Make sure you saved the notebook before running this cell. Running check for lab-q13...\n",
      "Great job! You passed all test cases for this question.\n"
     ]
    },
    {
     "data": {
      "text/plain": [
       "True"
      ]
     },
     "execution_count": 35,
     "metadata": {},
     "output_type": "execute_result"
    }
   ],
   "source": [
    "student_grader.check(\"lab-q13\", should_get_llm_feedback=False)"
   ]
  },
  {
   "cell_type": "markdown",
   "id": "b120c166-efb1-4d33-b26d-9ecffdff6a31",
   "metadata": {
    "deletable": false,
    "editable": false,
    "slideshow": {
     "slide_type": ""
    },
    "tags": []
   },
   "source": [
    "#### Lab Question 14: Create a **dictionary** mapping the `name` of each star in `\"stars_1.csv\"` to its `Star` object."
   ]
  },
  {
   "cell_type": "markdown",
   "id": "6ec3e623-e134-45b0-9e04-059427e2c4b5",
   "metadata": {
    "deletable": false,
    "editable": false,
    "slideshow": {
     "slide_type": ""
    },
    "tags": []
   },
   "source": [
    "Your output **must** look like this:\n",
    "```python\n",
    "{'55 Cnc': Star(spectral_type='G8V', stellar_effective_temperature=5172.0, stellar_radius=0.94, \n",
    "                stellar_mass=0.91, stellar_luminosity=-0.197, stellar_surface_gravity=4.43, stellar_age=10.2),\n",
    " 'DMPP-1': Star(spectral_type='F8V', stellar_effective_temperature=6196.0, stellar_radius=1.26, \n",
    "                stellar_mass=1.21, stellar_luminosity=0.32, stellar_surface_gravity=4.41, stellar_age=2.01),\n",
    " 'GJ 876': Star(spectral_type='M2.5V', stellar_effective_temperature=3271.0, stellar_radius=0.3, \n",
    "                stellar_mass=0.32, stellar_luminosity=-1.907, stellar_surface_gravity=4.87, stellar_age=1.0)}\n",
    "```"
   ]
  },
  {
   "cell_type": "markdown",
   "id": "d40ac295-bedd-4511-8f2f-122b7024c4e5",
   "metadata": {
    "deletable": false,
    "editable": false,
    "slideshow": {
     "slide_type": ""
    },
    "tags": []
   },
   "source": [
    "Points possible: 3.0"
   ]
  },
  {
   "cell_type": "code",
   "execution_count": 36,
   "id": "c65a1a38-1bdf-4efb-ade9-ad5d784c8e75",
   "metadata": {
    "deletable": false,
    "editable": true,
    "slideshow": {
     "slide_type": ""
    },
    "tags": [
     "lab-q14-code"
    ]
   },
   "outputs": [
    {
     "data": {
      "text/plain": [
       "{'55 Cnc': Star(spectral_type='G8V', stellar_effective_temperature=5172.0, stellar_radius=0.94, stellar_mass=0.91, stellar_luminosity=-0.197, stellar_surface_gravity=4.43, stellar_age=10.2),\n",
       " 'DMPP-1': Star(spectral_type='F8V', stellar_effective_temperature=6196.0, stellar_radius=1.26, stellar_mass=1.21, stellar_luminosity=0.32, stellar_surface_gravity=4.41, stellar_age=2.01),\n",
       " 'GJ 876': Star(spectral_type='M2.5V', stellar_effective_temperature=3271.0, stellar_radius=0.3, stellar_mass=0.32, stellar_luminosity=-1.907, stellar_surface_gravity=4.87, stellar_age=1.0)}"
      ]
     },
     "execution_count": 36,
     "metadata": {},
     "output_type": "execute_result"
    }
   ],
   "source": [
    "# replace the ... with your code\n",
    "\n",
    "stars_1_dict = {} # initialize empty dictionary to store all stars\n",
    "\n",
    "for row_idx in range(len(stars_1_rows)):\n",
    "    star_name = stars_1_rows[row_idx][stars_header.index(\"Star Name\")] #stars_1_rows[row_idx][stars_header.index(...)]\n",
    "    spectral_type = stars_1_rows[row_idx][stars_header.index(\"Spectral Type\")]\n",
    "    stellar_effective_temperature = float(stars_1_rows[row_idx][stars_header.index(\"Stellar Effective Temperature [K]\")])\n",
    "    # extract the other columns from 'stars_1_rows'\n",
    "    stellar_radius = float(stars_1_rows[row_idx][stars_header.index(\"Stellar Radius [Solar Radius]\")])\n",
    "    stellar_mass = float(stars_1_rows[row_idx][stars_header.index(\"Stellar Mass [Solar mass]\")])\n",
    "    stellar_luminosity = float(stars_1_rows[row_idx][stars_header.index(\"Stellar Luminosity [log(Solar)]\")])\n",
    "    stellar_surface_gravity = float(stars_1_rows[row_idx][stars_header.index(\"Stellar Surface Gravity [log10(cm/s**2)]\")])\n",
    "    stellar_age = float(stars_1_rows[row_idx][stars_header.index(\"Stellar Age [Gyr]\")])\n",
    "\n",
    "    star = Star(spectral_type, stellar_effective_temperature, stellar_radius, \\\n",
    "                  stellar_mass, stellar_luminosity, \\\n",
    "                  stellar_surface_gravity, stellar_age) # initialize the 'Star' object using the variables defined above\n",
    "    stars_1_dict[star_name] = star\n",
    "\n",
    "stars_1_dict"
   ]
  },
  {
   "cell_type": "code",
   "execution_count": 37,
   "id": "31faaf66-e7cf-4b6f-b198-7439daad6244",
   "metadata": {
    "deletable": false,
    "editable": true,
    "slideshow": {
     "slide_type": ""
    },
    "tags": []
   },
   "outputs": [
    {
     "name": "stdout",
     "output_type": "stream",
     "text": [
      "Make sure you saved the notebook before running this cell. Running check for lab-q14...\n",
      "Great job! You passed all test cases for this question.\n"
     ]
    },
    {
     "data": {
      "text/plain": [
       "True"
      ]
     },
     "execution_count": 37,
     "metadata": {},
     "output_type": "execute_result"
    }
   ],
   "source": [
    "student_grader.check(\"lab-q14\", should_get_llm_feedback=False)"
   ]
  },
  {
   "cell_type": "markdown",
   "id": "270f0e49-c196-4a62-8945-9b9b02b09614",
   "metadata": {
    "deletable": false,
    "editable": false,
    "slideshow": {
     "slide_type": ""
    },
    "tags": []
   },
   "source": [
    "#### Lab Question 15: What is the `Star` object of the star (in `stars_1.csv`) named *GJ 876*?"
   ]
  },
  {
   "cell_type": "markdown",
   "id": "d5427dad-671f-482a-8174-b5af244eb7be",
   "metadata": {
    "deletable": false,
    "editable": false,
    "slideshow": {
     "slide_type": ""
    },
    "tags": []
   },
   "source": [
    "You **must** access the `Star` object in `stars_1_dict` **dictionary** defined above to answer this question."
   ]
  },
  {
   "cell_type": "markdown",
   "id": "bc05a313-2350-4482-b2da-7551da29d642",
   "metadata": {
    "deletable": false,
    "editable": false,
    "slideshow": {
     "slide_type": ""
    },
    "tags": []
   },
   "source": [
    "Points possible: 2.0"
   ]
  },
  {
   "cell_type": "code",
   "execution_count": 38,
   "id": "7583db52-ff65-4c26-bb70-93be32785706",
   "metadata": {
    "deletable": false,
    "editable": true,
    "slideshow": {
     "slide_type": ""
    },
    "tags": [
     "lab-q15-code"
    ]
   },
   "outputs": [
    {
     "data": {
      "text/plain": [
       "Star(spectral_type='M2.5V', stellar_effective_temperature=3271.0, stellar_radius=0.3, stellar_mass=0.32, stellar_luminosity=-1.907, stellar_surface_gravity=4.87, stellar_age=1.0)"
      ]
     },
     "execution_count": 38,
     "metadata": {},
     "output_type": "execute_result"
    }
   ],
   "source": [
    "# compute and store the answer in the variable 'gj_876', then display it\n",
    "gj_876 = stars_1_dict[\"GJ 876\"]\n",
    "\n",
    "gj_876"
   ]
  },
  {
   "cell_type": "code",
   "execution_count": 39,
   "id": "1b32157c-ec15-4d99-af40-5f3139146b06",
   "metadata": {
    "deletable": false,
    "editable": true,
    "slideshow": {
     "slide_type": ""
    },
    "tags": []
   },
   "outputs": [
    {
     "name": "stdout",
     "output_type": "stream",
     "text": [
      "Make sure you saved the notebook before running this cell. Running check for lab-q15...\n",
      "Great job! You passed all test cases for this question.\n"
     ]
    },
    {
     "data": {
      "text/plain": [
       "True"
      ]
     },
     "execution_count": 39,
     "metadata": {},
     "output_type": "execute_result"
    }
   ],
   "source": [
    "student_grader.check(\"lab-q15\", should_get_llm_feedback=False)"
   ]
  },
  {
   "cell_type": "markdown",
   "id": "f9076e77-e9b2-4bd7-8f50-f09c9ea28d54",
   "metadata": {
    "deletable": false,
    "editable": false,
    "slideshow": {
     "slide_type": ""
    },
    "tags": []
   },
   "source": [
    "#### Lab Question 16: What is the `stellar_luminosity` of the star (in `stars_1.csv`) named *GJ 876*?"
   ]
  },
  {
   "cell_type": "markdown",
   "id": "a1d57320-39e3-4b42-a0d2-3d5264ec7ff8",
   "metadata": {
    "deletable": false,
    "editable": false,
    "slideshow": {
     "slide_type": ""
    },
    "tags": []
   },
   "source": [
    "You **must** access the `Star` object in `stars_1_dict` **dictionary** defined above to answer this question."
   ]
  },
  {
   "cell_type": "markdown",
   "id": "b39d7ac2-e46f-4eb5-8cda-43a6b8d35909",
   "metadata": {
    "deletable": false,
    "editable": false,
    "slideshow": {
     "slide_type": ""
    },
    "tags": []
   },
   "source": [
    "Points possible: 2.0"
   ]
  },
  {
   "cell_type": "code",
   "execution_count": 40,
   "id": "4f095a0e-f08e-4ce9-af30-bec2fc3a5a99",
   "metadata": {
    "deletable": false,
    "editable": true,
    "slideshow": {
     "slide_type": ""
    },
    "tags": [
     "lab-q16-code"
    ]
   },
   "outputs": [
    {
     "data": {
      "text/plain": [
       "-1.907"
      ]
     },
     "execution_count": 40,
     "metadata": {},
     "output_type": "execute_result"
    }
   ],
   "source": [
    "# compute and store the answer in the variable 'gj_876_luminosity', then display it\n",
    "gj_876_luminosity = stars_1_dict[\"GJ 876\"].stellar_luminosity\n",
    "\n",
    "gj_876_luminosity"
   ]
  },
  {
   "cell_type": "code",
   "execution_count": 41,
   "id": "b588b9b0-b5a0-4405-8a5f-1c1f0e55049d",
   "metadata": {
    "deletable": false,
    "editable": true,
    "slideshow": {
     "slide_type": ""
    },
    "tags": []
   },
   "outputs": [
    {
     "name": "stdout",
     "output_type": "stream",
     "text": [
      "Make sure you saved the notebook before running this cell. Running check for lab-q16...\n",
      "Great job! You passed all test cases for this question.\n"
     ]
    },
    {
     "data": {
      "text/plain": [
       "True"
      ]
     },
     "execution_count": 41,
     "metadata": {},
     "output_type": "execute_result"
    }
   ],
   "source": [
    "student_grader.check(\"lab-q16\", should_get_llm_feedback=False)"
   ]
  },
  {
   "cell_type": "markdown",
   "id": "e88bb670-f4df-4822-952f-0e9f84fffd1a",
   "metadata": {
    "deletable": false,
    "editable": false
   },
   "source": [
    "### Segment 3.2: Data Cleaning - missing data"
   ]
  },
  {
   "cell_type": "markdown",
   "id": "c4d1a7e1-df6f-4bac-a4c1-c126346f20bc",
   "metadata": {
    "deletable": false,
    "editable": false
   },
   "source": [
    "We have already parsed the data in `stars_1.csv`. We are now ready to parse the data in **all** the star files of the `small_data` directory. However, there is one minor inconvenience - there is some missing data in `stars_2.csv` and `stars_3.csv`. For example, this is the **first** row of `stars_2.csv`:\n",
    "\n",
    "```python\n",
    "['HD 158259', 'G0', '5801.89', '1.21', '1.08', '0.212', '4.25', '']\n",
    "```\n",
    "\n",
    "As you can see, the value of the last column (`Stellar Age [Gyr]`) is `''`, which means that the data is missing. When the data is missing, we will want the value of the corresponding attribute in the `Star` object to be `None`.\n",
    "\n",
    "So, for example, if we are to convert the row above to be a `Star` object, it should look like:\n",
    "\n",
    "```python\n",
    "Star(spectral_type='G0', stellar_effective_temperature=5801.89, stellar_radius=1.21, stellar_mass=1.08,\n",
    "     stellar_luminosity=0.212, stellar_surface_gravity=4.25, stellar_age=None)\n",
    "```"
   ]
  },
  {
   "cell_type": "markdown",
   "id": "23b0d8e1-6e35-49f2-b29b-27f599a3468a",
   "metadata": {
    "deletable": false,
    "editable": false
   },
   "source": [
    "### Lab Function 1: `star_cell(row_idx, col_name, stars_rows, header=stars_header)`"
   ]
  },
  {
   "cell_type": "markdown",
   "id": "06583ae5-24d8-4082-b6f1-a2eb82d73aa2",
   "metadata": {
    "deletable": false,
    "editable": false
   },
   "source": [
    "Since we need to clean the values of the **list** of **lists** `stars_rows` before we can create our required data structure (**dictionary** mapping **strings** to `Star` objects), now would be a good time to create a function that takes in a `row_idx`, a `col_name` and a **list** of **lists** `stars_rows` (as well as the optional argument `header`) and returns the value of the column `col_name` at the row `row_idx`.\n",
    "\n",
    "This function **must** typecast the values it returns based on the `col_name`. If the value in `stars_rows` is missing (i.e., it is `''`), then the value returned **must** be `None`.\n",
    "\n",
    "Recall that the **column** of `stars_rows` where the value should be obtained from, and the correct **data type** for the value are listed in the table below:\n",
    "\n",
    "|Column of `stars_rows`|Data Type|\n",
    "|------|---------|\n",
    "|Star Name|**string**|\n",
    "|Spectral Type|**string**|\n",
    "|Stellar Effective Temperature [K]|**float**|\n",
    "|Stellar Radius [Solar Radius]|**float**|\n",
    "|Stellar Mass [Solar mass]|**float**|\n",
    "|Stellar Luminosity [log(Solar)]|**float**|\n",
    "|Stellar Surface Gravity [log10(cm/s**2)]|**float**|\n",
    "|Stellar Age [Gyr]|**float**|\n",
    "\n",
    "**Hint:** You can use the `cell` function defined in P6 and P7 for inspiration here."
   ]
  },
  {
   "cell_type": "markdown",
   "id": "42f5efa1-743a-4a70-973c-9fdc848d0d8d",
   "metadata": {
    "deletable": false,
    "editable": false,
    "slideshow": {
     "slide_type": ""
    },
    "tags": []
   },
   "source": [
    "Points possible: 2.0"
   ]
  },
  {
   "cell_type": "code",
   "execution_count": 42,
   "id": "61510b84-d811-456c-b32f-a8d81de22b55",
   "metadata": {
    "deletable": false,
    "editable": true,
    "slideshow": {
     "slide_type": ""
    },
    "tags": [
     "lab-star_cell-code"
    ]
   },
   "outputs": [],
   "source": [
    "# replace the ... with your code\n",
    "\n",
    "# the default argument to the parameter 'header' is the global variable 'stars_header' defined above\n",
    "def star_cell(row_idx, col_name, stars_rows, header=stars_header):\n",
    "    col_idx = header.index(col_name)\n",
    "    val = stars_rows[row_idx][col_idx]\n",
    "    # return None if value is missing\n",
    "    # else typecast 'val' and return it depending on 'col_name'\n",
    "\n",
    "    if val in '':\n",
    "        return None\n",
    "\n",
    "    if col_name in [\n",
    "        \"Stellar Effective Temperature [K]\",\n",
    "        \"Stellar Radius [Solar Radius]\",\n",
    "        \"Stellar Mass [Solar mass]\",\n",
    "        \"Stellar Luminosity [log(Solar)]\",\n",
    "        \"Stellar Surface Gravity [log10(cm/s**2)]\",\n",
    "        \"Stellar Age [Gyr]\"\n",
    "    ]:\n",
    "        return float(val)\n",
    "\n",
    "    return val"
   ]
  },
  {
   "cell_type": "code",
   "execution_count": 43,
   "id": "2fa85e0e-c799-4131-ab6c-fe1072eb03ed",
   "metadata": {
    "deletable": false,
    "editable": true,
    "slideshow": {
     "slide_type": ""
    },
    "tags": []
   },
   "outputs": [
    {
     "name": "stdout",
     "output_type": "stream",
     "text": [
      "Make sure you saved the notebook before running this cell. Running check for lab-star_cell...\n",
      "Great job! You passed all test cases for this question.\n"
     ]
    },
    {
     "data": {
      "text/plain": [
       "True"
      ]
     },
     "execution_count": 43,
     "metadata": {},
     "output_type": "execute_result"
    }
   ],
   "source": [
    "student_grader.check(\"lab-star_cell\", should_get_llm_feedback=False)"
   ]
  },
  {
   "cell_type": "markdown",
   "id": "073d5ced-5c6a-4671-8644-99061fd6179d",
   "metadata": {
    "deletable": false,
    "editable": false,
    "slideshow": {
     "slide_type": ""
    },
    "tags": []
   },
   "source": [
    "#### Lab Question 17: Use the `star_cell` function to find the value of the column `\"Spectral Type\"` of the **first** star in `\"stars_2.csv\"`."
   ]
  },
  {
   "cell_type": "markdown",
   "id": "ed8d0bed-0d1c-4388-b8ff-86e492fc23e1",
   "metadata": {
    "deletable": false,
    "editable": false,
    "slideshow": {
     "slide_type": ""
    },
    "tags": []
   },
   "source": [
    "Points possible: 2.0"
   ]
  },
  {
   "cell_type": "code",
   "execution_count": 44,
   "id": "fd5577c5-9cbc-45bb-89f0-029f262c16a3",
   "metadata": {
    "deletable": false,
    "editable": true,
    "slideshow": {
     "slide_type": ""
    },
    "tags": [
     "lab-q17-code"
    ]
   },
   "outputs": [
    {
     "data": {
      "text/plain": [
       "'G0'"
      ]
     },
     "execution_count": 44,
     "metadata": {},
     "output_type": "execute_result"
    }
   ],
   "source": [
    "# we have done this one for you\n",
    "\n",
    "# first read the data in 'stars_2.csv' as a list of lists\n",
    "stars_2_data = process_csv(os.path.join(\"small_data\", \"stars_2.csv\"))\n",
    "stars_2_rows = stars_2_data[1:]\n",
    "\n",
    "# use the 'star_cell' function to extract the correct value\n",
    "first_star_type = star_cell(0, 'Spectral Type', stars_2_rows)\n",
    "\n",
    "first_star_type"
   ]
  },
  {
   "cell_type": "code",
   "execution_count": 45,
   "id": "9e0d4050-d506-41b2-a07b-73c2466eda84",
   "metadata": {
    "deletable": false,
    "editable": true,
    "scrolled": true,
    "slideshow": {
     "slide_type": ""
    },
    "tags": []
   },
   "outputs": [
    {
     "name": "stdout",
     "output_type": "stream",
     "text": [
      "Make sure you saved the notebook before running this cell. Running check for lab-q17...\n",
      "Great job! You passed all test cases for this question.\n"
     ]
    },
    {
     "data": {
      "text/plain": [
       "True"
      ]
     },
     "execution_count": 45,
     "metadata": {},
     "output_type": "execute_result"
    }
   ],
   "source": [
    "student_grader.check(\"lab-q17\", should_get_llm_feedback=False)"
   ]
  },
  {
   "cell_type": "markdown",
   "id": "556aada2-cf6f-4542-8239-b353433d02de",
   "metadata": {
    "deletable": false,
    "editable": false,
    "slideshow": {
     "slide_type": ""
    },
    "tags": []
   },
   "source": [
    "#### Lab Question 18: Use the `star_cell` function to find the value of the column `\"Stellar Age [Gyr]\"` of the **second** star in `\"stars_2.csv\"`.|"
   ]
  },
  {
   "cell_type": "markdown",
   "id": "1c5fdb44-080e-4664-88c0-a143ca43b1bb",
   "metadata": {
    "deletable": false,
    "editable": false,
    "slideshow": {
     "slide_type": ""
    },
    "tags": []
   },
   "source": [
    "Points possible: 2.0"
   ]
  },
  {
   "cell_type": "code",
   "execution_count": 46,
   "id": "07d12e2b-94da-4316-a387-e4495297f9de",
   "metadata": {
    "deletable": false,
    "editable": true,
    "slideshow": {
     "slide_type": ""
    },
    "tags": [
     "lab-q18-code"
    ]
   },
   "outputs": [],
   "source": [
    "# we have done this one for you\n",
    "# do not worry if there is no output, the variable is expected to hold the value None\n",
    "\n",
    "# use the 'star_cell' function to extract the correct value\n",
    "second_star_age = star_cell(1, 'Stellar Age [Gyr]', stars_2_rows)\n",
    "\n",
    "second_star_age"
   ]
  },
  {
   "cell_type": "code",
   "execution_count": 47,
   "id": "169cab24-8136-42b5-982f-a06203b027eb",
   "metadata": {
    "deletable": false,
    "editable": true,
    "slideshow": {
     "slide_type": ""
    },
    "tags": []
   },
   "outputs": [
    {
     "name": "stdout",
     "output_type": "stream",
     "text": [
      "Make sure you saved the notebook before running this cell. Running check for lab-q18...\n",
      "Great job! You passed all test cases for this question.\n"
     ]
    },
    {
     "data": {
      "text/plain": [
       "True"
      ]
     },
     "execution_count": 47,
     "metadata": {},
     "output_type": "execute_result"
    }
   ],
   "source": [
    "student_grader.check(\"lab-q18\", should_get_llm_feedback=False)"
   ]
  },
  {
   "cell_type": "markdown",
   "id": "15addd7f-4118-4f4f-bbfa-9b35f4c31c32",
   "metadata": {
    "deletable": false,
    "editable": false,
    "slideshow": {
     "slide_type": ""
    },
    "tags": []
   },
   "source": [
    "#### Lab Question 19: Use the `star_cell` function to find the value of the column `\"Stellar Mass [Solar mass]\"` of the **third** star in `\"stars_2.csv\"`."
   ]
  },
  {
   "cell_type": "markdown",
   "id": "2233bc8f-787c-43c0-b0ba-a266b6fd9d1e",
   "metadata": {
    "deletable": false,
    "editable": false,
    "slideshow": {
     "slide_type": ""
    },
    "tags": []
   },
   "source": [
    "Points possible: 2.0"
   ]
  },
  {
   "cell_type": "code",
   "execution_count": 48,
   "id": "c473c5c0-6fed-4863-8ece-69fd9d43d52a",
   "metadata": {
    "deletable": false,
    "editable": true,
    "slideshow": {
     "slide_type": ""
    },
    "tags": [
     "lab-q19-code"
    ]
   },
   "outputs": [
    {
     "data": {
      "text/plain": [
       "1.04"
      ]
     },
     "execution_count": 48,
     "metadata": {},
     "output_type": "execute_result"
    }
   ],
   "source": [
    "# we have done this one for you\n",
    "\n",
    "# use the 'star_cell' function to extract the correct value\n",
    "third_star_mass = star_cell(2, 'Stellar Mass [Solar mass]', stars_2_rows)\n",
    "\n",
    "third_star_mass"
   ]
  },
  {
   "cell_type": "code",
   "execution_count": 49,
   "id": "fa98c92b-0684-4b5e-a1a6-2f7b46e84c84",
   "metadata": {
    "deletable": false,
    "editable": true,
    "slideshow": {
     "slide_type": ""
    },
    "tags": []
   },
   "outputs": [
    {
     "name": "stdout",
     "output_type": "stream",
     "text": [
      "Make sure you saved the notebook before running this cell. Running check for lab-q19...\n",
      "Great job! You passed all test cases for this question.\n"
     ]
    },
    {
     "data": {
      "text/plain": [
       "True"
      ]
     },
     "execution_count": 49,
     "metadata": {},
     "output_type": "execute_result"
    }
   ],
   "source": [
    "student_grader.check(\"lab-q19\", should_get_llm_feedback=False)"
   ]
  },
  {
   "cell_type": "markdown",
   "id": "c66b6816-368a-4876-9324-1aaa67bbbf73",
   "metadata": {
    "deletable": false,
    "editable": false,
    "slideshow": {
     "slide_type": ""
    },
    "tags": []
   },
   "source": [
    "#### Lab Question 20: Create a **dictionary** mapping the `name` of each star in `\"stars_2.csv\"` to its `Star` object."
   ]
  },
  {
   "cell_type": "markdown",
   "id": "3652a4b3-f336-4c1e-a5a0-0eb25995b749",
   "metadata": {
    "deletable": false,
    "editable": false,
    "slideshow": {
     "slide_type": ""
    },
    "tags": []
   },
   "source": [
    "You **must** use the `star_cell` function to extract data from `stars_2.csv`.\n",
    "\n",
    "Your output **must** look like this:\n",
    "```python\n",
    "{'HD 158259': Star(spectral_type='G0', stellar_effective_temperature=5801.89, stellar_radius=1.21, \n",
    "                   stellar_mass=1.08, stellar_luminosity=0.212, stellar_surface_gravity=4.25, stellar_age=None),\n",
    " 'K2-187': Star(spectral_type=None, stellar_effective_temperature=5438.0, stellar_radius=0.83, \n",
    "                stellar_mass=0.97, stellar_luminosity=-0.21, stellar_surface_gravity=4.6, stellar_age=None),\n",
    " 'WASP-47': Star(spectral_type=None, stellar_effective_temperature=5552.0, stellar_radius=1.14, \n",
    "                 stellar_mass=1.04, stellar_luminosity=0.032, stellar_surface_gravity=4.34, stellar_age=6.5)}\n",
    "```"
   ]
  },
  {
   "cell_type": "markdown",
   "id": "0b1f5f63-9691-4e2c-999d-17c3646d5044",
   "metadata": {
    "deletable": false,
    "editable": false,
    "slideshow": {
     "slide_type": ""
    },
    "tags": []
   },
   "source": [
    "Points possible: 2.0"
   ]
  },
  {
   "cell_type": "code",
   "execution_count": 50,
   "id": "47097e8b-b63f-44a7-bb1a-7e4896129c98",
   "metadata": {
    "deletable": false,
    "editable": true,
    "slideshow": {
     "slide_type": ""
    },
    "tags": [
     "lab-q20-code"
    ]
   },
   "outputs": [
    {
     "data": {
      "text/plain": [
       "{'HD 158259': Star(spectral_type='G0', stellar_effective_temperature=5801.89, stellar_radius=1.21, stellar_mass=1.08, stellar_luminosity=0.212, stellar_surface_gravity=4.25, stellar_age=None),\n",
       " 'K2-187': Star(spectral_type=None, stellar_effective_temperature=5438.0, stellar_radius=0.83, stellar_mass=0.97, stellar_luminosity=-0.21, stellar_surface_gravity=4.6, stellar_age=None),\n",
       " 'WASP-47': Star(spectral_type=None, stellar_effective_temperature=5552.0, stellar_radius=1.14, stellar_mass=1.04, stellar_luminosity=0.032, stellar_surface_gravity=4.34, stellar_age=6.5)}"
      ]
     },
     "execution_count": 50,
     "metadata": {},
     "output_type": "execute_result"
    }
   ],
   "source": [
    "# replace the ... with your code\n",
    "stars_2_dict = {} # initialize empty dictionary to store all stars\n",
    "\n",
    "for row_idx in range(len(stars_2_rows)):\n",
    "    star_name = star_cell(row_idx, 'Star Name', stars_2_rows)\n",
    "    spectral_type = star_cell(row_idx, 'Spectral Type', stars_2_rows)\n",
    "    stellar_effective_temperature = float(star_cell(row_idx, 'Stellar Effective Temperature [K]', stars_2_rows))\n",
    "    # extract the other columns from 'stars_2_rows'\n",
    "    stellar_radius = float(star_cell(row_idx, 'Stellar Radius [Solar Radius]', stars_2_rows))\n",
    "    stellar_mass = float(star_cell(row_idx, 'Stellar Mass [Solar mass]', stars_2_rows))\n",
    "    stellar_luminosity = float(star_cell(row_idx, 'Stellar Luminosity [log(Solar)]', stars_2_rows))\n",
    "    stellar_surface_gravity = float(star_cell(row_idx, 'Stellar Surface Gravity [log10(cm/s**2)]', stars_2_rows))\n",
    "    stellar_age = star_cell(row_idx, 'Stellar Age [Gyr]', stars_2_rows)\n",
    "    \n",
    "    star = Star(spectral_type, stellar_effective_temperature, stellar_radius, \\\n",
    "                  stellar_mass, stellar_luminosity, \\\n",
    "                  stellar_surface_gravity, stellar_age) # initialize the 'Star' object using the variables defined above\n",
    "    stars_2_dict[star_name] = star\n",
    "\n",
    "stars_2_dict"
   ]
  },
  {
   "cell_type": "code",
   "execution_count": 51,
   "id": "6da04602-b114-4a30-adc2-e8c030849200",
   "metadata": {
    "deletable": false,
    "editable": true,
    "slideshow": {
     "slide_type": ""
    },
    "tags": []
   },
   "outputs": [
    {
     "name": "stdout",
     "output_type": "stream",
     "text": [
      "Make sure you saved the notebook before running this cell. Running check for lab-q20...\n",
      "Great job! You passed all test cases for this question.\n"
     ]
    },
    {
     "data": {
      "text/plain": [
       "True"
      ]
     },
     "execution_count": 51,
     "metadata": {},
     "output_type": "execute_result"
    }
   ],
   "source": [
    "student_grader.check(\"lab-q20\", should_get_llm_feedback=False)"
   ]
  },
  {
   "cell_type": "markdown",
   "id": "097705ae-650b-4cd6-8a52-b7589dba5e99",
   "metadata": {
    "deletable": false,
    "editable": false,
    "slideshow": {
     "slide_type": ""
    },
    "tags": []
   },
   "source": [
    "#### Lab Question 21: Create a **dictionary** mapping the `name` of each star in `\"stars_3.csv\"` to its `Star` object."
   ]
  },
  {
   "cell_type": "markdown",
   "id": "4ce76c29-f3d3-483e-8e9b-0825d18376c7",
   "metadata": {
    "deletable": false,
    "editable": false,
    "slideshow": {
     "slide_type": ""
    },
    "tags": []
   },
   "source": [
    "You **must** use the `star_cell` function to extract data from `stars_3.csv`.\n",
    "\n",
    "Your output **must** look like this:\n",
    "```python\n",
    "{'K2-133': Star(spectral_type='M1.5V', stellar_effective_temperature=3655.0, stellar_radius=0.46, \n",
    "                stellar_mass=0.46, stellar_luminosity=-1.479, stellar_surface_gravity=4.77, stellar_age=None),\n",
    " 'K2-138': Star(spectral_type='G8V', stellar_effective_temperature=5356.3, stellar_radius=0.86, \n",
    "                stellar_mass=0.94, stellar_luminosity=-0.287, stellar_surface_gravity=4.54, stellar_age=2.8),\n",
    " 'GJ 667 C': Star(spectral_type='M1.5V', stellar_effective_temperature=3350.0, stellar_radius=None, \n",
    "                  stellar_mass=0.33, stellar_luminosity=-1.863, stellar_surface_gravity=4.69, stellar_age=2.0)}\n",
    "```\n",
    "\n",
    "Before you can create your `stars_3_dict` variable, you must first read in data from stars_3.csv in the small_data directory using the `process_csv` function."
   ]
  },
  {
   "cell_type": "markdown",
   "id": "e400cb8a-8ced-46f5-937e-711cebf5c239",
   "metadata": {
    "deletable": false,
    "editable": false,
    "slideshow": {
     "slide_type": ""
    },
    "tags": []
   },
   "source": [
    "Points possible: 2.0"
   ]
  },
  {
   "cell_type": "code",
   "execution_count": 52,
   "id": "3a9618f9-e77b-4e65-a046-163e5df1124a",
   "metadata": {
    "deletable": false,
    "editable": true,
    "slideshow": {
     "slide_type": ""
    },
    "tags": [
     "lab-q21-code"
    ]
   },
   "outputs": [
    {
     "data": {
      "text/plain": [
       "{'K2-133': Star(spectral_type='M1.5V', stellar_effective_temperature=3655.0, stellar_radius=0.46, stellar_mass=0.46, stellar_luminosity=-1.479, stellar_surface_gravity=4.77, stellar_age=None),\n",
       " 'K2-138': Star(spectral_type='G8V', stellar_effective_temperature=5356.3, stellar_radius=0.86, stellar_mass=0.94, stellar_luminosity=-0.287, stellar_surface_gravity=4.54, stellar_age=2.8),\n",
       " 'GJ 667 C': Star(spectral_type='M1.5V', stellar_effective_temperature=3350.0, stellar_radius=None, stellar_mass=0.33, stellar_luminosity=-1.863, stellar_surface_gravity=4.69, stellar_age=2.0)}"
      ]
     },
     "execution_count": 52,
     "metadata": {},
     "output_type": "execute_result"
    }
   ],
   "source": [
    "# compute and store the answer in the variable 'stars_3_dict', then display it\n",
    "stars_3_data = process_csv(os.path.join(\"small_data\", \"stars_3.csv\"))\n",
    "stars_3_rows = stars_3_data[1:]\n",
    "\n",
    "stars_3_dict = {}\n",
    "\n",
    "for row_idx in range(len(stars_3_rows)):\n",
    "    star_name = star_cell(row_idx, 'Star Name', stars_3_rows)\n",
    "    spectral_type = star_cell(row_idx, 'Spectral Type', stars_3_rows)\n",
    "    stellar_effective_temperature = float(star_cell(row_idx, 'Stellar Effective Temperature [K]', stars_3_rows))\n",
    "    stellar_radius = star_cell(row_idx, 'Stellar Radius [Solar Radius]', stars_3_rows)\n",
    "    stellar_mass = float(star_cell(row_idx, 'Stellar Mass [Solar mass]', stars_3_rows))\n",
    "    stellar_luminosity = float(star_cell(row_idx, 'Stellar Luminosity [log(Solar)]', stars_3_rows))\n",
    "    stellar_surface_gravity = float(star_cell(row_idx, 'Stellar Surface Gravity [log10(cm/s**2)]', stars_3_rows))\n",
    "    stellar_age = star_cell(row_idx, 'Stellar Age [Gyr]', stars_3_rows)\n",
    "    \n",
    "    star = Star(spectral_type, stellar_effective_temperature, stellar_radius, \\\n",
    "                  stellar_mass, stellar_luminosity, \\\n",
    "                  stellar_surface_gravity, stellar_age) \n",
    "    stars_3_dict[star_name] = star\n",
    "\n",
    "stars_3_dict"
   ]
  },
  {
   "cell_type": "code",
   "execution_count": 53,
   "id": "0309290f-b2bb-4f14-beb3-db903673da3c",
   "metadata": {
    "deletable": false,
    "editable": true,
    "slideshow": {
     "slide_type": ""
    },
    "tags": []
   },
   "outputs": [
    {
     "name": "stdout",
     "output_type": "stream",
     "text": [
      "Make sure you saved the notebook before running this cell. Running check for lab-q21...\n",
      "Great job! You passed all test cases for this question.\n"
     ]
    },
    {
     "data": {
      "text/plain": [
       "True"
      ]
     },
     "execution_count": 53,
     "metadata": {},
     "output_type": "execute_result"
    }
   ],
   "source": [
    "student_grader.check(\"lab-q21\", should_get_llm_feedback=False)"
   ]
  },
  {
   "cell_type": "markdown",
   "id": "786fdee8-f8f2-4709-8c76-b97a1f485b99",
   "metadata": {
    "deletable": false,
    "editable": false,
    "slideshow": {
     "slide_type": ""
    },
    "tags": []
   },
   "source": [
    "#### Lab Question 22: Combine the three **dictionaries** `stars_1_dict`, `stars_2_dict`, and `stars_3_dict` into a single **dictionary** with all the stars in the `small_data` directory."
   ]
  },
  {
   "cell_type": "markdown",
   "id": "9873f109-0f0e-4237-8e21-0ee27205d110",
   "metadata": {
    "deletable": false,
    "editable": false,
    "slideshow": {
     "slide_type": ""
    },
    "tags": []
   },
   "source": [
    "Points possible: 2.0"
   ]
  },
  {
   "cell_type": "code",
   "execution_count": 54,
   "id": "d627bd0a-3984-47a7-a6a5-e7632868a892",
   "metadata": {
    "deletable": false,
    "editable": true,
    "slideshow": {
     "slide_type": ""
    },
    "tags": [
     "lab-q22-code"
    ]
   },
   "outputs": [
    {
     "data": {
      "text/plain": [
       "{'55 Cnc': Star(spectral_type='G8V', stellar_effective_temperature=5172.0, stellar_radius=0.94, stellar_mass=0.91, stellar_luminosity=-0.197, stellar_surface_gravity=4.43, stellar_age=10.2),\n",
       " 'DMPP-1': Star(spectral_type='F8V', stellar_effective_temperature=6196.0, stellar_radius=1.26, stellar_mass=1.21, stellar_luminosity=0.32, stellar_surface_gravity=4.41, stellar_age=2.01),\n",
       " 'GJ 876': Star(spectral_type='M2.5V', stellar_effective_temperature=3271.0, stellar_radius=0.3, stellar_mass=0.32, stellar_luminosity=-1.907, stellar_surface_gravity=4.87, stellar_age=1.0),\n",
       " 'HD 158259': Star(spectral_type='G0', stellar_effective_temperature=5801.89, stellar_radius=1.21, stellar_mass=1.08, stellar_luminosity=0.212, stellar_surface_gravity=4.25, stellar_age=None),\n",
       " 'K2-187': Star(spectral_type=None, stellar_effective_temperature=5438.0, stellar_radius=0.83, stellar_mass=0.97, stellar_luminosity=-0.21, stellar_surface_gravity=4.6, stellar_age=None),\n",
       " 'WASP-47': Star(spectral_type=None, stellar_effective_temperature=5552.0, stellar_radius=1.14, stellar_mass=1.04, stellar_luminosity=0.032, stellar_surface_gravity=4.34, stellar_age=6.5),\n",
       " 'K2-133': Star(spectral_type='M1.5V', stellar_effective_temperature=3655.0, stellar_radius=0.46, stellar_mass=0.46, stellar_luminosity=-1.479, stellar_surface_gravity=4.77, stellar_age=None),\n",
       " 'K2-138': Star(spectral_type='G8V', stellar_effective_temperature=5356.3, stellar_radius=0.86, stellar_mass=0.94, stellar_luminosity=-0.287, stellar_surface_gravity=4.54, stellar_age=2.8),\n",
       " 'GJ 667 C': Star(spectral_type='M1.5V', stellar_effective_temperature=3350.0, stellar_radius=None, stellar_mass=0.33, stellar_luminosity=-1.863, stellar_surface_gravity=4.69, stellar_age=2.0)}"
      ]
     },
     "execution_count": 54,
     "metadata": {},
     "output_type": "execute_result"
    }
   ],
   "source": [
    "# replace the ... with your code\n",
    "\n",
    "stars_dict = {}\n",
    "\n",
    "# add stars_1_dict to stars_dict\n",
    "# stars_dict.update(...)\n",
    "stars_dict.update(stars_1_dict)\n",
    "# add stars_2_dict and stars_3_dict to stars_dict\n",
    "stars_dict.update(stars_2_dict)\n",
    "stars_dict.update(stars_3_dict)\n",
    "\n",
    "stars_dict"
   ]
  },
  {
   "cell_type": "code",
   "execution_count": 55,
   "id": "49593daa-5e83-4f9f-a2d2-51156b5c57e4",
   "metadata": {
    "deletable": false,
    "editable": true,
    "slideshow": {
     "slide_type": ""
    },
    "tags": []
   },
   "outputs": [
    {
     "name": "stdout",
     "output_type": "stream",
     "text": [
      "Make sure you saved the notebook before running this cell. Running check for lab-q22...\n",
      "Great job! You passed all test cases for this question.\n"
     ]
    },
    {
     "data": {
      "text/plain": [
       "True"
      ]
     },
     "execution_count": 55,
     "metadata": {},
     "output_type": "execute_result"
    }
   ],
   "source": [
    "student_grader.check(\"lab-q22\", should_get_llm_feedback=False)"
   ]
  },
  {
   "cell_type": "markdown",
   "id": "f62468c5-796b-4a59-8003-99a795a26b96",
   "metadata": {
    "deletable": false,
    "editable": false
   },
   "source": [
    "### Data Structure 2: namedtuple `Planet`"
   ]
  },
  {
   "cell_type": "markdown",
   "id": "09dc5ba6-e626-48e0-a12a-e385d1f9c4a7",
   "metadata": {
    "deletable": false,
    "editable": false
   },
   "source": [
    "Just as you did with the stars, you will be using named tuples to store the data about the planets in the `planets_1.csv`, `planets_2.csv`, and `planets_3.csv` files. Before you start reading these files however, you **must** create a new `Planet` type (using namedtuple). It **must** have the following attributes:\n",
    "\n",
    "* `planet_name`,\n",
    "* `host_name`,\n",
    "* `discovery_method`,\n",
    "* `discovery_year`,\n",
    "* `controversial_flag`,\n",
    "* `orbital_period`,\n",
    "* `planet_radius`,\n",
    "* `planet_mass`,\n",
    "* `semi_major_radius`,\n",
    "* `eccentricity`,\n",
    "* `equilibrium_temperature`\n",
    "* `insolation_flux`."
   ]
  },
  {
   "cell_type": "markdown",
   "id": "483992bd-8589-4d86-b6e3-775b5f0b8f69",
   "metadata": {
    "deletable": false,
    "editable": false,
    "slideshow": {
     "slide_type": ""
    },
    "tags": []
   },
   "source": [
    "Points possible: 2.0"
   ]
  },
  {
   "cell_type": "code",
   "execution_count": 56,
   "id": "7aac3ff1-5e51-4d35-901f-40be83753f6a",
   "metadata": {
    "deletable": false,
    "editable": true,
    "slideshow": {
     "slide_type": ""
    },
    "tags": [
     "lab-Planet-definition-code"
    ]
   },
   "outputs": [],
   "source": [
    "# define the namedtuple 'Planet' here\n",
    "planets_attributes = ['planet_name',\n",
    "                      'host_name',\n",
    "                      'discovery_method',\n",
    "                      'discovery_year',\n",
    "                      'controversial_flag',\n",
    "                      'orbital_period',\n",
    "                      'planet_radius',\n",
    "                      'planet_mass',\n",
    "                      'semi_major_radius',\n",
    "                      'eccentricity',\n",
    "                      'equilibrium_temperature',\n",
    "                      'insolation_flux'] # initialize the list of attributes\n",
    "\n",
    "# define the namedtuple 'Planet'\n",
    "Planet = namedtuple(\"Planet\", planets_attributes)"
   ]
  },
  {
   "cell_type": "code",
   "execution_count": 57,
   "id": "8234c5ab-308f-4f6a-8592-5e995dc2d458",
   "metadata": {
    "deletable": false,
    "editable": true,
    "slideshow": {
     "slide_type": ""
    },
    "tags": []
   },
   "outputs": [
    {
     "name": "stdout",
     "output_type": "stream",
     "text": [
      "Make sure you saved the notebook before running this cell. Running check for lab-Planet-definition...\n",
      "Great job! You passed all test cases for this question.\n"
     ]
    },
    {
     "data": {
      "text/plain": [
       "True"
      ]
     },
     "execution_count": 57,
     "metadata": {},
     "output_type": "execute_result"
    }
   ],
   "source": [
    "student_grader.check(\"lab-Planet-definition\", should_get_llm_feedback=False)"
   ]
  },
  {
   "cell_type": "markdown",
   "id": "2675f7ab-d3a5-491f-8d8d-eff2730cb785",
   "metadata": {
    "deletable": false,
    "editable": false,
    "slideshow": {
     "slide_type": ""
    },
    "tags": []
   },
   "source": [
    "#### Create a `Planet` nametuple."
   ]
  },
  {
   "cell_type": "markdown",
   "id": "5a43690d-b9aa-4c93-8f08-8b16c2a831fe",
   "metadata": {
    "deletable": false,
    "editable": false,
    "slideshow": {
     "slide_type": ""
    },
    "tags": []
   },
   "source": [
    "Let us now test whether we have defined the namedtuple properly by creating a `Planet` object."
   ]
  },
  {
   "cell_type": "markdown",
   "id": "f78ea17a-8453-4adb-9ce8-a8f222f97221",
   "metadata": {
    "deletable": false,
    "editable": false,
    "slideshow": {
     "slide_type": ""
    },
    "tags": []
   },
   "source": [
    "Points possible: 2.0"
   ]
  },
  {
   "cell_type": "code",
   "execution_count": 58,
   "id": "95ff29cc-eda4-43f8-8d82-9caded166edc",
   "metadata": {
    "deletable": false,
    "editable": true,
    "slideshow": {
     "slide_type": ""
    },
    "tags": [
     "lab-Planet-jupiter-code"
    ]
   },
   "outputs": [
    {
     "data": {
      "text/plain": [
       "Planet(planet_name='Jupiter', host_name='Sun', discovery_method='Imaging', discovery_year=1610, controversial_flag=False, orbital_period=4333.0, planet_radius=11.209, planet_mass=317.828, semi_major_radius=5.2038, eccentricity=0.0489, equilibrium_temperature=110, insolation_flux=0.0345)"
      ]
     },
     "execution_count": 58,
     "metadata": {},
     "output_type": "execute_result"
    }
   ],
   "source": [
    "# we have done this one for you\n",
    "jupiter = Planet('Jupiter', 'Sun', 'Imaging', 1610, False, 4333.0, 11.209, 317.828, 5.2038, 0.0489, 110, 0.0345)\n",
    "\n",
    "jupiter"
   ]
  },
  {
   "cell_type": "code",
   "execution_count": 59,
   "id": "9e5a9335-fd1d-4013-88f8-9b3f6c35f601",
   "metadata": {
    "deletable": false,
    "editable": true,
    "slideshow": {
     "slide_type": ""
    },
    "tags": []
   },
   "outputs": [
    {
     "name": "stdout",
     "output_type": "stream",
     "text": [
      "Make sure you saved the notebook before running this cell. Running check for lab-Planet-jupiter...\n",
      "Great job! You passed all test cases for this question.\n"
     ]
    },
    {
     "data": {
      "text/plain": [
       "True"
      ]
     },
     "execution_count": 59,
     "metadata": {},
     "output_type": "execute_result"
    }
   ],
   "source": [
    "student_grader.check(\"lab-Planet-jupiter\", should_get_llm_feedback=False)"
   ]
  },
  {
   "cell_type": "markdown",
   "id": "ba4afc5d-97ee-4152-9ce6-8b5170c7eef3",
   "metadata": {
    "deletable": false,
    "editable": false
   },
   "source": [
    "### Segment 4.1: Creating `Planet` objects"
   ]
  },
  {
   "cell_type": "markdown",
   "id": "6dfb94b9-6e3c-4906-8da9-96ca18a2ab1d",
   "metadata": {
    "deletable": false,
    "editable": false
   },
   "source": [
    "We are now ready to read the files in the `small_data` directory and create `Planet` objects. Creating `Planet` objects however, is going to be more difficult than creating `Star` objects, because the data required to create a single `Planet` object is split up into different files.\n",
    "\n",
    "The `planets_1.csv`, `planets_2.csv`, and `planets_3.csv` files contain all the data required to create `Planet` objects **except** for the `host_name`. The `host_name` for each planet is to be found in the `mapping_1.json`, `mapping_2.json`, and `mapping_3.json` files."
   ]
  },
  {
   "cell_type": "markdown",
   "id": "0e1d752b-f948-4b5e-bdd8-47fd9e93eb54",
   "metadata": {
    "deletable": false,
    "editable": false
   },
   "source": [
    "First, let us read the data in `planets_1.csv`. Since this is a CSV file, you can use the `process_csv` function from above to read this file. In the cell below, you **must** read the data in `planets_1.csv` and extract the **header** and the non-header **rows** of the file."
   ]
  },
  {
   "cell_type": "markdown",
   "id": "0cdd53e6-eaae-441f-b448-939e22e53975",
   "metadata": {
    "deletable": false,
    "editable": false,
    "slideshow": {
     "slide_type": ""
    },
    "tags": []
   },
   "source": [
    "#### Lab Question 23: Read the contents of `'planets_1.csv'` into a **list** of **lists** using the `process_csv` function, and extract the **header** and the **rows** in the file."
   ]
  },
  {
   "cell_type": "markdown",
   "id": "0b756ed6-98e4-42d7-b731-b3107f9e7396",
   "metadata": {
    "deletable": false,
    "editable": false,
    "slideshow": {
     "slide_type": ""
    },
    "tags": []
   },
   "source": [
    "Points possible: 2.0"
   ]
  },
  {
   "cell_type": "code",
   "execution_count": 60,
   "id": "176c5f23-d779-41f3-871c-6b3b8c352cdf",
   "metadata": {
    "deletable": false,
    "editable": true,
    "slideshow": {
     "slide_type": ""
    },
    "tags": [
     "lab-q23-code"
    ]
   },
   "outputs": [],
   "source": [
    "# replace the ... with your code\n",
    "\n",
    "planets_1_csv = process_csv(os.path.join(\"small_data\", \"planets_1.csv\")) # process_csv(...) # read the data in 'planets_1.csv'\n",
    "planets_header = planets_1_csv[0]\n",
    "planets_1_rows = planets_1_csv[1:]"
   ]
  },
  {
   "cell_type": "code",
   "execution_count": 61,
   "id": "2159c2af-0b22-4b43-95c6-a7679fde2aac",
   "metadata": {
    "deletable": false,
    "editable": true,
    "slideshow": {
     "slide_type": ""
    },
    "tags": []
   },
   "outputs": [
    {
     "name": "stdout",
     "output_type": "stream",
     "text": [
      "Make sure you saved the notebook before running this cell. Running check for lab-q23...\n",
      "Great job! You passed all test cases for this question.\n"
     ]
    },
    {
     "data": {
      "text/plain": [
       "True"
      ]
     },
     "execution_count": 61,
     "metadata": {},
     "output_type": "execute_result"
    }
   ],
   "source": [
    "student_grader.check(\"lab-q23\", should_get_llm_feedback=False)"
   ]
  },
  {
   "cell_type": "markdown",
   "id": "2f5c4078-5598-4587-afca-090aff87df75",
   "metadata": {
    "deletable": false,
    "editable": false
   },
   "source": [
    "Now, you are ready to read the data in `mapping_1.json`. Since this is a JSON file, you will need a new function to read this file:"
   ]
  },
  {
   "cell_type": "code",
   "execution_count": 62,
   "id": "cdd396e6-66bd-45e3-ae53-96b04b1ccfc1",
   "metadata": {
    "deletable": false,
    "editable": true
   },
   "outputs": [],
   "source": [
    "# this function uses the 'load' function from the json module (already imported in this notebook) to read files\n",
    "def read_json(path):\n",
    "    with open(path, encoding=\"utf-8\") as f:\n",
    "        return json.load(f)"
   ]
  },
  {
   "cell_type": "markdown",
   "id": "184aa779-8475-408c-a5ac-fafc3779d95e",
   "metadata": {
    "deletable": false,
    "editable": false,
    "slideshow": {
     "slide_type": ""
    },
    "tags": []
   },
   "source": [
    "#### Lab Question 24: Read the contents of `'mapping_1.json'` into a **dictionary** using the `read_json` function."
   ]
  },
  {
   "cell_type": "markdown",
   "id": "1c70cc46-5ed1-46a6-8f0d-42ddc43ebb7a",
   "metadata": {
    "deletable": false,
    "editable": false,
    "slideshow": {
     "slide_type": ""
    },
    "tags": []
   },
   "source": [
    "Points possible: 2.0"
   ]
  },
  {
   "cell_type": "code",
   "execution_count": 63,
   "id": "e2c813a5-a0fa-4a9d-b0c8-f93c3f025ad3",
   "metadata": {
    "deletable": false,
    "editable": true,
    "slideshow": {
     "slide_type": ""
    },
    "tags": [
     "lab-q24-code"
    ]
   },
   "outputs": [
    {
     "data": {
      "text/plain": [
       "{'55 Cnc b': '55 Cnc',\n",
       " '55 Cnc c': '55 Cnc',\n",
       " 'DMPP-1 b': 'DMPP-1',\n",
       " 'GJ 876 b': 'GJ 876',\n",
       " 'GJ 876 c': 'GJ 876'}"
      ]
     },
     "execution_count": 63,
     "metadata": {},
     "output_type": "execute_result"
    }
   ],
   "source": [
    "# we have done this for you\n",
    "\n",
    "mapping_1_json = read_json(os.path.join(\"small_data\", \"mapping_1.json\"))\n",
    "\n",
    "mapping_1_json"
   ]
  },
  {
   "cell_type": "code",
   "execution_count": 64,
   "id": "9bd0639d-4e06-40ce-8966-b4d2ac7ae9eb",
   "metadata": {
    "deletable": false,
    "editable": true,
    "slideshow": {
     "slide_type": ""
    },
    "tags": []
   },
   "outputs": [
    {
     "name": "stdout",
     "output_type": "stream",
     "text": [
      "Make sure you saved the notebook before running this cell. Running check for lab-q24...\n",
      "Great job! You passed all test cases for this question.\n"
     ]
    },
    {
     "data": {
      "text/plain": [
       "True"
      ]
     },
     "execution_count": 64,
     "metadata": {},
     "output_type": "execute_result"
    }
   ],
   "source": [
    "student_grader.check(\"lab-q24\", should_get_llm_feedback=False)"
   ]
  },
  {
   "cell_type": "markdown",
   "id": "645cdef4-9e0f-4725-9f8d-1d6ffe3b3350",
   "metadata": {
    "deletable": false,
    "editable": false
   },
   "source": [
    "### Segment 4.2: Combining data from CSV and JSON files"
   ]
  },
  {
   "cell_type": "markdown",
   "id": "5067cbf8-57f2-4fa4-a5c1-2d820c698160",
   "metadata": {
    "deletable": false,
    "editable": false
   },
   "source": [
    "We are now ready to combine the data from `planets_1_rows` and `mapping_1_json` to create `Planet` objects. Before we start, it might be useful to create a function similar to `star_cell` for preprocessing the values in the CSV files."
   ]
  },
  {
   "cell_type": "markdown",
   "id": "b65bb89f-b24a-47e6-a53b-9b2032c35957",
   "metadata": {
    "deletable": false,
    "editable": false
   },
   "source": [
    "### Lab Function 2: `planet_cell(row_idx, col_name, planets_rows, header=planets_header)`"
   ]
  },
  {
   "cell_type": "markdown",
   "id": "acb8a7c3-fd5a-453f-a172-a1b90352db5f",
   "metadata": {
    "deletable": false,
    "editable": false
   },
   "source": [
    "Just like the data in `stars_1.csv`, `stars_2.csv`, and `stars_3.csv`, some of the data in `planets_1.csv`, `planets_2.csv`, and `planets_3.csv` is **missing**.  So, now would be a good time to create a function that takes in a `row_idx`, a `col_name` and a **list** of **lists** `planets_rows` (as well as the optional argument `header`) and returns the value of the column `col_name` at the row `row_idx`.\n",
    "\n",
    "This function **must** typecast the values it returns based on the `col_name`. If the value in `planets_rows` is missing (i.e., it is `''`), then the value returned **must** be `None`.\n",
    "\n",
    "The **column** of `planets_rows` where the value should be obtained from, and the correct **data type** for the value are listed in the table below:\n",
    "\n",
    "|Column of `planets_rows`|Data Type|\n",
    "|------|---------|\n",
    "|Planet Name|**string**|\n",
    "|Discovery Year|**int**|\n",
    "|Discovery Method|**string**|\n",
    "|Controversial Flag|**bool**|\n",
    "|Orbital Period [days]|**float**|\n",
    "|Planet Radius [Earth Radius]|**float**|\n",
    "|Planet Mass [Earth Mass]|**float**|\n",
    "|Orbit Semi-Major Axis [au]|**float**|\n",
    "|Eccentricity|**float**|\n",
    "|Equilibrium Temperature [K]|**float**|\n",
    "|Insolation Flux [Earth Flux]|**float**|\n",
    "\n",
    "**Important Warning:** Notice that the `Controversial Flag` column has to be converted into a **bool**. The data is stored in `planets_1.csv` (and consequently in `planets_rows`) as `\"0\"/\"1\"` values (with `\"0\"` representing `False` and `\"1\"` representing `True`). However typecasting **strings** to **bools** is not straightforward. Run the following cell and try to figure out what is happening:"
   ]
  },
  {
   "cell_type": "code",
   "execution_count": 65,
   "id": "667df79f-b1b1-4081-af1c-bc4d8902ec3a",
   "metadata": {
    "deletable": false,
    "editable": true
   },
   "outputs": [
    {
     "name": "stdout",
     "output_type": "stream",
     "text": [
      "True\n",
      "True\n",
      "False\n",
      "True\n",
      "True\n",
      "True\n"
     ]
    }
   ],
   "source": [
    "strings = [\"0\", \"1\", \"\", \" \", \"True\", \"False\"]\n",
    "for string in strings:\n",
    "    print(bool(string))"
   ]
  },
  {
   "cell_type": "markdown",
   "id": "e899acaa-8a28-4b76-95df-47b1b649ea8e",
   "metadata": {
    "deletable": false,
    "editable": false
   },
   "source": [
    "If you want to convert the **strings** into **bools**, you will have to explicitly use `if/else` statements to determine whether the value is `\"0\"` or `\"1\"`, as can be seen in the starter code below:"
   ]
  },
  {
   "cell_type": "markdown",
   "id": "bc4db320-68d9-4708-9002-75c9cbc4b3c0",
   "metadata": {
    "deletable": false,
    "editable": false,
    "slideshow": {
     "slide_type": ""
    },
    "tags": []
   },
   "source": [
    "Points possible: 2.0"
   ]
  },
  {
   "cell_type": "code",
   "execution_count": 66,
   "id": "67173529-75a4-4f48-8fd8-3f5b79903ff2",
   "metadata": {
    "deletable": false,
    "editable": true,
    "slideshow": {
     "slide_type": ""
    },
    "tags": [
     "lab-planet_cell-code"
    ]
   },
   "outputs": [],
   "source": [
    "# replace the ... with your code\n",
    "\n",
    "def planet_cell(row_idx, col_name, planets_rows, header=planets_header):\n",
    "    col_idx = header.index(col_name) # extract col_idx from col_name and header\n",
    "    val = planets_rows[row_idx][col_idx] # extract the value at row_idx and col_idx\n",
    "    if val == '':\n",
    "        return None\n",
    "    if col_name in [\"Controversial Flag\"]:\n",
    "        if val == \"1\":\n",
    "            return True\n",
    "        else:\n",
    "            return False\n",
    "    if col_name in [\"Discovery Year\"]:\n",
    "        return int(val)\n",
    "        \n",
    "    # for all other columns typecast 'val' and return it depending on col_name\n",
    "    if col_name in [\n",
    "        \"Orbital Period [days]\",\n",
    "        \"Planet Radius [Earth Radius]\",\n",
    "        \"Planet Mass [Earth Mass]\",\n",
    "        \"Orbit Semi-Major Axis [au]\",\n",
    "        \"Eccentricity\",\n",
    "        \"Equilibrium Temperature [K]\",\n",
    "        \"Insolation Flux [Earth Flux]\"\n",
    "    ]:\n",
    "        return float(val)\n",
    "\n",
    "    return val"
   ]
  },
  {
   "cell_type": "code",
   "execution_count": 67,
   "id": "5cf36dde-3c6e-4277-8fb1-69150c1b08fb",
   "metadata": {
    "deletable": false,
    "editable": true,
    "slideshow": {
     "slide_type": ""
    },
    "tags": []
   },
   "outputs": [
    {
     "name": "stdout",
     "output_type": "stream",
     "text": [
      "Make sure you saved the notebook before running this cell. Running check for lab-planet_cell...\n",
      "Great job! You passed all test cases for this question.\n"
     ]
    },
    {
     "data": {
      "text/plain": [
       "True"
      ]
     },
     "execution_count": 67,
     "metadata": {},
     "output_type": "execute_result"
    }
   ],
   "source": [
    "student_grader.check(\"lab-planet_cell\", should_get_llm_feedback=False)"
   ]
  },
  {
   "cell_type": "markdown",
   "id": "239281ca-942d-4087-ad96-d5de968e419f",
   "metadata": {
    "deletable": false,
    "editable": false,
    "slideshow": {
     "slide_type": ""
    },
    "tags": []
   },
   "source": [
    "#### Lab Question 25: Use the `planet_cell` function to find the value of the column `\"Planet Name\"` of the **first** planet in `\"planets_1.csv\"`. "
   ]
  },
  {
   "cell_type": "markdown",
   "id": "dd1dad45-223b-4bca-865b-4eb7183b9821",
   "metadata": {
    "deletable": false,
    "editable": false,
    "slideshow": {
     "slide_type": ""
    },
    "tags": []
   },
   "source": [
    "Points possible: 2.0"
   ]
  },
  {
   "cell_type": "code",
   "execution_count": 68,
   "id": "f65a36bd-8469-4f7b-921f-fed643cdc03e",
   "metadata": {
    "deletable": false,
    "editable": true,
    "slideshow": {
     "slide_type": ""
    },
    "tags": [
     "lab-q25-code"
    ]
   },
   "outputs": [
    {
     "data": {
      "text/plain": [
       "'55 Cnc b'"
      ]
     },
     "execution_count": 68,
     "metadata": {},
     "output_type": "execute_result"
    }
   ],
   "source": [
    "# we have done this one for you\n",
    "\n",
    "first_planet_name = planet_cell(0, 'Planet Name', planets_1_rows)\n",
    "\n",
    "first_planet_name"
   ]
  },
  {
   "cell_type": "code",
   "execution_count": 69,
   "id": "c2e7282c-1ceb-4f76-8625-044717b622a7",
   "metadata": {
    "deletable": false,
    "editable": true,
    "slideshow": {
     "slide_type": ""
    },
    "tags": []
   },
   "outputs": [
    {
     "name": "stdout",
     "output_type": "stream",
     "text": [
      "Make sure you saved the notebook before running this cell. Running check for lab-q25...\n",
      "Great job! You passed all test cases for this question.\n"
     ]
    },
    {
     "data": {
      "text/plain": [
       "True"
      ]
     },
     "execution_count": 69,
     "metadata": {},
     "output_type": "execute_result"
    }
   ],
   "source": [
    "student_grader.check(\"lab-q25\", should_get_llm_feedback=False)"
   ]
  },
  {
   "cell_type": "markdown",
   "id": "1327b26d-080e-4f4a-8ef1-9db368080837",
   "metadata": {
    "deletable": false,
    "editable": false,
    "slideshow": {
     "slide_type": ""
    },
    "tags": []
   },
   "source": [
    "#### Lab Question 26: Use the `planet_cell` function to find the value of the column `\"Insolation Flux [Earth Flux]\"` of the **first** planet in `\"planets_1.csv\"`."
   ]
  },
  {
   "cell_type": "markdown",
   "id": "6c230d3d-a866-459d-869c-fd7c615123a0",
   "metadata": {
    "deletable": false,
    "editable": false,
    "slideshow": {
     "slide_type": ""
    },
    "tags": []
   },
   "source": [
    "Points possible: 2.0"
   ]
  },
  {
   "cell_type": "code",
   "execution_count": 70,
   "id": "d7c0ff50-e09f-4b45-96b5-fc5d435b94ae",
   "metadata": {
    "deletable": false,
    "editable": true,
    "slideshow": {
     "slide_type": ""
    },
    "tags": [
     "lab-q26-code"
    ]
   },
   "outputs": [],
   "source": [
    "# we have done this one for you\n",
    "# do not worry if there is no output, the variable is expected to hold the value None\n",
    "\n",
    "first_planet_flux = planet_cell(0, 'Insolation Flux [Earth Flux]', planets_1_rows)\n",
    "\n",
    "first_planet_flux"
   ]
  },
  {
   "cell_type": "code",
   "execution_count": 71,
   "id": "963a1825-8cfe-454d-8407-7b93ab693be5",
   "metadata": {
    "deletable": false,
    "editable": true,
    "slideshow": {
     "slide_type": ""
    },
    "tags": []
   },
   "outputs": [
    {
     "name": "stdout",
     "output_type": "stream",
     "text": [
      "Make sure you saved the notebook before running this cell. Running check for lab-q26...\n",
      "Great job! You passed all test cases for this question.\n"
     ]
    },
    {
     "data": {
      "text/plain": [
       "True"
      ]
     },
     "execution_count": 71,
     "metadata": {},
     "output_type": "execute_result"
    }
   ],
   "source": [
    "student_grader.check(\"lab-q26\", should_get_llm_feedback=False)"
   ]
  },
  {
   "cell_type": "markdown",
   "id": "db270f0f-3ead-475f-9e39-8eeff4c9632d",
   "metadata": {
    "deletable": false,
    "editable": false,
    "slideshow": {
     "slide_type": ""
    },
    "tags": []
   },
   "source": [
    "#### Lab Question 27: Use the `planet_cell` function to find the value of the column `\"Controversial Flag\"` of the **second** planet in `\"planets_1.csv\"`."
   ]
  },
  {
   "cell_type": "markdown",
   "id": "a5fca799-7966-49e6-9667-3ac9214a3e1e",
   "metadata": {
    "deletable": false,
    "editable": false,
    "slideshow": {
     "slide_type": ""
    },
    "tags": []
   },
   "source": [
    "Points possible: 2.0"
   ]
  },
  {
   "cell_type": "code",
   "execution_count": 72,
   "id": "eae3d1ac-683d-40bd-9637-28bc17dc53eb",
   "metadata": {
    "deletable": false,
    "editable": true,
    "slideshow": {
     "slide_type": ""
    },
    "tags": [
     "lab-q27-code"
    ]
   },
   "outputs": [
    {
     "data": {
      "text/plain": [
       "False"
      ]
     },
     "execution_count": 72,
     "metadata": {},
     "output_type": "execute_result"
    }
   ],
   "source": [
    "# compute and store the answer in the variable 'second_planet_controversy', then display it\n",
    "second_planet_controversy = planet_cell(1, 'Controversial Flag', planets_1_rows)\n",
    "\n",
    "second_planet_controversy"
   ]
  },
  {
   "cell_type": "code",
   "execution_count": 73,
   "id": "2ea06ddb-9e0b-429e-a645-eaaf3bb53251",
   "metadata": {
    "deletable": false,
    "editable": true,
    "slideshow": {
     "slide_type": ""
    },
    "tags": []
   },
   "outputs": [
    {
     "name": "stdout",
     "output_type": "stream",
     "text": [
      "Make sure you saved the notebook before running this cell. Running check for lab-q27...\n",
      "Great job! You passed all test cases for this question.\n"
     ]
    },
    {
     "data": {
      "text/plain": [
       "True"
      ]
     },
     "execution_count": 73,
     "metadata": {},
     "output_type": "execute_result"
    }
   ],
   "source": [
    "student_grader.check(\"lab-q27\", should_get_llm_feedback=False)"
   ]
  },
  {
   "cell_type": "markdown",
   "id": "5c8440dc-f143-467a-9f47-602764aea8bc",
   "metadata": {
    "deletable": false,
    "editable": false
   },
   "source": [
    "#### Lab Question 28: Create a `Planet` object for the **first** star in `\"planets_1.csv\"`."
   ]
  },
  {
   "cell_type": "markdown",
   "id": "a2c704f5-b956-4241-969c-3eeeccfd8ea3",
   "metadata": {
    "deletable": false,
    "editable": false
   },
   "source": [
    "The **attribute** of the `Planet` namedtuple object, the corresponding **column** of the `planets_1.csv` file where the value should be obtained from, and the correct **data type** for the value are listed in the table below:\n",
    "\n",
    "|Attribute of `Planet` object|Column of `planets_1.csv`|Data Type|\n",
    "|---------|------|---------|\n",
    "|`planet_name`|Planet Name|**string**|\n",
    "|`host_name`| - |**string**|\n",
    "|`discovery_method`|Discovery Method|**string**|\n",
    "|`discovery_year`|Discovery Year|**int**|\n",
    "|`controversial_flag`|Controversial Flag|**bool**|\n",
    "|`orbital_period`|Orbital Period [days]|**float**|\n",
    "|`planet_radius`|Planet Radius [Earth Radius]|**float**|\n",
    "|`planet_mass`|Planet Mass [Earth Mass]|**float**|\n",
    "|`semi_major_radius`|Orbit Semi-Major Axis [au]|**float**|\n",
    "|`eccentricity`|Eccentricity|**float**|\n",
    "|`equilibrium_temperature`|Equilibrium Temperature [K]|**float**|\n",
    "|`insolation_flux`|Insolation Flux [Earth Flux]|**float**|\n",
    "\n",
    "\n",
    "The value of the `host_name` attribute is found in `mapping_1.json`."
   ]
  },
  {
   "cell_type": "markdown",
   "id": "d1f277a8-b3a3-43ae-a8ed-372ab3dd52a0",
   "metadata": {
    "deletable": false,
    "editable": false,
    "slideshow": {
     "slide_type": ""
    },
    "tags": []
   },
   "source": [
    "Points possible: 2.0"
   ]
  },
  {
   "cell_type": "code",
   "execution_count": 74,
   "id": "580dc5e3-54b5-45a0-83b5-95cf6dc3062a",
   "metadata": {
    "deletable": false,
    "editable": true,
    "slideshow": {
     "slide_type": ""
    },
    "tags": [
     "lab-q28-code"
    ]
   },
   "outputs": [
    {
     "data": {
      "text/plain": [
       "Planet(planet_name='55 Cnc b', host_name='55 Cnc', discovery_method='Radial Velocity', discovery_year=1996, controversial_flag=False, orbital_period=14.6516, planet_radius=13.9, planet_mass=263.9785, semi_major_radius=0.1134, eccentricity=0.0, equilibrium_temperature=700.0, insolation_flux=None)"
      ]
     },
     "execution_count": 74,
     "metadata": {},
     "output_type": "execute_result"
    }
   ],
   "source": [
    "# replace the ... with your code\n",
    "\n",
    "row_idx = 0 # the index of the planet we want to convert into a Planet object\n",
    "\n",
    "# extract the values from planets_1_rows\n",
    "planet_name = planet_cell(row_idx, 'Planet Name', planets_1_rows)\n",
    "host_name = mapping_1_json[planet_name]\n",
    "discovery_method = planet_cell(row_idx, 'Discovery Method', planets_1_rows)\n",
    "discovery_year = int(planet_cell(row_idx, 'Discovery Year', planets_1_rows))\n",
    "controversial_flag = planet_cell(row_idx, 'Controversial Flag', planets_1_rows)\n",
    "orbital_period = float(planet_cell(row_idx, 'Orbital Period [days]', planets_1_rows))\n",
    "planet_radius = float(planet_cell(row_idx, 'Planet Radius [Earth Radius]', planets_1_rows))\n",
    "planet_mass = float(planet_cell(row_idx, 'Planet Mass [Earth Mass]', planets_1_rows))\n",
    "semi_major_radius = float(planet_cell(row_idx, 'Orbit Semi-Major Axis [au]', planets_1_rows))\n",
    "eccentricity = float(planet_cell(row_idx, 'Eccentricity', planets_1_rows))\n",
    "equilibrium_temperature = float(planet_cell(row_idx, 'Equilibrium Temperature [K]', planets_1_rows))\n",
    "insolation_flux = planet_cell(row_idx, 'Insolation Flux [Earth Flux]', planets_1_rows)\n",
    "\n",
    "# initialize 'first_planet'\n",
    "first_planet = Planet(planet_name, host_name, discovery_method, discovery_year,\\\n",
    "                  controversial_flag, orbital_period, planet_radius, planet_mass,\\\n",
    "                  semi_major_radius, eccentricity, equilibrium_temperature, insolation_flux)\n",
    "\n",
    "first_planet"
   ]
  },
  {
   "cell_type": "code",
   "execution_count": 75,
   "id": "1b2adc56-64b0-4856-9db2-1a5c7242944d",
   "metadata": {
    "deletable": false,
    "editable": true,
    "slideshow": {
     "slide_type": ""
    },
    "tags": []
   },
   "outputs": [
    {
     "name": "stdout",
     "output_type": "stream",
     "text": [
      "Make sure you saved the notebook before running this cell. Running check for lab-q28...\n",
      "Great job! You passed all test cases for this question.\n"
     ]
    },
    {
     "data": {
      "text/plain": [
       "True"
      ]
     },
     "execution_count": 75,
     "metadata": {},
     "output_type": "execute_result"
    }
   ],
   "source": [
    "student_grader.check(\"lab-q28\", should_get_llm_feedback=False)"
   ]
  },
  {
   "cell_type": "markdown",
   "id": "674c5142-1f16-4ff4-a7b7-4575f8cf62b0",
   "metadata": {
    "deletable": false,
    "editable": false,
    "slideshow": {
     "slide_type": ""
    },
    "tags": []
   },
   "source": [
    "#### Lab Question 29: Create a **list** of `Planet` objects of each planet in `\"planets_1.csv\"`."
   ]
  },
  {
   "cell_type": "markdown",
   "id": "62a9ccb8-133e-40da-bdd8-fd7fe9fe0e62",
   "metadata": {
    "deletable": false,
    "editable": false,
    "slideshow": {
     "slide_type": ""
    },
    "tags": []
   },
   "source": [
    "Your output **must** look like this:\n",
    "```python\n",
    "[Planet(planet_name='55 Cnc b', host_name='55 Cnc', discovery_method='Radial Velocity', \n",
    "        discovery_year=1996, controversial_flag=False, orbital_period=14.6516, \n",
    "        planet_radius=13.9, planet_mass=263.9785, semi_major_radius=0.1134, eccentricity=0.0,\n",
    "        equilibrium_temperature=700.0, insolation_flux=None),\n",
    " Planet(planet_name='55 Cnc c', host_name='55 Cnc', discovery_method='Radial Velocity', \n",
    "        discovery_year=2004, controversial_flag=False, orbital_period=44.3989, \n",
    "        planet_radius=8.51, planet_mass=54.4738, semi_major_radius=0.2373, eccentricity=0.03, \n",
    "        equilibrium_temperature=None, insolation_flux=None),\n",
    " Planet(planet_name='DMPP-1 b', host_name='DMPP-1', discovery_method='Radial Velocity', \n",
    "        discovery_year=2019, controversial_flag=False, orbital_period=18.57, \n",
    "        planet_radius=5.29, planet_mass=24.27, semi_major_radius=0.1462, eccentricity=0.083, \n",
    "        equilibrium_temperature=877.0, insolation_flux=None),\n",
    " Planet(planet_name='GJ 876 b', host_name='GJ 876', discovery_method='Radial Velocity', \n",
    "        discovery_year=1998, controversial_flag=False, orbital_period=61.1166, \n",
    "        planet_radius=13.3, planet_mass=723.2235, semi_major_radius=0.208317, eccentricity=0.0324,\n",
    "        equilibrium_temperature=None, insolation_flux=None),\n",
    " Planet(planet_name='GJ 876 c', host_name='GJ 876', discovery_method='Radial Velocity', \n",
    "        discovery_year=2000, controversial_flag=False, orbital_period=30.0881, \n",
    "        planet_radius=14.0, planet_mass=226.9846, semi_major_radius=0.12959, eccentricity=0.25591, \n",
    "        equilibrium_temperature=None, insolation_flux=None)]\n",
    "```"
   ]
  },
  {
   "cell_type": "markdown",
   "id": "ae5bd6aa-cfb1-427d-900e-19a455981ca8",
   "metadata": {
    "deletable": false,
    "editable": false,
    "slideshow": {
     "slide_type": ""
    },
    "tags": []
   },
   "source": [
    "Points possible: 2.0"
   ]
  },
  {
   "cell_type": "code",
   "execution_count": 76,
   "id": "6cbbe849-0905-4171-b278-6278901d9e5c",
   "metadata": {
    "deletable": false,
    "editable": true,
    "slideshow": {
     "slide_type": ""
    },
    "tags": [
     "lab-q29-code"
    ]
   },
   "outputs": [
    {
     "data": {
      "text/plain": [
       "[Planet(planet_name='55 Cnc b', host_name='55 Cnc', discovery_method='Radial Velocity', discovery_year=1996, controversial_flag=False, orbital_period=14.6516, planet_radius=13.9, planet_mass=263.9785, semi_major_radius=0.1134, eccentricity=0.0, equilibrium_temperature=700.0, insolation_flux=None),\n",
       " Planet(planet_name='55 Cnc c', host_name='55 Cnc', discovery_method='Radial Velocity', discovery_year=2004, controversial_flag=False, orbital_period=44.3989, planet_radius=8.51, planet_mass=54.4738, semi_major_radius=0.2373, eccentricity=0.03, equilibrium_temperature=None, insolation_flux=None),\n",
       " Planet(planet_name='DMPP-1 b', host_name='DMPP-1', discovery_method='Radial Velocity', discovery_year=2019, controversial_flag=False, orbital_period=18.57, planet_radius=5.29, planet_mass=24.27, semi_major_radius=0.1462, eccentricity=0.083, equilibrium_temperature=877.0, insolation_flux=None),\n",
       " Planet(planet_name='GJ 876 b', host_name='GJ 876', discovery_method='Radial Velocity', discovery_year=1998, controversial_flag=False, orbital_period=61.1166, planet_radius=13.3, planet_mass=723.2235, semi_major_radius=0.208317, eccentricity=0.0324, equilibrium_temperature=None, insolation_flux=None),\n",
       " Planet(planet_name='GJ 876 c', host_name='GJ 876', discovery_method='Radial Velocity', discovery_year=2000, controversial_flag=False, orbital_period=30.0881, planet_radius=14.0, planet_mass=226.9846, semi_major_radius=0.12959, eccentricity=0.25591, equilibrium_temperature=None, insolation_flux=None)]"
      ]
     },
     "execution_count": 76,
     "metadata": {},
     "output_type": "execute_result"
    }
   ],
   "source": [
    "# compute and store the answer in the variable 'planets_1_list', then display it\n",
    "Planet = namedtuple(\"Planet\", planets_attributes)\n",
    "planets_1_list = []\n",
    "\n",
    "for row_idx in range(len(planets_1_rows)):\n",
    "    planet_name = planet_cell(row_idx, 'Planet Name', planets_1_rows)\n",
    "    host_name = mapping_1_json[planet_name]\n",
    "    discovery_method = planet_cell(row_idx, 'Discovery Method', planets_1_rows)\n",
    "    discovery_year = int(planet_cell(row_idx, 'Discovery Year', planets_1_rows))\n",
    "    controversial_flag = planet_cell(row_idx, 'Controversial Flag', planets_1_rows)\n",
    "    orbital_period = float(planet_cell(row_idx, 'Orbital Period [days]', planets_1_rows))\n",
    "    planet_radius = float(planet_cell(row_idx, 'Planet Radius [Earth Radius]', planets_1_rows))\n",
    "    planet_mass = float(planet_cell(row_idx, 'Planet Mass [Earth Mass]', planets_1_rows))\n",
    "    semi_major_radius = float(planet_cell(row_idx, 'Orbit Semi-Major Axis [au]', planets_1_rows))\n",
    "    eccentricity = float(planet_cell(row_idx, 'Eccentricity', planets_1_rows))\n",
    "    equilibrium_temperature = planet_cell(row_idx, 'Equilibrium Temperature [K]', planets_1_rows)\n",
    "    insolation_flux = planet_cell(row_idx, 'Insolation Flux [Earth Flux]', planets_1_rows)\n",
    "    \n",
    "    planet = Planet(planet_name, host_name, discovery_method, discovery_year,\\\n",
    "                  controversial_flag, orbital_period, planet_radius, planet_mass,\\\n",
    "                  semi_major_radius, eccentricity, equilibrium_temperature, insolation_flux)\n",
    "    planets_1_list.append(planet)\n",
    "\n",
    "planets_1_list"
   ]
  },
  {
   "cell_type": "code",
   "execution_count": 77,
   "id": "ebad62ef-05b0-4e34-90a6-d2f263df889b",
   "metadata": {
    "deletable": false,
    "editable": true,
    "slideshow": {
     "slide_type": ""
    },
    "tags": []
   },
   "outputs": [
    {
     "name": "stdout",
     "output_type": "stream",
     "text": [
      "Make sure you saved the notebook before running this cell. Running check for lab-q29...\n",
      "Great job! You passed all test cases for this question.\n"
     ]
    },
    {
     "data": {
      "text/plain": [
       "True"
      ]
     },
     "execution_count": 77,
     "metadata": {},
     "output_type": "execute_result"
    }
   ],
   "source": [
    "student_grader.check(\"lab-q29\", should_get_llm_feedback=False)"
   ]
  },
  {
   "cell_type": "markdown",
   "id": "db85df56-7122-41f1-ada1-db47e0b2bf8c",
   "metadata": {
    "deletable": false,
    "editable": false,
    "slideshow": {
     "slide_type": ""
    },
    "tags": []
   },
   "source": [
    "#### Lab Question 30: What is the **fifth** `Planet` object in `'planets_1.csv'`?"
   ]
  },
  {
   "cell_type": "markdown",
   "id": "22d4ab77-e2a8-4002-b117-1bafd275f14b",
   "metadata": {
    "deletable": false,
    "editable": false,
    "slideshow": {
     "slide_type": ""
    },
    "tags": []
   },
   "source": [
    "You **must** access from the `planets_1_list` to answer this question."
   ]
  },
  {
   "cell_type": "markdown",
   "id": "8aa45c81-f838-4d91-b7fe-b0a2ad5100ea",
   "metadata": {
    "deletable": false,
    "editable": false,
    "slideshow": {
     "slide_type": ""
    },
    "tags": []
   },
   "source": [
    "Points possible: 2.0"
   ]
  },
  {
   "cell_type": "code",
   "execution_count": 78,
   "id": "c4c32580-0337-411f-a575-a87c79e07a43",
   "metadata": {
    "deletable": false,
    "editable": true,
    "slideshow": {
     "slide_type": ""
    },
    "tags": [
     "lab-q30-code"
    ]
   },
   "outputs": [
    {
     "data": {
      "text/plain": [
       "Planet(planet_name='GJ 876 c', host_name='GJ 876', discovery_method='Radial Velocity', discovery_year=2000, controversial_flag=False, orbital_period=30.0881, planet_radius=14.0, planet_mass=226.9846, semi_major_radius=0.12959, eccentricity=0.25591, equilibrium_temperature=None, insolation_flux=None)"
      ]
     },
     "execution_count": 78,
     "metadata": {},
     "output_type": "execute_result"
    }
   ],
   "source": [
    "# compute and store the answer in the variable 'fifth_planet', then display it\n",
    "fifth_planet = planets_1_list[4]                    \n",
    "\n",
    "fifth_planet"
   ]
  },
  {
   "cell_type": "code",
   "execution_count": 79,
   "id": "139d02f5-55ce-4fea-872b-c1d32d5914a9",
   "metadata": {
    "deletable": false,
    "editable": true,
    "slideshow": {
     "slide_type": ""
    },
    "tags": []
   },
   "outputs": [
    {
     "name": "stdout",
     "output_type": "stream",
     "text": [
      "Make sure you saved the notebook before running this cell. Running check for lab-q30...\n",
      "Great job! You passed all test cases for this question.\n"
     ]
    },
    {
     "data": {
      "text/plain": [
       "True"
      ]
     },
     "execution_count": 79,
     "metadata": {},
     "output_type": "execute_result"
    }
   ],
   "source": [
    "student_grader.check(\"lab-q30\", should_get_llm_feedback=False)"
   ]
  },
  {
   "cell_type": "markdown",
   "id": "4dd12d07-2c50-4cbe-9168-52302e3872db",
   "metadata": {
    "deletable": false,
    "editable": false,
    "slideshow": {
     "slide_type": ""
    },
    "tags": []
   },
   "source": [
    "#### Lab Question 31: What is the `planet_name` of the **fifth** `Planet` in `'planets_1.csv'`?"
   ]
  },
  {
   "cell_type": "markdown",
   "id": "c9830a7d-69d1-4b6b-9864-57de51f31bc8",
   "metadata": {
    "deletable": false,
    "editable": false,
    "slideshow": {
     "slide_type": ""
    },
    "tags": []
   },
   "source": [
    "You **must** access from the `planets_1_list` to answer this question. "
   ]
  },
  {
   "cell_type": "markdown",
   "id": "f1eb05f9-6e61-4e68-a050-e22102d076bd",
   "metadata": {
    "deletable": false,
    "editable": false,
    "slideshow": {
     "slide_type": ""
    },
    "tags": []
   },
   "source": [
    "Points possible: 2.0"
   ]
  },
  {
   "cell_type": "code",
   "execution_count": 80,
   "id": "4498a8fa-b41d-4636-a5b9-540c5e6c8b10",
   "metadata": {
    "deletable": false,
    "editable": true,
    "slideshow": {
     "slide_type": ""
    },
    "tags": [
     "lab-q31-code"
    ]
   },
   "outputs": [
    {
     "data": {
      "text/plain": [
       "'GJ 876 c'"
      ]
     },
     "execution_count": 80,
     "metadata": {},
     "output_type": "execute_result"
    }
   ],
   "source": [
    "# compute and store the answer in the variable 'fifth_planet_name', then display it\n",
    "fifth_planet_name = planets_1_list[4].planet_name\n",
    "\n",
    "fifth_planet_name"
   ]
  },
  {
   "cell_type": "code",
   "execution_count": 81,
   "id": "d502f6b8-fc78-45f1-8ca4-c22722a0661f",
   "metadata": {
    "deletable": false,
    "editable": true,
    "slideshow": {
     "slide_type": ""
    },
    "tags": []
   },
   "outputs": [
    {
     "name": "stdout",
     "output_type": "stream",
     "text": [
      "Make sure you saved the notebook before running this cell. Running check for lab-q31...\n",
      "Great job! You passed all test cases for this question.\n"
     ]
    },
    {
     "data": {
      "text/plain": [
       "True"
      ]
     },
     "execution_count": 81,
     "metadata": {},
     "output_type": "execute_result"
    }
   ],
   "source": [
    "student_grader.check(\"lab-q31\", should_get_llm_feedback=False)"
   ]
  },
  {
   "cell_type": "markdown",
   "id": "e6df4bbc-7b66-48f8-9706-faba53c49123",
   "metadata": {
    "deletable": false,
    "editable": false,
    "slideshow": {
     "slide_type": ""
    },
    "tags": []
   },
   "source": [
    "#### Lab Question 32: What is the `controversial_flag` of the **fourth** `Planet` in `'planets_1.csv'`?"
   ]
  },
  {
   "cell_type": "markdown",
   "id": "355341db-81d3-4bd4-bd7e-d271a2011e6e",
   "metadata": {
    "deletable": false,
    "editable": false,
    "slideshow": {
     "slide_type": ""
    },
    "tags": []
   },
   "source": [
    "You **must** access from the `planets_1_list` to answer this question."
   ]
  },
  {
   "cell_type": "markdown",
   "id": "d39a9816-e22d-4cbd-abb7-e778e6f0b5da",
   "metadata": {
    "deletable": false,
    "editable": false,
    "slideshow": {
     "slide_type": ""
    },
    "tags": []
   },
   "source": [
    "Points possible: 2.0"
   ]
  },
  {
   "cell_type": "code",
   "execution_count": 82,
   "id": "ff3fd37a-f05a-4017-83d3-4007e12bc65e",
   "metadata": {
    "deletable": false,
    "editable": true,
    "slideshow": {
     "slide_type": ""
    },
    "tags": [
     "lab-q32-code"
    ]
   },
   "outputs": [
    {
     "data": {
      "text/plain": [
       "False"
      ]
     },
     "execution_count": 82,
     "metadata": {},
     "output_type": "execute_result"
    }
   ],
   "source": [
    "# compute and store the answer in the variable 'fourth_planet_controversy', then display it\n",
    "fourth_planet_controversy = planets_1_list[3].controversial_flag\n",
    "\n",
    "fourth_planet_controversy"
   ]
  },
  {
   "cell_type": "code",
   "execution_count": 83,
   "id": "d8010734-d766-4503-82f9-b6f61fb9683c",
   "metadata": {
    "deletable": false,
    "editable": true,
    "slideshow": {
     "slide_type": ""
    },
    "tags": []
   },
   "outputs": [
    {
     "name": "stdout",
     "output_type": "stream",
     "text": [
      "Make sure you saved the notebook before running this cell. Running check for lab-q32...\n",
      "Great job! You passed all test cases for this question.\n"
     ]
    },
    {
     "data": {
      "text/plain": [
       "True"
      ]
     },
     "execution_count": 83,
     "metadata": {},
     "output_type": "execute_result"
    }
   ],
   "source": [
    "student_grader.check(\"lab-q32\", should_get_llm_feedback=False)"
   ]
  },
  {
   "cell_type": "markdown",
   "id": "203cb137-3940-475f-b5e5-a96172859cc1",
   "metadata": {
    "deletable": false,
    "editable": false
   },
   "source": [
    "### Segment 4.3: Data Cleaning - broken CSV rows"
   ]
  },
  {
   "cell_type": "markdown",
   "id": "8b7315bd-2d83-4e17-a67c-488a4e137087",
   "metadata": {
    "deletable": false,
    "editable": false
   },
   "source": [
    "The code you have written worked well for reading the data in `planets_1.csv` and `mapping_1.json`. However, it will likely **not** work for `planets_2.csv` and `mapping_2.json`. This is because the file `planets_2.csv` is **broken**. For some reason, a few rows in `planets_2.csv` have their data jumbled up. This is what `planets_2.csv` looks like:\n",
    "\n",
    "|Planet Name|Discovery Method|Discovery Year|Controversial Flag|Orbital Period [days]|Planet Radius [Earth Radius]|Planet Mass [Earth Mass]|Orbit Semi-Major Axis [au]|Eccentricity|Equilibrium Temperature [K]|Insolation Flux [Earth Flux]|\n",
    "|-----------|----------------|--------------|------------------|---------------------|----------------------------|------------------------|--------------------------|------------|---------------------------|----------------------------|\n",
    "|HD 158259 b|Radial Velocity|2020|0|2.17800000|1.292|2.22000|||1478|794.22|\n",
    "|K2-187 b|Transit|2018|0|0.77401000|1.200|1.87000|0.016400||1815||\n",
    "|K2-187 c|Transit|2018|0|2.87151200|1.400|2.54000|0.039200||1173||\n",
    "|K2-187 d|K2-187|Transit|2018|0|7.14958400|2.400|6.35000|0.072000||865|\n",
    "|WASP-47 b|2012|Transit|0|4.15914920|12.640|363.60000|0.052000|0.002800|1275|534.00|\n",
    "\n",
    "We can see that for some reason, in the **fourth** row, the value under the column `Discovery Method` is the name of the planet's host star. This is causing all the other columns in the row to also take meaningless values.\n",
    "\n",
    "Similarly, in the **fifth** row, we see that the values under the columns `Discovery Method` and `Discovery Year` are swapped.\n",
    "\n",
    "We will call such a **row** in a CSV file where the values under a column do not match the expected format to be a **broken row**. While it is possible to sometimes extract useful data from broken rows, in this lab and in P10, we will simply **skip** broken rows.\n",
    "\n",
    "In order to **skip** broken rows, you should first know how to recognize a **broken row**. In general, there is no general rule that helps you identify when a row is broken. This is because CSV rows can be **broken** in all sorts of different ways. Thankfully, we don't have to write code to catch all sorts of weird cases. It will suffice for us to manually **inspect** the file `planets_2.csv`, and identify **how** the rows are broken.\n",
    "\n",
    "The simplest way to recognize if a row is broken is if you run into any **RunTime Errors** when you execute your code. So, one simple way to skip bad rows would be to use `try/except` blocks to avoid processing any rows that cause the code to crash.\n",
    "\n",
    "**Important Note:** In this dataset, as you might have already noticed, it would be **significantly harder** to detect **broken rows** where some of the numerical values are swapped (for example, `Planet Radius [Earth Radius]` and `Planet Mass [Earth Mass]`). You may **assume** that the numerical values are **not** swapped in **any** row, and that **only the rows** in which the **data types** are not as expected are **broken**."
   ]
  },
  {
   "cell_type": "markdown",
   "id": "b813f5ee-d027-4fee-a0e4-a31ac9244730",
   "metadata": {
    "deletable": false,
    "editable": false,
    "slideshow": {
     "slide_type": ""
    },
    "tags": []
   },
   "source": [
    "#### Lab Question 33: Create a **list** of `Planet` objects of each planet in `\"planets_2.csv\"`.\n",
    "\n",
    "You **must** skip any broken rows in the CSV file. Your output **must** look like this:\n",
    "```python\n",
    "[Planet(planet_name='HD 158259 b', host_name='HD 158259', discovery_method='Radial Velocity', \n",
    "        discovery_year=2020, controversial_flag=False, orbital_period=2.178, \n",
    "        planet_radius=1.292, planet_mass=2.22, semi_major_radius=None, eccentricity=None, \n",
    "        equilibrium_temperature=1478.0, insolation_flux=794.22),\n",
    " Planet(planet_name='K2-187 b', host_name='K2-187', discovery_method='Transit', \n",
    "        discovery_year=2018, controversial_flag=False, orbital_period=0.77401, \n",
    "        planet_radius=1.2, planet_mass=1.87, semi_major_radius=0.0164, eccentricity=None, \n",
    "        equilibrium_temperature=1815.0, insolation_flux=None),\n",
    " Planet(planet_name='K2-187 c', host_name='K2-187', discovery_method='Transit', \n",
    "        discovery_year=2018, controversial_flag=False, orbital_period=2.871512, \n",
    "        planet_radius=1.4, planet_mass=2.54, semi_major_radius=0.0392, eccentricity=None, \n",
    "        equilibrium_temperature=1173.0, insolation_flux=None)]\n",
    "```"
   ]
  },
  {
   "cell_type": "markdown",
   "id": "ba3e3717-161b-4927-a551-410d8662ba85",
   "metadata": {
    "deletable": false,
    "editable": false,
    "slideshow": {
     "slide_type": ""
    },
    "tags": []
   },
   "source": [
    "Points possible: 2.0"
   ]
  },
  {
   "cell_type": "code",
   "execution_count": 84,
   "id": "fe0e7002-cd4e-4b30-b923-c413f6807194",
   "metadata": {
    "deletable": false,
    "editable": true,
    "slideshow": {
     "slide_type": ""
    },
    "tags": [
     "lab-q33-code"
    ]
   },
   "outputs": [
    {
     "data": {
      "text/plain": [
       "[Planet(planet_name='HD 158259 b', host_name='HD 158259', discovery_method='Radial Velocity', discovery_year=2020, controversial_flag=False, orbital_period=2.178, planet_radius=1.292, planet_mass=2.22, semi_major_radius=None, eccentricity=None, equilibrium_temperature=1478.0, insolation_flux=794.22),\n",
       " Planet(planet_name='K2-187 b', host_name='K2-187', discovery_method='Transit', discovery_year=2018, controversial_flag=False, orbital_period=0.77401, planet_radius=1.2, planet_mass=1.87, semi_major_radius=0.0164, eccentricity=None, equilibrium_temperature=1815.0, insolation_flux=None),\n",
       " Planet(planet_name='K2-187 c', host_name='K2-187', discovery_method='Transit', discovery_year=2018, controversial_flag=False, orbital_period=2.871512, planet_radius=1.4, planet_mass=2.54, semi_major_radius=0.0392, eccentricity=None, equilibrium_temperature=1173.0, insolation_flux=None)]"
      ]
     },
     "execution_count": 84,
     "metadata": {},
     "output_type": "execute_result"
    }
   ],
   "source": [
    "# replace the ... with your code\n",
    "planets_2_data = process_csv(os.path.join(\"small_data\", \"planets_2.csv\")) # read planets_2.csv\n",
    "planets_2_rows = planets_2_data[1:] # extract the rows from planets_2_data\n",
    "mapping_2_json = read_json(os.path.join(\"small_data\", \"mapping_2.json\")) # read mapping_2.json\n",
    "Planet = namedtuple(\"Planet\", planets_attributes)\n",
    "\n",
    "#         pass # replace with your code\n",
    "#         # create a Planet object and append to 'planets_2_list'\n",
    "planets_2_list = []\n",
    "for row_idx in range(len(planets_2_rows)): # for row_idx in range(len(planets_2_rows)):\n",
    "    try: # try:\n",
    "        planet_name = planet_cell(row_idx, 'Planet Name', planets_2_rows)\n",
    "        host_name = mapping_2_json[planet_name]\n",
    "        discovery_method = planet_cell(row_idx, 'Discovery Method', planets_2_rows)\n",
    "        discovery_year = int(planet_cell(row_idx, 'Discovery Year', planets_2_rows))\n",
    "        controversial_flag = planet_cell(row_idx, 'Controversial Flag', planets_2_rows)\n",
    "        orbital_period = float(planet_cell(row_idx, 'Orbital Period [days]', planets_2_rows))\n",
    "        planet_radius = float(planet_cell(row_idx, 'Planet Radius [Earth Radius]', planets_2_rows))\n",
    "        planet_mass = float(planet_cell(row_idx, 'Planet Mass [Earth Mass]', planets_2_rows))\n",
    "        semi_major_radius = planet_cell(row_idx, 'Orbit Semi-Major Axis [au]', planets_2_rows)\n",
    "        eccentricity = planet_cell(row_idx, 'Eccentricity', planets_2_rows)\n",
    "        equilibrium_temperature = planet_cell(row_idx, 'Equilibrium Temperature [K]', planets_2_rows)\n",
    "        insolation_flux = planet_cell(row_idx, 'Insolation Flux [Earth Flux]', planets_2_rows)\n",
    "        \n",
    "        planet = Planet(planet_name, host_name, discovery_method, discovery_year,\\\n",
    "                  controversial_flag, orbital_period, planet_radius, planet_mass,\\\n",
    "                  semi_major_radius, eccentricity, equilibrium_temperature, insolation_flux)\n",
    "        planets_2_list.append(planet)\n",
    "    except ValueError: #     except ValueError:\n",
    "        continue #         continue\n",
    "\n",
    "planets_2_list"
   ]
  },
  {
   "cell_type": "code",
   "execution_count": 85,
   "id": "1ced4a7e-052f-4a7c-9632-57cf61724886",
   "metadata": {
    "deletable": false,
    "editable": true,
    "slideshow": {
     "slide_type": ""
    },
    "tags": []
   },
   "outputs": [
    {
     "name": "stdout",
     "output_type": "stream",
     "text": [
      "Make sure you saved the notebook before running this cell. Running check for lab-q33...\n",
      "Great job! You passed all test cases for this question.\n"
     ]
    },
    {
     "data": {
      "text/plain": [
       "True"
      ]
     },
     "execution_count": 85,
     "metadata": {},
     "output_type": "execute_result"
    }
   ],
   "source": [
    "student_grader.check(\"lab-q33\", should_get_llm_feedback=False)"
   ]
  },
  {
   "cell_type": "markdown",
   "id": "141060cf-28a4-4817-a41b-b14a63b95b53",
   "metadata": {
    "deletable": false,
    "editable": false
   },
   "source": [
    "**Important Warning:** It is considered a bad coding practice to use *bare* `try/except` blocks. This means that you should **never** write code like this:\n",
    "\n",
    "```python\n",
    "try:\n",
    "    # some code\n",
    "except:\n",
    "    # some other code\n",
    "```\n",
    "\n",
    "If you use *bare* `try/except` blocks, your code will seemingly work even if there are bugs in there, and it can get very hard to debug. You should always **explicitly** catch for specific errors like this:\n",
    "\n",
    "```python\n",
    "try:\n",
    "    # some code\n",
    "except ValueError:\n",
    "    # some other code\n",
    "except IndexError:\n",
    "    # some other code\n",
    "```\n",
    "\n",
    "This way, your code will still crash if there is some other unexpected bug in your code that needs to be fixed, and will only go to the `except` block if it runs into a `ValueError` or an `IndexError`. The starter code above already catches specifically for `ValueError`. You **must** continue this practice in P10 as well."
   ]
  },
  {
   "cell_type": "markdown",
   "id": "ae3476c5-1f03-4079-ac80-d233306b32cf",
   "metadata": {
    "deletable": false,
    "editable": false
   },
   "source": [
    "### Segment 4.4: Data Cleaning - broken JSON files"
   ]
  },
  {
   "cell_type": "markdown",
   "id": "d262806f-6ab4-4559-9ef4-4cd3aeb04735",
   "metadata": {
    "deletable": false,
    "editable": false
   },
   "source": [
    "So far, we have written code that can read `planets_1.csv` and `mapping_1.json`, as well as `planets_2.csv` and `mapping_2.json`. However, if you try to read `mapping_3.json`, you are likely to run into some issues. This is because the file `mapping_3.json` is **broken**. Unlike **broken** CSV files, where we only had to skip the **broken rows**, it is much harder to parse **broken JSON files**. When a JSON file is **broken**, we often have no choice but to **skip the file entirely**.\n",
    "\n",
    "It is also not easy to detect if a JSON file is **broken** using `if` statements. The easiest is to simply try to read the file using the `read_json` function and check if the code crashes."
   ]
  },
  {
   "cell_type": "markdown",
   "id": "e6f0df97-621c-41d7-ad0d-c8c83b3ecac6",
   "metadata": {
    "deletable": false,
    "editable": false,
    "slideshow": {
     "slide_type": ""
    },
    "tags": []
   },
   "source": [
    "#### Lab Question 34: Determine if the `'mapping_3.json'` file is **broken** using a `try/except` block."
   ]
  },
  {
   "cell_type": "markdown",
   "id": "02cdafe8-acd0-410d-a746-b0666cc7c4c4",
   "metadata": {
    "deletable": false,
    "editable": false,
    "slideshow": {
     "slide_type": ""
    },
    "tags": []
   },
   "source": [
    "Points possible: 3.0"
   ]
  },
  {
   "cell_type": "code",
   "execution_count": 86,
   "id": "c8e72884-42fe-4c8b-a2ff-e709821bf231",
   "metadata": {
    "deletable": false,
    "editable": true,
    "slideshow": {
     "slide_type": ""
    },
    "tags": [
     "lab-q34-code"
    ]
   },
   "outputs": [
    {
     "data": {
      "text/plain": [
       "{}"
      ]
     },
     "execution_count": 86,
     "metadata": {},
     "output_type": "execute_result"
    }
   ],
   "source": [
    "# we have done this one for you\n",
    "\n",
    "try:\n",
    "    mapping_3_json = read_json(os.path.join(\"small_data\", \"mapping_3.json\"))\n",
    "except json.JSONDecodeError:\n",
    "    mapping_3_json = {}\n",
    "    \n",
    "mapping_3_json"
   ]
  },
  {
   "cell_type": "code",
   "execution_count": 87,
   "id": "1c33ab14-de2b-4b8f-a8a5-650adca03973",
   "metadata": {
    "deletable": false,
    "editable": true,
    "slideshow": {
     "slide_type": ""
    },
    "tags": []
   },
   "outputs": [
    {
     "name": "stdout",
     "output_type": "stream",
     "text": [
      "Make sure you saved the notebook before running this cell. Running check for lab-q34...\n",
      "Great job! You passed all test cases for this question.\n"
     ]
    },
    {
     "data": {
      "text/plain": [
       "True"
      ]
     },
     "execution_count": 87,
     "metadata": {},
     "output_type": "execute_result"
    }
   ],
   "source": [
    "student_grader.check(\"lab-q34\", should_get_llm_feedback=False)"
   ]
  },
  {
   "cell_type": "markdown",
   "id": "5d2672d2-ec61-4b14-954d-822bdba7b7ea",
   "metadata": {
    "deletable": false,
    "editable": false
   },
   "source": [
    "In the above cell, note that in the `try/except` block, we specifically checked for the `json.JSONDecodeError`. This is the error that is thrown when you try to call `json.load` on a **broken** JSON file."
   ]
  },
  {
   "cell_type": "markdown",
   "id": "0e47fa34-07c0-472b-bfd5-b207d6a41d4a",
   "metadata": {
    "deletable": false,
    "editable": false
   },
   "source": [
    "### Segment 5: Data Analysis"
   ]
  },
  {
   "cell_type": "markdown",
   "id": "57ce20b0-78f6-4ef4-b87f-6ae3a1ad28e0",
   "metadata": {
    "deletable": false,
    "editable": false
   },
   "source": [
    "We have now managed to read all the data in the `small_data` directory. Now is the time to test if our data structures work!"
   ]
  },
  {
   "cell_type": "markdown",
   "id": "b7f35daf-7460-4dfb-b987-dae42b47f5c5",
   "metadata": {
    "deletable": false,
    "editable": false,
    "slideshow": {
     "slide_type": ""
    },
    "tags": []
   },
   "source": [
    "#### Lab Question 35: What is the `host_name` of the **second** planet in `'planets_2.csv'`?"
   ]
  },
  {
   "cell_type": "markdown",
   "id": "07f38ef9-f849-4592-9894-8fcfea204818",
   "metadata": {
    "deletable": false,
    "editable": false,
    "slideshow": {
     "slide_type": ""
    },
    "tags": []
   },
   "source": [
    "You **must** skip any broken rows. So, you can directly access from the list `planets_2_list` to answer this question."
   ]
  },
  {
   "cell_type": "markdown",
   "id": "871d34e7-a5bf-4285-92e7-873782d1caaa",
   "metadata": {
    "deletable": false,
    "editable": false,
    "slideshow": {
     "slide_type": ""
    },
    "tags": []
   },
   "source": [
    "Points possible: 2.0"
   ]
  },
  {
   "cell_type": "code",
   "execution_count": 88,
   "id": "3c2f073d-084c-44cd-bc74-fd00397db562",
   "metadata": {
    "deletable": false,
    "editable": true,
    "slideshow": {
     "slide_type": ""
    },
    "tags": [
     "lab-q35-code"
    ]
   },
   "outputs": [
    {
     "data": {
      "text/plain": [
       "'K2-187'"
      ]
     },
     "execution_count": 88,
     "metadata": {},
     "output_type": "execute_result"
    }
   ],
   "source": [
    "# compute and store the answer in the variable 'second_planet_host', then display it\n",
    "second_planet_host = planets_2_list[1].host_name\n",
    "\n",
    "second_planet_host"
   ]
  },
  {
   "cell_type": "code",
   "execution_count": 89,
   "id": "1c23abab-d009-47e1-9a8c-08ed69a55e19",
   "metadata": {
    "deletable": false,
    "editable": true,
    "slideshow": {
     "slide_type": ""
    },
    "tags": []
   },
   "outputs": [
    {
     "name": "stdout",
     "output_type": "stream",
     "text": [
      "Make sure you saved the notebook before running this cell. Running check for lab-q35...\n",
      "Great job! You passed all test cases for this question.\n"
     ]
    },
    {
     "data": {
      "text/plain": [
       "True"
      ]
     },
     "execution_count": 89,
     "metadata": {},
     "output_type": "execute_result"
    }
   ],
   "source": [
    "student_grader.check(\"lab-q35\", should_get_llm_feedback=False)"
   ]
  },
  {
   "cell_type": "markdown",
   "id": "8367046d-3a2a-4a33-853d-50c19ffc124e",
   "metadata": {
    "deletable": false,
    "editable": false,
    "slideshow": {
     "slide_type": ""
    },
    "tags": []
   },
   "source": [
    "#### Lab Question 36: What is the `Star` object of the **third** planet in `'planets_2.csv'`?"
   ]
  },
  {
   "cell_type": "markdown",
   "id": "128fb4f4-e73a-48e1-a288-adeeecb84a18",
   "metadata": {
    "deletable": false,
    "editable": false,
    "slideshow": {
     "slide_type": ""
    },
    "tags": []
   },
   "source": [
    "You **must** skip any broken rows. So, you can directly access from the list `planets_2_list` to answer this question.\n",
    "\n",
    "Note that a planet's star can be looked up using the planet's host name attribute.\n",
    "\n",
    "**Hint:** You can use the `stars_dict` **dictionary** defined in q12.2 to find the `Star` object given a star's name."
   ]
  },
  {
   "cell_type": "markdown",
   "id": "404453e3-c5e7-49f9-95ff-10df69310f73",
   "metadata": {
    "deletable": false,
    "editable": false,
    "slideshow": {
     "slide_type": ""
    },
    "tags": []
   },
   "source": [
    "Points possible: 2.0"
   ]
  },
  {
   "cell_type": "code",
   "execution_count": 90,
   "id": "44f02e75-1723-4423-a79e-2a4a09f8e31b",
   "metadata": {
    "deletable": false,
    "editable": true,
    "slideshow": {
     "slide_type": ""
    },
    "tags": [
     "lab-q36-code"
    ]
   },
   "outputs": [
    {
     "data": {
      "text/plain": [
       "Star(spectral_type=None, stellar_effective_temperature=5438.0, stellar_radius=0.83, stellar_mass=0.97, stellar_luminosity=-0.21, stellar_surface_gravity=4.6, stellar_age=None)"
      ]
     },
     "execution_count": 90,
     "metadata": {},
     "output_type": "execute_result"
    }
   ],
   "source": [
    "# compute and store the answer in the variable 'third_planet_star', then display it\n",
    "third_planet_host = planets_2_list[2].host_name\n",
    "third_planet_star = stars_dict.get(third_planet_host, None)\n",
    "\n",
    "third_planet_star"
   ]
  },
  {
   "cell_type": "code",
   "execution_count": 91,
   "id": "eaac8af1-8d2f-42b6-aa0e-b26c3eb5b150",
   "metadata": {
    "deletable": false,
    "editable": true,
    "slideshow": {
     "slide_type": ""
    },
    "tags": []
   },
   "outputs": [
    {
     "name": "stdout",
     "output_type": "stream",
     "text": [
      "Make sure you saved the notebook before running this cell. Running check for lab-q36...\n",
      "Great job! You passed all test cases for this question.\n"
     ]
    },
    {
     "data": {
      "text/plain": [
       "True"
      ]
     },
     "execution_count": 91,
     "metadata": {},
     "output_type": "execute_result"
    }
   ],
   "source": [
    "student_grader.check(\"lab-q36\", should_get_llm_feedback=False)"
   ]
  },
  {
   "cell_type": "markdown",
   "id": "01194603-9b0f-40d0-91c7-f09185074875",
   "metadata": {
    "deletable": false,
    "editable": false,
    "slideshow": {
     "slide_type": ""
    },
    "tags": []
   },
   "source": [
    "#### Lab Question 37: What is the `stellar_radius` of the star around which the **first** planet in `'planets_1.csv'` orbits?"
   ]
  },
  {
   "cell_type": "markdown",
   "id": "485deded-fd28-4e60-ba03-ee36df4f93fe",
   "metadata": {
    "deletable": false,
    "editable": false,
    "slideshow": {
     "slide_type": ""
    },
    "tags": []
   },
   "source": [
    "You can directly access from the list `planets_1_list` to answer this question."
   ]
  },
  {
   "cell_type": "markdown",
   "id": "e2831cf5-091e-45b7-ade5-0cea1bdd846e",
   "metadata": {
    "deletable": false,
    "editable": false,
    "slideshow": {
     "slide_type": ""
    },
    "tags": []
   },
   "source": [
    "Points possible: 2.0"
   ]
  },
  {
   "cell_type": "code",
   "execution_count": 92,
   "id": "77e0af8a-5b75-43e7-8430-2ddf53393ca2",
   "metadata": {
    "deletable": false,
    "editable": true,
    "slideshow": {
     "slide_type": ""
    },
    "tags": [
     "lab-q37-code"
    ]
   },
   "outputs": [
    {
     "data": {
      "text/plain": [
       "0.94"
      ]
     },
     "execution_count": 92,
     "metadata": {},
     "output_type": "execute_result"
    }
   ],
   "source": [
    "# compute and store the answer in the variable 'first_planet_star_radius', then display it\n",
    "first_planet_host = planets_1_list[0].host_name\n",
    "first_planet_star = stars_dict.get(first_planet_host, None)\n",
    "\n",
    "first_planet_star_radius = first_planet_star.stellar_radius if first_planet_star else None\n",
    "\n",
    "first_planet_star_radius"
   ]
  },
  {
   "cell_type": "code",
   "execution_count": 93,
   "id": "27bd8b13-b34a-463a-813a-7a12615f0a93",
   "metadata": {
    "deletable": false,
    "editable": true,
    "slideshow": {
     "slide_type": ""
    },
    "tags": []
   },
   "outputs": [
    {
     "name": "stdout",
     "output_type": "stream",
     "text": [
      "Make sure you saved the notebook before running this cell. Running check for lab-q37...\n",
      "Great job! You passed all test cases for this question.\n"
     ]
    },
    {
     "data": {
      "text/plain": [
       "True"
      ]
     },
     "execution_count": 93,
     "metadata": {},
     "output_type": "execute_result"
    }
   ],
   "source": [
    "student_grader.check(\"lab-q37\", should_get_llm_feedback=False)"
   ]
  },
  {
   "cell_type": "markdown",
   "id": "ad06f50f-af83-4587-a0e5-4b9b3ad5bc93",
   "metadata": {
    "deletable": false,
    "editable": false
   },
   "source": [
    "### Submit the lab"
   ]
  },
  {
   "cell_type": "markdown",
   "id": "0baa9e92-c121-4f49-b233-55ce9f79bb05",
   "metadata": {
    "deletable": false,
    "editable": false,
    "jp-MarkdownHeadingCollapsed": true
   },
   "source": [
    "Great work! You are now ready to submit lab-p10.\n",
    " **Submit your p10.ipynb on Gradescope to the lab-p10 assignment**, like usual. Remember that the grades for the lab portion of the project and the actual assignment grade are independent. You will submit the same notebook (at different levels of completion) to two different assignments."
   ]
  },
  {
   "cell_type": "markdown",
   "id": "9f9cdaa5-01d9-4aa1-8f30-0d400af66b57",
   "metadata": {
    "deletable": false,
    "editable": false,
    "slideshow": {
     "slide_type": ""
    },
    "tags": []
   },
   "source": [
    "## Project Portion (20 Questions)"
   ]
  },
  {
   "cell_type": "markdown",
   "id": "4cee1323-95c6-4c9b-953a-b182fc57e7ce",
   "metadata": {
    "deletable": false,
    "editable": false
   },
   "source": [
    "### Setup:"
   ]
  },
  {
   "cell_type": "markdown",
   "id": "099a0aa0-3ba5-4dfb-a785-2524e2178909",
   "metadata": {
    "deletable": false,
    "editable": false
   },
   "source": [
    "Before proceeding much further, you need to make sure that the project files are stored in the following structure:\n",
    "\n",
    "```\n",
    "+-- p10.ipynb\n",
    "+-- (other files)\n",
    "+-- data\n",
    "|   +-- mapping_1.json\n",
    "|   +-- mapping_2.json\n",
    "|   +-- mapping_3.json\n",
    "|   +-- mapping_4.json\n",
    "|   +-- mapping_5.json\n",
    "|   +-- planets_1.csv\n",
    "|   +-- planets_2.csv\n",
    "|   +-- planets_3.csv\n",
    "|   +-- planets_4.csv\n",
    "|   +-- planets_5.csv\n",
    "|   +-- stars_1.csv\n",
    "|   +-- stars_2.csv\n",
    "|   +-- stars_3.csv\n",
    "|   +-- stars_4.csv\n",
    "|   +-- stars_5.csv\n",
    "```\n",
    "\n",
    "Make sure that the files are inside the `data` directory. If you place your files inside some other directory, then your code will **fail on Gradescope** even after passing local tests."
   ]
  },
  {
   "cell_type": "markdown",
   "id": "c4905e5c-d25d-424a-b2c3-39253a96f4fd",
   "metadata": {
    "deletable": false,
    "editable": false
   },
   "source": [
    "### Project Description:"
   ]
  },
  {
   "cell_type": "markdown",
   "id": "bfaafceb-8a22-4510-9c2e-ef0dd8c8734d",
   "metadata": {
    "deletable": false,
    "editable": false
   },
   "source": [
    "Cleaning data is an important part of a data scientist's work cycle. As you have already seen, the data we will be analyzing in P10 and P11 has been split up into 15 different files of different formats. Even worse, as you shall see later in this project, some of these files have been corrupted, and lots of data is missing. Unfortunately, in the real world, a lot of data that you will come across will be in rough shape, and it is your job to clean it up before you can analyze it. In P10, you will combine the data in these different files to create a few manageable data structures, which can be easily analyzed. In the process, you will also have to deal with broken CSV files (by skipping rows with broken data), and broken JSON files (by skipping the files entirely).\n",
    "\n",
    "After you create these data structures, in P11, you will dive deeper by analyzing this data and arrive at some exciting conclusions about various planets and stars outside our Solar System."
   ]
  },
  {
   "cell_type": "markdown",
   "id": "246d5dab-86aa-44ff-9042-87f0a341da59",
   "metadata": {
    "deletable": false,
    "editable": false
   },
   "source": [
    "### Project Requirements:"
   ]
  },
  {
   "cell_type": "markdown",
   "id": "64331051-8c1a-4bb8-8ce3-d328e6761bcc",
   "metadata": {
    "deletable": false,
    "editable": false
   },
   "source": [
    "You **may not** hardcode indices in your code, unless the question explicitly says to. If you open your `.csv` files with Excel, manually count through the rows and use this number to loop through the dataset, this is also considered as hardcoding.\n",
    "\n",
    "**Store** your final answer for each question in the **variable specified for each question**.\n",
    "\n",
    "For some of the questions, we'll ask you to write (then use) a function to compute the answer. If you compute the answer **without** creating the function we ask you to write, the grader autograder will **not** award points, even if you produced the right answer.\n",
    "\n",
    "#### Required Functions:\n",
    "- `star_cell`\n",
    "- `get_stars`\n",
    "- `planet_cell`\n",
    "- `get_planets`\n",
    "\n",
    "In this project, you will also be required to define certain **data structures**. If you do not create these data structures exactly as specified, the Gradescope autograder will **deduct** points from your public score, even if the way you did it produced the correct answer.\n",
    "\n",
    "#### Required Data Structures:\n",
    "- `Star` (**namedtuple**)\n",
    "- `stars_dict` (**dictionary** mapping **strings** to `Star` objects)\n",
    "- `Planet` (**namedtuple**)\n",
    "- `planets_list` (**list** of `Planet` objects)\n",
    "\n",
    "In addition, you are also **required** to follow the requirements below:\n",
    "\n",
    "* You **must** never use the output of the `os.listdir` function directly. You **must** always first remove all files and directories that start with `\".\"`, and **explicitly sort** the list before doing anything with it.\n",
    "* You are **not** allowed to use **bare** `try/except` blocks. In other words, you can **not** use `try/except` without explicitly specifying the type of exceptions that you want to catch.\n",
    "* You are **only** allowed to use Python commands and concepts that have been taught in the course prior to the release of P10. In particular, this means that you are **not** allowed to use **modules** like `pandas` to answer the questions in this project.\n",
    "* Please do not display `stars_dict` or `planets_list` anywhere in the notebook. Please **remove** such statements before submission.\n",
    "\n",
    "Otherwise, the Gradescope autograder may **deduct** points from your score."
   ]
  },
  {
   "cell_type": "markdown",
   "id": "aff7eb43-b205-46e5-aec3-641be1383685",
   "metadata": {
    "deletable": false,
    "editable": false
   },
   "source": [
    "### File handling:"
   ]
  },
  {
   "cell_type": "markdown",
   "id": "3f1757f0-74cc-472e-9baf-b36a0fc857e4",
   "metadata": {
    "deletable": false,
    "editable": false
   },
   "source": [
    "In the next questions, you will be using functions in the `os` module to make **lists** of files and paths in the `data` directory. All your **lists** **must** satisfy the following conditions:\n",
    "\n",
    "* Any files with names beginning with `\".\"` **must** be **excluded**.\n",
    "* The list **must** be **explicitly sorted** in **reverse-alphabetical** order after **splitting** by the **path separator**."
   ]
  },
  {
   "cell_type": "markdown",
   "id": "651e2700-9cf2-4e4b-ba25-9995237c2687",
   "metadata": {
    "deletable": false,
    "editable": false,
    "slideshow": {
     "slide_type": ""
    },
    "tags": []
   },
   "source": [
    "#### Question 1: What are the **names** of the files present in the `data` directory?"
   ]
  },
  {
   "cell_type": "markdown",
   "id": "295cbe1d-500f-4d32-abaf-43408741ba84",
   "metadata": {
    "deletable": false,
    "editable": false,
    "slideshow": {
     "slide_type": ""
    },
    "tags": []
   },
   "source": [
    "Your output **must** be a **list** of **strings** representing the **names** of the files sorted in reverse-alphabetical order."
   ]
  },
  {
   "cell_type": "markdown",
   "id": "b016e9c3-6b9e-4421-a5b0-67a2feaeade2",
   "metadata": {
    "deletable": false,
    "editable": false,
    "slideshow": {
     "slide_type": ""
    },
    "tags": []
   },
   "source": [
    "Points possible: 3.0"
   ]
  },
  {
   "cell_type": "code",
   "execution_count": 94,
   "id": "f61158d2-c370-45a3-9e47-0a1c66bd5709",
   "metadata": {
    "deletable": false,
    "editable": true,
    "slideshow": {
     "slide_type": ""
    },
    "tags": [
     "q1-code"
    ]
   },
   "outputs": [
    {
     "data": {
      "text/plain": [
       "['stars_5.csv',\n",
       " 'stars_4.csv',\n",
       " 'stars_3.csv',\n",
       " 'stars_2.csv',\n",
       " 'stars_1.csv',\n",
       " 'planets_5.csv',\n",
       " 'planets_4.csv',\n",
       " 'planets_3.csv',\n",
       " 'planets_2.csv',\n",
       " 'planets_1.csv',\n",
       " 'mapping_5.json',\n",
       " 'mapping_4.json',\n",
       " 'mapping_3.json',\n",
       " 'mapping_2.json',\n",
       " 'mapping_1.json']"
      ]
     },
     "execution_count": 94,
     "metadata": {},
     "output_type": "execute_result"
    }
   ],
   "source": [
    "# compute and store the answer in the variable 'files_in_data', then display it\n",
    "import os\n",
    "all_files = os.listdir('data')\n",
    "actual_files = [file for file in all_files if not file.startswith('.')]\n",
    "files_in_data = sorted(actual_files, reverse = True)\n",
    "\n",
    "files_in_data"
   ]
  },
  {
   "cell_type": "code",
   "execution_count": 95,
   "id": "b0b81a61-6267-41ef-82de-8de4350e97cc",
   "metadata": {
    "deletable": false,
    "editable": true,
    "slideshow": {
     "slide_type": ""
    },
    "tags": []
   },
   "outputs": [
    {
     "name": "stdout",
     "output_type": "stream",
     "text": [
      "Make sure you saved the notebook before running this cell. Running check for q1...\n",
      "Great job! You passed all test cases for this question.\n"
     ]
    },
    {
     "data": {
      "text/plain": [
       "True"
      ]
     },
     "execution_count": 95,
     "metadata": {},
     "output_type": "execute_result"
    }
   ],
   "source": [
    "student_grader.check(\"q1\", should_get_llm_feedback=False)"
   ]
  },
  {
   "cell_type": "markdown",
   "id": "7134611f-9331-417a-a0eb-8d6328eae6fd",
   "metadata": {
    "deletable": false,
    "editable": false,
    "slideshow": {
     "slide_type": ""
    },
    "tags": []
   },
   "source": [
    "#### Question 2: What are the **paths** of all the files in the `data` directory?"
   ]
  },
  {
   "cell_type": "markdown",
   "id": "f10c0d36-9d99-4536-810f-ede9daa712ef",
   "metadata": {
    "deletable": false,
    "editable": false,
    "slideshow": {
     "slide_type": ""
    },
    "tags": []
   },
   "source": [
    "Your output **must** be a **list** of **strings** representing the **paths** of the files. You **must** use the `files_in_data` variable created in the previous question to answer this.\n",
    "\n",
    "**Warning:** Please **do not hardcode** `\"/\"` or `\"\\\"` in your path because doing so will cause your function to **fail** on a computer that's not using the same operating system as yours. This may result in your code failing on Gradescope. "
   ]
  },
  {
   "cell_type": "markdown",
   "id": "58830540-142d-4f9a-aab7-1637bb569649",
   "metadata": {
    "deletable": false,
    "editable": false,
    "slideshow": {
     "slide_type": ""
    },
    "tags": []
   },
   "source": [
    "Points possible: 3.0"
   ]
  },
  {
   "cell_type": "code",
   "execution_count": 96,
   "id": "8230b2d3-7f31-4024-a476-1171ca685cb1",
   "metadata": {
    "deletable": false,
    "editable": true,
    "slideshow": {
     "slide_type": ""
    },
    "tags": [
     "q2-code"
    ]
   },
   "outputs": [
    {
     "data": {
      "text/plain": [
       "['data/stars_5.csv',\n",
       " 'data/stars_4.csv',\n",
       " 'data/stars_3.csv',\n",
       " 'data/stars_2.csv',\n",
       " 'data/stars_1.csv',\n",
       " 'data/planets_5.csv',\n",
       " 'data/planets_4.csv',\n",
       " 'data/planets_3.csv',\n",
       " 'data/planets_2.csv',\n",
       " 'data/planets_1.csv',\n",
       " 'data/mapping_5.json',\n",
       " 'data/mapping_4.json',\n",
       " 'data/mapping_3.json',\n",
       " 'data/mapping_2.json',\n",
       " 'data/mapping_1.json']"
      ]
     },
     "execution_count": 96,
     "metadata": {},
     "output_type": "execute_result"
    }
   ],
   "source": [
    "# compute and store the answer in the variable 'file_paths', then display it\n",
    "import os\n",
    "all_files = os.listdir('data')\n",
    "actual_files = [file for file in all_files if not file.startswith('.')]\n",
    "files_in_data = sorted(actual_files, reverse = True)\n",
    "\n",
    "file_paths = [os.path.join(\"data\", file) for file in files_in_data]\n",
    "\n",
    "file_paths"
   ]
  },
  {
   "cell_type": "code",
   "execution_count": 97,
   "id": "3d5643fd-58c5-4480-8045-ccfb33c59f5c",
   "metadata": {
    "deletable": false,
    "editable": true,
    "slideshow": {
     "slide_type": ""
    },
    "tags": []
   },
   "outputs": [
    {
     "name": "stdout",
     "output_type": "stream",
     "text": [
      "Make sure you saved the notebook before running this cell. Running check for q2...\n",
      "Great job! You passed all test cases for this question.\n"
     ]
    },
    {
     "data": {
      "text/plain": [
       "True"
      ]
     },
     "execution_count": 97,
     "metadata": {},
     "output_type": "execute_result"
    }
   ],
   "source": [
    "student_grader.check(\"q2\", should_get_llm_feedback=False)"
   ]
  },
  {
   "cell_type": "markdown",
   "id": "bb83fd10-b954-4367-883a-2a7a57f49b29",
   "metadata": {
    "deletable": false,
    "editable": false,
    "slideshow": {
     "slide_type": ""
    },
    "tags": []
   },
   "source": [
    "#### Question 3: What are the **paths** of all the **CSV files** present in `data` directory?"
   ]
  },
  {
   "cell_type": "markdown",
   "id": "40356bda-3c76-41a4-9ba0-175206fd7750",
   "metadata": {
    "deletable": false,
    "editable": false,
    "slideshow": {
     "slide_type": ""
    },
    "tags": []
   },
   "source": [
    "Your output **must** be filtered to **only** include files ending in `'.csv'`. You **must** use either the `files_in_data` or `file_paths` variables created in the previous questions to answer this.\n",
    "\n",
    "**Warning:** Please **do not hardcode** `\"/\"` or `\"\\\"` in your path because doing so will cause your function to **fail** on a computer that's not using the same operating system as yours. This may result in your code failing on Gradescope."
   ]
  },
  {
   "cell_type": "markdown",
   "id": "311122e2-c852-4586-b0db-da8a47f677e2",
   "metadata": {
    "deletable": false,
    "editable": false,
    "slideshow": {
     "slide_type": ""
    },
    "tags": []
   },
   "source": [
    "Points possible: 3.0"
   ]
  },
  {
   "cell_type": "code",
   "execution_count": 98,
   "id": "d089e676-2c44-48a2-b0d3-4d4f2db18cd0",
   "metadata": {
    "deletable": false,
    "editable": true,
    "slideshow": {
     "slide_type": ""
    },
    "tags": [
     "q3-code"
    ]
   },
   "outputs": [
    {
     "data": {
      "text/plain": [
       "['data/stars_5.csv',\n",
       " 'data/stars_4.csv',\n",
       " 'data/stars_3.csv',\n",
       " 'data/stars_2.csv',\n",
       " 'data/stars_1.csv',\n",
       " 'data/planets_5.csv',\n",
       " 'data/planets_4.csv',\n",
       " 'data/planets_3.csv',\n",
       " 'data/planets_2.csv',\n",
       " 'data/planets_1.csv']"
      ]
     },
     "execution_count": 98,
     "metadata": {},
     "output_type": "execute_result"
    }
   ],
   "source": [
    "# compute and store the answer in the variable 'csv_file_paths', then display it\n",
    "import os\n",
    "all_files = os.listdir('data')\n",
    "actual_files = [file for file in all_files if not file.startswith('.')]\n",
    "files_in_data = sorted(actual_files, reverse = True)\n",
    "file_paths = [os.path.join(\"data\", file) for file in files_in_data]\n",
    "paths_in_files_in_data = sorted(file_paths, key = lambda path: path.split(os.path.sep), reverse=True)\n",
    "\n",
    "csv_file_paths = [path for path in file_paths if path.endswith(\".csv\")]\n",
    "\n",
    "csv_file_paths"
   ]
  },
  {
   "cell_type": "code",
   "execution_count": 99,
   "id": "aa247d48-9f43-44b8-aef3-41e0b49e821f",
   "metadata": {
    "deletable": false,
    "editable": true,
    "slideshow": {
     "slide_type": ""
    },
    "tags": []
   },
   "outputs": [
    {
     "name": "stdout",
     "output_type": "stream",
     "text": [
      "Make sure you saved the notebook before running this cell. Running check for q3...\n",
      "Great job! You passed all test cases for this question.\n"
     ]
    },
    {
     "data": {
      "text/plain": [
       "True"
      ]
     },
     "execution_count": 99,
     "metadata": {},
     "output_type": "execute_result"
    }
   ],
   "source": [
    "student_grader.check(\"q3\", should_get_llm_feedback=False)"
   ]
  },
  {
   "cell_type": "markdown",
   "id": "469b3c5e-9a3e-47d7-82c6-1b3bb133e5e8",
   "metadata": {
    "deletable": false,
    "editable": false,
    "slideshow": {
     "slide_type": ""
    },
    "tags": []
   },
   "source": [
    "#### Question 4: What are the **paths** of all the files present in `data` directory, that **begin** with the phrase `'stars'`?"
   ]
  },
  {
   "cell_type": "markdown",
   "id": "fb74813f-5baa-42ef-a369-e99ae6f90ec9",
   "metadata": {
    "deletable": false,
    "editable": false,
    "slideshow": {
     "slide_type": ""
    },
    "tags": []
   },
   "source": [
    "Your output **must** be filtered to **only** include files start with `'stars'`. You **must** use either the `files_in_data` or `file_paths` variables created in the previous questions to answer this.\n",
    "\n",
    "**Warning:** Please **do not hardcode** `\"/\"` or `\"\\\"` in your path because doing so will cause your function to **fail** on a computer that's not using the same operating system as yours. This may result in your code failing on Gradescope."
   ]
  },
  {
   "cell_type": "markdown",
   "id": "f9131b1a-2208-4670-b4aa-868d20ad2f57",
   "metadata": {
    "deletable": false,
    "editable": false,
    "slideshow": {
     "slide_type": ""
    },
    "tags": []
   },
   "source": [
    "Points possible: 3.0"
   ]
  },
  {
   "cell_type": "code",
   "execution_count": 161,
   "id": "d971ea97-1d5e-48c9-beff-ed6b5a188faf",
   "metadata": {
    "deletable": false,
    "editable": true,
    "slideshow": {
     "slide_type": ""
    },
    "tags": [
     "q4-code"
    ]
   },
   "outputs": [
    {
     "data": {
      "text/plain": [
       "['data/stars_5.csv',\n",
       " 'data/stars_4.csv',\n",
       " 'data/stars_3.csv',\n",
       " 'data/stars_2.csv',\n",
       " 'data/stars_1.csv']"
      ]
     },
     "execution_count": 161,
     "metadata": {},
     "output_type": "execute_result"
    }
   ],
   "source": [
    "# compute and store the answer in the variable 'stars_paths', then display it\n",
    "stars_paths = [path for path in file_paths if os.path.basename(path).startswith(\"star\")]\n",
    "\n",
    "stars_paths"
   ]
  },
  {
   "cell_type": "code",
   "execution_count": 162,
   "id": "55dd1b51-da2b-4b2a-ab45-5cbf2b10ea09",
   "metadata": {
    "deletable": false,
    "editable": true,
    "slideshow": {
     "slide_type": ""
    },
    "tags": []
   },
   "outputs": [
    {
     "name": "stdout",
     "output_type": "stream",
     "text": [
      "Make sure you saved the notebook before running this cell. Running check for q4...\n",
      "Great job! You passed all test cases for this question.\n"
     ]
    },
    {
     "data": {
      "text/plain": [
       "True"
      ]
     },
     "execution_count": 162,
     "metadata": {},
     "output_type": "execute_result"
    }
   ],
   "source": [
    "student_grader.check(\"q4\", should_get_llm_feedback=False)"
   ]
  },
  {
   "cell_type": "markdown",
   "id": "f5442385-53a9-43b1-bf27-02bfa791fb55",
   "metadata": {
    "deletable": false,
    "editable": false,
    "slideshow": {
     "slide_type": ""
    },
    "tags": []
   },
   "source": [
    "#### Read in `stars_1.csv` data"
   ]
  },
  {
   "cell_type": "markdown",
   "id": "8267eee5-0e29-4cde-affd-d8bf7ea80fd2",
   "metadata": {
    "deletable": false,
    "editable": false,
    "slideshow": {
     "slide_type": ""
    },
    "tags": []
   },
   "source": [
    "Points possible: 3.0"
   ]
  },
  {
   "cell_type": "code",
   "execution_count": 102,
   "id": "b8ce64f8-ebad-47a2-a48e-f5f3382bb041",
   "metadata": {
    "deletable": false,
    "editable": true,
    "slideshow": {
     "slide_type": ""
    },
    "tags": [
     "Read-in-stars1-code"
    ]
   },
   "outputs": [],
   "source": [
    "# replace the ... with your code\n",
    "\n",
    "stars_1_csv = process_csv(os.path.join(\"data\", \"stars_1.csv\")) # read the data in 'stars_1.csv'\n",
    "stars_header = stars_1_csv[0]\n",
    "stars_1_rows = stars_1_csv[1:]"
   ]
  },
  {
   "cell_type": "code",
   "execution_count": 103,
   "id": "627b06b3-e5c4-4476-9d44-f5add41adf83",
   "metadata": {
    "deletable": false,
    "editable": true,
    "slideshow": {
     "slide_type": ""
    },
    "tags": []
   },
   "outputs": [
    {
     "name": "stdout",
     "output_type": "stream",
     "text": [
      "Make sure you saved the notebook before running this cell. Running check for Read-in-stars1...\n",
      "Great job! You passed all test cases for this question.\n"
     ]
    },
    {
     "data": {
      "text/plain": [
       "True"
      ]
     },
     "execution_count": 103,
     "metadata": {},
     "output_type": "execute_result"
    }
   ],
   "source": [
    "student_grader.check(\"Read-in-stars1\", should_get_llm_feedback=False)"
   ]
  },
  {
   "cell_type": "markdown",
   "id": "9ccffab8-8946-454c-9d8f-d02a5c8660d7",
   "metadata": {
    "deletable": false,
    "editable": false,
    "slideshow": {
     "slide_type": ""
    },
    "tags": []
   },
   "source": [
    "#### Question 5: Create a `Star` object for the **third** star (i.e., *row index* **2**) in `\"stars_1.csv\"`."
   ]
  },
  {
   "cell_type": "markdown",
   "id": "540e4c75-c6c1-42dd-88a7-5c05bbf9c0ff",
   "metadata": {
    "deletable": false,
    "editable": false,
    "slideshow": {
     "slide_type": ""
    },
    "tags": []
   },
   "source": [
    "You **must** access the values in `stars_1.csv` using the `star_cell` function. Note that the third star would be at **index** 2.\n",
    "\n",
    "The **attribute** of the `Star` namedtuple object, the corresponding **column** of the `stars_1.csv` file where the value should be obtained from, and the correct **data type** for the value are listed in the table below:\n",
    "\n",
    "|Attribute of `Star` object|Column of `stars_1.csv`|Data Type|\n",
    "|---------|------|---------|\n",
    "|`spectral_type`|Spectral Type|**string**|\n",
    "|`stellar_effective_temperature`|Stellar Effective Temperature [K]|**float**|\n",
    "|`stellar_radius`|Stellar Radius [Solar Radius]|**float**|\n",
    "|`stellar_mass`|Stellar Mass [Solar mass]|**float**|\n",
    "|`stellar_luminosity`|Stellar Luminosity [log(Solar)]|**float**|\n",
    "|`stellar_surface_gravity`|Stellar Surface Gravity [log10(cm/s**2)]|**float**|\n",
    "|`stellar_age`|Stellar Age [Gyr]|**float**|"
   ]
  },
  {
   "cell_type": "markdown",
   "id": "a4c2f14c-6065-4d3e-ba1e-05e9d2818c34",
   "metadata": {
    "deletable": false,
    "editable": false,
    "slideshow": {
     "slide_type": ""
    },
    "tags": []
   },
   "source": [
    "Points possible: 3.0"
   ]
  },
  {
   "cell_type": "code",
   "execution_count": 104,
   "id": "b98d00cb-df47-4315-b3e9-883f4c68ed5b",
   "metadata": {
    "deletable": false,
    "editable": true,
    "slideshow": {
     "slide_type": ""
    },
    "tags": [
     "q5-code"
    ]
   },
   "outputs": [
    {
     "data": {
      "text/plain": [
       "Star(spectral_type='K0III', stellar_effective_temperature=4888.0, stellar_radius=11.55, stellar_mass=1.78, stellar_luminosity=1.84, stellar_surface_gravity=2.55, stellar_age=4.5)"
      ]
     },
     "execution_count": 104,
     "metadata": {},
     "output_type": "execute_result"
    }
   ],
   "source": [
    " # compute and store the answer in the variable 'third_star', then display it\n",
    "Star = namedtuple(\"Star\", [\"spectral_type\", \"stellar_effective_temperature\", \"stellar_radius\", \"stellar_mass\", \"stellar_luminosity\", \"stellar_surface_gravity\", \"stellar_age\"])\n",
    "spectral_type = star_cell(2, \"Spectral Type\", stars_1_rows)\n",
    "stellar_effective_temperature = float(star_cell(2, \"Stellar Effective Temperature [K]\", stars_1_rows))\n",
    "stellar_radius = float(star_cell(2, \"Stellar Radius [Solar Radius]\", stars_1_rows))\n",
    "stellar_mass = float(star_cell(2, \"Stellar Mass [Solar mass]\", stars_1_rows))\n",
    "stellar_luminosity = float(star_cell(2, \"Stellar Luminosity [log(Solar)]\", stars_1_rows))\n",
    "stellar_surface_gravity = float(star_cell(2, \"Stellar Surface Gravity [log10(cm/s**2)]\", stars_1_rows))\n",
    "stellar_age = float(star_cell(2, \"Stellar Age [Gyr]\", stars_1_rows))\n",
    "\n",
    "third_star = Star(spectral_type, stellar_effective_temperature, stellar_radius, stellar_mass, stellar_luminosity, stellar_surface_gravity, stellar_age)\n",
    "\n",
    "third_star"
   ]
  },
  {
   "cell_type": "code",
   "execution_count": 105,
   "id": "488e5ed6-ff70-4bd4-b8bd-7fba62175e34",
   "metadata": {
    "deletable": false,
    "editable": true,
    "slideshow": {
     "slide_type": ""
    },
    "tags": []
   },
   "outputs": [
    {
     "name": "stdout",
     "output_type": "stream",
     "text": [
      "Make sure you saved the notebook before running this cell. Running check for q5...\n",
      "Great job! You passed all test cases for this question.\n"
     ]
    },
    {
     "data": {
      "text/plain": [
       "True"
      ]
     },
     "execution_count": 105,
     "metadata": {},
     "output_type": "execute_result"
    }
   ],
   "source": [
    "student_grader.check(\"q5\", should_get_llm_feedback=False)"
   ]
  },
  {
   "cell_type": "markdown",
   "id": "7af6c4fa-5f4d-41f9-a97f-d2ecaba10325",
   "metadata": {
    "deletable": false,
    "editable": false,
    "slideshow": {
     "slide_type": ""
    },
    "tags": []
   },
   "source": [
    "### Project Function 1:  `get_stars(star_file)`"
   ]
  },
  {
   "cell_type": "markdown",
   "id": "0840ad86-99b0-470d-b207-f2a463a6f4ec",
   "metadata": {
    "deletable": false,
    "editable": false
   },
   "source": [
    "This function **must** take in as its input, the path of a CSV file `star_file` which contains data on stars in the same format as `stars_1.csv`. It **must** return a **dictionary** mapping the `Name` of each star in `star_file` to a `Star` object containing all the other details of the star.\n",
    "\n",
    "You **must** access the values in `star_file` using the `star_cell` function.\n",
    "\n",
    "You **must not** hardcode the name of the directory `data` into the `get_stars` function. Instead, you must pass it as a part of the argument `star_file`, by including it in the **path** `star_file`. In other words, if you want to read the contents of the file `stars_5.csv`, your function call must **not** be: `get_stars(\"stars_5.csv\")`. Instead, it must be:\n",
    "\n",
    "```python\n",
    "get_stars(os.path.join(\"data\", \"stars_5.csv\"))\n",
    "```\n",
    "\n",
    "For example, when this function is called with the **path** to the file `stars_1.csv` as the input, the **dictionary** returned should look like:\n",
    "\n",
    "```python\n",
    "{'11 Com': Star(spectral_type='G8III', stellar_effective_temperature=4874.0, \n",
    "                stellar_radius=13.76, stellar_mass=2.09, stellar_luminosity=1.978, \n",
    "                stellar_surface_gravity=2.45, stellar_age=None),\n",
    " '11 UMi': Star(spectral_type='K4III', stellar_effective_temperature=4213.0, \n",
    "                tellar_radius=29.79, stellar_mass=2.78, stellar_luminosity=2.43, \n",
    "                stellar_surface_gravity=1.93, stellar_age=1.56),\n",
    " '14 And': Star(spectral_type='K0III', stellar_effective_temperature=4888.0, \n",
    "                stellar_radius=11.55, stellar_mass=1.78, stellar_luminosity=1.84, \n",
    "                stellar_surface_gravity=2.55, stellar_age=4.5),\n",
    " ...\n",
    "}\n",
    "```"
   ]
  },
  {
   "cell_type": "markdown",
   "id": "59b1a368-dbef-4140-8959-3f31527b93a5",
   "metadata": {
    "deletable": false,
    "editable": false,
    "slideshow": {
     "slide_type": ""
    },
    "tags": []
   },
   "source": [
    "Points possible: 3.0"
   ]
  },
  {
   "cell_type": "code",
   "execution_count": 106,
   "id": "c7403ffc-f016-4347-b3f5-6368a8aa1e34",
   "metadata": {
    "deletable": false,
    "editable": true,
    "slideshow": {
     "slide_type": ""
    },
    "tags": [
     "get_stars-code"
    ]
   },
   "outputs": [],
   "source": [
    "# define the function 'get_stars' here\n",
    "\n",
    "def get_stars(star_file):\n",
    "    stars_csv = process_csv(star_file) \n",
    "    stars_header = stars_csv[0]\n",
    "    stars_rows = stars_csv[1:]\n",
    "\n",
    "    stars_dict = {}\n",
    "\n",
    "    for idx in range(len(stars_rows)):\n",
    "        star_name = star_cell(idx, \"Star Name\", stars_rows)\n",
    "        spectral_type = star_cell(idx, \"Spectral Type\", stars_rows)\n",
    "        stellar_effective_temperature = star_cell(idx, \"Stellar Effective Temperature [K]\", stars_rows)\n",
    "        stellar_radius = star_cell(idx, \"Stellar Radius [Solar Radius]\", stars_rows)\n",
    "        stellar_mass = star_cell(idx, \"Stellar Mass [Solar mass]\", stars_rows)\n",
    "        stellar_luminosity = star_cell(idx, \"Stellar Luminosity [log(Solar)]\", stars_rows)\n",
    "        stellar_surface_gravity = star_cell(idx, \"Stellar Surface Gravity [log10(cm/s**2)]\", stars_rows)\n",
    "        stellar_age = star_cell(idx, \"Stellar Age [Gyr]\", stars_rows)\n",
    "        \n",
    "        star = Star(\n",
    "            spectral_type, stellar_effective_temperature, stellar_radius,\n",
    "            stellar_mass, stellar_luminosity, stellar_surface_gravity, stellar_age\n",
    "        )\n",
    "        \n",
    "        stars_dict[star_name] = star\n",
    "    \n",
    "    return stars_dict"
   ]
  },
  {
   "cell_type": "code",
   "execution_count": 107,
   "id": "8fd4e948-eaba-4fd6-b85a-b66aaae0d51f",
   "metadata": {
    "deletable": false,
    "editable": true,
    "slideshow": {
     "slide_type": ""
    },
    "tags": []
   },
   "outputs": [
    {
     "name": "stdout",
     "output_type": "stream",
     "text": [
      "Make sure you saved the notebook before running this cell. Running check for get_stars...\n",
      "Great job! You passed all test cases for this question.\n"
     ]
    },
    {
     "data": {
      "text/plain": [
       "True"
      ]
     },
     "execution_count": 107,
     "metadata": {},
     "output_type": "execute_result"
    }
   ],
   "source": [
    "student_grader.check(\"get_stars\", should_get_llm_feedback=False)"
   ]
  },
  {
   "cell_type": "markdown",
   "id": "8f23fd06-ce09-4cab-b56e-6b95c142bb9c",
   "metadata": {
    "deletable": false,
    "editable": false,
    "slideshow": {
     "slide_type": ""
    },
    "tags": []
   },
   "source": [
    "#### Define `stars_1_dict` using the get_stars fuction"
   ]
  },
  {
   "cell_type": "markdown",
   "id": "36e77335-6712-4952-a87c-b7e5c35ada54",
   "metadata": {
    "deletable": false,
    "editable": false,
    "slideshow": {
     "slide_type": ""
    },
    "tags": []
   },
   "source": [
    "Points possible: 3.0"
   ]
  },
  {
   "cell_type": "code",
   "execution_count": 108,
   "id": "ff226e4d-b14a-490c-8b7d-f618da5fab87",
   "metadata": {
    "deletable": false,
    "editable": true,
    "slideshow": {
     "slide_type": ""
    },
    "tags": [
     "stars_1_dict-code"
    ]
   },
   "outputs": [
    {
     "data": {
      "text/plain": [
       "{'11 Com': Star(spectral_type='G8III', stellar_effective_temperature=4874.0, stellar_radius=13.76, stellar_mass=2.09, stellar_luminosity=1.978, stellar_surface_gravity=2.45, stellar_age=None),\n",
       " '11 UMi': Star(spectral_type='K4III', stellar_effective_temperature=4213.0, stellar_radius=29.79, stellar_mass=2.78, stellar_luminosity=2.43, stellar_surface_gravity=1.93, stellar_age=1.56),\n",
       " '14 And': Star(spectral_type='K0III', stellar_effective_temperature=4888.0, stellar_radius=11.55, stellar_mass=1.78, stellar_luminosity=1.84, stellar_surface_gravity=2.55, stellar_age=4.5),\n",
       " '16 Cyg B': Star(spectral_type='G3V', stellar_effective_temperature=5750.0, stellar_radius=1.13, stellar_mass=1.08, stellar_luminosity=0.097, stellar_surface_gravity=4.36, stellar_age=7.4),\n",
       " '17 Sco': Star(spectral_type='K3III', stellar_effective_temperature=4157.0, stellar_radius=25.92, stellar_mass=1.22, stellar_luminosity=2.254, stellar_surface_gravity=1.7, stellar_age=5.13),\n",
       " '18 Del': Star(spectral_type='G6III', stellar_effective_temperature=4980.0, stellar_radius=8.8, stellar_mass=2.1, stellar_luminosity=1.634, stellar_surface_gravity=2.87, stellar_age=1.1),\n",
       " '1RXS J160929.1-210524': Star(spectral_type='K7V', stellar_effective_temperature=4060.0, stellar_radius=1.31, stellar_mass=0.85, stellar_luminosity=-0.37, stellar_surface_gravity=4.0, stellar_age=0.005),\n",
       " '24 Boo': Star(spectral_type='G3IV', stellar_effective_temperature=4816.0, stellar_radius=12.19, stellar_mass=1.05, stellar_luminosity=1.877, stellar_surface_gravity=2.28, stellar_age=6.92),\n",
       " '2MASS J01033563-5515561 A': Star(spectral_type='M5.5/M6', stellar_effective_temperature=None, stellar_radius=None, stellar_mass=0.19, stellar_luminosity=None, stellar_surface_gravity=None, stellar_age=0.03),\n",
       " '2MASS J01225093-2439505': Star(spectral_type='M3.5V', stellar_effective_temperature=3530.0, stellar_radius=0.37, stellar_mass=0.4, stellar_luminosity=-1.72, stellar_surface_gravity=4.86, stellar_age=0.12),\n",
       " '2MASS J02192210-3925225': Star(spectral_type='M6', stellar_effective_temperature=3064.0, stellar_radius=0.28, stellar_mass=0.11, stellar_luminosity=-2.23, stellar_surface_gravity=4.59, stellar_age=0.035),\n",
       " '2MASS J04372171+2651014': Star(spectral_type='MV', stellar_effective_temperature=3100.0, stellar_radius=0.84, stellar_mass=0.17, stellar_luminosity=-1.164, stellar_surface_gravity=4.5, stellar_age=2.5),\n",
       " '2MASS J04414489+2301513': Star(spectral_type='M8.5', stellar_effective_temperature=2936.0, stellar_radius=0.23, stellar_mass=0.02, stellar_luminosity=-2.444, stellar_surface_gravity=5.01, stellar_age=0.001),\n",
       " '2MASS J12073346-3932539': Star(spectral_type='M8', stellar_effective_temperature=2825.0, stellar_radius=0.22, stellar_mass=0.02, stellar_luminosity=-2.561, stellar_surface_gravity=5.03, stellar_age=0.008),\n",
       " '2MASS J22362452+4751425': Star(spectral_type='K7V', stellar_effective_temperature=4045.0, stellar_radius=0.64, stellar_mass=0.6, stellar_luminosity=-1.021, stellar_surface_gravity=4.62, stellar_age=0.12),\n",
       " '30 Ari B': Star(spectral_type='F6V', stellar_effective_temperature=6331.0, stellar_radius=1.41, stellar_mass=1.93, stellar_luminosity=0.381, stellar_surface_gravity=4.43, stellar_age=0.91),\n",
       " '4 UMa': Star(spectral_type='K1III', stellar_effective_temperature=4415.0, stellar_radius=18.11, stellar_mass=1.23, stellar_luminosity=2.062, stellar_surface_gravity=1.8, stellar_age=4.604),\n",
       " '42 Dra': Star(spectral_type='K1.5III', stellar_effective_temperature=4200.0, stellar_radius=22.03, stellar_mass=0.98, stellar_luminosity=2.155, stellar_surface_gravity=1.71, stellar_age=9.49),\n",
       " '51 Eri': Star(spectral_type='F0IV', stellar_effective_temperature=7295.0, stellar_radius=1.49, stellar_mass=1.75, stellar_luminosity=0.85, stellar_surface_gravity=4.31, stellar_age=0.02),\n",
       " '51 Peg': Star(spectral_type='G5V', stellar_effective_temperature=5758.0, stellar_radius=1.18, stellar_mass=1.03, stellar_luminosity=0.136, stellar_surface_gravity=4.31, stellar_age=10.0),\n",
       " '6 Lyn': Star(spectral_type='K0IV', stellar_effective_temperature=4941.0, stellar_radius=4.94, stellar_mass=1.32, stellar_luminosity=1.119, stellar_surface_gravity=3.16, stellar_age=2.353),\n",
       " '70 Vir': Star(spectral_type='G5V', stellar_effective_temperature=5495.0, stellar_radius=1.89, stellar_mass=1.09, stellar_luminosity=0.451, stellar_surface_gravity=3.95, stellar_age=7.77),\n",
       " '8 UMi': Star(spectral_type='K0', stellar_effective_temperature=4847.0, stellar_radius=10.3, stellar_mass=1.44, stellar_luminosity=1.725, stellar_surface_gravity=2.57, stellar_age=1.7),\n",
       " '81 Cet': Star(spectral_type='G5III', stellar_effective_temperature=4734.0, stellar_radius=11.21, stellar_mass=1.23, stellar_luminosity=1.76, stellar_surface_gravity=2.41, stellar_age=None),\n",
       " '91 Aqr': Star(spectral_type='K0III', stellar_effective_temperature=4665.0, stellar_radius=11.0, stellar_mass=1.4, stellar_luminosity=1.692, stellar_surface_gravity=2.52, stellar_age=3.56),\n",
       " 'AB Aur': Star(spectral_type=None, stellar_effective_temperature=9770.0, stellar_radius=2.96, stellar_mass=2.4, stellar_luminosity=1.771, stellar_surface_gravity=3.77, stellar_age=0.003),\n",
       " 'AB Pic': Star(spectral_type='K2V', stellar_effective_temperature=5285.0, stellar_radius=1.0, stellar_mass=0.9, stellar_luminosity=-0.226, stellar_surface_gravity=4.53, stellar_age=0.03),\n",
       " 'AF Lep': Star(spectral_type='F8V', stellar_effective_temperature=6130.0, stellar_radius=1.25, stellar_mass=1.2, stellar_luminosity=0.29, stellar_surface_gravity=4.4, stellar_age=0.024),\n",
       " 'BD+03 2562': Star(spectral_type=None, stellar_effective_temperature=4095.0, stellar_radius=32.35, stellar_mass=1.14, stellar_luminosity=2.7, stellar_surface_gravity=1.89, stellar_age=5.2),\n",
       " 'BD+14 4559': Star(spectral_type='K2V', stellar_effective_temperature=4864.0, stellar_radius=0.86, stellar_mass=0.49, stellar_luminosity=-0.32, stellar_surface_gravity=4.26, stellar_age=None),\n",
       " 'BD+15 2375': Star(spectral_type='G5', stellar_effective_temperature=4649.0, stellar_radius=8.95, stellar_mass=1.08, stellar_luminosity=1.57, stellar_surface_gravity=2.61, stellar_age=7.41),\n",
       " 'BD+15 2940': Star(spectral_type='K0', stellar_effective_temperature=4796.0, stellar_radius=14.7, stellar_mass=1.1, stellar_luminosity=2.01, stellar_surface_gravity=2.8, stellar_age=7.1),\n",
       " 'BD+20 274': Star(spectral_type='K5III', stellar_effective_temperature=4296.0, stellar_radius=17.3, stellar_mass=0.8, stellar_luminosity=1.96, stellar_surface_gravity=1.99, stellar_age=None),\n",
       " 'BD+20 594': Star(spectral_type='G', stellar_effective_temperature=5766.0, stellar_radius=1.08, stellar_mass=1.67, stellar_luminosity=-0.056, stellar_surface_gravity=4.5, stellar_age=3.34),\n",
       " 'BD+45 564': Star(spectral_type='K1', stellar_effective_temperature=5004.0, stellar_radius=0.81, stellar_mass=0.81, stellar_luminosity=-0.399, stellar_surface_gravity=4.22, stellar_age=None),\n",
       " 'BD+48 738': Star(spectral_type='K0III', stellar_effective_temperature=4414.0, stellar_radius=11.0, stellar_mass=0.74, stellar_luminosity=1.69, stellar_surface_gravity=2.24, stellar_age=None),\n",
       " 'BD+48 740': Star(spectral_type='K3III', stellar_effective_temperature=4534.0, stellar_radius=10.33, stellar_mass=1.09, stellar_luminosity=1.64, stellar_surface_gravity=2.48, stellar_age=None),\n",
       " 'BD+49 828': Star(spectral_type='K0', stellar_effective_temperature=4943.0, stellar_radius=7.6, stellar_mass=1.52, stellar_luminosity=1.47, stellar_surface_gravity=2.85, stellar_age=2.34),\n",
       " 'BD+55 362': Star(spectral_type='K3', stellar_effective_temperature=5012.0, stellar_radius=0.9, stellar_mass=0.91, stellar_luminosity=-0.313, stellar_surface_gravity=4.09, stellar_age=None),\n",
       " 'BD+60 1417': Star(spectral_type='K0', stellar_effective_temperature=4993.0, stellar_radius=0.8, stellar_mass=1.0, stellar_luminosity=0.356, stellar_surface_gravity=4.55, stellar_age=0.1),\n",
       " 'BD+63 1405': Star(spectral_type='K0', stellar_effective_temperature=5000.0, stellar_radius=0.8, stellar_mass=0.82, stellar_luminosity=-0.413, stellar_surface_gravity=4.2, stellar_age=None),\n",
       " 'BD-00 4475': Star(spectral_type='G0', stellar_effective_temperature=5040.0, stellar_radius=0.84, stellar_mass=0.81, stellar_luminosity=-0.35, stellar_surface_gravity=4.25, stellar_age=None),\n",
       " 'BD-10 3166': Star(spectral_type='K0V', stellar_effective_temperature=5393.0, stellar_radius=0.91, stellar_mass=1.47, stellar_luminosity=-0.191, stellar_surface_gravity=4.69, stellar_age=1.0),\n",
       " 'BD-13 2130': Star(spectral_type='G5IV/V', stellar_effective_temperature=4545.0, stellar_radius=19.17, stellar_mass=2.12, stellar_luminosity=2.043, stellar_surface_gravity=2.2, stellar_age=0.74),\n",
       " 'BD-17 63': Star(spectral_type='K5V', stellar_effective_temperature=4714.0, stellar_radius=0.69, stellar_mass=0.74, stellar_luminosity=-0.678, stellar_surface_gravity=4.26, stellar_age=4.3),\n",
       " 'CD Cet': Star(spectral_type='M5.0V', stellar_effective_temperature=3130.0, stellar_radius=0.17, stellar_mass=0.16, stellar_luminosity=-2.533, stellar_surface_gravity=4.93, stellar_age=3.0),\n",
       " 'CFBDSIR J145829+101343': Star(spectral_type=None, stellar_effective_temperature=580.5, stellar_radius=None, stellar_mass=0.02, stellar_luminosity=None, stellar_surface_gravity=4.72, stellar_age=None),\n",
       " 'CFHTWIR-Oph 98 A': Star(spectral_type='M9-L1', stellar_effective_temperature=2320.0, stellar_radius=0.24, stellar_mass=0.01, stellar_luminosity=-2.85, stellar_surface_gravity=3.85, stellar_age=0.003),\n",
       " 'CHXR 73': Star(spectral_type='M3.5', stellar_effective_temperature=3099.0, stellar_radius=None, stellar_mass=0.35, stellar_luminosity=None, stellar_surface_gravity=None, stellar_age=0.002),\n",
       " 'CI Tau': Star(spectral_type='K7', stellar_effective_temperature=3807.0, stellar_radius=1.88, stellar_mass=0.9, stellar_luminosity=-0.255, stellar_surface_gravity=None, stellar_age=0.003),\n",
       " 'COCONUTS-2 A': Star(spectral_type='M3V', stellar_effective_temperature=3406.0, stellar_radius=0.39, stellar_mass=0.37, stellar_luminosity=-1.732, stellar_surface_gravity=4.83, stellar_age=0.475),\n",
       " 'CT Cha': Star(spectral_type='K5e', stellar_effective_temperature=4403.0, stellar_radius=1.68, stellar_mass=None, stellar_luminosity=-0.102, stellar_surface_gravity=3.66, stellar_age=0.002),\n",
       " 'CoRoT-1': Star(spectral_type='G0V', stellar_effective_temperature=5950.0, stellar_radius=1.11, stellar_mass=0.95, stellar_luminosity=0.298, stellar_surface_gravity=4.25, stellar_age=1.6),\n",
       " 'CoRoT-10': Star(spectral_type='K1V', stellar_effective_temperature=5075.0, stellar_radius=0.79, stellar_mass=0.89, stellar_luminosity=-0.726, stellar_surface_gravity=4.65, stellar_age=3.0),\n",
       " 'CoRoT-11': Star(spectral_type='F6V', stellar_effective_temperature=6440.0, stellar_radius=1.37, stellar_mass=1.27, stellar_luminosity=0.378, stellar_surface_gravity=4.22, stellar_age=2.0),\n",
       " 'CoRoT-12': Star(spectral_type=None, stellar_effective_temperature=5675.0, stellar_radius=1.12, stellar_mass=1.08, stellar_luminosity=0.07, stellar_surface_gravity=4.38, stellar_age=6.3),\n",
       " 'CoRoT-13': Star(spectral_type='G0V', stellar_effective_temperature=5945.0, stellar_radius=1.01, stellar_mass=1.09, stellar_luminosity=0.073, stellar_surface_gravity=4.46, stellar_age=1.635),\n",
       " 'CoRoT-14': Star(spectral_type='F9V', stellar_effective_temperature=6035.0, stellar_radius=1.21, stellar_mass=1.13, stellar_luminosity=0.119, stellar_surface_gravity=4.35, stellar_age=4.2),\n",
       " 'CoRoT-16': Star(spectral_type='G5V', stellar_effective_temperature=5650.0, stellar_radius=1.19, stellar_mass=1.1, stellar_luminosity=-0.435, stellar_surface_gravity=4.36, stellar_age=6.73),\n",
       " 'CoRoT-17': Star(spectral_type='G2V', stellar_effective_temperature=5740.0, stellar_radius=1.59, stellar_mass=1.04, stellar_luminosity=0.134, stellar_surface_gravity=4.4, stellar_age=10.7),\n",
       " 'CoRoT-18': Star(spectral_type='G9V', stellar_effective_temperature=5440.0, stellar_radius=1.0, stellar_mass=0.95, stellar_luminosity=-0.17, stellar_surface_gravity=4.4, stellar_age=0.032),\n",
       " 'CoRoT-19': Star(spectral_type='F9V', stellar_effective_temperature=6090.0, stellar_radius=1.65, stellar_mass=1.21, stellar_luminosity=0.544, stellar_surface_gravity=4.07, stellar_age=5.0),\n",
       " 'CoRoT-2': Star(spectral_type=None, stellar_effective_temperature=5625.0, stellar_radius=0.91, stellar_mass=0.96, stellar_luminosity=-0.131, stellar_surface_gravity=4.53, stellar_age=2.7),\n",
       " 'CoRoT-21': Star(spectral_type='F8IV', stellar_effective_temperature=6200.0, stellar_radius=1.95, stellar_mass=1.29, stellar_luminosity=0.705, stellar_surface_gravity=3.7, stellar_age=4.1),\n",
       " 'CoRoT-22': Star(spectral_type='G3V', stellar_effective_temperature=5939.0, stellar_radius=1.14, stellar_mass=1.1, stellar_luminosity=0.014, stellar_surface_gravity=4.36, stellar_age=3.3),\n",
       " 'CoRoT-23': Star(spectral_type='G0V', stellar_effective_temperature=5900.0, stellar_radius=1.61, stellar_mass=1.14, stellar_luminosity=0.087, stellar_surface_gravity=4.3, stellar_age=7.2),\n",
       " 'CoRoT-25': Star(spectral_type='F9', stellar_effective_temperature=6040.0, stellar_radius=1.19, stellar_mass=1.09, stellar_luminosity=0.141, stellar_surface_gravity=4.31, stellar_age=4.5),\n",
       " 'CoRoT-26': Star(spectral_type='G5', stellar_effective_temperature=5590.0, stellar_radius=1.79, stellar_mass=1.09, stellar_luminosity=0.451, stellar_surface_gravity=3.99, stellar_age=8.6),\n",
       " 'CoRoT-27': Star(spectral_type='G2', stellar_effective_temperature=5900.0, stellar_radius=1.08, stellar_mass=1.05, stellar_luminosity=-0.166, stellar_surface_gravity=4.4, stellar_age=4.21),\n",
       " 'CoRoT-28': Star(spectral_type='G8/9IV', stellar_effective_temperature=5150.0, stellar_radius=1.78, stellar_mass=1.01, stellar_luminosity=0.388, stellar_surface_gravity=3.6, stellar_age=12.0),\n",
       " 'CoRoT-29': Star(spectral_type='K0V', stellar_effective_temperature=5260.0, stellar_radius=0.9, stellar_mass=0.97, stellar_luminosity=-0.094, stellar_surface_gravity=4.3, stellar_age=4.5),\n",
       " 'CoRoT-3': Star(spectral_type='F3V', stellar_effective_temperature=6740.0, stellar_radius=1.56, stellar_mass=1.37, stellar_luminosity=0.391, stellar_surface_gravity=4.22, stellar_age=2.2),\n",
       " 'CoRoT-30': Star(spectral_type='G3V', stellar_effective_temperature=5650.0, stellar_radius=0.91, stellar_mass=0.98, stellar_luminosity=-0.197, stellar_surface_gravity=4.4, stellar_age=3.0),\n",
       " 'CoRoT-31': Star(spectral_type='G2IV', stellar_effective_temperature=5700.0, stellar_radius=2.15, stellar_mass=1.25, stellar_luminosity=0.398, stellar_surface_gravity=3.85, stellar_age=4.7),\n",
       " 'CoRoT-35': Star(spectral_type='F6V', stellar_effective_temperature=6390.0, stellar_radius=1.65, stellar_mass=1.01, stellar_luminosity=0.362, stellar_surface_gravity=4.01, stellar_age=6.1),\n",
       " 'CoRoT-36': Star(spectral_type='F3V', stellar_effective_temperature=6730.0, stellar_radius=1.52, stellar_mass=1.32, stellar_luminosity=0.813, stellar_surface_gravity=4.16, stellar_age=2.1),\n",
       " 'CoRoT-4': Star(spectral_type=None, stellar_effective_temperature=6190.0, stellar_radius=1.17, stellar_mass=1.16, stellar_luminosity=0.185, stellar_surface_gravity=4.41, stellar_age=1.0),\n",
       " 'CoRoT-5': Star(spectral_type='F9V', stellar_effective_temperature=6100.0, stellar_radius=1.19, stellar_mass=1.0, stellar_luminosity=0.18, stellar_surface_gravity=4.19, stellar_age=6.9),\n",
       " 'CoRoT-6': Star(spectral_type='F9V', stellar_effective_temperature=6090.0, stellar_radius=1.03, stellar_mass=1.05, stellar_luminosity=0.026, stellar_surface_gravity=4.43, stellar_age=2.5),\n",
       " 'CoRoT-8': Star(spectral_type='K1V', stellar_effective_temperature=5080.0, stellar_radius=0.77, stellar_mass=0.88, stellar_luminosity=-0.4, stellar_surface_gravity=4.58, stellar_age=3.0),\n",
       " 'CoRoT-9': Star(spectral_type='G3V', stellar_effective_temperature=5625.0, stellar_radius=0.96, stellar_mass=0.96, stellar_luminosity=-0.254, stellar_surface_gravity=4.54, stellar_age=6.0),\n",
       " 'CoRoTID 223977153': Star(spectral_type='G0VI', stellar_effective_temperature=5970.0, stellar_radius=0.79, stellar_mass=1.08, stellar_luminosity=-0.155, stellar_surface_gravity=4.67, stellar_age=None),\n",
       " 'DE CVn': Star(spectral_type=None, stellar_effective_temperature=3579.0, stellar_radius=0.42, stellar_mass=0.51, stellar_luminosity=-1.574, stellar_surface_gravity=4.8, stellar_age=None),\n",
       " 'DENIS-P J082303.1-491201': Star(spectral_type='L1.5', stellar_effective_temperature=None, stellar_radius=None, stellar_mass=0.07, stellar_luminosity=None, stellar_surface_gravity=None, stellar_age=1.0),\n",
       " 'DH Tau': Star(spectral_type='M0.5', stellar_effective_temperature=4371.0, stellar_radius=0.27, stellar_mass=0.33, stellar_luminosity=-0.212, stellar_surface_gravity=4.0, stellar_age=0.001),\n",
       " 'DMPP-2': Star(spectral_type='F5V', stellar_effective_temperature=6500.0, stellar_radius=1.78, stellar_mass=1.44, stellar_luminosity=0.104, stellar_surface_gravity=4.1, stellar_age=2.0),\n",
       " 'DMPP-3 A': Star(spectral_type='K0V', stellar_effective_temperature=5138.0, stellar_radius=0.91, stellar_mass=0.87, stellar_luminosity=-0.293, stellar_surface_gravity=4.3, stellar_age=10.9),\n",
       " 'DMPP-4': Star(spectral_type='F5-F8V', stellar_effective_temperature=6400.0, stellar_radius=1.38, stellar_mass=1.25, stellar_luminosity=0.459, stellar_surface_gravity=4.24, stellar_age=2.15),\n",
       " 'DP Leo': Star(spectral_type=None, stellar_effective_temperature=13500.0, stellar_radius=0.01, stellar_mass=0.69, stellar_luminosity=-2.4, stellar_surface_gravity=None, stellar_age=None),\n",
       " 'DS Tuc A': Star(spectral_type='G6V', stellar_effective_temperature=5428.0, stellar_radius=0.96, stellar_mass=1.01, stellar_luminosity=-0.14, stellar_surface_gravity=4.6, stellar_age=0.045),\n",
       " 'EPIC 201170410': Star(spectral_type=None, stellar_effective_temperature=3648.0, stellar_radius=0.28, stellar_mass=0.29, stellar_luminosity=-1.9, stellar_surface_gravity=5.0, stellar_age=None),\n",
       " 'EPIC 201238110': Star(spectral_type=None, stellar_effective_temperature=3587.0, stellar_radius=0.37, stellar_mass=0.41, stellar_luminosity=-1.508, stellar_surface_gravity=4.78, stellar_age=None),\n",
       " 'EPIC 201427007': Star(spectral_type=None, stellar_effective_temperature=5633.0, stellar_radius=0.94, stellar_mass=0.93, stellar_luminosity=-0.049, stellar_surface_gravity=4.4, stellar_age=None),\n",
       " 'EPIC 201497682': Star(spectral_type=None, stellar_effective_temperature=4991.0, stellar_radius=0.55, stellar_mass=0.78, stellar_luminosity=-0.766, stellar_surface_gravity=4.63, stellar_age=None),\n",
       " 'EPIC 201595106': Star(spectral_type=None, stellar_effective_temperature=5820.0, stellar_radius=0.93, stellar_mass=1.02, stellar_luminosity=-0.026, stellar_surface_gravity=4.6, stellar_age=None),\n",
       " 'EPIC 201757695': Star(spectral_type=None, stellar_effective_temperature=4520.0, stellar_radius=0.66, stellar_mass=0.73, stellar_luminosity=-0.364, stellar_surface_gravity=4.66, stellar_age=None),\n",
       " 'EPIC 201841433': Star(spectral_type=None, stellar_effective_temperature=5053.0, stellar_radius=0.63, stellar_mass=0.8, stellar_luminosity=-0.635, stellar_surface_gravity=4.59, stellar_age=None),\n",
       " 'EPIC 206032309': Star(spectral_type=None, stellar_effective_temperature=3489.0, stellar_radius=0.37, stellar_mass=0.22, stellar_luminosity=-1.73, stellar_surface_gravity=4.85, stellar_age=None),\n",
       " 'EPIC 206215704': Star(spectral_type=None, stellar_effective_temperature=3297.0, stellar_radius=0.25, stellar_mass=0.41, stellar_luminosity=-2.088, stellar_surface_gravity=4.9, stellar_age=None),\n",
       " 'EPIC 211822797': Star(spectral_type='M0', stellar_effective_temperature=4057.0, stellar_radius=0.58, stellar_mass=0.62, stellar_luminosity=-1.153, stellar_surface_gravity=4.7, stellar_age=0.79),\n",
       " 'EPIC 211945201': Star(spectral_type='G0', stellar_effective_temperature=6069.0, stellar_radius=1.39, stellar_mass=1.17, stellar_luminosity=0.373, stellar_surface_gravity=4.22, stellar_age=3.99),\n",
       " 'EPIC 212424622': Star(spectral_type=None, stellar_effective_temperature=5782.33, stellar_radius=1.22, stellar_mass=1.11, stellar_luminosity=0.179, stellar_surface_gravity=4.3, stellar_age=None),\n",
       " 'EPIC 212499991': Star(spectral_type=None, stellar_effective_temperature=4982.79, stellar_radius=0.76, stellar_mass=0.91, stellar_luminosity=-0.497, stellar_surface_gravity=4.61, stellar_age=None),\n",
       " 'EPIC 220492298': Star(spectral_type=None, stellar_effective_temperature=5620.0, stellar_radius=0.89, stellar_mass=0.95, stellar_luminosity=-0.009, stellar_surface_gravity=4.5, stellar_age=None),\n",
       " 'EPIC 228836835': Star(spectral_type=None, stellar_effective_temperature=3782.0, stellar_radius=0.32, stellar_mass=0.42, stellar_luminosity=-1.612, stellar_surface_gravity=5.0, stellar_age=None),\n",
       " 'EPIC 229004835': Star(spectral_type=None, stellar_effective_temperature=5868.0, stellar_radius=1.0, stellar_mass=0.97, stellar_luminosity=0.03, stellar_surface_gravity=4.47, stellar_age=4.9),\n",
       " 'EPIC 246851721': Star(spectral_type='F5V', stellar_effective_temperature=6202.0, stellar_radius=1.59, stellar_mass=1.32, stellar_luminosity=0.526, stellar_surface_gravity=4.16, stellar_age=3.02),\n",
       " 'EPIC 248847494': Star(spectral_type=None, stellar_effective_temperature=4898.0, stellar_radius=2.7, stellar_mass=0.9, stellar_luminosity=0.548, stellar_surface_gravity=3.52, stellar_age=None),\n",
       " 'FU Tau': Star(spectral_type='M7.25', stellar_effective_temperature=2838.0, stellar_radius=None, stellar_mass=0.05, stellar_luminosity=-0.699, stellar_surface_gravity=None, stellar_age=0.001),\n",
       " 'G 9-40': Star(spectral_type='M2.5V', stellar_effective_temperature=3348.0, stellar_radius=0.31, stellar_mass=0.29, stellar_luminosity=-1.971, stellar_surface_gravity=4.93, stellar_age=9.9),\n",
       " 'GJ 1151': Star(spectral_type='M4.5V', stellar_effective_temperature=3280.0, stellar_radius=0.18, stellar_mass=0.16, stellar_luminosity=-2.48, stellar_surface_gravity=5.09, stellar_age=None),\n",
       " 'GJ 1214': Star(spectral_type='M4V', stellar_effective_temperature=3101.0, stellar_radius=0.22, stellar_mass=0.18, stellar_luminosity=-2.409, stellar_surface_gravity=5.03, stellar_age=3.0),\n",
       " 'GJ 1252': Star(spectral_type='M3', stellar_effective_temperature=3458.0, stellar_radius=0.39, stellar_mass=0.38, stellar_luminosity=-1.708, stellar_surface_gravity=4.89, stellar_age=3.9),\n",
       " 'GJ 1265': Star(spectral_type='M4.5V', stellar_effective_temperature=3236.0, stellar_radius=0.19, stellar_mass=0.18, stellar_luminosity=-2.439, stellar_surface_gravity=5.09, stellar_age=None),\n",
       " 'GJ 160.2': Star(spectral_type='M0V', stellar_effective_temperature=4347.0, stellar_radius=0.66, stellar_mass=0.69, stellar_luminosity=-0.796, stellar_surface_gravity=4.61, stellar_age=None),\n",
       " 'GJ 179': Star(spectral_type='M3.5V', stellar_effective_temperature=3370.0, stellar_radius=0.38, stellar_mass=0.36, stellar_luminosity=-1.796, stellar_surface_gravity=4.83, stellar_age=None),\n",
       " 'GJ 2056': Star(spectral_type='M0V:', stellar_effective_temperature=4069.95, stellar_radius=0.71, stellar_mass=0.62, stellar_luminosity=-0.905, stellar_surface_gravity=4.48, stellar_age=None),\n",
       " 'GJ 251': Star(spectral_type='M3.0V', stellar_effective_temperature=3451.0, stellar_radius=0.36, stellar_mass=0.36, stellar_luminosity=-1.772, stellar_surface_gravity=4.96, stellar_age=None),\n",
       " 'GJ 27.1': Star(spectral_type='M0.5V', stellar_effective_temperature=3542.0, stellar_radius=0.52, stellar_mass=0.53, stellar_luminosity=-1.585, stellar_surface_gravity=4.72, stellar_age=None),\n",
       " 'GJ 3021': Star(spectral_type='G6V', stellar_effective_temperature=5540.0, stellar_radius=0.9, stellar_mass=0.9, stellar_luminosity=-0.18, stellar_surface_gravity=4.7, stellar_age=0.37),\n",
       " 'GJ 3082': Star(spectral_type='M4', stellar_effective_temperature=3910.0, stellar_radius=0.47, stellar_mass=0.47, stellar_luminosity=-1.463, stellar_surface_gravity=4.77, stellar_age=None),\n",
       " 'GJ 3090': Star(spectral_type='M2V', stellar_effective_temperature=3556.0, stellar_radius=0.52, stellar_mass=0.52, stellar_luminosity=-1.342, stellar_surface_gravity=4.73, stellar_age=None),\n",
       " 'GJ 3222': Star(spectral_type='K0V', stellar_effective_temperature=5257.46, stellar_radius=0.93, stellar_mass=0.89, stellar_luminosity=-0.252, stellar_surface_gravity=4.43, stellar_age=None),\n",
       " 'GJ 3341': Star(spectral_type='M2.5', stellar_effective_temperature=3526.0, stellar_radius=0.44, stellar_mass=0.47, stellar_luminosity=-1.538, stellar_surface_gravity=4.77, stellar_age=None),\n",
       " 'GJ 338 B': Star(spectral_type='M0V', stellar_effective_temperature=4014.0, stellar_radius=0.58, stellar_mass=0.64, stellar_luminosity=-1.101, stellar_surface_gravity=4.68, stellar_age=4.0),\n",
       " 'GJ 3470': Star(spectral_type='M1.5', stellar_effective_temperature=3600.0, stellar_radius=0.55, stellar_mass=0.54, stellar_luminosity=-1.538, stellar_surface_gravity=4.7, stellar_age=1.65),\n",
       " 'GJ 3634': Star(spectral_type='M2.5', stellar_effective_temperature=3517.0, stellar_radius=0.43, stellar_mass=0.45, stellar_luminosity=-1.699, stellar_surface_gravity=4.78, stellar_age=5.0),\n",
       " 'GJ 3779': Star(spectral_type='M4.0V', stellar_effective_temperature=3324.0, stellar_radius=0.28, stellar_mass=0.27, stellar_luminosity=-2.062, stellar_surface_gravity=5.05, stellar_age=None),\n",
       " 'GJ 393': Star(spectral_type='M2.0V', stellar_effective_temperature=3579.0, stellar_radius=0.43, stellar_mass=0.43, stellar_luminosity=-1.571, stellar_surface_gravity=4.88, stellar_age=None),\n",
       " 'GJ 3942': Star(spectral_type='M0', stellar_effective_temperature=3867.0, stellar_radius=0.61, stellar_mass=0.63, stellar_luminosity=-1.12, stellar_surface_gravity=4.65, stellar_age=None),\n",
       " 'GJ 3988': Star(spectral_type='M4.5V', stellar_effective_temperature=3273.0, stellar_radius=0.2, stellar_mass=0.18, stellar_luminosity=-2.395, stellar_surface_gravity=4.92, stellar_age=None),\n",
       " 'GJ 422': Star(spectral_type='M3.5V', stellar_effective_temperature=3323.0, stellar_radius=0.37, stellar_mass=0.35, stellar_luminosity=-1.959, stellar_surface_gravity=4.85, stellar_age=None),\n",
       " 'GJ 4276': Star(spectral_type='M4.0', stellar_effective_temperature=3387.0, stellar_radius=0.41, stellar_mass=0.41, stellar_luminosity=-1.706, stellar_surface_gravity=4.97, stellar_age=6.9),\n",
       " 'GJ 436': Star(spectral_type='M2.5V', stellar_effective_temperature=3586.11, stellar_radius=0.46, stellar_mass=0.47, stellar_luminosity=-1.585, stellar_surface_gravity=4.79, stellar_age=6.0),\n",
       " 'GJ 463': Star(spectral_type='M3V', stellar_effective_temperature=3540.0, stellar_radius=0.49, stellar_mass=0.49, stellar_luminosity=-1.523, stellar_surface_gravity=4.86, stellar_age=None),\n",
       " 'GJ 480': Star(spectral_type='M3.5Ve', stellar_effective_temperature=3381.0, stellar_radius=0.46, stellar_mass=0.45, stellar_luminosity=-1.612, stellar_surface_gravity=4.78, stellar_age=None),\n",
       " 'GJ 486': Star(spectral_type='M3.5V', stellar_effective_temperature=3340.0, stellar_radius=0.33, stellar_mass=0.32, stellar_luminosity=-1.917, stellar_surface_gravity=4.89, stellar_age=None),\n",
       " 'GJ 504': Star(spectral_type='G0V', stellar_effective_temperature=6234.0, stellar_radius=1.26, stellar_mass=1.22, stellar_luminosity=0.332, stellar_surface_gravity=4.6, stellar_age=0.16),\n",
       " 'GJ 514': Star(spectral_type='M0.5-1.0V', stellar_effective_temperature=3728.0, stellar_radius=0.5, stellar_mass=0.51, stellar_luminosity=-1.367, stellar_surface_gravity=4.76, stellar_age=0.8),\n",
       " 'GJ 536': Star(spectral_type='M1V', stellar_effective_temperature=3685.0, stellar_radius=0.5, stellar_mass=0.52, stellar_luminosity=-1.377, stellar_surface_gravity=4.75, stellar_age=0.4),\n",
       " 'GJ 625': Star(spectral_type='M2', stellar_effective_temperature=3499.0, stellar_radius=0.31, stellar_mass=0.3, stellar_luminosity=-1.894, stellar_surface_gravity=4.94, stellar_age=None),\n",
       " 'GJ 649': Star(spectral_type='M1.0', stellar_effective_temperature=3734.0, stellar_radius=0.5, stellar_mass=0.51, stellar_luminosity=-1.361, stellar_surface_gravity=4.76, stellar_age=0.44),\n",
       " 'GJ 674': Star(spectral_type='M2.5', stellar_effective_temperature=3600.0, stellar_radius=0.36, stellar_mass=0.35, stellar_luminosity=-1.796, stellar_surface_gravity=4.86, stellar_age=0.55),\n",
       " 'GJ 680': Star(spectral_type='K5', stellar_effective_temperature=3563.0, stellar_radius=0.46, stellar_mass=0.46, stellar_luminosity=-1.514, stellar_surface_gravity=4.77, stellar_age=None),\n",
       " 'GJ 685': Star(spectral_type='M0.5', stellar_effective_temperature=3816.0, stellar_radius=0.54, stellar_mass=0.55, stellar_luminosity=-1.253, stellar_surface_gravity=4.72, stellar_age=None),\n",
       " 'GJ 720 A': Star(spectral_type='M0.5V', stellar_effective_temperature=3837.0, stellar_radius=0.56, stellar_mass=0.57, stellar_luminosity=-1.217, stellar_surface_gravity=4.71, stellar_age=None),\n",
       " 'GJ 724': Star(spectral_type='M1.0V', stellar_effective_temperature=3799.0, stellar_radius=0.52, stellar_mass=0.53, stellar_luminosity=-1.291, stellar_surface_gravity=4.88, stellar_age=None),\n",
       " 'GJ 740': Star(spectral_type='M1.0V', stellar_effective_temperature=3913.0, stellar_radius=0.56, stellar_mass=0.58, stellar_luminosity=-1.206, stellar_surface_gravity=4.68, stellar_age=None),\n",
       " 'GJ 832': Star(spectral_type='M2/3V', stellar_effective_temperature=3472.0, stellar_radius=0.44, stellar_mass=0.45, stellar_luminosity=-1.585, stellar_surface_gravity=4.79, stellar_age=8.1),\n",
       " 'GJ 86': Star(spectral_type='K1V', stellar_effective_temperature=5182.0, stellar_radius=0.77, stellar_mass=0.93, stellar_luminosity=-0.39, stellar_surface_gravity=4.63, stellar_age=11.3),\n",
       " 'GJ 896 A': Star(spectral_type='M3.5V', stellar_effective_temperature=3345.0, stellar_radius=0.39, stellar_mass=0.44, stellar_luminosity=-1.755, stellar_surface_gravity=4.83, stellar_age=None),\n",
       " 'GJ 9066': Star(spectral_type='M5.0V', stellar_effective_temperature=3154.0, stellar_radius=0.16, stellar_mass=0.15, stellar_luminosity=-2.595, stellar_surface_gravity=5.01, stellar_age=None),\n",
       " 'GJ 9404': Star(spectral_type='M2V', stellar_effective_temperature=3811.0, stellar_radius=0.63, stellar_mass=0.62, stellar_luminosity=-1.0, stellar_surface_gravity=4.63, stellar_age=None),\n",
       " 'GJ 96': Star(spectral_type='M2', stellar_effective_temperature=3785.0, stellar_radius=0.58, stellar_mass=0.6, stellar_luminosity=-1.052, stellar_surface_gravity=4.67, stellar_age=None),\n",
       " 'GJ 9689': Star(spectral_type='M0.5', stellar_effective_temperature=3836.0, stellar_radius=0.57, stellar_mass=0.59, stellar_luminosity=-1.2, stellar_surface_gravity=4.69, stellar_age=8.9),\n",
       " 'GJ 9714': Star(spectral_type='K5V', stellar_effective_temperature=4263.0, stellar_radius=0.66, stellar_mass=0.67, stellar_luminosity=-0.884, stellar_surface_gravity=4.62, stellar_age=None),\n",
       " 'GPX-1': Star(spectral_type='F2', stellar_effective_temperature=7000.0, stellar_radius=1.56, stellar_mass=1.68, stellar_luminosity=0.727, stellar_surface_gravity=4.27, stellar_age=0.27),\n",
       " 'GQ Lup': Star(spectral_type='K7eV', stellar_effective_temperature=4360.0, stellar_radius=1.94, stellar_mass=0.7, stellar_luminosity=-0.072, stellar_surface_gravity=3.65, stellar_age=0.001),\n",
       " 'GSC 06214-00210': Star(spectral_type='K7', stellar_effective_temperature=4200.0, stellar_radius=0.9, stellar_mass=0.9, stellar_luminosity=-0.42, stellar_surface_gravity=4.37, stellar_age=0.005),\n",
       " 'GU Psc': Star(spectral_type='M3', stellar_effective_temperature=4031.81, stellar_radius=0.45, stellar_mass=0.33, stellar_luminosity=-1.602, stellar_surface_gravity=4.78, stellar_age=0.1),\n",
       " 'Gaia-1': Star(spectral_type=None, stellar_effective_temperature=5470.0, stellar_radius=0.95, stellar_mass=0.95, stellar_luminosity=-0.159, stellar_surface_gravity=4.44, stellar_age=None),\n",
       " 'Gaia-2': Star(spectral_type=None, stellar_effective_temperature=5720.0, stellar_radius=1.06, stellar_mass=1.0, stellar_luminosity=0.057, stellar_surface_gravity=4.37, stellar_age=None),\n",
       " 'Gl 378': Star(spectral_type='M1', stellar_effective_temperature=3879.0, stellar_radius=0.56, stellar_mass=0.56, stellar_luminosity=-1.222, stellar_surface_gravity=4.69, stellar_age=None),\n",
       " 'Gl 49': Star(spectral_type='M1.5V', stellar_effective_temperature=3805.0, stellar_radius=0.51, stellar_mass=0.52, stellar_luminosity=-1.306, stellar_surface_gravity=4.69, stellar_age=None),\n",
       " 'Gl 686': Star(spectral_type='M1.0V', stellar_effective_temperature=3656.0, stellar_radius=0.43, stellar_mass=0.43, stellar_luminosity=-1.53, stellar_surface_gravity=4.87, stellar_age=None),\n",
       " 'HAT-P-1': Star(spectral_type='G0V', stellar_effective_temperature=5980.0, stellar_radius=1.17, stellar_mass=1.15, stellar_luminosity=0.225, stellar_surface_gravity=4.36, stellar_age=3.6),\n",
       " 'HAT-P-12': Star(spectral_type='K4', stellar_effective_temperature=4650.0, stellar_radius=0.7, stellar_mass=0.73, stellar_luminosity=-0.678, stellar_surface_gravity=4.61, stellar_age=2.5),\n",
       " 'HAT-P-14': Star(spectral_type='F5V', stellar_effective_temperature=6600.0, stellar_radius=1.82, stellar_mass=2.65, stellar_luminosity=0.644, stellar_surface_gravity=4.25, stellar_age=1.6),\n",
       " 'HAT-P-15': Star(spectral_type='G5', stellar_effective_temperature=5568.0, stellar_radius=1.07, stellar_mass=1.0, stellar_luminosity=0.0, stellar_surface_gravity=4.38, stellar_age=6.8),\n",
       " 'HAT-P-16': Star(spectral_type='F8', stellar_effective_temperature=6158.0, stellar_radius=1.24, stellar_mass=1.22, stellar_luminosity=0.294, stellar_surface_gravity=4.34, stellar_age=2.0),\n",
       " 'HAT-P-18': Star(spectral_type='K2', stellar_effective_temperature=4803.0, stellar_radius=0.75, stellar_mass=0.77, stellar_luminosity=-0.569, stellar_surface_gravity=4.57, stellar_age=12.4),\n",
       " 'HAT-P-19': Star(spectral_type='K1', stellar_effective_temperature=4962.0, stellar_radius=0.77, stellar_mass=0.81, stellar_luminosity=-0.485, stellar_surface_gravity=4.57, stellar_age=7.2),\n",
       " 'HAT-P-20': Star(spectral_type='K3', stellar_effective_temperature=4595.0, stellar_radius=0.69, stellar_mass=0.76, stellar_luminosity=-0.721, stellar_surface_gravity=4.63, stellar_age=6.7),\n",
       " 'HAT-P-21': Star(spectral_type='G3', stellar_effective_temperature=5588.0, stellar_radius=1.21, stellar_mass=1.24, stellar_luminosity=0.025, stellar_surface_gravity=4.33, stellar_age=10.2),\n",
       " 'HAT-P-22': Star(spectral_type='G5V', stellar_effective_temperature=5302.0, stellar_radius=1.11, stellar_mass=1.13, stellar_luminosity=-0.114, stellar_surface_gravity=4.36, stellar_age=12.4),\n",
       " 'HAT-P-23': Star(spectral_type='G0', stellar_effective_temperature=5905.0, stellar_radius=1.2, stellar_mass=1.13, stellar_luminosity=0.199, stellar_surface_gravity=4.33, stellar_age=4.0),\n",
       " 'HAT-P-24': Star(spectral_type='F8', stellar_effective_temperature=6373.0, stellar_radius=1.38, stellar_mass=1.37, stellar_luminosity=0.408, stellar_surface_gravity=4.27, stellar_age=2.8),\n",
       " 'HAT-P-25': Star(spectral_type='G5', stellar_effective_temperature=5519.0, stellar_radius=0.92, stellar_mass=1.01, stellar_luminosity=-0.152, stellar_surface_gravity=4.52, stellar_age=3.2),\n",
       " 'HAT-P-26': Star(spectral_type='K1', stellar_effective_temperature=5079.0, stellar_radius=0.87, stellar_mass=1.12, stellar_luminosity=-0.359, stellar_surface_gravity=4.56, stellar_age=9.0),\n",
       " 'HAT-P-27': Star(spectral_type='G8', stellar_effective_temperature=5316.0, stellar_radius=0.86, stellar_mass=0.92, stellar_luminosity=-0.269, stellar_surface_gravity=4.53, stellar_age=4.4),\n",
       " 'HAT-P-28': Star(spectral_type='G3', stellar_effective_temperature=5680.0, stellar_radius=1.1, stellar_mass=1.03, stellar_luminosity=0.053, stellar_surface_gravity=4.36, stellar_age=6.1),\n",
       " 'HAT-P-29': Star(spectral_type='F8', stellar_effective_temperature=6087.0, stellar_radius=1.3, stellar_mass=1.45, stellar_luminosity=0.272, stellar_surface_gravity=4.34, stellar_age=2.2),\n",
       " 'HAT-P-3': Star(spectral_type='K', stellar_effective_temperature=5185.0, stellar_radius=0.87, stellar_mass=1.06, stellar_luminosity=-0.36, stellar_surface_gravity=4.56, stellar_age=1.6),\n",
       " 'HAT-P-30': Star(spectral_type='F7', stellar_effective_temperature=6304.0, stellar_radius=1.31, stellar_mass=1.55, stellar_luminosity=0.312, stellar_surface_gravity=4.36, stellar_age=1.0),\n",
       " 'HAT-P-31': Star(spectral_type=None, stellar_effective_temperature=6065.0, stellar_radius=1.39, stellar_mass=1.31, stellar_luminosity=0.433, stellar_surface_gravity=4.26, stellar_age=3.17),\n",
       " 'HAT-P-32': Star(spectral_type=None, stellar_effective_temperature=6001.0, stellar_radius=1.37, stellar_mass=1.13, stellar_luminosity=0.338, stellar_surface_gravity=4.22, stellar_age=2.7),\n",
       " 'HAT-P-33': Star(spectral_type='F4', stellar_effective_temperature=6446.0, stellar_radius=1.79, stellar_mass=1.82, stellar_luminosity=0.618, stellar_surface_gravity=4.15, stellar_age=2.3),\n",
       " 'HAT-P-34': Star(spectral_type=None, stellar_effective_temperature=6442.0, stellar_radius=1.53, stellar_mass=1.39, stellar_luminosity=0.6, stellar_surface_gravity=4.21, stellar_age=1.7),\n",
       " 'HAT-P-35': Star(spectral_type=None, stellar_effective_temperature=6096.0, stellar_radius=1.44, stellar_mass=1.24, stellar_luminosity=0.383, stellar_surface_gravity=4.21, stellar_age=3.5),\n",
       " 'HAT-P-36': Star(spectral_type='G5V', stellar_effective_temperature=5620.0, stellar_radius=1.04, stellar_mass=1.03, stellar_luminosity=0.022, stellar_surface_gravity=4.42, stellar_age=6.6),\n",
       " 'HAT-P-37': Star(spectral_type=None, stellar_effective_temperature=5500.0, stellar_radius=0.88, stellar_mass=0.93, stellar_luminosity=-0.208, stellar_surface_gravity=4.51, stellar_age=3.6),\n",
       " 'HAT-P-38': Star(spectral_type='G5', stellar_effective_temperature=5330.0, stellar_radius=0.92, stellar_mass=0.89, stellar_luminosity=-0.208, stellar_surface_gravity=4.37, stellar_age=10.1),\n",
       " 'HAT-P-39': Star(spectral_type=None, stellar_effective_temperature=6430.0, stellar_radius=1.62, stellar_mass=1.4, stellar_luminosity=0.607, stellar_surface_gravity=4.07, stellar_age=2.0),\n",
       " 'HAT-P-4': Star(spectral_type='F', stellar_effective_temperature=5860.0, stellar_radius=1.62, stellar_mass=0.56, stellar_luminosity=0.431, stellar_surface_gravity=4.14, stellar_age=3.9),\n",
       " 'HAT-P-40': Star(spectral_type=None, stellar_effective_temperature=6080.0, stellar_radius=1.94, stellar_mass=1.03, stellar_luminosity=0.778, stellar_surface_gravity=3.93, stellar_age=2.7),\n",
       " 'HAT-P-41': Star(spectral_type=None, stellar_effective_temperature=6390.0, stellar_radius=2.05, stellar_mass=2.56, stellar_luminosity=0.628, stellar_surface_gravity=4.14, stellar_age=2.2),\n",
       " 'HAT-P-42': Star(spectral_type=None, stellar_effective_temperature=5743.0, stellar_radius=1.53, stellar_mass=1.18, stellar_luminosity=0.356, stellar_surface_gravity=4.14, stellar_age=5.2),\n",
       " 'HAT-P-43': Star(spectral_type='F9', stellar_effective_temperature=5693.0, stellar_radius=1.08, stellar_mass=1.03, stellar_luminosity=0.06, stellar_surface_gravity=4.38, stellar_age=5.7),\n",
       " 'HAT-P-45': Star(spectral_type=None, stellar_effective_temperature=6330.0, stellar_radius=1.32, stellar_mass=1.26, stellar_luminosity=0.4, stellar_surface_gravity=4.3, stellar_age=2.0),\n",
       " 'HAT-P-46': Star(spectral_type=None, stellar_effective_temperature=6120.0, stellar_radius=1.4, stellar_mass=1.28, stellar_luminosity=0.391, stellar_surface_gravity=4.25, stellar_age=2.5),\n",
       " 'HAT-P-49': Star(spectral_type='F', stellar_effective_temperature=6820.0, stellar_radius=2.06, stellar_mass=2.22, stellar_luminosity=0.814, stellar_surface_gravity=4.1, stellar_age=1.5),\n",
       " 'HAT-P-5': Star(spectral_type='G', stellar_effective_temperature=5960.0, stellar_radius=1.12, stellar_mass=1.04, stellar_luminosity=0.187, stellar_surface_gravity=4.37, stellar_age=2.6),\n",
       " 'HAT-P-50': Star(spectral_type='F5', stellar_effective_temperature=6280.0, stellar_radius=1.7, stellar_mass=1.27, stellar_luminosity=0.603, stellar_surface_gravity=4.07, stellar_age=3.37),\n",
       " 'HAT-P-51': Star(spectral_type='G7', stellar_effective_temperature=5453.0, stellar_radius=0.99, stellar_mass=0.96, stellar_luminosity=-0.102, stellar_surface_gravity=4.43, stellar_age=8.1),\n",
       " 'HAT-P-52': Star(spectral_type='K1', stellar_effective_temperature=5131.0, stellar_radius=0.89, stellar_mass=0.89, stellar_luminosity=-0.305, stellar_surface_gravity=4.48, stellar_age=9.4),\n",
       " 'HAT-P-53': Star(spectral_type=None, stellar_effective_temperature=5956.0, stellar_radius=1.21, stellar_mass=1.09, stellar_luminosity=0.217, stellar_surface_gravity=4.31, stellar_age=4.67),\n",
       " 'HAT-P-54': Star(spectral_type='K7', stellar_effective_temperature=4390.0, stellar_radius=0.62, stellar_mass=0.65, stellar_luminosity=-0.902, stellar_surface_gravity=4.67, stellar_age=3.9),\n",
       " 'HAT-P-55': Star(spectral_type=None, stellar_effective_temperature=5804.0, stellar_radius=1.1, stellar_mass=1.03, stellar_luminosity=0.097, stellar_surface_gravity=4.36, stellar_age=5.3),\n",
       " 'HAT-P-56': Star(spectral_type='F8', stellar_effective_temperature=6566.0, stellar_radius=1.47, stellar_mass=1.42, stellar_luminosity=0.553, stellar_surface_gravity=3.39, stellar_age=2.01),\n",
       " 'HAT-P-57': Star(spectral_type='A8V', stellar_effective_temperature=6330.0, stellar_radius=1.85, stellar_mass=2.77, stellar_luminosity=0.806, stellar_surface_gravity=4.25, stellar_age=1.0),\n",
       " 'HAT-P-58': Star(spectral_type=None, stellar_effective_temperature=6078.0, stellar_radius=1.53, stellar_mass=1.03, stellar_luminosity=0.456, stellar_surface_gravity=4.08, stellar_age=7.11),\n",
       " 'HAT-P-59': Star(spectral_type=None, stellar_effective_temperature=5678.0, stellar_radius=1.1, stellar_mass=1.01, stellar_luminosity=0.054, stellar_surface_gravity=4.36, stellar_age=7.3),\n",
       " 'HAT-P-6': Star(spectral_type=None, stellar_effective_temperature=6570.0, stellar_radius=1.62, stellar_mass=1.79, stellar_luminosity=0.553, stellar_surface_gravity=4.22, stellar_age=2.3),\n",
       " 'HAT-P-60': Star(spectral_type=None, stellar_effective_temperature=6212.0, stellar_radius=2.2, stellar_mass=1.44, stellar_luminosity=0.809, stellar_surface_gravity=3.91, stellar_age=2.765),\n",
       " 'HAT-P-61': Star(spectral_type=None, stellar_effective_temperature=5587.0, stellar_radius=0.94, stellar_mass=1.0, stellar_luminosity=-0.115, stellar_surface_gravity=4.5, stellar_age=2.6),\n",
       " 'HAT-P-62': Star(spectral_type=None, stellar_effective_temperature=5629.0, stellar_radius=1.17, stellar_mass=1.02, stellar_luminosity=0.091, stellar_surface_gravity=4.31, stellar_age=8.1),\n",
       " 'HAT-P-63': Star(spectral_type=None, stellar_effective_temperature=5400.0, stellar_radius=0.97, stellar_mass=0.93, stellar_luminosity=-0.146, stellar_surface_gravity=4.43, stellar_age=9.0),\n",
       " 'HAT-P-64': Star(spectral_type=None, stellar_effective_temperature=6457.0, stellar_radius=1.74, stellar_mass=1.3, stellar_luminosity=0.668, stellar_surface_gravity=4.07, stellar_age=2.88),\n",
       " 'HAT-P-65': Star(spectral_type='G2', stellar_effective_temperature=5872.0, stellar_radius=1.67, stellar_mass=1.3, stellar_luminosity=0.473, stellar_surface_gravity=4.11, stellar_age=3.9),\n",
       " 'HAT-P-66': Star(spectral_type='G0', stellar_effective_temperature=6002.0, stellar_radius=1.88, stellar_mass=1.26, stellar_luminosity=0.615, stellar_surface_gravity=3.99, stellar_age=4.66),\n",
       " 'HAT-P-67': Star(spectral_type=None, stellar_effective_temperature=6406.0, stellar_radius=2.55, stellar_mass=1.64, stellar_luminosity=0.939, stellar_surface_gravity=3.85, stellar_age=1.24),\n",
       " 'HAT-P-68': Star(spectral_type='K', stellar_effective_temperature=4508.0, stellar_radius=0.67, stellar_mass=0.68, stellar_luminosity=-0.779, stellar_surface_gravity=4.62, stellar_age=11.1),\n",
       " 'HAT-P-69': Star(spectral_type=None, stellar_effective_temperature=7394.0, stellar_radius=1.93, stellar_mass=1.65, stellar_luminosity=1.0, stellar_surface_gravity=4.11, stellar_age=1.27),\n",
       " 'HAT-P-7': Star(spectral_type=None, stellar_effective_temperature=6389.0, stellar_radius=2.0, stellar_mass=1.56, stellar_luminosity=0.814, stellar_surface_gravity=4.07, stellar_age=2.07),\n",
       " 'HAT-P-70': Star(spectral_type=None, stellar_effective_temperature=8450.0, stellar_radius=1.86, stellar_mass=1.89, stellar_luminosity=1.223, stellar_surface_gravity=4.18, stellar_age=0.6),\n",
       " 'HAT-P-8': Star(spectral_type='F6', stellar_effective_temperature=6200.0, stellar_radius=1.57, stellar_mass=1.27, stellar_luminosity=0.519, stellar_surface_gravity=4.15, stellar_age=3.4),\n",
       " 'HAT-P-9': Star(spectral_type='F7', stellar_effective_temperature=6350.0, stellar_radius=1.34, stellar_mass=1.28, stellar_luminosity=0.418, stellar_surface_gravity=4.29, stellar_age=1.6),\n",
       " 'HATS-1': Star(spectral_type=None, stellar_effective_temperature=5870.0, stellar_radius=1.04, stellar_mass=0.99, stellar_luminosity=0.041, stellar_surface_gravity=4.4, stellar_age=6.0),\n",
       " 'HATS-10': Star(spectral_type=None, stellar_effective_temperature=5880.0, stellar_radius=1.1, stellar_mass=1.1, stellar_luminosity=0.117, stellar_surface_gravity=4.39, stellar_age=3.3),\n",
       " 'HATS-11': Star(spectral_type='G0', stellar_effective_temperature=6563.0, stellar_radius=1.54, stellar_mass=1.33, stellar_luminosity=0.403, stellar_surface_gravity=4.19, stellar_age=7.7),\n",
       " 'HATS-12': Star(spectral_type='F', stellar_effective_temperature=6357.0, stellar_radius=1.17, stellar_mass=1.16, stellar_luminosity=0.863, stellar_surface_gravity=4.36, stellar_age=2.36),\n",
       " 'HATS-13': Star(spectral_type=None, stellar_effective_temperature=5523.0, stellar_radius=0.89, stellar_mass=0.96, stellar_luminosity=-0.321, stellar_surface_gravity=4.52, stellar_age=2.5),\n",
       " 'HATS-14': Star(spectral_type=None, stellar_effective_temperature=5346.0, stellar_radius=0.93, stellar_mass=0.97, stellar_luminosity=-0.173, stellar_surface_gravity=4.48, stellar_age=4.9),\n",
       " 'HATS-15': Star(spectral_type='G9V', stellar_effective_temperature=5311.0, stellar_radius=0.92, stellar_mass=0.87, stellar_luminosity=-0.204, stellar_surface_gravity=4.45, stellar_age=11.0),\n",
       " 'HATS-16': Star(spectral_type='G3V', stellar_effective_temperature=5738.0, stellar_radius=1.24, stellar_mass=0.97, stellar_luminosity=0.173, stellar_surface_gravity=4.24, stellar_age=9.5),\n",
       " 'HATS-17': Star(spectral_type='GV', stellar_effective_temperature=5846.0, stellar_radius=1.09, stellar_mass=1.13, stellar_luminosity=0.093, stellar_surface_gravity=4.42, stellar_age=2.1),\n",
       " 'HATS-18': Star(spectral_type='GV', stellar_effective_temperature=5600.0, stellar_radius=1.02, stellar_mass=1.04, stellar_luminosity=-0.032, stellar_surface_gravity=4.44, stellar_age=4.2),\n",
       " 'HATS-2': Star(spectral_type='K', stellar_effective_temperature=5227.0, stellar_radius=0.9, stellar_mass=0.88, stellar_luminosity=-0.268, stellar_surface_gravity=4.48, stellar_age=9.7),\n",
       " 'HATS-22': Star(spectral_type='KV', stellar_effective_temperature=4803.0, stellar_radius=0.69, stellar_mass=0.76, stellar_luminosity=-0.646, stellar_surface_gravity=4.64, stellar_age=None),\n",
       " 'HATS-23': Star(spectral_type='GV', stellar_effective_temperature=5780.0, stellar_radius=1.2, stellar_mass=1.12, stellar_luminosity=0.155, stellar_surface_gravity=4.33, stellar_age=4.2),\n",
       " 'HATS-24': Star(spectral_type='FV', stellar_effective_temperature=6125.0, stellar_radius=1.12, stellar_mass=1.07, stellar_luminosity=0.19, stellar_surface_gravity=4.37, stellar_age=3.7),\n",
       " 'HATS-25': Star(spectral_type='G', stellar_effective_temperature=5715.0, stellar_radius=1.11, stellar_mass=0.99, stellar_luminosity=0.068, stellar_surface_gravity=4.35, stellar_age=7.5),\n",
       " 'HATS-26': Star(spectral_type='F', stellar_effective_temperature=6071.0, stellar_radius=2.04, stellar_mass=1.3, stellar_luminosity=0.704, stellar_surface_gravity=3.94, stellar_age=4.04),\n",
       " 'HATS-27': Star(spectral_type='F', stellar_effective_temperature=6438.0, stellar_radius=1.74, stellar_mass=1.42, stellar_luminosity=0.669, stellar_surface_gravity=4.11, stellar_age=2.3),\n",
       " 'HATS-28': Star(spectral_type='G', stellar_effective_temperature=5498.0, stellar_radius=0.92, stellar_mass=0.93, stellar_luminosity=-0.157, stellar_surface_gravity=4.48, stellar_age=6.2),\n",
       " 'HATS-29': Star(spectral_type='G', stellar_effective_temperature=5670.0, stellar_radius=1.07, stellar_mass=1.03, stellar_luminosity=0.029, stellar_surface_gravity=4.39, stellar_age=5.5),\n",
       " 'HATS-3': Star(spectral_type='F', stellar_effective_temperature=6351.0, stellar_radius=1.4, stellar_mass=1.21, stellar_luminosity=0.456, stellar_surface_gravity=4.22, stellar_age=3.2),\n",
       " 'HATS-30': Star(spectral_type='G', stellar_effective_temperature=5943.0, stellar_radius=1.06, stellar_mass=1.09, stellar_luminosity=0.097, stellar_surface_gravity=4.42, stellar_age=2.3),\n",
       " 'HATS-31': Star(spectral_type=None, stellar_effective_temperature=6050.0, stellar_radius=1.87, stellar_mass=1.28, stellar_luminosity=0.619, stellar_surface_gravity=4.0, stellar_age=4.3),\n",
       " 'HATS-32': Star(spectral_type=None, stellar_effective_temperature=5700.0, stellar_radius=1.1, stellar_mass=1.1, stellar_luminosity=0.057, stellar_surface_gravity=4.4, stellar_age=3.5),\n",
       " 'HATS-33': Star(spectral_type=None, stellar_effective_temperature=5659.0, stellar_radius=1.02, stellar_mass=1.06, stellar_luminosity=-0.018, stellar_surface_gravity=4.45, stellar_age=3.0),\n",
       " 'HATS-34': Star(spectral_type=None, stellar_effective_temperature=5380.0, stellar_radius=0.98, stellar_mass=0.96, stellar_luminosity=-0.14, stellar_surface_gravity=4.44, stellar_age=7.7),\n",
       " 'HATS-35': Star(spectral_type=None, stellar_effective_temperature=6300.0, stellar_radius=1.43, stellar_mass=1.32, stellar_luminosity=0.465, stellar_surface_gravity=4.24, stellar_age=2.13),\n",
       " 'HATS-36': Star(spectral_type='G0V', stellar_effective_temperature=5950.0, stellar_radius=1.1, stellar_mass=1.1, stellar_luminosity=0.215, stellar_surface_gravity=4.4, stellar_age=0.62),\n",
       " 'HATS-37 A': Star(spectral_type=None, stellar_effective_temperature=5326.0, stellar_radius=0.88, stellar_mass=0.84, stellar_luminosity=-0.256, stellar_surface_gravity=4.48, stellar_age=11.46),\n",
       " 'HATS-38': Star(spectral_type=None, stellar_effective_temperature=5732.0, stellar_radius=1.1, stellar_mass=0.89, stellar_luminosity=0.072, stellar_surface_gravity=4.3, stellar_age=11.89),\n",
       " 'HATS-39': Star(spectral_type=None, stellar_effective_temperature=6572.0, stellar_radius=1.62, stellar_mass=1.38, stellar_luminosity=0.64, stellar_surface_gravity=4.16, stellar_age=2.06),\n",
       " 'HATS-4': Star(spectral_type='G', stellar_effective_temperature=5403.0, stellar_radius=0.93, stellar_mass=1.0, stellar_luminosity=-0.187, stellar_surface_gravity=4.51, stellar_age=2.1),\n",
       " 'HATS-40': Star(spectral_type=None, stellar_effective_temperature=6460.0, stellar_radius=2.26, stellar_mass=1.56, stellar_luminosity=0.903, stellar_surface_gravity=3.92, stellar_age=2.07),\n",
       " 'HATS-41': Star(spectral_type=None, stellar_effective_temperature=6424.0, stellar_radius=1.71, stellar_mass=1.5, stellar_luminosity=0.653, stellar_surface_gravity=4.14, stellar_age=1.34),\n",
       " 'HATS-42': Star(spectral_type=None, stellar_effective_temperature=6060.0, stellar_radius=1.48, stellar_mass=1.27, stellar_luminosity=0.425, stellar_surface_gravity=4.2, stellar_age=3.26),\n",
       " 'HATS-43': Star(spectral_type=None, stellar_effective_temperature=5099.0, stellar_radius=0.81, stellar_mass=0.84, stellar_luminosity=-0.398, stellar_surface_gravity=4.54, stellar_age=8.6),\n",
       " 'HATS-44': Star(spectral_type=None, stellar_effective_temperature=5080.0, stellar_radius=0.85, stellar_mass=0.86, stellar_luminosity=-0.398, stellar_surface_gravity=4.51, stellar_age=9.7),\n",
       " 'HATS-45': Star(spectral_type=None, stellar_effective_temperature=6450.0, stellar_radius=1.32, stellar_mass=1.27, stellar_luminosity=0.425, stellar_surface_gravity=4.31, stellar_age=1.52),\n",
       " 'HATS-46': Star(spectral_type=None, stellar_effective_temperature=5495.0, stellar_radius=0.85, stellar_mass=0.92, stellar_luminosity=-0.23, stellar_surface_gravity=4.54, stellar_age=3.0),\n",
       " 'HATS-47': Star(spectral_type=None, stellar_effective_temperature=4512.0, stellar_radius=0.66, stellar_mass=0.67, stellar_luminosity=-0.796, stellar_surface_gravity=4.63, stellar_age=8.1),\n",
       " 'HATS-48 A': Star(spectral_type=None, stellar_effective_temperature=4546.0, stellar_radius=0.72, stellar_mass=0.73, stellar_luminosity=-0.709, stellar_surface_gravity=4.59, stellar_age=11.97),\n",
       " 'HATS-49': Star(spectral_type=None, stellar_effective_temperature=4405.0, stellar_radius=0.7, stellar_mass=0.71, stellar_luminosity=-0.785, stellar_surface_gravity=4.6, stellar_age=10.5),\n",
       " 'HATS-5': Star(spectral_type='G', stellar_effective_temperature=5304.0, stellar_radius=0.87, stellar_mass=0.94, stellar_luminosity=-0.268, stellar_surface_gravity=4.53, stellar_age=3.6),\n",
       " 'HATS-50': Star(spectral_type=None, stellar_effective_temperature=5990.0, stellar_radius=1.12, stellar_mass=1.17, stellar_luminosity=0.143, stellar_surface_gravity=4.41, stellar_age=1.2),\n",
       " 'HATS-51': Star(spectral_type=None, stellar_effective_temperature=5758.0, stellar_radius=1.44, stellar_mass=1.19, stellar_luminosity=0.31, stellar_surface_gravity=4.2, stellar_age=4.74),\n",
       " 'HATS-52': Star(spectral_type=None, stellar_effective_temperature=6010.0, stellar_radius=1.05, stellar_mass=1.11, stellar_luminosity=0.068, stellar_surface_gravity=4.45, stellar_age=1.2),\n",
       " 'HATS-53': Star(spectral_type=None, stellar_effective_temperature=5644.0, stellar_radius=1.1, stellar_mass=0.96, stellar_luminosity=0.045, stellar_surface_gravity=4.34, stellar_age=9.0),\n",
       " 'HATS-54': Star(spectral_type='G6V', stellar_effective_temperature=5621.0, stellar_radius=1.23, stellar_mass=1.05, stellar_luminosity=0.115, stellar_surface_gravity=4.2, stellar_age=7.96),\n",
       " 'HATS-55': Star(spectral_type=None, stellar_effective_temperature=6214.0, stellar_radius=1.13, stellar_mass=1.2, stellar_luminosity=0.229, stellar_surface_gravity=4.41, stellar_age=0.4),\n",
       " 'HATS-56': Star(spectral_type=None, stellar_effective_temperature=6536.0, stellar_radius=2.2, stellar_mass=1.57, stellar_luminosity=0.898, stellar_surface_gravity=3.95, stellar_age=1.894),\n",
       " 'HATS-57': Star(spectral_type=None, stellar_effective_temperature=5587.0, stellar_radius=0.96, stellar_mass=1.03, stellar_luminosity=-0.094, stellar_surface_gravity=4.48, stellar_age=2.5),\n",
       " 'HATS-58 A': Star(spectral_type=None, stellar_effective_temperature=7175.0, stellar_radius=1.43, stellar_mass=1.46, stellar_luminosity=0.689, stellar_surface_gravity=4.29, stellar_age=0.31),\n",
       " 'HATS-6': Star(spectral_type='M1V', stellar_effective_temperature=3724.0, stellar_radius=0.57, stellar_mass=0.57, stellar_luminosity=-1.1, stellar_surface_gravity=4.68, stellar_age=8.1),\n",
       " 'HATS-60': Star(spectral_type=None, stellar_effective_temperature=5688.0, stellar_radius=1.46, stellar_mass=1.1, stellar_luminosity=0.3, stellar_surface_gravity=4.15, stellar_age=7.55),\n",
       " 'HATS-61': Star(spectral_type=None, stellar_effective_temperature=5542.0, stellar_radius=1.66, stellar_mass=1.08, stellar_luminosity=0.369, stellar_surface_gravity=4.03, stellar_age=8.9),\n",
       " 'HATS-62': Star(spectral_type=None, stellar_effective_temperature=5416.0, stellar_radius=0.93, stellar_mass=0.9, stellar_luminosity=-0.173, stellar_surface_gravity=4.45, stellar_age=9.55),\n",
       " 'HATS-63': Star(spectral_type=None, stellar_effective_temperature=5627.0, stellar_radius=1.07, stellar_mass=0.93, stellar_luminosity=0.012, stellar_surface_gravity=4.35, stellar_age=10.3),\n",
       " 'HATS-64': Star(spectral_type=None, stellar_effective_temperature=6554.0, stellar_radius=2.11, stellar_mass=1.56, stellar_luminosity=0.867, stellar_surface_gravity=3.98, stellar_age=1.861),\n",
       " 'HATS-65': Star(spectral_type=None, stellar_effective_temperature=6277.0, stellar_radius=1.31, stellar_mass=1.26, stellar_luminosity=0.377, stellar_surface_gravity=4.3, stellar_age=1.78),\n",
       " 'HATS-66': Star(spectral_type=None, stellar_effective_temperature=6626.0, stellar_radius=1.84, stellar_mass=1.41, stellar_luminosity=0.767, stellar_surface_gravity=4.06, stellar_age=2.17),\n",
       " 'HATS-67': Star(spectral_type=None, stellar_effective_temperature=6594.0, stellar_radius=1.44, stellar_mass=1.44, stellar_luminosity=0.547, stellar_surface_gravity=4.28, stellar_age=0.51),\n",
       " 'HATS-68': Star(spectral_type=None, stellar_effective_temperature=6147.0, stellar_radius=1.75, stellar_mass=1.35, stellar_luminosity=0.592, stellar_surface_gravity=4.08, stellar_age=3.02),\n",
       " 'HATS-69': Star(spectral_type=None, stellar_effective_temperature=5137.0, stellar_radius=0.88, stellar_mass=0.89, stellar_luminosity=-0.318, stellar_surface_gravity=4.5, stellar_age=8.0),\n",
       " 'HATS-7': Star(spectral_type='K2', stellar_effective_temperature=4985.0, stellar_radius=0.82, stellar_mass=0.85, stellar_luminosity=-0.434, stellar_surface_gravity=4.54, stellar_age=7.8),\n",
       " 'HATS-70': Star(spectral_type=None, stellar_effective_temperature=7930.0, stellar_radius=1.88, stellar_mass=1.78, stellar_luminosity=1.079, stellar_surface_gravity=4.17, stellar_age=0.81),\n",
       " 'HATS-71': Star(spectral_type='M3V', stellar_effective_temperature=3405.0, stellar_radius=0.48, stellar_mass=0.49, stellar_luminosity=-1.56, stellar_surface_gravity=4.77, stellar_age=3.2),\n",
       " 'HATS-72': Star(spectral_type=None, stellar_effective_temperature=4656.1, stellar_radius=0.72, stellar_mass=0.73, stellar_luminosity=-0.659, stellar_surface_gravity=4.59, stellar_age=12.17),\n",
       " 'HATS-74 A': Star(spectral_type=None, stellar_effective_temperature=3776.9, stellar_radius=0.58, stellar_mass=0.6, stellar_luminosity=-1.216, stellar_surface_gravity=4.7, stellar_age=11.0),\n",
       " 'HATS-75': Star(spectral_type=None, stellar_effective_temperature=3790.4, stellar_radius=0.58, stellar_mass=0.6, stellar_luminosity=-1.197, stellar_surface_gravity=4.68, stellar_age=14.9),\n",
       " 'HATS-76': Star(spectral_type=None, stellar_effective_temperature=4016.0, stellar_radius=0.63, stellar_mass=0.66, stellar_luminosity=-1.038, stellar_surface_gravity=4.67, stellar_age=4.6),\n",
       " 'HATS-77': Star(spectral_type=None, stellar_effective_temperature=4071.0, stellar_radius=0.64, stellar_mass=0.66, stellar_luminosity=-0.992, stellar_surface_gravity=4.64, stellar_age=12.1),\n",
       " 'HATS-8': Star(spectral_type=None, stellar_effective_temperature=5679.0, stellar_radius=1.09, stellar_mass=1.06, stellar_luminosity=-0.025, stellar_surface_gravity=4.39, stellar_age=5.1),\n",
       " 'HATS-9': Star(spectral_type=None, stellar_effective_temperature=5599.0, stellar_radius=1.56, stellar_mass=1.1, stellar_luminosity=0.312, stellar_surface_gravity=4.1, stellar_age=10.8),\n",
       " 'HD 100546': Star(spectral_type='B9Vne', stellar_effective_temperature=10500.0, stellar_radius=1.85, stellar_mass=2.4, stellar_luminosity=1.5, stellar_surface_gravity=4.33, stellar_age=0.006),\n",
       " 'HD 100655': Star(spectral_type='G9III', stellar_effective_temperature=4891.0, stellar_radius=10.06, stellar_mass=2.28, stellar_luminosity=1.633, stellar_surface_gravity=2.79, stellar_age=1.309),\n",
       " 'HD 100777': Star(spectral_type='G8V', stellar_effective_temperature=5533.0, stellar_radius=1.04, stellar_mass=1.08, stellar_luminosity=0.021, stellar_surface_gravity=4.32, stellar_age=5.7),\n",
       " 'HD 101930': Star(spectral_type='K1V', stellar_effective_temperature=5108.0, stellar_radius=0.86, stellar_mass=0.57, stellar_luminosity=-0.31, stellar_surface_gravity=4.33, stellar_age=1.0),\n",
       " 'HD 102117': Star(spectral_type='G6V', stellar_effective_temperature=5655.0, stellar_radius=1.23, stellar_mass=1.06, stellar_luminosity=0.157, stellar_surface_gravity=4.29, stellar_age=10.0),\n",
       " 'HD 102195': Star(spectral_type='K0V', stellar_effective_temperature=5301.0, stellar_radius=0.82, stellar_mass=0.76, stellar_luminosity=-0.334, stellar_surface_gravity=4.49, stellar_age=2.4),\n",
       " 'HD 102272': Star(spectral_type='K0', stellar_effective_temperature=4790.0, stellar_radius=10.3, stellar_mass=1.45, stellar_luminosity=1.662, stellar_surface_gravity=2.58, stellar_age=None),\n",
       " 'HD 102365': Star(spectral_type='G3/5V', stellar_effective_temperature=5630.0, stellar_radius=0.95, stellar_mass=0.85, stellar_luminosity=-0.057, stellar_surface_gravity=4.57, stellar_age=9.0),\n",
       " 'HD 102843': Star(spectral_type='K0V', stellar_effective_temperature=5436.0, stellar_radius=0.96, stellar_mass=0.95, stellar_luminosity=-0.138, stellar_surface_gravity=4.46, stellar_age=None),\n",
       " 'HD 102956': Star(spectral_type='G5', stellar_effective_temperature=4985.0, stellar_radius=4.55, stellar_mass=1.66, stellar_luminosity=1.064, stellar_surface_gravity=3.38, stellar_age=2.3),\n",
       " 'HD 103197': Star(spectral_type='K1V(P)', stellar_effective_temperature=5250.0, stellar_radius=0.88, stellar_mass=0.8, stellar_luminosity=-0.328, stellar_surface_gravity=4.45, stellar_age=9.1),\n",
       " 'HD 103720': Star(spectral_type='K3V', stellar_effective_temperature=5017.0, stellar_radius=0.73, stellar_mass=0.79, stellar_luminosity=-0.458, stellar_surface_gravity=4.43, stellar_age=3.8),\n",
       " 'HD 103774': Star(spectral_type='F5V', stellar_effective_temperature=6489.0, stellar_radius=1.58, stellar_mass=1.33, stellar_luminosity=0.544, stellar_surface_gravity=4.26, stellar_age=1.05),\n",
       " 'HD 103891': Star(spectral_type='F9', stellar_effective_temperature=6072.0, stellar_radius=2.22, stellar_mass=1.28, stellar_luminosity=0.786, stellar_surface_gravity=3.79, stellar_age=3.68),\n",
       " 'HD 103949': Star(spectral_type='K3V', stellar_effective_temperature=4792.0, stellar_radius=0.75, stellar_mass=0.77, stellar_luminosity=-0.569, stellar_surface_gravity=4.59, stellar_age=None),\n",
       " 'HD 104067': Star(spectral_type='K2V', stellar_effective_temperature=4937.0, stellar_radius=0.74, stellar_mass=0.62, stellar_luminosity=-0.513, stellar_surface_gravity=4.49, stellar_age=4.33),\n",
       " 'HD 10442': Star(spectral_type='K0IV', stellar_effective_temperature=4912.0, stellar_radius=1.97, stellar_mass=1.01, stellar_luminosity=0.31, stellar_surface_gravity=3.19, stellar_age=10.65),\n",
       " 'HD 104985': Star(spectral_type='G9III', stellar_effective_temperature=4738.0, stellar_radius=11.12, stellar_mass=1.22, stellar_luminosity=1.77, stellar_surface_gravity=2.42, stellar_age=None),\n",
       " 'HD 105779': Star(spectral_type='G2', stellar_effective_temperature=5792.0, stellar_radius=0.94, stellar_mass=0.89, stellar_luminosity=-0.108, stellar_surface_gravity=4.36, stellar_age=7.54),\n",
       " 'HD 106252': Star(spectral_type='G0', stellar_effective_temperature=5874.0, stellar_radius=1.1, stellar_mass=1.01, stellar_luminosity=0.123, stellar_surface_gravity=4.36, stellar_age=4.19),\n",
       " 'HD 106270': Star(spectral_type='G5IV', stellar_effective_temperature=5509.0, stellar_radius=2.66, stellar_mass=1.39, stellar_luminosity=0.756, stellar_surface_gravity=3.72, stellar_age=4.3),\n",
       " 'HD 10647': Star(spectral_type='F9V', stellar_effective_temperature=6218.0, stellar_radius=1.1, stellar_mass=1.11, stellar_luminosity=0.149, stellar_surface_gravity=4.62, stellar_age=1.4),\n",
       " 'HD 106515 A': Star(spectral_type='G5V', stellar_effective_temperature=5362.0, stellar_radius=0.91, stellar_mass=0.93, stellar_luminosity=-0.164, stellar_surface_gravity=4.41, stellar_age=11.7),\n",
       " 'HD 106906': Star(spectral_type='F5V', stellar_effective_temperature=6516.0, stellar_radius=2.12, stellar_mass=1.5, stellar_luminosity=0.75, stellar_surface_gravity=3.9, stellar_age=0.013),\n",
       " 'HD 10697': Star(spectral_type='G3V', stellar_effective_temperature=5641.0, stellar_radius=1.86, stellar_mass=0.99, stellar_luminosity=0.477, stellar_surface_gravity=3.96, stellar_age=6.98),\n",
       " 'HD 108147': Star(spectral_type='F8VCH+0.4', stellar_effective_temperature=6255.73, stellar_radius=1.21, stellar_mass=1.22, stellar_luminosity=0.303, stellar_surface_gravity=4.36, stellar_age=3.2),\n",
       " 'HD 108202': Star(spectral_type='K4/5V', stellar_effective_temperature=4556.03, stellar_radius=0.66, stellar_mass=0.74, stellar_luminosity=-0.767, stellar_surface_gravity=4.65, stellar_age=6.5),\n",
       " 'HD 108341': Star(spectral_type='K2V', stellar_effective_temperature=5122.0, stellar_radius=0.79, stellar_mass=0.84, stellar_luminosity=-0.37, stellar_surface_gravity=4.45, stellar_age=4.9),\n",
       " 'HD 108863': Star(spectral_type='K0', stellar_effective_temperature=4878.0, stellar_radius=5.74, stellar_mass=1.59, stellar_luminosity=1.225, stellar_surface_gravity=3.07, stellar_age=1.8),\n",
       " 'HD 109246': Star(spectral_type='G0V', stellar_effective_temperature=5844.0, stellar_radius=1.07, stellar_mass=1.2, stellar_luminosity=0.1, stellar_surface_gravity=4.46, stellar_age=None),\n",
       " 'HD 109286': Star(spectral_type='G4V', stellar_effective_temperature=5694.0, stellar_radius=1.09, stellar_mass=0.98, stellar_luminosity=-0.084, stellar_surface_gravity=4.44, stellar_age=None),\n",
       " 'HD 109749': Star(spectral_type='G3V', stellar_effective_temperature=5824.0, stellar_radius=1.22, stellar_mass=1.13, stellar_luminosity=0.19, stellar_surface_gravity=4.31, stellar_age=3.3),\n",
       " 'HD 10975': Star(spectral_type='K0III', stellar_effective_temperature=4840.0, stellar_radius=11.16, stellar_mass=1.41, stellar_luminosity=1.79, stellar_surface_gravity=2.48, stellar_age=None),\n",
       " 'HD 109988': Star(spectral_type=None, stellar_effective_temperature=5185.97, stellar_radius=0.87, stellar_mass=0.88, stellar_luminosity=-0.307, stellar_surface_gravity=4.5, stellar_age=None),\n",
       " 'HD 110014': Star(spectral_type='K2III', stellar_effective_temperature=4445.0, stellar_radius=20.9, stellar_mass=2.17, stellar_luminosity=2.304, stellar_surface_gravity=2.1, stellar_age=0.95),\n",
       " 'HD 110082': Star(spectral_type='F8V', stellar_effective_temperature=6200.0, stellar_radius=1.19, stellar_mass=1.21, stellar_luminosity=0.281, stellar_surface_gravity=4.2, stellar_age=0.25),\n",
       " 'HD 110537': Star(spectral_type='G6/8V', stellar_effective_temperature=5718.0, stellar_radius=1.17, stellar_mass=1.02, stellar_luminosity=0.117, stellar_surface_gravity=4.31, stellar_age=None),\n",
       " 'HD 11112': Star(spectral_type=None, stellar_effective_temperature=5905.64, stellar_radius=1.47, stellar_mass=1.07, stellar_luminosity=0.377, stellar_surface_gravity=4.13, stellar_age=None),\n",
       " 'HD 111591': Star(spectral_type='K0III', stellar_effective_temperature=4884.0, stellar_radius=8.03, stellar_mass=1.94, stellar_luminosity=1.581, stellar_surface_gravity=3.1, stellar_age=1.41),\n",
       " 'HD 111998': Star(spectral_type='F6V', stellar_effective_temperature=6557.0, stellar_radius=1.45, stellar_mass=1.4, stellar_luminosity=0.512, stellar_surface_gravity=4.19, stellar_age=1.7),\n",
       " 'HD 112300': Star(spectral_type='M1III', stellar_effective_temperature=3657.0, stellar_radius=65.8, stellar_mass=1.4, stellar_luminosity=2.701, stellar_surface_gravity=0.8, stellar_age=None),\n",
       " 'HD 112570': Star(spectral_type='K0III', stellar_effective_temperature=4750.0, stellar_radius=9.85, stellar_mass=1.15, stellar_luminosity=1.647, stellar_surface_gravity=2.51, stellar_age=5.45),\n",
       " 'HD 112640': Star(spectral_type='K0III', stellar_effective_temperature=4155.0, stellar_radius=39.0, stellar_mass=1.8, stellar_luminosity=2.453, stellar_surface_gravity=1.7, stellar_age=1.6),\n",
       " 'HD 113996': Star(spectral_type='K5III', stellar_effective_temperature=4181.0, stellar_radius=25.11, stellar_mass=1.49, stellar_luminosity=2.464, stellar_surface_gravity=1.86, stellar_age=3.24),\n",
       " 'HD 114082': Star(spectral_type='F3V', stellar_effective_temperature=6651.0, stellar_radius=1.49, stellar_mass=1.47, stellar_luminosity=0.583, stellar_surface_gravity=4.19, stellar_age=0.015),\n",
       " 'HD 114386': Star(spectral_type='K3V', stellar_effective_temperature=4836.0, stellar_radius=0.76, stellar_mass=0.6, stellar_luminosity=-0.54, stellar_surface_gravity=4.45, stellar_age=1.0),\n",
       " 'HD 114613': Star(spectral_type='G4IV', stellar_effective_temperature=5641.0, stellar_radius=2.14, stellar_mass=1.27, stellar_luminosity=0.608, stellar_surface_gravity=3.87, stellar_age=4.55),\n",
       " 'HD 114729': Star(spectral_type='G0V', stellar_effective_temperature=5844.0, stellar_radius=1.47, stellar_mass=0.94, stellar_luminosity=0.421, stellar_surface_gravity=4.05, stellar_age=10.116),\n",
       " 'HD 11505': Star(spectral_type=None, stellar_effective_temperature=5757.15, stellar_radius=1.2, stellar_mass=1.03, stellar_luminosity=0.151, stellar_surface_gravity=4.3, stellar_age=None),\n",
       " 'HD 115954': Star(spectral_type='G0V', stellar_effective_temperature=5957.0, stellar_radius=1.21, stellar_mass=1.18, stellar_luminosity=0.481, stellar_surface_gravity=4.15, stellar_age=None),\n",
       " 'HD 117207': Star(spectral_type='G7IV-V', stellar_effective_temperature=5732.0, stellar_radius=1.07, stellar_mass=1.05, stellar_luminosity=0.066, stellar_surface_gravity=4.37, stellar_age=4.192),\n",
       " 'HD 11755': Star(spectral_type='G5', stellar_effective_temperature=4312.0, stellar_radius=20.58, stellar_mass=0.72, stellar_luminosity=2.169, stellar_surface_gravity=1.67, stellar_age=10.2),\n",
       " 'HD 117618': Star(spectral_type='G2V', stellar_effective_temperature=5990.0, stellar_radius=1.2, stellar_mass=1.08, stellar_luminosity=0.213, stellar_surface_gravity=4.41, stellar_age=5.6),\n",
       " 'HD 118203': Star(spectral_type='K0', stellar_effective_temperature=5683.0, stellar_radius=2.1, stellar_mass=1.25, stellar_luminosity=0.618, stellar_surface_gravity=3.89, stellar_age=5.32),\n",
       " 'HD 11977': Star(spectral_type='G8III/IV', stellar_effective_temperature=4970.0, stellar_radius=10.09, stellar_mass=1.91, stellar_luminosity=1.839, stellar_surface_gravity=2.9, stellar_age=1.2),\n",
       " 'HD 120084': Star(spectral_type='G7III', stellar_effective_temperature=4879.0, stellar_radius=10.37, stellar_mass=2.16, stellar_luminosity=1.738, stellar_surface_gravity=2.74, stellar_age=1.02),\n",
       " 'HD 121504': Star(spectral_type='G2V', stellar_effective_temperature=6027.0, stellar_radius=1.07, stellar_mass=1.62, stellar_luminosity=0.19, stellar_surface_gravity=4.59, stellar_age=1.2),\n",
       " 'HD 122562': Star(spectral_type=None, stellar_effective_temperature=4956.0, stellar_radius=2.17, stellar_mass=1.24, stellar_luminosity=0.407, stellar_surface_gravity=None, stellar_age=None),\n",
       " 'HD 124330': Star(spectral_type='G4IV', stellar_effective_temperature=5873.0, stellar_radius=1.3, stellar_mass=1.15, stellar_luminosity=0.338, stellar_surface_gravity=4.24, stellar_age=None),\n",
       " 'HD 12484': Star(spectral_type='F8', stellar_effective_temperature=5920.0, stellar_radius=1.0, stellar_mass=1.01, stellar_luminosity=0.022, stellar_surface_gravity=4.65, stellar_age=None),\n",
       " 'HD 125271': Star(spectral_type=None, stellar_effective_temperature=4703.93, stellar_radius=0.75, stellar_mass=0.75, stellar_luminosity=-0.604, stellar_surface_gravity=4.56, stellar_age=None),\n",
       " 'HD 125390': Star(spectral_type='G7III', stellar_effective_temperature=4882.0, stellar_radius=6.47, stellar_mass=1.82, stellar_luminosity=1.124, stellar_surface_gravity=3.04, stellar_age=None),\n",
       " 'HD 125595': Star(spectral_type='K4V', stellar_effective_temperature=4691.0, stellar_radius=0.74, stellar_mass=0.29, stellar_luminosity=-0.617, stellar_surface_gravity=4.17, stellar_age=3.53),\n",
       " 'HD 12648': Star(spectral_type='G5', stellar_effective_temperature=4835.0, stellar_radius=11.02, stellar_mass=0.67, stellar_luminosity=1.753, stellar_surface_gravity=2.18, stellar_age=4.5),\n",
       " 'HD 126525': Star(spectral_type='G4V', stellar_effective_temperature=5638.0, stellar_radius=0.98, stellar_mass=0.9, stellar_luminosity=-0.04, stellar_surface_gravity=4.38, stellar_age=9.67),\n",
       " 'HD 126614': Star(spectral_type='G8IV', stellar_effective_temperature=5568.0, stellar_radius=1.37, stellar_mass=0.96, stellar_luminosity=0.083, stellar_surface_gravity=4.17, stellar_age=7.2),\n",
       " 'HD 127506': Star(spectral_type='K3V', stellar_effective_temperature=4595.32, stellar_radius=0.74, stellar_mass=0.73, stellar_luminosity=-0.663, stellar_surface_gravity=4.57, stellar_age=None),\n",
       " 'HD 128356': Star(spectral_type='K3V', stellar_effective_temperature=4875.0, stellar_radius=0.85, stellar_mass=0.65, stellar_luminosity=-0.444, stellar_surface_gravity=4.52, stellar_age=10.0),\n",
       " 'HD 129445': Star(spectral_type='G6V', stellar_effective_temperature=5646.0, stellar_radius=1.18, stellar_mass=0.99, stellar_luminosity=0.09, stellar_surface_gravity=4.28, stellar_age=None),\n",
       " 'HD 130322': Star(spectral_type='K0V', stellar_effective_temperature=5387.0, stellar_radius=0.85, stellar_mass=0.92, stellar_luminosity=-0.235, stellar_surface_gravity=4.52, stellar_age=0.35),\n",
       " 'HD 131496': Star(spectral_type='K0', stellar_effective_temperature=4846.0, stellar_radius=4.44, stellar_mass=1.34, stellar_luminosity=0.991, stellar_surface_gravity=3.18, stellar_age=2.7),\n",
       " 'HD 13167': Star(spectral_type='G3V', stellar_effective_temperature=5671.0, stellar_radius=2.39, stellar_mass=1.35, stellar_luminosity=0.96, stellar_surface_gravity=3.72, stellar_age=None),\n",
       " 'HD 13189': Star(spectral_type='K2', stellar_effective_temperature=4175.0, stellar_radius=38.41, stellar_mass=2.24, stellar_luminosity=2.636, stellar_surface_gravity=1.62, stellar_age=None),\n",
       " 'HD 132406': Star(spectral_type='G0V', stellar_effective_temperature=5783.0, stellar_radius=1.34, stellar_mass=1.03, stellar_luminosity=0.26, stellar_surface_gravity=4.2, stellar_age=7.187),\n",
       " 'HD 132563': Star(spectral_type='F8', stellar_effective_temperature=6289.0, stellar_radius=1.3, stellar_mass=1.23, stellar_luminosity=0.374, stellar_surface_gravity=4.3, stellar_age=2.31),\n",
       " 'HD 133131 B': Star(spectral_type='G2V', stellar_effective_temperature=5805.0, stellar_radius=0.99, stellar_mass=0.93, stellar_luminosity=-0.009, stellar_surface_gravity=4.41, stellar_age=9.7),\n",
       " 'HD 135625': Star(spectral_type='G3IV/V', stellar_effective_temperature=6040.64, stellar_radius=1.36, stellar_mass=1.28, stellar_luminosity=0.344, stellar_surface_gravity=4.22, stellar_age=4.4),\n",
       " 'HD 135872': Star(spectral_type=None, stellar_effective_temperature=4992.0, stellar_radius=3.93, stellar_mass=1.65, stellar_luminosity=0.937, stellar_surface_gravity=None, stellar_age=None),\n",
       " 'HD 136118': Star(spectral_type='F7V', stellar_effective_temperature=6097.0, stellar_radius=1.68, stellar_mass=1.18, stellar_luminosity=0.569, stellar_surface_gravity=4.05, stellar_age=None),\n",
       " 'HD 136418': Star(spectral_type='G5', stellar_effective_temperature=4989.0, stellar_radius=3.78, stellar_mass=1.48, stellar_luminosity=0.833, stellar_surface_gravity=3.45, stellar_age=4.0),\n",
       " 'HD 136925': Star(spectral_type=None, stellar_effective_temperature=5773.19, stellar_radius=1.19, stellar_mass=0.88, stellar_luminosity=0.134, stellar_surface_gravity=4.23, stellar_age=None),\n",
       " 'HD 13724': Star(spectral_type=None, stellar_effective_temperature=5835.31, stellar_radius=1.04, stellar_mass=1.0, stellar_luminosity=0.055, stellar_surface_gravity=4.42, stellar_age=None),\n",
       " 'HD 137388': Star(spectral_type='K2IV', stellar_effective_temperature=5181.0, stellar_radius=0.88, stellar_mass=0.68, stellar_luminosity=-0.337, stellar_surface_gravity=4.39, stellar_age=6.45),\n",
       " 'HD 13931': Star(spectral_type='G0', stellar_effective_temperature=5867.0, stellar_radius=1.25, stellar_mass=1.3, stellar_luminosity=0.196, stellar_surface_gravity=4.36, stellar_age=8.4),\n",
       " 'HD 139357': Star(spectral_type='K4III', stellar_effective_temperature=4700.0, stellar_radius=11.47, stellar_mass=2.69, stellar_luminosity=1.823, stellar_surface_gravity=2.9, stellar_age=3.07),\n",
       " 'HD 1397': Star(spectral_type='G5III/IV', stellar_effective_temperature=5521.0, stellar_radius=2.34, stellar_mass=1.32, stellar_luminosity=0.66, stellar_surface_gravity=3.82, stellar_age=4.51),\n",
       " 'HD 14067': Star(spectral_type='G9III', stellar_effective_temperature=4815.0, stellar_radius=12.4, stellar_mass=2.4, stellar_luminosity=1.898, stellar_surface_gravity=2.61, stellar_age=0.69),\n",
       " 'HD 141004': Star(spectral_type='G0Vvar', stellar_effective_temperature=5885.38, stellar_radius=1.39, stellar_mass=1.05, stellar_luminosity=0.346, stellar_surface_gravity=4.17, stellar_age=6.32),\n",
       " 'HD 141937': Star(spectral_type='G2/G3V', stellar_effective_temperature=5870.0, stellar_radius=1.03, stellar_mass=1.09, stellar_luminosity=0.022, stellar_surface_gravity=4.45, stellar_age=2.32),\n",
       " 'HD 142022 A': Star(spectral_type='G9IV-V', stellar_effective_temperature=5421.0, stellar_radius=1.04, stellar_mass=0.9, stellar_luminosity=0.004, stellar_surface_gravity=4.35, stellar_age=7.0),\n",
       " 'HD 142245': Star(spectral_type='K0', stellar_effective_temperature=4922.0, stellar_radius=4.63, stellar_mass=3.5, stellar_luminosity=1.13, stellar_surface_gravity=3.65, stellar_age=2.3),\n",
       " 'HD 142415': Star(spectral_type='G1V', stellar_effective_temperature=5940.0, stellar_radius=1.04, stellar_mass=1.07, stellar_luminosity=0.06, stellar_surface_gravity=4.44, stellar_age=1.1),\n",
       " 'HD 143105': Star(spectral_type='F5', stellar_effective_temperature=6380.0, stellar_radius=1.65, stellar_mass=1.51, stellar_luminosity=0.556, stellar_surface_gravity=4.37, stellar_age=None),\n",
       " 'HD 143361': Star(spectral_type='G6V', stellar_effective_temperature=5507.0, stellar_radius=0.92, stellar_mass=0.97, stellar_luminosity=-0.092, stellar_surface_gravity=4.47, stellar_age=2.942),\n",
       " 'HD 144899': Star(spectral_type=None, stellar_effective_temperature=6126.0, stellar_radius=1.65, stellar_mass=1.16, stellar_luminosity=0.537, stellar_surface_gravity=4.07, stellar_age=None),\n",
       " 'HD 145377': Star(spectral_type='G3V', stellar_effective_temperature=6014.0, stellar_radius=1.05, stellar_mass=1.2, stellar_luminosity=0.193, stellar_surface_gravity=4.47, stellar_age=1.3),\n",
       " 'HD 145457': Star(spectral_type='K0', stellar_effective_temperature=4757.0, stellar_radius=9.9, stellar_mass=1.9, stellar_luminosity=1.655, stellar_surface_gravity=2.77, stellar_age=2.605),\n",
       " 'HD 145934': Star(spectral_type='K0', stellar_effective_temperature=4823.75, stellar_radius=6.93, stellar_mass=2.06, stellar_luminosity=1.355, stellar_surface_gravity=3.01, stellar_age=1.56),\n",
       " 'HD 147379': Star(spectral_type='M0.0V', stellar_effective_temperature=4090.0, stellar_radius=0.63, stellar_mass=0.58, stellar_luminosity=-1.097, stellar_surface_gravity=4.61, stellar_age=None),\n",
       " 'HD 147513': Star(spectral_type='G3/5V', stellar_effective_temperature=5883.0, stellar_radius=0.98, stellar_mass=1.11, stellar_luminosity=-0.01, stellar_surface_gravity=4.51, stellar_age=0.3),\n",
       " 'HD 14787': Star(spectral_type='G5', stellar_effective_temperature=4946.0, stellar_radius=5.01, stellar_mass=1.43, stellar_luminosity=1.115, stellar_surface_gravity=3.23, stellar_age=None),\n",
       " 'HD 148156': Star(spectral_type='G0/2V', stellar_effective_temperature=6308.0, stellar_radius=1.21, stellar_mass=1.22, stellar_luminosity=0.25, stellar_surface_gravity=4.56, stellar_age=None),\n",
       " 'HD 148427': Star(spectral_type='K0III/IV', stellar_effective_temperature=5025.0, stellar_radius=3.86, stellar_mass=1.64, stellar_luminosity=0.78, stellar_surface_gravity=3.48, stellar_age=2.5),\n",
       " 'HD 149026': Star(spectral_type='G0', stellar_effective_temperature=6179.0, stellar_radius=1.41, stellar_mass=1.42, stellar_luminosity=0.48, stellar_surface_gravity=4.37, stellar_age=2.6),\n",
       " 'HD 149143': Star(spectral_type='G0', stellar_effective_temperature=5856.0, stellar_radius=1.44, stellar_mass=1.2, stellar_luminosity=0.35, stellar_surface_gravity=4.25, stellar_age=4.28),\n",
       " 'HD 149806': Star(spectral_type='K0V', stellar_effective_temperature=5352.05, stellar_radius=0.89, stellar_mass=0.93, stellar_luminosity=-0.245, stellar_surface_gravity=4.51, stellar_age=8.36),\n",
       " 'HD 150010': Star(spectral_type='K2III', stellar_effective_temperature=4153.0, stellar_radius=16.2, stellar_mass=1.3, stellar_luminosity=1.982, stellar_surface_gravity=2.1, stellar_age=4.9),\n",
       " 'HD 1502': Star(spectral_type='K0', stellar_effective_temperature=4947.0, stellar_radius=4.67, stellar_mass=1.46, stellar_luminosity=1.064, stellar_surface_gravity=3.18, stellar_age=2.4),\n",
       " 'HD 150706': Star(spectral_type='G0V', stellar_effective_temperature=5961.0, stellar_radius=0.96, stellar_mass=1.17, stellar_luminosity=0.032, stellar_surface_gravity=4.5, stellar_age=3.0),\n",
       " 'HD 152079': Star(spectral_type='G6V', stellar_effective_temperature=5907.0, stellar_radius=1.13, stellar_mass=1.15, stellar_luminosity=0.107, stellar_surface_gravity=4.37, stellar_age=1.622),\n",
       " 'HD 152581': Star(spectral_type='K0', stellar_effective_temperature=5027.0, stellar_radius=5.14, stellar_mass=1.3, stellar_luminosity=1.173, stellar_surface_gravity=3.29, stellar_age=12.0),\n",
       " 'HD 153950': Star(spectral_type='F8V', stellar_effective_temperature=6124.0, stellar_radius=1.28, stellar_mass=1.25, stellar_luminosity=0.346, stellar_surface_gravity=4.32, stellar_age=4.3),\n",
       " 'HD 154088': Star(spectral_type='K0IV-V', stellar_effective_temperature=5374.0, stellar_radius=0.95, stellar_mass=0.91, stellar_luminosity=-0.131, stellar_surface_gravity=4.37, stellar_age=8.0),\n",
       " 'HD 154345': Star(spectral_type='G9', stellar_effective_temperature=5468.0, stellar_radius=0.85, stellar_mass=0.71, stellar_luminosity=-0.219, stellar_surface_gravity=4.43, stellar_age=9.527),\n",
       " 'HD 154391': Star(spectral_type='K1III', stellar_effective_temperature=4909.0, stellar_radius=8.56, stellar_mass=2.07, stellar_luminosity=1.581, stellar_surface_gravity=2.89, stellar_age=1.1),\n",
       " 'HD 154672': Star(spectral_type='G3IV', stellar_effective_temperature=5743.0, stellar_radius=1.32, stellar_mass=1.18, stellar_luminosity=0.257, stellar_surface_gravity=4.27, stellar_age=8.0),\n",
       " 'HD 155193': Star(spectral_type='F8IV', stellar_effective_temperature=6239.0, stellar_radius=1.76, stellar_mass=1.22, stellar_luminosity=0.641, stellar_surface_gravity=4.26, stellar_age=None),\n",
       " 'HD 156411': Star(spectral_type='F8IV/V', stellar_effective_temperature=5900.0, stellar_radius=2.16, stellar_mass=1.25, stellar_luminosity=0.731, stellar_surface_gravity=4.07, stellar_age=4.28),\n",
       " 'HD 156846': Star(spectral_type='G0V', stellar_effective_temperature=6090.0, stellar_radius=1.9, stellar_mass=1.38, stellar_luminosity=0.697, stellar_surface_gravity=4.02, stellar_age=2.4),\n",
       " 'HD 158038': Star(spectral_type='K0', stellar_effective_temperature=4860.0, stellar_radius=4.5, stellar_mass=1.3, stellar_luminosity=1.076, stellar_surface_gravity=3.24, stellar_age=2.5),\n",
       " 'HD 158996': Star(spectral_type='K5III', stellar_effective_temperature=4069.0, stellar_radius=50.3, stellar_mass=1.8, stellar_luminosity=3.015, stellar_surface_gravity=1.4, stellar_age=1.6),\n",
       " 'HD 161178': Star(spectral_type='G9III', stellar_effective_temperature=4786.0, stellar_radius=10.95, stellar_mass=1.06, stellar_luminosity=1.751, stellar_surface_gravity=2.38, stellar_age=None),\n",
       " 'HD 16141': Star(spectral_type='G5IV', stellar_effective_temperature=5757.0, stellar_radius=1.48, stellar_mass=1.11, stellar_luminosity=0.366, stellar_surface_gravity=4.14, stellar_age=7.51),\n",
       " 'HD 16175': Star(spectral_type='G2', stellar_effective_temperature=5981.0, stellar_radius=1.72, stellar_mass=1.63, stellar_luminosity=0.508, stellar_surface_gravity=4.18, stellar_age=3.3),\n",
       " 'HD 162020': Star(spectral_type='K3V', stellar_effective_temperature=4723.0, stellar_radius=0.75, stellar_mass=0.42, stellar_luminosity=-0.602, stellar_surface_gravity=4.31, stellar_age=6.0),\n",
       " 'HD 16417': Star(spectral_type='G1V', stellar_effective_temperature=5841.0, stellar_radius=1.64, stellar_mass=1.2, stellar_luminosity=0.443, stellar_surface_gravity=4.16, stellar_age=7.0),\n",
       " 'HD 164509': Star(spectral_type='G5', stellar_effective_temperature=5859.0, stellar_radius=1.11, stellar_mass=1.12, stellar_luminosity=0.12, stellar_surface_gravity=4.44, stellar_age=2.32),\n",
       " 'HD 164595': Star(spectral_type='G2V', stellar_effective_temperature=5790.0, stellar_radius=1.02, stellar_mass=0.99, stellar_luminosity=0.017, stellar_surface_gravity=4.44, stellar_age=7.12),\n",
       " 'HD 164604': Star(spectral_type='K3.5V', stellar_effective_temperature=4684.0, stellar_radius=0.77, stellar_mass=0.77, stellar_luminosity=-0.588, stellar_surface_gravity=4.62, stellar_age=None),\n",
       " 'HD 165131': Star(spectral_type='G3/5V', stellar_effective_temperature=5870.0, stellar_radius=1.06, stellar_mass=1.06, stellar_luminosity=0.083, stellar_surface_gravity=4.39, stellar_age=2.7),\n",
       " 'HD 165155': Star(spectral_type='G8V', stellar_effective_temperature=5426.0, stellar_radius=0.95, stellar_mass=1.02, stellar_luminosity=-0.155, stellar_surface_gravity=4.49, stellar_age=11.0),\n",
       " 'HD 1666': Star(spectral_type='F7V', stellar_effective_temperature=6317.0, stellar_radius=1.93, stellar_mass=1.5, stellar_luminosity=0.73, stellar_surface_gravity=4.06, stellar_age=1.76),\n",
       " 'HD 166724': Star(spectral_type='K0IV-V', stellar_effective_temperature=5127.0, stellar_radius=0.8, stellar_mass=0.81, stellar_luminosity=-0.509, stellar_surface_gravity=4.43, stellar_age=4.0),\n",
       " 'HD 167042': Star(spectral_type='K1IV', stellar_effective_temperature=4919.0, stellar_radius=4.63, stellar_mass=1.39, stellar_luminosity=1.057, stellar_surface_gravity=3.23, stellar_age=2.2),\n",
       " 'HD 167677': Star(spectral_type='G5V', stellar_effective_temperature=5474.0, stellar_radius=0.95, stellar_mass=0.96, stellar_luminosity=-0.132, stellar_surface_gravity=4.43, stellar_age=11.5),\n",
       " 'HD 167768': Star(spectral_type='G8III', stellar_effective_temperature=4851.0, stellar_radius=9.7, stellar_mass=1.08, stellar_luminosity=1.669, stellar_surface_gravity=2.5, stellar_age=5.31),\n",
       " 'HD 168009': Star(spectral_type='G2V', stellar_effective_temperature=5778.33, stellar_radius=1.21, stellar_mass=0.99, stellar_luminosity=0.15, stellar_surface_gravity=4.27, stellar_age=9.68),\n",
       " 'HD 168746': Star(spectral_type='G5', stellar_effective_temperature=5570.0, stellar_radius=1.09, stellar_mass=1.07, stellar_luminosity=0.041, stellar_surface_gravity=4.39, stellar_age=8.0),\n",
       " 'HD 168863': Star(spectral_type=None, stellar_effective_temperature=4905.0, stellar_radius=0.78, stellar_mass=0.8, stellar_luminosity=-0.501, stellar_surface_gravity=4.56, stellar_age=None),\n",
       " 'HD 1690': Star(spectral_type='K1III', stellar_effective_temperature=4374.0, stellar_radius=21.66, stellar_mass=1.86, stellar_luminosity=1.52, stellar_surface_gravity=2.04, stellar_age=6.7),\n",
       " 'HD 16905': Star(spectral_type='K3V', stellar_effective_temperature=4866.12, stellar_radius=0.77, stellar_mass=0.85, stellar_luminosity=-0.518, stellar_surface_gravity=4.56, stellar_age=6.1),\n",
       " 'HD 169142': Star(spectral_type=None, stellar_effective_temperature=7246.0, stellar_radius=1.54, stellar_mass=1.85, stellar_luminosity=0.768, stellar_surface_gravity=4.28, stellar_age=0.006),\n",
       " 'HD 170469': Star(spectral_type='G5IV', stellar_effective_temperature=5842.0, stellar_radius=1.24, stellar_mass=1.1, stellar_luminosity=0.204, stellar_surface_gravity=4.3, stellar_age=6.7),\n",
       " 'HD 17092': Star(spectral_type='K0III', stellar_effective_temperature=4326.0, stellar_radius=13.58, stellar_mass=6.73, stellar_luminosity=1.756, stellar_surface_gravity=3.0, stellar_age=2.6),\n",
       " 'HD 171028': Star(spectral_type='G0', stellar_effective_temperature=5671.0, stellar_radius=2.47, stellar_mass=1.53, stellar_luminosity=0.733, stellar_surface_gravity=3.84, stellar_age=8.59),\n",
       " 'HD 171238': Star(spectral_type='G8V', stellar_effective_temperature=5440.0, stellar_radius=1.01, stellar_mass=0.96, stellar_luminosity=-0.09, stellar_surface_gravity=4.43, stellar_age=7.56),\n",
       " 'HD 17156': Star(spectral_type='G5', stellar_effective_temperature=6040.0, stellar_radius=1.55, stellar_mass=1.41, stellar_luminosity=0.39, stellar_surface_gravity=4.2, stellar_age=3.37),\n",
       " 'HD 173416': Star(spectral_type='G8', stellar_effective_temperature=4683.0, stellar_radius=13.5, stellar_mass=2.0, stellar_luminosity=1.892, stellar_surface_gravity=2.48, stellar_age=1.73),\n",
       " 'HD 174205': Star(spectral_type='K2', stellar_effective_temperature=4308.0, stellar_radius=26.6, stellar_mass=1.8, stellar_luminosity=2.378, stellar_surface_gravity=1.8, stellar_age=1.7),\n",
       " 'HD 175167': Star(spectral_type='G5IV/V', stellar_effective_temperature=5635.0, stellar_radius=1.75, stellar_mass=1.0, stellar_luminosity=0.456, stellar_surface_gravity=4.09, stellar_age=None),\n",
       " 'HD 175541': Star(spectral_type='G8IV', stellar_effective_temperature=5013.0, stellar_radius=4.19, stellar_mass=1.39, stellar_luminosity=0.934, stellar_surface_gravity=3.33, stellar_age=1.9),\n",
       " 'HD 175607': Star(spectral_type='G6V', stellar_effective_temperature=5392.0, stellar_radius=0.7, stellar_mass=0.71, stellar_luminosity=-0.271, stellar_surface_gravity=4.64, stellar_age=10.32),\n",
       " 'HD 17674': Star(spectral_type='G0V', stellar_effective_temperature=5904.0, stellar_radius=1.18, stellar_mass=0.98, stellar_luminosity=0.205, stellar_surface_gravity=4.34, stellar_age=8.4),\n",
       " 'HD 177565': Star(spectral_type='G8V', stellar_effective_temperature=5627.0, stellar_radius=0.97, stellar_mass=1.0, stellar_luminosity=-0.054, stellar_surface_gravity=4.39, stellar_age=6.88),\n",
       " 'HD 178911 B': Star(spectral_type='G5', stellar_effective_temperature=5588.0, stellar_radius=1.08, stellar_mass=1.24, stellar_luminosity=-0.043, stellar_surface_gravity=4.46, stellar_age=None),\n",
       " 'HD 179079': Star(spectral_type='G5IV', stellar_effective_temperature=5646.0, stellar_radius=1.63, stellar_mass=1.14, stellar_luminosity=0.38, stellar_surface_gravity=4.16, stellar_age=6.99),\n",
       " 'HD 179949': Star(spectral_type='F8V', stellar_effective_temperature=6168.0, stellar_radius=1.27, stellar_mass=1.21, stellar_luminosity=0.301, stellar_surface_gravity=4.34, stellar_age=1.0),\n",
       " 'HD 180053': Star(spectral_type='K0', stellar_effective_temperature=5131.0, stellar_radius=4.06, stellar_mass=1.75, stellar_luminosity=1.099, stellar_surface_gravity=3.54, stellar_age=None),\n",
       " 'HD 18015': Star(spectral_type='G6IV', stellar_effective_temperature=5603.0, stellar_radius=3.13, stellar_mass=1.49, stellar_luminosity=0.974, stellar_surface_gravity=3.64, stellar_age=None),\n",
       " 'HD 180314': Star(spectral_type='K0', stellar_effective_temperature=4917.0, stellar_radius=9.2, stellar_mass=2.6, stellar_luminosity=1.643, stellar_surface_gravity=2.98, stellar_age=1.295),\n",
       " 'HD 180617': Star(spectral_type='M2.5V', stellar_effective_temperature=3534.0, stellar_radius=0.48, stellar_mass=0.48, stellar_luminosity=-1.49, stellar_surface_gravity=4.9, stellar_age=None),\n",
       " 'HD 180902': Star(spectral_type='K0III/IV', stellar_effective_temperature=4961.0, stellar_radius=4.16, stellar_mass=1.41, stellar_luminosity=0.973, stellar_surface_gravity=3.36, stellar_age=2.8),\n",
       " 'HD 181234': Star(spectral_type='G8IV', stellar_effective_temperature=5386.0, stellar_radius=1.06, stellar_mass=0.94, stellar_luminosity=-0.099, stellar_surface_gravity=4.37, stellar_age=6.32),\n",
       " 'HD 181342': Star(spectral_type='K0III', stellar_effective_temperature=4945.0, stellar_radius=4.71, stellar_mass=1.69, stellar_luminosity=1.079, stellar_surface_gravity=3.28, stellar_age=1.8),\n",
       " 'HD 181720': Star(spectral_type='G1V', stellar_effective_temperature=5736.0, stellar_radius=1.5, stellar_mass=1.03, stellar_luminosity=0.288, stellar_surface_gravity=4.09, stellar_age=None),\n",
       " 'HD 183579': Star(spectral_type='G2V', stellar_effective_temperature=5788.0, stellar_radius=0.99, stellar_mass=1.03, stellar_luminosity=0.012, stellar_surface_gravity=4.5, stellar_age=2.6),\n",
       " 'HD 18438': Star(spectral_type='M2.5III', stellar_effective_temperature=3860.0, stellar_radius=88.48, stellar_mass=1.84, stellar_luminosity=2.968, stellar_surface_gravity=0.9, stellar_age=5.5),\n",
       " 'HD 185269': Star(spectral_type='G0IV', stellar_effective_temperature=5923.0, stellar_radius=2.0, stellar_mass=1.3, stellar_luminosity=0.694, stellar_surface_gravity=3.92, stellar_age=4.0),\n",
       " 'HD 185283': Star(spectral_type='K3V', stellar_effective_temperature=4848.0, stellar_radius=0.74, stellar_mass=0.8, stellar_luminosity=-0.561, stellar_surface_gravity=4.59, stellar_age=6.0),\n",
       " 'HD 18599': Star(spectral_type='K2V', stellar_effective_temperature=5145.0, stellar_radius=0.77, stellar_mass=0.86, stellar_luminosity=-0.429, stellar_surface_gravity=4.54, stellar_age=0.4),\n",
       " 'HD 187085': Star(spectral_type='G0V', stellar_effective_temperature=6117.0, stellar_radius=1.27, stellar_mass=1.19, stellar_luminosity=2.13, stellar_surface_gravity=4.28, stellar_age=2.747),\n",
       " 'HD 18742': Star(spectral_type='G8/K0IV', stellar_effective_temperature=4940.0, stellar_radius=5.13, stellar_mass=1.36, stellar_luminosity=1.143, stellar_surface_gravity=3.09, stellar_age=2.3),\n",
       " 'HD 188015': Star(spectral_type='G5IV', stellar_effective_temperature=5746.0, stellar_radius=1.13, stellar_mass=1.09, stellar_luminosity=0.059, stellar_surface_gravity=4.45, stellar_age=6.61),\n",
       " 'HD 188641': Star(spectral_type=None, stellar_effective_temperature=5897.32, stellar_radius=1.94, stellar_mass=1.07, stellar_luminosity=0.615, stellar_surface_gravity=3.89, stellar_age=None),\n",
       " 'HD 189733': Star(spectral_type='K2V', stellar_effective_temperature=5052.0, stellar_radius=0.75, stellar_mass=0.79, stellar_luminosity=-0.461, stellar_surface_gravity=4.49, stellar_age=1.4),\n",
       " 'HD 190007': Star(spectral_type='K4V', stellar_effective_temperature=4610.0, stellar_radius=0.79, stellar_mass=0.77, stellar_luminosity=-0.68, stellar_surface_gravity=4.58, stellar_age=1.0),\n",
       " 'HD 190228': Star(spectral_type='G5IV', stellar_effective_temperature=5360.0, stellar_radius=2.59, stellar_mass=1.42, stellar_luminosity=0.697, stellar_surface_gravity=4.02, stellar_age=None),\n",
       " 'HD 190647': Star(spectral_type='G5V', stellar_effective_temperature=5656.0, stellar_radius=1.38, stellar_mass=1.07, stellar_luminosity=0.297, stellar_surface_gravity=4.16, stellar_age=7.957),\n",
       " 'HD 190984': Star(spectral_type='F8V', stellar_effective_temperature=5988.0, stellar_radius=1.53, stellar_mass=0.91, stellar_luminosity=0.43, stellar_surface_gravity=4.02, stellar_age=None),\n",
       " 'HD 191806': Star(spectral_type='K0', stellar_effective_temperature=6010.0, stellar_radius=1.4, stellar_mass=1.07, stellar_luminosity=0.348, stellar_surface_gravity=4.45, stellar_age=2.9),\n",
       " 'HD 192263': Star(spectral_type='K2V', stellar_effective_temperature=4976.0, stellar_radius=0.74, stellar_mass=0.66, stellar_luminosity=-0.47, stellar_surface_gravity=4.51, stellar_age=2.09),\n",
       " 'HD 192699': Star(spectral_type='G8IV', stellar_effective_temperature=5041.0, stellar_radius=4.41, stellar_mass=1.38, stellar_luminosity=1.009, stellar_surface_gravity=3.25, stellar_age=1.8),\n",
       " 'HD 194490': Star(spectral_type=None, stellar_effective_temperature=5861.32, stellar_radius=1.15, stellar_mass=1.06, stellar_luminosity=0.147, stellar_surface_gravity=4.34, stellar_age=None),\n",
       " 'HD 195019': Star(spectral_type='G3IV-V', stellar_effective_temperature=5751.0, stellar_radius=1.48, stellar_mass=1.21, stellar_luminosity=0.333, stellar_surface_gravity=4.18, stellar_age=3.2),\n",
       " 'HD 196050': Star(spectral_type='G3V', stellar_effective_temperature=5879.0, stellar_radius=1.42, stellar_mass=1.27, stellar_luminosity=0.26, stellar_surface_gravity=4.25, stellar_age=4.3),\n",
       " 'HD 196067': Star(spectral_type='G1V', stellar_effective_temperature=6017.0, stellar_radius=1.73, stellar_mass=1.29, stellar_luminosity=0.572, stellar_surface_gravity=4.24, stellar_age=3.3),\n",
       " 'HD 19615': Star(spectral_type='K0', stellar_effective_temperature=4263.0, stellar_radius=32.3, stellar_mass=1.1, stellar_luminosity=2.515, stellar_surface_gravity=1.4, stellar_age=6.7),\n",
       " 'HD 196885 A': Star(spectral_type='F8V', stellar_effective_temperature=6254.0, stellar_radius=1.31, stellar_mass=1.28, stellar_luminosity=0.38, stellar_surface_gravity=4.31, stellar_age=3.12),\n",
       " 'HD 197037': Star(spectral_type='F7V', stellar_effective_temperature=6150.0, stellar_radius=1.1, stellar_mass=1.11, stellar_luminosity=0.239, stellar_surface_gravity=4.4, stellar_age=1.9),\n",
       " 'HD 199509': Star(spectral_type='G3V', stellar_effective_temperature=5796.02, stellar_radius=0.92, stellar_mass=1.04, stellar_luminosity=-0.084, stellar_surface_gravity=4.51, stellar_age=1.6),\n",
       " 'HD 19994': Star(spectral_type='F8V', stellar_effective_temperature=6188.0, stellar_radius=1.8, stellar_mass=1.36, stellar_luminosity=0.58, stellar_surface_gravity=4.29, stellar_age=2.4),\n",
       " 'HD 202206': Star(spectral_type='G6V', stellar_effective_temperature=5766.0, stellar_radius=1.04, stellar_mass=1.07, stellar_luminosity=0.035, stellar_surface_gravity=4.5, stellar_age=2.9),\n",
       " 'HD 202772 A': Star(spectral_type=None, stellar_effective_temperature=6272.0, stellar_radius=2.59, stellar_mass=1.72, stellar_luminosity=0.971, stellar_surface_gravity=3.85, stellar_age=1.7),\n",
       " 'HD 203030': Star(spectral_type='G8V', stellar_effective_temperature=5603.0, stellar_radius=0.86, stellar_mass=0.94, stellar_luminosity=-0.227, stellar_surface_gravity=4.64, stellar_age=0.1),\n",
       " 'HD 20329': Star(spectral_type=None, stellar_effective_temperature=5596.0, stellar_radius=1.13, stellar_mass=0.9, stellar_luminosity=0.049, stellar_surface_gravity=4.4, stellar_age=11.0),\n",
       " 'HD 2039': Star(spectral_type='G2/G3IV/V', stellar_effective_temperature=5945.0, stellar_radius=1.19, stellar_mass=1.23, stellar_luminosity=0.194, stellar_surface_gravity=4.38, stellar_age=6.0),\n",
       " 'HD 204941': Star(spectral_type='K1/2V', stellar_effective_temperature=5026.0, stellar_radius=0.78, stellar_mass=0.58, stellar_luminosity=-0.509, stellar_surface_gravity=4.42, stellar_age=6.67),\n",
       " 'HD 205158': Star(spectral_type=None, stellar_effective_temperature=6133.55, stellar_radius=1.88, stellar_mass=1.16, stellar_luminosity=0.653, stellar_surface_gravity=3.96, stellar_age=None),\n",
       " 'HD 205739': Star(spectral_type='F7V', stellar_effective_temperature=6176.0, stellar_radius=1.33, stellar_mass=1.22, stellar_luminosity=0.36, stellar_surface_gravity=4.29, stellar_age=2.84),\n",
       " 'HD 206255': Star(spectral_type='G5IV/V', stellar_effective_temperature=5635.0, stellar_radius=2.22, stellar_mass=1.42, stellar_luminosity=0.652, stellar_surface_gravity=3.75, stellar_age=None),\n",
       " 'HD 206610': Star(spectral_type='K0III', stellar_effective_temperature=4842.0, stellar_radius=6.12, stellar_mass=1.55, stellar_luminosity=1.276, stellar_surface_gravity=3.22, stellar_age=3.0),\n",
       " 'HD 207496': Star(spectral_type='K2.5V', stellar_effective_temperature=4819.0, stellar_radius=0.77, stellar_mass=0.8, stellar_luminosity=-0.509, stellar_surface_gravity=4.51, stellar_age=0.52),\n",
       " 'HD 20782': Star(spectral_type='G1.5V', stellar_effective_temperature=5782.13, stellar_radius=1.13, stellar_mass=1.04, stellar_luminosity=0.107, stellar_surface_gravity=4.35, stellar_age=5.53),\n",
       " 'HD 207897': Star(spectral_type='K0V', stellar_effective_temperature=5070.0, stellar_radius=0.78, stellar_mass=0.8, stellar_luminosity=-0.444, stellar_surface_gravity=4.56, stellar_age=7.1),\n",
       " 'HD 208487': Star(spectral_type='G2V', stellar_effective_temperature=6067.0, stellar_radius=1.2, stellar_mass=1.13, stellar_luminosity=0.244, stellar_surface_gravity=4.33, stellar_age=8.15),\n",
       " 'HD 208527': Star(spectral_type='M1III', stellar_effective_temperature=4035.0, stellar_radius=51.1, stellar_mass=1.6, stellar_luminosity=2.863, stellar_surface_gravity=1.4, stellar_age=2.0),\n",
       " 'HD 20868': Star(spectral_type='K3/4IV', stellar_effective_temperature=4802.0, stellar_radius=0.76, stellar_mass=0.39, stellar_luminosity=-0.529, stellar_surface_gravity=4.26, stellar_age=4.5),\n",
       " 'HD 208897': Star(spectral_type='K0', stellar_effective_temperature=4860.0, stellar_radius=4.98, stellar_mass=1.25, stellar_luminosity=1.09, stellar_surface_gravity=3.13, stellar_age=None),\n",
       " 'HD 209458': Star(spectral_type='G0V', stellar_effective_temperature=6091.0, stellar_radius=1.19, stellar_mass=1.23, stellar_luminosity=0.231, stellar_surface_gravity=4.45, stellar_age=3.1),\n",
       " 'HD 210193': Star(spectral_type='G3V', stellar_effective_temperature=5790.0, stellar_radius=1.06, stellar_mass=1.04, stellar_luminosity=0.056, stellar_surface_gravity=4.43, stellar_age=None),\n",
       " 'HD 210277': Star(spectral_type='G0V', stellar_effective_temperature=5538.0, stellar_radius=1.07, stellar_mass=1.01, stellar_luminosity=-0.032, stellar_surface_gravity=4.38, stellar_age=12.0),\n",
       " 'HD 210702': Star(spectral_type='K1IV', stellar_effective_temperature=4912.0, stellar_radius=4.54, stellar_mass=1.33, stellar_luminosity=1.035, stellar_surface_gravity=3.23, stellar_age=2.1),\n",
       " 'HD 211403': Star(spectral_type='F7V', stellar_effective_temperature=6273.0, stellar_radius=1.21, stellar_mass=1.2, stellar_luminosity=0.364, stellar_surface_gravity=4.3, stellar_age=None),\n",
       " 'HD 211810': Star(spectral_type='G5', stellar_effective_temperature=5652.0, stellar_radius=1.13, stellar_mass=1.03, stellar_luminosity=0.07, stellar_surface_gravity=4.26, stellar_age=None),\n",
       " 'HD 211970': Star(spectral_type='K7V', stellar_effective_temperature=4127.0, stellar_radius=0.57, stellar_mass=0.61, stellar_luminosity=-1.065, stellar_surface_gravity=4.69, stellar_age=None),\n",
       " 'HD 212301': Star(spectral_type='F8V', stellar_effective_temperature=6239.0, stellar_radius=1.16, stellar_mass=1.55, stellar_luminosity=0.243, stellar_surface_gravity=4.5, stellar_age=1.0),\n",
       " 'HD 212771': Star(spectral_type='G8IV', stellar_effective_temperature=5003.0, stellar_radius=5.27, stellar_mass=1.56, stellar_luminosity=1.188, stellar_surface_gravity=3.31, stellar_age=6.0),\n",
       " 'HD 213240': Star(spectral_type='G0/1V', stellar_effective_temperature=5979.0, stellar_radius=1.51, stellar_mass=1.57, stellar_luminosity=0.429, stellar_surface_gravity=4.27, stellar_age=4.6),\n",
       " 'HD 213472': Star(spectral_type=None, stellar_effective_temperature=5729.54, stellar_radius=1.43, stellar_mass=1.05, stellar_luminosity=0.285, stellar_surface_gravity=4.14, stellar_age=None),\n",
       " 'HD 213519': Star(spectral_type=None, stellar_effective_temperature=5840.0, stellar_radius=1.08, stellar_mass=1.05, stellar_luminosity=0.089, stellar_surface_gravity=4.39, stellar_age=None),\n",
       " 'HD 21411': Star(spectral_type='G8V', stellar_effective_temperature=5605.0, stellar_radius=0.83, stellar_mass=0.89, stellar_luminosity=-0.266, stellar_surface_gravity=4.51, stellar_age=None),\n",
       " 'HD 214823': Star(spectral_type='G0', stellar_effective_temperature=6215.0, stellar_radius=2.04, stellar_mass=1.11, stellar_luminosity=0.638, stellar_surface_gravity=4.05, stellar_age=2.7),\n",
       " 'HD 216435': Star(spectral_type='G0V', stellar_effective_temperature=5999.0, stellar_radius=1.8, stellar_mass=1.3, stellar_luminosity=0.557, stellar_surface_gravity=4.15, stellar_age=3.0),\n",
       " 'HD 216437': Star(spectral_type='G1V', stellar_effective_temperature=5909.0, stellar_radius=1.39, stellar_mass=1.22, stellar_luminosity=0.35, stellar_surface_gravity=4.19, stellar_age=4.9),\n",
       " 'HD 216536': Star(spectral_type='K0', stellar_effective_temperature=4639.0, stellar_radius=9.83, stellar_mass=0.81, stellar_luminosity=1.8, stellar_surface_gravity=2.36, stellar_age=3.8),\n",
       " 'HD 216770': Star(spectral_type='G9VCN+1', stellar_effective_temperature=5399.0, stellar_radius=0.93, stellar_mass=0.74, stellar_luminosity=-0.1, stellar_surface_gravity=4.37, stellar_age=3.1),\n",
       " 'HD 217958': Star(spectral_type=None, stellar_effective_temperature=5930.64, stellar_radius=1.33, stellar_mass=1.08, stellar_luminosity=0.292, stellar_surface_gravity=4.23, stellar_age=None),\n",
       " 'HD 218566': Star(spectral_type='K3V', stellar_effective_temperature=4730.0, stellar_radius=0.85, stellar_mass=0.76, stellar_luminosity=-0.452, stellar_surface_gravity=4.46, stellar_age=8.5),\n",
       " 'HD 219077': Star(spectral_type='G8V+', stellar_effective_temperature=5362.0, stellar_radius=1.91, stellar_mass=0.92, stellar_luminosity=0.425, stellar_surface_gravity=4.0, stellar_age=8.9),\n",
       " 'HD 219139': Star(spectral_type='G5III', stellar_effective_temperature=4831.0, stellar_radius=11.22, stellar_mass=1.46, stellar_luminosity=1.795, stellar_surface_gravity=2.48, stellar_age=None),\n",
       " 'HD 219415': Star(spectral_type='K0III', stellar_effective_temperature=4820.0, stellar_radius=2.9, stellar_mass=1.0, stellar_luminosity=0.62, stellar_surface_gravity=3.51, stellar_age=7.233),\n",
       " 'HD 219666': Star(spectral_type='G5V', stellar_effective_temperature=5527.0, stellar_radius=1.03, stellar_mass=0.92, stellar_luminosity=-0.028, stellar_surface_gravity=4.4, stellar_age=10.0),\n",
       " 'HD 220074': Star(spectral_type='M2III', stellar_effective_temperature=3787.0, stellar_radius=54.92, stellar_mass=2.2, stellar_luminosity=2.894, stellar_surface_gravity=1.3, stellar_age=4.5),\n",
       " 'HD 220197': Star(spectral_type='G5', stellar_effective_temperature=5683.0, stellar_radius=0.98, stellar_mass=0.91, stellar_luminosity=-0.003, stellar_surface_gravity=4.42, stellar_age=10.165),\n",
       " 'HD 220689': Star(spectral_type='G3V', stellar_effective_temperature=5921.0, stellar_radius=1.07, stellar_mass=1.02, stellar_luminosity=0.093, stellar_surface_gravity=4.36, stellar_age=4.586),\n",
       " 'HD 220773': Star(spectral_type='F9', stellar_effective_temperature=5940.0, stellar_radius=1.68, stellar_mass=1.16, stellar_luminosity=0.498, stellar_surface_gravity=4.24, stellar_age=4.4),\n",
       " 'HD 220842': Star(spectral_type='F8', stellar_effective_temperature=5960.0, stellar_radius=1.42, stellar_mass=1.13, stellar_luminosity=0.357, stellar_surface_gravity=4.24, stellar_age=None),\n",
       " 'HD 221287': Star(spectral_type='F7V', stellar_effective_temperature=6304.0, stellar_radius=1.14, stellar_mass=1.25, stellar_luminosity=0.22, stellar_surface_gravity=4.43, stellar_age=1.3),\n",
       " 'HD 221416': Star(spectral_type='K0IV/V', stellar_effective_temperature=5080.0, stellar_radius=2.94, stellar_mass=1.21, stellar_luminosity=0.712, stellar_surface_gravity=3.58, stellar_age=4.9),\n",
       " 'HD 221420': Star(spectral_type='G1V', stellar_effective_temperature=5847.0, stellar_radius=1.95, stellar_mass=1.34, stellar_luminosity=0.603, stellar_surface_gravity=4.03, stellar_age=3.7),\n",
       " 'HD 221585': Star(spectral_type='G8IV', stellar_effective_temperature=5620.0, stellar_radius=1.85, stellar_mass=1.19, stellar_luminosity=0.422, stellar_surface_gravity=4.05, stellar_age=6.2),\n",
       " 'HD 222076': Star(spectral_type='K0III', stellar_effective_temperature=4806.0, stellar_radius=4.1, stellar_mass=1.07, stellar_luminosity=0.929, stellar_surface_gravity=3.31, stellar_age=None),\n",
       " 'HD 222155': Star(spectral_type='G2V', stellar_effective_temperature=5701.0, stellar_radius=1.85, stellar_mass=1.21, stellar_luminosity=0.509, stellar_surface_gravity=3.99, stellar_age=8.2),\n",
       " 'HD 222582': Star(spectral_type='G5V', stellar_effective_temperature=5790.0, stellar_radius=1.13, stellar_mass=1.12, stellar_luminosity=0.115, stellar_surface_gravity=4.38, stellar_age=10.24),\n",
       " 'HD 224538': Star(spectral_type='F8/G0IV/V', stellar_effective_temperature=6097.0, stellar_radius=1.54, stellar_mass=1.23, stellar_luminosity=0.47, stellar_surface_gravity=4.19, stellar_age=2.0),\n",
       " 'HD 224693': Star(spectral_type='G2V', stellar_effective_temperature=5894.0, stellar_radius=1.93, stellar_mass=1.31, stellar_luminosity=0.61, stellar_surface_gravity=4.38, stellar_age=4.12),\n",
       " 'HD 22496': Star(spectral_type='K5/M0V', stellar_effective_temperature=4385.0, stellar_radius=0.67, stellar_mass=0.68, stellar_luminosity=-1.174, stellar_surface_gravity=4.69, stellar_age=None),\n",
       " 'HD 22532': Star(spectral_type='G8III/IV', stellar_effective_temperature=5038.0, stellar_radius=5.69, stellar_mass=1.57, stellar_luminosity=1.274, stellar_surface_gravity=3.09, stellar_age=None),\n",
       " 'HD 22781': Star(spectral_type='K1', stellar_effective_temperature=5027.0, stellar_radius=0.74, stellar_mass=0.75, stellar_luminosity=-0.476, stellar_surface_gravity=4.6, stellar_age=4.8),\n",
       " 'HD 23079': Star(spectral_type='F9.5V', stellar_effective_temperature=5974.0, stellar_radius=1.07, stellar_mass=1.12, stellar_luminosity=0.133, stellar_surface_gravity=4.43, stellar_age=2.0),\n",
       " 'HD 23127': Star(spectral_type='G2V', stellar_effective_temperature=5843.0, stellar_radius=1.49, stellar_mass=1.21, stellar_luminosity=0.452, stellar_surface_gravity=4.15, stellar_age=4.508),\n",
       " 'HD 231701': Star(spectral_type='F8V', stellar_effective_temperature=6101.0, stellar_radius=1.53, stellar_mass=1.21, stellar_luminosity=0.47, stellar_surface_gravity=4.31, stellar_age=3.43),\n",
       " 'HD 233604': Star(spectral_type='K5', stellar_effective_temperature=4791.0, stellar_radius=10.9, stellar_mass=1.5, stellar_luminosity=1.75, stellar_surface_gravity=2.55, stellar_age=2.4),\n",
       " 'HD 233832': Star(spectral_type='G0', stellar_effective_temperature=4981.0, stellar_radius=0.68, stellar_mass=0.71, stellar_luminosity=-0.523, stellar_surface_gravity=4.49, stellar_age=5.417),\n",
       " 'HD 235088': Star(spectral_type='K2V', stellar_effective_temperature=5037.0, stellar_radius=0.79, stellar_mass=0.84, stellar_luminosity=-0.443, stellar_surface_gravity=4.63, stellar_age=0.7),\n",
       " 'HD 23596': Star(spectral_type='F8', stellar_effective_temperature=6040.0, stellar_radius=1.53, stellar_mass=1.1, stellar_luminosity=0.458, stellar_surface_gravity=4.23, stellar_age=5.68),\n",
       " 'HD 238090': Star(spectral_type='M0.0V', stellar_effective_temperature=3933.0, stellar_radius=0.57, stellar_mass=0.58, stellar_luminosity=-1.154, stellar_surface_gravity=4.7, stellar_age=None),\n",
       " 'HD 238914': Star(spectral_type='K7', stellar_effective_temperature=4769.0, stellar_radius=12.73, stellar_mass=1.47, stellar_luminosity=1.85, stellar_surface_gravity=2.37, stellar_age=None),\n",
       " 'HD 240210': Star(spectral_type='K3III', stellar_effective_temperature=4297.0, stellar_radius=25.46, stellar_mass=0.82, stellar_luminosity=1.55, stellar_surface_gravity=2.31, stellar_age=5.085),\n",
       " 'HD 240237': Star(spectral_type='K2III', stellar_effective_temperature=3926.0, stellar_radius=71.23, stellar_mass=8.76, stellar_luminosity=2.49, stellar_surface_gravity=1.67, stellar_age=4.42),\n",
       " 'HD 24064': Star(spectral_type='K0', stellar_effective_temperature=4052.0, stellar_radius=40.0, stellar_mass=1.61, stellar_luminosity=2.546, stellar_surface_gravity=1.44, stellar_age=9.0),\n",
       " 'HD 24085': Star(spectral_type='G0V', stellar_effective_temperature=6034.0, stellar_radius=1.41, stellar_mass=1.22, stellar_luminosity=0.377, stellar_surface_gravity=4.2, stellar_age=None),\n",
       " 'HD 25015': Star(spectral_type='K2V', stellar_effective_temperature=5160.0, stellar_radius=0.83, stellar_mass=0.86, stellar_luminosity=-0.384, stellar_surface_gravity=4.4, stellar_age=4.0),\n",
       " 'HD 25171': Star(spectral_type='F8V', stellar_effective_temperature=6125.0, stellar_radius=1.23, stellar_mass=1.08, stellar_luminosity=0.276, stellar_surface_gravity=4.26, stellar_age=4.802),\n",
       " 'HD 25723': Star(spectral_type='K1III', stellar_effective_temperature=4766.0, stellar_radius=13.76, stellar_mass=2.12, stellar_luminosity=1.944, stellar_surface_gravity=2.5, stellar_age=0.95),\n",
       " 'HD 26161': Star(spectral_type=None, stellar_effective_temperature=6057.62, stellar_radius=1.46, stellar_mass=1.12, stellar_luminosity=0.393, stellar_surface_gravity=4.16, stellar_age=None),\n",
       " 'HD 2638': Star(spectral_type='K1V', stellar_effective_temperature=5186.0, stellar_radius=0.94, stellar_mass=0.77, stellar_luminosity=-0.33, stellar_surface_gravity=4.38, stellar_age=3.0),\n",
       " 'HD 2685': Star(spectral_type=None, stellar_effective_temperature=6801.0, stellar_radius=1.56, stellar_mass=1.43, stellar_luminosity=0.668, stellar_surface_gravity=4.21, stellar_age=1.31),\n",
       " 'HD 26965': Star(spectral_type='K0V', stellar_effective_temperature=5072.0, stellar_radius=0.87, stellar_mass=0.78, stellar_luminosity=-0.34, stellar_surface_gravity=4.45, stellar_age=6.9),\n",
       " 'HD 27442': Star(spectral_type='K1/2III', stellar_effective_temperature=4846.0, stellar_radius=3.18, stellar_mass=1.23, stellar_luminosity=0.851, stellar_surface_gravity=3.78, stellar_age=10.0),\n",
       " 'HD 27631': Star(spectral_type='G3IV/V', stellar_effective_temperature=5737.0, stellar_radius=0.92, stellar_mass=0.94, stellar_luminosity=-0.056, stellar_surface_gravity=4.46, stellar_age=4.01),\n",
       " 'HD 27969': Star(spectral_type='G0V', stellar_effective_temperature=5966.0, stellar_radius=1.27, stellar_mass=1.16, stellar_luminosity=0.528, stellar_surface_gravity=4.12, stellar_age=None),\n",
       " 'HD 28192': Star(spectral_type=None, stellar_effective_temperature=5919.87, stellar_radius=1.07, stellar_mass=1.08, stellar_luminosity=0.103, stellar_surface_gravity=4.41, stellar_age=None),\n",
       " 'HD 28254': Star(spectral_type='G5V', stellar_effective_temperature=5664.0, stellar_radius=1.48, stellar_mass=1.1, stellar_luminosity=0.34, stellar_surface_gravity=4.12, stellar_age=6.0),\n",
       " 'HD 285507': Star(spectral_type='K4.5V', stellar_effective_temperature=4503.0, stellar_radius=0.69, stellar_mass=0.82, stellar_luminosity=-0.719, stellar_surface_gravity=4.67, stellar_age=0.625),\n",
       " 'HD 285968': Star(spectral_type='M2V', stellar_effective_temperature=3703.49, stellar_radius=0.48, stellar_mass=0.5, stellar_luminosity=-1.658, stellar_surface_gravity=4.75, stellar_age=3.62),\n",
       " 'HD 28678': Star(spectral_type='G8IV', stellar_effective_temperature=4972.0, stellar_radius=6.48, stellar_mass=1.53, stellar_luminosity=1.36, stellar_surface_gravity=3.06, stellar_age=1.8),\n",
       " 'HD 29021': Star(spectral_type='G5', stellar_effective_temperature=5560.0, stellar_radius=0.85, stellar_mass=0.85, stellar_luminosity=-0.181, stellar_surface_gravity=4.44, stellar_age=7.4),\n",
       " 'HD 290327': Star(spectral_type='G8V', stellar_effective_temperature=5505.0, stellar_radius=0.95, stellar_mass=0.84, stellar_luminosity=-0.14, stellar_surface_gravity=4.41, stellar_age=None),\n",
       " 'HD 29399': Star(spectral_type='K1III', stellar_effective_temperature=4845.0, stellar_radius=4.5, stellar_mass=1.17, stellar_luminosity=1.002, stellar_surface_gravity=3.25, stellar_age=6.2),\n",
       " 'HD 2952': Star(spectral_type='K0III', stellar_effective_temperature=4853.0, stellar_radius=10.9, stellar_mass=1.91, stellar_luminosity=1.768, stellar_surface_gravity=2.65, stellar_age=None),\n",
       " 'HD 29985': Star(spectral_type=None, stellar_effective_temperature=4678.0, stellar_radius=0.57, stellar_mass=0.75, stellar_luminosity=-0.846, stellar_surface_gravity=4.79, stellar_age=None),\n",
       " 'HD 30562': Star(spectral_type='G2IV', stellar_effective_temperature=5882.0, stellar_radius=1.61, stellar_mass=1.12, stellar_luminosity=0.45, stellar_surface_gravity=4.07, stellar_age=3.6),\n",
       " 'HD 30669': Star(spectral_type='G9V', stellar_effective_temperature=5400.0, stellar_radius=0.91, stellar_mass=0.92, stellar_luminosity=-0.146, stellar_surface_gravity=4.37, stellar_age=4.8),\n",
       " 'HD 307842': Star(spectral_type='G', stellar_effective_temperature=5558.0, stellar_radius=0.91, stellar_mass=0.91, stellar_luminosity=-0.19, stellar_surface_gravity=4.48, stellar_age=None),\n",
       " 'HD 30856': Star(spectral_type='K0III', stellar_effective_temperature=4895.0, stellar_radius=4.4, stellar_mass=1.17, stellar_luminosity=0.996, stellar_surface_gravity=3.2, stellar_age=3.8),\n",
       " 'HD 31253': Star(spectral_type='F8', stellar_effective_temperature=6130.0, stellar_radius=1.75, stellar_mass=1.7, stellar_luminosity=0.517, stellar_surface_gravity=4.18, stellar_age=3.0),\n",
       " 'HD 32518': Star(spectral_type='K1III', stellar_effective_temperature=4580.0, stellar_radius=10.22, stellar_mass=1.13, stellar_luminosity=1.666, stellar_surface_gravity=2.1, stellar_age=5.83),\n",
       " 'HD 32963': Star(spectral_type='G5IV', stellar_effective_temperature=5727.0, stellar_radius=1.11, stellar_mass=0.94, stellar_luminosity=0.064, stellar_surface_gravity=4.41, stellar_age=4.99),\n",
       " 'HD 330075': Star(spectral_type='K1', stellar_effective_temperature=5000.0, stellar_radius=0.84, stellar_mass=0.47, stellar_luminosity=-0.33, stellar_surface_gravity=4.26, stellar_age=6.2),\n",
       " 'HD 331093': Star(spectral_type='K0', stellar_effective_temperature=5544.0, stellar_radius=1.11, stellar_mass=1.03, stellar_luminosity=0.006, stellar_surface_gravity=4.2, stellar_age=None),\n",
       " 'HD 332231': Star(spectral_type='F8', stellar_effective_temperature=6089.0, stellar_radius=1.28, stellar_mass=1.13, stellar_luminosity=0.305, stellar_surface_gravity=4.28, stellar_age=4.3),\n",
       " 'HD 33283': Star(spectral_type='G3/G5V', stellar_effective_temperature=5935.0, stellar_radius=1.97, stellar_mass=1.38, stellar_luminosity=0.64, stellar_surface_gravity=4.12, stellar_age=3.63),\n",
       " 'HD 33564': Star(spectral_type='F6V', stellar_effective_temperature=6250.0, stellar_radius=1.44, stellar_mass=1.25, stellar_luminosity=0.535, stellar_surface_gravity=4.0, stellar_age=3.0),\n",
       " 'HD 35759': Star(spectral_type='G0', stellar_effective_temperature=6060.0, stellar_radius=1.76, stellar_mass=1.15, stellar_luminosity=0.537, stellar_surface_gravity=4.24, stellar_age=None),\n",
       " 'HD 360': Star(spectral_type='G8III', stellar_effective_temperature=4770.0, stellar_radius=10.86, stellar_mass=1.69, stellar_luminosity=1.742, stellar_surface_gravity=2.59, stellar_age=None),\n",
       " 'HD 36384': Star(spectral_type='M0III', stellar_effective_temperature=3940.0, stellar_radius=38.4, stellar_mass=1.14, stellar_luminosity=2.589, stellar_surface_gravity=1.1, stellar_age=0.113),\n",
       " 'HD 3651': Star(spectral_type='K0V', stellar_effective_temperature=5221.0, stellar_radius=0.87, stellar_mass=0.8, stellar_luminosity=-0.274, stellar_surface_gravity=4.45, stellar_age=3.0),\n",
       " 'HD 3765': Star(spectral_type='K2V', stellar_effective_temperature=5049.8, stellar_radius=0.83, stellar_mass=0.85, stellar_luminosity=-0.416, stellar_surface_gravity=4.53, stellar_age=2.0),\n",
       " 'HD 38283': Star(spectral_type='F9.5V', stellar_effective_temperature=5981.0, stellar_radius=1.49, stellar_mass=1.37, stellar_luminosity=0.411, stellar_surface_gravity=4.23, stellar_age=6.2),\n",
       " 'HD 38801': Star(spectral_type='K0', stellar_effective_temperature=5338.0, stellar_radius=2.03, stellar_mass=1.21, stellar_luminosity=0.659, stellar_surface_gravity=3.88, stellar_age=6.072),\n",
       " 'HD 39855': Star(spectral_type='G8V', stellar_effective_temperature=5576.0, stellar_radius=0.74, stellar_mass=0.87, stellar_luminosity=-0.316, stellar_surface_gravity=4.66, stellar_age=None),\n",
       " 'HD 40956': Star(spectral_type='K0', stellar_effective_temperature=4869.0, stellar_radius=8.56, stellar_mass=2.0, stellar_luminosity=1.664, stellar_surface_gravity=3.02, stellar_age=1.35),\n",
       " 'HD 40979': Star(spectral_type='F8V', stellar_effective_temperature=6165.0, stellar_radius=1.21, stellar_mass=1.45, stellar_luminosity=0.291, stellar_surface_gravity=4.43, stellar_age=3.56),\n",
       " 'HD 41004 A': Star(spectral_type='K1/K2V', stellar_effective_temperature=5310.0, stellar_radius=0.85, stellar_mass=0.95, stellar_luminosity=-0.293, stellar_surface_gravity=4.37, stellar_age=1.0),\n",
       " 'HD 41004 B': Star(spectral_type='M2V', stellar_effective_temperature=5036.0, stellar_radius=1.04, stellar_mass=0.4, stellar_luminosity=-0.202, stellar_surface_gravity=4.33, stellar_age=None),\n",
       " 'HD 4113': Star(spectral_type='G5', stellar_effective_temperature=5688.0, stellar_radius=1.08, stellar_mass=1.01, stellar_luminosity=0.086, stellar_surface_gravity=4.4, stellar_age=6.4),\n",
       " 'HD 42012': Star(spectral_type='K0', stellar_effective_temperature=5405.0, stellar_radius=0.82, stellar_mass=0.83, stellar_luminosity=-0.27, stellar_surface_gravity=4.45, stellar_age=4.1),\n",
       " 'HD 4208': Star(spectral_type='G7VFe-1CH-0.5', stellar_effective_temperature=5717.0, stellar_radius=0.85, stellar_mass=0.88, stellar_luminosity=-0.1, stellar_surface_gravity=4.5, stellar_age=3.813),\n",
       " 'HD 42618': Star(spectral_type='G4V', stellar_effective_temperature=5727.0, stellar_radius=1.0, stellar_mass=1.01, stellar_luminosity=-0.009, stellar_surface_gravity=4.44, stellar_age=3.72),\n",
       " 'HD 4308': Star(spectral_type='G5V', stellar_effective_temperature=5686.0, stellar_radius=1.02, stellar_mass=0.93, stellar_luminosity=-0.004, stellar_surface_gravity=4.39, stellar_age=4.3),\n",
       " 'HD 4313': Star(spectral_type='G5', stellar_effective_temperature=4943.0, stellar_radius=5.14, stellar_mass=1.63, stellar_luminosity=1.149, stellar_surface_gravity=3.24, stellar_age=2.0),\n",
       " 'HD 43691': Star(spectral_type='G0', stellar_effective_temperature=6093.0, stellar_radius=1.6, stellar_mass=1.32, stellar_luminosity=0.5, stellar_surface_gravity=4.28, stellar_age=2.39),\n",
       " 'HD 44219': Star(spectral_type='G3V', stellar_effective_temperature=5752.0, stellar_radius=1.32, stellar_mass=1.2, stellar_luminosity=0.26, stellar_surface_gravity=4.21, stellar_age=8.4),\n",
       " 'HD 45350': Star(spectral_type='G5V', stellar_effective_temperature=5566.0, stellar_radius=1.26, stellar_mass=0.98, stellar_luminosity=0.141, stellar_surface_gravity=4.23, stellar_age=8.0),\n",
       " 'HD 45652': Star(spectral_type='G8/K0', stellar_effective_temperature=5294.0, stellar_radius=0.94, stellar_mass=0.92, stellar_luminosity=-0.2, stellar_surface_gravity=4.2, stellar_age=8.4),\n",
       " 'HD 457': Star(spectral_type=None, stellar_effective_temperature=6114.04, stellar_radius=1.28, stellar_mass=1.15, stellar_luminosity=0.316, stellar_surface_gravity=4.28, stellar_age=None),\n",
       " 'HD 46375': Star(spectral_type='K1IV-V', stellar_effective_temperature=5285.0, stellar_radius=0.91, stellar_mass=0.92, stellar_luminosity=-0.245, stellar_surface_gravity=4.53, stellar_age=9.0),\n",
       " 'HD 47536': Star(spectral_type='K1III', stellar_effective_temperature=4380.0, stellar_radius=23.47, stellar_mass=2.1, stellar_luminosity=2.248, stellar_surface_gravity=2.13, stellar_age=10.15),\n",
       " 'HD 4760': Star(spectral_type='K2', stellar_effective_temperature=4076.0, stellar_radius=42.4, stellar_mass=1.05, stellar_luminosity=2.93, stellar_surface_gravity=1.62, stellar_age=None),\n",
       " 'HD 48265': Star(spectral_type='G5IV/V', stellar_effective_temperature=5733.0, stellar_radius=1.9, stellar_mass=1.31, stellar_luminosity=0.584, stellar_surface_gravity=3.97, stellar_age=4.201),\n",
       " 'HD 4917': Star(spectral_type='K0III/IV', stellar_effective_temperature=4802.0, stellar_radius=5.01, stellar_mass=1.32, stellar_luminosity=1.456, stellar_surface_gravity=2.97, stellar_age=None),\n",
       " 'HD 49674': Star(spectral_type='G5V', stellar_effective_temperature=5602.0, stellar_radius=1.02, stellar_mass=1.03, stellar_luminosity=-0.022, stellar_surface_gravity=4.44, stellar_age=3.62),\n",
       " 'HD 50554': Star(spectral_type='F8V', stellar_effective_temperature=5987.0, stellar_radius=1.02, stellar_mass=1.04, stellar_luminosity=0.143, stellar_surface_gravity=4.33, stellar_age=2.16),\n",
       " 'HD 52265': Star(spectral_type='G0V', stellar_effective_temperature=6136.0, stellar_radius=1.32, stellar_mass=1.2, stellar_luminosity=0.297, stellar_surface_gravity=4.36, stellar_age=3.5),\n",
       " 'HD 55696': Star(spectral_type='G0V', stellar_effective_temperature=6012.0, stellar_radius=1.52, stellar_mass=1.29, stellar_luminosity=0.43, stellar_surface_gravity=4.15, stellar_age=2.64),\n",
       " 'HD 5583': Star(spectral_type=None, stellar_effective_temperature=4830.0, stellar_radius=9.09, stellar_mass=1.01, stellar_luminosity=1.61, stellar_surface_gravity=2.53, stellar_age=7.41),\n",
       " 'HD 5608': Star(spectral_type='K0IV', stellar_effective_temperature=4807.0, stellar_radius=5.43, stellar_mass=1.29, stellar_luminosity=1.155, stellar_surface_gravity=3.06, stellar_age=1.72),\n",
       " 'HD 564': Star(spectral_type='G2/G3V', stellar_effective_temperature=5902.0, stellar_radius=1.01, stellar_mass=0.96, stellar_luminosity=0.019, stellar_surface_gravity=4.53, stellar_age=5.5),\n",
       " 'HD 56414': Star(spectral_type=None, stellar_effective_temperature=8500.0, stellar_radius=1.75, stellar_mass=1.89, stellar_luminosity=1.158, stellar_surface_gravity=4.26, stellar_age=0.42),\n",
       " 'HD 56957': Star(spectral_type=None, stellar_effective_temperature=5743.0, stellar_radius=1.78, stellar_mass=1.03, stellar_luminosity=0.491, stellar_surface_gravity=3.95, stellar_age=None),\n",
       " 'HD 5891': Star(spectral_type='G5', stellar_effective_temperature=4673.0, stellar_radius=10.64, stellar_mass=1.93, stellar_luminosity=1.595, stellar_surface_gravity=2.67, stellar_age=1.5),\n",
       " 'HD 59686 A': Star(spectral_type='K2III', stellar_effective_temperature=4658.0, stellar_radius=13.2, stellar_mass=1.9, stellar_luminosity=1.822, stellar_surface_gravity=2.49, stellar_age=1.73),\n",
       " 'HD 60292': Star(spectral_type='K0III', stellar_effective_temperature=4348.0, stellar_radius=27.0, stellar_mass=1.7, stellar_luminosity=2.394, stellar_surface_gravity=1.9, stellar_age=1.8),\n",
       " 'HD 62509': Star(spectral_type='K0IIIvar', stellar_effective_temperature=4892.63, stellar_radius=8.9, stellar_mass=2.0, stellar_luminosity=1.612, stellar_surface_gravity=2.78, stellar_age=0.98),\n",
       " 'HD 62549': Star(spectral_type=None, stellar_effective_temperature=5930.46, stellar_radius=1.23, stellar_mass=1.08, stellar_luminosity=0.228, stellar_surface_gravity=4.29, stellar_age=None),\n",
       " 'HD 63454': Star(spectral_type='K4V', stellar_effective_temperature=4812.0, stellar_radius=0.77, stellar_mass=0.42, stellar_luminosity=-0.592, stellar_surface_gravity=4.28, stellar_age=1.0),\n",
       " 'HD 63765': Star(spectral_type='G9V', stellar_effective_temperature=5449.0, stellar_radius=0.83, stellar_mass=0.65, stellar_luminosity=-0.256, stellar_surface_gravity=4.41, stellar_age=4.77),\n",
       " 'HD 64114': Star(spectral_type='G7V', stellar_effective_temperature=5676.0, stellar_radius=0.88, stellar_mass=0.95, stellar_luminosity=-0.137, stellar_surface_gravity=4.52, stellar_age=None),\n",
       " 'HD 64121': Star(spectral_type='G8/K0III', stellar_effective_temperature=5078.0, stellar_radius=5.44, stellar_mass=1.64, stellar_luminosity=1.248, stellar_surface_gravity=3.19, stellar_age=None),\n",
       " 'HD 6434': Star(spectral_type='G2/3V', stellar_effective_temperature=5769.0, stellar_radius=1.12, stellar_mass=1.1, stellar_luminosity=0.05, stellar_surface_gravity=4.38, stellar_age=11.27),\n",
       " 'HD 66141': Star(spectral_type='K2III', stellar_effective_temperature=4323.0, stellar_radius=21.4, stellar_mass=1.1, stellar_luminosity=2.24, stellar_surface_gravity=1.78, stellar_age=6.84),\n",
       " 'HD 6718': Star(spectral_type='G5V', stellar_effective_temperature=5801.0, stellar_radius=0.95, stellar_mass=1.08, stellar_luminosity=0.053, stellar_surface_gravity=4.51, stellar_age=None),\n",
       " 'HD 68402': Star(spectral_type='G5IV/V', stellar_effective_temperature=5950.0, stellar_radius=1.02, stellar_mass=1.12, stellar_luminosity=0.068, stellar_surface_gravity=4.47, stellar_age=2.0),\n",
       " 'HD 6860': Star(spectral_type='M0III', stellar_effective_temperature=3802.0, stellar_radius=86.4, stellar_mass=2.49, stellar_luminosity=3.224, stellar_surface_gravity=0.54, stellar_age=None),\n",
       " 'HD 69123': Star(spectral_type='K1III', stellar_effective_temperature=4842.0, stellar_radius=7.72, stellar_mass=1.68, stellar_luminosity=1.47, stellar_surface_gravity=2.86, stellar_age=None),\n",
       " 'HD 70573': Star(spectral_type='G1-1.5V', stellar_effective_temperature=5737.0, stellar_radius=0.98, stellar_mass=1.0, stellar_luminosity=-0.001, stellar_surface_gravity=4.59, stellar_age=0.102),\n",
       " 'HD 70642': Star(spectral_type='G6V', stellar_effective_temperature=5732.0, stellar_radius=0.98, stellar_mass=1.08, stellar_luminosity=0.012, stellar_surface_gravity=4.46, stellar_age=0.919),\n",
       " 'HD 7199': Star(spectral_type='K1IV', stellar_effective_temperature=5371.0, stellar_radius=0.97, stellar_mass=0.77, stellar_luminosity=-0.155, stellar_surface_gravity=4.35, stellar_age=6.79),\n",
       " 'HD 72490': Star(spectral_type='G5', stellar_effective_temperature=4934.0, stellar_radius=4.96, stellar_mass=1.21, stellar_luminosity=1.091, stellar_surface_gravity=3.21, stellar_age=None),\n",
       " 'HD 72892': Star(spectral_type='G5V', stellar_effective_temperature=5688.0, stellar_radius=1.22, stellar_mass=1.01, stellar_luminosity=0.146, stellar_surface_gravity=4.27, stellar_age=8.0),\n",
       " 'HD 73256': Star(spectral_type='G8IV', stellar_effective_temperature=5570.0, stellar_radius=0.94, stellar_mass=1.0, stellar_luminosity=-0.132, stellar_surface_gravity=4.47, stellar_age=2.2),\n",
       " 'HD 73534': Star(spectral_type='G5', stellar_effective_temperature=4917.0, stellar_radius=2.58, stellar_mass=1.16, stellar_luminosity=0.522, stellar_surface_gravity=3.6, stellar_age=7.04),\n",
       " 'HD 7449': Star(spectral_type='F9.5V', stellar_effective_temperature=6024.0, stellar_radius=0.97, stellar_mass=1.2, stellar_luminosity=0.101, stellar_surface_gravity=4.52, stellar_age=2.1),\n",
       " 'HD 75289': Star(spectral_type='G0', stellar_effective_temperature=6117.0, stellar_radius=1.23, stellar_mass=1.29, stellar_luminosity=0.312, stellar_surface_gravity=4.37, stellar_age=5.6),\n",
       " 'HD 75302': Star(spectral_type='G5V', stellar_effective_temperature=5697.46, stellar_radius=0.94, stellar_mass=1.06, stellar_luminosity=-0.075, stellar_surface_gravity=4.5, stellar_age=2.1),\n",
       " 'HD 75898': Star(spectral_type='G0', stellar_effective_temperature=5963.0, stellar_radius=1.58, stellar_mass=1.26, stellar_luminosity=0.46, stellar_surface_gravity=4.21, stellar_age=3.56),\n",
       " 'HD 76700': Star(spectral_type='G6V', stellar_effective_temperature=5644.0, stellar_radius=1.37, stellar_mass=0.99, stellar_luminosity=0.257, stellar_surface_gravity=4.16, stellar_age=11.0),\n",
       " 'HD 76920': Star(spectral_type='K1III', stellar_effective_temperature=4698.0, stellar_radius=7.47, stellar_mass=1.17, stellar_luminosity=1.38, stellar_surface_gravity=2.94, stellar_age=7.1),\n",
       " 'HD 77338': Star(spectral_type='K0IV', stellar_effective_temperature=5341.0, stellar_radius=0.97, stellar_mass=1.37, stellar_luminosity=-0.26, stellar_surface_gravity=4.6, stellar_age=None),\n",
       " 'HD 77946': Star(spectral_type='F5', stellar_effective_temperature=6046.0, stellar_radius=1.31, stellar_mass=1.17, stellar_luminosity=0.321, stellar_surface_gravity=4.3, stellar_age=3.85),\n",
       " 'HD 79181': Star(spectral_type='G8III', stellar_effective_temperature=4862.0, stellar_radius=11.06, stellar_mass=1.28, stellar_luminosity=1.79, stellar_surface_gravity=2.45, stellar_age=None),\n",
       " 'HD 79498': Star(spectral_type='G5', stellar_effective_temperature=5748.0, stellar_radius=1.05, stellar_mass=1.08, stellar_luminosity=0.03, stellar_surface_gravity=4.37, stellar_age=2.71),\n",
       " 'HD 80606': Star(spectral_type='G5', stellar_effective_temperature=5561.0, stellar_radius=1.04, stellar_mass=1.15, stellar_luminosity=-0.002, stellar_surface_gravity=4.42, stellar_age=5.9),\n",
       " 'HD 80869': Star(spectral_type='G5', stellar_effective_temperature=5837.0, stellar_radius=1.06, stellar_mass=1.06, stellar_luminosity=0.4, stellar_surface_gravity=4.18, stellar_age=None),\n",
       " 'HD 80883': Star(spectral_type=None, stellar_effective_temperature=5177.91, stellar_radius=0.81, stellar_mass=0.88, stellar_luminosity=-0.367, stellar_surface_gravity=4.56, stellar_age=None),\n",
       " 'HD 80913': Star(spectral_type=None, stellar_effective_temperature=6013.24, stellar_radius=1.65, stellar_mass=1.11, stellar_luminosity=0.508, stellar_surface_gravity=4.05, stellar_age=None),\n",
       " 'HD 81040': Star(spectral_type='G2/G3', stellar_effective_temperature=5755.0, stellar_radius=0.91, stellar_mass=1.03, stellar_luminosity=-0.077, stellar_surface_gravity=4.54, stellar_age=0.73),\n",
       " 'HD 81688': Star(spectral_type='K0III-IV', stellar_effective_temperature=4797.0, stellar_radius=11.13, stellar_mass=1.07, stellar_luminosity=1.78, stellar_surface_gravity=2.37, stellar_age=1.48),\n",
       " 'HD 82886': Star(spectral_type='G0', stellar_effective_temperature=4953.0, stellar_radius=5.26, stellar_mass=2.53, stellar_luminosity=1.143, stellar_surface_gravity=3.4, stellar_age=7.0),\n",
       " 'HD 8326': Star(spectral_type='K2V', stellar_effective_temperature=4914.0, stellar_radius=0.78, stellar_mass=0.8, stellar_luminosity=-0.492, stellar_surface_gravity=4.55, stellar_age=None),\n",
       " 'HD 8535': Star(spectral_type='G0V', stellar_effective_temperature=6136.0, stellar_radius=1.19, stellar_mass=1.13, stellar_luminosity=0.333, stellar_surface_gravity=4.46, stellar_age=None),\n",
       " 'HD 85390': Star(spectral_type='K1.5V', stellar_effective_temperature=5186.0, stellar_radius=0.8, stellar_mass=0.76, stellar_luminosity=-0.367, stellar_surface_gravity=4.41, stellar_age=7.2),\n",
       " 'HD 85512': Star(spectral_type='K5V', stellar_effective_temperature=4300.0, stellar_radius=0.71, stellar_mass=0.43, stellar_luminosity=-0.775, stellar_surface_gravity=4.36, stellar_age=5.61),\n",
       " 'HD 8574': Star(spectral_type='F8', stellar_effective_temperature=6064.0, stellar_radius=1.38, stellar_mass=1.34, stellar_luminosity=0.376, stellar_surface_gravity=4.28, stellar_age=5.6),\n",
       " 'HD 86065': Star(spectral_type=None, stellar_effective_temperature=4927.56, stellar_radius=0.78, stellar_mass=0.81, stellar_luminosity=-0.49, stellar_surface_gravity=4.56, stellar_age=None),\n",
       " 'HD 86081': Star(spectral_type='F8', stellar_effective_temperature=5939.0, stellar_radius=1.46, stellar_mass=1.21, stellar_luminosity=0.38, stellar_surface_gravity=4.18, stellar_age=3.61),\n",
       " 'HD 86264': Star(spectral_type='F7V', stellar_effective_temperature=6210.0, stellar_radius=1.88, stellar_mass=1.26, stellar_luminosity=0.66, stellar_surface_gravity=4.02, stellar_age=2.24),\n",
       " 'HD 8673': Star(spectral_type='F5', stellar_effective_temperature=6389.05, stellar_radius=1.5, stellar_mass=1.28, stellar_luminosity=0.53, stellar_surface_gravity=4.19, stellar_age=None),\n",
       " 'HD 86950': Star(spectral_type='K1III', stellar_effective_temperature=4805.0, stellar_radius=8.8, stellar_mass=1.66, stellar_luminosity=1.56, stellar_surface_gravity=2.66, stellar_age=None),\n",
       " 'HD 87646': Star(spectral_type='G', stellar_effective_temperature=5770.0, stellar_radius=1.55, stellar_mass=1.12, stellar_luminosity=0.96, stellar_surface_gravity=4.1, stellar_age=None),\n",
       " 'HD 87883': Star(spectral_type='K0', stellar_effective_temperature=4980.0, stellar_radius=0.8, stellar_mass=0.81, stellar_luminosity=-0.471, stellar_surface_gravity=4.55, stellar_age=7.6),\n",
       " 'HD 88072': Star(spectral_type=None, stellar_effective_temperature=5785.33, stellar_radius=1.03, stellar_mass=1.04, stellar_luminosity=0.031, stellar_surface_gravity=4.43, stellar_age=None),\n",
       " 'HD 88133': Star(spectral_type='G5', stellar_effective_temperature=5392.0, stellar_radius=2.2, stellar_mass=1.26, stellar_luminosity=0.497, stellar_surface_gravity=3.88, stellar_age=5.37),\n",
       " 'HD 88986': Star(spectral_type='G2V', stellar_effective_temperature=5861.0, stellar_radius=1.54, stellar_mass=1.25, stellar_luminosity=0.393, stellar_surface_gravity=4.16, stellar_age=7.9),\n",
       " 'HD 89307': Star(spectral_type='G0V', stellar_effective_temperature=5955.0, stellar_radius=1.1, stellar_mass=1.27, stellar_luminosity=0.131, stellar_surface_gravity=4.46, stellar_age=2.31),\n",
       " 'HD 89345': Star(spectral_type='G5', stellar_effective_temperature=5576.0, stellar_radius=1.75, stellar_mass=1.16, stellar_luminosity=0.425, stellar_surface_gravity=4.02, stellar_age=7.53),\n",
       " 'HD 89744': Star(spectral_type='F7V', stellar_effective_temperature=6291.0, stellar_radius=2.13, stellar_mass=1.86, stellar_luminosity=0.796, stellar_surface_gravity=4.07, stellar_age=1.88),\n",
       " 'HD 89839': Star(spectral_type='F7V', stellar_effective_temperature=6314.0, stellar_radius=1.29, stellar_mass=1.21, stellar_luminosity=0.375, stellar_surface_gravity=4.49, stellar_age=1.6),\n",
       " 'HD 90156': Star(spectral_type='G5V', stellar_effective_temperature=5599.0, stellar_radius=0.92, stellar_mass=0.84, stellar_luminosity=-0.143, stellar_surface_gravity=4.48, stellar_age=4.4),\n",
       " 'HD 9174': Star(spectral_type='G8IV', stellar_effective_temperature=5577.0, stellar_radius=1.67, stellar_mass=1.03, stellar_luminosity=0.382, stellar_surface_gravity=4.03, stellar_age=9.0),\n",
       " 'HD 93083': Star(spectral_type='K3V', stellar_effective_temperature=4995.0, stellar_radius=0.85, stellar_mass=0.7, stellar_luminosity=-0.387, stellar_surface_gravity=4.26, stellar_age=1.0),\n",
       " 'HD 94771': Star(spectral_type='G3/G5V', stellar_effective_temperature=5631.0, stellar_radius=1.9, stellar_mass=1.2, stellar_luminosity=0.516, stellar_surface_gravity=3.94, stellar_age=5.733),\n",
       " 'HD 94834': Star(spectral_type='K0', stellar_effective_temperature=4798.0, stellar_radius=4.2, stellar_mass=1.11, stellar_luminosity=0.993, stellar_surface_gravity=3.22, stellar_age=None),\n",
       " 'HD 95086': Star(spectral_type='A8III', stellar_effective_temperature=7883.0, stellar_radius=1.49, stellar_mass=1.77, stellar_luminosity=0.821, stellar_surface_gravity=4.34, stellar_age=0.017),\n",
       " 'HD 95127': Star(spectral_type='K0', stellar_effective_temperature=4218.0, stellar_radius=41.01, stellar_mass=3.7, stellar_luminosity=2.28, stellar_surface_gravity=1.78, stellar_age=5.5),\n",
       " 'HD 95338': Star(spectral_type='K0.5V', stellar_effective_temperature=5212.0, stellar_radius=0.87, stellar_mass=0.83, stellar_luminosity=-0.31, stellar_surface_gravity=4.54, stellar_age=5.08),\n",
       " 'HD 95544': Star(spectral_type='G0', stellar_effective_temperature=5722.0, stellar_radius=1.09, stellar_mass=1.01, stellar_luminosity=0.478, stellar_surface_gravity=4.07, stellar_age=None),\n",
       " 'HD 95872': Star(spectral_type='K0V', stellar_effective_temperature=5312.0, stellar_radius=0.84, stellar_mass=0.7, stellar_luminosity=-0.242, stellar_surface_gravity=4.43, stellar_age=10.0),\n",
       " 'HD 96063': Star(spectral_type='G6V', stellar_effective_temperature=5020.0, stellar_radius=4.75, stellar_mass=1.37, stellar_luminosity=1.104, stellar_surface_gravity=3.33, stellar_age=9.0),\n",
       " 'HD 96127': Star(spectral_type='K2III', stellar_effective_temperature=3943.0, stellar_radius=51.1, stellar_mass=10.94, stellar_luminosity=2.86, stellar_surface_gravity=2.06, stellar_age=4.067),\n",
       " 'HD 96167': Star(spectral_type='G5', stellar_effective_temperature=5733.0, stellar_radius=1.94, stellar_mass=1.27, stellar_luminosity=0.57, stellar_surface_gravity=3.99, stellar_age=4.85),\n",
       " 'HD 96992': Star(spectral_type='K0', stellar_effective_temperature=4725.0, stellar_radius=7.43, stellar_mass=0.96, stellar_luminosity=1.47, stellar_surface_gravity=2.76, stellar_age=None),\n",
       " 'HD 97037': Star(spectral_type=None, stellar_effective_temperature=5874.1, stellar_radius=1.26, stellar_mass=1.06, stellar_luminosity=0.234, stellar_surface_gravity=4.26, stellar_age=None),\n",
       " 'HD 97048': Star(spectral_type='Be9.5/AO', stellar_effective_temperature=10000.0, stellar_radius=2.25, stellar_mass=2.4, stellar_luminosity=1.602, stellar_surface_gravity=4.14, stellar_age=0.003),\n",
       " 'HD 97658': Star(spectral_type='K1V', stellar_effective_temperature=5212.0, stellar_radius=0.73, stellar_mass=0.85, stellar_luminosity=-0.455, stellar_surface_gravity=4.64, stellar_age=3.9),\n",
       " 'HD 98219': Star(spectral_type='K0III/IV', stellar_effective_temperature=4925.0, stellar_radius=4.6, stellar_mass=1.41, stellar_luminosity=1.049, stellar_surface_gravity=3.36, stellar_age=4.0),\n",
       " 'HD 98649': Star(spectral_type='G3/G5V', stellar_effective_temperature=5759.0, stellar_radius=1.01, stellar_mass=1.02, stellar_luminosity=-0.014, stellar_surface_gravity=4.38, stellar_age=4.44),\n",
       " 'HD 98736': Star(spectral_type='G5', stellar_effective_temperature=5271.0, stellar_radius=0.93, stellar_mass=0.92, stellar_luminosity=-0.22, stellar_surface_gravity=4.47, stellar_age=7.39),\n",
       " 'HD 99109': Star(spectral_type='G8/K0IV', stellar_effective_temperature=5282.0, stellar_radius=0.98, stellar_mass=0.76, stellar_luminosity=-0.172, stellar_surface_gravity=4.34, stellar_age=1.0),\n",
       " 'HD 99283': Star(spectral_type='K0III', stellar_effective_temperature=4886.0, stellar_radius=11.21, stellar_mass=1.76, stellar_luminosity=1.81, stellar_surface_gravity=2.57, stellar_age=None),\n",
       " 'HIP 105854': Star(spectral_type='K2III', stellar_effective_temperature=4780.0, stellar_radius=10.31, stellar_mass=2.1, stellar_luminosity=1.67, stellar_surface_gravity=2.94, stellar_age=None),\n",
       " 'HIP 107772': Star(spectral_type='M0V', stellar_effective_temperature=4006.0, stellar_radius=0.51, stellar_mass=0.63, stellar_luminosity=-1.163, stellar_surface_gravity=4.73, stellar_age=None),\n",
       " 'HIP 107773': Star(spectral_type='K1III', stellar_effective_temperature=4945.0, stellar_radius=11.6, stellar_mass=2.42, stellar_luminosity=1.87, stellar_surface_gravity=2.6, stellar_age=None),\n",
       " 'HIP 109384': Star(spectral_type='G5', stellar_effective_temperature=5180.0, stellar_radius=0.83, stellar_mass=0.78, stellar_luminosity=-0.319, stellar_surface_gravity=4.43, stellar_age=None),\n",
       " 'HIP 109600': Star(spectral_type='G5', stellar_effective_temperature=5530.0, stellar_radius=0.97, stellar_mass=0.87, stellar_luminosity=-0.079, stellar_surface_gravity=4.45, stellar_age=None),\n",
       " 'HIP 114933': Star(spectral_type='K0III', stellar_effective_temperature=4823.0, stellar_radius=5.27, stellar_mass=1.39, stellar_luminosity=1.14, stellar_surface_gravity=2.99, stellar_age=3.4),\n",
       " 'HIP 116454': Star(spectral_type='K1', stellar_effective_temperature=5089.0, stellar_radius=0.72, stellar_mass=0.76, stellar_luminosity=-0.471, stellar_surface_gravity=4.59, stellar_age=2.0),\n",
       " 'HIP 12961': Star(spectral_type='M0', stellar_effective_temperature=3901.0, stellar_radius=0.65, stellar_mass=0.69, stellar_luminosity=-1.003, stellar_surface_gravity=4.65, stellar_age=None),\n",
       " 'HIP 19976': Star(spectral_type=None, stellar_effective_temperature=4316.0, stellar_radius=0.77, stellar_mass=0.67, stellar_luminosity=-0.729, stellar_surface_gravity=4.49, stellar_age=None),\n",
       " 'HIP 21152': Star(spectral_type='F5V', stellar_effective_temperature=6655.0, stellar_radius=1.59, stellar_mass=1.4, stellar_luminosity=0.636, stellar_surface_gravity=4.3, stellar_age=0.65),\n",
       " 'HIP 34222': Star(spectral_type='K7V', stellar_effective_temperature=4050.0, stellar_radius=0.62, stellar_mass=0.62, stellar_luminosity=-1.033, stellar_surface_gravity=4.65, stellar_age=None),\n",
       " 'HIP 35173': Star(spectral_type='K2V', stellar_effective_temperature=4881.0, stellar_radius=0.77, stellar_mass=0.79, stellar_luminosity=-0.514, stellar_surface_gravity=4.52, stellar_age=None),\n",
       " 'HIP 35965': Star(spectral_type=None, stellar_effective_temperature=4836.0, stellar_radius=0.7, stellar_mass=0.78, stellar_luminosity=-0.62, stellar_surface_gravity=4.64, stellar_age=None),\n",
       " 'HIP 4845': Star(spectral_type='K7V', stellar_effective_temperature=4010.0, stellar_radius=0.6, stellar_mass=0.62, stellar_luminosity=-1.034, stellar_surface_gravity=4.62, stellar_age=None),\n",
       " 'HIP 48714': Star(spectral_type='M0.5Ve', stellar_effective_temperature=4015.5, stellar_radius=0.6, stellar_mass=0.58, stellar_luminosity=-1.156, stellar_surface_gravity=4.66, stellar_age=None),\n",
       " 'HIP 54597': Star(spectral_type='K5V', stellar_effective_temperature=4799.0, stellar_radius=0.66, stellar_mass=0.8, stellar_luminosity=-0.682, stellar_surface_gravity=4.43, stellar_age=4.3),\n",
       " 'HIP 55507': Star(spectral_type='M0', stellar_effective_temperature=4171.0, stellar_radius=0.72, stellar_mass=0.65, stellar_luminosity=-0.845, stellar_surface_gravity=4.53, stellar_age=None),\n",
       " 'HIP 56640': Star(spectral_type='K1III', stellar_effective_temperature=4769.0, stellar_radius=4.93, stellar_mass=1.75, stellar_luminosity=1.05, stellar_surface_gravity=2.91, stellar_age=9.15),\n",
       " 'HIP 5763': Star(spectral_type='K6V', stellar_effective_temperature=4352.0, stellar_radius=0.75, stellar_mass=0.72, stellar_luminosity=-0.74, stellar_surface_gravity=4.52, stellar_age=None),\n",
       " 'HIP 63242': Star(spectral_type='G8', stellar_effective_temperature=4830.0, stellar_radius=10.28, stellar_mass=1.54, stellar_luminosity=1.63, stellar_surface_gravity=2.53, stellar_age=None),\n",
       " 'HIP 65 A': Star(spectral_type='K4V', stellar_effective_temperature=4590.0, stellar_radius=0.72, stellar_mass=0.78, stellar_luminosity=-0.678, stellar_surface_gravity=4.61, stellar_age=4.1),\n",
       " 'HIP 65426': Star(spectral_type='A2V', stellar_effective_temperature=9097.0, stellar_radius=1.74, stellar_mass=1.96, stellar_luminosity=1.269, stellar_surface_gravity=4.32, stellar_age=0.014),\n",
       " 'HIP 65891': Star(spectral_type='K0III', stellar_effective_temperature=5000.0, stellar_radius=8.93, stellar_mass=2.49, stellar_luminosity=1.65, stellar_surface_gravity=2.9, stellar_age=None),\n",
       " 'HIP 66074': Star(spectral_type=None, stellar_effective_temperature=4300.0, stellar_radius=0.69, stellar_mass=0.71, stellar_luminosity=-0.818, stellar_surface_gravity=4.58, stellar_age=7.9),\n",
       " 'HIP 67522': Star(spectral_type='G1V', stellar_effective_temperature=5675.0, stellar_radius=1.38, stellar_mass=1.22, stellar_luminosity=0.243, stellar_surface_gravity=4.44, stellar_age=0.017),\n",
       " 'HIP 67537': Star(spectral_type='K1III', stellar_effective_temperature=4985.0, stellar_radius=8.69, stellar_mass=2.32, stellar_luminosity=1.617, stellar_surface_gravity=2.85, stellar_age=None),\n",
       " 'HIP 70849': Star(spectral_type='K7V', stellar_effective_temperature=4105.0, stellar_radius=0.63, stellar_mass=0.65, stellar_luminosity=-1.048, stellar_surface_gravity=4.62, stellar_age=3.0),\n",
       " 'HIP 71135': Star(spectral_type='M1', stellar_effective_temperature=4146.0, stellar_radius=0.68, stellar_mass=0.66, stellar_luminosity=-0.908, stellar_surface_gravity=4.54, stellar_age=None),\n",
       " 'HIP 74890': Star(spectral_type='K1III', stellar_effective_temperature=4850.0, stellar_radius=5.77, stellar_mass=1.74, stellar_luminosity=1.215, stellar_surface_gravity=3.1, stellar_age=None),\n",
       " 'HIP 75092': Star(spectral_type='K0III', stellar_effective_temperature=4891.0, stellar_radius=4.53, stellar_mass=1.28, stellar_luminosity=1.02, stellar_surface_gravity=3.09, stellar_age=4.3),\n",
       " 'HIP 78530': Star(spectral_type='B9V', stellar_effective_temperature=10500.0, stellar_radius=2.11, stellar_mass=2.5, stellar_luminosity=1.368, stellar_surface_gravity=4.13, stellar_age=0.005),\n",
       " 'HIP 79098 AB': Star(spectral_type='B9V', stellar_effective_temperature=9193.75, stellar_radius=None, stellar_mass=3.75, stellar_luminosity=None, stellar_surface_gravity=None, stellar_age=0.01),\n",
       " 'HIP 79431': Star(spectral_type='M3V', stellar_effective_temperature=3191.0, stellar_radius=0.48, stellar_mass=0.49, stellar_luminosity=-1.549, stellar_surface_gravity=4.76, stellar_age=None),\n",
       " 'HIP 81208 C': Star(spectral_type='M', stellar_effective_temperature=None, stellar_radius=None, stellar_mass=0.14, stellar_luminosity=None, stellar_surface_gravity=None, stellar_age=0.017),\n",
       " 'HIP 86221': Star(spectral_type='K5V', stellar_effective_temperature=None, stellar_radius=None, stellar_mass=0.79, stellar_luminosity=None, stellar_surface_gravity=None, stellar_age=None),\n",
       " 'HIP 90988': Star(spectral_type='K1III', stellar_effective_temperature=4883.0, stellar_radius=3.94, stellar_mass=1.61, stellar_luminosity=0.89, stellar_surface_gravity=3.32, stellar_age=4.55),\n",
       " 'HIP 91258': Star(spectral_type='G5V', stellar_effective_temperature=5519.0, stellar_radius=0.89, stellar_mass=0.97, stellar_luminosity=-0.222, stellar_surface_gravity=4.53, stellar_age=2.4),\n",
       " 'HIP 94235': Star(spectral_type='GV', stellar_effective_temperature=5991.0, stellar_radius=1.08, stellar_mass=1.09, stellar_luminosity=0.138, stellar_surface_gravity=4.46, stellar_age=0.118),\n",
       " 'HIP 948': Star(spectral_type=None, stellar_effective_temperature=4497.0, stellar_radius=0.69, stellar_mass=0.71, stellar_luminosity=-0.758, stellar_surface_gravity=4.61, stellar_age=None),\n",
       " 'HIP 97233': Star(spectral_type='K0/1III', stellar_effective_temperature=5020.0, stellar_radius=5.34, stellar_mass=1.81, stellar_luminosity=1.204, stellar_surface_gravity=3.26, stellar_age=None),\n",
       " 'HIP 99770': Star(spectral_type='A5-A6', stellar_effective_temperature=8000.0, stellar_radius=1.94, stellar_mass=1.85, stellar_luminosity=1.142, stellar_surface_gravity=4.14, stellar_age=0.264),\n",
       " 'HN Lib': Star(spectral_type='M4.0V', stellar_effective_temperature=3347.0, stellar_radius=0.3, stellar_mass=0.29, stellar_luminosity=-1.995, stellar_surface_gravity=4.76, stellar_age=4.4),\n",
       " 'HN Peg': Star(spectral_type='G0V', stellar_effective_temperature=6186.0, stellar_radius=1.01, stellar_mass=1.08, stellar_luminosity=0.06, stellar_surface_gravity=4.48, stellar_age=0.3),\n",
       " 'HR 2562': Star(spectral_type='F5V', stellar_effective_temperature=6785.0, stellar_radius=1.47, stellar_mass=1.3, stellar_luminosity=0.531, stellar_surface_gravity=4.4, stellar_age=0.6),\n",
       " 'HR 5183': Star(spectral_type='G0V', stellar_effective_temperature=5794.0, stellar_radius=1.53, stellar_mass=1.07, stellar_luminosity=0.397, stellar_surface_gravity=4.02, stellar_age=7.7),\n",
       " 'HR 810': Star(spectral_type='G0V', stellar_effective_temperature=6167.0, stellar_radius=1.13, stellar_mass=1.34, stellar_luminosity=0.253, stellar_surface_gravity=4.46, stellar_age=2.72),\n",
       " 'HS Psc': Star(spectral_type='K7V', stellar_effective_temperature=4203.0, stellar_radius=0.65, stellar_mass=0.69, stellar_luminosity=-0.914, stellar_surface_gravity=4.66, stellar_age=0.133),\n",
       " 'IC 4651 9122': Star(spectral_type=None, stellar_effective_temperature=4740.1, stellar_radius=10.27, stellar_mass=2.1, stellar_luminosity=1.636, stellar_surface_gravity=2.52, stellar_age=1.14),\n",
       " 'K2-10': Star(spectral_type='F9', stellar_effective_temperature=5620.0, stellar_radius=0.98, stellar_mass=0.92, stellar_luminosity=-0.101, stellar_surface_gravity=4.5, stellar_age=None),\n",
       " 'K2-100': Star(spectral_type='G0V', stellar_effective_temperature=5945.0, stellar_radius=1.24, stellar_mass=1.15, stellar_luminosity=0.25, stellar_surface_gravity=4.33, stellar_age=0.75),\n",
       " 'K2-101': Star(spectral_type='K3', stellar_effective_temperature=4927.0, stellar_radius=0.76, stellar_mass=0.82, stellar_luminosity=-0.595, stellar_surface_gravity=4.59, stellar_age=0.79),\n",
       " 'K2-102': Star(spectral_type='K5', stellar_effective_temperature=4695.0, stellar_radius=0.71, stellar_mass=0.77, stellar_luminosity=-0.657, stellar_surface_gravity=4.53, stellar_age=0.79),\n",
       " 'K2-104': Star(spectral_type='M2.5e', stellar_effective_temperature=3712.0, stellar_radius=0.48, stellar_mass=0.51, stellar_luminosity=-1.434, stellar_surface_gravity=4.78, stellar_age=0.79),\n",
       " 'K2-105': Star(spectral_type='K1', stellar_effective_temperature=5636.0, stellar_radius=0.97, stellar_mass=1.05, stellar_luminosity=-0.189, stellar_surface_gravity=4.49, stellar_age=0.6),\n",
       " 'K2-107': Star(spectral_type='F9IV', stellar_effective_temperature=6061.0, stellar_radius=1.81, stellar_mass=1.3, stellar_luminosity=0.464, stellar_surface_gravity=4.04, stellar_age=4.25),\n",
       " 'K2-108': Star(spectral_type=None, stellar_effective_temperature=5599.0, stellar_radius=1.76, stellar_mass=1.17, stellar_luminosity=0.405, stellar_surface_gravity=4.02, stellar_age=7.8),\n",
       " 'K2-11': Star(spectral_type='G8', stellar_effective_temperature=5433.0, stellar_radius=5.15, stellar_mass=1.35, stellar_luminosity=-0.31, stellar_surface_gravity=4.56, stellar_age=None),\n",
       " 'K2-110': Star(spectral_type='K3V', stellar_effective_temperature=5010.0, stellar_radius=0.71, stellar_mass=0.74, stellar_luminosity=-0.567, stellar_surface_gravity=4.61, stellar_age=8.0),\n",
       " 'K2-113': Star(spectral_type='G', stellar_effective_temperature=5660.0, stellar_radius=1.24, stellar_mass=1.04, stellar_luminosity=0.009, stellar_surface_gravity=4.27, stellar_age=5.9),\n",
       " 'K2-114': Star(spectral_type=None, stellar_effective_temperature=4920.0, stellar_radius=0.82, stellar_mass=0.86, stellar_luminosity=-0.445, stellar_surface_gravity=4.54, stellar_age=7.2),\n",
       " 'K2-115': Star(spectral_type='G4', stellar_effective_temperature=5657.0, stellar_radius=0.88, stellar_mass=0.95, stellar_luminosity=-0.145, stellar_surface_gravity=4.53, stellar_age=10.7),\n",
       " 'K2-116': Star(spectral_type=None, stellar_effective_temperature=4348.35, stellar_radius=0.67, stellar_mass=0.69, stellar_luminosity=-0.746, stellar_surface_gravity=4.64, stellar_age=None),\n",
       " 'K2-118': Star(spectral_type=None, stellar_effective_temperature=4726.29, stellar_radius=0.73, stellar_mass=0.76, stellar_luminosity=-0.561, stellar_surface_gravity=4.53, stellar_age=None),\n",
       " 'K2-119': Star(spectral_type=None, stellar_effective_temperature=4740.0, stellar_radius=0.71, stellar_mass=0.76, stellar_luminosity=-0.685, stellar_surface_gravity=4.62, stellar_age=None),\n",
       " 'K2-12': Star(spectral_type='F9', stellar_effective_temperature=5672.0, stellar_radius=1.12, stellar_mass=0.97, stellar_luminosity=0.072, stellar_surface_gravity=4.3, stellar_age=8.9),\n",
       " 'K2-120': Star(spectral_type=None, stellar_effective_temperature=4349.9, stellar_radius=0.67, stellar_mass=0.69, stellar_luminosity=-0.664, stellar_surface_gravity=None, stellar_age=None),\n",
       " 'K2-121': Star(spectral_type=None, stellar_effective_temperature=4690.0, stellar_radius=0.67, stellar_mass=0.69, stellar_luminosity=-0.745, stellar_surface_gravity=4.63, stellar_age=None),\n",
       " 'K2-122': Star(spectral_type='M0', stellar_effective_temperature=4009.0, stellar_radius=0.59, stellar_mass=0.63, stellar_luminosity=-1.102, stellar_surface_gravity=4.69, stellar_age=None),\n",
       " 'K2-123': Star(spectral_type=None, stellar_effective_temperature=4035.0, stellar_radius=0.59, stellar_mass=0.62, stellar_luminosity=-1.143, stellar_surface_gravity=4.69, stellar_age=None),\n",
       " 'K2-124': Star(spectral_type=None, stellar_effective_temperature=3570.0, stellar_radius=0.39, stellar_mass=0.39, stellar_luminosity=-1.659, stellar_surface_gravity=4.86, stellar_age=None),\n",
       " 'K2-125': Star(spectral_type=None, stellar_effective_temperature=3654.47, stellar_radius=0.4, stellar_mass=0.49, stellar_luminosity=-1.641, stellar_surface_gravity=4.83, stellar_age=None),\n",
       " 'K2-126': Star(spectral_type=None, stellar_effective_temperature=4339.0, stellar_radius=0.65, stellar_mass=0.69, stellar_luminosity=-0.878, stellar_surface_gravity=4.66, stellar_age=None),\n",
       " 'K2-127': Star(spectral_type=None, stellar_effective_temperature=4575.0, stellar_radius=0.66, stellar_mass=0.72, stellar_luminosity=-0.254, stellar_surface_gravity=4.65, stellar_age=None),\n",
       " 'K2-128': Star(spectral_type=None, stellar_effective_temperature=4469.51, stellar_radius=0.78, stellar_mass=0.71, stellar_luminosity=-0.822, stellar_surface_gravity=4.7, stellar_age=None),\n",
       " 'K2-129': Star(spectral_type=None, stellar_effective_temperature=3459.09, stellar_radius=0.36, stellar_mass=0.36, stellar_luminosity=-1.828, stellar_surface_gravity=4.87, stellar_age=None),\n",
       " 'K2-13': Star(spectral_type='G3', stellar_effective_temperature=5698.0, stellar_radius=0.78, stellar_mass=0.8, stellar_luminosity=-0.135, stellar_surface_gravity=4.33, stellar_age=None),\n",
       " 'K2-130': Star(spectral_type=None, stellar_effective_temperature=4356.47, stellar_radius=0.74, stellar_mass=0.7, stellar_luminosity=-0.799, stellar_surface_gravity=4.62, stellar_age=None),\n",
       " 'K2-131': Star(spectral_type=None, stellar_effective_temperature=5120.0, stellar_radius=0.76, stellar_mass=0.8, stellar_luminosity=-0.479, stellar_surface_gravity=4.61, stellar_age=5.3),\n",
       " 'K2-132': Star(spectral_type=None, stellar_effective_temperature=4840.0, stellar_radius=3.85, stellar_mass=1.08, stellar_luminosity=0.943, stellar_surface_gravity=3.3, stellar_age=8.5),\n",
       " 'K2-137': Star(spectral_type='M3V', stellar_effective_temperature=3697.0, stellar_radius=0.29, stellar_mass=0.46, stellar_luminosity=-1.484, stellar_surface_gravity=5.0, stellar_age=None),\n",
       " 'K2-139': Star(spectral_type='K0V', stellar_effective_temperature=5370.0, stellar_radius=0.88, stellar_mass=0.96, stellar_luminosity=-0.299, stellar_surface_gravity=4.54, stellar_age=1.8),\n",
       " 'K2-14': Star(spectral_type='M0', stellar_effective_temperature=3789.0, stellar_radius=0.45, stellar_mass=0.47, stellar_luminosity=-0.968, stellar_surface_gravity=4.89, stellar_age=None),\n",
       " 'K2-140': Star(spectral_type='G6V', stellar_effective_temperature=5585.0, stellar_radius=1.06, stellar_mass=0.96, stellar_luminosity=-0.049, stellar_surface_gravity=4.4, stellar_age=9.8),\n",
       " 'K2-147': Star(spectral_type=None, stellar_effective_temperature=3775.0, stellar_radius=0.31, stellar_mass=0.58, stellar_luminosity=-1.292, stellar_surface_gravity=5.0, stellar_age=None),\n",
       " 'K2-149': Star(spectral_type='M1.0V', stellar_effective_temperature=3745.0, stellar_radius=0.57, stellar_mass=0.59, stellar_luminosity=-1.31, stellar_surface_gravity=4.71, stellar_age=None),\n",
       " 'K2-15': Star(spectral_type='G8', stellar_effective_temperature=5131.0, stellar_radius=0.68, stellar_mass=0.72, stellar_luminosity=-0.453, stellar_surface_gravity=4.57, stellar_age=None),\n",
       " 'K2-150': Star(spectral_type='M2.5V', stellar_effective_temperature=3499.0, stellar_radius=0.44, stellar_mass=0.46, stellar_luminosity=-1.585, stellar_surface_gravity=4.82, stellar_age=None),\n",
       " 'K2-151': Star(spectral_type='M1.5V', stellar_effective_temperature=3695.0, stellar_radius=0.45, stellar_mass=0.47, stellar_luminosity=-1.553, stellar_surface_gravity=4.8, stellar_age=None),\n",
       " 'K2-152': Star(spectral_type='M0.0V', stellar_effective_temperature=4044.0, stellar_radius=0.61, stellar_mass=0.63, stellar_luminosity=-1.06, stellar_surface_gravity=4.67, stellar_age=None),\n",
       " 'K2-153': Star(spectral_type='M3.0V', stellar_effective_temperature=3845.0, stellar_radius=0.53, stellar_mass=0.55, stellar_luminosity=-1.367, stellar_surface_gravity=4.73, stellar_age=None),\n",
       " 'K2-156': Star(spectral_type=None, stellar_effective_temperature=4460.0, stellar_radius=0.62, stellar_mass=0.66, stellar_luminosity=-0.838, stellar_surface_gravity=4.7, stellar_age=None),\n",
       " 'K2-157': Star(spectral_type=None, stellar_effective_temperature=5456.0, stellar_radius=0.88, stellar_mass=0.94, stellar_luminosity=-0.21, stellar_surface_gravity=4.5, stellar_age=None),\n",
       " 'K2-159': Star(spectral_type=None, stellar_effective_temperature=5425.0, stellar_radius=0.83, stellar_mass=0.9, stellar_luminosity=-0.296, stellar_surface_gravity=4.56, stellar_age=None),\n",
       " 'K2-160': Star(spectral_type=None, stellar_effective_temperature=5649.0, stellar_radius=0.91, stellar_mass=0.98, stellar_luminosity=-0.137, stellar_surface_gravity=4.61, stellar_age=None),\n",
       " 'K2-161': Star(spectral_type=None, stellar_effective_temperature=4972.0, stellar_radius=2.57, stellar_mass=0.99, stellar_luminosity=0.919, stellar_surface_gravity=3.63, stellar_age=None),\n",
       " 'K2-162': Star(spectral_type=None, stellar_effective_temperature=4842.0, stellar_radius=0.69, stellar_mass=0.75, stellar_luminosity=-0.657, stellar_surface_gravity=4.63, stellar_age=None),\n",
       " 'K2-163': Star(spectral_type=None, stellar_effective_temperature=4937.0, stellar_radius=0.76, stellar_mass=0.83, stellar_luminosity=-0.541, stellar_surface_gravity=4.71, stellar_age=None),\n",
       " 'K2-164': Star(spectral_type=None, stellar_effective_temperature=5791.0, stellar_radius=2.2, stellar_mass=1.18, stellar_luminosity=0.59, stellar_surface_gravity=3.81, stellar_age=None),\n",
       " 'K2-167': Star(spectral_type='F7V', stellar_effective_temperature=6011.0, stellar_radius=1.49, stellar_mass=1.01, stellar_luminosity=0.436, stellar_surface_gravity=4.24, stellar_age=7.5),\n",
       " 'K2-169': Star(spectral_type=None, stellar_effective_temperature=5548.0, stellar_radius=0.92, stellar_mass=0.99, stellar_luminosity=-0.161, stellar_surface_gravity=4.56, stellar_age=None),\n",
       " 'K2-17': Star(spectral_type='K7', stellar_effective_temperature=4320.0, stellar_radius=0.66, stellar_mass=0.71, stellar_luminosity=-0.997, stellar_surface_gravity=4.8, stellar_age=None),\n",
       " 'K2-171': Star(spectral_type=None, stellar_effective_temperature=5250.0, stellar_radius=1.72, stellar_mass=0.89, stellar_luminosity=0.516, stellar_surface_gravity=3.95, stellar_age=None),\n",
       " 'K2-173': Star(spectral_type=None, stellar_effective_temperature=5580.0, stellar_radius=0.84, stellar_mass=0.88, stellar_luminosity=-0.06, stellar_surface_gravity=4.52, stellar_age=None),\n",
       " 'K2-174': Star(spectral_type=None, stellar_effective_temperature=4455.0, stellar_radius=0.68, stellar_mass=0.7, stellar_luminosity=-0.773, stellar_surface_gravity=4.62, stellar_age=None),\n",
       " 'K2-175': Star(spectral_type=None, stellar_effective_temperature=5909.0, stellar_radius=1.42, stellar_mass=1.09, stellar_luminosity=0.419, stellar_surface_gravity=4.11, stellar_age=None),\n",
       " 'K2-176': Star(spectral_type=None, stellar_effective_temperature=5428.0, stellar_radius=0.86, stellar_mass=0.94, stellar_luminosity=-0.348, stellar_surface_gravity=4.63, stellar_age=None),\n",
       " 'K2-177': Star(spectral_type=None, stellar_effective_temperature=6063.0, stellar_radius=1.21, stellar_mass=1.21, stellar_luminosity=0.342, stellar_surface_gravity=4.38, stellar_age=None),\n",
       " 'K2-178': Star(spectral_type=None, stellar_effective_temperature=5525.0, stellar_radius=0.89, stellar_mass=0.95, stellar_luminosity=-0.284, stellar_surface_gravity=4.55, stellar_age=None),\n",
       " 'K2-179': Star(spectral_type=None, stellar_effective_temperature=5015.0, stellar_radius=0.77, stellar_mass=0.82, stellar_luminosity=-0.523, stellar_surface_gravity=4.63, stellar_age=None),\n",
       " 'K2-180': Star(spectral_type='K2V', stellar_effective_temperature=5306.0, stellar_radius=0.72, stellar_mass=0.72, stellar_luminosity=-0.439, stellar_surface_gravity=4.57, stellar_age=9.5),\n",
       " 'K2-181': Star(spectral_type=None, stellar_effective_temperature=5608.0, stellar_radius=1.07, stellar_mass=0.99, stellar_luminosity=-0.013, stellar_surface_gravity=4.38, stellar_age=None),\n",
       " 'K2-182': Star(spectral_type=None, stellar_effective_temperature=5170.0, stellar_radius=0.79, stellar_mass=0.86, stellar_luminosity=-0.408, stellar_surface_gravity=4.61, stellar_age=2.07),\n",
       " 'K2-184': Star(spectral_type=None, stellar_effective_temperature=5245.0, stellar_radius=0.75, stellar_mass=0.84, stellar_luminosity=-0.399, stellar_surface_gravity=4.62, stellar_age=None),\n",
       " 'K2-186': Star(spectral_type=None, stellar_effective_temperature=5784.0, stellar_radius=0.98, stellar_mass=1.02, stellar_luminosity=0.05, stellar_surface_gravity=4.45, stellar_age=None),\n",
       " 'K2-191': Star(spectral_type=None, stellar_effective_temperature=5176.0, stellar_radius=0.84, stellar_mass=0.9, stellar_luminosity=-0.345, stellar_surface_gravity=4.57, stellar_age=None),\n",
       " 'K2-192': Star(spectral_type=None, stellar_effective_temperature=5222.0, stellar_radius=0.81, stellar_mass=0.9, stellar_luminosity=-0.36, stellar_surface_gravity=4.57, stellar_age=None),\n",
       " 'K2-193': Star(spectral_type=None, stellar_effective_temperature=5817.0, stellar_radius=0.98, stellar_mass=1.01, stellar_luminosity=-0.076, stellar_surface_gravity=4.46, stellar_age=None),\n",
       " 'K2-194': Star(spectral_type=None, stellar_effective_temperature=5979.0, stellar_radius=1.28, stellar_mass=1.11, stellar_luminosity=0.363, stellar_surface_gravity=4.21, stellar_age=None),\n",
       " 'K2-196': Star(spectral_type=None, stellar_effective_temperature=6045.0, stellar_radius=1.54, stellar_mass=1.16, stellar_luminosity=0.644, stellar_surface_gravity=4.08, stellar_age=None),\n",
       " 'K2-197': Star(spectral_type=None, stellar_effective_temperature=5667.0, stellar_radius=0.93, stellar_mass=1.0, stellar_luminosity=-0.114, stellar_surface_gravity=4.5, stellar_age=None),\n",
       " 'K2-200': Star(spectral_type=None, stellar_effective_temperature=5233.0, stellar_radius=0.79, stellar_mass=0.86, stellar_luminosity=-0.429, stellar_surface_gravity=4.71, stellar_age=None),\n",
       " 'K2-2016-BLG-0005L': Star(spectral_type=None, stellar_effective_temperature=None, stellar_radius=None, stellar_mass=0.58, stellar_luminosity=None, stellar_surface_gravity=None, stellar_age=None),\n",
       " 'K2-202': Star(spectral_type=None, stellar_effective_temperature=5491.0, stellar_radius=0.91, stellar_mass=0.97, stellar_luminosity=-0.335, stellar_surface_gravity=4.55, stellar_age=None),\n",
       " 'K2-203': Star(spectral_type=None, stellar_effective_temperature=5000.0, stellar_radius=0.76, stellar_mass=0.79, stellar_luminosity=-0.485, stellar_surface_gravity=4.43, stellar_age=None),\n",
       " 'K2-204': Star(spectral_type=None, stellar_effective_temperature=5755.0, stellar_radius=1.18, stellar_mass=1.01, stellar_luminosity=0.253, stellar_surface_gravity=4.23, stellar_age=None),\n",
       " 'K2-205': Star(spectral_type=None, stellar_effective_temperature=5890.0, stellar_radius=1.08, stellar_mass=0.95, stellar_luminosity=0.194, stellar_surface_gravity=4.25, stellar_age=None),\n",
       " 'K2-206': Star(spectral_type=None, stellar_effective_temperature=5043.0, stellar_radius=0.76, stellar_mass=0.79, stellar_luminosity=-0.435, stellar_surface_gravity=4.46, stellar_age=None),\n",
       " 'K2-207': Star(spectral_type=None, stellar_effective_temperature=5522.0, stellar_radius=0.93, stellar_mass=0.94, stellar_luminosity=-0.173, stellar_surface_gravity=4.41, stellar_age=None),\n",
       " 'K2-208': Star(spectral_type=None, stellar_effective_temperature=5582.0, stellar_radius=0.86, stellar_mass=0.93, stellar_luminosity=-0.214, stellar_surface_gravity=4.62, stellar_age=None),\n",
       " 'K2-209': Star(spectral_type=None, stellar_effective_temperature=4720.0, stellar_radius=0.71, stellar_mass=0.74, stellar_luminosity=-0.588, stellar_surface_gravity=4.46, stellar_age=None),\n",
       " 'K2-210': Star(spectral_type=None, stellar_effective_temperature=5500.0, stellar_radius=0.89, stellar_mass=0.91, stellar_luminosity=-0.249, stellar_surface_gravity=4.6, stellar_age=None),\n",
       " 'K2-211': Star(spectral_type=None, stellar_effective_temperature=5360.0, stellar_radius=0.79, stellar_mass=0.88, stellar_luminosity=-0.386, stellar_surface_gravity=4.7, stellar_age=None),\n",
       " 'K2-212': Star(spectral_type=None, stellar_effective_temperature=4349.0, stellar_radius=0.68, stellar_mass=0.62, stellar_luminosity=-0.91, stellar_surface_gravity=4.72, stellar_age=None),\n",
       " 'K2-213': Star(spectral_type=None, stellar_effective_temperature=5794.0, stellar_radius=1.2, stellar_mass=1.07, stellar_luminosity=0.247, stellar_surface_gravity=4.25, stellar_age=None),\n",
       " 'K2-214': Star(spectral_type=None, stellar_effective_temperature=5854.0, stellar_radius=1.27, stellar_mass=1.05, stellar_luminosity=0.196, stellar_surface_gravity=4.25, stellar_age=None),\n",
       " 'K2-215': Star(spectral_type=None, stellar_effective_temperature=5704.0, stellar_radius=0.97, stellar_mass=1.0, stellar_luminosity=-0.026, stellar_surface_gravity=4.41, stellar_age=None),\n",
       " 'K2-216': Star(spectral_type='K5V', stellar_effective_temperature=4503.0, stellar_radius=0.72, stellar_mass=0.7, stellar_luminosity=-0.721, stellar_surface_gravity=4.57, stellar_age=None),\n",
       " 'K2-217': Star(spectral_type=None, stellar_effective_temperature=5967.0, stellar_radius=1.33, stellar_mass=1.1, stellar_luminosity=0.232, stellar_surface_gravity=4.17, stellar_age=None),\n",
       " 'K2-218': Star(spectral_type=None, stellar_effective_temperature=5757.0, stellar_radius=1.01, stellar_mass=1.05, stellar_luminosity=-0.003, stellar_surface_gravity=4.45, stellar_age=None),\n",
       " 'K2-22': Star(spectral_type='M0V', stellar_effective_temperature=3879.0, stellar_radius=0.58, stellar_mass=0.6, stellar_luminosity=-1.074, stellar_surface_gravity=4.7, stellar_age=None),\n",
       " 'K2-220': Star(spectral_type=None, stellar_effective_temperature=5660.0, stellar_radius=1.02, stellar_mass=0.96, stellar_luminosity=-0.061, stellar_surface_gravity=4.4, stellar_age=None),\n",
       " 'K2-221': Star(spectral_type=None, stellar_effective_temperature=5716.0, stellar_radius=0.95, stellar_mass=1.01, stellar_luminosity=-0.064, stellar_surface_gravity=4.57, stellar_age=None),\n",
       " 'K2-222': Star(spectral_type=None, stellar_effective_temperature=5942.0, stellar_radius=1.11, stellar_mass=0.99, stellar_luminosity=0.139, stellar_surface_gravity=4.37, stellar_age=7.1),\n",
       " 'K2-225': Star(spectral_type=None, stellar_effective_temperature=5742.0, stellar_radius=1.7, stellar_mass=1.27, stellar_luminosity=0.395, stellar_surface_gravity=4.08, stellar_age=None),\n",
       " 'K2-226': Star(spectral_type=None, stellar_effective_temperature=5424.0, stellar_radius=0.91, stellar_mass=0.88, stellar_luminosity=-0.276, stellar_surface_gravity=4.47, stellar_age=None),\n",
       " 'K2-227': Star(spectral_type=None, stellar_effective_temperature=5673.0, stellar_radius=0.89, stellar_mass=0.95, stellar_luminosity=-0.167, stellar_surface_gravity=4.58, stellar_age=None),\n",
       " 'K2-228': Star(spectral_type=None, stellar_effective_temperature=4715.0, stellar_radius=0.65, stellar_mass=0.71, stellar_luminosity=-0.849, stellar_surface_gravity=4.66, stellar_age=None),\n",
       " 'K2-230': Star(spectral_type=None, stellar_effective_temperature=5945.0, stellar_radius=1.39, stellar_mass=1.11, stellar_luminosity=0.317, stellar_surface_gravity=4.2, stellar_age=None),\n",
       " 'K2-231': Star(spectral_type=None, stellar_effective_temperature=5695.0, stellar_radius=0.95, stellar_mass=1.01, stellar_luminosity=-0.112, stellar_surface_gravity=4.48, stellar_age=3.0),\n",
       " 'K2-232': Star(spectral_type=None, stellar_effective_temperature=6154.0, stellar_radius=1.16, stellar_mass=1.19, stellar_luminosity=0.238, stellar_surface_gravity=4.38, stellar_age=1.43),\n",
       " 'K2-237': Star(spectral_type='F9V', stellar_effective_temperature=6360.0, stellar_radius=1.26, stellar_mass=1.26, stellar_luminosity=0.371, stellar_surface_gravity=4.34, stellar_age=1.02),\n",
       " 'K2-238': Star(spectral_type='G2V', stellar_effective_temperature=5630.0, stellar_radius=1.59, stellar_mass=1.19, stellar_luminosity=0.36, stellar_surface_gravity=4.11, stellar_age=5.63),\n",
       " 'K2-241': Star(spectral_type=None, stellar_effective_temperature=5262.0, stellar_radius=0.75, stellar_mass=0.71, stellar_luminosity=-0.446, stellar_surface_gravity=4.54, stellar_age=None),\n",
       " 'K2-242': Star(spectral_type=None, stellar_effective_temperature=3459.0, stellar_radius=0.37, stellar_mass=0.38, stellar_luminosity=-1.808, stellar_surface_gravity=4.89, stellar_age=None),\n",
       " 'K2-244': Star(spectral_type=None, stellar_effective_temperature=5677.0, stellar_radius=0.92, stellar_mass=0.86, stellar_luminosity=-0.118, stellar_surface_gravity=4.44, stellar_age=None),\n",
       " 'K2-245': Star(spectral_type=None, stellar_effective_temperature=5793.0, stellar_radius=1.25, stellar_mass=0.83, stellar_luminosity=0.172, stellar_surface_gravity=4.16, stellar_age=None),\n",
       " 'K2-246': Star(spectral_type=None, stellar_effective_temperature=5610.0, stellar_radius=0.94, stellar_mass=0.87, stellar_luminosity=-0.151, stellar_surface_gravity=4.43, stellar_age=None),\n",
       " 'K2-248': Star(spectral_type=None, stellar_effective_temperature=5528.0, stellar_radius=0.92, stellar_mass=0.88, stellar_luminosity=-0.189, stellar_surface_gravity=4.45, stellar_age=None),\n",
       " 'K2-249': Star(spectral_type=None, stellar_effective_temperature=6504.0, stellar_radius=1.57, stellar_mass=1.32, stellar_luminosity=0.336, stellar_surface_gravity=4.16, stellar_age=None),\n",
       " 'K2-25': Star(spectral_type='M4.5V', stellar_effective_temperature=3207.0, stellar_radius=0.29, stellar_mass=0.26, stellar_luminosity=-2.088, stellar_surface_gravity=4.94, stellar_age=0.73),\n",
       " 'K2-250': Star(spectral_type=None, stellar_effective_temperature=5172.0, stellar_radius=0.81, stellar_mass=0.8, stellar_luminosity=-0.426, stellar_surface_gravity=4.53, stellar_age=None),\n",
       " 'K2-251': Star(spectral_type=None, stellar_effective_temperature=3717.0, stellar_radius=0.49, stellar_mass=0.52, stellar_luminosity=-1.342, stellar_surface_gravity=4.76, stellar_age=None),\n",
       " 'K2-252': Star(spectral_type=None, stellar_effective_temperature=5152.0, stellar_radius=0.82, stellar_mass=0.79, stellar_luminosity=-0.408, stellar_surface_gravity=4.5, stellar_age=None),\n",
       " 'K2-253': Star(spectral_type=None, stellar_effective_temperature=6027.0, stellar_radius=1.1, stellar_mass=1.08, stellar_luminosity=-0.077, stellar_surface_gravity=4.39, stellar_age=None),\n",
       " 'K2-255': Star(spectral_type=None, stellar_effective_temperature=4676.0, stellar_radius=0.69, stellar_mass=0.71, stellar_luminosity=-0.79, stellar_surface_gravity=4.62, stellar_age=None),\n",
       " 'K2-256': Star(spectral_type=None, stellar_effective_temperature=5219.0, stellar_radius=0.78, stellar_mass=0.84, stellar_luminosity=-0.469, stellar_surface_gravity=4.58, stellar_age=None),\n",
       " 'K2-257': Star(spectral_type=None, stellar_effective_temperature=3725.0, stellar_radius=0.5, stellar_mass=0.52, stellar_luminosity=-1.381, stellar_surface_gravity=4.76, stellar_age=None),\n",
       " 'K2-258': Star(spectral_type=None, stellar_effective_temperature=6351.0, stellar_radius=1.31, stellar_mass=1.21, stellar_luminosity=0.272, stellar_surface_gravity=4.29, stellar_age=None),\n",
       " 'K2-259': Star(spectral_type=None, stellar_effective_temperature=6059.0, stellar_radius=1.13, stellar_mass=1.14, stellar_luminosity=0.167, stellar_surface_gravity=4.39, stellar_age=None),\n",
       " 'K2-26': Star(spectral_type='M1.0V', stellar_effective_temperature=3785.0, stellar_radius=0.52, stellar_mass=0.56, stellar_luminosity=-1.31, stellar_surface_gravity=4.72, stellar_age=1.0),\n",
       " 'K2-260': Star(spectral_type='F6V', stellar_effective_temperature=6367.0, stellar_radius=1.69, stellar_mass=1.39, stellar_luminosity=0.543, stellar_surface_gravity=4.15, stellar_age=1.9),\n",
       " 'K2-261': Star(spectral_type='G7IV/V', stellar_effective_temperature=5445.0, stellar_radius=1.64, stellar_mass=1.09, stellar_luminosity=0.328, stellar_surface_gravity=4.04, stellar_age=9.3),\n",
       " 'K2-263': Star(spectral_type='G9V', stellar_effective_temperature=5368.0, stellar_radius=0.85, stellar_mass=0.88, stellar_luminosity=-0.26, stellar_surface_gravity=4.51, stellar_age=7.0),\n",
       " 'K2-265': Star(spectral_type='G8V', stellar_effective_temperature=5477.0, stellar_radius=0.98, stellar_mass=0.92, stellar_luminosity=-0.18, stellar_surface_gravity=4.42, stellar_age=9.7),\n",
       " 'K2-269': Star(spectral_type=None, stellar_effective_temperature=6209.0, stellar_radius=1.45, stellar_mass=1.16, stellar_luminosity=0.468, stellar_surface_gravity=4.18, stellar_age=None),\n",
       " 'K2-27': Star(spectral_type=None, stellar_effective_temperature=5248.0, stellar_radius=0.89, stellar_mass=0.87, stellar_luminosity=-0.27, stellar_surface_gravity=4.48, stellar_age=10.3),\n",
       " 'K2-271': Star(spectral_type=None, stellar_effective_temperature=5644.0, stellar_radius=0.99, stellar_mass=0.83, stellar_luminosity=-0.05, stellar_surface_gravity=4.37, stellar_age=None),\n",
       " 'K2-272': Star(spectral_type=None, stellar_effective_temperature=5397.0, stellar_radius=0.83, stellar_mass=0.86, stellar_luminosity=-0.302, stellar_surface_gravity=4.53, stellar_age=None),\n",
       " 'K2-273': Star(spectral_type=None, stellar_effective_temperature=5161.0, stellar_radius=0.85, stellar_mass=0.89, stellar_luminosity=-0.353, stellar_surface_gravity=4.53, stellar_age=None),\n",
       " 'K2-274': Star(spectral_type=None, stellar_effective_temperature=5044.0, stellar_radius=0.7, stellar_mass=0.79, stellar_luminosity=-0.509, stellar_surface_gravity=4.64, stellar_age=None),\n",
       " 'K2-276': Star(spectral_type=None, stellar_effective_temperature=5139.0, stellar_radius=0.85, stellar_mass=0.82, stellar_luminosity=-0.405, stellar_surface_gravity=4.49, stellar_age=None),\n",
       " 'K2-277': Star(spectral_type=None, stellar_effective_temperature=5741.0, stellar_radius=0.97, stellar_mass=1.02, stellar_luminosity=-0.052, stellar_surface_gravity=4.48, stellar_age=None),\n",
       " 'K2-278': Star(spectral_type=None, stellar_effective_temperature=6747.0, stellar_radius=1.61, stellar_mass=1.4, stellar_luminosity=0.399, stellar_surface_gravity=4.17, stellar_age=None),\n",
       " 'K2-279': Star(spectral_type=None, stellar_effective_temperature=5558.0, stellar_radius=0.86, stellar_mass=0.79, stellar_luminosity=-0.205, stellar_surface_gravity=4.46, stellar_age=None),\n",
       " 'K2-28': Star(spectral_type='M4', stellar_effective_temperature=3214.0, stellar_radius=0.29, stellar_mass=0.26, stellar_luminosity=-1.94, stellar_surface_gravity=4.93, stellar_age=None),\n",
       " 'K2-280': Star(spectral_type=None, stellar_effective_temperature=5500.0, stellar_radius=1.28, stellar_mass=1.03, stellar_luminosity=0.14, stellar_surface_gravity=4.21, stellar_age=8.96),\n",
       " 'K2-281': Star(spectral_type=None, stellar_effective_temperature=4812.0, stellar_radius=0.76, stellar_mass=0.82, stellar_luminosity=-0.647, stellar_surface_gravity=4.59, stellar_age=None),\n",
       " 'K2-283': Star(spectral_type=None, stellar_effective_temperature=5060.0, stellar_radius=0.82, stellar_mass=0.89, stellar_luminosity=-0.524, stellar_surface_gravity=4.56, stellar_age=None),\n",
       " 'K2-284': Star(spectral_type=None, stellar_effective_temperature=4140.0, stellar_radius=0.61, stellar_mass=0.63, stellar_luminosity=-1.013, stellar_surface_gravity=4.67, stellar_age=0.12),\n",
       " 'K2-286': Star(spectral_type='M0V', stellar_effective_temperature=3926.0, stellar_radius=0.62, stellar_mass=0.64, stellar_luminosity=-1.046, stellar_surface_gravity=4.7, stellar_age=None),\n",
       " 'K2-287': Star(spectral_type=None, stellar_effective_temperature=5695.0, stellar_radius=1.07, stellar_mass=1.06, stellar_luminosity=-0.108, stellar_surface_gravity=4.4, stellar_age=4.5),\n",
       " 'K2-288 B': Star(spectral_type='M3V', stellar_effective_temperature=3341.0, stellar_radius=0.32, stellar_mass=0.33, stellar_luminosity=-1.93, stellar_surface_gravity=4.96, stellar_age=1.0),\n",
       " 'K2-289': Star(spectral_type=None, stellar_effective_temperature=5529.0, stellar_radius=1.02, stellar_mass=0.95, stellar_luminosity=-0.505, stellar_surface_gravity=4.39, stellar_age=None),\n",
       " 'K2-29': Star(spectral_type='G7V', stellar_effective_temperature=5358.0, stellar_radius=0.86, stellar_mass=0.94, stellar_luminosity=-0.295, stellar_surface_gravity=4.54, stellar_age=2.6),\n",
       " 'K2-291': Star(spectral_type=None, stellar_effective_temperature=5520.0, stellar_radius=0.9, stellar_mass=0.93, stellar_luminosity=-0.166, stellar_surface_gravity=4.5, stellar_age=3.72),\n",
       " 'K2-292': Star(spectral_type='G3V', stellar_effective_temperature=5725.0, stellar_radius=1.09, stellar_mass=1.0, stellar_luminosity=0.093, stellar_surface_gravity=4.33, stellar_age=6.8),\n",
       " 'K2-293': Star(spectral_type=None, stellar_effective_temperature=5532.0, stellar_radius=0.95, stellar_mass=0.96, stellar_luminosity=-0.18, stellar_surface_gravity=4.52, stellar_age=None),\n",
       " 'K2-294': Star(spectral_type=None, stellar_effective_temperature=5612.0, stellar_radius=1.2, stellar_mass=0.99, stellar_luminosity=0.088, stellar_surface_gravity=4.2, stellar_age=None),\n",
       " 'K2-295': Star(spectral_type='K5V', stellar_effective_temperature=4444.0, stellar_radius=0.7, stellar_mass=0.74, stellar_luminosity=-0.716, stellar_surface_gravity=4.63, stellar_age=None),\n",
       " 'K2-30': Star(spectral_type='G6V', stellar_effective_temperature=5425.0, stellar_radius=0.84, stellar_mass=0.9, stellar_luminosity=-0.256, stellar_surface_gravity=4.54, stellar_age=3.9),\n",
       " 'K2-308': Star(spectral_type=None, stellar_effective_temperature=6100.0, stellar_radius=1.24, stellar_mass=1.09, stellar_luminosity=0.283, stellar_surface_gravity=3.94, stellar_age=None),\n",
       " 'K2-31': Star(spectral_type='G7V', stellar_effective_temperature=5280.0, stellar_radius=0.78, stellar_mass=0.91, stellar_luminosity=-0.11, stellar_surface_gravity=4.6, stellar_age=None),\n",
       " 'K2-315': Star(spectral_type='M(3.5+/-0.5)V', stellar_effective_temperature=3300.0, stellar_radius=0.2, stellar_mass=0.17, stellar_luminosity=-2.387, stellar_surface_gravity=5.09, stellar_age=1.0),\n",
       " 'K2-317': Star(spectral_type=None, stellar_effective_temperature=3387.0, stellar_radius=0.38, stellar_mass=0.4, stellar_luminosity=-1.871, stellar_surface_gravity=4.89, stellar_age=None),\n",
       " 'K2-318': Star(spectral_type=None, stellar_effective_temperature=3851.0, stellar_radius=0.55, stellar_mass=0.56, stellar_luminosity=-1.277, stellar_surface_gravity=4.7, stellar_age=None),\n",
       " 'K2-319': Star(spectral_type=None, stellar_effective_temperature=5440.0, stellar_radius=0.9, stellar_mass=0.95, stellar_luminosity=-0.237, stellar_surface_gravity=4.51, stellar_age=None),\n",
       " 'K2-320': Star(spectral_type=None, stellar_effective_temperature=3157.0, stellar_radius=0.3, stellar_mass=0.12, stellar_luminosity=-2.125, stellar_surface_gravity=4.55, stellar_age=None),\n",
       " 'K2-321': Star(spectral_type=None, stellar_effective_temperature=3855.0, stellar_radius=0.58, stellar_mass=0.6, stellar_luminosity=-1.254, stellar_surface_gravity=4.68, stellar_age=None),\n",
       " 'K2-322': Star(spectral_type=None, stellar_effective_temperature=4141.0, stellar_radius=0.6, stellar_mass=0.63, stellar_luminosity=-1.039, stellar_surface_gravity=4.68, stellar_age=None),\n",
       " 'K2-323': Star(spectral_type=None, stellar_effective_temperature=3710.0, stellar_radius=0.55, stellar_mass=0.48, stellar_luminosity=-1.339, stellar_surface_gravity=4.63, stellar_age=None),\n",
       " 'K2-324': Star(spectral_type=None, stellar_effective_temperature=3752.0, stellar_radius=0.51, stellar_mass=0.52, stellar_luminosity=-1.333, stellar_surface_gravity=4.74, stellar_age=None),\n",
       " 'K2-325': Star(spectral_type=None, stellar_effective_temperature=3287.0, stellar_radius=0.3, stellar_mass=0.27, stellar_luminosity=-2.048, stellar_surface_gravity=4.84, stellar_age=None),\n",
       " 'K2-326': Star(spectral_type=None, stellar_effective_temperature=3924.0, stellar_radius=0.69, stellar_mass=0.51, stellar_luminosity=-0.978, stellar_surface_gravity=4.46, stellar_age=None),\n",
       " 'K2-329': Star(spectral_type=None, stellar_effective_temperature=5282.0, stellar_radius=0.82, stellar_mass=0.9, stellar_luminosity=-0.325, stellar_surface_gravity=4.57, stellar_age=1.8),\n",
       " 'K2-33': Star(spectral_type='M3.3', stellar_effective_temperature=3540.0, stellar_radius=1.05, stellar_mass=0.56, stellar_luminosity=-0.824, stellar_surface_gravity=4.06, stellar_age=0.009),\n",
       " 'K2-330': Star(spectral_type=None, stellar_effective_temperature=6232.0, stellar_radius=1.5, stellar_mass=1.23, stellar_luminosity=0.477, stellar_surface_gravity=4.18, stellar_age=None),\n",
       " 'K2-332': Star(spectral_type=None, stellar_effective_temperature=3315.0, stellar_radius=0.28, stellar_mass=0.27, stellar_luminosity=-2.065, stellar_surface_gravity=4.97, stellar_age=None),\n",
       " 'K2-333': Star(spectral_type=None, stellar_effective_temperature=5880.0, stellar_radius=1.22, stellar_mass=1.06, stellar_luminosity=0.165, stellar_surface_gravity=4.29, stellar_age=None),\n",
       " 'K2-334': Star(spectral_type=None, stellar_effective_temperature=6502.0, stellar_radius=1.49, stellar_mass=1.36, stellar_luminosity=0.514, stellar_surface_gravity=4.22, stellar_age=None),\n",
       " 'K2-335': Star(spectral_type=None, stellar_effective_temperature=6222.0, stellar_radius=1.33, stellar_mass=1.23, stellar_luminosity=0.395, stellar_surface_gravity=4.28, stellar_age=None),\n",
       " 'K2-336': Star(spectral_type=None, stellar_effective_temperature=5424.0, stellar_radius=0.8, stellar_mass=0.86, stellar_luminosity=-0.345, stellar_surface_gravity=4.56, stellar_age=None),\n",
       " 'K2-337': Star(spectral_type=None, stellar_effective_temperature=5869.0, stellar_radius=1.32, stellar_mass=0.94, stellar_luminosity=0.25, stellar_surface_gravity=4.17, stellar_age=None),\n",
       " 'K2-338': Star(spectral_type=None, stellar_effective_temperature=4558.0, stellar_radius=0.63, stellar_mass=0.66, stellar_luminosity=-0.836, stellar_surface_gravity=4.65, stellar_age=None),\n",
       " 'K2-339': Star(spectral_type=None, stellar_effective_temperature=4857.0, stellar_radius=0.72, stellar_mass=0.74, stellar_luminosity=-0.652, stellar_surface_gravity=4.59, stellar_age=None),\n",
       " 'K2-34': Star(spectral_type='F', stellar_effective_temperature=6168.0, stellar_radius=1.42, stellar_mass=1.16, stellar_luminosity=0.4, stellar_surface_gravity=4.2, stellar_age=2.88),\n",
       " 'K2-340': Star(spectral_type=None, stellar_effective_temperature=5532.0, stellar_radius=1.13, stellar_mass=0.93, stellar_luminosity=-0.002, stellar_surface_gravity=4.3, stellar_age=None),\n",
       " 'K2-341': Star(spectral_type=None, stellar_effective_temperature=5817.0, stellar_radius=1.16, stellar_mass=0.98, stellar_luminosity=0.126, stellar_surface_gravity=4.3, stellar_age=None),\n",
       " 'K2-342': Star(spectral_type=None, stellar_effective_temperature=5920.0, stellar_radius=1.09, stellar_mass=1.01, stellar_luminosity=0.093, stellar_surface_gravity=4.36, stellar_age=None),\n",
       " 'K2-344': Star(spectral_type=None, stellar_effective_temperature=4374.0, stellar_radius=0.49, stellar_mass=0.51, stellar_luminosity=-1.225, stellar_surface_gravity=4.76, stellar_age=None),\n",
       " 'K2-345': Star(spectral_type=None, stellar_effective_temperature=3779.0, stellar_radius=0.52, stellar_mass=0.56, stellar_luminosity=-1.32, stellar_surface_gravity=4.74, stellar_age=None),\n",
       " 'K2-346': Star(spectral_type=None, stellar_effective_temperature=4801.0, stellar_radius=0.7, stellar_mass=0.71, stellar_luminosity=-0.663, stellar_surface_gravity=4.6, stellar_age=None),\n",
       " 'K2-347': Star(spectral_type=None, stellar_effective_temperature=4599.0, stellar_radius=0.63, stellar_mass=0.66, stellar_luminosity=-0.894, stellar_surface_gravity=4.65, stellar_age=None),\n",
       " 'K2-349': Star(spectral_type=None, stellar_effective_temperature=4385.0, stellar_radius=0.49, stellar_mass=0.54, stellar_luminosity=-0.366, stellar_surface_gravity=4.78, stellar_age=None),\n",
       " 'K2-351': Star(spectral_type=None, stellar_effective_temperature=5769.0, stellar_radius=1.05, stellar_mass=1.02, stellar_luminosity=0.024, stellar_surface_gravity=4.4, stellar_age=None),\n",
       " 'K2-353': Star(spectral_type=None, stellar_effective_temperature=5698.0, stellar_radius=0.99, stellar_mass=0.87, stellar_luminosity=-0.076, stellar_surface_gravity=4.38, stellar_age=None),\n",
       " 'K2-354': Star(spectral_type=None, stellar_effective_temperature=3669.0, stellar_radius=0.41, stellar_mass=0.43, stellar_luminosity=-1.614, stellar_surface_gravity=4.86, stellar_age=None),\n",
       " 'K2-355': Star(spectral_type=None, stellar_effective_temperature=5790.0, stellar_radius=0.92, stellar_mass=0.96, stellar_luminosity=-0.115, stellar_surface_gravity=4.49, stellar_age=None),\n",
       " 'K2-356': Star(spectral_type=None, stellar_effective_temperature=5568.0, stellar_radius=0.86, stellar_mass=0.9, stellar_luminosity=-0.244, stellar_surface_gravity=4.52, stellar_age=None),\n",
       " 'K2-357': Star(spectral_type=None, stellar_effective_temperature=5794.0, stellar_radius=1.0, stellar_mass=0.98, stellar_luminosity=-0.066, stellar_surface_gravity=4.43, stellar_age=None),\n",
       " 'K2-358': Star(spectral_type=None, stellar_effective_temperature=5650.0, stellar_radius=0.91, stellar_mass=0.93, stellar_luminosity=-0.161, stellar_surface_gravity=4.49, stellar_age=None),\n",
       " 'K2-365': Star(spectral_type=None, stellar_effective_temperature=5561.0, stellar_radius=1.05, stellar_mass=0.82, stellar_luminosity=-0.014, stellar_surface_gravity=4.31, stellar_age=None),\n",
       " 'K2-366': Star(spectral_type=None, stellar_effective_temperature=5601.0, stellar_radius=0.94, stellar_mass=0.83, stellar_luminosity=-0.109, stellar_surface_gravity=4.41, stellar_age=None),\n",
       " 'K2-367': Star(spectral_type=None, stellar_effective_temperature=4348.0, stellar_radius=0.62, stellar_mass=0.76, stellar_luminosity=-0.854, stellar_surface_gravity=4.73, stellar_age=None),\n",
       " 'K2-369': Star(spectral_type=None, stellar_effective_temperature=5682.0, stellar_radius=0.88, stellar_mass=0.73, stellar_luminosity=-0.121, stellar_surface_gravity=4.42, stellar_age=None),\n",
       " 'K2-370': Star(spectral_type='G8', stellar_effective_temperature=5377.0, stellar_radius=0.97, stellar_mass=0.98, stellar_luminosity=-0.127, stellar_surface_gravity=4.45, stellar_age=None),\n",
       " 'K2-371': Star(spectral_type=None, stellar_effective_temperature=4925.0, stellar_radius=0.74, stellar_mass=0.96, stellar_luminosity=-0.517, stellar_surface_gravity=4.68, stellar_age=None),\n",
       " 'K2-372': Star(spectral_type=None, stellar_effective_temperature=5479.0, stellar_radius=0.92, stellar_mass=0.85, stellar_luminosity=-0.122, stellar_surface_gravity=4.44, stellar_age=None),\n",
       " 'K2-373': Star(spectral_type=None, stellar_effective_temperature=6138.0, stellar_radius=1.49, stellar_mass=1.16, stellar_luminosity=0.432, stellar_surface_gravity=4.16, stellar_age=None),\n",
       " 'K2-375': Star(spectral_type=None, stellar_effective_temperature=5822.0, stellar_radius=1.54, stellar_mass=1.12, stellar_luminosity=0.396, stellar_surface_gravity=4.11, stellar_age=None),\n",
       " 'K2-376': Star(spectral_type='G1', stellar_effective_temperature=5937.0, stellar_radius=1.15, stellar_mass=0.91, stellar_luminosity=0.189, stellar_surface_gravity=4.28, stellar_age=None),\n",
       " 'K2-377': Star(spectral_type=None, stellar_effective_temperature=4200.0, stellar_radius=0.69, stellar_mass=0.82, stellar_luminosity=-0.818, stellar_surface_gravity=4.67, stellar_age=None),\n",
       " 'K2-378': Star(spectral_type=None, stellar_effective_temperature=4823.0, stellar_radius=0.73, stellar_mass=0.92, stellar_luminosity=-0.567, stellar_surface_gravity=4.67, stellar_age=None),\n",
       " 'K2-379': Star(spectral_type=None, stellar_effective_temperature=4603.0, stellar_radius=0.75, stellar_mass=0.86, stellar_luminosity=-0.633, stellar_surface_gravity=4.62, stellar_age=None),\n",
       " 'K2-380': Star(spectral_type=None, stellar_effective_temperature=5911.0, stellar_radius=1.32, stellar_mass=0.99, stellar_luminosity=0.202, stellar_surface_gravity=4.19, stellar_age=None),\n",
       " 'K2-382': Star(spectral_type=None, stellar_effective_temperature=5452.0, stellar_radius=0.81, stellar_mass=0.92, stellar_luminosity=-0.28, stellar_surface_gravity=4.58, stellar_age=None),\n",
       " 'K2-383': Star(spectral_type=None, stellar_effective_temperature=5129.0, stellar_radius=0.8, stellar_mass=1.06, stellar_luminosity=-0.397, stellar_surface_gravity=4.66, stellar_age=None),\n",
       " 'K2-385': Star(spectral_type=None, stellar_effective_temperature=4844.0, stellar_radius=0.76, stellar_mass=0.93, stellar_luminosity=-0.519, stellar_surface_gravity=4.64, stellar_age=None),\n",
       " 'K2-386': Star(spectral_type=None, stellar_effective_temperature=5749.0, stellar_radius=0.97, stellar_mass=0.91, stellar_luminosity=-0.019, stellar_surface_gravity=4.42, stellar_age=None),\n",
       " 'K2-387': Star(spectral_type=None, stellar_effective_temperature=3572.0, stellar_radius=0.59, stellar_mass=0.57, stellar_luminosity=-1.239, stellar_surface_gravity=4.66, stellar_age=None),\n",
       " 'K2-388': Star(spectral_type='G8', stellar_effective_temperature=5367.0, stellar_radius=0.9, stellar_mass=0.84, stellar_luminosity=-0.212, stellar_surface_gravity=4.46, stellar_age=None),\n",
       " 'K2-39': Star(spectral_type=None, stellar_effective_temperature=4881.0, stellar_radius=2.97, stellar_mass=0.66, stellar_luminosity=0.674, stellar_surface_gravity=3.44, stellar_age=3.09),\n",
       " 'K2-390': Star(spectral_type='G4', stellar_effective_temperature=5558.0, stellar_radius=0.97, stellar_mass=0.79, stellar_luminosity=-0.099, stellar_surface_gravity=4.37, stellar_age=None),\n",
       " 'K2-391': Star(spectral_type='G7', stellar_effective_temperature=5543.0, stellar_radius=0.57, stellar_mass=0.76, stellar_luminosity=0.391, stellar_surface_gravity=4.97, stellar_age=None),\n",
       " 'K2-392': Star(spectral_type='G3', stellar_effective_temperature=5726.0, stellar_radius=1.06, stellar_mass=0.84, stellar_luminosity=0.048, stellar_surface_gravity=4.31, stellar_age=None),\n",
       " 'K2-393': Star(spectral_type=None, stellar_effective_temperature=5678.0, stellar_radius=1.07, stellar_mass=0.88, stellar_luminosity=0.043, stellar_surface_gravity=4.32, stellar_age=None),\n",
       " 'K2-394': Star(spectral_type=None, stellar_effective_temperature=4938.0, stellar_radius=0.63, stellar_mass=0.48, stellar_luminosity=-0.858, stellar_surface_gravity=4.52, stellar_age=None),\n",
       " 'K2-397': Star(spectral_type='G7', stellar_effective_temperature=5387.0, stellar_radius=0.97, stellar_mass=0.94, stellar_luminosity=-0.145, stellar_surface_gravity=4.44, stellar_age=None),\n",
       " 'K2-399': Star(spectral_type='F9', stellar_effective_temperature=5690.0, stellar_radius=1.54, stellar_mass=0.78, stellar_luminosity=0.415, stellar_surface_gravity=3.96, stellar_age=None),\n",
       " 'K2-4': Star(spectral_type=None, stellar_effective_temperature=4014.73, stellar_radius=0.57, stellar_mass=0.64, stellar_luminosity=-0.915, stellar_surface_gravity=4.85, stellar_age=None),\n",
       " 'K2-400': Star(spectral_type='M3', stellar_effective_temperature=3578.0, stellar_radius=0.38, stellar_mass=0.37, stellar_luminosity=-1.748, stellar_surface_gravity=4.85, stellar_age=None),\n",
       " 'K2-401': Star(spectral_type='K7', stellar_effective_temperature=4213.0, stellar_radius=0.68, stellar_mass=0.87, stellar_luminosity=-0.835, stellar_surface_gravity=4.72, stellar_age=None),\n",
       " 'K2-402': Star(spectral_type='G2', stellar_effective_temperature=5716.0, stellar_radius=1.28, stellar_mass=0.94, stellar_luminosity=0.209, stellar_surface_gravity=4.2, stellar_age=None),\n",
       " 'K2-403': Star(spectral_type='G4', stellar_effective_temperature=5511.0, stellar_radius=0.89, stellar_mass=0.78, stellar_luminosity=-0.171, stellar_surface_gravity=4.44, stellar_age=None),\n",
       " 'K2-404': Star(spectral_type='M1', stellar_effective_temperature=3748.0, stellar_radius=0.55, stellar_mass=0.55, stellar_luminosity=-1.239, stellar_surface_gravity=4.7, stellar_age=None),\n",
       " 'K2-405': Star(spectral_type='K0', stellar_effective_temperature=4927.0, stellar_radius=0.77, stellar_mass=1.03, stellar_luminosity=-0.488, stellar_surface_gravity=4.69, stellar_age=None),\n",
       " 'K2-406': Star(spectral_type='G4', stellar_effective_temperature=5784.0, stellar_radius=0.96, stellar_mass=0.8, stellar_luminosity=-0.06, stellar_surface_gravity=4.37, stellar_age=None),\n",
       " 'K2-408': Star(spectral_type='G7', stellar_effective_temperature=5335.0, stellar_radius=0.78, stellar_mass=0.81, stellar_luminosity=-0.33, stellar_surface_gravity=4.56, stellar_age=None),\n",
       " 'K2-409': Star(spectral_type='G4', stellar_effective_temperature=5742.0, stellar_radius=1.23, stellar_mass=0.89, stellar_luminosity=0.172, stellar_surface_gravity=4.2, stellar_age=None),\n",
       " 'K2-411': Star(spectral_type=None, stellar_effective_temperature=5711.0, stellar_radius=1.38, stellar_mass=1.02, stellar_luminosity=0.258, stellar_surface_gravity=4.17, stellar_age=None),\n",
       " 'K2-412': Star(spectral_type=None, stellar_effective_temperature=5590.0, stellar_radius=0.98, stellar_mass=0.89, stellar_luminosity=-0.071, stellar_surface_gravity=4.41, stellar_age=None),\n",
       " 'K2-415': Star(spectral_type='M5V', stellar_effective_temperature=3173.0, stellar_radius=0.2, stellar_mass=0.16, stellar_luminosity=-2.455, stellar_surface_gravity=5.07, stellar_age=None),\n",
       " 'K2-416': Star(spectral_type='MV', stellar_effective_temperature=3746.0, stellar_radius=0.55, stellar_mass=0.55, stellar_luminosity=-1.27, stellar_surface_gravity=4.69, stellar_age=None),\n",
       " 'K2-417': Star(spectral_type='MV', stellar_effective_temperature=3861.0, stellar_radius=0.58, stellar_mass=0.57, stellar_luminosity=-1.202, stellar_surface_gravity=4.67, stellar_age=None),\n",
       " 'K2-42': Star(spectral_type=None, stellar_effective_temperature=4613.0, stellar_radius=0.64, stellar_mass=0.7, stellar_luminosity=-0.703, stellar_surface_gravity=4.66, stellar_age=None),\n",
       " 'K2-44': Star(spectral_type=None, stellar_effective_temperature=5912.0, stellar_radius=1.58, stellar_mass=1.15, stellar_luminosity=0.43, stellar_surface_gravity=4.1, stellar_age=None),\n",
       " 'K2-45': Star(spectral_type=None, stellar_effective_temperature=4103.0, stellar_radius=0.45, stellar_mass=0.5, stellar_luminosity=-0.74, stellar_surface_gravity=4.82, stellar_age=None),\n",
       " 'K2-46': Star(spectral_type=None, stellar_effective_temperature=6256.0, stellar_radius=1.29, stellar_mass=0.96, stellar_luminosity=0.413, stellar_surface_gravity=4.2, stellar_age=None),\n",
       " 'K2-47': Star(spectral_type=None, stellar_effective_temperature=5054.0, stellar_radius=0.76, stellar_mass=0.75, stellar_luminosity=-0.482, stellar_surface_gravity=4.54, stellar_age=None),\n",
       " 'K2-48': Star(spectral_type=None, stellar_effective_temperature=4899.0, stellar_radius=0.73, stellar_mass=0.77, stellar_luminosity=-0.657, stellar_surface_gravity=4.6, stellar_age=None),\n",
       " 'K2-49': Star(spectral_type=None, stellar_effective_temperature=4175.0, stellar_radius=0.45, stellar_mass=0.51, stellar_luminosity=-0.774, stellar_surface_gravity=4.81, stellar_age=None),\n",
       " ...}"
      ]
     },
     "execution_count": 108,
     "metadata": {},
     "output_type": "execute_result"
    }
   ],
   "source": [
    "# you can now use 'get_stars' to read the data in 'stars_1.csv'\n",
    "\n",
    "stars_1_dict = get_stars(os.path.join(\"data\", \"stars_1.csv\"))\n",
    "\n",
    "stars_1_dict"
   ]
  },
  {
   "cell_type": "code",
   "execution_count": 109,
   "id": "cff3fddd-3ce5-48d9-a053-a00a9bb9745f",
   "metadata": {
    "deletable": false,
    "editable": true,
    "slideshow": {
     "slide_type": ""
    },
    "tags": []
   },
   "outputs": [
    {
     "name": "stdout",
     "output_type": "stream",
     "text": [
      "Make sure you saved the notebook before running this cell. Running check for stars_1_dict...\n",
      "Great job! You passed all test cases for this question.\n"
     ]
    },
    {
     "data": {
      "text/plain": [
       "True"
      ]
     },
     "execution_count": 109,
     "metadata": {},
     "output_type": "execute_result"
    }
   ],
   "source": [
    "student_grader.check(\"stars_1_dict\", should_get_llm_feedback=False)"
   ]
  },
  {
   "cell_type": "markdown",
   "id": "f6a3e50e-579d-4c1c-9e0b-58e60a71ae63",
   "metadata": {
    "deletable": false,
    "editable": false,
    "slideshow": {
     "slide_type": ""
    },
    "tags": []
   },
   "source": [
    "#### Question 6: What is the `Star` object of the star (in `stars_1.csv`) named *DP Leo*?"
   ]
  },
  {
   "cell_type": "markdown",
   "id": "c11c0e02-d7ce-4d76-b0d5-262166f768dc",
   "metadata": {
    "deletable": false,
    "editable": false,
    "slideshow": {
     "slide_type": ""
    },
    "tags": []
   },
   "source": [
    "You **must** access the `Star` object in `stars_1_dict` **dictionary** defined above to answer this question."
   ]
  },
  {
   "cell_type": "markdown",
   "id": "9c3795b2-a2c3-49fe-9c27-a4a8fb2f96c0",
   "metadata": {
    "deletable": false,
    "editable": false,
    "slideshow": {
     "slide_type": ""
    },
    "tags": []
   },
   "source": [
    "Points possible: 3.0"
   ]
  },
  {
   "cell_type": "code",
   "execution_count": 110,
   "id": "aa759259-c345-40fc-8a75-4c039672c379",
   "metadata": {
    "deletable": false,
    "editable": true,
    "slideshow": {
     "slide_type": ""
    },
    "tags": [
     "q6-code"
    ]
   },
   "outputs": [
    {
     "data": {
      "text/plain": [
       "Star(spectral_type=None, stellar_effective_temperature=13500.0, stellar_radius=0.01, stellar_mass=0.69, stellar_luminosity=-2.4, stellar_surface_gravity=None, stellar_age=None)"
      ]
     },
     "execution_count": 110,
     "metadata": {},
     "output_type": "execute_result"
    }
   ],
   "source": [
    "# compute and store the answer in the variable 'dp_leo', then display it\n",
    "dp_leo = stars_1_dict[\"DP Leo\"]\n",
    "\n",
    "dp_leo"
   ]
  },
  {
   "cell_type": "code",
   "execution_count": 111,
   "id": "395ebb90-8cb7-4b41-81dd-77af8bc4f871",
   "metadata": {
    "deletable": false,
    "editable": true,
    "slideshow": {
     "slide_type": ""
    },
    "tags": []
   },
   "outputs": [
    {
     "name": "stdout",
     "output_type": "stream",
     "text": [
      "Make sure you saved the notebook before running this cell. Running check for q6...\n",
      "Great job! You passed all test cases for this question.\n"
     ]
    },
    {
     "data": {
      "text/plain": [
       "True"
      ]
     },
     "execution_count": 111,
     "metadata": {},
     "output_type": "execute_result"
    }
   ],
   "source": [
    "student_grader.check(\"q6\", should_get_llm_feedback=False)"
   ]
  },
  {
   "cell_type": "markdown",
   "id": "1babfd69-0e0c-460f-89f5-38cd3553ef6b",
   "metadata": {
    "deletable": false,
    "editable": false,
    "slideshow": {
     "slide_type": ""
    },
    "tags": []
   },
   "source": [
    "#### Question 7: What's the **average** `stellar_luminosity` of **all** the stars in the `star_1.csv` file?"
   ]
  },
  {
   "cell_type": "markdown",
   "id": "b1c5b204-91fb-46e6-b9ed-bab7e638198d",
   "metadata": {
    "deletable": false,
    "editable": false,
    "slideshow": {
     "slide_type": ""
    },
    "tags": []
   },
   "source": [
    "You **must** use the `stars_1_dict` **dictionary** defined above to answer this question.\n",
    "\n",
    "To find the average, you **must** first **add** up the `stellar_luminosity` value of all the stars and **divide** by the total **number** of stars. You **must skip** stars which don't have the `stellar_luminosity` data. Such stars should not contribute to either the sum of `stellar_luminosity` or to the number of stars. "
   ]
  },
  {
   "cell_type": "markdown",
   "id": "9e6f99ff-0a32-404f-9fd6-87efa185c63b",
   "metadata": {
    "deletable": false,
    "editable": false,
    "slideshow": {
     "slide_type": ""
    },
    "tags": []
   },
   "source": [
    "Points possible: 3.0"
   ]
  },
  {
   "cell_type": "code",
   "execution_count": 177,
   "id": "2b0275ed-4fdf-496c-b8af-804f5f156038",
   "metadata": {
    "deletable": false,
    "editable": true,
    "slideshow": {
     "slide_type": ""
    },
    "tags": [
     "q7-code"
    ]
   },
   "outputs": [
    {
     "data": {
      "text/plain": [
       "0.017454783748361704"
      ]
     },
     "execution_count": 177,
     "metadata": {},
     "output_type": "execute_result"
    }
   ],
   "source": [
    "# compute and store the answer in the variable 'avg_lum_stars_1', then display it\n",
    "star_count = len(stars_1_dict)\n",
    "total_stellar_luminosity = 0\n",
    "\n",
    "for star in stars_1_dict:\n",
    "    star_stellar_luminosity = stars_1_dict[star].stellar_luminosity\n",
    "    if star_stellar_luminosity == None:\n",
    "        star_count -= 1\n",
    "    else:\n",
    "        total_stellar_luminosity += star_stellar_luminosity\n",
    "\n",
    "avg_lum_stars_1 = total_stellar_luminosity / star_count\n",
    "\n",
    "avg_lum_stars_1"
   ]
  },
  {
   "cell_type": "code",
   "execution_count": 178,
   "id": "d0cfee60-7e7d-4cc8-b1a7-9e851160e66c",
   "metadata": {
    "deletable": false,
    "editable": true,
    "slideshow": {
     "slide_type": ""
    },
    "tags": []
   },
   "outputs": [
    {
     "name": "stdout",
     "output_type": "stream",
     "text": [
      "Make sure you saved the notebook before running this cell. Running check for q7...\n",
      "Great job! You passed all test cases for this question.\n"
     ]
    },
    {
     "data": {
      "text/plain": [
       "True"
      ]
     },
     "execution_count": 178,
     "metadata": {},
     "output_type": "execute_result"
    }
   ],
   "source": [
    "student_grader.check(\"q7\", should_get_llm_feedback=False)"
   ]
  },
  {
   "cell_type": "markdown",
   "id": "89cfda5e-80e1-4aab-a84e-7930e2686dac",
   "metadata": {
    "deletable": false,
    "editable": false,
    "slideshow": {
     "slide_type": ""
    },
    "tags": []
   },
   "source": [
    "#### Question 8: What is the **average** `stellar_age` of **all** the stars in the `stars_2.csv` file?"
   ]
  },
  {
   "cell_type": "markdown",
   "id": "c37d2fac-7e1b-4699-b7c3-1104497f2059",
   "metadata": {
    "deletable": false,
    "editable": false,
    "slideshow": {
     "slide_type": ""
    },
    "tags": []
   },
   "source": [
    "You **must** use the function `get_stars(csv_file)` to read the data in `stars_2.csv`. Your output **must** be a **float** representing the `stellar_age` in units of *gigayears*. You **must** skip stars which have missing `stellar_age` data. "
   ]
  },
  {
   "cell_type": "markdown",
   "id": "bf9562a7-8fee-4af4-9f10-70ffdb1b0e0c",
   "metadata": {
    "deletable": false,
    "editable": false,
    "slideshow": {
     "slide_type": ""
    },
    "tags": []
   },
   "source": [
    "Points possible: 3.0"
   ]
  },
  {
   "cell_type": "code",
   "execution_count": 179,
   "id": "e022f436-b149-4544-a932-d9755f984b44",
   "metadata": {
    "deletable": false,
    "editable": true,
    "slideshow": {
     "slide_type": ""
    },
    "tags": [
     "q8-code"
    ]
   },
   "outputs": [
    {
     "data": {
      "text/plain": [
       "4.333537808641972"
      ]
     },
     "execution_count": 179,
     "metadata": {},
     "output_type": "execute_result"
    }
   ],
   "source": [
    "# compute and store the answer in the variable 'avg_age_stars_2', then display it\n",
    "stars_2_file = os.path.join(\"data\", \"stars_2.csv\")\n",
    "stars_2_dict = get_stars(stars_2_file)\n",
    "star_2_count = len(stars_2_dict)\n",
    "\n",
    "total_stellar_age = 0\n",
    "for star in stars_2_dict:\n",
    "    star_stellar_age = stars_2_dict[star].stellar_age\n",
    "    if star_stellar_age == None:\n",
    "        star_2_count -= 1\n",
    "    else:\n",
    "        total_stellar_age += star_stellar_age\n",
    "\n",
    "if star_2_count > 0:\n",
    "    avg_age_stars_2 = total_stellar_age / star_2_count\n",
    "else:\n",
    "    avg_age_stars_2 = None\n",
    "\n",
    "avg_age_stars_2"
   ]
  },
  {
   "cell_type": "code",
   "execution_count": 180,
   "id": "85cce70d-6b1f-4c1e-a42b-2f7bf9c7452c",
   "metadata": {
    "deletable": false,
    "editable": true,
    "slideshow": {
     "slide_type": ""
    },
    "tags": []
   },
   "outputs": [
    {
     "name": "stdout",
     "output_type": "stream",
     "text": [
      "Make sure you saved the notebook before running this cell. Running check for q8...\n",
      "Great job! You passed all test cases for this question.\n"
     ]
    },
    {
     "data": {
      "text/plain": [
       "True"
      ]
     },
     "execution_count": 180,
     "metadata": {},
     "output_type": "execute_result"
    }
   ],
   "source": [
    "student_grader.check(\"q8\", should_get_llm_feedback=False)"
   ]
  },
  {
   "cell_type": "markdown",
   "id": "1fc25674-2060-4ae1-aae4-eb68d1ea6430",
   "metadata": {
    "deletable": false,
    "editable": false
   },
   "source": [
    "### Project Data Structure 1: `stars_dict`"
   ]
  },
  {
   "cell_type": "markdown",
   "id": "a1589c27-8808-4989-bde5-b03172f14dc4",
   "metadata": {
    "deletable": false,
    "editable": false
   },
   "source": [
    "You are now ready to read all the data about the stars stored in the `data` directory. You **must** now create a **dictionary** mapping the `Name` of each star in the `data` directory (inside the files `stars_1.csv`, ..., `stars_5.csv`) to the `Star` object containing all the other details about the star.\n",
    "\n",
    "You **must not** hardcode the files/paths of the files `stars_1.csv`, ..., `stars_5.csv` to answer this question. Instead, you **must** use the `stars_paths` variable defined earlier in Question 4 to get the list of paths needed for this question. You can use the `update` dictionary **method** to combine two **dictionaries**.\n",
    "\n",
    "You must use this dictionary to answer the next 3 questions."
   ]
  },
  {
   "cell_type": "markdown",
   "id": "45656f9a-9ff3-495f-819f-1cd2a5ca5d65",
   "metadata": {
    "deletable": false,
    "editable": false,
    "slideshow": {
     "slide_type": ""
    },
    "tags": []
   },
   "source": [
    "Points possible: 3.0"
   ]
  },
  {
   "cell_type": "code",
   "execution_count": 116,
   "id": "d1029135-43cd-491a-b8f6-22f0ce99c891",
   "metadata": {
    "deletable": false,
    "editable": true,
    "slideshow": {
     "slide_type": ""
    },
    "tags": [
     "stars_dict_full-code"
    ]
   },
   "outputs": [],
   "source": [
    "# define the variable 'stars_dict' here,\n",
    "# but do NOT display the variable at the end\n",
    "stars_dict = {}\n",
    "\n",
    "for path in stars_paths:\n",
    "    combined_d = get_stars(path)\n",
    "    stars_dict.update(combined_d)"
   ]
  },
  {
   "cell_type": "code",
   "execution_count": 117,
   "id": "4e765e7a-c4ae-4dc9-9989-6b7828a9ddb7",
   "metadata": {
    "deletable": false,
    "editable": true,
    "slideshow": {
     "slide_type": ""
    },
    "tags": []
   },
   "outputs": [
    {
     "name": "stdout",
     "output_type": "stream",
     "text": [
      "Make sure you saved the notebook before running this cell. Running check for stars_dict_full...\n",
      "Great job! You passed all test cases for this question.\n"
     ]
    },
    {
     "data": {
      "text/plain": [
       "True"
      ]
     },
     "execution_count": 117,
     "metadata": {},
     "output_type": "execute_result"
    }
   ],
   "source": [
    "student_grader.check(\"stars_dict_full\", should_get_llm_feedback=False)"
   ]
  },
  {
   "cell_type": "markdown",
   "id": "7eb18524-e19d-4297-a924-2644d93fac8d",
   "metadata": {
    "deletable": false,
    "editable": false,
    "slideshow": {
     "slide_type": ""
    },
    "tags": []
   },
   "source": [
    "#### Question 9: What is the `stellar_effective_temperature` of the star *Kepler-220*?"
   ]
  },
  {
   "cell_type": "markdown",
   "id": "b4fd8b29-af29-4bcf-91f4-54abcadb5ca4",
   "metadata": {
    "deletable": false,
    "editable": false,
    "slideshow": {
     "slide_type": ""
    },
    "tags": []
   },
   "source": [
    "You **must** access the correct `Star` object in the `stars_dict` **dictionary** defined above to answer this question."
   ]
  },
  {
   "cell_type": "markdown",
   "id": "e778fdb7-ca89-4881-b860-9e7fb42f0816",
   "metadata": {
    "deletable": false,
    "editable": false,
    "slideshow": {
     "slide_type": ""
    },
    "tags": []
   },
   "source": [
    "Points possible: 4.0"
   ]
  },
  {
   "cell_type": "code",
   "execution_count": 118,
   "id": "b2408941-4e90-4a25-b893-05447c1adaad",
   "metadata": {
    "deletable": false,
    "editable": true,
    "slideshow": {
     "slide_type": ""
    },
    "tags": [
     "q9-code"
    ]
   },
   "outputs": [
    {
     "data": {
      "text/plain": [
       "4632.0"
      ]
     },
     "execution_count": 118,
     "metadata": {},
     "output_type": "execute_result"
    }
   ],
   "source": [
    "# compute and store the answer in the variable 'kepler_220_temp', then display it\n",
    "kepler_220_temp = stars_dict[\"Kepler-220\"].stellar_effective_temperature\n",
    "\n",
    "kepler_220_temp"
   ]
  },
  {
   "cell_type": "code",
   "execution_count": 119,
   "id": "d5760280-dfc9-482e-a8e5-01f6439d63a3",
   "metadata": {
    "deletable": false,
    "editable": true,
    "scrolled": true,
    "slideshow": {
     "slide_type": ""
    },
    "tags": []
   },
   "outputs": [
    {
     "name": "stdout",
     "output_type": "stream",
     "text": [
      "Make sure you saved the notebook before running this cell. Running check for q9...\n",
      "Great job! You passed all test cases for this question.\n"
     ]
    },
    {
     "data": {
      "text/plain": [
       "True"
      ]
     },
     "execution_count": 119,
     "metadata": {},
     "output_type": "execute_result"
    }
   ],
   "source": [
    "student_grader.check(\"q9\", should_get_llm_feedback=False)"
   ]
  },
  {
   "cell_type": "markdown",
   "id": "36a01048-6eb0-420f-8e14-97f4214e5697",
   "metadata": {
    "deletable": false,
    "editable": false,
    "slideshow": {
     "slide_type": ""
    },
    "tags": []
   },
   "source": [
    "#### Question 10: Find the **name** of the **largest** star (in terms of `stellar_radius`) in the `data` directory."
   ]
  },
  {
   "cell_type": "markdown",
   "id": "e3773bd3-7b52-4df7-8f04-f9c88e1fcaaa",
   "metadata": {
    "deletable": false,
    "editable": false,
    "slideshow": {
     "slide_type": ""
    },
    "tags": []
   },
   "source": [
    "Your output **must** be a **string**. You do **not** need to worry about any ties. You **must** skip any stars with **missing** `stellar_radius` data."
   ]
  },
  {
   "cell_type": "markdown",
   "id": "dddb09c6-95dd-47ad-b462-f2a872f8bab3",
   "metadata": {
    "deletable": false,
    "editable": false,
    "slideshow": {
     "slide_type": ""
    },
    "tags": []
   },
   "source": [
    "Points possible: 4.0"
   ]
  },
  {
   "cell_type": "code",
   "execution_count": 181,
   "id": "48a2e9f0-32bd-4958-bf5c-154aa7c56138",
   "metadata": {
    "deletable": false,
    "editable": true,
    "slideshow": {
     "slide_type": ""
    },
    "tags": [
     "q10-code"
    ]
   },
   "outputs": [
    {
     "data": {
      "text/plain": [
       "'HD 18438'"
      ]
     },
     "execution_count": 181,
     "metadata": {},
     "output_type": "execute_result"
    }
   ],
   "source": [
    "# compute and store the answer in the variable 'biggest_star', then display it\n",
    "biggest_star = None\n",
    "biggest_star_stellar_radius = 0\n",
    "\n",
    "for star in stars_dict:\n",
    "    star_stellar_radius = stars_dict[star].stellar_radius\n",
    "    if star_stellar_radius == None:\n",
    "        continue\n",
    "    elif star_stellar_radius == None or star_stellar_radius > biggest_star_stellar_radius:\n",
    "        biggest_star = star\n",
    "        biggest_star_stellar_radius = star_stellar_radius\n",
    "\n",
    "biggest_star"
   ]
  },
  {
   "cell_type": "code",
   "execution_count": 182,
   "id": "96989ad8-fde3-400a-ac88-bca78846779f",
   "metadata": {
    "deletable": false,
    "editable": true,
    "scrolled": true,
    "slideshow": {
     "slide_type": ""
    },
    "tags": []
   },
   "outputs": [
    {
     "name": "stdout",
     "output_type": "stream",
     "text": [
      "Make sure you saved the notebook before running this cell. Running check for q10...\n",
      "Great job! You passed all test cases for this question.\n"
     ]
    },
    {
     "data": {
      "text/plain": [
       "True"
      ]
     },
     "execution_count": 182,
     "metadata": {},
     "output_type": "execute_result"
    }
   ],
   "source": [
    "student_grader.check(\"q10\", should_get_llm_feedback=False)"
   ]
  },
  {
   "cell_type": "markdown",
   "id": "d88264c5-ff17-41c1-b013-e435ac8dcf74",
   "metadata": {
    "deletable": false,
    "editable": false,
    "slideshow": {
     "slide_type": ""
    },
    "tags": []
   },
   "source": [
    "#### Question 11: What is the **average** `stellar_age` (in gigayears) of **all** the stars in the `data` directory whose names **start with** `\"Kepler\"`?"
   ]
  },
  {
   "cell_type": "markdown",
   "id": "071259e0-92f0-4c06-84c0-0328987d5a53",
   "metadata": {
    "deletable": false,
    "editable": false,
    "slideshow": {
     "slide_type": ""
    },
    "tags": []
   },
   "source": [
    "Your output **must** be a **float**. You **must** skip all stars with **missing** `stellar_age` data. Such stars should not contribute to either the sum of `stellar_age` or to the number of stars."
   ]
  },
  {
   "cell_type": "markdown",
   "id": "9e64a7fb-5fc5-453e-a852-68b9bb8d33e0",
   "metadata": {
    "deletable": false,
    "editable": false,
    "slideshow": {
     "slide_type": ""
    },
    "tags": []
   },
   "source": [
    "Points possible: 4.0"
   ]
  },
  {
   "cell_type": "code",
   "execution_count": 122,
   "id": "9bfdca95-7775-47b1-baf7-f1370cc4ac15",
   "metadata": {
    "deletable": false,
    "editable": true,
    "slideshow": {
     "slide_type": ""
    },
    "tags": [
     "q11-code"
    ]
   },
   "outputs": [
    {
     "data": {
      "text/plain": [
       "4.2413036196650715"
      ]
     },
     "execution_count": 122,
     "metadata": {},
     "output_type": "execute_result"
    }
   ],
   "source": [
    "# compute and store the answer in the variable 'avg_age_kepler', then display it\n",
    "total_kepler_age = 0\n",
    "kepler_count = 0\n",
    "\n",
    "for star in stars_dict:\n",
    "    if star.startswith(\"Kepler\"):\n",
    "        if stars_dict[star].stellar_age == None:\n",
    "            continue\n",
    "        else:\n",
    "            total_kepler_age += stars_dict[star].stellar_age\n",
    "            kepler_count += 1\n",
    "\n",
    "avg_age_kepler = total_kepler_age / kepler_count\n",
    "\n",
    "avg_age_kepler"
   ]
  },
  {
   "cell_type": "code",
   "execution_count": 123,
   "id": "0423e327-76b3-48d8-bb64-aff76657b5c9",
   "metadata": {
    "deletable": false,
    "editable": true,
    "scrolled": true,
    "slideshow": {
     "slide_type": ""
    },
    "tags": []
   },
   "outputs": [
    {
     "name": "stdout",
     "output_type": "stream",
     "text": [
      "Make sure you saved the notebook before running this cell. Running check for q11...\n",
      "Great job! You passed all test cases for this question.\n"
     ]
    },
    {
     "data": {
      "text/plain": [
       "True"
      ]
     },
     "execution_count": 123,
     "metadata": {},
     "output_type": "execute_result"
    }
   ],
   "source": [
    "student_grader.check(\"q11\", should_get_llm_feedback=False)"
   ]
  },
  {
   "cell_type": "markdown",
   "id": "9612d3c7-03b6-4734-a363-89a486bad91f",
   "metadata": {
    "deletable": false,
    "editable": false
   },
   "source": [
    "### Creating `Planet` objects"
   ]
  },
  {
   "cell_type": "markdown",
   "id": "159dfc2a-1fdc-4275-a0d8-f5b998dd8a10",
   "metadata": {
    "deletable": false,
    "editable": false
   },
   "source": [
    "We are now ready to read the files in the `data` directory and create `Planet` objects. Creating `Planet` objects however, is going to be more difficult than creating `Star` objects, because the data required to create a single `Planet` object is split up into different files.\n",
    "\n",
    "The `planets_1.csv`, ..., `planets_5.csv` files contain all the data required to create `Planet` objects **except** for the `host_name`. The `host_name` for each planet is to be found in the `mapping_1.json`, ..., `mapping_5.json` files."
   ]
  },
  {
   "cell_type": "markdown",
   "id": "fb09f3a1-abea-40e6-81b7-a1bb5b3e7b38",
   "metadata": {
    "deletable": false,
    "editable": false
   },
   "source": [
    "First, let us read the data in `planets_1.csv`. Since this is a CSV file, you can use the `process_csv` function from above to read this file. In the cell below, you **must** read the data in `planets_1.csv` and extract the **header** and the non-header **rows** of the file."
   ]
  },
  {
   "cell_type": "markdown",
   "id": "bdd5d18f-eaaf-46d5-a067-e7477de8ba1e",
   "metadata": {
    "deletable": false,
    "editable": false,
    "slideshow": {
     "slide_type": ""
    },
    "tags": []
   },
   "source": [
    "#### Read in `planets_1.csv` data"
   ]
  },
  {
   "cell_type": "markdown",
   "id": "a8edd9cf-52bf-42f5-b092-e54aa4c78fd4",
   "metadata": {
    "deletable": false,
    "editable": false,
    "slideshow": {
     "slide_type": ""
    },
    "tags": []
   },
   "source": [
    "Points possible: 4.0"
   ]
  },
  {
   "cell_type": "code",
   "execution_count": 124,
   "id": "d30b7544-7350-416d-bee4-4aedbc5c3b8f",
   "metadata": {
    "deletable": false,
    "editable": true,
    "slideshow": {
     "slide_type": ""
    },
    "tags": [
     "Read-in-planets1-code"
    ]
   },
   "outputs": [],
   "source": [
    "# replace the ... with your code\n",
    "\n",
    "planets_1_csv = process_csv(os.path.join(\"data\", \"planets_1.csv\")) # process_csv(...) # read the data in 'planets_1.csv'\n",
    "planets_header = planets_1_csv[0]\n",
    "planets_1_rows = planets_1_csv[1:]"
   ]
  },
  {
   "cell_type": "code",
   "execution_count": 125,
   "id": "5268ce55-2f3f-450e-8a9d-cb6a278b42a0",
   "metadata": {
    "deletable": false,
    "editable": true,
    "slideshow": {
     "slide_type": ""
    },
    "tags": []
   },
   "outputs": [
    {
     "name": "stdout",
     "output_type": "stream",
     "text": [
      "Make sure you saved the notebook before running this cell. Running check for Read-in-planets1...\n",
      "Great job! You passed all test cases for this question.\n"
     ]
    },
    {
     "data": {
      "text/plain": [
       "True"
      ]
     },
     "execution_count": 125,
     "metadata": {},
     "output_type": "execute_result"
    }
   ],
   "source": [
    "student_grader.check(\"Read-in-planets1\", should_get_llm_feedback=False)"
   ]
  },
  {
   "cell_type": "markdown",
   "id": "cb05513e-d236-490b-94bf-9a988323ca63",
   "metadata": {
    "deletable": false,
    "editable": false,
    "slideshow": {
     "slide_type": ""
    },
    "tags": []
   },
   "source": [
    "#### Read in `mapping_1.json` with the read_json function."
   ]
  },
  {
   "cell_type": "markdown",
   "id": "c265c4d6-9929-4370-919f-31fb6e272a38",
   "metadata": {
    "deletable": false,
    "editable": false,
    "slideshow": {
     "slide_type": ""
    },
    "tags": []
   },
   "source": [
    "Points possible: 4.0"
   ]
  },
  {
   "cell_type": "code",
   "execution_count": 126,
   "id": "ef3c30f0-1d42-404d-bffe-6be7221cb9cf",
   "metadata": {
    "deletable": false,
    "editable": true,
    "slideshow": {
     "slide_type": ""
    },
    "tags": [
     "Read-in-mapping1-code"
    ]
   },
   "outputs": [
    {
     "data": {
      "text/plain": [
       "{'11 Com b': '11 Com',\n",
       " '11 UMi b': '11 UMi',\n",
       " '14 And b': '14 And',\n",
       " '16 Cyg B b': '16 Cyg B',\n",
       " '17 Sco b': '17 Sco',\n",
       " '18 Del b': '18 Del',\n",
       " '1RXS J160929.1-210524 b': '1RXS J160929.1-210524',\n",
       " '24 Boo b': '24 Boo',\n",
       " '2M0437 b': '2MASS J04372171+2651014',\n",
       " '2MASS J01033563-5515561 AB b': '2MASS J01033563-5515561 A',\n",
       " '2MASS J01225093-2439505 b': '2MASS J01225093-2439505',\n",
       " '2MASS J02192210-3925225 b': '2MASS J02192210-3925225',\n",
       " '2MASS J04414489+2301513 b': '2MASS J04414489+2301513',\n",
       " '2MASS J12073346-3932539 b': '2MASS J12073346-3932539',\n",
       " '2MASS J22362452+4751425 b': '2MASS J22362452+4751425',\n",
       " '30 Ari B b': '30 Ari B',\n",
       " '4 UMa b': '4 UMa',\n",
       " '42 Dra b': '42 Dra',\n",
       " '51 Eri b': '51 Eri',\n",
       " '51 Peg b': '51 Peg',\n",
       " '6 Lyn b': '6 Lyn',\n",
       " '70 Vir b': '70 Vir',\n",
       " '8 UMi b': '8 UMi',\n",
       " '81 Cet b': '81 Cet',\n",
       " '91 Aqr b': '91 Aqr',\n",
       " 'AB Aur b': 'AB Aur',\n",
       " 'AB Pic b': 'AB Pic',\n",
       " 'AF Lep b': 'AF Lep',\n",
       " 'BD+03 2562 b': 'BD+03 2562',\n",
       " 'BD+14 4559 b': 'BD+14 4559',\n",
       " 'BD+15 2375 b': 'BD+15 2375',\n",
       " 'BD+15 2940 b': 'BD+15 2940',\n",
       " 'BD+20 274 b': 'BD+20 274',\n",
       " 'BD+20 594 b': 'BD+20 594',\n",
       " 'BD+45 564 b': 'BD+45 564',\n",
       " 'BD+48 738 b': 'BD+48 738',\n",
       " 'BD+48 740 b': 'BD+48 740',\n",
       " 'BD+49 828 b': 'BD+49 828',\n",
       " 'BD+55 362 b': 'BD+55 362',\n",
       " 'BD+60 1417 b': 'BD+60 1417',\n",
       " 'BD+63 1405 b': 'BD+63 1405',\n",
       " 'BD-00 4475 b': 'BD-00 4475',\n",
       " 'BD-10 3166 b': 'BD-10 3166',\n",
       " 'BD-13 2130 b': 'BD-13 2130',\n",
       " 'BD-17 63 b': 'BD-17 63',\n",
       " 'CD Cet b': 'CD Cet',\n",
       " 'CFBDSIR J145829+101343 b': 'CFBDSIR J145829+101343',\n",
       " 'CFHTWIR-Oph 98 b': 'CFHTWIR-Oph 98 A',\n",
       " 'CHXR 73 b': 'CHXR 73',\n",
       " 'CI Tau c': 'CI Tau',\n",
       " 'COCONUTS-2 b': 'COCONUTS-2 A',\n",
       " 'CT Cha b': 'CT Cha',\n",
       " 'CoRoT-1 b': 'CoRoT-1',\n",
       " 'CoRoT-10 b': 'CoRoT-10',\n",
       " 'CoRoT-11 b': 'CoRoT-11',\n",
       " 'CoRoT-12 b': 'CoRoT-12',\n",
       " 'CoRoT-13 b': 'CoRoT-13',\n",
       " 'CoRoT-14 b': 'CoRoT-14',\n",
       " 'CoRoT-16 b': 'CoRoT-16',\n",
       " 'CoRoT-17 b': 'CoRoT-17',\n",
       " 'CoRoT-18 b': 'CoRoT-18',\n",
       " 'CoRoT-19 b': 'CoRoT-19',\n",
       " 'CoRoT-2 b': 'CoRoT-2',\n",
       " 'CoRoT-21 b': 'CoRoT-21',\n",
       " 'CoRoT-22 b': 'CoRoT-22',\n",
       " 'CoRoT-23 b': 'CoRoT-23',\n",
       " 'CoRoT-25 b': 'CoRoT-25',\n",
       " 'CoRoT-26 b': 'CoRoT-26',\n",
       " 'CoRoT-27 b': 'CoRoT-27',\n",
       " 'CoRoT-28 b': 'CoRoT-28',\n",
       " 'CoRoT-29 b': 'CoRoT-29',\n",
       " 'CoRoT-3 b': 'CoRoT-3',\n",
       " 'CoRoT-30 b': 'CoRoT-30',\n",
       " 'CoRoT-31 b': 'CoRoT-31',\n",
       " 'CoRoT-35 b': 'CoRoT-35',\n",
       " 'CoRoT-36 b': 'CoRoT-36',\n",
       " 'CoRoT-4 b': 'CoRoT-4',\n",
       " 'CoRoT-5 b': 'CoRoT-5',\n",
       " 'CoRoT-6 b': 'CoRoT-6',\n",
       " 'CoRoT-8 b': 'CoRoT-8',\n",
       " 'CoRoT-9 b': 'CoRoT-9',\n",
       " 'CoRoTID 223977153 b': 'CoRoTID 223977153',\n",
       " 'DE CVn b': 'DE CVn',\n",
       " 'DENIS-P J082303.1-491201 b': 'DENIS-P J082303.1-491201',\n",
       " 'DH Tau b': 'DH Tau',\n",
       " 'DMPP-2 b': 'DMPP-2',\n",
       " 'DMPP-3 A b': 'DMPP-3 A',\n",
       " 'DMPP-4 b': 'DMPP-4',\n",
       " 'DP Leo b': 'DP Leo',\n",
       " 'DS Tuc A b': 'DS Tuc A',\n",
       " 'EPIC 201170410.02': 'EPIC 201170410',\n",
       " 'EPIC 201238110 b': 'EPIC 201238110',\n",
       " 'EPIC 201427007 b': 'EPIC 201427007',\n",
       " 'EPIC 201497682 b': 'EPIC 201497682',\n",
       " 'EPIC 201595106 b': 'EPIC 201595106',\n",
       " 'EPIC 201757695.02': 'EPIC 201757695',\n",
       " 'EPIC 201841433 b': 'EPIC 201841433',\n",
       " 'EPIC 206032309 b': 'EPIC 206032309',\n",
       " 'EPIC 206215704 b': 'EPIC 206215704',\n",
       " 'EPIC 211822797 b': 'EPIC 211822797',\n",
       " 'EPIC 211945201 b': 'EPIC 211945201',\n",
       " 'EPIC 212424622 b': 'EPIC 212424622',\n",
       " 'EPIC 212499991 b': 'EPIC 212499991',\n",
       " 'EPIC 220492298 b': 'EPIC 220492298',\n",
       " 'EPIC 228836835 b': 'EPIC 228836835',\n",
       " 'EPIC 229004835 b': 'EPIC 229004835',\n",
       " 'EPIC 246851721 b': 'EPIC 246851721',\n",
       " 'EPIC 248847494 b': 'EPIC 248847494',\n",
       " 'FU Tau b': 'FU Tau',\n",
       " 'G 9-40 b': 'G 9-40',\n",
       " 'GJ 1151 c': 'GJ 1151',\n",
       " 'GJ 1214 b': 'GJ 1214',\n",
       " 'GJ 1252 b': 'GJ 1252',\n",
       " 'GJ 1265 b': 'GJ 1265',\n",
       " 'GJ 160.2 b': 'GJ 160.2',\n",
       " 'GJ 179 b': 'GJ 179',\n",
       " 'GJ 2056 b': 'GJ 2056',\n",
       " 'GJ 251 b': 'GJ 251',\n",
       " 'GJ 27.1 b': 'GJ 27.1',\n",
       " 'GJ 3021 b': 'GJ 3021',\n",
       " 'GJ 3082 b': 'GJ 3082',\n",
       " 'GJ 3090 b': 'GJ 3090',\n",
       " 'GJ 3222 b': 'GJ 3222',\n",
       " 'GJ 3341 b': 'GJ 3341',\n",
       " 'GJ 338 B b': 'GJ 338 B',\n",
       " 'GJ 3470 b': 'GJ 3470',\n",
       " 'GJ 3634 b': 'GJ 3634',\n",
       " 'GJ 3779 b': 'GJ 3779',\n",
       " 'GJ 393 b': 'GJ 393',\n",
       " 'GJ 3942 b': 'GJ 3942',\n",
       " 'GJ 3988 b': 'GJ 3988',\n",
       " 'GJ 422 b': 'GJ 422',\n",
       " 'GJ 4276 b': 'GJ 4276',\n",
       " 'GJ 436 b': 'GJ 436',\n",
       " 'GJ 463 b': 'GJ 463',\n",
       " 'GJ 480 b': 'GJ 480',\n",
       " 'GJ 486 b': 'GJ 486',\n",
       " 'GJ 504 b': 'GJ 504',\n",
       " 'GJ 514 b': 'GJ 514',\n",
       " 'GJ 536 b': 'GJ 536',\n",
       " 'GJ 625 b': 'GJ 625',\n",
       " 'GJ 649 b': 'GJ 649',\n",
       " 'GJ 674 b': 'GJ 674',\n",
       " 'GJ 680 b': 'GJ 680',\n",
       " 'GJ 685 b': 'GJ 685',\n",
       " 'GJ 720 A b': 'GJ 720 A',\n",
       " 'GJ 724 b': 'GJ 724',\n",
       " 'GJ 740 b': 'GJ 740',\n",
       " 'GJ 832 b': 'GJ 832',\n",
       " 'GJ 86 b': 'GJ 86',\n",
       " 'GJ 896 A b': 'GJ 896 A',\n",
       " 'GJ 9066 c': 'GJ 9066',\n",
       " 'GJ 9404 b': 'GJ 9404',\n",
       " 'GJ 96 b': 'GJ 96',\n",
       " 'GJ 9689 b': 'GJ 9689',\n",
       " 'GJ 9714 b': 'GJ 9714',\n",
       " 'GPX-1 b': 'GPX-1',\n",
       " 'GQ Lup b': 'GQ Lup',\n",
       " 'GSC 06214-00210 b': 'GSC 06214-00210',\n",
       " 'GU Psc b': 'GU Psc',\n",
       " 'Gaia-1 b': 'Gaia-1',\n",
       " 'Gaia-2 b': 'Gaia-2',\n",
       " 'Gl 378 b': 'Gl 378',\n",
       " 'Gl 49 b': 'Gl 49',\n",
       " 'Gl 686 b': 'Gl 686',\n",
       " 'HAT-P-1 b': 'HAT-P-1',\n",
       " 'HAT-P-12 b': 'HAT-P-12',\n",
       " 'HAT-P-14 b': 'HAT-P-14',\n",
       " 'HAT-P-15 b': 'HAT-P-15',\n",
       " 'HAT-P-16 b': 'HAT-P-16',\n",
       " 'HAT-P-18 b': 'HAT-P-18',\n",
       " 'HAT-P-19 b': 'HAT-P-19',\n",
       " 'HAT-P-20 b': 'HAT-P-20',\n",
       " 'HAT-P-21 b': 'HAT-P-21',\n",
       " 'HAT-P-22 b': 'HAT-P-22',\n",
       " 'HAT-P-23 b': 'HAT-P-23',\n",
       " 'HAT-P-24 b': 'HAT-P-24',\n",
       " 'HAT-P-25 b': 'HAT-P-25',\n",
       " 'HAT-P-26 b': 'HAT-P-26',\n",
       " 'HAT-P-27 b': 'HAT-P-27',\n",
       " 'HAT-P-28 b': 'HAT-P-28',\n",
       " 'HAT-P-29 b': 'HAT-P-29',\n",
       " 'HAT-P-3 b': 'HAT-P-3',\n",
       " 'HAT-P-30 b': 'HAT-P-30',\n",
       " 'HAT-P-31 b': 'HAT-P-31',\n",
       " 'HAT-P-32 b': 'HAT-P-32',\n",
       " 'HAT-P-33 b': 'HAT-P-33',\n",
       " 'HAT-P-34 b': 'HAT-P-34',\n",
       " 'HAT-P-35 b': 'HAT-P-35',\n",
       " 'HAT-P-36 b': 'HAT-P-36',\n",
       " 'HAT-P-37 b': 'HAT-P-37',\n",
       " 'HAT-P-38 b': 'HAT-P-38',\n",
       " 'HAT-P-39 b': 'HAT-P-39',\n",
       " 'HAT-P-4 b': 'HAT-P-4',\n",
       " 'HAT-P-40 b': 'HAT-P-40',\n",
       " 'HAT-P-41 b': 'HAT-P-41',\n",
       " 'HAT-P-42 b': 'HAT-P-42',\n",
       " 'HAT-P-43 b': 'HAT-P-43',\n",
       " 'HAT-P-45 b': 'HAT-P-45',\n",
       " 'HAT-P-46 b': 'HAT-P-46',\n",
       " 'HAT-P-49 b': 'HAT-P-49',\n",
       " 'HAT-P-5 b': 'HAT-P-5',\n",
       " 'HAT-P-50 b': 'HAT-P-50',\n",
       " 'HAT-P-51 b': 'HAT-P-51',\n",
       " 'HAT-P-52 b': 'HAT-P-52',\n",
       " 'HAT-P-53 b': 'HAT-P-53',\n",
       " 'HAT-P-54 b': 'HAT-P-54',\n",
       " 'HAT-P-55 b': 'HAT-P-55',\n",
       " 'HAT-P-56 b': 'HAT-P-56',\n",
       " 'HAT-P-57 b': 'HAT-P-57',\n",
       " 'HAT-P-58 b': 'HAT-P-58',\n",
       " 'HAT-P-59 b': 'HAT-P-59',\n",
       " 'HAT-P-6 b': 'HAT-P-6',\n",
       " 'HAT-P-60 b': 'HAT-P-60',\n",
       " 'HAT-P-61 b': 'HAT-P-61',\n",
       " 'HAT-P-62 b': 'HAT-P-62',\n",
       " 'HAT-P-63 b': 'HAT-P-63',\n",
       " 'HAT-P-64 b': 'HAT-P-64',\n",
       " 'HAT-P-65 b': 'HAT-P-65',\n",
       " 'HAT-P-66 b': 'HAT-P-66',\n",
       " 'HAT-P-67 b': 'HAT-P-67',\n",
       " 'HAT-P-68 b': 'HAT-P-68',\n",
       " 'HAT-P-69 b': 'HAT-P-69',\n",
       " 'HAT-P-7 b': 'HAT-P-7',\n",
       " 'HAT-P-70 b': 'HAT-P-70',\n",
       " 'HAT-P-8 b': 'HAT-P-8',\n",
       " 'HAT-P-9 b': 'HAT-P-9',\n",
       " 'HATS-1 b': 'HATS-1',\n",
       " 'HATS-10 b': 'HATS-10',\n",
       " 'HATS-11 b': 'HATS-11',\n",
       " 'HATS-12 b': 'HATS-12',\n",
       " 'HATS-13 b': 'HATS-13',\n",
       " 'HATS-14 b': 'HATS-14',\n",
       " 'HATS-15 b': 'HATS-15',\n",
       " 'HATS-16 b': 'HATS-16',\n",
       " 'HATS-17 b': 'HATS-17',\n",
       " 'HATS-18 b': 'HATS-18',\n",
       " 'HATS-2 b': 'HATS-2',\n",
       " 'HATS-22 b': 'HATS-22',\n",
       " 'HATS-23 b': 'HATS-23',\n",
       " 'HATS-24 b': 'HATS-24',\n",
       " 'HATS-25 b': 'HATS-25',\n",
       " 'HATS-26 b': 'HATS-26',\n",
       " 'HATS-27 b': 'HATS-27',\n",
       " 'HATS-28 b': 'HATS-28',\n",
       " 'HATS-29 b': 'HATS-29',\n",
       " 'HATS-3 b': 'HATS-3',\n",
       " 'HATS-30 b': 'HATS-30',\n",
       " 'HATS-31 b': 'HATS-31',\n",
       " 'HATS-32 b': 'HATS-32',\n",
       " 'HATS-33 b': 'HATS-33',\n",
       " 'HATS-34 b': 'HATS-34',\n",
       " 'HATS-35 b': 'HATS-35',\n",
       " 'HATS-36 b': 'HATS-36',\n",
       " 'HATS-37 A b': 'HATS-37 A',\n",
       " 'HATS-38 b': 'HATS-38',\n",
       " 'HATS-39 b': 'HATS-39',\n",
       " 'HATS-4 b': 'HATS-4',\n",
       " 'HATS-40 b': 'HATS-40',\n",
       " 'HATS-41 b': 'HATS-41',\n",
       " 'HATS-42 b': 'HATS-42',\n",
       " 'HATS-43 b': 'HATS-43',\n",
       " 'HATS-44 b': 'HATS-44',\n",
       " 'HATS-45 b': 'HATS-45',\n",
       " 'HATS-46 b': 'HATS-46',\n",
       " 'HATS-47 b': 'HATS-47',\n",
       " 'HATS-48 A b': 'HATS-48 A',\n",
       " 'HATS-49 b': 'HATS-49',\n",
       " 'HATS-5 b': 'HATS-5',\n",
       " 'HATS-50 b': 'HATS-50',\n",
       " 'HATS-51 b': 'HATS-51',\n",
       " 'HATS-52 b': 'HATS-52',\n",
       " 'HATS-53 b': 'HATS-53',\n",
       " 'HATS-54 b': 'HATS-54',\n",
       " 'HATS-55 b': 'HATS-55',\n",
       " 'HATS-56 b': 'HATS-56',\n",
       " 'HATS-57 b': 'HATS-57',\n",
       " 'HATS-58 A b': 'HATS-58 A',\n",
       " 'HATS-6 b': 'HATS-6',\n",
       " 'HATS-60 b': 'HATS-60',\n",
       " 'HATS-61 b': 'HATS-61',\n",
       " 'HATS-62 b': 'HATS-62',\n",
       " 'HATS-63 b': 'HATS-63',\n",
       " 'HATS-64 b': 'HATS-64',\n",
       " 'HATS-65 b': 'HATS-65',\n",
       " 'HATS-66 b': 'HATS-66',\n",
       " 'HATS-67 b': 'HATS-67',\n",
       " 'HATS-68 b': 'HATS-68',\n",
       " 'HATS-69 b': 'HATS-69',\n",
       " 'HATS-7 b': 'HATS-7',\n",
       " 'HATS-70 b': 'HATS-70',\n",
       " 'HATS-71 b': 'HATS-71',\n",
       " 'HATS-72 b': 'HATS-72',\n",
       " 'HATS-74 A b': 'HATS-74 A',\n",
       " 'HATS-75 b': 'HATS-75',\n",
       " 'HATS-76 b': 'HATS-76',\n",
       " 'HATS-77 b': 'HATS-77',\n",
       " 'HATS-8 b': 'HATS-8',\n",
       " 'HATS-9 b': 'HATS-9',\n",
       " 'HD 100546 b': 'HD 100546',\n",
       " 'HD 100655 b': 'HD 100655',\n",
       " 'HD 100777 b': 'HD 100777',\n",
       " 'HD 101930 b': 'HD 101930',\n",
       " 'HD 102117 b': 'HD 102117',\n",
       " 'HD 102195 b': 'HD 102195',\n",
       " 'HD 102272 b': 'HD 102272',\n",
       " 'HD 102365 b': 'HD 102365',\n",
       " 'HD 102843 b': 'HD 102843',\n",
       " 'HD 102956 b': 'HD 102956',\n",
       " 'HD 103197 b': 'HD 103197',\n",
       " 'HD 103720 b': 'HD 103720',\n",
       " 'HD 103774 b': 'HD 103774',\n",
       " 'HD 103891 b': 'HD 103891',\n",
       " 'HD 103949 b': 'HD 103949',\n",
       " 'HD 104067 b': 'HD 104067',\n",
       " 'HD 10442 b': 'HD 10442',\n",
       " 'HD 104985 b': 'HD 104985',\n",
       " 'HD 105779 b': 'HD 105779',\n",
       " 'HD 106252 b': 'HD 106252',\n",
       " 'HD 106270 b': 'HD 106270',\n",
       " 'HD 10647 b': 'HD 10647',\n",
       " 'HD 106515 A b': 'HD 106515 A',\n",
       " 'HD 106906 b': 'HD 106906',\n",
       " 'HD 10697 b': 'HD 10697',\n",
       " 'HD 108147 b': 'HD 108147',\n",
       " 'HD 108202 b': 'HD 108202',\n",
       " 'HD 108341 b': 'HD 108341',\n",
       " 'HD 108863 b': 'HD 108863',\n",
       " 'HD 109246 b': 'HD 109246',\n",
       " 'HD 109286 b': 'HD 109286',\n",
       " 'HD 109749 b': 'HD 109749',\n",
       " 'HD 10975 b': 'HD 10975',\n",
       " 'HD 109988 b': 'HD 109988',\n",
       " 'HD 110014 b': 'HD 110014',\n",
       " 'HD 110082 b': 'HD 110082',\n",
       " 'HD 110537 b': 'HD 110537',\n",
       " 'HD 11112 b': 'HD 11112',\n",
       " 'HD 111591 b': 'HD 111591',\n",
       " 'HD 111998 b': 'HD 111998',\n",
       " 'HD 112300 b': 'HD 112300',\n",
       " 'HD 112570 b': 'HD 112570',\n",
       " 'HD 112640 b': 'HD 112640',\n",
       " 'HD 113996 b': 'HD 113996',\n",
       " 'HD 114082 b': 'HD 114082',\n",
       " 'HD 114386 b': 'HD 114386',\n",
       " 'HD 114613 b': 'HD 114613',\n",
       " 'HD 114729 b': 'HD 114729',\n",
       " 'HD 11505 b': 'HD 11505',\n",
       " 'HD 115954 b': 'HD 115954',\n",
       " 'HD 117207 b': 'HD 117207',\n",
       " 'HD 11755 b': 'HD 11755',\n",
       " 'HD 117618 b': 'HD 117618',\n",
       " 'HD 118203 b': 'HD 118203',\n",
       " 'HD 11977 b': 'HD 11977',\n",
       " 'HD 120084 b': 'HD 120084',\n",
       " 'HD 121504 b': 'HD 121504',\n",
       " 'HD 122562 c': 'HD 122562',\n",
       " 'HD 124330 b': 'HD 124330',\n",
       " 'HD 12484 b': 'HD 12484',\n",
       " 'HD 125271 b': 'HD 125271',\n",
       " 'HD 125390 b': 'HD 125390',\n",
       " 'HD 125595 b': 'HD 125595',\n",
       " 'HD 12648 b': 'HD 12648',\n",
       " 'HD 126525 b': 'HD 126525',\n",
       " 'HD 126614 b': 'HD 126614',\n",
       " 'HD 127506 b': 'HD 127506',\n",
       " 'HD 128356 b': 'HD 128356',\n",
       " 'HD 129445 b': 'HD 129445',\n",
       " 'HD 130322 b': 'HD 130322',\n",
       " 'HD 131496 b': 'HD 131496',\n",
       " 'HD 13167 b': 'HD 13167',\n",
       " 'HD 13189 b': 'HD 13189',\n",
       " 'HD 132406 b': 'HD 132406',\n",
       " 'HD 132563 b': 'HD 132563',\n",
       " 'HD 133131 B b': 'HD 133131 B',\n",
       " 'HD 135625 b': 'HD 135625',\n",
       " 'HD 135872 b': 'HD 135872',\n",
       " 'HD 136118 b': 'HD 136118',\n",
       " 'HD 136418 b': 'HD 136418',\n",
       " 'HD 136925 b': 'HD 136925',\n",
       " 'HD 13724 c': 'HD 13724',\n",
       " 'HD 137388 b': 'HD 137388',\n",
       " 'HD 13931 b': 'HD 13931',\n",
       " 'HD 139357 b': 'HD 139357',\n",
       " 'HD 1397 b': 'HD 1397',\n",
       " 'HD 14067 b': 'HD 14067',\n",
       " 'HD 141004 b': 'HD 141004',\n",
       " 'HD 141937 b': 'HD 141937',\n",
       " 'HD 142022 A b': 'HD 142022 A',\n",
       " 'HD 142245 b': 'HD 142245',\n",
       " 'HD 142415 b': 'HD 142415',\n",
       " 'HD 143105 b': 'HD 143105',\n",
       " 'HD 143361 b': 'HD 143361',\n",
       " 'HD 144899 b': 'HD 144899',\n",
       " 'HD 145377 b': 'HD 145377',\n",
       " 'HD 145457 b': 'HD 145457',\n",
       " 'HD 145934 b': 'HD 145934',\n",
       " 'HD 147379 b': 'HD 147379',\n",
       " 'HD 147513 b': 'HD 147513',\n",
       " 'HD 14787 b': 'HD 14787',\n",
       " 'HD 148156 b': 'HD 148156',\n",
       " 'HD 148427 b': 'HD 148427',\n",
       " 'HD 149026 b': 'HD 149026',\n",
       " 'HD 149143 b': 'HD 149143',\n",
       " 'HD 149806 b': 'HD 149806',\n",
       " 'HD 150010 b': 'HD 150010',\n",
       " 'HD 1502 b': 'HD 1502',\n",
       " 'HD 150706 b': 'HD 150706',\n",
       " 'HD 152079 b': 'HD 152079',\n",
       " 'HD 152581 b': 'HD 152581',\n",
       " 'HD 153950 b': 'HD 153950',\n",
       " 'HD 154088 b': 'HD 154088',\n",
       " 'HD 154345 b': 'HD 154345',\n",
       " 'HD 154391 b': 'HD 154391',\n",
       " 'HD 154672 b': 'HD 154672',\n",
       " 'HD 155193 b': 'HD 155193',\n",
       " 'HD 156411 b': 'HD 156411',\n",
       " 'HD 156846 b': 'HD 156846',\n",
       " 'HD 158038 b': 'HD 158038',\n",
       " 'HD 158996 b': 'HD 158996',\n",
       " 'HD 161178 b': 'HD 161178',\n",
       " 'HD 16141 b': 'HD 16141',\n",
       " 'HD 16175 b': 'HD 16175',\n",
       " 'HD 162020 b': 'HD 162020',\n",
       " 'HD 16417 b': 'HD 16417',\n",
       " 'HD 164509 b': 'HD 164509',\n",
       " 'HD 164595 b': 'HD 164595',\n",
       " 'HD 164604 b': 'HD 164604',\n",
       " 'HD 165131 b': 'HD 165131',\n",
       " 'HD 165155 b': 'HD 165155',\n",
       " 'HD 1666 b': 'HD 1666',\n",
       " 'HD 166724 b': 'HD 166724',\n",
       " 'HD 167042 b': 'HD 167042',\n",
       " 'HD 167677 b': 'HD 167677',\n",
       " 'HD 167768 b': 'HD 167768',\n",
       " 'HD 168009 b': 'HD 168009',\n",
       " 'HD 168746 b': 'HD 168746',\n",
       " 'HD 168863 b': 'HD 168863',\n",
       " 'HD 1690 b': 'HD 1690',\n",
       " 'HD 16905 b': 'HD 16905',\n",
       " 'HD 169142 b': 'HD 169142',\n",
       " 'HD 170469 b': 'HD 170469',\n",
       " 'HD 17092 b': 'HD 17092',\n",
       " 'HD 171028 b': 'HD 171028',\n",
       " 'HD 171238 b': 'HD 171238',\n",
       " 'HD 17156 b': 'HD 17156',\n",
       " 'HD 173416 b': 'HD 173416',\n",
       " 'HD 174205 b': 'HD 174205',\n",
       " 'HD 175167 b': 'HD 175167',\n",
       " 'HD 175541 b': 'HD 175541',\n",
       " 'HD 175607 b': 'HD 175607',\n",
       " 'HD 17674 b': 'HD 17674',\n",
       " 'HD 177565 b': 'HD 177565',\n",
       " 'HD 178911 B b': 'HD 178911 B',\n",
       " 'HD 179079 b': 'HD 179079',\n",
       " 'HD 179949 b': 'HD 179949',\n",
       " 'HD 180053 b': 'HD 180053',\n",
       " 'HD 18015 b': 'HD 18015',\n",
       " 'HD 180314 b': 'HD 180314',\n",
       " 'HD 180617 b': 'HD 180617',\n",
       " 'HD 180902 b': 'HD 180902',\n",
       " 'HD 181234 b': 'HD 181234',\n",
       " 'HD 181342 b': 'HD 181342',\n",
       " 'HD 181720 b': 'HD 181720',\n",
       " 'HD 183579 b': 'HD 183579',\n",
       " 'HD 18438 b': 'HD 18438',\n",
       " 'HD 185269 b': 'HD 185269',\n",
       " 'HD 185283 b': 'HD 185283',\n",
       " 'HD 18599 b': 'HD 18599',\n",
       " 'HD 187085 b': 'HD 187085',\n",
       " 'HD 18742 b': 'HD 18742',\n",
       " 'HD 188015 b': 'HD 188015',\n",
       " 'HD 188641 b': 'HD 188641',\n",
       " 'HD 189733 b': 'HD 189733',\n",
       " 'HD 190007 b': 'HD 190007',\n",
       " 'HD 190228 b': 'HD 190228',\n",
       " 'HD 190647 b': 'HD 190647',\n",
       " 'HD 190984 b': 'HD 190984',\n",
       " 'HD 191806 b': 'HD 191806',\n",
       " 'HD 192263 b': 'HD 192263',\n",
       " 'HD 192699 b': 'HD 192699',\n",
       " 'HD 194490 b': 'HD 194490',\n",
       " 'HD 195019 b': 'HD 195019',\n",
       " 'HD 196050 b': 'HD 196050',\n",
       " 'HD 196067 b': 'HD 196067',\n",
       " 'HD 19615 b': 'HD 19615',\n",
       " 'HD 196885 A b': 'HD 196885 A',\n",
       " 'HD 197037 b': 'HD 197037',\n",
       " 'HD 199509 b': 'HD 199509',\n",
       " 'HD 19994 b': 'HD 19994',\n",
       " 'HD 202206 c': 'HD 202206',\n",
       " 'HD 202772 A b': 'HD 202772 A',\n",
       " 'HD 203030 b': 'HD 203030',\n",
       " 'HD 20329 b': 'HD 20329',\n",
       " 'HD 2039 b': 'HD 2039',\n",
       " 'HD 204941 b': 'HD 204941',\n",
       " 'HD 205158 b': 'HD 205158',\n",
       " 'HD 205739 b': 'HD 205739',\n",
       " 'HD 206255 b': 'HD 206255',\n",
       " 'HD 206610 b': 'HD 206610',\n",
       " 'HD 207496 b': 'HD 207496',\n",
       " 'HD 20782 b': 'HD 20782',\n",
       " 'HD 207897 b': 'HD 207897',\n",
       " 'HD 208487 b': 'HD 208487',\n",
       " 'HD 208527 b': 'HD 208527',\n",
       " 'HD 20868 b': 'HD 20868',\n",
       " 'HD 208897 b': 'HD 208897',\n",
       " 'HD 209458 b': 'HD 209458',\n",
       " 'HD 210193 b': 'HD 210193',\n",
       " 'HD 210277 b': 'HD 210277',\n",
       " 'HD 210702 b': 'HD 210702',\n",
       " 'HD 211403 b': 'HD 211403',\n",
       " 'HD 211810 b': 'HD 211810',\n",
       " 'HD 211970 b': 'HD 211970',\n",
       " 'HD 212301 b': 'HD 212301',\n",
       " 'HD 212771 b': 'HD 212771',\n",
       " 'HD 213240 b': 'HD 213240',\n",
       " 'HD 213472 b': 'HD 213472',\n",
       " 'HD 213519 b': 'HD 213519',\n",
       " 'HD 21411 b': 'HD 21411',\n",
       " 'HD 214823 b': 'HD 214823',\n",
       " 'HD 216435 b': 'HD 216435',\n",
       " 'HD 216437 b': 'HD 216437',\n",
       " 'HD 216536 b': 'HD 216536',\n",
       " 'HD 216770 b': 'HD 216770',\n",
       " 'HD 217958 b': 'HD 217958',\n",
       " 'HD 218566 b': 'HD 218566',\n",
       " 'HD 219077 b': 'HD 219077',\n",
       " 'HD 219139 b': 'HD 219139',\n",
       " 'HD 219415 b': 'HD 219415',\n",
       " 'HD 219666 b': 'HD 219666',\n",
       " 'HD 220074 b': 'HD 220074',\n",
       " 'HD 220197 b': 'HD 220197',\n",
       " 'HD 220689 b': 'HD 220689',\n",
       " 'HD 220773 b': 'HD 220773',\n",
       " 'HD 220842 b': 'HD 220842',\n",
       " 'HD 221287 b': 'HD 221287',\n",
       " 'HD 221416 b': 'HD 221416',\n",
       " 'HD 221420 b': 'HD 221420',\n",
       " 'HD 221585 b': 'HD 221585',\n",
       " 'HD 222076 b': 'HD 222076',\n",
       " 'HD 222155 b': 'HD 222155',\n",
       " 'HD 222582 b': 'HD 222582',\n",
       " 'HD 224538 b': 'HD 224538',\n",
       " 'HD 224693 b': 'HD 224693',\n",
       " 'HD 22496 b': 'HD 22496',\n",
       " 'HD 22532 b': 'HD 22532',\n",
       " 'HD 22781 b': 'HD 22781',\n",
       " 'HD 23079 b': 'HD 23079',\n",
       " 'HD 23127 b': 'HD 23127',\n",
       " 'HD 231701 b': 'HD 231701',\n",
       " 'HD 233604 b': 'HD 233604',\n",
       " 'HD 233832 b': 'HD 233832',\n",
       " 'HD 235088 b': 'HD 235088',\n",
       " 'HD 23596 b': 'HD 23596',\n",
       " 'HD 238090 b': 'HD 238090',\n",
       " 'HD 238914 b': 'HD 238914',\n",
       " 'HD 240210 b': 'HD 240210',\n",
       " 'HD 240237 b': 'HD 240237',\n",
       " 'HD 24064 b': 'HD 24064',\n",
       " 'HD 24085 b': 'HD 24085',\n",
       " 'HD 25015 b': 'HD 25015',\n",
       " 'HD 25171 b': 'HD 25171',\n",
       " 'HD 25723 b': 'HD 25723',\n",
       " 'HD 26161 b': 'HD 26161',\n",
       " 'HD 2638 b': 'HD 2638',\n",
       " 'HD 2685 b': 'HD 2685',\n",
       " 'HD 26965 b': 'HD 26965',\n",
       " 'HD 27442 b': 'HD 27442',\n",
       " 'HD 27631 b': 'HD 27631',\n",
       " 'HD 27969 b': 'HD 27969',\n",
       " 'HD 28192 b': 'HD 28192',\n",
       " 'HD 28254 b': 'HD 28254',\n",
       " 'HD 285507 b': 'HD 285507',\n",
       " 'HD 285968 b': 'HD 285968',\n",
       " 'HD 28678 b': 'HD 28678',\n",
       " 'HD 29021 b': 'HD 29021',\n",
       " 'HD 290327 b': 'HD 290327',\n",
       " 'HD 29399 b': 'HD 29399',\n",
       " 'HD 2952 b': 'HD 2952',\n",
       " 'HD 29985 b': 'HD 29985',\n",
       " 'HD 30562 b': 'HD 30562',\n",
       " 'HD 30669 b': 'HD 30669',\n",
       " 'HD 30856 b': 'HD 30856',\n",
       " 'HD 31253 b': 'HD 31253',\n",
       " 'HD 32518 b': 'HD 32518',\n",
       " 'HD 32963 b': 'HD 32963',\n",
       " 'HD 330075 b': 'HD 330075',\n",
       " 'HD 331093 b': 'HD 331093',\n",
       " 'HD 332231 b': 'HD 332231',\n",
       " 'HD 33283 b': 'HD 33283',\n",
       " 'HD 33564 b': 'HD 33564',\n",
       " 'HD 35759 b': 'HD 35759',\n",
       " 'HD 360 b': 'HD 360',\n",
       " 'HD 36384 b': 'HD 36384',\n",
       " 'HD 3651 b': 'HD 3651',\n",
       " 'HD 3765 b': 'HD 3765',\n",
       " 'HD 38283 b': 'HD 38283',\n",
       " 'HD 38801 b': 'HD 38801',\n",
       " 'HD 39855 b': 'HD 39855',\n",
       " 'HD 40956 b': 'HD 40956',\n",
       " 'HD 40979 b': 'HD 40979',\n",
       " 'HD 41004 A b': 'HD 41004 A',\n",
       " 'HD 41004 B b': 'HD 41004 B',\n",
       " 'HD 4113 b': 'HD 4113',\n",
       " 'HD 42012 b': 'HD 42012',\n",
       " 'HD 4208 b': 'HD 4208',\n",
       " 'HD 42618 b': 'HD 42618',\n",
       " 'HD 4308 b': 'HD 4308',\n",
       " 'HD 4313 b': 'HD 4313',\n",
       " 'HD 43691 b': 'HD 43691',\n",
       " 'HD 44219 b': 'HD 44219',\n",
       " 'HD 45350 b': 'HD 45350',\n",
       " 'HD 45652 b': 'HD 45652',\n",
       " 'HD 457 b': 'HD 457',\n",
       " 'HD 46375 b': 'HD 46375',\n",
       " 'HD 47536 b': 'HD 47536',\n",
       " 'HD 4760 b': 'HD 4760',\n",
       " 'HD 48265 b': 'HD 48265',\n",
       " 'HD 4917 b': 'HD 4917',\n",
       " 'HD 49674 b': 'HD 49674',\n",
       " 'HD 50554 b': 'HD 50554',\n",
       " 'HD 52265 b': 'HD 52265',\n",
       " 'HD 55696 b': 'HD 55696',\n",
       " 'HD 5583 b': 'HD 5583',\n",
       " 'HD 5608 b': 'HD 5608',\n",
       " 'HD 564 b': 'HD 564',\n",
       " 'HD 56414 b': 'HD 56414',\n",
       " 'HD 56957 b': 'HD 56957',\n",
       " 'HD 5891 b': 'HD 5891',\n",
       " 'HD 59686 A b': 'HD 59686 A',\n",
       " 'HD 60292 b': 'HD 60292',\n",
       " 'HD 62509 b': 'HD 62509',\n",
       " 'HD 62549 b': 'HD 62549',\n",
       " 'HD 63454 b': 'HD 63454',\n",
       " 'HD 63765 b': 'HD 63765',\n",
       " 'HD 64114 b': 'HD 64114',\n",
       " 'HD 64121 b': 'HD 64121',\n",
       " 'HD 6434 b': 'HD 6434',\n",
       " 'HD 66141 b': 'HD 66141',\n",
       " 'HD 6718 b': 'HD 6718',\n",
       " 'HD 68402 b': 'HD 68402',\n",
       " 'HD 6860 b': 'HD 6860',\n",
       " 'HD 69123 b': 'HD 69123',\n",
       " 'HD 70573 b': 'HD 70573',\n",
       " 'HD 70642 b': 'HD 70642',\n",
       " 'HD 7199 b': 'HD 7199',\n",
       " 'HD 72490 b': 'HD 72490',\n",
       " 'HD 72892 b': 'HD 72892',\n",
       " 'HD 73256 c': 'HD 73256',\n",
       " 'HD 73534 b': 'HD 73534',\n",
       " 'HD 7449 b': 'HD 7449',\n",
       " 'HD 75289 b': 'HD 75289',\n",
       " 'HD 75302 b': 'HD 75302',\n",
       " 'HD 75898 b': 'HD 75898',\n",
       " 'HD 76700 b': 'HD 76700',\n",
       " 'HD 76920 b': 'HD 76920',\n",
       " 'HD 77338 b': 'HD 77338',\n",
       " 'HD 77946 b': 'HD 77946',\n",
       " 'HD 79181 b': 'HD 79181',\n",
       " 'HD 79498 b': 'HD 79498',\n",
       " 'HD 80606 b': 'HD 80606',\n",
       " 'HD 80869 b': 'HD 80869',\n",
       " 'HD 80883 b': 'HD 80883',\n",
       " 'HD 80913 b': 'HD 80913',\n",
       " 'HD 81040 b': 'HD 81040',\n",
       " 'HD 81688 b': 'HD 81688',\n",
       " 'HD 82886 b': 'HD 82886',\n",
       " 'HD 8326 b': 'HD 8326',\n",
       " 'HD 8535 b': 'HD 8535',\n",
       " 'HD 85390 b': 'HD 85390',\n",
       " 'HD 85512 b': 'HD 85512',\n",
       " 'HD 8574 b': 'HD 8574',\n",
       " 'HD 86065 b': 'HD 86065',\n",
       " 'HD 86081 b': 'HD 86081',\n",
       " 'HD 86264 b': 'HD 86264',\n",
       " 'HD 8673 b': 'HD 8673',\n",
       " 'HD 86950 b': 'HD 86950',\n",
       " 'HD 87646 b': 'HD 87646',\n",
       " 'HD 87883 b': 'HD 87883',\n",
       " 'HD 88072 b': 'HD 88072',\n",
       " 'HD 88133 b': 'HD 88133',\n",
       " 'HD 88986 b': 'HD 88986',\n",
       " 'HD 89307 b': 'HD 89307',\n",
       " 'HD 89345 b': 'HD 89345',\n",
       " 'HD 89744 b': 'HD 89744',\n",
       " 'HD 89839 b': 'HD 89839',\n",
       " 'HD 90156 b': 'HD 90156',\n",
       " 'HD 9174 b': 'HD 9174',\n",
       " 'HD 93083 b': 'HD 93083',\n",
       " 'HD 94771 b': 'HD 94771',\n",
       " 'HD 94834 b': 'HD 94834',\n",
       " 'HD 95086 b': 'HD 95086',\n",
       " 'HD 95127 b': 'HD 95127',\n",
       " 'HD 95338 b': 'HD 95338',\n",
       " 'HD 95544 b': 'HD 95544',\n",
       " 'HD 95872 b': 'HD 95872',\n",
       " 'HD 96063 b': 'HD 96063',\n",
       " 'HD 96127 b': 'HD 96127',\n",
       " 'HD 96167 b': 'HD 96167',\n",
       " 'HD 96992 b': 'HD 96992',\n",
       " 'HD 97037 b': 'HD 97037',\n",
       " 'HD 97048 b': 'HD 97048',\n",
       " 'HD 97658 b': 'HD 97658',\n",
       " 'HD 98219 b': 'HD 98219',\n",
       " 'HD 98649 b': 'HD 98649',\n",
       " 'HD 98736 b': 'HD 98736',\n",
       " 'HD 99109 b': 'HD 99109',\n",
       " 'HD 99283 b': 'HD 99283',\n",
       " 'HIP 105854 b': 'HIP 105854',\n",
       " 'HIP 107772 b': 'HIP 107772',\n",
       " 'HIP 107773 b': 'HIP 107773',\n",
       " 'HIP 109384 b': 'HIP 109384',\n",
       " 'HIP 109600 b': 'HIP 109600',\n",
       " 'HIP 114933 b': 'HIP 114933',\n",
       " 'HIP 116454 b': 'HIP 116454',\n",
       " 'HIP 12961 b': 'HIP 12961',\n",
       " 'HIP 19976 b': 'HIP 19976',\n",
       " 'HIP 21152 b': 'HIP 21152',\n",
       " 'HIP 34222 b': 'HIP 34222',\n",
       " 'HIP 35173 b': 'HIP 35173',\n",
       " 'HIP 35965 b': 'HIP 35965',\n",
       " 'HIP 4845 b': 'HIP 4845',\n",
       " 'HIP 48714 b': 'HIP 48714',\n",
       " 'HIP 54597 b': 'HIP 54597',\n",
       " 'HIP 55507 b': 'HIP 55507',\n",
       " 'HIP 56640 b': 'HIP 56640',\n",
       " 'HIP 5763 b': 'HIP 5763',\n",
       " 'HIP 63242 b': 'HIP 63242',\n",
       " 'HIP 65 A b': 'HIP 65 A',\n",
       " 'HIP 65426 b': 'HIP 65426',\n",
       " 'HIP 65891 b': 'HIP 65891',\n",
       " 'HIP 66074 b': 'HIP 66074',\n",
       " 'HIP 67522 b': 'HIP 67522',\n",
       " 'HIP 67537 b': 'HIP 67537',\n",
       " 'HIP 70849 b': 'HIP 70849',\n",
       " 'HIP 71135 b': 'HIP 71135',\n",
       " 'HIP 74890 b': 'HIP 74890',\n",
       " 'HIP 75092 b': 'HIP 75092',\n",
       " 'HIP 78530 b': 'HIP 78530',\n",
       " 'HIP 79098 AB b': 'HIP 79098 AB',\n",
       " 'HIP 79431 b': 'HIP 79431',\n",
       " 'HIP 81208 C b': 'HIP 81208 C',\n",
       " 'HIP 86221 b': 'HIP 86221',\n",
       " 'HIP 90988 b': 'HIP 90988',\n",
       " 'HIP 91258 b': 'HIP 91258',\n",
       " 'HIP 94235 b': 'HIP 94235',\n",
       " 'HIP 948 b': 'HIP 948',\n",
       " 'HIP 97233 b': 'HIP 97233',\n",
       " 'HIP 99770 b': 'HIP 99770',\n",
       " 'HN Lib b': 'HN Lib',\n",
       " 'HN Peg b': 'HN Peg',\n",
       " 'HR 2562 b': 'HR 2562',\n",
       " 'HR 5183 b': 'HR 5183',\n",
       " 'HR 810 b': 'HR 810',\n",
       " 'HS Psc b': 'HS Psc',\n",
       " 'IC 4651 9122 b': 'IC 4651 9122',\n",
       " 'K2-10 b': 'K2-10',\n",
       " 'K2-100 b': 'K2-100',\n",
       " 'K2-101 b': 'K2-101',\n",
       " 'K2-102 b': 'K2-102',\n",
       " 'K2-104 b': 'K2-104',\n",
       " 'K2-105 b': 'K2-105',\n",
       " 'K2-107 b': 'K2-107',\n",
       " 'K2-108 b': 'K2-108',\n",
       " 'K2-11 b': 'K2-11',\n",
       " 'K2-110 b': 'K2-110',\n",
       " 'K2-113 b': 'K2-113',\n",
       " 'K2-114 b': 'K2-114',\n",
       " 'K2-115 b': 'K2-115',\n",
       " 'K2-116 b': 'K2-116',\n",
       " 'K2-118 b': 'K2-118',\n",
       " 'K2-119 b': 'K2-119',\n",
       " 'K2-12 b': 'K2-12',\n",
       " 'K2-120 b': 'K2-120',\n",
       " 'K2-121 b': 'K2-121',\n",
       " 'K2-122 b': 'K2-122',\n",
       " 'K2-123 b': 'K2-123',\n",
       " 'K2-124 b': 'K2-124',\n",
       " 'K2-125 b': 'K2-125',\n",
       " 'K2-126 b': 'K2-126',\n",
       " 'K2-127 b': 'K2-127',\n",
       " 'K2-128 b': 'K2-128',\n",
       " 'K2-129 b': 'K2-129',\n",
       " 'K2-13 b': 'K2-13',\n",
       " 'K2-130 b': 'K2-130',\n",
       " 'K2-131 b': 'K2-131',\n",
       " 'K2-132 b': 'K2-132',\n",
       " 'K2-137 b': 'K2-137',\n",
       " 'K2-139 b': 'K2-139',\n",
       " 'K2-14 b': 'K2-14',\n",
       " 'K2-140 b': 'K2-140',\n",
       " 'K2-147 b': 'K2-147',\n",
       " 'K2-149 b': 'K2-149',\n",
       " 'K2-15 b': 'K2-15',\n",
       " 'K2-150 b': 'K2-150',\n",
       " 'K2-151 b': 'K2-151',\n",
       " 'K2-152 b': 'K2-152',\n",
       " 'K2-153 b': 'K2-153',\n",
       " 'K2-156 b': 'K2-156',\n",
       " 'K2-157 b': 'K2-157',\n",
       " 'K2-159 b': 'K2-159',\n",
       " 'K2-160 b': 'K2-160',\n",
       " 'K2-161 b': 'K2-161',\n",
       " 'K2-162 b': 'K2-162',\n",
       " 'K2-163 b': 'K2-163',\n",
       " 'K2-164 b': 'K2-164',\n",
       " 'K2-167 b': 'K2-167',\n",
       " 'K2-169 b': 'K2-169',\n",
       " 'K2-17 b': 'K2-17',\n",
       " 'K2-171 b': 'K2-171',\n",
       " 'K2-173 b': 'K2-173',\n",
       " 'K2-174 b': 'K2-174',\n",
       " 'K2-175 b': 'K2-175',\n",
       " 'K2-176 b': 'K2-176',\n",
       " 'K2-177 b': 'K2-177',\n",
       " 'K2-178 b': 'K2-178',\n",
       " 'K2-179 b': 'K2-179',\n",
       " 'K2-180 b': 'K2-180',\n",
       " 'K2-181 b': 'K2-181',\n",
       " 'K2-182 b': 'K2-182',\n",
       " 'K2-184 b': 'K2-184',\n",
       " 'K2-186 b': 'K2-186',\n",
       " 'K2-191 b': 'K2-191',\n",
       " 'K2-192 b': 'K2-192',\n",
       " 'K2-193 b': 'K2-193',\n",
       " 'K2-194 b': 'K2-194',\n",
       " 'K2-196 b': 'K2-196',\n",
       " 'K2-197 b': 'K2-197',\n",
       " 'K2-200 b': 'K2-200',\n",
       " 'K2-2016-BLG-0005L b': 'K2-2016-BLG-0005L',\n",
       " 'K2-202 b': 'K2-202',\n",
       " 'K2-203 b': 'K2-203',\n",
       " 'K2-204 b': 'K2-204',\n",
       " 'K2-205 b': 'K2-205',\n",
       " 'K2-206 b': 'K2-206',\n",
       " 'K2-207 b': 'K2-207',\n",
       " 'K2-208 b': 'K2-208',\n",
       " 'K2-209 b': 'K2-209',\n",
       " 'K2-210 b': 'K2-210',\n",
       " 'K2-211 b': 'K2-211',\n",
       " 'K2-212 b': 'K2-212',\n",
       " 'K2-213 b': 'K2-213',\n",
       " 'K2-214 b': 'K2-214',\n",
       " 'K2-215 b': 'K2-215',\n",
       " 'K2-216 b': 'K2-216',\n",
       " 'K2-217 b': 'K2-217',\n",
       " 'K2-218 b': 'K2-218',\n",
       " 'K2-22 b': 'K2-22',\n",
       " 'K2-220 b': 'K2-220',\n",
       " 'K2-221 b': 'K2-221',\n",
       " 'K2-222 b': 'K2-222',\n",
       " 'K2-225 b': 'K2-225',\n",
       " 'K2-226 b': 'K2-226',\n",
       " 'K2-227 b': 'K2-227',\n",
       " 'K2-228 b': 'K2-228',\n",
       " 'K2-230 b': 'K2-230',\n",
       " 'K2-231 b': 'K2-231',\n",
       " 'K2-232 b': 'K2-232',\n",
       " 'K2-237 b': 'K2-237',\n",
       " 'K2-238 b': 'K2-238',\n",
       " 'K2-241 b': 'K2-241',\n",
       " 'K2-242 b': 'K2-242',\n",
       " 'K2-244 b': 'K2-244',\n",
       " 'K2-245 b': 'K2-245',\n",
       " 'K2-246 b': 'K2-246',\n",
       " 'K2-248 b': 'K2-248',\n",
       " 'K2-249 b': 'K2-249',\n",
       " 'K2-25 b': 'K2-25',\n",
       " 'K2-250 b': 'K2-250',\n",
       " 'K2-251 b': 'K2-251',\n",
       " 'K2-252 b': 'K2-252',\n",
       " 'K2-253 b': 'K2-253',\n",
       " 'K2-255 b': 'K2-255',\n",
       " 'K2-256 b': 'K2-256',\n",
       " 'K2-257 b': 'K2-257',\n",
       " 'K2-258 b': 'K2-258',\n",
       " 'K2-259 b': 'K2-259',\n",
       " 'K2-26 b': 'K2-26',\n",
       " 'K2-260 b': 'K2-260',\n",
       " 'K2-261 b': 'K2-261',\n",
       " 'K2-263 b': 'K2-263',\n",
       " 'K2-265 b': 'K2-265',\n",
       " 'K2-269 b': 'K2-269',\n",
       " 'K2-27 b': 'K2-27',\n",
       " 'K2-271 b': 'K2-271',\n",
       " 'K2-272 b': 'K2-272',\n",
       " 'K2-273 b': 'K2-273',\n",
       " 'K2-274 b': 'K2-274',\n",
       " 'K2-276 b': 'K2-276',\n",
       " 'K2-277 b': 'K2-277',\n",
       " 'K2-278 b': 'K2-278',\n",
       " 'K2-279 b': 'K2-279',\n",
       " 'K2-28 b': 'K2-28',\n",
       " 'K2-280 b': 'K2-280',\n",
       " 'K2-281 b': 'K2-281',\n",
       " 'K2-283 b': 'K2-283',\n",
       " 'K2-284 b': 'K2-284',\n",
       " 'K2-286 b': 'K2-286',\n",
       " 'K2-287 b': 'K2-287',\n",
       " 'K2-288 B b': 'K2-288 B',\n",
       " 'K2-289 b': 'K2-289',\n",
       " 'K2-29 b': 'K2-29',\n",
       " 'K2-291 b': 'K2-291',\n",
       " 'K2-292 b': 'K2-292',\n",
       " 'K2-293 b': 'K2-293',\n",
       " 'K2-294 b': 'K2-294',\n",
       " 'K2-295 b': 'K2-295',\n",
       " 'K2-30 b': 'K2-30',\n",
       " 'K2-308 b': 'K2-308',\n",
       " 'K2-31 b': 'K2-31',\n",
       " 'K2-315 b': 'K2-315',\n",
       " 'K2-317 b': 'K2-317',\n",
       " 'K2-318 b': 'K2-318',\n",
       " 'K2-319 b': 'K2-319',\n",
       " 'K2-320 b': 'K2-320',\n",
       " 'K2-321 b': 'K2-321',\n",
       " 'K2-322 b': 'K2-322',\n",
       " 'K2-323 b': 'K2-323',\n",
       " 'K2-324 b': 'K2-324',\n",
       " 'K2-325 b': 'K2-325',\n",
       " 'K2-326 b': 'K2-326',\n",
       " 'K2-329 b': 'K2-329',\n",
       " 'K2-33 b': 'K2-33',\n",
       " 'K2-330 b': 'K2-330',\n",
       " 'K2-332 b': 'K2-332',\n",
       " 'K2-333 b': 'K2-333',\n",
       " 'K2-334 b': 'K2-334',\n",
       " 'K2-335 b': 'K2-335',\n",
       " 'K2-336 b': 'K2-336',\n",
       " 'K2-337 b': 'K2-337',\n",
       " 'K2-338 b': 'K2-338',\n",
       " 'K2-339 b': 'K2-339',\n",
       " 'K2-34 b': 'K2-34',\n",
       " 'K2-340 b': 'K2-340',\n",
       " 'K2-341 b': 'K2-341',\n",
       " 'K2-342 b': 'K2-342',\n",
       " 'K2-344 b': 'K2-344',\n",
       " 'K2-345 b': 'K2-345',\n",
       " 'K2-346 b': 'K2-346',\n",
       " 'K2-347 b': 'K2-347',\n",
       " 'K2-349 b': 'K2-349',\n",
       " 'K2-351 b': 'K2-351',\n",
       " 'K2-353 b': 'K2-353',\n",
       " 'K2-354 b': 'K2-354',\n",
       " 'K2-355 b': 'K2-355',\n",
       " 'K2-356 b': 'K2-356',\n",
       " 'K2-357 b': 'K2-357',\n",
       " 'K2-358 b': 'K2-358',\n",
       " 'K2-365 b': 'K2-365',\n",
       " 'K2-366 b': 'K2-366',\n",
       " 'K2-367 b': 'K2-367',\n",
       " 'K2-369 b': 'K2-369',\n",
       " 'K2-370 b': 'K2-370',\n",
       " 'K2-371 b': 'K2-371',\n",
       " 'K2-372 b': 'K2-372',\n",
       " 'K2-373 b': 'K2-373',\n",
       " 'K2-375 b': 'K2-375',\n",
       " 'K2-376 b': 'K2-376',\n",
       " 'K2-377 b': 'K2-377',\n",
       " 'K2-378 b': 'K2-378',\n",
       " 'K2-379 b': 'K2-379',\n",
       " 'K2-380 b': 'K2-380',\n",
       " 'K2-382 b': 'K2-382',\n",
       " 'K2-383 b': 'K2-383',\n",
       " 'K2-385 b': 'K2-385',\n",
       " 'K2-386 b': 'K2-386',\n",
       " 'K2-387 b': 'K2-387',\n",
       " 'K2-388 b': 'K2-388',\n",
       " 'K2-39 b': 'K2-39',\n",
       " 'K2-390 b': 'K2-390',\n",
       " 'K2-391 b': 'K2-391',\n",
       " 'K2-392 b': 'K2-392',\n",
       " 'K2-393 b': 'K2-393',\n",
       " 'K2-394 b': 'K2-394',\n",
       " 'K2-397 b': 'K2-397',\n",
       " 'K2-399 b': 'K2-399',\n",
       " 'K2-4 b': 'K2-4',\n",
       " 'K2-400 b': 'K2-400',\n",
       " 'K2-401 b': 'K2-401',\n",
       " 'K2-402 b': 'K2-402',\n",
       " 'K2-403 b': 'K2-403',\n",
       " 'K2-404 b': 'K2-404',\n",
       " 'K2-405 b': 'K2-405',\n",
       " 'K2-406 b': 'K2-406',\n",
       " 'K2-408 b': 'K2-408',\n",
       " 'K2-409 b': 'K2-409',\n",
       " 'K2-411 b': 'K2-411',\n",
       " 'K2-412 b': 'K2-412',\n",
       " 'K2-415 b': 'K2-415',\n",
       " 'K2-416 b': 'K2-416',\n",
       " 'K2-417 b': 'K2-417',\n",
       " 'K2-42 b': 'K2-42',\n",
       " 'K2-44 b': 'K2-44',\n",
       " 'K2-45 b': 'K2-45',\n",
       " 'K2-46 b': 'K2-46',\n",
       " 'K2-47 b': 'K2-47',\n",
       " 'K2-48 b': 'K2-48',\n",
       " 'K2-49 b': 'K2-49',\n",
       " 'K2-52 b': 'K2-52',\n",
       " ...}"
      ]
     },
     "execution_count": 126,
     "metadata": {},
     "output_type": "execute_result"
    }
   ],
   "source": [
    "# now use the read_json function to read 'mapping_1.json' into the variable mapping_1_json\n",
    "def read_json(path):\n",
    "    with open(path, encoding=\"utf-8\") as f:\n",
    "        return json.load(f)\n",
    "        \n",
    "mapping_1_json = read_json(os.path.join(\"data\", \"mapping_1.json\"))\n",
    "\n",
    "mapping_1_json"
   ]
  },
  {
   "cell_type": "code",
   "execution_count": 127,
   "id": "872d9b4b-e40f-41a2-b1f4-25a33eeb74c8",
   "metadata": {
    "deletable": false,
    "editable": true,
    "scrolled": true,
    "slideshow": {
     "slide_type": ""
    },
    "tags": []
   },
   "outputs": [
    {
     "name": "stdout",
     "output_type": "stream",
     "text": [
      "Make sure you saved the notebook before running this cell. Running check for Read-in-mapping1...\n",
      "Great job! You passed all test cases for this question.\n"
     ]
    },
    {
     "data": {
      "text/plain": [
       "True"
      ]
     },
     "execution_count": 127,
     "metadata": {},
     "output_type": "execute_result"
    }
   ],
   "source": [
    "student_grader.check(\"Read-in-mapping1\", should_get_llm_feedback=False)"
   ]
  },
  {
   "cell_type": "markdown",
   "id": "8955eb23-a623-4552-ba66-213670ab2061",
   "metadata": {
    "deletable": false,
    "editable": false,
    "slideshow": {
     "slide_type": ""
    },
    "tags": []
   },
   "source": [
    "#### Question 12: Create a `Planet` object for the **fifth** planet in the `planets_1.csv` file."
   ]
  },
  {
   "cell_type": "markdown",
   "id": "602ab644-ed41-4269-99c5-f27e84f25b96",
   "metadata": {
    "deletable": false,
    "editable": false,
    "slideshow": {
     "slide_type": ""
    },
    "tags": []
   },
   "source": [
    "You **must** access the values in `planets_1.csv` using the `planet_cell` function. Note that the fifth planet would be at **index** 4.\n",
    "\n",
    "The **attribute** of the `Planet` namedtuple object, the corresponding **column** of the `planets_1.csv` file where the value should be obtained from, and the correct **data type** for the value are listed in the table below:\n",
    "\n",
    "|Attribute of `Planet` object|Column of `planets_1.csv`|Data Type|\n",
    "|---------|------|---------|\n",
    "|`planet_name`|Planet Name|**string**|\n",
    "|`host_name`| - |**string**|\n",
    "|`discovery_method`|Discovery Method|**string**|\n",
    "|`discovery_year`|Discovery Year|**int**|\n",
    "|`controversial_flag`|Controversial Flag|**bool**|\n",
    "|`orbital_period`|Orbital Period [days]|**float**|\n",
    "|`planet_radius`|Planet Radius [Earth Radius]|**float**|\n",
    "|`planet_mass`|Planet Mass [Earth Mass]|**float**|\n",
    "|`semi_major_radius`|Orbit Semi-Major Axis [au]|**float**|\n",
    "|`eccentricity`|Eccentricity|**float**|\n",
    "|`equilibrium_temperature`|Equilibrium Temperature [K]|**float**|\n",
    "|`insolation_flux`|Insolation Flux [Earth Flux]|**float**|\n",
    "\n",
    "\n",
    "The value of the `host_name` attribute is found in `mapping_1.json`."
   ]
  },
  {
   "cell_type": "markdown",
   "id": "8d1a7117-c469-45e9-aeb9-ac733363fc5a",
   "metadata": {
    "deletable": false,
    "editable": false,
    "slideshow": {
     "slide_type": ""
    },
    "tags": []
   },
   "source": [
    "Points possible: 4.0"
   ]
  },
  {
   "cell_type": "code",
   "execution_count": 128,
   "id": "6a2a9f4b-b0c0-4e7a-a388-fbd544f48cdc",
   "metadata": {
    "deletable": false,
    "editable": true,
    "slideshow": {
     "slide_type": ""
    },
    "tags": [
     "q12-code"
    ]
   },
   "outputs": [
    {
     "data": {
      "text/plain": [
       "Planet(planet_name='17 Sco b', host_name='17 Sco', discovery_method='Radial Velocity', discovery_year=2020, controversial_flag=False, orbital_period=578.38, planet_radius=12.9, planet_mass=1373.01872, semi_major_radius=1.45, eccentricity=0.06, equilibrium_temperature=None, insolation_flux=None)"
      ]
     },
     "execution_count": 128,
     "metadata": {},
     "output_type": "execute_result"
    }
   ],
   "source": [
    "# compute and store the answer in the variable 'fifth_planet', then display it\n",
    "fifth_planet = Planet(\n",
    "    planet_name = planet_cell(4, 'Planet Name', planets_1_rows), \\\n",
    "    host_name = mapping_1_json.get(planet_cell(4, 'Planet Name', planets_1_rows), None), \\\n",
    "    discovery_method = planet_cell(4, 'Discovery Method', planets_1_rows), \\\n",
    "    discovery_year = planet_cell(4, 'Discovery Year', planets_1_rows), \\\n",
    "    controversial_flag = planet_cell(4, 'Controversial Flag', planets_1_rows), \\\n",
    "    orbital_period = planet_cell(4, 'Orbital Period [days]', planets_1_rows), \\\n",
    "    planet_radius = planet_cell(4, 'Planet Radius [Earth Radius]', planets_1_rows), \\\n",
    "    planet_mass = planet_cell(4, 'Planet Mass [Earth Mass]', planets_1_rows), \\\n",
    "    semi_major_radius = planet_cell(4, 'Orbit Semi-Major Axis [au]', planets_1_rows), \\\n",
    "    eccentricity = planet_cell(4, 'Eccentricity', planets_1_rows), \\\n",
    "    equilibrium_temperature = planet_cell(4, 'Equilibrium Temperature [K]', planets_1_rows), \\\n",
    "    insolation_flux = planet_cell(4, 'Insolation Flux [Earth Flux]', planets_1_rows), \\\n",
    ")\n",
    "fifth_planet"
   ]
  },
  {
   "cell_type": "code",
   "execution_count": 129,
   "id": "b0f6a604-603a-472a-a577-75d47137e107",
   "metadata": {
    "deletable": false,
    "editable": true,
    "scrolled": true,
    "slideshow": {
     "slide_type": ""
    },
    "tags": []
   },
   "outputs": [
    {
     "name": "stdout",
     "output_type": "stream",
     "text": [
      "Make sure you saved the notebook before running this cell. Running check for q12...\n",
      "Great job! You passed all test cases for this question.\n"
     ]
    },
    {
     "data": {
      "text/plain": [
       "True"
      ]
     },
     "execution_count": 129,
     "metadata": {},
     "output_type": "execute_result"
    }
   ],
   "source": [
    "student_grader.check(\"q12\", should_get_llm_feedback=False)"
   ]
  },
  {
   "cell_type": "markdown",
   "id": "269510df-539b-474f-9be6-0516ccd4db8a",
   "metadata": {
    "deletable": false,
    "editable": false,
    "slideshow": {
     "slide_type": ""
    },
    "tags": []
   },
   "source": [
    "### Project Function 2: `get_planets(planet_file, mapping_file)`: "
   ]
  },
  {
   "cell_type": "markdown",
   "id": "c1e3b064-e025-425a-a91b-39c79f8d3b90",
   "metadata": {
    "deletable": false,
    "editable": false
   },
   "source": [
    "This function **must** take in as its input, a **path** to the CSV file `planet_file` which contains data on planets in the same format as `planets_1.csv`, as well as a **path** to the JSON file `mapping_file` which maps planets in `planet_file` to their host star in the same format as `mapping_1.json`. This function **must** return a **list** of `Planet` objects by combining the data in these two files. The `Planet` objects **must** appear in the same order as they do in `planet_file`.\n",
    "\n",
    "You **must** access the values in `planets_file` using the `planet_cell` function.\n",
    "\n",
    "You **must not** hardcode the name of the directory `data` into the `get_planets` function. Instead, you must pass it as a part of the arguments `planet_file` and `mapping_file`. In other words, if you want to parse the contents of the files `planets_5.csv` and `mapping_5.json`, your function call must **not** be: `get_planets(\"planets_5.csv\", \"mapping_5.json\")`. Instead, it must be:\n",
    "\n",
    "```python\n",
    "get_planets(os.path.join(\"data\", \"planets_5.csv\"), os.path.join(\"data\", \"mapping_5.json\"))\n",
    "```\n",
    "\n",
    "For example, when this function is called with the **paths** to the files `planets_1.csv` and `mapping_1.json` as the input, the **list** returned should look like:\n",
    "\n",
    "```python\n",
    "[ Planet(planet_name='11 Com b', host_name='11 Com', discovery_method='Radial Velocity', discovery_year=2007, controversial_flag=False, orbital_period=323.21, planet_radius=12.2, planet_mass=4914.89849, semi_major_radius=1.178, eccentricity=0.238, equilibrium_temperature=None, insolation_flux=None),\n",
    " Planet(planet_name='11 UMi b', host_name='11 UMi', discovery_method='Radial Velocity', discovery_year=2009, controversial_flag=False, orbital_period=516.21997, planet_radius=12.3, planet_mass=4684.8142, semi_major_radius=1.53, eccentricity=0.08, equilibrium_temperature=None, insolation_flux=None),\n",
    " ...]\n",
    "```"
   ]
  },
  {
   "cell_type": "markdown",
   "id": "f884c67c-33ec-4cd9-aded-6ecb2e834f6c",
   "metadata": {
    "deletable": false,
    "editable": false,
    "slideshow": {
     "slide_type": ""
    },
    "tags": []
   },
   "source": [
    "Points possible: 4.0"
   ]
  },
  {
   "cell_type": "code",
   "execution_count": 154,
   "id": "11fe55af-09cc-4929-b187-e05e16797c83",
   "metadata": {
    "deletable": false,
    "editable": true,
    "slideshow": {
     "slide_type": ""
    },
    "tags": [
     "get_planets-code"
    ]
   },
   "outputs": [],
   "source": [
    " # TODO: read planet_file to a list of lists\n",
    "    # TODO: extract the header and rows from planet_file\n",
    "    # TODO: read mapping_file to a dictionary\n",
    "    # TODO: loop through each row in planet_file with indices\n",
    "def get_planets(planet_file, mapping_file):\n",
    "    planets_list = []\n",
    "\n",
    "    planet_csv = process_csv(planet_file)\n",
    "    planet_header = planet_csv[0]\n",
    "    planet_rows = planet_csv[1:]\n",
    "\n",
    "    try:\n",
    "        mapping_json = read_json(mapping_file)\n",
    "        \n",
    "    except json.JSONDecodeError:\n",
    "        return planets_list\n",
    "        \n",
    "    # TODO: create a Planet object (namedTuple) for each row\n",
    "    # TODO: add each Planet objet to a list\n",
    "    # TODO: return the list after the end of the loop\n",
    "    for idx in range(len(planet_rows)):\n",
    "        try:\n",
    "            planet_name = planet_cell(idx, 'Planet Name', planet_rows)\n",
    "            host_name = mapping_json[planet_name]\n",
    "            discovery_method = planet_cell(idx, 'Discovery Method', planet_rows)\n",
    "            discovery_year = planet_cell(idx, 'Discovery Year', planet_rows)\n",
    "            controversial_flag = planet_cell(idx, 'Controversial Flag', planet_rows)\n",
    "            orbital_period = planet_cell(idx, 'Orbital Period [days]', planet_rows)\n",
    "            planet_radius = planet_cell(idx, 'Planet Radius [Earth Radius]', planet_rows)\n",
    "            planet_mass = planet_cell(idx, 'Planet Mass [Earth Mass]', planet_rows)\n",
    "            semi_major_radius = planet_cell(idx, 'Orbit Semi-Major Axis [au]', planet_rows)\n",
    "            eccentricity = planet_cell(idx, 'Eccentricity', planet_rows)\n",
    "            equilibrium_temperature = planet_cell(idx, 'Equilibrium Temperature [K]', planet_rows)\n",
    "            insolation_flux = planet_cell(idx, 'Insolation Flux [Earth Flux]', planet_rows)\n",
    "    \n",
    "            planet = Planet(planet_name, host_name, discovery_method, discovery_year,\\\n",
    "                    controversial_flag, orbital_period, planet_radius, planet_mass,\\\n",
    "                    semi_major_radius, eccentricity, equilibrium_temperature, insolation_flux)\n",
    "            \n",
    "            planets_list.append(planet)\n",
    "            \n",
    "        except ValueError:\n",
    "            continue\n",
    "\n",
    "        except IndexError:\n",
    "            continue\n",
    "\n",
    "        except KeyError:\n",
    "            continue\n",
    "\n",
    "    return planets_list"
   ]
  },
  {
   "cell_type": "code",
   "execution_count": 155,
   "id": "33d0f902-3cfd-4a89-ad14-7341810b3d5a",
   "metadata": {
    "deletable": false,
    "editable": true,
    "scrolled": true,
    "slideshow": {
     "slide_type": ""
    },
    "tags": []
   },
   "outputs": [
    {
     "name": "stdout",
     "output_type": "stream",
     "text": [
      "Make sure you saved the notebook before running this cell. Running check for get_planets...\n",
      "Great job! You passed all test cases for this question.\n"
     ]
    },
    {
     "data": {
      "text/plain": [
       "True"
      ]
     },
     "execution_count": 155,
     "metadata": {},
     "output_type": "execute_result"
    }
   ],
   "source": [
    "student_grader.check(\"get_planets\", should_get_llm_feedback=False)"
   ]
  },
  {
   "cell_type": "markdown",
   "id": "52bd63a3-d85b-45ee-a011-179cf7c7ca82",
   "metadata": {
    "deletable": false,
    "editable": false,
    "slideshow": {
     "slide_type": ""
    },
    "tags": []
   },
   "source": [
    "#### Question 13: What are the **last five** `Planet` objects in the **list** returned by `get_planets` when `planet_file` is `planets_1.csv` and `mapping_file` is `mapping_1.json`?"
   ]
  },
  {
   "cell_type": "markdown",
   "id": "0c1de6e3-bb82-4343-9391-430bb02d9e94",
   "metadata": {
    "deletable": false,
    "editable": false,
    "slideshow": {
     "slide_type": ""
    },
    "tags": []
   },
   "source": [
    "Your output **must** be a **list** of `Planet` objects.\n",
    "\n",
    "**Hint:** First, you **must** use the `get_planets` function to parse the data in `planets_1.csv` and `mapping_1.json` and create a **list** of `Planet` objects. Then, you may slice this **list** to get the last five `Planet` objects."
   ]
  },
  {
   "cell_type": "markdown",
   "id": "a9c6feb8-7f78-4fa9-8b43-350a36f8196a",
   "metadata": {
    "deletable": false,
    "editable": false,
    "slideshow": {
     "slide_type": ""
    },
    "tags": []
   },
   "source": [
    "Points possible: 4.0"
   ]
  },
  {
   "cell_type": "code",
   "execution_count": 156,
   "id": "30073fa6-827f-4aa4-b5d2-b47eb678ca91",
   "metadata": {
    "deletable": false,
    "editable": true,
    "slideshow": {
     "slide_type": ""
    },
    "tags": [
     "q13-code"
    ]
   },
   "outputs": [
    {
     "data": {
      "text/plain": [
       "[Planet(planet_name='Kepler-15 b', host_name='Kepler-15', discovery_method='Transit', discovery_year=2011, controversial_flag=False, orbital_period=4.942782, planet_radius=10.76, planet_mass=209.76, semi_major_radius=0.05714, eccentricity=0.06, equilibrium_temperature=1251.0, insolation_flux=430.68),\n",
       " Planet(planet_name='Kepler-1500 b', host_name='Kepler-1500', discovery_method='Transit', discovery_year=2016, controversial_flag=False, orbital_period=15.0330105, planet_radius=1.2, planet_mass=1.87, semi_major_radius=0.1236, eccentricity=0.0, equilibrium_temperature=928.0, insolation_flux=131.82),\n",
       " Planet(planet_name='Kepler-1501 b', host_name='Kepler-1501', discovery_method='Transit', discovery_year=2016, controversial_flag=False, orbital_period=14.5564533, planet_radius=1.56, planet_mass=3.05, semi_major_radius=0.1228, eccentricity=0.0, equilibrium_temperature=787.0, insolation_flux=100.0),\n",
       " Planet(planet_name='Kepler-1502 b', host_name='Kepler-1502', discovery_method='Transit', discovery_year=2016, controversial_flag=False, orbital_period=41.7083629, planet_radius=3.18, planet_mass=10.2, semi_major_radius=0.2482, eccentricity=0.0, equilibrium_temperature=608.0, insolation_flux=77.32),\n",
       " Planet(planet_name='TOI-784 b', host_name='HD 307842', discovery_method='Transit', discovery_year=2023, controversial_flag=False, orbital_period=2.7970365, planet_radius=1.93, planet_mass=9.67, semi_major_radius=0.038, eccentricity=0.0, equilibrium_temperature=1256.0, insolation_flux=413.89)]"
      ]
     },
     "execution_count": 156,
     "metadata": {},
     "output_type": "execute_result"
    }
   ],
   "source": [
    "# compute and store the answer in the variable 'last_five_planets_1', then display it\n",
    "last_five_planets_1 = get_planets(os.path.join(\"data\", \"planets_1.csv\"), os.path.join(\"data\", \"mapping_1.json\"))[-5:]\n",
    "\n",
    "last_five_planets_1"
   ]
  },
  {
   "cell_type": "code",
   "execution_count": 153,
   "id": "8bd90f69-ef88-4366-af79-53dbee7bde6c",
   "metadata": {
    "deletable": false,
    "editable": true,
    "scrolled": true,
    "slideshow": {
     "slide_type": ""
    },
    "tags": []
   },
   "outputs": [
    {
     "name": "stdout",
     "output_type": "stream",
     "text": [
      "Make sure you saved the notebook before running this cell. Running check for q13...\n",
      "Great job! You passed all test cases for this question.\n"
     ]
    },
    {
     "data": {
      "text/plain": [
       "True"
      ]
     },
     "execution_count": 153,
     "metadata": {},
     "output_type": "execute_result"
    }
   ],
   "source": [
    "student_grader.check(\"q13\", should_get_llm_feedback=False)"
   ]
  },
  {
   "cell_type": "markdown",
   "id": "5114138d-3d8f-4a7c-a366-261997a282fd",
   "metadata": {
    "deletable": false,
    "editable": false,
    "slideshow": {
     "slide_type": ""
    },
    "tags": []
   },
   "source": [
    "#### Question 14: What are the `Planet` objects whose `controversial_flag` attribute is `True` in the **list** returned by `get_planets` when `planet_file` is `planets_2.csv` and `mapping_file` is `mapping_2.json`?"
   ]
  },
  {
   "cell_type": "markdown",
   "id": "e4fcf791-4acc-47df-9fd1-c87e5df8bde4",
   "metadata": {
    "deletable": false,
    "editable": false,
    "slideshow": {
     "slide_type": ""
    },
    "tags": []
   },
   "source": [
    "Your output **must** be a **list** of `Planet` objects."
   ]
  },
  {
   "cell_type": "markdown",
   "id": "50001756-9160-42ff-8886-45acf6b73530",
   "metadata": {
    "deletable": false,
    "editable": false,
    "slideshow": {
     "slide_type": ""
    },
    "tags": []
   },
   "source": [
    "Points possible: 4.0"
   ]
  },
  {
   "cell_type": "code",
   "execution_count": 157,
   "id": "e194bfd4-394a-46bb-b547-535618b74706",
   "metadata": {
    "deletable": false,
    "editable": true,
    "slideshow": {
     "slide_type": ""
    },
    "tags": [
     "q14-code"
    ]
   },
   "outputs": [
    {
     "data": {
      "text/plain": [
       "[Planet(planet_name='Kepler-452 b', host_name='Kepler-452', discovery_method='Transit', discovery_year=2015, controversial_flag=True, orbital_period=384.843, planet_radius=1.63, planet_mass=3.29, semi_major_radius=1.046, eccentricity=0.0, equilibrium_temperature=265.0, insolation_flux=1.1),\n",
       " Planet(planet_name='Kepler-747 b', host_name='Kepler-747', discovery_method='Transit', discovery_year=2016, controversial_flag=True, orbital_period=35.61760587, planet_radius=5.27, planet_mass=24.1, semi_major_radius=0.1916, eccentricity=0.0, equilibrium_temperature=456.0, insolation_flux=10.19),\n",
       " Planet(planet_name='V830 Tau b', host_name='V830 Tau', discovery_method='Radial Velocity', discovery_year=2016, controversial_flag=True, orbital_period=4.927, planet_radius=14.0, planet_mass=222.481, semi_major_radius=0.057, eccentricity=0.0, equilibrium_temperature=None, insolation_flux=None),\n",
       " Planet(planet_name='nu Oct A b', host_name='nu Oct A', discovery_method='Radial Velocity', discovery_year=2016, controversial_flag=True, orbital_period=417.0, planet_radius=13.3, planet_mass=762.78818, semi_major_radius=1.25, eccentricity=0.11, equilibrium_temperature=None, insolation_flux=None)]"
      ]
     },
     "execution_count": 157,
     "metadata": {},
     "output_type": "execute_result"
    }
   ],
   "source": [
    "# compute and store the answer in the variable 'controversial_planets', then display it\n",
    "controversial_planets = []\n",
    "planets_2_list = get_planets(os.path.join(\"data\", \"planets_2.csv\"), os.path.join(\"data\", \"mapping_2.json\"))\n",
    "\n",
    "for planet in planets_2_list:\n",
    "    if planet.controversial_flag == True:\n",
    "        controversial_planets.append(planet)\n",
    "        \n",
    "controversial_planets"
   ]
  },
  {
   "cell_type": "code",
   "execution_count": 158,
   "id": "66739a8e-a42e-4453-bf34-35a1d58b1ba1",
   "metadata": {
    "deletable": false,
    "editable": true,
    "scrolled": true,
    "slideshow": {
     "slide_type": ""
    },
    "tags": []
   },
   "outputs": [
    {
     "name": "stdout",
     "output_type": "stream",
     "text": [
      "Make sure you saved the notebook before running this cell. Running check for q14...\n",
      "Great job! You passed all test cases for this question.\n"
     ]
    },
    {
     "data": {
      "text/plain": [
       "True"
      ]
     },
     "execution_count": 158,
     "metadata": {},
     "output_type": "execute_result"
    }
   ],
   "source": [
    "student_grader.check(\"q14\", should_get_llm_feedback=False)"
   ]
  },
  {
   "cell_type": "markdown",
   "id": "8b850c7d-d2f8-44b3-a229-23676419b855",
   "metadata": {
    "deletable": false,
    "editable": false
   },
   "source": [
    "### Data Cleaning 1: Broken CSV rows"
   ]
  },
  {
   "cell_type": "markdown",
   "id": "d0b724fa-3882-4dd5-a52a-f43f60af2b64",
   "metadata": {
    "deletable": false,
    "editable": false
   },
   "source": [
    "Our function `get_planets` works very well so far. However, it is likely that it will not work on all the files in the `data` directory. For example, if you use the function `get_planets` to read the data in `planets_4.csv` and `mapping_4.json`, you will most likely run into an error. **Try it yourself to verify!**\n",
    "\n",
    "The reason your code likely crashed is because there the file `planets_4.csv` is **broken**. For some reason, several rows in `planets_4.csv` have their data jumbled up. For example, in the **third** row of `planets_4.csv`, we come across this row:\n",
    "\n",
    "|Planet Name|Discovery Method|Discovery Year|Controversial Flag|Orbital Period [days]|Planet Radius [Earth Radius]|Planet Mass [Earth Mass]|Orbit Semi-Major Axis [au]|Eccentricity|Equilibrium Temperature [K]|Insolation Flux [Earth Flux]|\n",
    "|-----------|----------------|--------------|------------------|---------------------|----------------------------|------------------------|---------------------------|------------|---------------------------|----------------------------|\n",
    "47 UMa b|804.08000|1996|0|1078.00000000|13.200|Radial Velocity|2.100000|0.032000||\n",
    "\n",
    "We can see that for some reason, the value under the column `Discovery Method` is a **number** while the value under the column `Planet Mass [Earth Mass]` is a **string**. It is possible that these two columns of data got *swapped* here, but we cannot be sure about this.\n",
    "\n",
    "We will call such a **row** in a CSV file where the values under a column do not match the expected format to be a **broken row**. While it is possible to sometimes extract useful data from broken rows, in this project, we will simply **skip** broken rows.\n",
    "\n",
    "You **must** now go back to your definition of `get_planets` and edit it, so that any **broken rows get skipped**.\n",
    "\n",
    "**Hints:**\n",
    "\n",
    "1. The simplest way to recognize if a row is broken is if you run into any **RunTime Errors** when you call the `get_planets` function. So, one simple way to skip bad rows would be to use `try/except` blocks to avoid processing any rows that cause the code to crash; remember **not** to use *bare* `try/except` blocks.\n",
    "2. There are only **10** broken rows in `planets_4.csv`, and they are all **bunched up** at the very beginning and the very end of the dataset. You can manually **inspect** the **first 10 and last 10** rows, and figure out which of these rows are broken and why.\n",
    "\n",
    "**Important Warning:** You are **not** allowed to **hardcode** the indices of the broken rows. You may inspect `planets_4.csv` to identify how to tell a **broken row** apart. Therefore, to use the example of the **broken row** above, you **may not** hardcode to skip the **seventh** row of `planets_4.csv`. However, it is **acceptable** to make your function **skip** any row for which the value under the `Planet Name` is not numeric, by observing that this is the reason why the row is broken."
   ]
  },
  {
   "cell_type": "markdown",
   "id": "5316d6ac-d03d-49af-9e02-8da5d1f35bff",
   "metadata": {
    "deletable": false,
    "editable": false,
    "slideshow": {
     "slide_type": ""
    },
    "tags": []
   },
   "source": [
    "#### Question 15: What are the **last five** `Planet` objects produced by `get_planets` when `planet_file` is `planets_4.csv` and `mapping_file` is `mapping_4.json`?"
   ]
  },
  {
   "cell_type": "markdown",
   "id": "3728396d-64cb-40b8-bca3-40c07584fe77",
   "metadata": {
    "deletable": false,
    "editable": false,
    "slideshow": {
     "slide_type": ""
    },
    "tags": []
   },
   "source": [
    "Your output **must** be a **list** of `Planet` objects."
   ]
  },
  {
   "cell_type": "markdown",
   "id": "d65bf423-7478-478a-b41c-733302d9c307",
   "metadata": {
    "deletable": false,
    "editable": false,
    "slideshow": {
     "slide_type": ""
    },
    "tags": []
   },
   "source": [
    "Points possible: 4.0"
   ]
  },
  {
   "cell_type": "code",
   "execution_count": 159,
   "id": "e844285b-f2c6-430c-b42a-df5396ae2dc0",
   "metadata": {
    "deletable": false,
    "editable": true,
    "slideshow": {
     "slide_type": ""
    },
    "tags": [
     "q15-code"
    ]
   },
   "outputs": [
    {
     "data": {
      "text/plain": [
       "[Planet(planet_name='Wolf 1061 d', host_name='Wolf 1061', discovery_method='Radial Velocity', discovery_year=2015, controversial_flag=False, orbital_period=217.21, planet_radius=2.69, planet_mass=7.7, semi_major_radius=0.47, eccentricity=0.55, equilibrium_temperature=None, insolation_flux=0.06),\n",
       " Planet(planet_name='YZ Cet c', host_name='YZ Cet', discovery_method='Radial Velocity', discovery_year=2017, controversial_flag=False, orbital_period=3.05989, planet_radius=1.05, planet_mass=1.14, semi_major_radius=0.02156, eccentricity=0.0, equilibrium_temperature=410.0, insolation_flux=4.72),\n",
       " Planet(planet_name='pi Men d', host_name='HD 39091', discovery_method='Radial Velocity', discovery_year=2022, controversial_flag=False, orbital_period=124.64, planet_radius=3.72, planet_mass=13.38, semi_major_radius=None, eccentricity=0.22, equilibrium_temperature=None, insolation_flux=None),\n",
       " Planet(planet_name='ups And b', host_name='ups And', discovery_method='Radial Velocity', discovery_year=1996, controversial_flag=False, orbital_period=4.617033, planet_radius=14.0, planet_mass=218.531, semi_major_radius=0.059222, eccentricity=0.0215, equilibrium_temperature=None, insolation_flux=None),\n",
       " Planet(planet_name='ups And d', host_name='ups And', discovery_method='Radial Velocity', discovery_year=1999, controversial_flag=False, orbital_period=1276.46, planet_radius=12.5, planet_mass=3257.74117, semi_major_radius=2.51329, eccentricity=0.2987, equilibrium_temperature=None, insolation_flux=None)]"
      ]
     },
     "execution_count": 159,
     "metadata": {},
     "output_type": "execute_result"
    }
   ],
   "source": [
    "# compute and store the answer in the variable 'last_five_planets_4', then display it\n",
    "last_five_planets_4 = get_planets(os.path.join(\"data\", \"planets_4.csv\"), os.path.join(\"data\", \"mapping_4.json\"))[-5:]\n",
    "\n",
    "last_five_planets_4"
   ]
  },
  {
   "cell_type": "code",
   "execution_count": 160,
   "id": "12980aa7-faa2-45d6-a1ef-10a0385e9071",
   "metadata": {
    "deletable": false,
    "editable": true,
    "scrolled": true,
    "slideshow": {
     "slide_type": ""
    },
    "tags": []
   },
   "outputs": [
    {
     "name": "stdout",
     "output_type": "stream",
     "text": [
      "Make sure you saved the notebook before running this cell. Running check for q15...\n",
      "Great job! You passed all test cases for this question.\n"
     ]
    },
    {
     "data": {
      "text/plain": [
       "True"
      ]
     },
     "execution_count": 160,
     "metadata": {},
     "output_type": "execute_result"
    }
   ],
   "source": [
    "student_grader.check(\"q15\", should_get_llm_feedback=False)"
   ]
  },
  {
   "cell_type": "markdown",
   "id": "7a4cfa1f-0ae5-44c6-9067-93c32b33d62b",
   "metadata": {
    "deletable": false,
    "editable": false
   },
   "source": [
    "### Data Cleaning 2: Broken JSON files"
   ]
  },
  {
   "cell_type": "markdown",
   "id": "8aac1898-56ad-4ed6-af86-a84fc7c44342",
   "metadata": {
    "deletable": false,
    "editable": false
   },
   "source": [
    "We are now ready to read **all** the files in the `data` directory and create a **list** of `Planet` objects for all the planets in the directory. However, if you try to use `get_planets` on all the planet CSV files and mapping JSON files, you will likely run into another error. **Try it for yourself by calling `get_planets` on all the files in `data`!**\n",
    "\n",
    "It is likely that your code crashed when you tried to read the data in `planets_5.csv` and `mapping_5.json`. This is because the file `mapping_5.json` is **broken**. Unlike **broken** CSV files, where we only had to skip the **broken rows**, it is much harder to parse **broken JSON files**. When a JSON file is **broken**, we often have no choice but to **skip the file entirely**.\n",
    "\n",
    "You **must** now go back to your definition of `get_planets` and edit it, so that if the JSON file is **broken**, then the file is completely skipped, and only an **empty list** is returned.\n",
    "\n",
    "**Important Warning:** You are **not** allowed to **hardcode** the name of the files to be skipped. You **must** use `try/except` blocks to determine whether the JSON file is **broken** and skip the file if it is.\n",
    "\n",
    "**Hint:** You might also want to review the **Project Requirements** at the start of this project, before you use `try/except`."
   ]
  },
  {
   "cell_type": "markdown",
   "id": "addfdcc1-d871-45e1-a5f8-c911f063f7a3",
   "metadata": {
    "deletable": false,
    "editable": false
   },
   "source": [
    "### Project Data Structure 2: `planets_list`"
   ]
  },
  {
   "cell_type": "markdown",
   "id": "00794468-4a1f-4db0-9704-2f16f01924dd",
   "metadata": {
    "deletable": false,
    "editable": false
   },
   "source": [
    "You are now ready to read all the data about the planets stored in the `data` directory. You **must** now create a **list** containing `Planet` objects by parsing the data inside the files `planets_1.csv`, ..., `planets_5.csv` and `mapping_1.json`, ..., `mapping_5.json`.\n",
    "\n",
    "You **must** skip any **broken rows** in the CSV file, and also completely skip any **broken JSON files**. However, you are **not** allowed to **hardcode** the file you need to skip. You **must** call `get_planet` on **all** 5 pairs of files to answer this question.\n",
    "\n",
    "You **must** use the `get_planets` function on each of the five pairs of files in the `data` directory to create `planets_list`.\n",
    "\n",
    "**Warning:** Recall that the ordering of the files returned by the `os.listdir` function **depends on the operating system**. So, you need to be careful if your code relies on the ordering of the **list** returned by this function. One way to avoid any issues here would be to **sort** the **list** first, so that the ordering is identical across all operating systems."
   ]
  },
  {
   "cell_type": "markdown",
   "id": "8735177c-c1d8-468f-b2bb-babbad180d31",
   "metadata": {
    "deletable": false,
    "editable": false,
    "slideshow": {
     "slide_type": ""
    },
    "tags": []
   },
   "source": [
    "Points possible: 4.0"
   ]
  },
  {
   "cell_type": "code",
   "execution_count": 164,
   "id": "08f73043-fd3a-4757-aca8-391d4d7f0552",
   "metadata": {
    "deletable": false,
    "editable": true,
    "slideshow": {
     "slide_type": ""
    },
    "tags": [
     "planets_list-code"
    ]
   },
   "outputs": [],
   "source": [
    "# define the variable 'planets_list' here,\n",
    "# but do NOT display the variable at the end\n",
    "planets_paths = sorted([path for path in file_paths if \"planets\" in path])\n",
    "json_mapping_paths = sorted([path for path in file_paths if path.endswith(\".json\")])\n",
    "\n",
    "planets_list = []\n",
    "for i in range(len(planets_paths)):\n",
    "    lst = get_planets(planets_paths[i], json_mapping_paths[i])\n",
    "    planets_list.extend(lst)"
   ]
  },
  {
   "cell_type": "code",
   "execution_count": 165,
   "id": "1a86700a-37a5-4fbe-91f4-c121e33606e6",
   "metadata": {
    "deletable": false,
    "editable": true,
    "scrolled": true,
    "slideshow": {
     "slide_type": ""
    },
    "tags": []
   },
   "outputs": [
    {
     "name": "stdout",
     "output_type": "stream",
     "text": [
      "Make sure you saved the notebook before running this cell. Running check for planets_list...\n",
      "Great job! You passed all test cases for this question.\n"
     ]
    },
    {
     "data": {
      "text/plain": [
       "True"
      ]
     },
     "execution_count": 165,
     "metadata": {},
     "output_type": "execute_result"
    }
   ],
   "source": [
    "student_grader.check(\"planets_list\", should_get_llm_feedback=False)"
   ]
  },
  {
   "cell_type": "markdown",
   "id": "99bc5e65-1013-430b-905d-4717880b7151",
   "metadata": {
    "deletable": false,
    "editable": false,
    "slideshow": {
     "slide_type": ""
    },
    "tags": []
   },
   "source": [
    "#### Question 16: What is the output of `planets_list[5020:5025]`?"
   ]
  },
  {
   "cell_type": "markdown",
   "id": "32d8764e-c840-4667-8ffe-c8c9708fc215",
   "metadata": {
    "deletable": false,
    "editable": false,
    "slideshow": {
     "slide_type": ""
    },
    "tags": []
   },
   "source": [
    "Your output **must** be a **list** of `Planet` objects.\n",
    "\n",
    "**Hint:** If you did not get the right answer here, it is possible that you did not read the files in the correct **order**. In `planets_list`, the planets from `planets_1.csv` should appear first (in the order that they appear in the dataset), followed by the planets from `planets_2.csv`, `planets_3.csv`, `planets_4.csv`, and `planets_5.csv`."
   ]
  },
  {
   "cell_type": "markdown",
   "id": "df03bd3f-c61d-4f88-89e1-3390e7b57609",
   "metadata": {
    "deletable": false,
    "editable": false,
    "slideshow": {
     "slide_type": ""
    },
    "tags": []
   },
   "source": [
    "Points possible: 4.0"
   ]
  },
  {
   "cell_type": "code",
   "execution_count": 166,
   "id": "dc77fce8-22f9-4ca7-b28e-f0b611cb7137",
   "metadata": {
    "deletable": false,
    "editable": true,
    "slideshow": {
     "slide_type": ""
    },
    "tags": [
     "q16-code"
    ]
   },
   "outputs": [
    {
     "data": {
      "text/plain": [
       "[Planet(planet_name='Kepler-9 c', host_name='Kepler-9', discovery_method='Transit', discovery_year=2010, controversial_flag=False, orbital_period=38.9853, planet_radius=8.08, planet_mass=29.9, semi_major_radius=0.227, eccentricity=0.06691, equilibrium_temperature=523.0, insolation_flux=18.9),\n",
       " Planet(planet_name='Kepler-9 d', host_name='Kepler-9', discovery_method='Transit', discovery_year=2010, controversial_flag=False, orbital_period=1.592851, planet_radius=1.64, planet_mass=8.41466, semi_major_radius=0.0273, eccentricity=0.0, equilibrium_temperature=2026.0, insolation_flux=1339.66),\n",
       " Planet(planet_name='Kepler-92 b', host_name='Kepler-92', discovery_method='Transit', discovery_year=2013, controversial_flag=False, orbital_period=13.749, planet_radius=3.51, planet_mass=64.3, semi_major_radius=0.122268, eccentricity=0.17, equilibrium_temperature=975.0, insolation_flux=257.78),\n",
       " Planet(planet_name='Kepler-92 c', host_name='Kepler-92', discovery_method='Transit', discovery_year=2013, controversial_flag=False, orbital_period=26.723, planet_radius=2.6, planet_mass=6.1, semi_major_radius=0.190427, eccentricity=0.04, equilibrium_temperature=781.0, insolation_flux=106.21),\n",
       " Planet(planet_name='Kepler-92 d', host_name='Kepler-92', discovery_method='Transit', discovery_year=2015, controversial_flag=False, orbital_period=49.3568, planet_radius=2.067, planet_mass=11.86668, semi_major_radius=0.286661, eccentricity=0.07, equilibrium_temperature=637.0, insolation_flux=46.84)]"
      ]
     },
     "execution_count": 166,
     "metadata": {},
     "output_type": "execute_result"
    }
   ],
   "source": [
    "# compute and store the answer in the variable 'planets_5020_5025', then display it\n",
    "planets_5020_5025 = planets_list[5020:5025]\n",
    "\n",
    "planets_5020_5025"
   ]
  },
  {
   "cell_type": "code",
   "execution_count": 167,
   "id": "f2991769-bed3-444e-920d-c5a7fe2c1a65",
   "metadata": {
    "deletable": false,
    "editable": true,
    "scrolled": true,
    "slideshow": {
     "slide_type": ""
    },
    "tags": []
   },
   "outputs": [
    {
     "name": "stdout",
     "output_type": "stream",
     "text": [
      "Make sure you saved the notebook before running this cell. Running check for q16...\n",
      "Great job! You passed all test cases for this question.\n"
     ]
    },
    {
     "data": {
      "text/plain": [
       "True"
      ]
     },
     "execution_count": 167,
     "metadata": {},
     "output_type": "execute_result"
    }
   ],
   "source": [
    "student_grader.check(\"q16\", should_get_llm_feedback=False)"
   ]
  },
  {
   "cell_type": "markdown",
   "id": "c7caafce-913b-4f87-b586-5d7607e474a1",
   "metadata": {
    "deletable": false,
    "editable": false,
    "slideshow": {
     "slide_type": ""
    },
    "tags": []
   },
   "source": [
    "#### Question 17: How many planets in `planets_list` were discovered in the year *2023*?"
   ]
  },
  {
   "cell_type": "markdown",
   "id": "5fed0a28-5cdd-4d51-b729-9dd3c7130628",
   "metadata": {
    "deletable": false,
    "editable": false,
    "slideshow": {
     "slide_type": ""
    },
    "tags": []
   },
   "source": [
    "Your output **must** be an **integer**."
   ]
  },
  {
   "cell_type": "markdown",
   "id": "49b43dcb-0ccc-4a59-8caa-8e6f9d2879fb",
   "metadata": {
    "deletable": false,
    "editable": false,
    "slideshow": {
     "slide_type": ""
    },
    "tags": []
   },
   "source": [
    "Points possible: 4.0"
   ]
  },
  {
   "cell_type": "code",
   "execution_count": 168,
   "id": "0386e6c1-fb95-4a7a-bb77-4643a59f86be",
   "metadata": {
    "deletable": false,
    "editable": true,
    "slideshow": {
     "slide_type": ""
    },
    "tags": [
     "q17-code"
    ]
   },
   "outputs": [
    {
     "data": {
      "text/plain": [
       "289"
      ]
     },
     "execution_count": 168,
     "metadata": {},
     "output_type": "execute_result"
    }
   ],
   "source": [
    "# compute and store the answer in the variable 'planets_disc_2023', then display it\n",
    "planets_disc_2023 = 0\n",
    "\n",
    "for planet in planets_list:\n",
    "    if planet.discovery_year == 2023:\n",
    "        planets_disc_2023 += 1\n",
    "\n",
    "planets_disc_2023"
   ]
  },
  {
   "cell_type": "code",
   "execution_count": 169,
   "id": "108446ad-9391-45c8-be22-81c9b92206b9",
   "metadata": {
    "deletable": false,
    "editable": true,
    "scrolled": true,
    "slideshow": {
     "slide_type": ""
    },
    "tags": []
   },
   "outputs": [
    {
     "name": "stdout",
     "output_type": "stream",
     "text": [
      "Make sure you saved the notebook before running this cell. Running check for q17...\n",
      "Great job! You passed all test cases for this question.\n"
     ]
    },
    {
     "data": {
      "text/plain": [
       "True"
      ]
     },
     "execution_count": 169,
     "metadata": {},
     "output_type": "execute_result"
    }
   ],
   "source": [
    "student_grader.check(\"q17\", should_get_llm_feedback=False)"
   ]
  },
  {
   "cell_type": "markdown",
   "id": "36f63551-0b1b-4951-a9ed-1e24b6875845",
   "metadata": {
    "deletable": false,
    "editable": false,
    "slideshow": {
     "slide_type": ""
    },
    "tags": []
   },
   "source": [
    "#### Question 18: Find the `Star` object around which the `Planet` named *TOI-2202 c* orbits."
   ]
  },
  {
   "cell_type": "markdown",
   "id": "276ee638-caa7-4049-92b3-72118671cd2a",
   "metadata": {
    "deletable": false,
    "editable": false,
    "slideshow": {
     "slide_type": ""
    },
    "tags": []
   },
   "source": [
    "Your output **must** be a `Star` object.\n",
    "\n",
    "**Hint:** You **must** first find the `Planet` object with the `planet_name` *TOI-2202 c* and then use the `host_name` attribute to identify the name of the star around which the planet orbits. Then, you can get the `Star` object using the `stars_dict` **dictionary** defined above.\n",
    "\n",
    "You **must** exit the loop once you find the first planet with the target name."
   ]
  },
  {
   "cell_type": "markdown",
   "id": "6af5488a-5ecb-4537-ba97-2e1e479846a5",
   "metadata": {
    "deletable": false,
    "editable": false,
    "slideshow": {
     "slide_type": ""
    },
    "tags": []
   },
   "source": [
    "Points possible: 4.0"
   ]
  },
  {
   "cell_type": "code",
   "execution_count": 170,
   "id": "43343f19-e479-40fb-9d77-89870b13db38",
   "metadata": {
    "deletable": false,
    "editable": true,
    "slideshow": {
     "slide_type": ""
    },
    "tags": [
     "q18-code"
    ]
   },
   "outputs": [
    {
     "data": {
      "text/plain": [
       "Star(spectral_type='K8V', stellar_effective_temperature=5144.0, stellar_radius=0.79, stellar_mass=0.82, stellar_luminosity=-0.401, stellar_surface_gravity=4.55, stellar_age=7.48)"
      ]
     },
     "execution_count": 170,
     "metadata": {},
     "output_type": "execute_result"
    }
   ],
   "source": [
    "# compute and store the answer in the variable 'toi_2022_c_star', then display it\n",
    "for planet in planets_list:\n",
    "    if planet.planet_name == \"TOI-2202 c\":\n",
    "        host_name = planet.host_name\n",
    "        break\n",
    "\n",
    "toi_2022_c_star = stars_dict[host_name]\n",
    "\n",
    "toi_2022_c_star"
   ]
  },
  {
   "cell_type": "code",
   "execution_count": 171,
   "id": "10b85129-5567-4876-8ea7-6c82be8936c4",
   "metadata": {
    "deletable": false,
    "editable": true,
    "scrolled": true,
    "slideshow": {
     "slide_type": ""
    },
    "tags": []
   },
   "outputs": [
    {
     "name": "stdout",
     "output_type": "stream",
     "text": [
      "Make sure you saved the notebook before running this cell. Running check for q18...\n",
      "Great job! You passed all test cases for this question.\n"
     ]
    },
    {
     "data": {
      "text/plain": [
       "True"
      ]
     },
     "execution_count": 171,
     "metadata": {},
     "output_type": "execute_result"
    }
   ],
   "source": [
    "student_grader.check(\"q18\", should_get_llm_feedback=False)"
   ]
  },
  {
   "cell_type": "markdown",
   "id": "54f3acd6-7eb1-4b44-938d-a22881bbd584",
   "metadata": {
    "deletable": false,
    "editable": false,
    "slideshow": {
     "slide_type": ""
    },
    "tags": []
   },
   "source": [
    "#### Question 19: Find the **average** `planet_radius` (in units of the radius of the Earth) of the planets that orbit stars with `stellar_radius` more than *10* (i.e. more than *10* times the radius of the Sun)."
   ]
  },
  {
   "cell_type": "markdown",
   "id": "9f750ddc-e579-46a4-bc3c-728a13fb2a0f",
   "metadata": {
    "deletable": false,
    "editable": false,
    "slideshow": {
     "slide_type": ""
    },
    "tags": []
   },
   "source": [
    "Your output **must** be a **float**. You **must** skip any `Planet` objects with **missing** `planet_radius` data and any `Star` objects with **missing** `stellar_radius` data."
   ]
  },
  {
   "cell_type": "markdown",
   "id": "d00b1ebd-1a6c-452b-b0fd-53052619f35d",
   "metadata": {
    "deletable": false,
    "editable": false,
    "slideshow": {
     "slide_type": ""
    },
    "tags": []
   },
   "source": [
    "Points possible: 4.0"
   ]
  },
  {
   "cell_type": "code",
   "execution_count": 183,
   "id": "62af49a7-97fd-4ab5-ade0-34b404f9d0d1",
   "metadata": {
    "deletable": false,
    "editable": true,
    "slideshow": {
     "slide_type": ""
    },
    "tags": [
     "q19-code"
    ]
   },
   "outputs": [
    {
     "data": {
      "text/plain": [
       "12.888118811881188"
      ]
     },
     "execution_count": 183,
     "metadata": {},
     "output_type": "execute_result"
    }
   ],
   "source": [
    "# compute and store the answer in the variable 'avg_planet_radius_big_stars', then display it\n",
    "big_stars = []\n",
    "\n",
    "for star in stars_dict:\n",
    "    stellar_radius = stars_dict[star].stellar_radius\n",
    "    if stellar_radius == None:\n",
    "        continue\n",
    "    elif stellar_radius > 10:\n",
    "        big_stars.append(star)\n",
    "\n",
    "total_planet_radius_big_stars = 0\n",
    "planet_count = 0\n",
    "\n",
    "for planet in planets_list:\n",
    "    if planet.host_name in big_stars:\n",
    "        if planet.planet_radius != None:\n",
    "            total_planet_radius_big_stars += planet.planet_radius\n",
    "            planet_count += 1\n",
    "\n",
    "avg_planet_radius_big_stars = total_planet_radius_big_stars / planet_count\n",
    "\n",
    "avg_planet_radius_big_stars"
   ]
  },
  {
   "cell_type": "code",
   "execution_count": 184,
   "id": "d92d8adc-f7bd-44f6-b5bb-0c013f3304e3",
   "metadata": {
    "deletable": false,
    "editable": true,
    "scrolled": true,
    "slideshow": {
     "slide_type": ""
    },
    "tags": []
   },
   "outputs": [
    {
     "name": "stdout",
     "output_type": "stream",
     "text": [
      "Make sure you saved the notebook before running this cell. Running check for q19...\n",
      "Great job! You passed all test cases for this question.\n"
     ]
    },
    {
     "data": {
      "text/plain": [
       "True"
      ]
     },
     "execution_count": 184,
     "metadata": {},
     "output_type": "execute_result"
    }
   ],
   "source": [
    "student_grader.check(\"q19\", should_get_llm_feedback=False)"
   ]
  },
  {
   "cell_type": "markdown",
   "id": "4fe51353-f193-4815-9e54-47f00ccb71bd",
   "metadata": {
    "deletable": false,
    "editable": false,
    "slideshow": {
     "slide_type": ""
    },
    "tags": []
   },
   "source": [
    "#### Question 20: Find all the `Planet` objects that orbit the **youngest** `Star` object."
   ]
  },
  {
   "cell_type": "markdown",
   "id": "1f28cf16-ac3e-4cb3-8019-c6a181b1d1a4",
   "metadata": {
    "deletable": false,
    "editable": false,
    "slideshow": {
     "slide_type": ""
    },
    "tags": []
   },
   "source": [
    "Your output **must** be a **list** of `Planet` objects (even if there is **only one** `Planet` in the list). The age of a `Star` can be found from its `stellar_age` column. You do **not** have to worry about any ties. There is a **unique** `Star` in the dataset which is the youngest star."
   ]
  },
  {
   "cell_type": "markdown",
   "id": "4525d936-4413-450b-926e-978a9ba3f8c3",
   "metadata": {
    "deletable": false,
    "editable": false,
    "slideshow": {
     "slide_type": ""
    },
    "tags": []
   },
   "source": [
    "Points possible: 4.0"
   ]
  },
  {
   "cell_type": "code",
   "execution_count": 175,
   "id": "b298293c-7e6a-4b3f-a622-df86c06ce320",
   "metadata": {
    "deletable": false,
    "editable": true,
    "slideshow": {
     "slide_type": ""
    },
    "tags": [
     "q20-code"
    ]
   },
   "outputs": [
    {
     "data": {
      "text/plain": [
       "[Planet(planet_name='Kepler-1663 b', host_name='Kepler-1663', discovery_method='Transit', discovery_year=2020, controversial_flag=False, orbital_period=17.6046, planet_radius=3.304, planet_mass=10.9, semi_major_radius=0.1072, eccentricity=0.0, equilibrium_temperature=362.0, insolation_flux=4.07)]"
      ]
     },
     "execution_count": 175,
     "metadata": {},
     "output_type": "execute_result"
    }
   ],
   "source": [
    "# compute and store the answer in the variable 'youngest_star_planets', then display it\n",
    "youngest_star = None\n",
    "youngest_star_age = None\n",
    "\n",
    "for star in stars_dict:\n",
    "    star_age = stars_dict[star].stellar_age\n",
    "    if star_age == None:\n",
    "        continue\n",
    "    elif youngest_star == None or youngest_star_age > star_age:\n",
    "        youngest_star = star\n",
    "        youngest_star_age = star_age\n",
    "\n",
    "youngest_star_planets = []\n",
    "\n",
    "for planet in planets_list:\n",
    "    if planet.host_name == youngest_star:\n",
    "        youngest_star_planets.append(planet)\n",
    "\n",
    "youngest_star_planets"
   ]
  },
  {
   "cell_type": "code",
   "execution_count": 176,
   "id": "0bb6bd8c-e386-4663-a726-0a159211d6f1",
   "metadata": {
    "deletable": false,
    "editable": true,
    "scrolled": true,
    "slideshow": {
     "slide_type": ""
    },
    "tags": []
   },
   "outputs": [
    {
     "name": "stdout",
     "output_type": "stream",
     "text": [
      "Make sure you saved the notebook before running this cell. Running check for q20...\n",
      "Great job! You passed all test cases for this question.\n"
     ]
    },
    {
     "data": {
      "text/plain": [
       "True"
      ]
     },
     "execution_count": 176,
     "metadata": {},
     "output_type": "execute_result"
    }
   ],
   "source": [
    "student_grader.check(\"q20\", should_get_llm_feedback=False)"
   ]
  },
  {
   "cell_type": "markdown",
   "id": "32478496-8ff0-4ec7-9e8f-24e6642bfd32",
   "metadata": {
    "deletable": false,
    "editable": false
   },
   "source": [
    "### Submission\n",
    "\n",
    "Make sure you have run all cells in your notebook in order before submitting on Gradescope. Your notebook should not contain any uncaught Exceptions, otherwise the Gradescope autograder will not give you any points."
   ]
  }
 ],
 "metadata": {
  "kernelspec": {
   "display_name": "Python 3 (ipykernel)",
   "language": "python",
   "name": "python3"
  },
  "language_info": {
   "codemirror_mode": {
    "name": "ipython",
    "version": 3
   },
   "file_extension": ".py",
   "mimetype": "text/x-python",
   "name": "python",
   "nbconvert_exporter": "python",
   "pygments_lexer": "ipython3",
   "version": "3.10.12"
  },
  "semester": "f24"
 },
 "nbformat": 4,
 "nbformat_minor": 5
}
