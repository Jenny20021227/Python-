{
 "cells": [
  {
   "cell_type": "markdown",
   "id": "b350efe9",
   "metadata": {
    "deletable": false,
    "editable": false,
    "slideshow": {
     "slide_type": ""
    },
    "tags": []
   },
   "source": [
    "# Project 6: Power Generators in Wisconsin"
   ]
  },
  {
   "cell_type": "markdown",
   "id": "946d732e",
   "metadata": {
    "deletable": false,
    "editable": false
   },
   "source": [
    "## Your Information"
   ]
  },
  {
   "cell_type": "markdown",
   "id": "36e10286-cd71-4976-bc15-b1a0cd7a877e",
   "metadata": {
    "deletable": false,
    "editable": false,
    "slideshow": {
     "slide_type": ""
    },
    "tags": []
   },
   "source": [
    "At the start of each assignment, you will need to provide us your name and the name of the partner you worked with for this assignment (if you had one). Double click on the cell below or click once and hit enter to edit it. Replace \"First Last\" with your first name and last name. Replace \"None\" with the first and last name of your partner if you had one for this assignment. We ask for this information so we don't accuse you of cheating when your code looks like your partner's.\n",
    "\n",
    "Please keep these lines commented so they don't cause an error."
   ]
  },
  {
   "cell_type": "code",
   "execution_count": null,
   "id": "5c2a36f0-b4b4-4c30-af9d-3e8cf6bb768c",
   "metadata": {
    "deletable": false,
    "editable": true,
    "slideshow": {
     "slide_type": ""
    },
    "tags": []
   },
   "outputs": [],
   "source": [
    "# MY NAME: Hyokyung Kim\n",
    "# MY PARTNER's NAME: None"
   ]
  },
  {
   "cell_type": "markdown",
   "id": "0230c51b",
   "metadata": {
    "deletable": false,
    "editable": false
   },
   "source": [
    "## Imports"
   ]
  },
  {
   "cell_type": "markdown",
   "id": "be343182",
   "metadata": {
    "deletable": false,
    "editable": false
   },
   "source": [
    "Every project will begin with some import statements. It's crucial that you run the cell below, otherwise we will not be able to grade your code and provide feedback to you."
   ]
  },
  {
   "cell_type": "code",
   "execution_count": 1,
   "id": "b1434eeb",
   "metadata": {
    "deletable": false,
    "editable": true,
    "slideshow": {
     "slide_type": ""
    },
    "tags": []
   },
   "outputs": [],
   "source": [
    "# it is considered a good coding practice to place all import statements at the top of the notebook\n",
    "\n",
    "import os\n",
    "import csv\n",
    "import student_grader\n",
    "student_grader.initialize(os.getcwd(), \"p6\")"
   ]
  },
  {
   "cell_type": "markdown",
   "id": "7d055979",
   "metadata": {
    "deletable": false,
    "editable": false,
    "slideshow": {
     "slide_type": ""
    },
    "tags": []
   },
   "source": [
    "## Learning Objectives:\n",
    "\n",
    "In this assignment, you will demonstrate how to:\n",
    "\n",
    "* access and utilize data in CSV files\n",
    "* process real world datasets\n",
    "* use string methods and sorting function / method to order data\n",
    "* use sets to determine the unique values in a list"
   ]
  },
  {
   "cell_type": "markdown",
   "id": "0a7f8b93",
   "metadata": {
    "deletable": false,
    "editable": false,
    "slideshow": {
     "slide_type": ""
    },
    "tags": []
   },
   "source": [
    "# Lab portion (32 questions)"
   ]
  },
  {
   "cell_type": "markdown",
   "id": "8e37f1ea",
   "metadata": {
    "deletable": false,
    "editable": false,
    "slideshow": {
     "slide_type": ""
    },
    "tags": []
   },
   "source": [
    "## Segment 1: Loading Data from CSVs"
   ]
  },
  {
   "cell_type": "markdown",
   "id": "49aa0ce7",
   "metadata": {
    "deletable": false,
    "editable": false,
    "slideshow": {
     "slide_type": ""
    },
    "tags": []
   },
   "source": [
    "### About the dataset"
   ]
  },
  {
   "cell_type": "markdown",
   "id": "b6b1c5bc-8d90-41a7-ade6-cc724aa5fea9",
   "metadata": {
    "deletable": false,
    "editable": false,
    "slideshow": {
     "slide_type": ""
    },
    "tags": []
   },
   "source": [
    "Open `power_generators.csv` by clicking on the file from the file tab in Jupyter Lab. Or do this with Microsoft Excel (or some other Spreadsheet viewing software) and have a look at the data. The first few rows of the dataset are reproduced here:"
   ]
  },
  {
   "cell_type": "markdown",
   "id": "cd2daf49",
   "metadata": {
    "deletable": false,
    "editable": false,
    "slideshow": {
     "slide_type": ""
    },
    "tags": []
   },
   "source": [
    "entity_id|entity_name|plant_id|plant_name|generator_id|county|net_summer_capacity|net_winter_capacity|technology|latitude|longitude\n",
    "---|---|---|---|---|---|---|---|---|---|---\n",
    "13781|Northern States Power Co - Minnesota|1756|Saxon Falls|1|Iron|0.5|0.5|Conventional Hydroelectric|46.5392|-90.3742\n",
    "13781|Northern States Power Co - Minnesota|1756|Saxon Falls|2|Iron|0.5|0.6|Conventional Hydroelectric|46.5392|-90.3742\n",
    "20847|Wisconsin Electric Power Co|1775|Brule|1|Florence|1.3|1.3|Conventional Hydroelectric|45.9472|-88.2189\n",
    "20847|Wisconsin Electric Power Co|1775|Brule|2|Florence|2|2|Conventional Hydroelectric|45.9472|-88.2189\n",
    "20847|Wisconsin Electric Power Co|1775|Brule|3|Florence|2|2|Conventional Hydroelectric|45.9472|-88.2189"
   ]
  },
  {
   "cell_type": "markdown",
   "id": "0ed23364",
   "metadata": {
    "deletable": false,
    "editable": false
   },
   "source": [
    "**WARNING**: If you open `power_generators.csv` using a Spreadsheet Viewer, you need to be careful **not** to modify the dataset in any way. Leading zeroes are *intentionally* a part of some plant and generator ids. In particular, make sure you **do not save** the file before you close the file."
   ]
  },
  {
   "cell_type": "markdown",
   "id": "96c8e0aa",
   "metadata": {
    "deletable": false,
    "editable": false,
    "slideshow": {
     "slide_type": ""
    },
    "tags": []
   },
   "source": [
    "The `power_generators.csv` file has data about every Power Generator in operation within the state of Wisconsin, as of February 2024. Each row of data represents a **single** generator within the state of Wisconsin. The columns contain the following data about each generator (along with the correct data type you **must** represent it as)::\n",
    "\n",
    "1. `entity_id` - the **ID** of the **entity** that operates the Power Generator (`int`)\n",
    "2. `entity_name` - the **name** of the **entity** that operates the Power Generator (`str`)\n",
    "3. `plant_id` - the **ID** of the **Power Plant** hosting the Power Generator (`int`)\n",
    "4. `plant_name` - the **name** of the **Power Plant** hosting the Power Generator (`str`)\n",
    "5. `generator_id` - the **ID** of the specific **Power Generator** within its Power Plant (`str`)\n",
    "6. `county` - the **name** of the **county** that the **Power Plant** is located in (`str`)\n",
    "7. `net_summer_capacity` - the maximum **capacity** of the **Power Generator** (in units of MW) during the Summer months (`float`)\n",
    "8. `net_winter_capacity` - the maximum **capacity** of the **Power Generator** (in units of MW) during the Winter months (`float`)\n",
    "9. `technology` - the **technology** used by the **Power Generator** (`str`)\n",
    "10. `latitude` - the **latitude** where the **Power Plant** is located (`float`)\n",
    "11. `longitude` - the **longitude** where the **Power Plant** is located (`float`)\n",
    "\n",
    "**Warning**: Keep in mind while writing your project, some entries may be **missing data** for specific columns. Sadly, data in real life is often messy. **In P6, we will have to deal with missing data.**"
   ]
  },
  {
   "cell_type": "markdown",
   "id": "ede77971",
   "metadata": {
    "deletable": false,
    "editable": false,
    "slideshow": {
     "slide_type": ""
    },
    "tags": []
   },
   "source": [
    "### Task 1.1: Processing the CSV file\n",
    "\n",
    "You will now read this dataset with Python. [Chapter 14](https://automatetheboringstuff.com/chapter14/) of Automate the Boring Stuff introduces CSV files and provides a code snippet you can reuse. You can use the same code snippet for P6. Run the next few cells and see their outputs."
   ]
  },
  {
   "cell_type": "markdown",
   "id": "df91b49c-a357-4280-99a4-b0d6b2afaf0a",
   "metadata": {
    "deletable": false,
    "editable": false
   },
   "source": [
    "#### Lab Function 1: `process_csv(filename)`"
   ]
  },
  {
   "cell_type": "code",
   "execution_count": 2,
   "id": "8183908c",
   "metadata": {
    "deletable": false,
    "editable": true,
    "slideshow": {
     "slide_type": ""
    },
    "tags": []
   },
   "outputs": [],
   "source": [
    "# modified from https://automatetheboringstuff.com/chapter14/\n",
    "\n",
    "def process_csv(filename):\n",
    "    example_file = open(filename, encoding=\"utf-8\")\n",
    "    example_reader = csv.reader(example_file)\n",
    "    example_data = list(example_reader)\n",
    "    example_file.close()\n",
    "    return example_data"
   ]
  },
  {
   "cell_type": "code",
   "execution_count": 3,
   "id": "771f0bfa",
   "metadata": {
    "deletable": false,
    "editable": true,
    "slideshow": {
     "slide_type": ""
    },
    "tags": []
   },
   "outputs": [
    {
     "data": {
      "text/plain": [
       "[['entity_id',\n",
       "  'entity_name',\n",
       "  'plant_id',\n",
       "  'plant_name',\n",
       "  'generator_id',\n",
       "  'county',\n",
       "  'net_summer_capacity',\n",
       "  'net_winter_capacity',\n",
       "  'technology',\n",
       "  'latitude',\n",
       "  'longitude'],\n",
       " ['13781',\n",
       "  'Northern States Power Co - Minnesota',\n",
       "  '1756',\n",
       "  'Saxon Falls',\n",
       "  '1',\n",
       "  'Iron',\n",
       "  '0.5',\n",
       "  '0.5',\n",
       "  'Conventional Hydroelectric',\n",
       "  '46.5392',\n",
       "  '-90.3742'],\n",
       " ['13781',\n",
       "  'Northern States Power Co - Minnesota',\n",
       "  '1756',\n",
       "  'Saxon Falls',\n",
       "  '2',\n",
       "  'Iron',\n",
       "  '0.5',\n",
       "  '0.6',\n",
       "  'Conventional Hydroelectric',\n",
       "  '46.5392',\n",
       "  '-90.3742']]"
      ]
     },
     "execution_count": 3,
     "metadata": {},
     "output_type": "execute_result"
    }
   ],
   "source": [
    "# this call to process_csv reads the data in \"power_generators.csv\"\n",
    "csv_data = process_csv(\"power_generators.csv\")\n",
    "\n",
    "# this will display the first three items in the list `csv_data`\n",
    "csv_data[:3]"
   ]
  },
  {
   "cell_type": "markdown",
   "id": "c58746cf",
   "metadata": {
    "deletable": false,
    "editable": false,
    "slideshow": {
     "slide_type": ""
    },
    "tags": []
   },
   "source": [
    "The variable `csv_data` stores the contents of the file `power_generators.csv` as a **list of lists** (i.e., `csv_data` is a **list**, and the elements of this list are **lists** themselves). In the next subsection, you will learn to access data stored within this data structure."
   ]
  },
  {
   "cell_type": "markdown",
   "id": "669e7abf",
   "metadata": {
    "deletable": false,
    "editable": false
   },
   "source": [
    "### Task 1.2: Accessing the contents of the dataset\n",
    "\n",
    "You will now index the data to extract the correct answers for the questions listed below. Some have been done for you. To understand the results better, locate the values in the `power_generators.csv` file."
   ]
  },
  {
   "cell_type": "markdown",
   "id": "c71b39d6",
   "metadata": {
    "deletable": false,
    "editable": false,
    "slideshow": {
     "slide_type": ""
    },
    "tags": []
   },
   "source": [
    "#### Lab question 1"
   ]
  },
  {
   "cell_type": "markdown",
   "id": "d6397008",
   "metadata": {
    "deletable": false,
    "editable": false,
    "slideshow": {
     "slide_type": ""
    },
    "tags": []
   },
   "source": [
    "What are the **names** of the **columns** in the dataset?\n",
    "\n",
    "**Hint:** Take a look at the output of the cell above and see where the column names are stored. Use **indexing** to extract the csv header from the `csv_data` variable.\n",
    "\n",
    "**Note:** Index starts at 0"
   ]
  },
  {
   "cell_type": "markdown",
   "id": "cd4f75a4",
   "metadata": {
    "deletable": false,
    "editable": false,
    "slideshow": {
     "slide_type": ""
    },
    "tags": []
   },
   "source": [
    "Points possible: 3"
   ]
  },
  {
   "cell_type": "code",
   "execution_count": 4,
   "id": "04ebfef1",
   "metadata": {
    "deletable": false,
    "editable": true,
    "slideshow": {
     "slide_type": ""
    },
    "tags": [
     "lab-q1-code"
    ]
   },
   "outputs": [
    {
     "data": {
      "text/plain": [
       "['entity_id',\n",
       " 'entity_name',\n",
       " 'plant_id',\n",
       " 'plant_name',\n",
       " 'generator_id',\n",
       " 'county',\n",
       " 'net_summer_capacity',\n",
       " 'net_winter_capacity',\n",
       " 'technology',\n",
       " 'latitude',\n",
       " 'longitude']"
      ]
     },
     "execution_count": 4,
     "metadata": {},
     "output_type": "execute_result"
    }
   ],
   "source": [
    "# replace the ... with your code\n",
    "csv_header = csv_data[0]\n",
    "\n",
    "\n",
    "csv_header"
   ]
  },
  {
   "cell_type": "code",
   "execution_count": 5,
   "id": "8e10bbec",
   "metadata": {
    "deletable": false,
    "editable": false,
    "slideshow": {
     "slide_type": ""
    },
    "tags": []
   },
   "outputs": [
    {
     "name": "stdout",
     "output_type": "stream",
     "text": [
      "Make sure you saved the notebook before running this cell. Running check for lab-q1...\n",
      "Great job! You passed all test cases for this question.\n"
     ]
    }
   ],
   "source": [
    "student_grader.check(\"lab-q1\")"
   ]
  },
  {
   "cell_type": "markdown",
   "id": "ccceea79",
   "metadata": {
    "deletable": false,
    "editable": false,
    "slideshow": {
     "slide_type": ""
    },
    "tags": []
   },
   "source": [
    "#### Lab question 2"
   ]
  },
  {
   "cell_type": "markdown",
   "id": "088baa76",
   "metadata": {
    "deletable": false,
    "editable": false,
    "slideshow": {
     "slide_type": ""
    },
    "tags": []
   },
   "source": [
    "How many **rows** are in the dataset (excluding the **header**)?\n",
    "\n",
    "In this assignment, DO NOT attempt to display `csv_rows` (i.e., do not print out the variable or add the variable name to the end of the cell)\n",
    "`csv_rows` has over 600 lists, and will take up unnecessary space"
   ]
  },
  {
   "cell_type": "markdown",
   "id": "06d61e73",
   "metadata": {
    "deletable": false,
    "editable": false,
    "slideshow": {
     "slide_type": ""
    },
    "tags": []
   },
   "source": [
    "Points possible: 3"
   ]
  },
  {
   "cell_type": "code",
   "execution_count": 12,
   "id": "5106a043",
   "metadata": {
    "deletable": false,
    "editable": true,
    "slideshow": {
     "slide_type": ""
    },
    "tags": [
     "lab-q2-code"
    ]
   },
   "outputs": [
    {
     "data": {
      "text/plain": [
       "626"
      ]
     },
     "execution_count": 12,
     "metadata": {},
     "output_type": "execute_result"
    }
   ],
   "source": [
    "# We have done this one for you as an example, do not modify\n",
    "csv_rows = csv_data[1:] \n",
    "num_rows = len(csv_rows)\n",
    "\n",
    "num_rows"
   ]
  },
  {
   "cell_type": "code",
   "execution_count": 13,
   "id": "4d3d064e",
   "metadata": {
    "deletable": false,
    "editable": false,
    "slideshow": {
     "slide_type": ""
    },
    "tags": []
   },
   "outputs": [
    {
     "name": "stdout",
     "output_type": "stream",
     "text": [
      "Make sure you saved the notebook before running this cell. Running check for lab-q2...\n",
      "Great job! You passed all test cases for this question.\n"
     ]
    }
   ],
   "source": [
    "student_grader.check(\"lab-q2\")"
   ]
  },
  {
   "cell_type": "markdown",
   "id": "a0ade672",
   "metadata": {
    "deletable": false,
    "editable": false,
    "slideshow": {
     "slide_type": ""
    },
    "tags": []
   },
   "source": [
    "#### Lab question 3"
   ]
  },
  {
   "cell_type": "markdown",
   "id": "85c2f1b8",
   "metadata": {
    "deletable": false,
    "editable": false,
    "slideshow": {
     "slide_type": ""
    },
    "tags": []
   },
   "source": [
    "What are the **first** *ten* rows in the dataset?"
   ]
  },
  {
   "cell_type": "markdown",
   "id": "816cd102",
   "metadata": {
    "deletable": false,
    "editable": false
   },
   "source": [
    "Points possible: 3"
   ]
  },
  {
   "cell_type": "code",
   "execution_count": 14,
   "id": "4253e985",
   "metadata": {
    "deletable": false,
    "editable": true,
    "tags": [
     "lab-q3-code"
    ]
   },
   "outputs": [
    {
     "data": {
      "text/plain": [
       "[['13781',\n",
       "  'Northern States Power Co - Minnesota',\n",
       "  '1756',\n",
       "  'Saxon Falls',\n",
       "  '1',\n",
       "  'Iron',\n",
       "  '0.5',\n",
       "  '0.5',\n",
       "  'Conventional Hydroelectric',\n",
       "  '46.5392',\n",
       "  '-90.3742'],\n",
       " ['13781',\n",
       "  'Northern States Power Co - Minnesota',\n",
       "  '1756',\n",
       "  'Saxon Falls',\n",
       "  '2',\n",
       "  'Iron',\n",
       "  '0.5',\n",
       "  '0.6',\n",
       "  'Conventional Hydroelectric',\n",
       "  '46.5392',\n",
       "  '-90.3742'],\n",
       " ['20847',\n",
       "  'Wisconsin Electric Power Co',\n",
       "  '1775',\n",
       "  'Brule',\n",
       "  '1',\n",
       "  'Florence',\n",
       "  '1.3',\n",
       "  '1.3',\n",
       "  'Conventional Hydroelectric',\n",
       "  '45.9472',\n",
       "  '-88.2189'],\n",
       " ['20847',\n",
       "  'Wisconsin Electric Power Co',\n",
       "  '1775',\n",
       "  'Brule',\n",
       "  '2',\n",
       "  'Florence',\n",
       "  '2',\n",
       "  '2',\n",
       "  'Conventional Hydroelectric',\n",
       "  '45.9472',\n",
       "  '-88.2189'],\n",
       " ['20847',\n",
       "  'Wisconsin Electric Power Co',\n",
       "  '1775',\n",
       "  'Brule',\n",
       "  '3',\n",
       "  'Florence',\n",
       "  '2',\n",
       "  '2',\n",
       "  'Conventional Hydroelectric',\n",
       "  '45.9472',\n",
       "  '-88.2189'],\n",
       " ['4247',\n",
       "  'Consolidated Water Power Co',\n",
       "  '3971',\n",
       "  'Biron',\n",
       "  '1',\n",
       "  'Wood',\n",
       "  '1.3',\n",
       "  '1.3',\n",
       "  'Conventional Hydroelectric',\n",
       "  '44.4306',\n",
       "  '-89.7808'],\n",
       " ['4247',\n",
       "  'Consolidated Water Power Co',\n",
       "  '3971',\n",
       "  'Biron',\n",
       "  '2',\n",
       "  'Wood',\n",
       "  '1.3',\n",
       "  '1.3',\n",
       "  'Conventional Hydroelectric',\n",
       "  '44.4306',\n",
       "  '-89.7808'],\n",
       " ['4247',\n",
       "  'Consolidated Water Power Co',\n",
       "  '3971',\n",
       "  'Biron',\n",
       "  '3',\n",
       "  'Wood',\n",
       "  '0.4',\n",
       "  '0.4',\n",
       "  'Conventional Hydroelectric',\n",
       "  '44.4306',\n",
       "  '-89.7808'],\n",
       " ['4247',\n",
       "  'Consolidated Water Power Co',\n",
       "  '3971',\n",
       "  'Biron',\n",
       "  '4',\n",
       "  'Wood',\n",
       "  '0.4',\n",
       "  '0.4',\n",
       "  'Conventional Hydroelectric',\n",
       "  '44.4306',\n",
       "  '-89.7808'],\n",
       " ['4247',\n",
       "  'Consolidated Water Power Co',\n",
       "  '3971',\n",
       "  'Biron',\n",
       "  '5',\n",
       "  'Wood',\n",
       "  '0.4',\n",
       "  '0.4',\n",
       "  'Conventional Hydroelectric',\n",
       "  '44.4306',\n",
       "  '-89.7808']]"
      ]
     },
     "execution_count": 14,
     "metadata": {},
     "output_type": "execute_result"
    }
   ],
   "source": [
    "# We have done this one for you as an example, do not modify\n",
    "first_ten_rows = csv_rows[:10]\n",
    "\n",
    "first_ten_rows"
   ]
  },
  {
   "cell_type": "code",
   "execution_count": 15,
   "id": "8a964910",
   "metadata": {
    "deletable": false,
    "editable": false,
    "slideshow": {
     "slide_type": ""
    },
    "tags": []
   },
   "outputs": [
    {
     "name": "stdout",
     "output_type": "stream",
     "text": [
      "Make sure you saved the notebook before running this cell. Running check for lab-q3...\n",
      "Great job! You passed all test cases for this question.\n"
     ]
    }
   ],
   "source": [
    "student_grader.check(\"lab-q3\")"
   ]
  },
  {
   "cell_type": "markdown",
   "id": "bcf87483",
   "metadata": {
    "deletable": false,
    "editable": false,
    "slideshow": {
     "slide_type": ""
    },
    "tags": []
   },
   "source": [
    "#### Lab question 4"
   ]
  },
  {
   "cell_type": "markdown",
   "id": "9146f298",
   "metadata": {
    "deletable": false,
    "editable": false,
    "slideshow": {
     "slide_type": ""
    },
    "tags": []
   },
   "source": [
    "What are the **last** *ten* rows in the dataset?"
   ]
  },
  {
   "cell_type": "markdown",
   "id": "412d28f4",
   "metadata": {
    "deletable": false,
    "editable": false
   },
   "source": [
    "Points possible: 3"
   ]
  },
  {
   "cell_type": "code",
   "execution_count": 16,
   "id": "4e656821",
   "metadata": {
    "deletable": false,
    "editable": true,
    "slideshow": {
     "slide_type": ""
    },
    "tags": [
     "lab-q4-code"
    ]
   },
   "outputs": [
    {
     "data": {
      "text/plain": [
       "[['20860',\n",
       "  'Wisconsin Public Service Corp',\n",
       "  '66059',\n",
       "  'Weston RICE',\n",
       "  'W13',\n",
       "  'Marathon',\n",
       "  '18.8',\n",
       "  '18.8',\n",
       "  'Natural Gas Internal Combustion Engine',\n",
       "  '44.856372',\n",
       "  '-89.65402'],\n",
       " ['20860',\n",
       "  'Wisconsin Public Service Corp',\n",
       "  '66059',\n",
       "  'Weston RICE',\n",
       "  'W14',\n",
       "  'Marathon',\n",
       "  '18.8',\n",
       "  '18.8',\n",
       "  'Natural Gas Internal Combustion Engine',\n",
       "  '44.856372',\n",
       "  '-89.65402'],\n",
       " ['20860',\n",
       "  'Wisconsin Public Service Corp',\n",
       "  '66059',\n",
       "  'Weston RICE',\n",
       "  'W15',\n",
       "  'Marathon',\n",
       "  '18.8',\n",
       "  '18.8',\n",
       "  'Natural Gas Internal Combustion Engine',\n",
       "  '44.856372',\n",
       "  '-89.65402'],\n",
       " ['20860',\n",
       "  'Wisconsin Public Service Corp',\n",
       "  '66059',\n",
       "  'Weston RICE',\n",
       "  'W16',\n",
       "  'Marathon',\n",
       "  '18.8',\n",
       "  '18.8',\n",
       "  'Natural Gas Internal Combustion Engine',\n",
       "  '44.856372',\n",
       "  '-89.65402'],\n",
       " ['20860',\n",
       "  'Wisconsin Public Service Corp',\n",
       "  '66059',\n",
       "  'Weston RICE',\n",
       "  'W17',\n",
       "  'Marathon',\n",
       "  '18.8',\n",
       "  '18.8',\n",
       "  'Natural Gas Internal Combustion Engine',\n",
       "  '44.856372',\n",
       "  '-89.65402'],\n",
       " ['65501',\n",
       "  'Dane County Solar LLC',\n",
       "  '66419',\n",
       "  'Dane County Solar LLC',\n",
       "  'DANE',\n",
       "  'Dane',\n",
       "  '17.3',\n",
       "  '17.3',\n",
       "  'Solar Photovoltaic',\n",
       "  '43.0466',\n",
       "  '-89.23931'],\n",
       " ['60025',\n",
       "  'Greenbacker Renewable Energy Corporation',\n",
       "  '66753',\n",
       "  'Webster Creek (Oak 2)',\n",
       "  '714',\n",
       "  'Juneau',\n",
       "  '1.5',\n",
       "  '1.5',\n",
       "  'Solar Photovoltaic',\n",
       "  '43.86351',\n",
       "  '-90.15579'],\n",
       " ['60025',\n",
       "  'Greenbacker Renewable Energy Corporation',\n",
       "  '66760',\n",
       "  'Lemonweir (Oak 1)',\n",
       "  '713',\n",
       "  'Juneau',\n",
       "  '3',\n",
       "  '3',\n",
       "  'Solar Photovoltaic',\n",
       "  '43.738226',\n",
       "  '-90.01303'],\n",
       " ['60025',\n",
       "  'Greenbacker Renewable Energy Corporation',\n",
       "  '66985',\n",
       "  'Georgetown (Polk Burnett)',\n",
       "  '722',\n",
       "  'Polk',\n",
       "  '2',\n",
       "  '2',\n",
       "  'Solar Photovoltaic',\n",
       "  '45.476919',\n",
       "  '-92.36803'],\n",
       " ['60025',\n",
       "  'Greenbacker Renewable Energy Corporation',\n",
       "  '66987',\n",
       "  'Bluff Prairie (Vernon)',\n",
       "  '718',\n",
       "  'Vernon',\n",
       "  '1.5',\n",
       "  '1.5',\n",
       "  'Solar Photovoltaic',\n",
       "  '43.471699',\n",
       "  '-91.14056']]"
      ]
     },
     "execution_count": 16,
     "metadata": {},
     "output_type": "execute_result"
    }
   ],
   "source": [
    "# replace the ... with your code\n",
    "\n",
    "last_ten_rows = csv_data[-10:]\n",
    "\n",
    "last_ten_rows"
   ]
  },
  {
   "cell_type": "code",
   "execution_count": 17,
   "id": "9d69ce88",
   "metadata": {
    "deletable": false,
    "editable": false,
    "slideshow": {
     "slide_type": ""
    },
    "tags": []
   },
   "outputs": [
    {
     "name": "stdout",
     "output_type": "stream",
     "text": [
      "Make sure you saved the notebook before running this cell. Running check for lab-q4...\n",
      "Great job! You passed all test cases for this question.\n"
     ]
    }
   ],
   "source": [
    "student_grader.check(\"lab-q4\")"
   ]
  },
  {
   "cell_type": "markdown",
   "id": "095ca033-ce23-4004-94fb-ca9b3e17daa5",
   "metadata": {
    "deletable": false,
    "editable": false,
    "slideshow": {
     "slide_type": ""
    },
    "tags": []
   },
   "source": [
    "#### Advice for reading large files"
   ]
  },
  {
   "cell_type": "markdown",
   "id": "445c6b3b",
   "metadata": {
    "deletable": false,
    "editable": false,
    "slideshow": {
     "slide_type": ""
    },
    "tags": []
   },
   "source": [
    "In general, when you want to confirm that you are reading a large file correctly, it is a good idea to check that you have the correct number of rows, and that the first and last few rows are correct. Here, you were given access to the grader check, which knows the correct answers, so it was easy for you to check. Otherwise, you would have to manually open `power_generators.csv` and confirm that you have not made any mistakes. It is recommended that you manually open `power_generators.csv` in any case to verify that the data matches your answers for the previous three questions."
   ]
  },
  {
   "cell_type": "markdown",
   "id": "fddc830e",
   "metadata": {
    "deletable": false,
    "editable": false,
    "slideshow": {
     "slide_type": ""
    },
    "tags": []
   },
   "source": [
    "#### Lab question 5"
   ]
  },
  {
   "cell_type": "markdown",
   "id": "ac2c26a1",
   "metadata": {
    "deletable": false,
    "editable": false
   },
   "source": [
    "What values are present in the *first* **row** of the dataset?\n",
    "\n",
    "**Hint**: You already know how to extract a single element from a list. That is all you need to do here."
   ]
  },
  {
   "cell_type": "markdown",
   "id": "0fbda150",
   "metadata": {
    "deletable": false,
    "editable": false
   },
   "source": [
    "Points possible: 3"
   ]
  },
  {
   "cell_type": "code",
   "execution_count": 18,
   "id": "9d9c81b5",
   "metadata": {
    "deletable": false,
    "editable": true,
    "slideshow": {
     "slide_type": ""
    },
    "tags": [
     "lab-q5-code"
    ]
   },
   "outputs": [
    {
     "data": {
      "text/plain": [
       "['13781',\n",
       " 'Northern States Power Co - Minnesota',\n",
       " '1756',\n",
       " 'Saxon Falls',\n",
       " '1',\n",
       " 'Iron',\n",
       " '0.5',\n",
       " '0.5',\n",
       " 'Conventional Hydroelectric',\n",
       " '46.5392',\n",
       " '-90.3742']"
      ]
     },
     "execution_count": 18,
     "metadata": {},
     "output_type": "execute_result"
    }
   ],
   "source": [
    "# replace the ... with your code using the 'csv_rows' variable defined before\n",
    "first_row = csv_rows[0]\n",
    "\n",
    "first_row"
   ]
  },
  {
   "cell_type": "code",
   "execution_count": 19,
   "id": "cb2fb74d",
   "metadata": {
    "deletable": false,
    "editable": false
   },
   "outputs": [
    {
     "name": "stdout",
     "output_type": "stream",
     "text": [
      "Make sure you saved the notebook before running this cell. Running check for lab-q5...\n",
      "Great job! You passed all test cases for this question.\n"
     ]
    }
   ],
   "source": [
    "student_grader.check(\"lab-q5\")"
   ]
  },
  {
   "cell_type": "markdown",
   "id": "53d66be6",
   "metadata": {
    "deletable": false,
    "editable": false,
    "slideshow": {
     "slide_type": ""
    },
    "tags": []
   },
   "source": [
    "#### Lab question 6"
   ]
  },
  {
   "cell_type": "markdown",
   "id": "303b1dbc",
   "metadata": {
    "deletable": false,
    "editable": false,
    "slideshow": {
     "slide_type": ""
    },
    "tags": []
   },
   "source": [
    "What is the `entity_name` of the *first* power generator?\n",
    "\n",
    "**Hint:** The **column index** for the `entity_name` column is `1`. You may **hardcode** the **column index** as `1` **just for this question**.\n",
    "\n",
    "In the last question, you extracted a single **row** from the file `power_generators.csv`. You will now extract data from a single **cell** of the file.\n",
    "\n",
    "To extract data from a single cell of the csv file, we need two things:\n",
    "  1. row index\n",
    "  2. column index\n",
    "    \n",
    "You already know to extract a row of data with `csv_rows[row_idx]`. Given this list, can you now extract the data in a particular cell using the **column index**?"
   ]
  },
  {
   "cell_type": "markdown",
   "id": "066bab97",
   "metadata": {
    "deletable": false,
    "editable": false,
    "slideshow": {
     "slide_type": ""
    },
    "tags": []
   },
   "source": [
    "Points possible: 2"
   ]
  },
  {
   "cell_type": "code",
   "execution_count": 20,
   "id": "6d4e2e61",
   "metadata": {
    "deletable": false,
    "editable": true,
    "slideshow": {
     "slide_type": ""
    },
    "tags": [
     "lab-q6-code"
    ]
   },
   "outputs": [
    {
     "data": {
      "text/plain": [
       "'Northern States Power Co - Minnesota'"
      ]
     },
     "execution_count": 20,
     "metadata": {},
     "output_type": "execute_result"
    }
   ],
   "source": [
    "# replace the ... with your code\n",
    "first_entity_name = csv_rows[1][1]\n",
    "\n",
    "first_entity_name"
   ]
  },
  {
   "cell_type": "code",
   "execution_count": 21,
   "id": "b790960e",
   "metadata": {
    "deletable": false,
    "editable": false,
    "slideshow": {
     "slide_type": ""
    },
    "tags": []
   },
   "outputs": [
    {
     "name": "stdout",
     "output_type": "stream",
     "text": [
      "Make sure you saved the notebook before running this cell. Running check for lab-q6...\n",
      "Great job! You passed all test cases for this question.\n"
     ]
    }
   ],
   "source": [
    "student_grader.check(\"lab-q6\")"
   ]
  },
  {
   "cell_type": "markdown",
   "id": "0dcfc60b",
   "metadata": {
    "deletable": false,
    "editable": false,
    "slideshow": {
     "slide_type": ""
    },
    "tags": []
   },
   "source": [
    "#### Lab question 7"
   ]
  },
  {
   "cell_type": "markdown",
   "id": "25ce32e0",
   "metadata": {
    "deletable": false,
    "editable": false,
    "slideshow": {
     "slide_type": ""
    },
    "tags": []
   },
   "source": [
    "What is the **index** of the column `technology`?\n",
    "\n",
    "You solved the previous question by **hardcoding** the **column index**, when you were just given the **column name**. This is however a **bad practice**, and you **must not** do it in your project. It would be much safer to somehow **extract** the **column index** **from** the **column name**, and then use the **column index**. The following (built-in) list method helps us with that:\n",
    "\n",
    "**Syntax:** `list.index(value)`\n",
    "\n",
    "This function will return the index of the item `value` in the `list`. You can see this function in action in the question below."
   ]
  },
  {
   "cell_type": "markdown",
   "id": "ad26119f",
   "metadata": {
    "deletable": false,
    "editable": false,
    "slideshow": {
     "slide_type": ""
    },
    "tags": []
   },
   "source": [
    "Points possible: 2"
   ]
  },
  {
   "cell_type": "code",
   "execution_count": 22,
   "id": "80c0f4ab",
   "metadata": {
    "deletable": false,
    "editable": true,
    "slideshow": {
     "slide_type": ""
    },
    "tags": [
     "lab-q7-code"
    ]
   },
   "outputs": [
    {
     "data": {
      "text/plain": [
       "8"
      ]
     },
     "execution_count": 22,
     "metadata": {},
     "output_type": "execute_result"
    }
   ],
   "source": [
    "# We have done this one for you as an example, do not modify\n",
    "technology_index = csv_header.index('technology')\n",
    "technology_index"
   ]
  },
  {
   "cell_type": "code",
   "execution_count": 23,
   "id": "fdf29ca1",
   "metadata": {
    "deletable": false,
    "editable": false,
    "slideshow": {
     "slide_type": ""
    },
    "tags": []
   },
   "outputs": [
    {
     "name": "stdout",
     "output_type": "stream",
     "text": [
      "Make sure you saved the notebook before running this cell. Running check for lab-q7...\n",
      "Great job! You passed all test cases for this question.\n"
     ]
    }
   ],
   "source": [
    "student_grader.check(\"lab-q7\")"
   ]
  },
  {
   "cell_type": "markdown",
   "id": "4ba50bc3",
   "metadata": {
    "deletable": false,
    "editable": false,
    "slideshow": {
     "slide_type": ""
    },
    "tags": []
   },
   "source": [
    "#### Lab question 8"
   ]
  },
  {
   "cell_type": "markdown",
   "id": "65899a4a",
   "metadata": {
    "deletable": false,
    "editable": false,
    "slideshow": {
     "slide_type": ""
    },
    "tags": []
   },
   "source": [
    "What is the `technology` of the *first* generator in the dataset (first row, i.e. `csv_rows[0]`)?\n",
    "\n",
    "Remember that you already computed the `technology_index` variable in the previous question."
   ]
  },
  {
   "cell_type": "markdown",
   "id": "f5f6f55c",
   "metadata": {
    "deletable": false,
    "editable": false,
    "slideshow": {
     "slide_type": ""
    },
    "tags": []
   },
   "source": [
    "Points possible: 2"
   ]
  },
  {
   "cell_type": "code",
   "execution_count": 24,
   "id": "f6f4d800",
   "metadata": {
    "deletable": false,
    "editable": true,
    "slideshow": {
     "slide_type": ""
    },
    "tags": [
     "lab-q8-code"
    ]
   },
   "outputs": [
    {
     "data": {
      "text/plain": [
       "'Conventional Hydroelectric'"
      ]
     },
     "execution_count": 24,
     "metadata": {},
     "output_type": "execute_result"
    }
   ],
   "source": [
    "# replace the ... with your code\n",
    "technology_first_row = csv_rows[0][technology_index]\n",
    "\n",
    "technology_first_row"
   ]
  },
  {
   "cell_type": "code",
   "execution_count": 25,
   "id": "252d7250",
   "metadata": {
    "deletable": false,
    "editable": false,
    "slideshow": {
     "slide_type": ""
    },
    "tags": []
   },
   "outputs": [
    {
     "name": "stdout",
     "output_type": "stream",
     "text": [
      "Make sure you saved the notebook before running this cell. Running check for lab-q8...\n",
      "Great job! You passed all test cases for this question.\n"
     ]
    }
   ],
   "source": [
    "student_grader.check(\"lab-q8\")"
   ]
  },
  {
   "cell_type": "markdown",
   "id": "26d516c9",
   "metadata": {
    "deletable": false,
    "editable": false,
    "slideshow": {
     "slide_type": ""
    },
    "tags": []
   },
   "source": [
    "### Task 1.3: Build a helper function for quick data access"
   ]
  },
  {
   "cell_type": "markdown",
   "id": "fbd0416c-bf46-494e-bad6-bbf11c542ce7",
   "metadata": {
    "deletable": false,
    "editable": false
   },
   "source": [
    "#### Lab Function 2: `cell_temp(row_idx, col_name)`"
   ]
  },
  {
   "cell_type": "markdown",
   "id": "c88fa469-c0b5-4159-a214-ff4e7868ea27",
   "metadata": {
    "deletable": false,
    "editable": false,
    "slideshow": {
     "slide_type": ""
    },
    "tags": []
   },
   "source": [
    "It is quite cumbersome to extract data from `power_generators.csv` by indexing `csv_rows` and using the `index` method each time. To save yourself some time and effort, fill in the details of the following helper function.\n",
    "\n",
    "Note that missing data in this dataset is represented by the string with just a single space. That isn't always the case, but it is in this dataset. This function returns `None` when it encounters missing data.\n",
    "\n",
    "Later in this notebook, we're going to write a better version of this function called just `cell`, so we're calling this one `cell_temp` where `temp` means temporary."
   ]
  },
  {
   "cell_type": "markdown",
   "id": "337979aa-0c2d-41c7-b810-a94a1e2c60bd",
   "metadata": {
    "deletable": false,
    "editable": false,
    "slideshow": {
     "slide_type": ""
    },
    "tags": []
   },
   "source": [
    "Points possible: 3"
   ]
  },
  {
   "cell_type": "code",
   "execution_count": 28,
   "id": "7e698373",
   "metadata": {
    "deletable": false,
    "editable": true,
    "slideshow": {
     "slide_type": ""
    },
    "tags": [
     "lab-cell_temp-code"
    ]
   },
   "outputs": [],
   "source": [
    "# Replace each ... with your code\n",
    "\n",
    "def cell_temp(row_idx, col_name):\n",
    "    col_idx = csv_header.index(col_name)\n",
    "    val = csv_rows[row_idx][col_idx]\n",
    "    \n",
    "    # DO NOT EDIT the lines below\n",
    "    if val == \" \":\n",
    "        return None\n",
    "    return val\n",
    "\n",
    "# test your function yourself by uncommenting the function below and experimenting with different parameters \n",
    "# cell_temp(0, 'entity_name')"
   ]
  },
  {
   "cell_type": "code",
   "execution_count": 29,
   "id": "b0029387",
   "metadata": {
    "deletable": false,
    "editable": false,
    "slideshow": {
     "slide_type": ""
    },
    "tags": []
   },
   "outputs": [
    {
     "name": "stdout",
     "output_type": "stream",
     "text": [
      "Make sure you saved the notebook before running this cell. Running check for lab-cell_temp...\n",
      "Great job! You passed all test cases for this question.\n"
     ]
    }
   ],
   "source": [
    "student_grader.check(\"lab-cell_temp\")"
   ]
  },
  {
   "cell_type": "markdown",
   "id": "6c424f9d",
   "metadata": {
    "deletable": false,
    "editable": false,
    "slideshow": {
     "slide_type": ""
    },
    "tags": []
   },
   "source": [
    "#### Lab question 9"
   ]
  },
  {
   "cell_type": "markdown",
   "id": "437fe62c",
   "metadata": {
    "deletable": false,
    "editable": false
   },
   "source": [
    "What is the `technology` used by the *first* power generator?\n",
    "\n",
    "You **must** answer this question by calling the `cell_temp` function."
   ]
  },
  {
   "cell_type": "markdown",
   "id": "a644b465",
   "metadata": {
    "deletable": false,
    "editable": false,
    "slideshow": {
     "slide_type": ""
    },
    "tags": []
   },
   "source": [
    "Points possible: 3"
   ]
  },
  {
   "cell_type": "code",
   "execution_count": 30,
   "id": "d6772c94",
   "metadata": {
    "deletable": false,
    "editable": true,
    "slideshow": {
     "slide_type": ""
    },
    "tags": [
     "lab-q9-code"
    ]
   },
   "outputs": [
    {
     "data": {
      "text/plain": [
       "'Conventional Hydroelectric'"
      ]
     },
     "execution_count": 30,
     "metadata": {},
     "output_type": "execute_result"
    }
   ],
   "source": [
    "# replace the ... with your code\n",
    "technology_first_row_l9 =cell_temp(0, 'technology')\n",
    "\n",
    "technology_first_row_l9"
   ]
  },
  {
   "cell_type": "code",
   "execution_count": 31,
   "id": "d9bef86d",
   "metadata": {
    "deletable": false,
    "editable": false,
    "slideshow": {
     "slide_type": ""
    },
    "tags": []
   },
   "outputs": [
    {
     "name": "stdout",
     "output_type": "stream",
     "text": [
      "Make sure you saved the notebook before running this cell. Running check for lab-q9...\n",
      "Great job! You passed all test cases for this question.\n"
     ]
    }
   ],
   "source": [
    "student_grader.check(\"lab-q9\")"
   ]
  },
  {
   "cell_type": "markdown",
   "id": "9745b3b7",
   "metadata": {
    "deletable": false,
    "editable": false,
    "slideshow": {
     "slide_type": ""
    },
    "tags": []
   },
   "source": [
    "#### Lab question 10"
   ]
  },
  {
   "cell_type": "markdown",
   "id": "378153b4",
   "metadata": {
    "deletable": false,
    "editable": false,
    "slideshow": {
     "slide_type": ""
    },
    "tags": []
   },
   "source": [
    "What is the `plant_name` of the *second* power generator?\n",
    "\n",
    "You **must** answer this question by calling the `cell_temp` function."
   ]
  },
  {
   "cell_type": "markdown",
   "id": "f58c83ad",
   "metadata": {
    "deletable": false,
    "editable": false
   },
   "source": [
    "Points possible: 3"
   ]
  },
  {
   "cell_type": "code",
   "execution_count": 32,
   "id": "e1d59fa1",
   "metadata": {
    "deletable": false,
    "editable": true,
    "slideshow": {
     "slide_type": ""
    },
    "tags": [
     "lab-q10-code"
    ]
   },
   "outputs": [
    {
     "data": {
      "text/plain": [
       "'Saxon Falls'"
      ]
     },
     "execution_count": 32,
     "metadata": {},
     "output_type": "execute_result"
    }
   ],
   "source": [
    "# replace the ... with your code\n",
    "\n",
    "plant_name_second_row = cell_temp(1, 'plant_name')\n",
    "\n",
    "plant_name_second_row"
   ]
  },
  {
   "cell_type": "code",
   "execution_count": 33,
   "id": "ca2e8676",
   "metadata": {
    "deletable": false,
    "editable": false,
    "slideshow": {
     "slide_type": ""
    },
    "tags": []
   },
   "outputs": [
    {
     "name": "stdout",
     "output_type": "stream",
     "text": [
      "Make sure you saved the notebook before running this cell. Running check for lab-q10...\n",
      "Great job! You passed all test cases for this question.\n"
     ]
    }
   ],
   "source": [
    "student_grader.check(\"lab-q10\")"
   ]
  },
  {
   "cell_type": "markdown",
   "id": "e30ee464",
   "metadata": {
    "deletable": false,
    "editable": false,
    "slideshow": {
     "slide_type": ""
    },
    "tags": []
   },
   "source": [
    "#### Lab question 11"
   ]
  },
  {
   "cell_type": "markdown",
   "id": "464c9d39",
   "metadata": {
    "deletable": false,
    "editable": false
   },
   "source": [
    "What is the `latitude` of the *third* power generator?\n",
    "\n",
    "You **must** answer this question by calling the `cell_temp` function."
   ]
  },
  {
   "cell_type": "markdown",
   "id": "c09dc0c3",
   "metadata": {
    "deletable": false,
    "editable": false
   },
   "source": [
    "Points possible: 3"
   ]
  },
  {
   "cell_type": "code",
   "execution_count": 34,
   "id": "da572e27",
   "metadata": {
    "deletable": false,
    "editable": true,
    "slideshow": {
     "slide_type": ""
    },
    "tags": [
     "lab-q11-code"
    ]
   },
   "outputs": [
    {
     "data": {
      "text/plain": [
       "'45.9472'"
      ]
     },
     "execution_count": 34,
     "metadata": {},
     "output_type": "execute_result"
    }
   ],
   "source": [
    "# replace the ... with your code\n",
    "latitude_third_row = cell_temp(2, 'latitude')\n",
    "\n",
    "latitude_third_row"
   ]
  },
  {
   "cell_type": "code",
   "execution_count": 35,
   "id": "64484ced",
   "metadata": {
    "deletable": false,
    "editable": false,
    "slideshow": {
     "slide_type": ""
    },
    "tags": []
   },
   "outputs": [
    {
     "name": "stdout",
     "output_type": "stream",
     "text": [
      "Make sure you saved the notebook before running this cell. Running check for lab-q11...\n",
      "Great job! You passed all test cases for this question.\n"
     ]
    }
   ],
   "source": [
    "student_grader.check(\"lab-q11\")"
   ]
  },
  {
   "cell_type": "markdown",
   "id": "7bb15107",
   "metadata": {
    "deletable": false,
    "editable": false,
    "slideshow": {
     "slide_type": ""
    },
    "tags": []
   },
   "source": [
    "#### Lab question 12"
   ]
  },
  {
   "cell_type": "markdown",
   "id": "29304bba",
   "metadata": {
    "deletable": false,
    "editable": false,
    "slideshow": {
     "slide_type": ""
    },
    "tags": []
   },
   "source": [
    "What is the `generator_id` of the *tenth* power generator?\n",
    "\n",
    "You **must** answer this question by calling the `cell_temp` function."
   ]
  },
  {
   "cell_type": "markdown",
   "id": "617bdda7",
   "metadata": {
    "deletable": false,
    "editable": false
   },
   "source": [
    "Points possible: 3"
   ]
  },
  {
   "cell_type": "code",
   "execution_count": 36,
   "id": "14239e48",
   "metadata": {
    "deletable": false,
    "editable": true,
    "slideshow": {
     "slide_type": ""
    },
    "tags": [
     "lab-q12-code"
    ]
   },
   "outputs": [
    {
     "data": {
      "text/plain": [
       "'5'"
      ]
     },
     "execution_count": 36,
     "metadata": {},
     "output_type": "execute_result"
    }
   ],
   "source": [
    "# replace the ... with your code\n",
    "\n",
    "generator_id_tenth_row = cell_temp(9, 'generator_id')\n",
    "\n",
    "generator_id_tenth_row"
   ]
  },
  {
   "cell_type": "code",
   "execution_count": 37,
   "id": "6edec0dc",
   "metadata": {
    "deletable": false,
    "editable": false,
    "slideshow": {
     "slide_type": ""
    },
    "tags": []
   },
   "outputs": [
    {
     "name": "stdout",
     "output_type": "stream",
     "text": [
      "Make sure you saved the notebook before running this cell. Running check for lab-q12...\n",
      "Great job! You passed all test cases for this question.\n"
     ]
    }
   ],
   "source": [
    "student_grader.check(\"lab-q12\")"
   ]
  },
  {
   "cell_type": "markdown",
   "id": "21c55fa7",
   "metadata": {
    "deletable": false,
    "editable": false,
    "slideshow": {
     "slide_type": ""
    },
    "tags": []
   },
   "source": [
    "#### Lab question 13"
   ]
  },
  {
   "cell_type": "markdown",
   "id": "f1d0283e",
   "metadata": {
    "deletable": false,
    "editable": false,
    "slideshow": {
     "slide_type": ""
    },
    "tags": []
   },
   "source": [
    "How **many** power generators are in the `county` *Iron*?\n",
    "\n",
    "You **must** use `cell_temp` to extract data from the csv file.\n",
    "\n",
    "**Hint:** You must loop through the entire dataset. Use `cell_temp` to extract the `county` of each generator."
   ]
  },
  {
   "cell_type": "markdown",
   "id": "3f4feb05",
   "metadata": {
    "deletable": false,
    "editable": false
   },
   "source": [
    "Points possible: 3"
   ]
  },
  {
   "cell_type": "code",
   "execution_count": 38,
   "id": "b784647f",
   "metadata": {
    "deletable": false,
    "editable": true,
    "slideshow": {
     "slide_type": ""
    },
    "tags": [
     "lab-q13-code"
    ]
   },
   "outputs": [
    {
     "data": {
      "text/plain": [
       "2"
      ]
     },
     "execution_count": 38,
     "metadata": {},
     "output_type": "execute_result"
    }
   ],
   "source": [
    "# replace the ... with your code\n",
    "# use `cell_temp` to determine if the power generator\n",
    "# at `i` is from the correct county\n",
    "\n",
    "iron_generators = 0\n",
    "for i in range(num_rows):\n",
    "    if cell_temp(i, 'county') == 'Iron':\n",
    "        iron_generators += 1\n",
    "\n",
    "iron_generators"
   ]
  },
  {
   "cell_type": "code",
   "execution_count": 39,
   "id": "e54f46ae",
   "metadata": {
    "deletable": false,
    "editable": false,
    "slideshow": {
     "slide_type": ""
    },
    "tags": []
   },
   "outputs": [
    {
     "name": "stdout",
     "output_type": "stream",
     "text": [
      "Make sure you saved the notebook before running this cell. Running check for lab-q13...\n",
      "Great job! You passed all test cases for this question.\n"
     ]
    }
   ],
   "source": [
    "student_grader.check(\"lab-q13\")"
   ]
  },
  {
   "cell_type": "markdown",
   "id": "e7712ceb",
   "metadata": {
    "deletable": false,
    "editable": false,
    "slideshow": {
     "slide_type": ""
    },
    "tags": []
   },
   "source": [
    "#### Lab question 14"
   ]
  },
  {
   "cell_type": "markdown",
   "id": "4cb8fcdf",
   "metadata": {
    "deletable": false,
    "editable": false,
    "slideshow": {
     "slide_type": ""
    },
    "tags": []
   },
   "source": [
    "List the names (`plant_name`) of all the power plants operated by the entity with the `entity_name` *Butter Solar, LLC*.\n",
    "\n",
    "Your output **must** be a *list*. You **must** use `cell_temp` to extract any data from the csv file.\n",
    "\n",
    "**Hint:** Loop through the entire dataset and use `cell_temp` to determine if each generator is operated by the required `entity_name`. Use `cell_temp` once again to extract the `plant_name` of each such generator, and use the `<list>.append` method to add the `plant_name` to your list.\n",
    "\n",
    "Remember that you can uncomment lines of code by holding command (Mac) or control (Windows) and hitting `/`."
   ]
  },
  {
   "cell_type": "markdown",
   "id": "98688657",
   "metadata": {
    "deletable": false,
    "editable": false,
    "slideshow": {
     "slide_type": ""
    },
    "tags": []
   },
   "source": [
    "Points possible: 3"
   ]
  },
  {
   "cell_type": "code",
   "execution_count": 40,
   "id": "93cb2fb9",
   "metadata": {
    "deletable": false,
    "editable": true,
    "slideshow": {
     "slide_type": ""
    },
    "tags": [
     "lab-q14-code"
    ]
   },
   "outputs": [
    {
     "data": {
      "text/plain": [
       "['Arcadia Solar',\n",
       " 'Fennimore Solar',\n",
       " 'New Lisbon Solar',\n",
       " 'Cumberland Solar',\n",
       " 'Cashton Solar',\n",
       " 'Elroy Solar']"
      ]
     },
     "execution_count": 40,
     "metadata": {},
     "output_type": "execute_result"
    }
   ],
   "source": [
    "# Initialize an empty list to store plant names\n",
    "butter_solar_plants = []\n",
    "\n",
    "# Loop through all rows in the dataset\n",
    "for i in range(num_rows):\n",
    "    # Check if the entity_name at row i matches \"Butter Solar, LLC\"\n",
    "    if cell_temp(i, 'entity_name') == 'Butter Solar, LLC':\n",
    "        # Append the plant_name to the list if the entity matches\n",
    "        butter_solar_plants.append(cell_temp(i, 'plant_name'))\n",
    "\n",
    "# Output the list of plant names\n",
    "butter_solar_plants"
   ]
  },
  {
   "cell_type": "code",
   "execution_count": 41,
   "id": "01d0c581",
   "metadata": {
    "deletable": false,
    "editable": false,
    "slideshow": {
     "slide_type": ""
    },
    "tags": []
   },
   "outputs": [
    {
     "name": "stdout",
     "output_type": "stream",
     "text": [
      "Make sure you saved the notebook before running this cell. Running check for lab-q14...\n",
      "Great job! You passed all test cases for this question.\n"
     ]
    }
   ],
   "source": [
    "student_grader.check(\"lab-q14\")"
   ]
  },
  {
   "cell_type": "markdown",
   "id": "0ff34e53",
   "metadata": {
    "deletable": false,
    "editable": false,
    "slideshow": {
     "slide_type": ""
    },
    "tags": []
   },
   "source": [
    "#### Lab Function 3: `cell(row_idx, col_name)`"
   ]
  },
  {
   "cell_type": "markdown",
   "id": "86efa525",
   "metadata": {
    "deletable": false,
    "editable": false,
    "slideshow": {
     "slide_type": ""
    },
    "tags": []
   },
   "source": [
    "Our helper function `cell_temp` could use some improvement. As you have seen, the function currently returns columns such as `entity_id` as **strings**, even though it would make more sense to represent them as **ints**. Let us ensure that the function returns the required type on its own. \n",
    "\n",
    "We will define a new function `cell` and test its implementation.\n",
    "\n",
    "\n",
    "- Recall that the **correct** datatypes for each of the columns are as follows:\n",
    "    1. `entity_id` - **`int`**\n",
    "    2. `entity_name` - **`str`**\n",
    "    3. `plant_id` - **`int`**\n",
    "    4. `plant_name` - **`str`**\n",
    "    5. `generator_id` - **`str`** (note that this is an id but it's a string!)\n",
    "    6. `county` - **`str`**\n",
    "    7. `net_summer_capacity` - **`float`**\n",
    "    8. `net_winter_capacity` - **`float`**\n",
    "    9. `technology` - **`str`**\n",
    "    10. `latitude` - **`float`**\n",
    "    11. `longitude` - **`float`**\n",
    "\n",
    "\n",
    "An `if` condition will become very long if you keep using `or` to separate each column comparison operation. Thus, it is easier to make a list of all the column names whose values require `int` conversion (for example) and use `in` operator to check if the column name is in that list.\n",
    "\n",
    "\n",
    "```python\n",
    "if col_name in [..., ..., ...]\n",
    "```"
   ]
  },
  {
   "cell_type": "markdown",
   "id": "24a6938e-909c-4cd4-a6a9-7734e3a41f30",
   "metadata": {
    "deletable": false,
    "editable": false,
    "slideshow": {
     "slide_type": ""
    },
    "tags": []
   },
   "source": [
    "Points possible: 0"
   ]
  },
  {
   "cell_type": "code",
   "execution_count": 42,
   "id": "e1ae04e5",
   "metadata": {
    "deletable": false,
    "editable": true,
    "slideshow": {
     "slide_type": ""
    },
    "tags": [
     "lab-cell-code"
    ]
   },
   "outputs": [],
   "source": [
    "def cell(row_idx, col_name):\n",
    "    # Get the column index from the header\n",
    "    col_idx = csv_header.index(col_name)\n",
    "    \n",
    "    # Extract the value from the specific row and column\n",
    "    val = csv_rows[row_idx][col_idx]\n",
    "    \n",
    "    # Return None if the value is a single space (missing data)\n",
    "    if val == \" \":\n",
    "        return None\n",
    "    # Convert specific columns to int\n",
    "    elif col_name in ['entity_id', 'plant_id']:\n",
    "        val = int(val)\n",
    "    # Convert specific columns to float\n",
    "    elif col_name in ['net_summer_capacity', 'net_winter_capacity', 'latitude', 'longitude']:\n",
    "        val = float(val)\n",
    "    # Leave other columns (like strings) as they are\n",
    "    return val\n",
    "\n",
    "# Test your function by experimenting with different parameters\n",
    "# Example: cell(0, 'latitude')"
   ]
  },
  {
   "cell_type": "code",
   "execution_count": 43,
   "id": "3985b49b",
   "metadata": {
    "deletable": false,
    "editable": false,
    "slideshow": {
     "slide_type": ""
    },
    "tags": []
   },
   "outputs": [
    {
     "name": "stdout",
     "output_type": "stream",
     "text": [
      "Make sure you saved the notebook before running this cell. Running check for lab-cell...\n",
      "Great job! You passed all test cases for this question.\n"
     ]
    }
   ],
   "source": [
    "student_grader.check(\"lab-cell\")"
   ]
  },
  {
   "cell_type": "markdown",
   "id": "ec23b0c9",
   "metadata": {
    "deletable": false,
    "editable": false,
    "slideshow": {
     "slide_type": ""
    },
    "tags": []
   },
   "source": [
    "#### Lab question 15"
   ]
  },
  {
   "cell_type": "markdown",
   "id": "202e695e",
   "metadata": {
    "deletable": false,
    "editable": false,
    "slideshow": {
     "slide_type": ""
    },
    "tags": []
   },
   "source": [
    "What is the `entity_id` of the *last* power generator?\n",
    "\n",
    "Your output **must** be an `int`. You **must** call the `cell` function to answer this question."
   ]
  },
  {
   "cell_type": "markdown",
   "id": "0108ffd1",
   "metadata": {
    "deletable": false,
    "editable": false,
    "slideshow": {
     "slide_type": ""
    },
    "tags": []
   },
   "source": [
    "Points possible: 3"
   ]
  },
  {
   "cell_type": "code",
   "execution_count": 44,
   "id": "dd0e4a40",
   "metadata": {
    "deletable": false,
    "editable": true,
    "slideshow": {
     "slide_type": ""
    },
    "tags": [
     "lab-q15-code"
    ]
   },
   "outputs": [
    {
     "data": {
      "text/plain": [
       "60025"
      ]
     },
     "execution_count": 44,
     "metadata": {},
     "output_type": "execute_result"
    }
   ],
   "source": [
    "# we have done this for you\n",
    "entity_id_last_row = cell(-1, 'entity_id')\n",
    "\n",
    "entity_id_last_row"
   ]
  },
  {
   "cell_type": "code",
   "execution_count": 45,
   "id": "c9220e0f",
   "metadata": {
    "deletable": false,
    "editable": false,
    "slideshow": {
     "slide_type": ""
    },
    "tags": []
   },
   "outputs": [
    {
     "name": "stdout",
     "output_type": "stream",
     "text": [
      "Make sure you saved the notebook before running this cell. Running check for lab-q15...\n",
      "Great job! You passed all test cases for this question.\n"
     ]
    }
   ],
   "source": [
    "student_grader.check(\"lab-q15\")"
   ]
  },
  {
   "cell_type": "markdown",
   "id": "870f7d07",
   "metadata": {
    "deletable": false,
    "editable": false,
    "slideshow": {
     "slide_type": ""
    },
    "tags": []
   },
   "source": [
    "#### Lab question 16"
   ]
  },
  {
   "cell_type": "markdown",
   "id": "60c82d40",
   "metadata": {
    "deletable": false,
    "editable": false,
    "slideshow": {
     "slide_type": ""
    },
    "tags": []
   },
   "source": [
    "What is the `plant_id` of the *last* power generator?"
   ]
  },
  {
   "cell_type": "markdown",
   "id": "6b14dd99",
   "metadata": {
    "deletable": false,
    "editable": false,
    "slideshow": {
     "slide_type": ""
    },
    "tags": []
   },
   "source": [
    "Points possible: 3"
   ]
  },
  {
   "cell_type": "code",
   "execution_count": 46,
   "id": "739c9c2f",
   "metadata": {
    "deletable": false,
    "editable": true,
    "slideshow": {
     "slide_type": ""
    },
    "tags": [
     "lab-q16-code"
    ]
   },
   "outputs": [
    {
     "data": {
      "text/plain": [
       "66987"
      ]
     },
     "execution_count": 46,
     "metadata": {},
     "output_type": "execute_result"
    }
   ],
   "source": [
    "# Extract the plant_id of the last power generator using the cell function\n",
    "plant_id_last_row = cell(num_rows - 1, 'plant_id')\n",
    "\n",
    "plant_id_last_row"
   ]
  },
  {
   "cell_type": "code",
   "execution_count": 47,
   "id": "1a7d3051",
   "metadata": {
    "deletable": false,
    "editable": false,
    "slideshow": {
     "slide_type": ""
    },
    "tags": []
   },
   "outputs": [
    {
     "name": "stdout",
     "output_type": "stream",
     "text": [
      "Make sure you saved the notebook before running this cell. Running check for lab-q16...\n",
      "Great job! You passed all test cases for this question.\n"
     ]
    }
   ],
   "source": [
    "student_grader.check(\"lab-q16\")"
   ]
  },
  {
   "cell_type": "markdown",
   "id": "715c88b2",
   "metadata": {
    "deletable": false,
    "editable": false,
    "slideshow": {
     "slide_type": ""
    },
    "tags": []
   },
   "source": [
    "#### Lab question 17"
   ]
  },
  {
   "cell_type": "markdown",
   "id": "f4a4a7b0",
   "metadata": {
    "deletable": false,
    "editable": false,
    "slideshow": {
     "slide_type": ""
    },
    "tags": []
   },
   "source": [
    "What is the `net_summer_capacity` of the *fifth* power generator?"
   ]
  },
  {
   "cell_type": "markdown",
   "id": "3b7f1e4c",
   "metadata": {
    "deletable": false,
    "editable": false,
    "slideshow": {
     "slide_type": ""
    },
    "tags": []
   },
   "source": [
    "Points possible: 3"
   ]
  },
  {
   "cell_type": "code",
   "execution_count": 48,
   "id": "f776df30",
   "metadata": {
    "deletable": false,
    "editable": true,
    "slideshow": {
     "slide_type": ""
    },
    "tags": [
     "lab-q17-code"
    ]
   },
   "outputs": [
    {
     "data": {
      "text/plain": [
       "2.0"
      ]
     },
     "execution_count": 48,
     "metadata": {},
     "output_type": "execute_result"
    }
   ],
   "source": [
    "# Extract the net_summer_capacity of the fifth power generator using the cell function\n",
    "net_summer_capacity_fifth_row = cell(4, 'net_summer_capacity')\n",
    "\n",
    "net_summer_capacity_fifth_row"
   ]
  },
  {
   "cell_type": "code",
   "execution_count": 49,
   "id": "eb854ff1",
   "metadata": {
    "deletable": false,
    "editable": false,
    "slideshow": {
     "slide_type": ""
    },
    "tags": []
   },
   "outputs": [
    {
     "name": "stdout",
     "output_type": "stream",
     "text": [
      "Make sure you saved the notebook before running this cell. Running check for lab-q17...\n",
      "Great job! You passed all test cases for this question.\n"
     ]
    }
   ],
   "source": [
    "student_grader.check(\"lab-q17\")"
   ]
  },
  {
   "cell_type": "markdown",
   "id": "d0773f5a",
   "metadata": {
    "deletable": false,
    "editable": false,
    "slideshow": {
     "slide_type": ""
    },
    "tags": []
   },
   "source": [
    "#### Lab question 18"
   ]
  },
  {
   "cell_type": "markdown",
   "id": "bf4e0dfd",
   "metadata": {
    "deletable": false,
    "editable": false,
    "slideshow": {
     "slide_type": ""
    },
    "tags": []
   },
   "source": [
    "What is the `latitude` of the *hundredth* power generator?"
   ]
  },
  {
   "cell_type": "markdown",
   "id": "c56e6918",
   "metadata": {
    "deletable": false,
    "editable": false,
    "slideshow": {
     "slide_type": ""
    },
    "tags": []
   },
   "source": [
    "Points possible: 3"
   ]
  },
  {
   "cell_type": "code",
   "execution_count": 50,
   "id": "557392fd",
   "metadata": {
    "deletable": false,
    "editable": true,
    "slideshow": {
     "slide_type": ""
    },
    "tags": [
     "lab-q18-code"
    ]
   },
   "outputs": [
    {
     "data": {
      "text/plain": [
       "45.41167"
      ]
     },
     "execution_count": 50,
     "metadata": {},
     "output_type": "execute_result"
    }
   ],
   "source": [
    "# we have done this one for you\n",
    "latitude_hundredth_row = cell(99, 'latitude')\n",
    "\n",
    "latitude_hundredth_row"
   ]
  },
  {
   "cell_type": "code",
   "execution_count": 51,
   "id": "47628187",
   "metadata": {
    "deletable": false,
    "editable": false
   },
   "outputs": [
    {
     "name": "stdout",
     "output_type": "stream",
     "text": [
      "Make sure you saved the notebook before running this cell. Running check for lab-q18...\n",
      "Great job! You passed all test cases for this question.\n"
     ]
    }
   ],
   "source": [
    "student_grader.check(\"lab-q18\")"
   ]
  },
  {
   "cell_type": "markdown",
   "id": "2c47e054",
   "metadata": {
    "deletable": false,
    "editable": false
   },
   "source": [
    "#### Lab question 19"
   ]
  },
  {
   "cell_type": "markdown",
   "id": "18c90657",
   "metadata": {
    "deletable": false,
    "editable": false
   },
   "source": [
    "What is the **list** of `net_winter_capacity` of the generators from the `county` *Sheboygan*?"
   ]
  },
  {
   "cell_type": "markdown",
   "id": "078a9bde",
   "metadata": {
    "deletable": false,
    "editable": false
   },
   "source": [
    "Points possible: 3"
   ]
  },
  {
   "cell_type": "code",
   "execution_count": 52,
   "id": "723c31f8",
   "metadata": {
    "deletable": false,
    "editable": true,
    "slideshow": {
     "slide_type": ""
    },
    "tags": [
     "lab-q19-code"
    ]
   },
   "outputs": [
    {
     "data": {
      "text/plain": [
       "[409.3, 172.6, 169.5, 81.8, 1.0, 2.3]"
      ]
     },
     "execution_count": 52,
     "metadata": {},
     "output_type": "execute_result"
    }
   ],
   "source": [
    "# Initialize an empty list to store the net_winter_capacity values\n",
    "sheboygan_winter_capacities = []\n",
    "\n",
    "# Loop through all rows in the dataset\n",
    "for i in range(num_rows):\n",
    "    # Check if the county at row i is 'Sheboygan'\n",
    "    if cell(i, 'county') == 'Sheboygan':\n",
    "        # Append the net_winter_capacity to the list\n",
    "        sheboygan_winter_capacities.append(cell(i, 'net_winter_capacity'))\n",
    "\n",
    "# Output the list of net_winter_capacity for Sheboygan county\n",
    "sheboygan_winter_capacities"
   ]
  },
  {
   "cell_type": "code",
   "execution_count": 53,
   "id": "3131716c",
   "metadata": {
    "deletable": false,
    "editable": false,
    "slideshow": {
     "slide_type": ""
    },
    "tags": []
   },
   "outputs": [
    {
     "name": "stdout",
     "output_type": "stream",
     "text": [
      "Make sure you saved the notebook before running this cell. Running check for lab-q19...\n",
      "Great job! You passed all test cases for this question.\n"
     ]
    }
   ],
   "source": [
    "student_grader.check(\"lab-q19\")"
   ]
  },
  {
   "cell_type": "markdown",
   "id": "b48aec7c",
   "metadata": {
    "deletable": false,
    "editable": false
   },
   "source": [
    "## Segment 3: Sorting Data\n",
    "\n",
    "There are two major ways to sort lists in Python: (1) with the `sorted` function and (2) with the `.sort` method. For each method, let's examine (a) how it modifies existing structures, and (b) what new values it returns, if any.\n",
    "\n",
    "The default sorting order is ascending. You can change that to descending, by passing the keyword argument `reverse = True`. The same parameter / argument pair is applicable for both `.sort` method and `sorted` function."
   ]
  },
  {
   "cell_type": "markdown",
   "id": "3191a204",
   "metadata": {
    "deletable": false,
    "editable": false
   },
   "source": [
    "### Task 3.1: Sort lists using `sorted()`"
   ]
  },
  {
   "cell_type": "markdown",
   "id": "50b22b74",
   "metadata": {
    "deletable": false,
    "editable": false
   },
   "source": [
    "#### Lab question 20"
   ]
  },
  {
   "cell_type": "markdown",
   "id": "98246983",
   "metadata": {
    "deletable": false,
    "editable": false
   },
   "source": [
    "What does the function call `sorted(sheboygan_winter_capacities)` do? Does the original list passed to `sorted` change?"
   ]
  },
  {
   "cell_type": "markdown",
   "id": "0de344a4",
   "metadata": {
    "deletable": false,
    "editable": false
   },
   "source": [
    "Points possible: 1"
   ]
  },
  {
   "cell_type": "code",
   "execution_count": 58,
   "id": "381a409d",
   "metadata": {
    "deletable": false,
    "editable": true,
    "tags": [
     "lab-q20-code"
    ]
   },
   "outputs": [
    {
     "name": "stdout",
     "output_type": "stream",
     "text": [
      "Returned value: [1.0, 2.3, 81.8, 169.5, 172.6, 409.3]\n",
      "Original list after sorting: [409.3, 172.6, 169.5, 81.8, 1.0, 2.3]\n"
     ]
    }
   ],
   "source": [
    "# Observe the output here\n",
    "\n",
    "sorted_sheboygan_winter_capacities = sorted(sheboygan_winter_capacities)\n",
    "\n",
    "print(\"Returned value:\", sorted_sheboygan_winter_capacities)\n",
    "print(\"Original list after sorting:\", sheboygan_winter_capacities)\n"
   ]
  },
  {
   "cell_type": "code",
   "execution_count": 59,
   "id": "a73f4d6f",
   "metadata": {
    "deletable": false,
    "editable": false
   },
   "outputs": [
    {
     "name": "stdout",
     "output_type": "stream",
     "text": [
      "Make sure you saved the notebook before running this cell. Running check for lab-q20...\n",
      "Returned value: [1.0, 2.3, 81.8, 169.5, 172.6, 409.3]\n",
      "Original list after sorting: [409.3, 172.6, 169.5, 81.8, 1.0, 2.3]\n",
      "Great job! You passed all test cases for this question.\n"
     ]
    }
   ],
   "source": [
    "student_grader.check(\"lab-q20\")"
   ]
  },
  {
   "cell_type": "markdown",
   "id": "28142877",
   "metadata": {
    "deletable": false,
    "editable": false
   },
   "source": [
    "### Task 3.2: Sort lists using `.sort()`"
   ]
  },
  {
   "cell_type": "markdown",
   "id": "85bf74f2",
   "metadata": {
    "deletable": false,
    "editable": false
   },
   "source": [
    "#### Lab question 21"
   ]
  },
  {
   "cell_type": "markdown",
   "id": "5d36c3a9",
   "metadata": {
    "deletable": false,
    "editable": false
   },
   "source": [
    "What does the method call `sheboygan_winter_capacities.sort()` do? Does the original list (the one whose `.sort` method is called) change? How is this different from when you used `sorted` in the question above?"
   ]
  },
  {
   "cell_type": "markdown",
   "id": "4d92afd7",
   "metadata": {
    "deletable": false,
    "editable": false
   },
   "source": [
    "Points possible: 1"
   ]
  },
  {
   "cell_type": "code",
   "execution_count": 60,
   "id": "2778fb2d",
   "metadata": {
    "deletable": false,
    "editable": true,
    "tags": [
     "lab-q21-code"
    ]
   },
   "outputs": [
    {
     "name": "stdout",
     "output_type": "stream",
     "text": [
      "Returned value: None\n",
      "Original list after sorting: [1.0, 2.3, 81.8, 169.5, 172.6, 409.3]\n"
     ]
    }
   ],
   "source": [
    "# Observe the output here\n",
    "result = sheboygan_winter_capacities.sort()\n",
    "\n",
    "print(\"Returned value:\", result)\n",
    "print(\"Original list after sorting:\", sheboygan_winter_capacities)"
   ]
  },
  {
   "cell_type": "code",
   "execution_count": 61,
   "id": "3e2b08d0",
   "metadata": {
    "deletable": false,
    "editable": false
   },
   "outputs": [
    {
     "name": "stdout",
     "output_type": "stream",
     "text": [
      "Make sure you saved the notebook before running this cell. Running check for lab-q21...\n",
      "Returned value: None\n",
      "Original list after sorting: [1.0, 2.3, 81.8, 169.5, 172.6, 409.3]\n",
      "Great job! You passed all test cases for this question.\n"
     ]
    }
   ],
   "source": [
    "student_grader.check(\"lab-q21\")"
   ]
  },
  {
   "cell_type": "markdown",
   "id": "66b79825-7915-4f8c-ad0b-907e596b4aaa",
   "metadata": {
    "deletable": false,
    "editable": false
   },
   "source": [
    "#### Sorting in reverse order"
   ]
  },
  {
   "cell_type": "markdown",
   "id": "50bf5fde",
   "metadata": {
    "deletable": false,
    "editable": false
   },
   "source": [
    "In the questions above, we saw that `sorted` will return a sorted version of the list passed to the function without modifying the original copy of that list. On the other hand, the `.sort` method of a list will modify the list calling that method, and it has no return value.\n",
    "\n",
    "Now run the below code cells. Can you explain the output? Which one will modify the original sheboygan_winter_capacities list?"
   ]
  },
  {
   "cell_type": "code",
   "execution_count": 62,
   "id": "006eea9b",
   "metadata": {
    "deletable": false,
    "editable": true
   },
   "outputs": [
    {
     "data": {
      "text/plain": [
       "[409.3, 172.6, 169.5, 81.8, 2.3, 1.0]"
      ]
     },
     "execution_count": 62,
     "metadata": {},
     "output_type": "execute_result"
    }
   ],
   "source": [
    "# sort in descending order\n",
    "reverse_sorted_sheboygan_winter_capacities = sorted(sheboygan_winter_capacities, reverse=True) \n",
    "reverse_sorted_sheboygan_winter_capacities "
   ]
  },
  {
   "cell_type": "code",
   "execution_count": 63,
   "id": "5ba4a92a",
   "metadata": {
    "deletable": false,
    "editable": true
   },
   "outputs": [
    {
     "data": {
      "text/plain": [
       "[409.3, 172.6, 169.5, 81.8, 2.3, 1.0]"
      ]
     },
     "execution_count": 63,
     "metadata": {},
     "output_type": "execute_result"
    }
   ],
   "source": [
    "# sort in descending order\n",
    "sheboygan_winter_capacities.sort(reverse=True)\n",
    "\n",
    "sheboygan_winter_capacities"
   ]
  },
  {
   "cell_type": "markdown",
   "id": "b2e91873",
   "metadata": {
    "deletable": false,
    "editable": false
   },
   "source": [
    "### Task 3.3: Sorting to find the median"
   ]
  },
  {
   "cell_type": "markdown",
   "id": "1b4c1f8b-d56b-45df-9d81-2445afcadbd6",
   "metadata": {
    "deletable": false,
    "editable": false
   },
   "source": [
    "#### Lab Function 4: `median(items)`"
   ]
  },
  {
   "cell_type": "markdown",
   "id": "17027a0c",
   "metadata": {
    "deletable": false,
    "editable": false
   },
   "source": [
    "Now, let's try using sorting to solve a common problem - that of finding the median of a given distribution of values. Recall that the median is the **middle number** in a sorted (ascending or descending) list of numbers.   \n",
    "  \n",
    "In a sorted list, if the list has an **odd** number of elements, the median is the middle number:\n",
    "\n",
    "For example, for the list `[10, 20, 30, 40, 50]` --> median is `30`. Note that the middle index is `2` for an array of length `5`. Likewise, the middle index is `4` for an array of length `9`. That's calculated as `9 // 2` where `//` is floor division.\n",
    "\n",
    "If a sorted list has an **even** number of elements, the median is the **average** of the **two middle numbers**:\n",
    "\n",
    "For example, for the list `[10, 20, 30, 40]` --> median is `25.0`. Note that the median is a float here because you're dividing by 2. For an array of length `4`, the first middle is at index `1` (`4 // 2 - 1`) while the second middle is at index 2 (`4 // 2`).\n",
    "\n",
    "**Note:** The function **must not** change the original list's order. Think about whether you should use the `.sort` method or the `sorted` function here."
   ]
  },
  {
   "cell_type": "markdown",
   "id": "4bccb371-58c6-4af5-8868-27a3f4d19b0b",
   "metadata": {
    "deletable": false,
    "editable": false
   },
   "source": [
    "Points possible: 4"
   ]
  },
  {
   "cell_type": "code",
   "execution_count": 64,
   "id": "ac1bb275",
   "metadata": {
    "deletable": false,
    "editable": true,
    "tags": [
     "lab-median-code"
    ]
   },
   "outputs": [
    {
     "name": "stdout",
     "output_type": "stream",
     "text": [
      "2.5\n",
      "30\n"
     ]
    }
   ],
   "source": [
    "def median(items):\n",
    "    # Sort the list without changing the original order\n",
    "    sorted_list = sorted(items)\n",
    "    \n",
    "    # Determine the length of the list\n",
    "    list_len = len(sorted_list)\n",
    "    \n",
    "    # Check if the length is odd\n",
    "    if list_len % 2 != 0:\n",
    "        # Return the middle element if the list length is odd\n",
    "        return sorted_list[list_len // 2]\n",
    "    \n",
    "    else:\n",
    "        # For even length, find the two middle elements\n",
    "        first_middle = sorted_list[(list_len // 2) - 1]\n",
    "        second_middle = sorted_list[list_len // 2]\n",
    "        \n",
    "        # Return the average of the two middle elements\n",
    "        return (first_middle + second_middle) / 2\n",
    "\n",
    "# Test your function by experimenting with different parameters\n",
    "# Example: \n",
    "print(median([1, 2, 3, 4]))  # Should return 2.5\n",
    "print(median([10, 20, 30, 40, 50]))  # Should return 30"
   ]
  },
  {
   "cell_type": "code",
   "execution_count": 65,
   "id": "750f62e2",
   "metadata": {
    "deletable": false,
    "editable": false
   },
   "outputs": [
    {
     "name": "stdout",
     "output_type": "stream",
     "text": [
      "Make sure you saved the notebook before running this cell. Running check for lab-median...\n",
      "2.5\n",
      "30\n",
      "Great job! You passed all test cases for this question.\n"
     ]
    }
   ],
   "source": [
    "student_grader.check(\"lab-median\")"
   ]
  },
  {
   "cell_type": "markdown",
   "id": "4a67b459",
   "metadata": {
    "deletable": false,
    "editable": false
   },
   "source": [
    "#### Lab question 22"
   ]
  },
  {
   "cell_type": "markdown",
   "id": "673ff3c3",
   "metadata": {
    "deletable": false,
    "editable": false
   },
   "source": [
    "What is the median of the list `list1 = [5, 3, 1, 2, 4]`?"
   ]
  },
  {
   "cell_type": "markdown",
   "id": "9036d30f",
   "metadata": {
    "deletable": false,
    "editable": false
   },
   "source": [
    "Points possible: 3"
   ]
  },
  {
   "cell_type": "code",
   "execution_count": 66,
   "id": "51cde2d0",
   "metadata": {
    "deletable": false,
    "editable": true,
    "tags": [
     "lab-q22-code"
    ]
   },
   "outputs": [
    {
     "data": {
      "text/plain": [
       "3"
      ]
     },
     "execution_count": 66,
     "metadata": {},
     "output_type": "execute_result"
    }
   ],
   "source": [
    "list1 = [5, 3, 1, 2, 4]\n",
    "\n",
    "# Call the median function with list1\n",
    "median1 = median(list1)\n",
    "\n",
    "median1\n"
   ]
  },
  {
   "cell_type": "code",
   "execution_count": 67,
   "id": "5b55681d",
   "metadata": {
    "deletable": false,
    "editable": false
   },
   "outputs": [
    {
     "name": "stdout",
     "output_type": "stream",
     "text": [
      "Make sure you saved the notebook before running this cell. Running check for lab-q22...\n",
      "Great job! You passed all test cases for this question.\n"
     ]
    }
   ],
   "source": [
    "student_grader.check(\"lab-q22\")"
   ]
  },
  {
   "cell_type": "markdown",
   "id": "ae7a3316",
   "metadata": {
    "deletable": false,
    "editable": false
   },
   "source": [
    "#### Lab question 23"
   ]
  },
  {
   "cell_type": "markdown",
   "id": "be10b8b4",
   "metadata": {
    "deletable": false,
    "editable": false
   },
   "source": [
    "What is the median of the `list2 = [5, 3, 1, 2, 4, 6]`?"
   ]
  },
  {
   "cell_type": "markdown",
   "id": "0ef9f752",
   "metadata": {
    "deletable": false,
    "editable": false
   },
   "source": [
    "Points possible: 3"
   ]
  },
  {
   "cell_type": "code",
   "execution_count": 68,
   "id": "aaae19bb",
   "metadata": {
    "deletable": false,
    "editable": true,
    "tags": [
     "lab-q23-code"
    ]
   },
   "outputs": [
    {
     "data": {
      "text/plain": [
       "3.5"
      ]
     },
     "execution_count": 68,
     "metadata": {},
     "output_type": "execute_result"
    }
   ],
   "source": [
    "list2 = [5, 3, 1, 2, 4, 6]\n",
    "\n",
    "# Call the median function with list2\n",
    "median2 = median(list2)\n",
    "\n",
    "median2"
   ]
  },
  {
   "cell_type": "code",
   "execution_count": 69,
   "id": "8ae86fc8",
   "metadata": {
    "deletable": false,
    "editable": false
   },
   "outputs": [
    {
     "name": "stdout",
     "output_type": "stream",
     "text": [
      "Make sure you saved the notebook before running this cell. Running check for lab-q23...\n",
      "Great job! You passed all test cases for this question.\n"
     ]
    }
   ],
   "source": [
    "student_grader.check(\"lab-q23\")"
   ]
  },
  {
   "cell_type": "markdown",
   "id": "89857ae5",
   "metadata": {
    "deletable": false,
    "editable": false
   },
   "source": [
    "#### Lab question 24"
   ]
  },
  {
   "cell_type": "markdown",
   "id": "0bb80c7e",
   "metadata": {
    "deletable": false,
    "editable": false
   },
   "source": [
    "What is the **median** `latitude` of all power generators in the dataset?\n",
    "\n",
    "**Hint:** First create a *list* of the `latitude`(s) of all the power generators in the dataset, and then use the `median` function to find the **median** of that list."
   ]
  },
  {
   "cell_type": "markdown",
   "id": "32663ef3",
   "metadata": {
    "deletable": false,
    "editable": false
   },
   "source": [
    "Points possible: 3"
   ]
  },
  {
   "cell_type": "code",
   "execution_count": 70,
   "id": "80eff442",
   "metadata": {
    "deletable": false,
    "editable": true,
    "tags": [
     "lab-q24-code"
    ]
   },
   "outputs": [
    {
     "data": {
      "text/plain": [
       "44.3364"
      ]
     },
     "execution_count": 70,
     "metadata": {},
     "output_type": "execute_result"
    }
   ],
   "source": [
    "# Step 1: Create a list of latitudes for all the power generators\n",
    "latitudes = []\n",
    "\n",
    "# Loop through all rows in the dataset and extract the latitude using the cell function\n",
    "for i in range(num_rows):\n",
    "    latitudes.append(cell(i, 'latitude'))\n",
    "\n",
    "# Step 2: Use the median function to find the median latitude\n",
    "median_latitude = median(latitudes)\n",
    "\n",
    "median_latitude\n"
   ]
  },
  {
   "cell_type": "code",
   "execution_count": 71,
   "id": "67476f2c",
   "metadata": {
    "deletable": false,
    "editable": false
   },
   "outputs": [
    {
     "name": "stdout",
     "output_type": "stream",
     "text": [
      "Make sure you saved the notebook before running this cell. Running check for lab-q24...\n",
      "Great job! You passed all test cases for this question.\n"
     ]
    }
   ],
   "source": [
    "student_grader.check(\"lab-q24\")"
   ]
  },
  {
   "cell_type": "markdown",
   "id": "29ac3e51",
   "metadata": {
    "deletable": false,
    "editable": false
   },
   "source": [
    "#### Lab question 25"
   ]
  },
  {
   "cell_type": "markdown",
   "id": "e313687b",
   "metadata": {
    "deletable": false,
    "editable": false
   },
   "source": [
    "What is the **median** `net_summer_capacity` of all generators powered by the `technology` *Nuclear*?\n",
    "\n",
    "**Hint:** First create a *list* of the `net_summer_capacity` of all the power generators in the dataset with the required `technology`, and then use the `median` function to find the **median** of that list."
   ]
  },
  {
   "cell_type": "markdown",
   "id": "a209b1d1",
   "metadata": {
    "deletable": false,
    "editable": false
   },
   "source": [
    "Points possible: 3"
   ]
  },
  {
   "cell_type": "code",
   "execution_count": 72,
   "id": "cced093a",
   "metadata": {
    "deletable": false,
    "editable": true,
    "tags": [
     "lab-q25-code"
    ]
   },
   "outputs": [
    {
     "data": {
      "text/plain": [
       "598.0"
      ]
     },
     "execution_count": 72,
     "metadata": {},
     "output_type": "execute_result"
    }
   ],
   "source": [
    "# Step 1: Create a list of net_summer_capacity for all generators with technology \"Nuclear\"\n",
    "nuclear_summer_capacities = []\n",
    "\n",
    "# Loop through all rows in the dataset\n",
    "for i in range(num_rows):\n",
    "    # Check if the technology of the generator is \"Nuclear\"\n",
    "    if cell(i, 'technology') == 'Nuclear':\n",
    "        # Append the net_summer_capacity of the generator to the list\n",
    "        nuclear_summer_capacities.append(cell(i, 'net_summer_capacity'))\n",
    "\n",
    "# Step 2: Use the median function to find the median of the nuclear summer capacities\n",
    "median_nuclear_summer_capacities = median(nuclear_summer_capacities)\n",
    "\n",
    "median_nuclear_summer_capacities"
   ]
  },
  {
   "cell_type": "code",
   "execution_count": 73,
   "id": "bd67832a",
   "metadata": {
    "deletable": false,
    "editable": false
   },
   "outputs": [
    {
     "name": "stdout",
     "output_type": "stream",
     "text": [
      "Make sure you saved the notebook before running this cell. Running check for lab-q25...\n",
      "Great job! You passed all test cases for this question.\n"
     ]
    }
   ],
   "source": [
    "student_grader.check(\"lab-q25\")"
   ]
  },
  {
   "cell_type": "markdown",
   "id": "a6936666",
   "metadata": {
    "deletable": false,
    "editable": false
   },
   "source": [
    "## Segment 4: Missing Data\n",
    "\n",
    "So far, we have carefully avoided having to deal with missing data in the dataset. We have defined our `cell` function to identify missing data in the dataset, and to return `None` every time the data we request is missing. This will make it a little easier for us to identify missing data while we work with the dataset."
   ]
  },
  {
   "cell_type": "markdown",
   "id": "bd4bb40a",
   "metadata": {
    "deletable": false,
    "editable": false
   },
   "source": [
    "#### Lab question 26"
   ]
  },
  {
   "cell_type": "markdown",
   "id": "b349e9e4",
   "metadata": {
    "deletable": false,
    "editable": false
   },
   "source": [
    "What is the **list** of net summer capacities (`net_summer_capacity`) of all generators from the `county` *Columbia*?"
   ]
  },
  {
   "cell_type": "markdown",
   "id": "53a08bea",
   "metadata": {
    "deletable": false,
    "editable": false
   },
   "source": [
    "Points possible: 3"
   ]
  },
  {
   "cell_type": "code",
   "execution_count": 74,
   "id": "337e1022",
   "metadata": {
    "deletable": false,
    "editable": true,
    "tags": [
     "lab-q26-code"
    ]
   },
   "outputs": [
    {
     "data": {
      "text/plain": [
       "[9.5, None, None, None, 579.3, 568.8, 162.0, 5.0]"
      ]
     },
     "execution_count": 74,
     "metadata": {},
     "output_type": "execute_result"
    }
   ],
   "source": [
    "# Initialize an empty list to store the net_summer_capacity values\n",
    "columbia_summer_capacities = []\n",
    "\n",
    "# Loop through all rows in the dataset\n",
    "for i in range(num_rows):\n",
    "    # Check if the county at row i is 'Columbia'\n",
    "    if cell(i, 'county') == 'Columbia':\n",
    "        # Append the net_summer_capacity to the list\n",
    "        columbia_summer_capacities.append(cell(i, 'net_summer_capacity'))\n",
    "\n",
    "# Output the list of net_summer_capacity for Columbia county\n",
    "columbia_summer_capacities"
   ]
  },
  {
   "cell_type": "code",
   "execution_count": 75,
   "id": "f6c5f84b",
   "metadata": {
    "deletable": false,
    "editable": false
   },
   "outputs": [
    {
     "name": "stdout",
     "output_type": "stream",
     "text": [
      "Make sure you saved the notebook before running this cell. Running check for lab-q26...\n",
      "Great job! You passed all test cases for this question.\n"
     ]
    }
   ],
   "source": [
    "student_grader.check(\"lab-q26\")"
   ]
  },
  {
   "cell_type": "markdown",
   "id": "6d651f98",
   "metadata": {
    "deletable": false,
    "editable": false
   },
   "source": [
    "### Task 4.1: Ignoring missing data\n",
    "\n",
    "As you can see in the list above, some of the data for power generators in *Columbia* was **missing** in the dataset. Now, if we wanted to find the **median** `net_summer_capacity` of the generators in the `county` of *Columbia*, it would not make any sense to include the data from these generators with missing data. Therefore, we will have to **ignore** all the **missing data** while computing the median."
   ]
  },
  {
   "cell_type": "markdown",
   "id": "25c4c4b0",
   "metadata": {
    "deletable": false,
    "editable": false
   },
   "source": [
    "#### Lab question 27"
   ]
  },
  {
   "cell_type": "markdown",
   "id": "7d7f8a8a",
   "metadata": {
    "deletable": false,
    "editable": false
   },
   "source": [
    "What is the **median** `net_summer_capacity` of all generators from the `county` *Columbia*?\n",
    "\n",
    "You **must** ignore any generators for which the `net_summer_capacity` data is **missing**."
   ]
  },
  {
   "cell_type": "markdown",
   "id": "4206a01e",
   "metadata": {
    "deletable": false,
    "editable": false
   },
   "source": [
    "Points possible: 3"
   ]
  },
  {
   "cell_type": "code",
   "execution_count": 76,
   "id": "ea738b56",
   "metadata": {
    "deletable": false,
    "editable": true,
    "tags": [
     "lab-q27-code"
    ]
   },
   "outputs": [
    {
     "data": {
      "text/plain": [
       "162.0"
      ]
     },
     "execution_count": 76,
     "metadata": {},
     "output_type": "execute_result"
    }
   ],
   "source": [
    "columbia_summer_capacities_valid = []\n",
    "\n",
    "# Loop through all rows in the dataset\n",
    "for i in range(num_rows):\n",
    "    # Skip rows with missing net_summer_capacity\n",
    "    net_summer_capacity = cell(i, 'net_summer_capacity')\n",
    "    if net_summer_capacity is None:\n",
    "        continue\n",
    "    \n",
    "    # Check if the generator is from Columbia county\n",
    "    if cell(i, 'county') == 'Columbia':\n",
    "        # Append the valid net_summer_capacity to the list\n",
    "        columbia_summer_capacities_valid.append(net_summer_capacity)\n",
    "\n",
    "# Calculate the median of the valid net_summer_capacity values\n",
    "median_columbia_summer_capacities = median(columbia_summer_capacities_valid)\n",
    "\n",
    "median_columbia_summer_capacities"
   ]
  },
  {
   "cell_type": "code",
   "execution_count": 77,
   "id": "b1cb5fff",
   "metadata": {
    "deletable": false,
    "editable": false
   },
   "outputs": [
    {
     "name": "stdout",
     "output_type": "stream",
     "text": [
      "Make sure you saved the notebook before running this cell. Running check for lab-q27...\n",
      "Great job! You passed all test cases for this question.\n"
     ]
    }
   ],
   "source": [
    "student_grader.check(\"lab-q27\")"
   ]
  },
  {
   "cell_type": "markdown",
   "id": "86deddb1",
   "metadata": {
    "deletable": false,
    "editable": false
   },
   "source": [
    "## Segment 5: Sets"
   ]
  },
  {
   "cell_type": "markdown",
   "id": "92161206-b3dd-4aee-96d1-61d9039d2076",
   "metadata": {
    "deletable": false,
    "editable": false
   },
   "source": [
    "In class, we learned about the Python `list` sequence. Another simpler structure you'll sometimes find useful is the `set`. A set is **not** a sequence because it does not keep all the values in any particular order."
   ]
  },
  {
   "cell_type": "markdown",
   "id": "eb35105c",
   "metadata": {
    "deletable": false,
    "editable": false
   },
   "source": [
    "### Task 5.1: Create a set"
   ]
  },
  {
   "cell_type": "markdown",
   "id": "de5a355b-aed1-4402-9b13-6fb6f682dac5",
   "metadata": {
    "deletable": false,
    "editable": false
   },
   "source": [
    "You can create sets the same way as lists, just **replacing** the *square brackets*(`[]`) with *curly braces*(`{}`). In the cell below, create a set with the same elements as the example list provided."
   ]
  },
  {
   "cell_type": "markdown",
   "id": "68d0e6f1",
   "metadata": {
    "deletable": false,
    "editable": false
   },
   "source": [
    "#### Lab question 28"
   ]
  },
  {
   "cell_type": "markdown",
   "id": "feefbed7",
   "metadata": {
    "deletable": false,
    "editable": false
   },
   "source": [
    "Create a set that has the same content as `example_list` by adding each item in `example_list` into the curly braces."
   ]
  },
  {
   "cell_type": "markdown",
   "id": "8679c3a3",
   "metadata": {
    "deletable": false,
    "editable": false
   },
   "source": [
    "Points possible: 3"
   ]
  },
  {
   "cell_type": "code",
   "execution_count": 78,
   "id": "70a53801",
   "metadata": {
    "deletable": false,
    "editable": true,
    "tags": [
     "lab-q28-code"
    ]
   },
   "outputs": [
    {
     "name": "stdout",
     "output_type": "stream",
     "text": [
      "['Saxon Falls', 'Brule', 'Biron']\n"
     ]
    },
    {
     "data": {
      "text/plain": [
       "{'Biron', 'Brule', 'Saxon Falls'}"
      ]
     },
     "execution_count": 78,
     "metadata": {},
     "output_type": "execute_result"
    }
   ],
   "source": [
    "example_list = [\"Saxon Falls\", \"Brule\", \"Biron\"]\n",
    "print(example_list)\n",
    "\n",
    "# Creating a set with the same items as example_list\n",
    "example_set = {\"Saxon Falls\", \"Brule\", \"Biron\"}\n",
    "\n",
    "example_set\n"
   ]
  },
  {
   "cell_type": "code",
   "execution_count": 79,
   "id": "6603b9fc",
   "metadata": {
    "deletable": false,
    "editable": false
   },
   "outputs": [
    {
     "name": "stdout",
     "output_type": "stream",
     "text": [
      "Make sure you saved the notebook before running this cell. Running check for lab-q28...\n",
      "['Saxon Falls', 'Brule', 'Biron']\n",
      "Great job! You passed all test cases for this question.\n"
     ]
    }
   ],
   "source": [
    "student_grader.check(\"lab-q28\")"
   ]
  },
  {
   "cell_type": "markdown",
   "id": "f9f363a9",
   "metadata": {
    "deletable": false,
    "editable": false
   },
   "source": [
    "### Task 5.2: Check if an element is present in a list or set"
   ]
  },
  {
   "cell_type": "markdown",
   "id": "00051fbe",
   "metadata": {
    "deletable": false,
    "editable": false
   },
   "source": [
    "The `in` operator is used to check if an element is present in a list or set. Try it below:"
   ]
  },
  {
   "cell_type": "code",
   "execution_count": null,
   "id": "714456b1",
   "metadata": {
    "deletable": false,
    "editable": true
   },
   "outputs": [],
   "source": [
    "\"Biron\" in example_list"
   ]
  },
  {
   "cell_type": "markdown",
   "id": "af2cd949",
   "metadata": {
    "deletable": false,
    "editable": false
   },
   "source": [
    "#### Lab question 29"
   ]
  },
  {
   "cell_type": "markdown",
   "id": "6b5406fa",
   "metadata": {
    "deletable": false,
    "editable": false
   },
   "source": [
    "Check if `plant_name` *Saxon Falls* is **present in** the set `example_set`."
   ]
  },
  {
   "cell_type": "markdown",
   "id": "1febf4c4",
   "metadata": {
    "deletable": false,
    "editable": false
   },
   "source": [
    "Points possible: 4"
   ]
  },
  {
   "cell_type": "code",
   "execution_count": 80,
   "id": "6cbe2ec5",
   "metadata": {
    "deletable": false,
    "editable": true,
    "tags": [
     "lab-q29-code"
    ]
   },
   "outputs": [
    {
     "data": {
      "text/plain": [
       "True"
      ]
     },
     "execution_count": 80,
     "metadata": {},
     "output_type": "execute_result"
    }
   ],
   "source": [
    "# Check if \"Saxon Falls\" is present in the set example_set\n",
    "saxon_falls_check = \"Saxon Falls\" in example_set\n",
    "\n",
    "saxon_falls_check\n"
   ]
  },
  {
   "cell_type": "code",
   "execution_count": 81,
   "id": "13b8f87d",
   "metadata": {
    "deletable": false,
    "editable": false
   },
   "outputs": [
    {
     "name": "stdout",
     "output_type": "stream",
     "text": [
      "Make sure you saved the notebook before running this cell. Running check for lab-q29...\n",
      "Great job! You passed all test cases for this question.\n"
     ]
    }
   ],
   "source": [
    "student_grader.check(\"lab-q29\")"
   ]
  },
  {
   "cell_type": "markdown",
   "id": "3b336bf2",
   "metadata": {
    "deletable": false,
    "editable": false
   },
   "source": [
    "### Task 5.3: Check the ordering of elements in a list or set"
   ]
  },
  {
   "cell_type": "markdown",
   "id": "08f14ab7",
   "metadata": {
    "deletable": false,
    "editable": false
   },
   "source": [
    "Sets have no inherent ordering, so they don't support indexing.\n",
    "\n",
    "![Sets do not support indexing](./images/index_list_versus_sets.png)"
   ]
  },
  {
   "cell_type": "markdown",
   "id": "b4948168",
   "metadata": {
    "deletable": false,
    "editable": false
   },
   "source": [
    "Unlike lists, the order does not matter to sets for comparisons. Try evaluating this boolean expression:"
   ]
  },
  {
   "cell_type": "code",
   "execution_count": 82,
   "id": "b28d6c4c",
   "metadata": {
    "deletable": false,
    "editable": true
   },
   "outputs": [
    {
     "data": {
      "text/plain": [
       "False"
      ]
     },
     "execution_count": 82,
     "metadata": {},
     "output_type": "execute_result"
    }
   ],
   "source": [
    "[\"Saxon Falls\", \"Brule\", \"Biron\"] == [\"Biron\", \"Brule\", \"Saxon Falls\"]"
   ]
  },
  {
   "cell_type": "markdown",
   "id": "50c8f46c",
   "metadata": {
    "deletable": false,
    "editable": false
   },
   "source": [
    "And now try this:"
   ]
  },
  {
   "cell_type": "code",
   "execution_count": 83,
   "id": "4f607edf",
   "metadata": {
    "deletable": false,
    "editable": true
   },
   "outputs": [
    {
     "data": {
      "text/plain": [
       "True"
      ]
     },
     "execution_count": 83,
     "metadata": {},
     "output_type": "execute_result"
    }
   ],
   "source": [
    "{\"Saxon Falls\", \"Brule\", \"Biron\"} == {\"Biron\", \"Brule\", \"Saxon Falls\"}"
   ]
  },
  {
   "cell_type": "markdown",
   "id": "ab9328ee",
   "metadata": {
    "deletable": false,
    "editable": false
   },
   "source": [
    "### Task 5.4 Convert between lists and sets"
   ]
  },
  {
   "cell_type": "markdown",
   "id": "64f503d3-aa22-433a-81c8-880d07c84276",
   "metadata": {
    "deletable": false,
    "editable": false
   },
   "source": [
    "You can switch back and forth between lists and sets with ease. Let's try it."
   ]
  },
  {
   "cell_type": "markdown",
   "id": "64a2a1a8",
   "metadata": {
    "deletable": false,
    "editable": false
   },
   "source": [
    "#### Lab question 30"
   ]
  },
  {
   "cell_type": "markdown",
   "id": "a0635521",
   "metadata": {
    "deletable": false,
    "editable": false
   },
   "source": [
    "What is the **list** of all plant names (`plant_name`) operated by the entity with the ID (`entity_id`) *13781*?"
   ]
  },
  {
   "cell_type": "markdown",
   "id": "76eea9bd",
   "metadata": {
    "deletable": false,
    "editable": false
   },
   "source": [
    "Points possible: 4"
   ]
  },
  {
   "cell_type": "code",
   "execution_count": 84,
   "id": "b725bec0",
   "metadata": {
    "deletable": false,
    "editable": true,
    "tags": [
     "lab-q30-code"
    ]
   },
   "outputs": [
    {
     "data": {
      "text/plain": [
       "['Saxon Falls',\n",
       " 'Saxon Falls',\n",
       " 'Bay Front',\n",
       " 'Bay Front',\n",
       " 'Big Falls',\n",
       " 'Big Falls',\n",
       " 'Big Falls',\n",
       " 'Ladysmith Dam',\n",
       " 'Ladysmith Dam',\n",
       " 'Ladysmith Dam',\n",
       " 'Thornapple',\n",
       " 'Thornapple',\n",
       " 'White River (WI)',\n",
       " 'White River (WI)',\n",
       " 'Cedar Falls (WI)',\n",
       " 'Cedar Falls (WI)',\n",
       " 'Cedar Falls (WI)',\n",
       " 'Chippewa Falls',\n",
       " 'Chippewa Falls',\n",
       " 'Chippewa Falls',\n",
       " 'Chippewa Falls',\n",
       " 'Chippewa Falls',\n",
       " 'Chippewa Falls',\n",
       " 'Dells',\n",
       " 'Dells',\n",
       " 'Dells',\n",
       " 'Dells',\n",
       " 'Dells',\n",
       " 'French Island',\n",
       " 'French Island',\n",
       " 'French Island',\n",
       " 'French Island',\n",
       " 'Holcombe',\n",
       " 'Holcombe',\n",
       " 'Holcombe',\n",
       " 'Jim Falls',\n",
       " 'Jim Falls',\n",
       " 'Jim Falls',\n",
       " 'Menomonie',\n",
       " 'Menomonie',\n",
       " 'St Croix Falls',\n",
       " 'St Croix Falls',\n",
       " 'St Croix Falls',\n",
       " 'St Croix Falls',\n",
       " 'St Croix Falls',\n",
       " 'St Croix Falls',\n",
       " 'St Croix Falls',\n",
       " 'St Croix Falls',\n",
       " 'Trego',\n",
       " 'Trego',\n",
       " 'Wheaton',\n",
       " 'Wheaton',\n",
       " 'Wheaton',\n",
       " 'Wheaton',\n",
       " 'Wheaton',\n",
       " 'Wissota',\n",
       " 'Wissota',\n",
       " 'Wissota',\n",
       " 'Wissota',\n",
       " 'Wissota',\n",
       " 'Wissota',\n",
       " 'Cornell',\n",
       " 'Cornell',\n",
       " 'Cornell',\n",
       " 'Cornell',\n",
       " 'Apple River',\n",
       " 'Apple River',\n",
       " 'Apple River']"
      ]
     },
     "execution_count": 84,
     "metadata": {},
     "output_type": "execute_result"
    }
   ],
   "source": [
    "plant_names_13781 = []\n",
    "\n",
    "# Loop through all rows in the dataset\n",
    "for i in range(num_rows):\n",
    "    # Check if the entity_id matches 13781\n",
    "    if cell(i, 'entity_id') == 13781:\n",
    "        # Append the plant_name to the list\n",
    "        plant_names_13781.append(cell(i, 'plant_name'))\n",
    "\n",
    "# Output the list of plant names\n",
    "plant_names_13781\n"
   ]
  },
  {
   "cell_type": "code",
   "execution_count": 85,
   "id": "81a965e0",
   "metadata": {
    "deletable": false,
    "editable": false
   },
   "outputs": [
    {
     "name": "stdout",
     "output_type": "stream",
     "text": [
      "Make sure you saved the notebook before running this cell. Running check for lab-q30...\n",
      "Great job! You passed all test cases for this question.\n"
     ]
    }
   ],
   "source": [
    "student_grader.check(\"lab-q30\")"
   ]
  },
  {
   "cell_type": "markdown",
   "id": "14199a27",
   "metadata": {
    "deletable": false,
    "editable": false
   },
   "source": [
    "#### Lab question 31"
   ]
  },
  {
   "cell_type": "markdown",
   "id": "980745ea",
   "metadata": {
    "deletable": false,
    "editable": false
   },
   "source": [
    "What is the **set** of all plant names (`plant_name`) operated by the entity with the ID (`entity_id`) *13781*?\n",
    "\n",
    "**Hint:** You can convert a *list* into a *set* by typecasting. For example, to convert a *list* `example_list` into a *set*, you can use `set(example_list)`.\n",
    "\n",
    "We note that each power plant features multiple times in the list in the question above, since each power plant may have multiple generators, and each generator shows up once in the dataset. So here we're converting the list to a set."
   ]
  },
  {
   "cell_type": "markdown",
   "id": "8c9c7b37",
   "metadata": {
    "deletable": false,
    "editable": false
   },
   "source": [
    "Points possible: 4"
   ]
  },
  {
   "cell_type": "code",
   "execution_count": 86,
   "id": "21aee3cb",
   "metadata": {
    "deletable": false,
    "editable": true,
    "tags": [
     "lab-q31-code"
    ]
   },
   "outputs": [
    {
     "name": "stdout",
     "output_type": "stream",
     "text": [
      "Length of list: 68\n",
      "Length of set: 19\n"
     ]
    },
    {
     "data": {
      "text/plain": [
       "{'Apple River',\n",
       " 'Bay Front',\n",
       " 'Big Falls',\n",
       " 'Cedar Falls (WI)',\n",
       " 'Chippewa Falls',\n",
       " 'Cornell',\n",
       " 'Dells',\n",
       " 'French Island',\n",
       " 'Holcombe',\n",
       " 'Jim Falls',\n",
       " 'Ladysmith Dam',\n",
       " 'Menomonie',\n",
       " 'Saxon Falls',\n",
       " 'St Croix Falls',\n",
       " 'Thornapple',\n",
       " 'Trego',\n",
       " 'Wheaton',\n",
       " 'White River (WI)',\n",
       " 'Wissota'}"
      ]
     },
     "execution_count": 86,
     "metadata": {},
     "output_type": "execute_result"
    }
   ],
   "source": [
    "# Create a list of plant names for entity_id 13781\n",
    "plant_names_13781 = []\n",
    "\n",
    "# Loop through all rows in the dataset\n",
    "for i in range(num_rows):\n",
    "    # Check if the entity_id matches 13781\n",
    "    if cell(i, 'entity_id') == 13781:\n",
    "        # Append the plant_name to the list\n",
    "        plant_names_13781.append(cell(i, 'plant_name'))\n",
    "\n",
    "# Convert the list to a set to remove duplicates\n",
    "plant_names_13781_set = set(plant_names_13781)\n",
    "\n",
    "# Output the length of the list and the set\n",
    "print('Length of list:', len(plant_names_13781))\n",
    "print('Length of set:', len(plant_names_13781_set))\n",
    "\n",
    "# Output the set of plant names\n",
    "plant_names_13781_set\n"
   ]
  },
  {
   "cell_type": "code",
   "execution_count": 87,
   "id": "c87c8c65",
   "metadata": {
    "deletable": false,
    "editable": false
   },
   "outputs": [
    {
     "name": "stdout",
     "output_type": "stream",
     "text": [
      "Make sure you saved the notebook before running this cell. Running check for lab-q31...\n",
      "Length of list: 68\n",
      "Length of set: 19\n",
      "Great job! You passed all test cases for this question.\n"
     ]
    }
   ],
   "source": [
    "student_grader.check(\"lab-q31\")"
   ]
  },
  {
   "cell_type": "markdown",
   "id": "893297fb-41f0-4081-b484-7d8086f5a509",
   "metadata": {
    "deletable": false,
    "editable": false
   },
   "source": [
    "#### Lists vs sets length"
   ]
  },
  {
   "cell_type": "markdown",
   "id": "6a5eeeb0",
   "metadata": {
    "deletable": false,
    "editable": false
   },
   "source": [
    "As you can see, the number of elements is different! This is because a set is a collection of **unique** elements. Therefore, there can be no duplicates in a **set**.\n",
    "\n",
    "**Be careful!** When going from a set to a list, Python has to choose how to order the previously unordered values. If you run the same code, there's no guarantee Python will always choose the same way to order the set values in the new list."
   ]
  },
  {
   "cell_type": "markdown",
   "id": "f5aaea17-e642-4f26-8a51-f5d435bc7426",
   "metadata": {
    "deletable": false,
    "editable": false
   },
   "source": [
    "In the previous question, the length of the list was `68`, while the length of the set was `19`. That means there were `19` unique items in the set, while the other `68 - 19 = 49` were repeated (not unique) values."
   ]
  },
  {
   "cell_type": "markdown",
   "id": "82465fad",
   "metadata": {
    "deletable": false,
    "editable": false,
    "slideshow": {
     "slide_type": ""
    },
    "tags": []
   },
   "source": [
    "### Task 5.5 Remove Duplicates"
   ]
  },
  {
   "cell_type": "markdown",
   "id": "1d9adc51-9835-45c7-9f43-61e7cb397118",
   "metadata": {
    "deletable": false,
    "editable": false,
    "slideshow": {
     "slide_type": ""
    },
    "tags": []
   },
   "source": [
    "Let's use the uniqueness property of sets above to remove duplicates from a list by **converting** from a **list to a set** and **back to a list again**."
   ]
  },
  {
   "cell_type": "markdown",
   "id": "9cff202f",
   "metadata": {
    "deletable": false,
    "editable": false
   },
   "source": [
    "#### Lab question 32"
   ]
  },
  {
   "cell_type": "markdown",
   "id": "10b114b7",
   "metadata": {
    "deletable": false,
    "editable": false
   },
   "source": [
    "What is the **unique list** of all plant names (`plant_name`) operated by the entity with the ID (`entity_id`) *4247*?\n",
    "\n",
    "**Hint:** Just as you can convert a *list* into a *set* by typecasting, you can convert a *set* into a *list*. For example, to convert a *set* `example_set` into a *list*, you can use `list(example_set)`."
   ]
  },
  {
   "cell_type": "markdown",
   "id": "fab51609",
   "metadata": {
    "deletable": false,
    "editable": false
   },
   "source": [
    "Points possible: 4"
   ]
  },
  {
   "cell_type": "code",
   "execution_count": 88,
   "id": "c6d8a65e",
   "metadata": {
    "deletable": false,
    "editable": true,
    "slideshow": {
     "slide_type": ""
    },
    "tags": [
     "lab-q32-code"
    ]
   },
   "outputs": [
    {
     "data": {
      "text/plain": [
       "['Whiting', 'Biron', 'Du Bay', 'Wisconsin Rapids', 'Stevens Point']"
      ]
     },
     "execution_count": 88,
     "metadata": {},
     "output_type": "execute_result"
    }
   ],
   "source": [
    "plant_names_4247 = []\n",
    "\n",
    "# Step 1: Collect plant names for entity_id 4247\n",
    "for i in range(num_rows):\n",
    "    if cell(i, 'entity_id') == 4247:\n",
    "        plant_names_4247.append(cell(i, 'plant_name'))\n",
    "\n",
    "# Step 2: Convert the list to a set to remove duplicates, then back to a list\n",
    "plant_names_4247 = list(set(plant_names_4247))\n",
    "\n",
    "# Output the unique list of plant names\n",
    "plant_names_4247"
   ]
  },
  {
   "cell_type": "code",
   "execution_count": 89,
   "id": "bc73ede1",
   "metadata": {
    "deletable": false,
    "editable": false,
    "slideshow": {
     "slide_type": ""
    },
    "tags": []
   },
   "outputs": [
    {
     "name": "stdout",
     "output_type": "stream",
     "text": [
      "Make sure you saved the notebook before running this cell. Running check for lab-q32...\n",
      "Great job! You passed all test cases for this question.\n"
     ]
    }
   ],
   "source": [
    "student_grader.check(\"lab-q32\")"
   ]
  },
  {
   "cell_type": "markdown",
   "id": "804b6325",
   "metadata": {
    "deletable": false,
    "editable": false,
    "slideshow": {
     "slide_type": ""
    },
    "tags": []
   },
   "source": [
    "### Submitting the lab"
   ]
  },
  {
   "cell_type": "markdown",
   "id": "27ee9c4a",
   "metadata": {
    "deletable": false,
    "editable": false
   },
   "source": [
    "Submit your `p6.ipynb` on Gradescope to the lab-p6 assignment, like usual. Remember that the grades for the lab portion of the project and the actual assignment grade are independent. You will submit the same notebook (at different levels of completion) to two different assignments."
   ]
  },
  {
   "cell_type": "markdown",
   "id": "d3175a0d",
   "metadata": {
    "deletable": false,
    "editable": false,
    "slideshow": {
     "slide_type": ""
    },
    "tags": []
   },
   "source": [
    "# Project portion (20 questions)"
   ]
  },
  {
   "cell_type": "markdown",
   "id": "93ed6c93",
   "metadata": {
    "deletable": false,
    "editable": false,
    "slideshow": {
     "slide_type": ""
    },
    "tags": []
   },
   "source": [
    "## Dataset:"
   ]
  },
  {
   "cell_type": "markdown",
   "id": "d465c26b-54cd-48a2-b087-a44cdcb4d9c1",
   "metadata": {
    "deletable": false,
    "editable": false,
    "slideshow": {
     "slide_type": ""
    },
    "tags": []
   },
   "source": [
    "The dataset is the same as what was used in the lab portion. A small portion of the dataset `power_generators.csv` you will be working with for this project is reproduced here:"
   ]
  },
  {
   "cell_type": "markdown",
   "id": "d0621cd2",
   "metadata": {
    "deletable": false,
    "editable": false,
    "slideshow": {
     "slide_type": ""
    },
    "tags": []
   },
   "source": [
    "entity_id|entity_name|plant_id|plant_name|generator_id|county|net_summer_capacity|net_winter_capacity|technology|latitude|longitude\n",
    "---|---|---|---|---|---|---|---|---|---|---\n",
    "13781|Northern States Power Co - Minnesota|1756|Saxon Falls|1|Iron|0.5|0.5|Conventional Hydroelectric|46.5392|-90.3742\n",
    "13781|Northern States Power Co - Minnesota|1756|Saxon Falls|2|Iron|0.5|0.6|Conventional Hydroelectric|46.5392|-90.3742\n",
    "20847|Wisconsin Electric Power Co|1775|Brule|1|Florence|1.3|1.3|Conventional Hydroelectric|45.9472|-88.2189\n",
    "20847|Wisconsin Electric Power Co|1775|Brule|2|Florence|2|2|Conventional Hydroelectric|45.9472|-88.2189\n",
    "20847|Wisconsin Electric Power Co|1775|Brule|3|Florence|2|2|Conventional Hydroelectric|45.9472|-88.2189"
   ]
  },
  {
   "cell_type": "markdown",
   "id": "8f075c07",
   "metadata": {
    "deletable": false,
    "editable": false
   },
   "source": [
    "Each row of data represents a **single** generator. The columns contain the following data about each generator (along with the correct data type you **must** represent it as):\n",
    "\n",
    "1. `entity_id` - the **ID** of the **entity** that operates the Power Generator (`int`)\n",
    "2. `entity_name` - the **name** of the **entity** that operates the Power Generator (`str`)\n",
    "3. `plant_id` - the **ID** of the **Power Plant** hosting the Power Generator (`int`)\n",
    "4. `plant_name` - the **name** of the **Power Plant** hosting the Power Generator (`str`)\n",
    "5. `generator_id` - the **ID** of the specific **Power Generator** within its Power Plant (`str`)\n",
    "6. `county` - the **name** of the **county** that the **Power Plant** is located in (`str`)\n",
    "7. `net_summer_capacity` - the maximum **capacity** of the **Power Generator** (in units of MW) during the Summer months (`float`)\n",
    "8. `net_winter_capacity` - the maximum **capacity** of the **Power Generator** (in units of MW) during the Winter months (`float`)\n",
    "9. `technology` - the **technology** used by the **Power Generator** (`str`)\n",
    "10. `latitude` - the **latitude** where the **Power Plant** is located (`float`)\n",
    "11. `longitude` - the **longitude** where the **Power Plant** is located (`float`)"
   ]
  },
  {
   "cell_type": "markdown",
   "id": "e1259d94",
   "metadata": {
    "deletable": false,
    "editable": false,
    "slideshow": {
     "slide_type": ""
    },
    "tags": []
   },
   "source": [
    "## Project Requirements:"
   ]
  },
  {
   "cell_type": "markdown",
   "id": "a3ebc52b-f812-4d76-a863-f14069ca074f",
   "metadata": {
    "deletable": false,
    "editable": false,
    "slideshow": {
     "slide_type": ""
    },
    "tags": []
   },
   "source": [
    "You **may not** hardcode indices in your code unless specified in the question. If you are not sure what hardcoding is, here is a simple test you can use to determine whether you have hardcoded:\n",
    "\n",
    "*If we were to change the data (e.g. add more power generators, remove some power generators, or swap some columns or rows), would your code still find the correct answer to the question as it is asked?*\n",
    "\n",
    "If your answer to that question is *No*, then you have likely hardcoded something. Please reach out to TAs/PMs during office hours to find out how you can **avoid hardcoding**.\n",
    "\n",
    "**Store** your final answer for each question in the **variable specified for each question**. This step is important because Otter grades your work by comparing the value of this variable against the correct answer.\n",
    "\n",
    "For some of the questions, we'll ask you to write (then use) a function to compute the answer.  If you compute the answer **without** creating the function we ask you to write, the Gradescope autograder will **deduct** points, even if the way you did it produced the correct answer.\n",
    "\n",
    "#### Required Functions:\n",
    "- `process_csv`\n",
    "- `cell`\n",
    "- `find_entities_with_phrase`\n",
    "- `num_generators_by`\n",
    "- `find_indices_within`\n",
    "- `median`\n",
    "- `total_summer_capacity_of`\n",
    "- `avg_winter_capacity_of`\n",
    "    \n",
    "You are only allowed to use Python commands and concepts that have been taught in the course prior to the release of P6. Therefore, **you should not use concepts/modules such as dictionaries, or the pandas module, to name a few examples**. Otherwise, the Gradescope autograder will **deduct** points, even if the way you did it produced the correct answer."
   ]
  },
  {
   "cell_type": "markdown",
   "id": "d15856c5-11ba-4071-b4d2-631e7d1b4a81",
   "metadata": {
    "deletable": false,
    "editable": false,
    "slideshow": {
     "slide_type": ""
    },
    "tags": []
   },
   "source": [
    "## Project Questions (20)"
   ]
  },
  {
   "cell_type": "markdown",
   "id": "97950f15",
   "metadata": {
    "deletable": false,
    "editable": false,
    "slideshow": {
     "slide_type": ""
    },
    "tags": []
   },
   "source": [
    "#### Project question 1"
   ]
  },
  {
   "cell_type": "markdown",
   "id": "f7954e7e",
   "metadata": {
    "deletable": false,
    "editable": false,
    "slideshow": {
     "slide_type": ""
    },
    "tags": []
   },
   "source": [
    "What **unique** technologies (`technology`) are used by the power generators in Wisconsin? (Note that all power generators in the dataset are from Wisconsin.)\n",
    "\n",
    "Your output **must** be a *list* which stores all the **unique** technologies (i.e., without any duplicates). The order **does not** matter."
   ]
  },
  {
   "cell_type": "markdown",
   "id": "c65feb1b",
   "metadata": {
    "deletable": false,
    "editable": false,
    "slideshow": {
     "slide_type": ""
    },
    "tags": []
   },
   "source": [
    "Points possible: 4"
   ]
  },
  {
   "cell_type": "code",
   "execution_count": 91,
   "id": "558e7e76",
   "metadata": {
    "deletable": false,
    "editable": true,
    "slideshow": {
     "slide_type": ""
    },
    "tags": [
     "q1-code"
    ]
   },
   "outputs": [
    {
     "data": {
      "text/plain": [
       "['Batteries',\n",
       " 'Petroleum Liquids',\n",
       " 'Conventional Hydroelectric',\n",
       " 'Natural Gas Fired Combustion Turbine',\n",
       " 'Other Waste Biomass',\n",
       " 'Natural Gas Internal Combustion Engine',\n",
       " 'Petroleum Coke',\n",
       " 'Conventional Steam Coal',\n",
       " 'Onshore Wind Turbine',\n",
       " 'Wood/Wood Waste Biomass',\n",
       " 'Solar Photovoltaic',\n",
       " 'Natural Gas Steam Turbine',\n",
       " 'Natural Gas Fired Combined Cycle',\n",
       " 'Landfill Gas',\n",
       " 'Nuclear']"
      ]
     },
     "execution_count": 91,
     "metadata": {},
     "output_type": "execute_result"
    }
   ],
   "source": [
    "# Initialize an empty list to store the technology values\n",
    "technologies = []\n",
    "\n",
    "# Loop through all rows in the dataset\n",
    "for i in range(num_rows):\n",
    "    # Append the technology to the list\n",
    "    technologies.append(cell(i, 'technology'))\n",
    "\n",
    "# Convert the list to a set to remove duplicates, then back to a list\n",
    "technologies = list(set(technologies))\n",
    "\n",
    "# Output the list of unique technologies\n",
    "technologies\n",
    "\n"
   ]
  },
  {
   "cell_type": "code",
   "execution_count": 92,
   "id": "a595cdf9",
   "metadata": {
    "deletable": false,
    "editable": false,
    "slideshow": {
     "slide_type": ""
    },
    "tags": []
   },
   "outputs": [
    {
     "name": "stdout",
     "output_type": "stream",
     "text": [
      "Make sure you saved the notebook before running this cell. Running check for q1...\n",
      "Great job! You passed all test cases for this question.\n"
     ]
    }
   ],
   "source": [
    "student_grader.check(\"q1\")"
   ]
  },
  {
   "cell_type": "markdown",
   "id": "674a4644",
   "metadata": {
    "deletable": false,
    "editable": false,
    "slideshow": {
     "slide_type": ""
    },
    "tags": []
   },
   "source": [
    "#### Project question 2"
   ]
  },
  {
   "cell_type": "markdown",
   "id": "da1c7aff",
   "metadata": {
    "deletable": false,
    "editable": false
   },
   "source": [
    "How many power generators are in the `county` *Dane*?"
   ]
  },
  {
   "cell_type": "markdown",
   "id": "4e0f2808",
   "metadata": {
    "deletable": false,
    "editable": false,
    "slideshow": {
     "slide_type": ""
    },
    "tags": []
   },
   "source": [
    "Points possible: 4"
   ]
  },
  {
   "cell_type": "code",
   "execution_count": 93,
   "id": "640e47c1",
   "metadata": {
    "deletable": false,
    "editable": true,
    "slideshow": {
     "slide_type": ""
    },
    "tags": [
     "q2-code"
    ]
   },
   "outputs": [
    {
     "data": {
      "text/plain": [
       "47"
      ]
     },
     "execution_count": 93,
     "metadata": {},
     "output_type": "execute_result"
    }
   ],
   "source": [
    "# Initialize a counter for the number of power generators in Dane county\n",
    "count_dane = 0\n",
    "\n",
    "# Loop through all rows in the dataset\n",
    "for i in range(num_rows):\n",
    "    # Check if the county at row i is 'Dane'\n",
    "    if cell(i, 'county') == 'Dane':\n",
    "        # Increment the counter\n",
    "        count_dane += 1\n",
    "\n",
    "# Output the number of power generators in Dane county\n",
    "count_dane\n"
   ]
  },
  {
   "cell_type": "code",
   "execution_count": 94,
   "id": "ae2d7bed",
   "metadata": {
    "deletable": false,
    "editable": false,
    "slideshow": {
     "slide_type": ""
    },
    "tags": []
   },
   "outputs": [
    {
     "name": "stdout",
     "output_type": "stream",
     "text": [
      "Make sure you saved the notebook before running this cell. Running check for q2...\n",
      "Great job! You passed all test cases for this question.\n"
     ]
    }
   ],
   "source": [
    "student_grader.check(\"q2\")"
   ]
  },
  {
   "cell_type": "markdown",
   "id": "648dda7c",
   "metadata": {
    "deletable": false,
    "editable": false,
    "slideshow": {
     "slide_type": ""
    },
    "tags": []
   },
   "source": [
    "#### Project question 3"
   ]
  },
  {
   "cell_type": "markdown",
   "id": "aaa4d1c5",
   "metadata": {
    "deletable": false,
    "editable": false
   },
   "source": [
    "What is the **total** `net_summer_capacity` of all the power generators in Wisconsin?\n",
    "\n",
    "Your answer **must** be a **float** that represents the total `net_summer_capacity`. You **must** **ignore** all power generators whose `net_summer_capacity` data is **missing**."
   ]
  },
  {
   "cell_type": "markdown",
   "id": "ca281187",
   "metadata": {
    "deletable": false,
    "editable": false,
    "slideshow": {
     "slide_type": ""
    },
    "tags": []
   },
   "source": [
    "Points possible: 4"
   ]
  },
  {
   "cell_type": "code",
   "execution_count": 95,
   "id": "948071a4",
   "metadata": {
    "deletable": false,
    "editable": true,
    "slideshow": {
     "slide_type": ""
    },
    "tags": [
     "q3-code"
    ]
   },
   "outputs": [
    {
     "data": {
      "text/plain": [
       "17628.09999999994"
      ]
     },
     "execution_count": 95,
     "metadata": {},
     "output_type": "execute_result"
    }
   ],
   "source": [
    "# Initialize a variable to store the total net_summer_capacity\n",
    "total_summer_capacity = 0\n",
    "\n",
    "# Loop through all rows in the dataset\n",
    "for i in range(num_rows):\n",
    "    # Extract the net_summer_capacity for each row\n",
    "    summer_capacity = cell(i, 'net_summer_capacity')\n",
    "    \n",
    "    # Ignore rows with missing net_summer_capacity data\n",
    "    if summer_capacity is not None:\n",
    "        # Add the summer capacity to the total\n",
    "        total_summer_capacity += summer_capacity\n",
    "\n",
    "# Output the total net_summer_capacity\n",
    "total_summer_capacity\n"
   ]
  },
  {
   "cell_type": "code",
   "execution_count": 96,
   "id": "6d1cca3a",
   "metadata": {
    "deletable": false,
    "editable": false
   },
   "outputs": [
    {
     "name": "stdout",
     "output_type": "stream",
     "text": [
      "Make sure you saved the notebook before running this cell. Running check for q3...\n",
      "Great job! You passed all test cases for this question.\n"
     ]
    }
   ],
   "source": [
    "student_grader.check(\"q3\")"
   ]
  },
  {
   "cell_type": "markdown",
   "id": "dd6c8651",
   "metadata": {
    "deletable": false,
    "editable": false,
    "slideshow": {
     "slide_type": ""
    },
    "tags": []
   },
   "source": [
    "#### Project Function 1: `find_entities_with_phrase(phrase)`"
   ]
  },
  {
   "cell_type": "markdown",
   "id": "33c311fb-22fb-4ba0-83b4-04feb50c82e8",
   "metadata": {
    "deletable": false,
    "editable": false,
    "slideshow": {
     "slide_type": ""
    },
    "tags": []
   },
   "source": [
    "We require you to complete the below function. You can review string methods from lecture slides.\n",
    "\n",
    "When you call `find_entities_with_phrase(phrase)`, your function should loop through the data, look for `phrase` in the entity name of each plant and add that entity name to the list returns a list of all the entity names.\n",
    "\n",
    "When comparing `phrase` and `entity_name`, this should be a **case-insentive** comparison. This can be done by converting both variables to the same case before checking whether the phrase is in the entity name. You can use the string `.lower()` method to convert a string to lowercase."
   ]
  },
  {
   "cell_type": "markdown",
   "id": "6886dc29",
   "metadata": {
    "deletable": false,
    "editable": false,
    "slideshow": {
     "slide_type": ""
    },
    "tags": []
   },
   "source": [
    "Points possible: 5"
   ]
  },
  {
   "cell_type": "code",
   "execution_count": 97,
   "id": "dcb08e62",
   "metadata": {
    "deletable": false,
    "editable": true,
    "slideshow": {
     "slide_type": ""
    },
    "tags": [
     "find_entities_with_phrase-code"
    ]
   },
   "outputs": [
    {
     "data": {
      "text/plain": [
       "['Whitewater Operating Services LLC', 'Consolidated Water Power Co']"
      ]
     },
     "execution_count": 97,
     "metadata": {},
     "output_type": "execute_result"
    }
   ],
   "source": [
    "def find_entities_with_phrase(phrase):\n",
    "    # Initialize an empty list to store entity names\n",
    "    entity_names = []\n",
    "\n",
    "    # Loop through all rows in the dataset\n",
    "    for i in range(num_rows):\n",
    "        # Extract the entity_name for the current row\n",
    "        entity_name = cell(i, 'entity_name')\n",
    "        \n",
    "        # Perform a case-insensitive comparison to check if the phrase is in the entity_name\n",
    "        if phrase.lower() in entity_name.lower():\n",
    "            # Add the entity name to the list\n",
    "            entity_names.append(entity_name)\n",
    "    \n",
    "    # Return a unique list of entity names\n",
    "    return list(set(entity_names))\n",
    "\n",
    "# Test your function\n",
    "find_entities_with_phrase(\"Water\")"
   ]
  },
  {
   "cell_type": "code",
   "execution_count": 98,
   "id": "5682017f",
   "metadata": {
    "deletable": false,
    "editable": false,
    "slideshow": {
     "slide_type": ""
    },
    "tags": []
   },
   "outputs": [
    {
     "name": "stdout",
     "output_type": "stream",
     "text": [
      "Make sure you saved the notebook before running this cell. Running check for find_entities_with_phrase...\n",
      "Great job! You passed all test cases for this question.\n"
     ]
    }
   ],
   "source": [
    "student_grader.check(\"find_entities_with_phrase\")"
   ]
  },
  {
   "cell_type": "markdown",
   "id": "3462d305",
   "metadata": {
    "deletable": false,
    "editable": false,
    "slideshow": {
     "slide_type": ""
    },
    "tags": []
   },
   "source": [
    "#### Project question 4"
   ]
  },
  {
   "cell_type": "markdown",
   "id": "ed32d8f2",
   "metadata": {
    "deletable": false,
    "editable": false,
    "slideshow": {
     "slide_type": ""
    },
    "tags": []
   },
   "source": [
    "Find all entity names (`entity_name`) that contain the string *\"Madison\"* (case insensitive).\n",
    "    \n",
    "Your output **must** be a **list**. The order **does not** matter. You **must** use the `find_entities_with_phrase` function to answer this question."
   ]
  },
  {
   "cell_type": "markdown",
   "id": "6d521bd7",
   "metadata": {
    "deletable": false,
    "editable": false,
    "slideshow": {
     "slide_type": ""
    },
    "tags": []
   },
   "source": [
    "Points possible: 3"
   ]
  },
  {
   "cell_type": "code",
   "execution_count": 99,
   "id": "c540e0c8",
   "metadata": {
    "deletable": false,
    "editable": true,
    "slideshow": {
     "slide_type": ""
    },
    "tags": [
     "q4-code"
    ]
   },
   "outputs": [
    {
     "data": {
      "text/plain": [
       "['Madison Gas & Electric Co']"
      ]
     },
     "execution_count": 99,
     "metadata": {},
     "output_type": "execute_result"
    }
   ],
   "source": [
    "# Use the find_entities_with_phrase function to find all entity names containing \"Madison\"\n",
    "madison_entities = find_entities_with_phrase(\"Madison\")\n",
    "\n",
    "# Output the list of entities\n",
    "madison_entities"
   ]
  },
  {
   "cell_type": "code",
   "execution_count": 100,
   "id": "6f3f2209",
   "metadata": {
    "deletable": false,
    "editable": false,
    "slideshow": {
     "slide_type": ""
    },
    "tags": []
   },
   "outputs": [
    {
     "name": "stdout",
     "output_type": "stream",
     "text": [
      "Make sure you saved the notebook before running this cell. Running check for q4...\n",
      "Great job! You passed all test cases for this question.\n"
     ]
    }
   ],
   "source": [
    "student_grader.check(\"q4\")"
   ]
  },
  {
   "cell_type": "markdown",
   "id": "085e6b69",
   "metadata": {
    "deletable": false,
    "editable": false,
    "slideshow": {
     "slide_type": ""
    },
    "tags": []
   },
   "source": [
    "#### Project question 5"
   ]
  },
  {
   "cell_type": "markdown",
   "id": "eeeac007",
   "metadata": {
    "deletable": false,
    "editable": false,
    "slideshow": {
     "slide_type": ""
    },
    "tags": []
   },
   "source": [
    "Find all unique entity names (`entity_name`) that contain **either** *\"Wisconsin\"* **or** *\"Power\"* (case insensitive).\n",
    "\n",
    "If an entity's name contains **both** *\"Wisconsin\"* and *\"Power\"*, then the `entity_name` must be included **only once** in your list.\n",
    "\n",
    "Your output **must** be a **list**. The order **does not** matter.\n",
    "\n",
    "**Hint**: You can use the `find_entities_with_phrase` function on *\"Wisconsin\"* and *\"Power\"* to answer this question."
   ]
  },
  {
   "cell_type": "markdown",
   "id": "765c6b63",
   "metadata": {
    "deletable": false,
    "editable": false,
    "slideshow": {
     "slide_type": ""
    },
    "tags": []
   },
   "source": [
    "Points possible: 5"
   ]
  },
  {
   "cell_type": "code",
   "execution_count": 101,
   "id": "1f63eeb7",
   "metadata": {
    "deletable": false,
    "editable": true,
    "slideshow": {
     "slide_type": ""
    },
    "tags": [
     "q5-code"
    ]
   },
   "outputs": [
    {
     "data": {
      "text/plain": [
       "['Northwestern Wisconsin Elec Co',\n",
       " 'North Central Power Co Inc',\n",
       " 'Consolidated Water Power Co',\n",
       " 'Wisconsin Power & Light Co',\n",
       " 'Wisconsin River Power Company',\n",
       " 'HQC Rock River Solar Power Generation Station LLC',\n",
       " 'Wisconsin Electric Power Co',\n",
       " 'Wisconsin Public Service Corp',\n",
       " 'State of Wisconsin',\n",
       " 'Dairyland Power Coop',\n",
       " 'Dahlberg Light & Power Co',\n",
       " 'Northern States Power Co - Minnesota']"
      ]
     },
     "execution_count": 101,
     "metadata": {},
     "output_type": "execute_result"
    }
   ],
   "source": [
    "# Find entities with \"Wisconsin\"\n",
    "entities_contain_wisconsin_power = find_entities_with_phrase(\"Wisconsin\")\n",
    "\n",
    "# Extend the list to include entity names that contain \"Power\"\n",
    "entities_contain_wisconsin_power.extend(find_entities_with_phrase(\"Power\"))\n",
    "\n",
    "# Remove duplicates by converting the list to a set and then back to a list\n",
    "entities_contain_wisconsin_power = list(set(entities_contain_wisconsin_power))\n",
    "\n",
    "# Output the final list of unique entity names\n",
    "entities_contain_wisconsin_power"
   ]
  },
  {
   "cell_type": "code",
   "execution_count": 102,
   "id": "42d47e01",
   "metadata": {
    "deletable": false,
    "editable": false,
    "slideshow": {
     "slide_type": ""
    },
    "tags": []
   },
   "outputs": [
    {
     "name": "stdout",
     "output_type": "stream",
     "text": [
      "Make sure you saved the notebook before running this cell. Running check for q5...\n",
      "Great job! You passed all test cases for this question.\n"
     ]
    }
   ],
   "source": [
    "student_grader.check(\"q5\")"
   ]
  },
  {
   "cell_type": "markdown",
   "id": "97594c6a",
   "metadata": {
    "deletable": false,
    "editable": false,
    "slideshow": {
     "slide_type": ""
    },
    "tags": []
   },
   "source": [
    "#### Project question 6"
   ]
  },
  {
   "cell_type": "markdown",
   "id": "ec8a711a",
   "metadata": {
    "deletable": false,
    "editable": false,
    "slideshow": {
     "slide_type": ""
    },
    "tags": []
   },
   "source": [
    "Find all entity names (`entity_name`) that contain **both** *\"Solar\"* **and** *\"LLC\"* (case insensitive).\n",
    "\n",
    "Your output **must** be a **list**. The order **does not** matter.\n",
    "\n",
    "**Hint**: One way to solve this is as follows. You can use the `find_entities_with_phrase` function on *\"Solar\"* and loop through those entity names to find ones that contain *\"LLC\"* to answer this question."
   ]
  },
  {
   "cell_type": "markdown",
   "id": "cf7ce6f4",
   "metadata": {
    "deletable": false,
    "editable": false,
    "slideshow": {
     "slide_type": ""
    },
    "tags": []
   },
   "source": [
    "Points possible: 4"
   ]
  },
  {
   "cell_type": "code",
   "execution_count": 103,
   "id": "8f243866",
   "metadata": {
    "deletable": false,
    "editable": true,
    "slideshow": {
     "slide_type": ""
    },
    "tags": [
     "q6-code"
    ]
   },
   "outputs": [
    {
     "data": {
      "text/plain": [
       "['Middleton Biogas Solar, LLC',\n",
       " 'Butter Solar, LLC',\n",
       " 'HQC Rock River Solar Power Generation Station LLC',\n",
       " 'Dane County Solar LLC',\n",
       " 'Flambeau Solar Partners, LLC']"
      ]
     },
     "execution_count": 103,
     "metadata": {},
     "output_type": "execute_result"
    }
   ],
   "source": [
    "# Step 1: Find entities that contain \"Solar\"\n",
    "entities_contain_solar_llc = []\n",
    "entities_contain_solar = find_entities_with_phrase(\"Solar\")\n",
    "\n",
    "# Step 2: Loop through the entities that contain \"Solar\" and check if they also contain \"LLC\"\n",
    "for entity in entities_contain_solar:\n",
    "    if \"LLC\".lower() in entity.lower():\n",
    "        entities_contain_solar_llc.append(entity)\n",
    "\n",
    "# Output the list of entity names that contain both \"Solar\" and \"LLC\"\n",
    "entities_contain_solar_llc"
   ]
  },
  {
   "cell_type": "code",
   "execution_count": 104,
   "id": "f7bad9de",
   "metadata": {
    "deletable": false,
    "editable": false,
    "slideshow": {
     "slide_type": ""
    },
    "tags": []
   },
   "outputs": [
    {
     "name": "stdout",
     "output_type": "stream",
     "text": [
      "Make sure you saved the notebook before running this cell. Running check for q6...\n",
      "Great job! You passed all test cases for this question.\n"
     ]
    }
   ],
   "source": [
    "student_grader.check(\"q6\")"
   ]
  },
  {
   "cell_type": "markdown",
   "id": "bc5836de",
   "metadata": {
    "deletable": false,
    "editable": false,
    "slideshow": {
     "slide_type": ""
    },
    "tags": []
   },
   "source": [
    "#### Project question 7"
   ]
  },
  {
   "cell_type": "markdown",
   "id": "d7f1fe7c",
   "metadata": {
    "deletable": false,
    "editable": false,
    "slideshow": {
     "slide_type": ""
    },
    "tags": []
   },
   "source": [
    "Find the generator IDs (`generator_id`) of all the generators that use the `technology` *\"Wood/Wood Waste Biomass\"* within the power plant with the `plant_id` *50614*.\n",
    "\n",
    "Your output **must** be a *list*. The IDs **must** be sorted in **descending (alphabetical) order**."
   ]
  },
  {
   "cell_type": "markdown",
   "id": "d0ebcaed",
   "metadata": {
    "deletable": false,
    "editable": false
   },
   "source": [
    "Points possible: 5"
   ]
  },
  {
   "cell_type": "code",
   "execution_count": 105,
   "id": "14e60189",
   "metadata": {
    "deletable": false,
    "editable": true,
    "slideshow": {
     "slide_type": ""
    },
    "tags": [
     "q7-code"
    ]
   },
   "outputs": [
    {
     "data": {
      "text/plain": [
       "['WEST', 'GEN1']"
      ]
     },
     "execution_count": 105,
     "metadata": {},
     "output_type": "execute_result"
    }
   ],
   "source": [
    "# Initialize an empty list to store the generator IDs\n",
    "plant_50614_generators = []\n",
    "\n",
    "# Loop through all rows in the dataset\n",
    "for i in range(num_rows):\n",
    "    # Check if the plant_id matches 50614 and the technology is \"Wood/Wood Waste Biomass\"\n",
    "    if cell(i, 'plant_id') == 50614 and cell(i, 'technology') == \"Wood/Wood Waste Biomass\":\n",
    "        # Append the generator_id to the list\n",
    "        plant_50614_generators.append(cell(i, 'generator_id'))\n",
    "\n",
    "# Sort the generator IDs in descending alphabetical order\n",
    "plant_50614_generators.sort(reverse=True)\n",
    "\n",
    "# Output the sorted list of generator IDs\n",
    "plant_50614_generators"
   ]
  },
  {
   "cell_type": "code",
   "execution_count": 106,
   "id": "fccf8083",
   "metadata": {
    "deletable": false,
    "editable": false,
    "slideshow": {
     "slide_type": ""
    },
    "tags": []
   },
   "outputs": [
    {
     "name": "stdout",
     "output_type": "stream",
     "text": [
      "Make sure you saved the notebook before running this cell. Running check for q7...\n",
      "Great job! You passed all test cases for this question.\n"
     ]
    }
   ],
   "source": [
    "student_grader.check(\"q7\")"
   ]
  },
  {
   "cell_type": "markdown",
   "id": "5e2e7df2",
   "metadata": {
    "deletable": false,
    "editable": false,
    "slideshow": {
     "slide_type": ""
    },
    "tags": []
   },
   "source": [
    "#### Project question 8"
   ]
  },
  {
   "cell_type": "markdown",
   "id": "1e4c8af3",
   "metadata": {
    "deletable": false,
    "editable": false,
    "slideshow": {
     "slide_type": ""
    },
    "tags": []
   },
   "source": [
    "What are the power plants (`plant_name`) that contain generators which use the `technology` *Conventional Hydroelectric* and have a `net_summer_capacity` greater than *5*?\n",
    "\n",
    "You **must** **ignore** all generators with **missing** `net_summer_capacity` data. Thus, if your cell function returns `None` for this property, you should skip the current index with a `continue`.\n",
    "\n",
    "Your output **must** be a *list* of **unique** plant names (`plant_name`). The names **must** be sorted in **ascending (alphabetical) order**."
   ]
  },
  {
   "cell_type": "markdown",
   "id": "a9cb86d2",
   "metadata": {
    "deletable": false,
    "editable": false,
    "slideshow": {
     "slide_type": ""
    },
    "tags": []
   },
   "source": [
    "Points possible: 5"
   ]
  },
  {
   "cell_type": "code",
   "execution_count": 107,
   "id": "22bf0bd6",
   "metadata": {
    "deletable": false,
    "editable": true,
    "slideshow": {
     "slide_type": ""
    },
    "tags": [
     "q8-code"
    ]
   },
   "outputs": [
    {
     "data": {
      "text/plain": [
       "['Cornell',\n",
       " 'Flambeau Hydroelectric Station',\n",
       " 'Grandfather Falls',\n",
       " 'Holcombe',\n",
       " 'Jim Falls',\n",
       " 'Kilbourn',\n",
       " 'Prairie Du Sac']"
      ]
     },
     "execution_count": 107,
     "metadata": {},
     "output_type": "execute_result"
    }
   ],
   "source": [
    "# Initialize an empty list to store the plant names\n",
    "powerful_hydro_electric_plants = []\n",
    "\n",
    "# Loop through all rows in the dataset\n",
    "for i in range(num_rows):\n",
    "    # Check if the technology is \"Conventional Hydroelectric\"\n",
    "    if cell(i, 'technology') == \"Conventional Hydroelectric\":\n",
    "        # Get the net_summer_capacity and skip rows with missing data\n",
    "        net_summer_capacity = cell(i, 'net_summer_capacity')\n",
    "        if net_summer_capacity is None:\n",
    "            continue\n",
    "        \n",
    "        # Check if net_summer_capacity is greater than 5\n",
    "        if net_summer_capacity > 5:\n",
    "            # Append the plant_name to the list\n",
    "            powerful_hydro_electric_plants.append(cell(i, 'plant_name'))\n",
    "\n",
    "# Remove duplicates and sort the list in ascending (alphabetical) order\n",
    "powerful_hydro_electric_plants = sorted(list(set(powerful_hydro_electric_plants)))\n",
    "\n",
    "# Output the sorted list of plant names\n",
    "powerful_hydro_electric_plants"
   ]
  },
  {
   "cell_type": "code",
   "execution_count": 108,
   "id": "bcbd5061",
   "metadata": {
    "deletable": false,
    "editable": false,
    "slideshow": {
     "slide_type": ""
    },
    "tags": []
   },
   "outputs": [
    {
     "name": "stdout",
     "output_type": "stream",
     "text": [
      "Make sure you saved the notebook before running this cell. Running check for q8...\n",
      "Great job! You passed all test cases for this question.\n"
     ]
    }
   ],
   "source": [
    "student_grader.check(\"q8\")"
   ]
  },
  {
   "cell_type": "markdown",
   "id": "e4b088bd",
   "metadata": {
    "deletable": false,
    "editable": false,
    "slideshow": {
     "slide_type": ""
    },
    "tags": []
   },
   "source": [
    "#### Project Function 2: `num_generators_by(entity_name)`"
   ]
  },
  {
   "cell_type": "markdown",
   "id": "bd9b027b",
   "metadata": {
    "deletable": false,
    "editable": false,
    "slideshow": {
     "slide_type": ""
    },
    "tags": []
   },
   "source": [
    "Please complete the below function. This function should return the number of power generators operated by the given `entity_name`."
   ]
  },
  {
   "cell_type": "markdown",
   "id": "7279bf28",
   "metadata": {
    "deletable": false,
    "editable": false,
    "slideshow": {
     "slide_type": ""
    },
    "tags": []
   },
   "source": [
    "Points possible: 3"
   ]
  },
  {
   "cell_type": "code",
   "execution_count": 109,
   "id": "c15d3cff",
   "metadata": {
    "deletable": false,
    "editable": true,
    "slideshow": {
     "slide_type": ""
    },
    "tags": [
     "num_generators_by-code"
    ]
   },
   "outputs": [
    {
     "data": {
      "text/plain": [
       "4"
      ]
     },
     "execution_count": 109,
     "metadata": {},
     "output_type": "execute_result"
    }
   ],
   "source": [
    "def num_generators_by(entity_name):\n",
    "    # Initialize a counter for the number of generators\n",
    "    generator_count = 0\n",
    "\n",
    "    # Loop through all rows in the dataset\n",
    "    for i in range(num_rows):\n",
    "        # Check if the entity_name matches the input entity_name\n",
    "        if cell(i, 'entity_name') == entity_name:\n",
    "            # Increment the counter if there's a match\n",
    "            generator_count += 1\n",
    "\n",
    "    # Return the final count\n",
    "    return generator_count\n",
    "\n",
    "# Test your function by calling it with an entity name\n",
    "num_generators_by(\"City of New Lisbon\")"
   ]
  },
  {
   "cell_type": "code",
   "execution_count": 110,
   "id": "4ec7be96",
   "metadata": {
    "deletable": false,
    "editable": false,
    "slideshow": {
     "slide_type": ""
    },
    "tags": []
   },
   "outputs": [
    {
     "name": "stdout",
     "output_type": "stream",
     "text": [
      "Make sure you saved the notebook before running this cell. Running check for num_generators_by...\n",
      "Great job! You passed all test cases for this question.\n"
     ]
    }
   ],
   "source": [
    "student_grader.check(\"num_generators_by\")"
   ]
  },
  {
   "cell_type": "markdown",
   "id": "9ee71a9f",
   "metadata": {
    "deletable": false,
    "editable": false,
    "slideshow": {
     "slide_type": ""
    },
    "tags": []
   },
   "source": [
    "#### Project question 9"
   ]
  },
  {
   "cell_type": "markdown",
   "id": "6d7c9ad7",
   "metadata": {
    "deletable": false,
    "editable": false,
    "slideshow": {
     "slide_type": ""
    },
    "tags": []
   },
   "source": [
    "How **many** generators are operated by the entity (`entity_name`) *Madison Gas & Electric Co*?\n",
    "\n",
    "You **must** use the `num_generators_by` function to answer this question."
   ]
  },
  {
   "cell_type": "markdown",
   "id": "2cb7ad2a",
   "metadata": {
    "deletable": false,
    "editable": false
   },
   "source": [
    "Points possible: 2"
   ]
  },
  {
   "cell_type": "code",
   "execution_count": 111,
   "id": "7b63cd92",
   "metadata": {
    "deletable": false,
    "editable": true,
    "slideshow": {
     "slide_type": ""
    },
    "tags": [
     "q9-code"
    ]
   },
   "outputs": [
    {
     "data": {
      "text/plain": [
       "19"
      ]
     },
     "execution_count": 111,
     "metadata": {},
     "output_type": "execute_result"
    }
   ],
   "source": [
    "# Use the num_generators_by function to find how many generators are operated by \"Madison Gas & Electric Co\"\n",
    "num_generators_by_mge = num_generators_by(\"Madison Gas & Electric Co\")\n",
    "\n",
    "# Output the result\n",
    "num_generators_by_mge\n"
   ]
  },
  {
   "cell_type": "code",
   "execution_count": 112,
   "id": "9d12b439",
   "metadata": {
    "deletable": false,
    "editable": false,
    "slideshow": {
     "slide_type": ""
    },
    "tags": []
   },
   "outputs": [
    {
     "name": "stdout",
     "output_type": "stream",
     "text": [
      "Make sure you saved the notebook before running this cell. Running check for q9...\n",
      "Great job! You passed all test cases for this question.\n"
     ]
    }
   ],
   "source": [
    "student_grader.check(\"q9\")"
   ]
  },
  {
   "cell_type": "markdown",
   "id": "ace59de4",
   "metadata": {
    "deletable": false,
    "editable": false,
    "slideshow": {
     "slide_type": ""
    },
    "tags": []
   },
   "source": [
    "#### Project question 10"
   ]
  },
  {
   "cell_type": "markdown",
   "id": "cd774290",
   "metadata": {
    "deletable": false,
    "editable": false,
    "slideshow": {
     "slide_type": ""
    },
    "tags": []
   },
   "source": [
    "How **many** generators are operated by entities whose name (`entity_name`) **contains** the **phrase** *River* (case insensitive)?\n",
    "\n",
    "You **must** use the `num_generators_by` and `find_entities_with_phrase` functions to answer this question. You will need to use a loop to answer this question."
   ]
  },
  {
   "cell_type": "markdown",
   "id": "f78aa49f",
   "metadata": {
    "deletable": false,
    "editable": false,
    "slideshow": {
     "slide_type": ""
    },
    "tags": []
   },
   "source": [
    "Points possible: 3"
   ]
  },
  {
   "cell_type": "code",
   "execution_count": 113,
   "id": "47a40343",
   "metadata": {
    "deletable": false,
    "editable": true,
    "slideshow": {
     "slide_type": ""
    },
    "tags": [
     "q10-code"
    ]
   },
   "outputs": [
    {
     "data": {
      "text/plain": [
       "10"
      ]
     },
     "execution_count": 113,
     "metadata": {},
     "output_type": "execute_result"
    }
   ],
   "source": [
    "# Step 1: Find all entities with \"River\" in their name (case insensitive)\n",
    "river_entities = find_entities_with_phrase(\"River\")\n",
    "\n",
    "# Step 2: Initialize a counter for the total number of generators\n",
    "num_generators_by_river = 0\n",
    "\n",
    "# Step 3: Loop through each entity and count its generators\n",
    "for entity in river_entities:\n",
    "    num_generators_by_river += num_generators_by(entity)\n",
    "\n",
    "# Output the total number of generators operated by entities with \"River\" in their name\n",
    "num_generators_by_river"
   ]
  },
  {
   "cell_type": "code",
   "execution_count": 114,
   "id": "fe812168",
   "metadata": {
    "deletable": false,
    "editable": false,
    "slideshow": {
     "slide_type": ""
    },
    "tags": []
   },
   "outputs": [
    {
     "name": "stdout",
     "output_type": "stream",
     "text": [
      "Make sure you saved the notebook before running this cell. Running check for q10...\n",
      "Great job! You passed all test cases for this question.\n"
     ]
    }
   ],
   "source": [
    "student_grader.check(\"q10\")"
   ]
  },
  {
   "cell_type": "markdown",
   "id": "cdcbdb12",
   "metadata": {
    "deletable": false,
    "editable": false,
    "slideshow": {
     "slide_type": ""
    },
    "tags": []
   },
   "source": [
    "#### Project question 11"
   ]
  },
  {
   "cell_type": "markdown",
   "id": "e9461f73",
   "metadata": {
    "deletable": false,
    "editable": false,
    "slideshow": {
     "slide_type": ""
    },
    "tags": []
   },
   "source": [
    "Which entity (`entity_name`) operates the **most** number of generators within Wisconsin?\n",
    "\n",
    "You **must** use the `num_generators_by` function to answer this question. You do **not** have to worry about any ties. There is a **unique** entity with the most number of generators in the dataset.\n",
    "\n",
    "**Hint**: You must first create a list of unique entity names from the dataset, then loop through them to find the entity with the most number of generators.\n",
    "\n",
    "Take a look back at the `find_entities_with_phrase` function and reason through why `find_entities_with_phrase(\"\")` will give you a list of all unique entities. You do **not** have to use this variable to answer the question, but it can make this question easier."
   ]
  },
  {
   "cell_type": "markdown",
   "id": "0a5fe8dc",
   "metadata": {
    "deletable": false,
    "editable": false,
    "slideshow": {
     "slide_type": ""
    },
    "tags": []
   },
   "source": [
    "Points possible: 5"
   ]
  },
  {
   "cell_type": "code",
   "execution_count": 115,
   "id": "005d5411",
   "metadata": {
    "deletable": false,
    "editable": true,
    "slideshow": {
     "slide_type": ""
    },
    "tags": [
     "q11-code"
    ]
   },
   "outputs": [
    {
     "data": {
      "text/plain": [
       "'Northern States Power Co - Minnesota'"
      ]
     },
     "execution_count": 115,
     "metadata": {},
     "output_type": "execute_result"
    }
   ],
   "source": [
    "# Initialize variables to keep track of the entity with the most generators\n",
    "most_generators_entity = None\n",
    "max_generators = 0\n",
    "\n",
    "# Get a list of all unique entities\n",
    "all_unique_entities = find_entities_with_phrase(\"\")\n",
    "\n",
    "# Loop through each entity and count the number of generators\n",
    "for entity in all_unique_entities:\n",
    "    # Get the number of generators for the current entity\n",
    "    generator_count = num_generators_by(entity)\n",
    "    \n",
    "    # Update if the current entity has more generators than the previous maximum\n",
    "    if generator_count > max_generators:\n",
    "        max_generators = generator_count\n",
    "        most_generators_entity = entity\n",
    "\n",
    "# Output the entity that operates the most generators\n",
    "most_generators_entity"
   ]
  },
  {
   "cell_type": "code",
   "execution_count": 116,
   "id": "6542e60f",
   "metadata": {
    "deletable": false,
    "editable": false,
    "slideshow": {
     "slide_type": ""
    },
    "tags": []
   },
   "outputs": [
    {
     "name": "stdout",
     "output_type": "stream",
     "text": [
      "Make sure you saved the notebook before running this cell. Running check for q11...\n",
      "Great job! You passed all test cases for this question.\n"
     ]
    }
   ],
   "source": [
    "student_grader.check(\"q11\")"
   ]
  },
  {
   "cell_type": "markdown",
   "id": "4b5dc3a0",
   "metadata": {
    "deletable": false,
    "editable": false,
    "slideshow": {
     "slide_type": ""
    },
    "tags": []
   },
   "source": [
    "#### Project Function 3: `find_indices_within(lat_min, lat_max, long_min, long_max)` "
   ]
  },
  {
   "cell_type": "markdown",
   "id": "b2ca5029-d453-404e-943a-1dcf701a4140",
   "metadata": {
    "deletable": false,
    "editable": false,
    "slideshow": {
     "slide_type": ""
    },
    "tags": []
   },
   "source": [
    "Please complete the below function. `find_indices_within` should return a list of *row indices* of all generators located within the\n",
    "latitudes `lat_min` and `lat_max` (both inclusive) and the longitudes `long_min` and `long_max` (both inclusive)."
   ]
  },
  {
   "cell_type": "markdown",
   "id": "dfca6373",
   "metadata": {
    "deletable": false,
    "editable": false,
    "slideshow": {
     "slide_type": ""
    },
    "tags": []
   },
   "source": [
    "Points possible: 5"
   ]
  },
  {
   "cell_type": "code",
   "execution_count": 117,
   "id": "c6802dc2",
   "metadata": {
    "deletable": false,
    "editable": true,
    "slideshow": {
     "slide_type": ""
    },
    "tags": [
     "find_indices_within-code"
    ]
   },
   "outputs": [],
   "source": [
    "def find_indices_within(lat_min, lat_max, long_min, long_max):\n",
    "    indices = []\n",
    "    \n",
    "    # Loop through all rows in the dataset\n",
    "    for i in range(num_rows):\n",
    "        # Get the latitude and longitude for the current row\n",
    "        latitude = cell(i, 'latitude')\n",
    "        longitude = cell(i, 'longitude')\n",
    "        \n",
    "        # Check if the latitude and longitude fall within the specified bounds\n",
    "        if lat_min <= latitude <= lat_max and long_min <= longitude <= long_max:\n",
    "            indices.append(i)  # Append the row index to the list if the conditions are met\n",
    "    \n",
    "    return indices\n",
    "\n",
    "# Example test: Uncomment the following line to test the function with specific latitude and longitude ranges\n",
    "# find_indices_within(43, 43.5, -90.5, -90)"
   ]
  },
  {
   "cell_type": "code",
   "execution_count": 118,
   "id": "4e94b26b",
   "metadata": {
    "deletable": false,
    "editable": false,
    "slideshow": {
     "slide_type": ""
    },
    "tags": []
   },
   "outputs": [
    {
     "name": "stdout",
     "output_type": "stream",
     "text": [
      "Make sure you saved the notebook before running this cell. Running check for find_indices_within...\n",
      "Great job! You passed all test cases for this question.\n"
     ]
    }
   ],
   "source": [
    "student_grader.check(\"find_indices_within\")"
   ]
  },
  {
   "cell_type": "markdown",
   "id": "0b96f3f5",
   "metadata": {
    "deletable": false,
    "editable": false,
    "slideshow": {
     "slide_type": ""
    },
    "tags": []
   },
   "source": [
    "#### Project question 12"
   ]
  },
  {
   "cell_type": "markdown",
   "id": "18c74fa6",
   "metadata": {
    "deletable": false,
    "editable": false,
    "slideshow": {
     "slide_type": ""
    },
    "tags": []
   },
   "source": [
    "How **many** power generators are located **within** the *City of Milwaukee* (`42.9870 <= latitude <= 43.1936`, `-88.0636 <= longitude <= -87.8727`)?\n",
    "\n",
    "Note that simply checking if the `county` is *Milwaukee* will lead you to count generators that are within *Milwaukee County*, but not within the City. Use the coordinates given above to determine the generators that lie within the City.\n",
    "\n",
    "You **must** use the `find_indices_within` function and `len` to answer this question."
   ]
  },
  {
   "cell_type": "markdown",
   "id": "b66b0d4e",
   "metadata": {
    "deletable": false,
    "editable": false
   },
   "source": [
    "Points possible: 3"
   ]
  },
  {
   "cell_type": "code",
   "execution_count": 119,
   "id": "aee6c489",
   "metadata": {
    "deletable": false,
    "editable": true,
    "slideshow": {
     "slide_type": ""
    },
    "tags": [
     "q12-code"
    ]
   },
   "outputs": [
    {
     "data": {
      "text/plain": [
       "8"
      ]
     },
     "execution_count": 119,
     "metadata": {},
     "output_type": "execute_result"
    }
   ],
   "source": [
    "# Use the find_indices_within function to find all generators within the specified latitude and longitude range for Milwaukee\n",
    "num_generators_in_milwaukee = len(find_indices_within(42.9870, 43.1936, -88.0636, -87.8727))\n",
    "\n",
    "# Output the number of generators within the City of Milwaukee\n",
    "num_generators_in_milwaukee"
   ]
  },
  {
   "cell_type": "code",
   "execution_count": 120,
   "id": "0c99bbf4",
   "metadata": {
    "deletable": false,
    "editable": false,
    "slideshow": {
     "slide_type": ""
    },
    "tags": []
   },
   "outputs": [
    {
     "name": "stdout",
     "output_type": "stream",
     "text": [
      "Make sure you saved the notebook before running this cell. Running check for q12...\n",
      "Great job! You passed all test cases for this question.\n"
     ]
    }
   ],
   "source": [
    "student_grader.check(\"q12\")"
   ]
  },
  {
   "cell_type": "markdown",
   "id": "8ef6ab05",
   "metadata": {
    "deletable": false,
    "editable": false,
    "slideshow": {
     "slide_type": ""
    },
    "tags": []
   },
   "source": [
    "#### Project question 13"
   ]
  },
  {
   "cell_type": "markdown",
   "id": "6f4513b3",
   "metadata": {
    "deletable": false,
    "editable": false,
    "slideshow": {
     "slide_type": ""
    },
    "tags": []
   },
   "source": [
    "What are the **unique** technologies (`technology`) used by power generators located **near** the *University of Wisconsin-Madison Department of Computer Sciences* (`43.0675 <= latitude <= 43.0725`, `-89.4100 <= longitude <= -89.4000`)?\n",
    "\n",
    "You may assume that any power generator that lies within the coordinates given above are **near** the *University of Wisconsin-Madison Department of Computer Sciences*. You **must** use the `find_indices_within` function to answer this question.\n",
    "\n",
    "You **must** return a **list** of **unique** technologies. The order **does not** matter. "
   ]
  },
  {
   "cell_type": "markdown",
   "id": "c21f6e6a",
   "metadata": {
    "deletable": false,
    "editable": false,
    "slideshow": {
     "slide_type": ""
    },
    "tags": []
   },
   "source": [
    "Points possible: 3"
   ]
  },
  {
   "cell_type": "code",
   "execution_count": 122,
   "id": "5f1b89a6",
   "metadata": {
    "deletable": false,
    "editable": true,
    "slideshow": {
     "slide_type": ""
    },
    "tags": [
     "q13-code"
    ]
   },
   "outputs": [
    {
     "data": {
      "text/plain": [
       "['Petroleum Liquids', 'Natural Gas Steam Turbine']"
      ]
     },
     "execution_count": 122,
     "metadata": {},
     "output_type": "execute_result"
    }
   ],
   "source": [
    "# Step 1: Find the indices of generators within the specified latitude and longitude range\n",
    "plant_indices_near_uwm = find_indices_within(43.0675, 43.0725, -89.4100, -89.4000)\n",
    "\n",
    "# Step 2: Collect the technologies used by these generators\n",
    "uw_madison_technologies = []\n",
    "for idx in plant_indices_near_uwm:\n",
    "    uw_madison_technologies.append(cell(idx, 'technology'))\n",
    "\n",
    "# Step 3: Remove duplicates by converting the list to a set and back to a list\n",
    "uw_madison_technologies = list(set(uw_madison_technologies))\n",
    "\n",
    "# Output the list of unique technologies\n",
    "uw_madison_technologies"
   ]
  },
  {
   "cell_type": "code",
   "execution_count": 123,
   "id": "eb12fe81",
   "metadata": {
    "deletable": false,
    "editable": false,
    "slideshow": {
     "slide_type": ""
    },
    "tags": []
   },
   "outputs": [
    {
     "name": "stdout",
     "output_type": "stream",
     "text": [
      "Make sure you saved the notebook before running this cell. Running check for q13...\n",
      "Great job! You passed all test cases for this question.\n"
     ]
    }
   ],
   "source": [
    "student_grader.check(\"q13\")"
   ]
  },
  {
   "cell_type": "markdown",
   "id": "6039ce59",
   "metadata": {
    "deletable": false,
    "editable": false,
    "slideshow": {
     "slide_type": ""
    },
    "tags": []
   },
   "source": [
    "#### Project question 14"
   ]
  },
  {
   "cell_type": "markdown",
   "id": "53ceb4f6",
   "metadata": {
    "deletable": false,
    "editable": false,
    "slideshow": {
     "slide_type": ""
    },
    "tags": []
   },
   "source": [
    "Which power plant (`plant_name`) in *North Wisconsin* (`44.9657 <= latitude <= 46.6989`, `-92.1908 <= longitude <= -87.6449`) has the generator with the **highest** `net_summer_capacity`?\n",
    "\n",
    "You may assume that any power generator that lies within the coordinates given above are **in** *North Wisconsin*. You **may** assume that **none** of the `net_summer_capacity` values of any of the power generators within this area are **missing**.\n",
    "\n",
    "You do **not** have to worry about any ties. There is a **unique** generator in *North Wisconsin* with the highest `net_summer_capacity`.\n",
    "\n",
    "You **must** use the `find_indices_within` function to answer this question."
   ]
  },
  {
   "cell_type": "markdown",
   "id": "18d4a15a",
   "metadata": {
    "deletable": false,
    "editable": false
   },
   "source": [
    "Points possible: 5"
   ]
  },
  {
   "cell_type": "code",
   "execution_count": 124,
   "id": "4b85701d",
   "metadata": {
    "deletable": false,
    "editable": true,
    "slideshow": {
     "slide_type": ""
    },
    "tags": [
     "q14-code"
    ]
   },
   "outputs": [
    {
     "data": {
      "text/plain": [
       "'West Marinette'"
      ]
     },
     "execution_count": 124,
     "metadata": {},
     "output_type": "execute_result"
    }
   ],
   "source": [
    "# Step 1: Find the indices of generators in North Wisconsin\n",
    "plant_indices_north_wisconsin = find_indices_within(44.9657, 46.6989, -92.1908, -87.6449)\n",
    "\n",
    "# Step 2: Initialize variables to track the highest net_summer_capacity and its index\n",
    "max_capacity = 0\n",
    "max_capacity_index = None\n",
    "\n",
    "# Step 3: Loop through the indices to find the generator with the highest net_summer_capacity\n",
    "for idx in plant_indices_north_wisconsin:\n",
    "    # Get the net_summer_capacity of the current generator\n",
    "    capacity = cell(idx, 'net_summer_capacity')\n",
    "    \n",
    "    # Update if this generator has a higher capacity than the current maximum\n",
    "    if capacity > max_capacity:\n",
    "        max_capacity = capacity\n",
    "        max_capacity_index = idx\n",
    "\n",
    "# Step 4: Get the plant name for the generator with the highest capacity\n",
    "north_wisconsin_most_powerful = cell(max_capacity_index, 'plant_name')\n",
    "\n",
    "# Output the plant name\n",
    "north_wisconsin_most_powerful"
   ]
  },
  {
   "cell_type": "code",
   "execution_count": 125,
   "id": "097440ff",
   "metadata": {
    "deletable": false,
    "editable": false,
    "slideshow": {
     "slide_type": ""
    },
    "tags": []
   },
   "outputs": [
    {
     "name": "stdout",
     "output_type": "stream",
     "text": [
      "Make sure you saved the notebook before running this cell. Running check for q14...\n",
      "Great job! You passed all test cases for this question.\n"
     ]
    }
   ],
   "source": [
    "student_grader.check(\"q14\")"
   ]
  },
  {
   "cell_type": "markdown",
   "id": "d10f1a32",
   "metadata": {
    "deletable": false,
    "editable": false,
    "slideshow": {
     "slide_type": ""
    },
    "tags": []
   },
   "source": [
    "#### Project question 15"
   ]
  },
  {
   "cell_type": "markdown",
   "id": "8df56d8a",
   "metadata": {
    "deletable": false,
    "editable": false,
    "slideshow": {
     "slide_type": ""
    },
    "tags": []
   },
   "source": [
    "What is the **median** `net_winter_capacity` of *Conventional Hydroelectric* (`technology`) power generators **near** *Lake Winnebago* (`43.6961 <= latitude <= 44.3512`, `-88.5375 <= longitude <= -88.2713`)?\n",
    "\n",
    "You may assume that any power generator that lies within the coordinates given above are **near** *Lake Winnebago*. You **may** assume that **none** of the `net_winter_capacity` values of any of the power generators within this area are **missing**.\n",
    "\n",
    "You **must** use the `find_indices_within` and `median` functions to answer this question."
   ]
  },
  {
   "cell_type": "markdown",
   "id": "4d2698b9",
   "metadata": {
    "deletable": false,
    "editable": false
   },
   "source": [
    "Points possible: 4"
   ]
  },
  {
   "cell_type": "code",
   "execution_count": 126,
   "id": "2369bd91",
   "metadata": {
    "deletable": false,
    "editable": true,
    "slideshow": {
     "slide_type": ""
    },
    "tags": [
     "q15-code"
    ]
   },
   "outputs": [
    {
     "data": {
      "text/plain": [
       "0.7"
      ]
     },
     "execution_count": 126,
     "metadata": {},
     "output_type": "execute_result"
    }
   ],
   "source": [
    "# Step 1: Find the indices of generators near Lake Winnebago\n",
    "winnebago_indices = find_indices_within(43.6961, 44.3512, -88.5375, -88.2713)\n",
    "\n",
    "# Step 2: Collect the net_winter_capacity for Conventional Hydroelectric generators\n",
    "winnebago_hydro_winter_capacities = []\n",
    "for idx in winnebago_indices:\n",
    "    if cell(idx, 'technology') == \"Conventional Hydroelectric\":\n",
    "        winnebago_hydro_winter_capacities.append(cell(idx, 'net_winter_capacity'))\n",
    "\n",
    "# Step 3: Get the median of the collected net_winter_capacity values\n",
    "winnebago_hydro_winter_capacity = median(winnebago_hydro_winter_capacities)\n",
    "\n",
    "# Output the median net_winter_capacity\n",
    "winnebago_hydro_winter_capacity\n"
   ]
  },
  {
   "cell_type": "code",
   "execution_count": 127,
   "id": "2f25bfec",
   "metadata": {
    "deletable": false,
    "editable": false,
    "slideshow": {
     "slide_type": ""
    },
    "tags": []
   },
   "outputs": [
    {
     "name": "stdout",
     "output_type": "stream",
     "text": [
      "Make sure you saved the notebook before running this cell. Running check for q15...\n",
      "Great job! You passed all test cases for this question.\n"
     ]
    }
   ],
   "source": [
    "student_grader.check(\"q15\")"
   ]
  },
  {
   "cell_type": "markdown",
   "id": "c3a93f3f",
   "metadata": {
    "deletable": false,
    "editable": false,
    "slideshow": {
     "slide_type": ""
    },
    "tags": []
   },
   "source": [
    "#### Project Function 4: `total_summer_capacity_of(plant_name)` "
   ]
  },
  {
   "cell_type": "markdown",
   "id": "1a1cabb1",
   "metadata": {
    "deletable": false,
    "editable": false,
    "slideshow": {
     "slide_type": ""
    },
    "tags": []
   },
   "source": [
    "Please complete the below function. This function must take in a `plant_name` and return the **total** `net_summer_capacity` of all the power generators within that power plant.\n",
    "\n",
    "This function can be **case-sensitive**. You **only** need to consider the power plants whose names **exactly match** `plant_name`. This means that if a plant name at an index you're considering is not exactly `plant_name`, you should skip it with `continue`. You must also skip plants with missing `net_summer_capacity` data."
   ]
  },
  {
   "cell_type": "markdown",
   "id": "f0fb2756",
   "metadata": {
    "deletable": false,
    "editable": false,
    "slideshow": {
     "slide_type": ""
    },
    "tags": []
   },
   "source": [
    "Points possible: 6"
   ]
  },
  {
   "cell_type": "code",
   "execution_count": 128,
   "id": "5e413275",
   "metadata": {
    "deletable": false,
    "editable": true,
    "slideshow": {
     "slide_type": ""
    },
    "tags": [
     "total_summer_capacity_of-code"
    ]
   },
   "outputs": [],
   "source": [
    "def total_summer_capacity_of(plant_name):\n",
    "    total_capacity = 0  # Initialize the total capacity to 0\n",
    "\n",
    "    # Loop through all rows in the dataset\n",
    "    for i in range(num_rows):\n",
    "        # Check if the plant_name matches exactly\n",
    "        if cell(i, 'plant_name') != plant_name:\n",
    "            continue  # Skip if the plant_name doesn't match\n",
    "\n",
    "        # Get the net_summer_capacity and skip if it is missing (None)\n",
    "        summer_capacity = cell(i, 'net_summer_capacity')\n",
    "        if summer_capacity is None:\n",
    "            continue  # Skip if the capacity is missing\n",
    "\n",
    "        # Add the capacity to the total\n",
    "        total_capacity += summer_capacity\n",
    "\n",
    "    return total_capacity  # Return the total capacity\n",
    "\n",
    "# Test your function by calling it with different plant names\n",
    "# Example: total_summer_capacity_of(\"Kilbourn\")"
   ]
  },
  {
   "cell_type": "code",
   "execution_count": 129,
   "id": "5800629a",
   "metadata": {
    "deletable": false,
    "editable": false,
    "slideshow": {
     "slide_type": ""
    },
    "tags": []
   },
   "outputs": [
    {
     "name": "stdout",
     "output_type": "stream",
     "text": [
      "Make sure you saved the notebook before running this cell. Running check for total_summer_capacity_of...\n",
      "Great job! You passed all test cases for this question.\n"
     ]
    }
   ],
   "source": [
    "student_grader.check(\"total_summer_capacity_of\")"
   ]
  },
  {
   "cell_type": "markdown",
   "id": "e6a8264b",
   "metadata": {
    "deletable": false,
    "editable": false,
    "slideshow": {
     "slide_type": ""
    },
    "tags": []
   },
   "source": [
    "#### Project question 16"
   ]
  },
  {
   "cell_type": "markdown",
   "id": "7eccb8d9",
   "metadata": {
    "deletable": false,
    "editable": false,
    "slideshow": {
     "slide_type": ""
    },
    "tags": []
   },
   "source": [
    "What is the **net summer capacity** of the **power plant** with the `plant_name` *Point Beach Nuclear Plant*?\n",
    "\n",
    "The **net summer capacity** of a **power plant** refers to the **total** `net_summer_capacity` of **all** the generators within the power plant.\n",
    "\n",
    "You **must** use the `total_summer_capacity_of` function to answer this question."
   ]
  },
  {
   "cell_type": "markdown",
   "id": "ce9da147",
   "metadata": {
    "deletable": false,
    "editable": false,
    "slideshow": {
     "slide_type": ""
    },
    "tags": []
   },
   "source": [
    "Points possible: 2"
   ]
  },
  {
   "cell_type": "code",
   "execution_count": 130,
   "id": "b7c3401b",
   "metadata": {
    "deletable": false,
    "editable": true,
    "slideshow": {
     "slide_type": ""
    },
    "tags": [
     "q16-code"
    ]
   },
   "outputs": [
    {
     "data": {
      "text/plain": [
       "1211.0"
      ]
     },
     "execution_count": 130,
     "metadata": {},
     "output_type": "execute_result"
    }
   ],
   "source": [
    "# Use the total_summer_capacity_of function to find the net summer capacity of the \"Point Beach Nuclear Plant\"\n",
    "point_beach_summer_capacity = total_summer_capacity_of(\"Point Beach Nuclear Plant\")\n",
    "\n",
    "# Output the net summer capacity\n",
    "point_beach_summer_capacity"
   ]
  },
  {
   "cell_type": "code",
   "execution_count": 131,
   "id": "7a8ecc08",
   "metadata": {
    "deletable": false,
    "editable": false,
    "slideshow": {
     "slide_type": ""
    },
    "tags": []
   },
   "outputs": [
    {
     "name": "stdout",
     "output_type": "stream",
     "text": [
      "Make sure you saved the notebook before running this cell. Running check for q16...\n",
      "Great job! You passed all test cases for this question.\n"
     ]
    }
   ],
   "source": [
    "student_grader.check(\"q16\")"
   ]
  },
  {
   "cell_type": "markdown",
   "id": "847eaa30",
   "metadata": {
    "deletable": false,
    "editable": false,
    "slideshow": {
     "slide_type": ""
    },
    "tags": []
   },
   "source": [
    "#### Project question 17"
   ]
  },
  {
   "cell_type": "markdown",
   "id": "c234f97d",
   "metadata": {
    "deletable": false,
    "editable": false,
    "slideshow": {
     "slide_type": ""
    },
    "tags": []
   },
   "source": [
    "Find the **median** of the **net summer capacities** of **all** the **power plants** in Wisconsin.\n",
    "\n",
    "The **net summer capacity** of a **power plant** refers to the **total** `net_summer_capacity` of **all** the generators within the power plant.\n",
    "\n",
    "You **must** use the `total_summer_capacity_of` function to answer this question.\n",
    "\n",
    "**WARNING**: You **must not** find the **median** across all the power **generators**. Multiple generators may belong to the same power plant. Instead, you **must** find the **median** across the **total** power generated by each **power plant**.\n",
    "\n",
    "**Hint**: You must first make a list of all the **unique** power plants (`plant_name`) in the dataset, then make a **list** of all their **total** net summer capacities (using `total_summer_capacity_of`), and finally, find the **median** of this list."
   ]
  },
  {
   "cell_type": "markdown",
   "id": "6c32f636",
   "metadata": {
    "deletable": false,
    "editable": false
   },
   "source": [
    "Points possible: 5"
   ]
  },
  {
   "cell_type": "code",
   "execution_count": 132,
   "id": "8d4b30df",
   "metadata": {
    "deletable": false,
    "editable": true,
    "slideshow": {
     "slide_type": ""
    },
    "tags": [
     "q17-code"
    ]
   },
   "outputs": [
    {
     "data": {
      "text/plain": [
       "7.25"
      ]
     },
     "execution_count": 132,
     "metadata": {},
     "output_type": "execute_result"
    }
   ],
   "source": [
    "# Step 1: Make a list of all unique power plant names\n",
    "power_plants = []\n",
    "\n",
    "# Loop through all rows in the dataset to collect plant names\n",
    "for i in range(num_rows):\n",
    "    power_plants.append(cell(i, 'plant_name'))\n",
    "\n",
    "# Remove duplicates by converting the list to a set, then back to a list\n",
    "power_plants = list(set(power_plants))\n",
    "\n",
    "# Step 2: Make a list of total net summer capacities for each power plant\n",
    "summer_capacities = []\n",
    "\n",
    "for plant in power_plants:\n",
    "    summer_capacities.append(total_summer_capacity_of(plant))\n",
    "\n",
    "# Step 3: Find the median of the summer capacities\n",
    "median_summer_capacity = median(summer_capacities)\n",
    "\n",
    "# Output the median summer capacity\n",
    "median_summer_capacity"
   ]
  },
  {
   "cell_type": "code",
   "execution_count": 133,
   "id": "c9ffef10",
   "metadata": {
    "deletable": false,
    "editable": false,
    "slideshow": {
     "slide_type": ""
    },
    "tags": []
   },
   "outputs": [
    {
     "name": "stdout",
     "output_type": "stream",
     "text": [
      "Make sure you saved the notebook before running this cell. Running check for q17...\n",
      "Great job! You passed all test cases for this question.\n"
     ]
    }
   ],
   "source": [
    "student_grader.check(\"q17\")"
   ]
  },
  {
   "cell_type": "markdown",
   "id": "0d3ad3d2",
   "metadata": {
    "deletable": false,
    "editable": false,
    "slideshow": {
     "slide_type": ""
    },
    "tags": []
   },
   "source": [
    "#### Project Function 6: `avg_winter_capacity_of(technology)`"
   ]
  },
  {
   "cell_type": "markdown",
   "id": "9f723bdc",
   "metadata": {
    "deletable": false,
    "editable": false,
    "slideshow": {
     "slide_type": ""
    },
    "tags": []
   },
   "source": [
    "We **require** you to complete the below function. This function must take in a `technology` and return the **average** (i.e., **mean**) `net_winter_capacity` of **all** the power generators which use that particular `technology`. If a particular `technology` has **some** generators with **missing data**, those generators **must** be **ignored** while finding the average (i.e., ignored in **both** the *numerator* and the *denominator*).\n",
    "\n",
    "This function can be **case-sensitive**. You **only** need to consider the technologies whose names **exactly match** `technology`."
   ]
  },
  {
   "cell_type": "markdown",
   "id": "2dd27b04",
   "metadata": {
    "deletable": false,
    "editable": false,
    "slideshow": {
     "slide_type": ""
    },
    "tags": []
   },
   "source": [
    "Points possible: 4"
   ]
  },
  {
   "cell_type": "code",
   "execution_count": 134,
   "id": "26778535",
   "metadata": {
    "deletable": false,
    "editable": true,
    "slideshow": {
     "slide_type": ""
    },
    "tags": [
     "avg_winter_capacity_of-code"
    ]
   },
   "outputs": [],
   "source": [
    "def avg_winter_capacity_of(technology):\n",
    "    total_capacity = 0  # To store the total winter capacity\n",
    "    count = 0  # To count the number of generators\n",
    "\n",
    "    # Loop through all rows in the dataset\n",
    "    for i in range(num_rows):\n",
    "        # Check if the technology matches exactly\n",
    "        if cell(i, 'technology') != technology:\n",
    "            continue  # Skip if the technology doesn't match\n",
    "        \n",
    "        # Get the net_winter_capacity and skip if it is missing (None)\n",
    "        winter_capacity = cell(i, 'net_winter_capacity')\n",
    "        if winter_capacity is None:\n",
    "            continue  # Skip if the capacity is missing\n",
    "        \n",
    "        # Add the capacity to the total and increment the count\n",
    "        total_capacity += winter_capacity\n",
    "        count += 1\n",
    "\n",
    "    # Return the average winter capacity (or 0 if no matching generators)\n",
    "    if count == 0:\n",
    "        return 0\n",
    "    return total_capacity / count"
   ]
  },
  {
   "cell_type": "code",
   "execution_count": 135,
   "id": "78769f6d",
   "metadata": {
    "deletable": false,
    "editable": false,
    "slideshow": {
     "slide_type": ""
    },
    "tags": []
   },
   "outputs": [
    {
     "name": "stdout",
     "output_type": "stream",
     "text": [
      "Make sure you saved the notebook before running this cell. Running check for avg_winter_capacity_of...\n",
      "Great job! You passed all test cases for this question.\n"
     ]
    }
   ],
   "source": [
    "student_grader.check(\"avg_winter_capacity_of\")"
   ]
  },
  {
   "cell_type": "markdown",
   "id": "3b7fa53e",
   "metadata": {
    "deletable": false,
    "editable": false,
    "slideshow": {
     "slide_type": ""
    },
    "tags": []
   },
   "source": [
    "#### Project question 18"
   ]
  },
  {
   "cell_type": "markdown",
   "id": "5b216183",
   "metadata": {
    "deletable": false,
    "editable": false,
    "slideshow": {
     "slide_type": ""
    },
    "tags": []
   },
   "source": [
    "What is the **average** `net_winter_capacity` of all power generators that use the `technology` *Conventional Hydroelectric*?\n",
    "\n",
    "You **must** use the `avg_winter_capacity_of` function to answer this question."
   ]
  },
  {
   "cell_type": "markdown",
   "id": "3fcc4ada",
   "metadata": {
    "deletable": false,
    "editable": false
   },
   "source": [
    "Points possible: 2"
   ]
  },
  {
   "cell_type": "code",
   "execution_count": 136,
   "id": "1327b28f",
   "metadata": {
    "deletable": false,
    "editable": true,
    "slideshow": {
     "slide_type": ""
    },
    "tags": [
     "q18-code"
    ]
   },
   "outputs": [
    {
     "data": {
      "text/plain": [
       "1.7491304347826093"
      ]
     },
     "execution_count": 136,
     "metadata": {},
     "output_type": "execute_result"
    }
   ],
   "source": [
    "# Replace the ... with your code to compute the average winter capacity\n",
    "hydro_avg_winter_capacity = avg_winter_capacity_of(\"Conventional Hydroelectric\")\n",
    "\n",
    "# Output the result\n",
    "hydro_avg_winter_capacity"
   ]
  },
  {
   "cell_type": "code",
   "execution_count": 137,
   "id": "c1fbe562",
   "metadata": {
    "deletable": false,
    "editable": false,
    "slideshow": {
     "slide_type": ""
    },
    "tags": []
   },
   "outputs": [
    {
     "name": "stdout",
     "output_type": "stream",
     "text": [
      "Make sure you saved the notebook before running this cell. Running check for q18...\n",
      "Great job! You passed all test cases for this question.\n"
     ]
    }
   ],
   "source": [
    "student_grader.check(\"q18\")"
   ]
  },
  {
   "cell_type": "markdown",
   "id": "474f9172",
   "metadata": {
    "deletable": false,
    "editable": false,
    "slideshow": {
     "slide_type": ""
    },
    "tags": []
   },
   "source": [
    "#### Project question 19"
   ]
  },
  {
   "cell_type": "markdown",
   "id": "a8c3a5c4",
   "metadata": {
    "deletable": false,
    "editable": false,
    "slideshow": {
     "slide_type": ""
    },
    "tags": []
   },
   "source": [
    "Which `technology` has the **highest** `net_winter_capacity` on **average**?\n",
    "\n",
    "You **must** use the `avg_winter_capacity_of` function to answer this question. You do **not** have to worry about any ties. There is a **unique** technology with the highest `net_winter_capacity` on average.\n",
    "\n",
    "**Hint**: You already created a list of the **unique** technologies to answer Question 1. Loop through that list and find which of those technologies has the **highest** average `net_winter_capacity` (using `avg_winter_capacity_of`)."
   ]
  },
  {
   "cell_type": "markdown",
   "id": "e4884189",
   "metadata": {
    "deletable": false,
    "editable": false,
    "slideshow": {
     "slide_type": ""
    },
    "tags": []
   },
   "source": [
    "Points possible: 5"
   ]
  },
  {
   "cell_type": "code",
   "execution_count": 138,
   "id": "cb4b3515",
   "metadata": {
    "deletable": false,
    "editable": true,
    "slideshow": {
     "slide_type": ""
    },
    "tags": [
     "q19-code"
    ]
   },
   "outputs": [
    {
     "data": {
      "text/plain": [
       "'Nuclear'"
      ]
     },
     "execution_count": 138,
     "metadata": {},
     "output_type": "execute_result"
    }
   ],
   "source": [
    "# Initialize variables to track the technology with the highest average net_winter_capacity\n",
    "max_winter_capacity_tech = None\n",
    "max_avg_capacity = 0\n",
    "\n",
    "# List of unique technologies (assuming you've already created this list)\n",
    "unique_technologies = list(set([cell(i, 'technology') for i in range(num_rows)]))\n",
    "\n",
    "# Loop through the unique technologies and find the one with the highest average net_winter_capacity\n",
    "for tech in unique_technologies:\n",
    "    avg_capacity = avg_winter_capacity_of(tech)\n",
    "    \n",
    "    # Update if this technology has a higher average capacity than the current maximum\n",
    "    if avg_capacity > max_avg_capacity:\n",
    "        max_avg_capacity = avg_capacity\n",
    "        max_winter_capacity_tech = tech\n",
    "\n",
    "# Output the technology with the highest average net_winter_capacity\n",
    "max_winter_capacity_tech"
   ]
  },
  {
   "cell_type": "code",
   "execution_count": 139,
   "id": "1b83591a",
   "metadata": {
    "deletable": false,
    "editable": false,
    "slideshow": {
     "slide_type": ""
    },
    "tags": []
   },
   "outputs": [
    {
     "name": "stdout",
     "output_type": "stream",
     "text": [
      "Make sure you saved the notebook before running this cell. Running check for q19...\n",
      "Great job! You passed all test cases for this question.\n"
     ]
    }
   ],
   "source": [
    "student_grader.check(\"q19\")"
   ]
  },
  {
   "cell_type": "markdown",
   "id": "d09d85d5",
   "metadata": {
    "deletable": false,
    "editable": false,
    "slideshow": {
     "slide_type": ""
    },
    "tags": []
   },
   "source": [
    "#### Project question 20"
   ]
  },
  {
   "cell_type": "markdown",
   "id": "d52113b6",
   "metadata": {
    "deletable": false,
    "editable": false,
    "slideshow": {
     "slide_type": ""
    },
    "tags": []
   },
   "source": [
    "Find the **difference** between the **average** net winter capacities of the `technology` with the **highest** average and the **second highest** average.\n",
    "\n",
    "You must use the `avg_winter_capacity_of` function to answer this question.\n",
    "\n",
    "**Hint**: You have already found the `technology` with the **highest** average. You need to find the `technology` with the **second highest** average, and find the difference between their average net winter capacities using the `avg_winter_capacity_of` function.\n",
    "\n",
    "**Extra Hint**: If you create a list of average winter capacities and then sort it in reverse order, the first and second items will be the items with the highest and second highest values, respectively."
   ]
  },
  {
   "cell_type": "markdown",
   "id": "5d0320a0",
   "metadata": {
    "deletable": false,
    "editable": false
   },
   "source": [
    "Points possible: 4"
   ]
  },
  {
   "cell_type": "code",
   "execution_count": 140,
   "id": "fda50bf0",
   "metadata": {
    "deletable": false,
    "editable": true,
    "slideshow": {
     "slide_type": ""
    },
    "tags": [
     "q20-code"
    ]
   },
   "outputs": [
    {
     "data": {
      "text/plain": [
       "271.00000000000006"
      ]
     },
     "execution_count": 140,
     "metadata": {},
     "output_type": "execute_result"
    }
   ],
   "source": [
    "# Step 1: Create a list of average winter capacities for each technology\n",
    "avg_winter_capacities = []\n",
    "\n",
    "# List of unique technologies (assuming you've already created this list)\n",
    "unique_technologies = list(set([cell(i, 'technology') for i in range(num_rows)]))\n",
    "\n",
    "# Loop through the unique technologies and calculate their average net_winter_capacity\n",
    "for tech in unique_technologies:\n",
    "    avg_winter_capacities.append((tech, avg_winter_capacity_of(tech)))\n",
    "\n",
    "# Step 2: Sort the list of average capacities in descending order based on the average values\n",
    "avg_winter_capacities.sort(key=lambda x: x[1], reverse=True)\n",
    "\n",
    "# Step 3: Find the difference between the highest and second highest average net_winter_capacity\n",
    "diff_avg_winter_capacity = avg_winter_capacities[0][1] - avg_winter_capacities[1][1]\n",
    "\n",
    "# Output the difference\n",
    "diff_avg_winter_capacity"
   ]
  },
  {
   "cell_type": "code",
   "execution_count": 141,
   "id": "08873f8e",
   "metadata": {
    "deletable": false,
    "editable": false,
    "slideshow": {
     "slide_type": ""
    },
    "tags": []
   },
   "outputs": [
    {
     "name": "stdout",
     "output_type": "stream",
     "text": [
      "Make sure you saved the notebook before running this cell. Running check for q20...\n",
      "Great job! You passed all test cases for this question.\n"
     ]
    }
   ],
   "source": [
    "student_grader.check(\"q20\")"
   ]
  },
  {
   "cell_type": "markdown",
   "id": "296fd5c0",
   "metadata": {
    "deletable": false,
    "editable": false,
    "slideshow": {
     "slide_type": ""
    },
    "tags": []
   },
   "source": [
    "## Submission and Grading"
   ]
  },
  {
   "cell_type": "markdown",
   "id": "8fe085fb",
   "metadata": {
    "deletable": false,
    "editable": false,
    "slideshow": {
     "slide_type": ""
    },
    "tags": []
   },
   "source": [
    "**Congrats on finishing p6!**\n",
    "\n",
    "Now, please submit your `p6.ipynb` file on gradescope. This will follow the exact same process you used when submitting earlier projects. Please post on Piazza if you run into any issues when uploading your notebook to gradescope."
   ]
  }
 ],
 "metadata": {
  "kernelspec": {
   "display_name": "Python 3 (ipykernel)",
   "language": "python",
   "name": "python3"
  },
  "language_info": {
   "codemirror_mode": {
    "name": "ipython",
    "version": 3
   },
   "file_extension": ".py",
   "mimetype": "text/x-python",
   "name": "python",
   "nbconvert_exporter": "python",
   "pygments_lexer": "ipython3",
   "version": "3.10.12"
  },
  "semester": "f24"
 },
 "nbformat": 4,
 "nbformat_minor": 5
}
